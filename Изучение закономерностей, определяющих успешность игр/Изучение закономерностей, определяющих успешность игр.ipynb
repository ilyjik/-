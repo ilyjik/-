{
 "cells": [
  {
   "cell_type": "markdown",
   "metadata": {},
   "source": [
    "<h1>Сборный проект</h1>"
   ]
  },
  {
   "cell_type": "markdown",
   "metadata": {},
   "source": [
    "Интернет-магазин «Стримчик», который продаёт по всему миру компьютерные игры хочет выявить определяющие успешность игры закономерности. Это позволит сделать ставку на потенциально популярный продукт и спланировать рекламные кампании. Из открытых источников доступны исторические данные о продажах игр, оценки пользователей и экспертов, жанры и платформы (например, Xbox или PlayStation). "
   ]
  },
  {
   "cell_type": "markdown",
   "metadata": {},
   "source": [
    "<h1>Описание данных</h1>"
   ]
  },
  {
   "cell_type": "markdown",
   "metadata": {},
   "source": [
    "Name — название игры\n",
    "\n",
    "Platform — платформа\n",
    "\n",
    "Year_of_Release — год выпуска\n",
    "\n",
    "Genre — жанр игры\n",
    "\n",
    "NA_sales — продажи в Северной Америке (миллионы проданных копий)\n",
    "\n",
    "EU_sales — продажи в Европе (миллионы проданных копий)\n",
    "\n",
    "JP_sales — продажи в Японии (миллионы проданных копий)\n",
    "\n",
    "Other_sales — продажи в других странах (миллионы проданных копий)\n",
    "\n",
    "Critic_Score — оценка критиков (максимум 100)\n",
    "\n",
    "User_Score — оценка пользователей (максимум 10)\n",
    "\n",
    "Rating — рейтинг от организации ESRB (англ. Entertainment Software Rating Board). Эта ассоциация определяет рейтинг компьютерных игр и присваивает им подходящую возрастную категорию."
   ]
  },
  {
   "cell_type": "markdown",
   "metadata": {},
   "source": [
    "<h1>Содержание<span class=\"tocSkip\"></span></h1>\n",
    "<div class=\"toc\"><ul class=\"toc-item\"><li><span><a href=\"#Изучение-данных-из-файла\" data-toc-modified-id=\"Изучение-данных-из-файла-1\"><span class=\"toc-item-num\">1&nbsp;&nbsp;</span>Изучение данных из файла</a></span><li><span><a href=\"#Предобработка-данных\" data-toc-modified-id=\"Предобработка-данных-2\"><span class=\"toc-item-num\">2&nbsp;&nbsp;</span>Предобработка данных</a></span></li><li><span><a href=\"#Анализ-данных\" data-toc-modified-id=\"Анализ-данных-3\"><span class=\"toc-item-num\">3&nbsp;&nbsp;</span>Анализ данных</a></span></li><li><span><a href=\"#Портрет-пользователя\" data-toc-modified-id=\"Портрет-пользователя-4\"><span class=\"toc-item-num\">4&nbsp;&nbsp;</span>Портрет пользователя</a></span></li><li><span><a href=\"#Проверка-гипотез\" data-toc-modified-id=\"Проверка-гипотез-5\"><span class=\"toc-item-num\">5&nbsp;&nbsp;</span>Проверка гипотез</a></span></li><li><span><a href=\"#Общий-вывод\" data-toc-modified-id=\"Общий-вывод-6\"><span class=\"toc-item-num\">6&nbsp;&nbsp;</span>Общий вывод</a></span></li>"
   ]
  },
  {
   "cell_type": "markdown",
   "metadata": {},
   "source": [
    "## Изучение данных из файла"
   ]
  },
  {
   "cell_type": "code",
   "execution_count": 1,
   "metadata": {},
   "outputs": [],
   "source": [
    "import pandas as pd\n",
    "import numpy as np\n",
    "import matplotlib.pyplot as plt\n",
    "from scipy import stats as st\n",
    "import seaborn as sns"
   ]
  },
  {
   "cell_type": "code",
   "execution_count": 2,
   "metadata": {},
   "outputs": [
    {
     "name": "stdout",
     "output_type": "stream",
     "text": [
      "<class 'pandas.core.frame.DataFrame'>\n",
      "RangeIndex: 16715 entries, 0 to 16714\n",
      "Data columns (total 11 columns):\n",
      " #   Column           Non-Null Count  Dtype  \n",
      "---  ------           --------------  -----  \n",
      " 0   Name             16713 non-null  object \n",
      " 1   Platform         16715 non-null  object \n",
      " 2   Year_of_Release  16446 non-null  float64\n",
      " 3   Genre            16713 non-null  object \n",
      " 4   NA_sales         16715 non-null  float64\n",
      " 5   EU_sales         16715 non-null  float64\n",
      " 6   JP_sales         16715 non-null  float64\n",
      " 7   Other_sales      16715 non-null  float64\n",
      " 8   Critic_Score     8137 non-null   float64\n",
      " 9   User_Score       10014 non-null  object \n",
      " 10  Rating           9949 non-null   object \n",
      "dtypes: float64(6), object(5)\n",
      "memory usage: 1.4+ MB\n"
     ]
    },
    {
     "data": {
      "text/plain": [
       "None"
      ]
     },
     "metadata": {},
     "output_type": "display_data"
    },
    {
     "data": {
      "text/html": [
       "<div>\n",
       "<style scoped>\n",
       "    .dataframe tbody tr th:only-of-type {\n",
       "        vertical-align: middle;\n",
       "    }\n",
       "\n",
       "    .dataframe tbody tr th {\n",
       "        vertical-align: top;\n",
       "    }\n",
       "\n",
       "    .dataframe thead th {\n",
       "        text-align: right;\n",
       "    }\n",
       "</style>\n",
       "<table border=\"1\" class=\"dataframe\">\n",
       "  <thead>\n",
       "    <tr style=\"text-align: right;\">\n",
       "      <th></th>\n",
       "      <th>Name</th>\n",
       "      <th>Platform</th>\n",
       "      <th>Year_of_Release</th>\n",
       "      <th>Genre</th>\n",
       "      <th>NA_sales</th>\n",
       "      <th>EU_sales</th>\n",
       "      <th>JP_sales</th>\n",
       "      <th>Other_sales</th>\n",
       "      <th>Critic_Score</th>\n",
       "      <th>User_Score</th>\n",
       "      <th>Rating</th>\n",
       "    </tr>\n",
       "  </thead>\n",
       "  <tbody>\n",
       "    <tr>\n",
       "      <th>0</th>\n",
       "      <td>Wii Sports</td>\n",
       "      <td>Wii</td>\n",
       "      <td>2006.0</td>\n",
       "      <td>Sports</td>\n",
       "      <td>41.36</td>\n",
       "      <td>28.96</td>\n",
       "      <td>3.77</td>\n",
       "      <td>8.45</td>\n",
       "      <td>76.0</td>\n",
       "      <td>8</td>\n",
       "      <td>E</td>\n",
       "    </tr>\n",
       "    <tr>\n",
       "      <th>1</th>\n",
       "      <td>Super Mario Bros.</td>\n",
       "      <td>NES</td>\n",
       "      <td>1985.0</td>\n",
       "      <td>Platform</td>\n",
       "      <td>29.08</td>\n",
       "      <td>3.58</td>\n",
       "      <td>6.81</td>\n",
       "      <td>0.77</td>\n",
       "      <td>NaN</td>\n",
       "      <td>NaN</td>\n",
       "      <td>NaN</td>\n",
       "    </tr>\n",
       "    <tr>\n",
       "      <th>2</th>\n",
       "      <td>Mario Kart Wii</td>\n",
       "      <td>Wii</td>\n",
       "      <td>2008.0</td>\n",
       "      <td>Racing</td>\n",
       "      <td>15.68</td>\n",
       "      <td>12.76</td>\n",
       "      <td>3.79</td>\n",
       "      <td>3.29</td>\n",
       "      <td>82.0</td>\n",
       "      <td>8.3</td>\n",
       "      <td>E</td>\n",
       "    </tr>\n",
       "    <tr>\n",
       "      <th>3</th>\n",
       "      <td>Wii Sports Resort</td>\n",
       "      <td>Wii</td>\n",
       "      <td>2009.0</td>\n",
       "      <td>Sports</td>\n",
       "      <td>15.61</td>\n",
       "      <td>10.93</td>\n",
       "      <td>3.28</td>\n",
       "      <td>2.95</td>\n",
       "      <td>80.0</td>\n",
       "      <td>8</td>\n",
       "      <td>E</td>\n",
       "    </tr>\n",
       "    <tr>\n",
       "      <th>4</th>\n",
       "      <td>Pokemon Red/Pokemon Blue</td>\n",
       "      <td>GB</td>\n",
       "      <td>1996.0</td>\n",
       "      <td>Role-Playing</td>\n",
       "      <td>11.27</td>\n",
       "      <td>8.89</td>\n",
       "      <td>10.22</td>\n",
       "      <td>1.00</td>\n",
       "      <td>NaN</td>\n",
       "      <td>NaN</td>\n",
       "      <td>NaN</td>\n",
       "    </tr>\n",
       "  </tbody>\n",
       "</table>\n",
       "</div>"
      ],
      "text/plain": [
       "                       Name Platform  Year_of_Release         Genre  NA_sales  \\\n",
       "0                Wii Sports      Wii           2006.0        Sports     41.36   \n",
       "1         Super Mario Bros.      NES           1985.0      Platform     29.08   \n",
       "2            Mario Kart Wii      Wii           2008.0        Racing     15.68   \n",
       "3         Wii Sports Resort      Wii           2009.0        Sports     15.61   \n",
       "4  Pokemon Red/Pokemon Blue       GB           1996.0  Role-Playing     11.27   \n",
       "\n",
       "   EU_sales  JP_sales  Other_sales  Critic_Score User_Score Rating  \n",
       "0     28.96      3.77         8.45          76.0          8      E  \n",
       "1      3.58      6.81         0.77           NaN        NaN    NaN  \n",
       "2     12.76      3.79         3.29          82.0        8.3      E  \n",
       "3     10.93      3.28         2.95          80.0          8      E  \n",
       "4      8.89     10.22         1.00           NaN        NaN    NaN  "
      ]
     },
     "metadata": {},
     "output_type": "display_data"
    },
    {
     "data": {
      "text/html": [
       "<div>\n",
       "<style scoped>\n",
       "    .dataframe tbody tr th:only-of-type {\n",
       "        vertical-align: middle;\n",
       "    }\n",
       "\n",
       "    .dataframe tbody tr th {\n",
       "        vertical-align: top;\n",
       "    }\n",
       "\n",
       "    .dataframe thead th {\n",
       "        text-align: right;\n",
       "    }\n",
       "</style>\n",
       "<table border=\"1\" class=\"dataframe\">\n",
       "  <thead>\n",
       "    <tr style=\"text-align: right;\">\n",
       "      <th></th>\n",
       "      <th>Name</th>\n",
       "      <th>Platform</th>\n",
       "      <th>Year_of_Release</th>\n",
       "      <th>Genre</th>\n",
       "      <th>NA_sales</th>\n",
       "      <th>EU_sales</th>\n",
       "      <th>JP_sales</th>\n",
       "      <th>Other_sales</th>\n",
       "      <th>Critic_Score</th>\n",
       "      <th>User_Score</th>\n",
       "      <th>Rating</th>\n",
       "    </tr>\n",
       "  </thead>\n",
       "  <tbody>\n",
       "    <tr>\n",
       "      <th>16710</th>\n",
       "      <td>Samurai Warriors: Sanada Maru</td>\n",
       "      <td>PS3</td>\n",
       "      <td>2016.0</td>\n",
       "      <td>Action</td>\n",
       "      <td>0.00</td>\n",
       "      <td>0.00</td>\n",
       "      <td>0.01</td>\n",
       "      <td>0.0</td>\n",
       "      <td>NaN</td>\n",
       "      <td>NaN</td>\n",
       "      <td>NaN</td>\n",
       "    </tr>\n",
       "    <tr>\n",
       "      <th>16711</th>\n",
       "      <td>LMA Manager 2007</td>\n",
       "      <td>X360</td>\n",
       "      <td>2006.0</td>\n",
       "      <td>Sports</td>\n",
       "      <td>0.00</td>\n",
       "      <td>0.01</td>\n",
       "      <td>0.00</td>\n",
       "      <td>0.0</td>\n",
       "      <td>NaN</td>\n",
       "      <td>NaN</td>\n",
       "      <td>NaN</td>\n",
       "    </tr>\n",
       "    <tr>\n",
       "      <th>16712</th>\n",
       "      <td>Haitaka no Psychedelica</td>\n",
       "      <td>PSV</td>\n",
       "      <td>2016.0</td>\n",
       "      <td>Adventure</td>\n",
       "      <td>0.00</td>\n",
       "      <td>0.00</td>\n",
       "      <td>0.01</td>\n",
       "      <td>0.0</td>\n",
       "      <td>NaN</td>\n",
       "      <td>NaN</td>\n",
       "      <td>NaN</td>\n",
       "    </tr>\n",
       "    <tr>\n",
       "      <th>16713</th>\n",
       "      <td>Spirits &amp; Spells</td>\n",
       "      <td>GBA</td>\n",
       "      <td>2003.0</td>\n",
       "      <td>Platform</td>\n",
       "      <td>0.01</td>\n",
       "      <td>0.00</td>\n",
       "      <td>0.00</td>\n",
       "      <td>0.0</td>\n",
       "      <td>NaN</td>\n",
       "      <td>NaN</td>\n",
       "      <td>NaN</td>\n",
       "    </tr>\n",
       "    <tr>\n",
       "      <th>16714</th>\n",
       "      <td>Winning Post 8 2016</td>\n",
       "      <td>PSV</td>\n",
       "      <td>2016.0</td>\n",
       "      <td>Simulation</td>\n",
       "      <td>0.00</td>\n",
       "      <td>0.00</td>\n",
       "      <td>0.01</td>\n",
       "      <td>0.0</td>\n",
       "      <td>NaN</td>\n",
       "      <td>NaN</td>\n",
       "      <td>NaN</td>\n",
       "    </tr>\n",
       "  </tbody>\n",
       "</table>\n",
       "</div>"
      ],
      "text/plain": [
       "                                Name Platform  Year_of_Release       Genre  \\\n",
       "16710  Samurai Warriors: Sanada Maru      PS3           2016.0      Action   \n",
       "16711               LMA Manager 2007     X360           2006.0      Sports   \n",
       "16712        Haitaka no Psychedelica      PSV           2016.0   Adventure   \n",
       "16713               Spirits & Spells      GBA           2003.0    Platform   \n",
       "16714            Winning Post 8 2016      PSV           2016.0  Simulation   \n",
       "\n",
       "       NA_sales  EU_sales  JP_sales  Other_sales  Critic_Score User_Score  \\\n",
       "16710      0.00      0.00      0.01          0.0           NaN        NaN   \n",
       "16711      0.00      0.01      0.00          0.0           NaN        NaN   \n",
       "16712      0.00      0.00      0.01          0.0           NaN        NaN   \n",
       "16713      0.01      0.00      0.00          0.0           NaN        NaN   \n",
       "16714      0.00      0.00      0.01          0.0           NaN        NaN   \n",
       "\n",
       "      Rating  \n",
       "16710    NaN  \n",
       "16711    NaN  \n",
       "16712    NaN  \n",
       "16713    NaN  \n",
       "16714    NaN  "
      ]
     },
     "execution_count": 2,
     "metadata": {},
     "output_type": "execute_result"
    }
   ],
   "source": [
    "df = pd.read_csv('/datasets/games.csv')\n",
    "display(df.info())\n",
    "display(df.head())\n",
    "df.tail()"
   ]
  },
  {
   "cell_type": "markdown",
   "metadata": {},
   "source": [
    "## Предобработка данных"
   ]
  },
  {
   "cell_type": "markdown",
   "metadata": {},
   "source": [
    "Приведем названия столбцов к нижнему регистру"
   ]
  },
  {
   "cell_type": "code",
   "execution_count": 3,
   "metadata": {},
   "outputs": [
    {
     "data": {
      "text/plain": [
       "Index(['name', 'platform', 'year_of_release', 'genre', 'na_sales', 'eu_sales',\n",
       "       'jp_sales', 'other_sales', 'critic_score', 'user_score', 'rating'],\n",
       "      dtype='object')"
      ]
     },
     "execution_count": 3,
     "metadata": {},
     "output_type": "execute_result"
    }
   ],
   "source": [
    "df.columns = df.columns.str.lower()\n",
    "df.columns"
   ]
  },
  {
   "cell_type": "markdown",
   "metadata": {},
   "source": [
    "Изменим тип стобца year_of_release, т.к. год - это целое число."
   ]
  },
  {
   "cell_type": "code",
   "execution_count": 4,
   "metadata": {},
   "outputs": [
    {
     "name": "stdout",
     "output_type": "stream",
     "text": [
      "<class 'pandas.core.frame.DataFrame'>\n",
      "RangeIndex: 16715 entries, 0 to 16714\n",
      "Data columns (total 11 columns):\n",
      " #   Column           Non-Null Count  Dtype  \n",
      "---  ------           --------------  -----  \n",
      " 0   name             16713 non-null  object \n",
      " 1   platform         16715 non-null  object \n",
      " 2   year_of_release  16446 non-null  Int64  \n",
      " 3   genre            16713 non-null  object \n",
      " 4   na_sales         16715 non-null  float64\n",
      " 5   eu_sales         16715 non-null  float64\n",
      " 6   jp_sales         16715 non-null  float64\n",
      " 7   other_sales      16715 non-null  float64\n",
      " 8   critic_score     8137 non-null   float64\n",
      " 9   user_score       10014 non-null  object \n",
      " 10  rating           9949 non-null   object \n",
      "dtypes: Int64(1), float64(5), object(5)\n",
      "memory usage: 1.4+ MB\n"
     ]
    }
   ],
   "source": [
    "df['year_of_release'] = df['year_of_release'].astype('Int64')\n",
    "df.info()"
   ]
  },
  {
   "cell_type": "markdown",
   "metadata": {},
   "source": [
    "Заменим значение tbd в стобце user_score на nan, т.к. фактически это одно и то же."
   ]
  },
  {
   "cell_type": "code",
   "execution_count": 5,
   "metadata": {},
   "outputs": [
    {
     "name": "stdout",
     "output_type": "stream",
     "text": [
      "<class 'pandas.core.frame.DataFrame'>\n",
      "RangeIndex: 16715 entries, 0 to 16714\n",
      "Data columns (total 11 columns):\n",
      " #   Column           Non-Null Count  Dtype  \n",
      "---  ------           --------------  -----  \n",
      " 0   name             16713 non-null  object \n",
      " 1   platform         16715 non-null  object \n",
      " 2   year_of_release  16446 non-null  Int64  \n",
      " 3   genre            16713 non-null  object \n",
      " 4   na_sales         16715 non-null  float64\n",
      " 5   eu_sales         16715 non-null  float64\n",
      " 6   jp_sales         16715 non-null  float64\n",
      " 7   other_sales      16715 non-null  float64\n",
      " 8   critic_score     8137 non-null   float64\n",
      " 9   user_score       7590 non-null   float64\n",
      " 10  rating           9949 non-null   object \n",
      "dtypes: Int64(1), float64(6), object(4)\n",
      "memory usage: 1.4+ MB\n"
     ]
    }
   ],
   "source": [
    "df.loc[df['user_score'] == 'tbd', 'user_score'] = float('nan')\n",
    "df['user_score'] = df['user_score'].astype(float)\n",
    "df.info()"
   ]
  },
  {
   "cell_type": "markdown",
   "metadata": {},
   "source": [
    "Теперь заменим все отсутсвующие строки в столбце rating на \"unknown\", чтобы в дальнейшем эти значения были указаны на графиках."
   ]
  },
  {
   "cell_type": "code",
   "execution_count": 6,
   "metadata": {},
   "outputs": [
    {
     "data": {
      "text/plain": [
       "array(['E', nan, 'M', 'T', 'E10+', 'K-A', 'AO', 'EC', 'RP'], dtype=object)"
      ]
     },
     "metadata": {},
     "output_type": "display_data"
    },
    {
     "data": {
      "text/plain": [
       "array(['E', 'unknown', 'M', 'T', 'E10+', 'K-A', 'AO', 'EC', 'RP'],\n",
       "      dtype=object)"
      ]
     },
     "execution_count": 6,
     "metadata": {},
     "output_type": "execute_result"
    }
   ],
   "source": [
    "display(df['rating'].unique())\n",
    "df['rating'] = df['rating'].fillna('unknown')\n",
    "df['rating'].unique()"
   ]
  },
  {
   "cell_type": "markdown",
   "metadata": {},
   "source": [
    "Пропуски в столбцах critic_score и user_score заполним спец. значением."
   ]
  },
  {
   "cell_type": "code",
   "execution_count": 7,
   "metadata": {},
   "outputs": [
    {
     "name": "stdout",
     "output_type": "stream",
     "text": [
      "<class 'pandas.core.frame.DataFrame'>\n",
      "RangeIndex: 16715 entries, 0 to 16714\n",
      "Data columns (total 11 columns):\n",
      " #   Column           Non-Null Count  Dtype  \n",
      "---  ------           --------------  -----  \n",
      " 0   name             16713 non-null  object \n",
      " 1   platform         16715 non-null  object \n",
      " 2   year_of_release  16446 non-null  Int64  \n",
      " 3   genre            16713 non-null  object \n",
      " 4   na_sales         16715 non-null  float64\n",
      " 5   eu_sales         16715 non-null  float64\n",
      " 6   jp_sales         16715 non-null  float64\n",
      " 7   other_sales      16715 non-null  float64\n",
      " 8   critic_score     16715 non-null  float64\n",
      " 9   user_score       16715 non-null  float64\n",
      " 10  rating           16715 non-null  object \n",
      "dtypes: Int64(1), float64(6), object(4)\n",
      "memory usage: 1.4+ MB\n"
     ]
    }
   ],
   "source": [
    "df['critic_score'] = df['critic_score'].fillna(-1)\n",
    "df['user_score'] = df['user_score'].fillna(-1)\n",
    "df.info()"
   ]
  },
  {
   "cell_type": "markdown",
   "metadata": {},
   "source": [
    "Откинем строки, где не указаны название / жанр / год релиза (~2% данных)."
   ]
  },
  {
   "cell_type": "code",
   "execution_count": 8,
   "metadata": {},
   "outputs": [
    {
     "name": "stdout",
     "output_type": "stream",
     "text": [
      "<class 'pandas.core.frame.DataFrame'>\n",
      "Int64Index: 16713 entries, 0 to 16714\n",
      "Data columns (total 11 columns):\n",
      " #   Column           Non-Null Count  Dtype  \n",
      "---  ------           --------------  -----  \n",
      " 0   name             16713 non-null  object \n",
      " 1   platform         16713 non-null  object \n",
      " 2   year_of_release  16444 non-null  Int64  \n",
      " 3   genre            16713 non-null  object \n",
      " 4   na_sales         16713 non-null  float64\n",
      " 5   eu_sales         16713 non-null  float64\n",
      " 6   jp_sales         16713 non-null  float64\n",
      " 7   other_sales      16713 non-null  float64\n",
      " 8   critic_score     16713 non-null  float64\n",
      " 9   user_score       16713 non-null  float64\n",
      " 10  rating           16713 non-null  object \n",
      "dtypes: Int64(1), float64(6), object(4)\n",
      "memory usage: 1.5+ MB\n",
      "None\n",
      "<class 'pandas.core.frame.DataFrame'>\n",
      "Int64Index: 16444 entries, 0 to 16714\n",
      "Data columns (total 11 columns):\n",
      " #   Column           Non-Null Count  Dtype  \n",
      "---  ------           --------------  -----  \n",
      " 0   name             16444 non-null  object \n",
      " 1   platform         16444 non-null  object \n",
      " 2   year_of_release  16444 non-null  Int64  \n",
      " 3   genre            16444 non-null  object \n",
      " 4   na_sales         16444 non-null  float64\n",
      " 5   eu_sales         16444 non-null  float64\n",
      " 6   jp_sales         16444 non-null  float64\n",
      " 7   other_sales      16444 non-null  float64\n",
      " 8   critic_score     16444 non-null  float64\n",
      " 9   user_score       16444 non-null  float64\n",
      " 10  rating           16444 non-null  object \n",
      "dtypes: Int64(1), float64(6), object(4)\n",
      "memory usage: 1.5+ MB\n",
      "None\n",
      "<class 'pandas.core.frame.DataFrame'>\n",
      "Int64Index: 16444 entries, 0 to 16714\n",
      "Data columns (total 11 columns):\n",
      " #   Column           Non-Null Count  Dtype  \n",
      "---  ------           --------------  -----  \n",
      " 0   name             16444 non-null  object \n",
      " 1   platform         16444 non-null  object \n",
      " 2   year_of_release  16444 non-null  Int64  \n",
      " 3   genre            16444 non-null  object \n",
      " 4   na_sales         16444 non-null  float64\n",
      " 5   eu_sales         16444 non-null  float64\n",
      " 6   jp_sales         16444 non-null  float64\n",
      " 7   other_sales      16444 non-null  float64\n",
      " 8   critic_score     16444 non-null  float64\n",
      " 9   user_score       16444 non-null  float64\n",
      " 10  rating           16444 non-null  object \n",
      "dtypes: Int64(1), float64(6), object(4)\n",
      "memory usage: 1.5+ MB\n"
     ]
    }
   ],
   "source": [
    "df = df.loc[df['name'].isna() == False]\n",
    "print(df.info())\n",
    "df = df.loc[df['year_of_release'].isna() == False]\n",
    "print(df.info())\n",
    "df = df.loc[df['genre'].isna() == False]\n",
    "df.info()"
   ]
  },
  {
   "cell_type": "markdown",
   "metadata": {},
   "source": [
    "Посчитаем суммарные продажи во всех регионах."
   ]
  },
  {
   "cell_type": "code",
   "execution_count": 9,
   "metadata": {},
   "outputs": [
    {
     "data": {
      "text/html": [
       "<div>\n",
       "<style scoped>\n",
       "    .dataframe tbody tr th:only-of-type {\n",
       "        vertical-align: middle;\n",
       "    }\n",
       "\n",
       "    .dataframe tbody tr th {\n",
       "        vertical-align: top;\n",
       "    }\n",
       "\n",
       "    .dataframe thead th {\n",
       "        text-align: right;\n",
       "    }\n",
       "</style>\n",
       "<table border=\"1\" class=\"dataframe\">\n",
       "  <thead>\n",
       "    <tr style=\"text-align: right;\">\n",
       "      <th></th>\n",
       "      <th>name</th>\n",
       "      <th>platform</th>\n",
       "      <th>year_of_release</th>\n",
       "      <th>genre</th>\n",
       "      <th>na_sales</th>\n",
       "      <th>eu_sales</th>\n",
       "      <th>jp_sales</th>\n",
       "      <th>other_sales</th>\n",
       "      <th>critic_score</th>\n",
       "      <th>user_score</th>\n",
       "      <th>rating</th>\n",
       "      <th>sum_sales</th>\n",
       "    </tr>\n",
       "  </thead>\n",
       "  <tbody>\n",
       "    <tr>\n",
       "      <th>0</th>\n",
       "      <td>Wii Sports</td>\n",
       "      <td>Wii</td>\n",
       "      <td>2006</td>\n",
       "      <td>Sports</td>\n",
       "      <td>41.36</td>\n",
       "      <td>28.96</td>\n",
       "      <td>3.77</td>\n",
       "      <td>8.45</td>\n",
       "      <td>76.0</td>\n",
       "      <td>8.0</td>\n",
       "      <td>E</td>\n",
       "      <td>82.54</td>\n",
       "    </tr>\n",
       "    <tr>\n",
       "      <th>1</th>\n",
       "      <td>Super Mario Bros.</td>\n",
       "      <td>NES</td>\n",
       "      <td>1985</td>\n",
       "      <td>Platform</td>\n",
       "      <td>29.08</td>\n",
       "      <td>3.58</td>\n",
       "      <td>6.81</td>\n",
       "      <td>0.77</td>\n",
       "      <td>-1.0</td>\n",
       "      <td>-1.0</td>\n",
       "      <td>unknown</td>\n",
       "      <td>40.24</td>\n",
       "    </tr>\n",
       "    <tr>\n",
       "      <th>2</th>\n",
       "      <td>Mario Kart Wii</td>\n",
       "      <td>Wii</td>\n",
       "      <td>2008</td>\n",
       "      <td>Racing</td>\n",
       "      <td>15.68</td>\n",
       "      <td>12.76</td>\n",
       "      <td>3.79</td>\n",
       "      <td>3.29</td>\n",
       "      <td>82.0</td>\n",
       "      <td>8.3</td>\n",
       "      <td>E</td>\n",
       "      <td>35.52</td>\n",
       "    </tr>\n",
       "    <tr>\n",
       "      <th>3</th>\n",
       "      <td>Wii Sports Resort</td>\n",
       "      <td>Wii</td>\n",
       "      <td>2009</td>\n",
       "      <td>Sports</td>\n",
       "      <td>15.61</td>\n",
       "      <td>10.93</td>\n",
       "      <td>3.28</td>\n",
       "      <td>2.95</td>\n",
       "      <td>80.0</td>\n",
       "      <td>8.0</td>\n",
       "      <td>E</td>\n",
       "      <td>32.77</td>\n",
       "    </tr>\n",
       "    <tr>\n",
       "      <th>4</th>\n",
       "      <td>Pokemon Red/Pokemon Blue</td>\n",
       "      <td>GB</td>\n",
       "      <td>1996</td>\n",
       "      <td>Role-Playing</td>\n",
       "      <td>11.27</td>\n",
       "      <td>8.89</td>\n",
       "      <td>10.22</td>\n",
       "      <td>1.00</td>\n",
       "      <td>-1.0</td>\n",
       "      <td>-1.0</td>\n",
       "      <td>unknown</td>\n",
       "      <td>31.38</td>\n",
       "    </tr>\n",
       "  </tbody>\n",
       "</table>\n",
       "</div>"
      ],
      "text/plain": [
       "                       name platform  year_of_release         genre  na_sales  \\\n",
       "0                Wii Sports      Wii             2006        Sports     41.36   \n",
       "1         Super Mario Bros.      NES             1985      Platform     29.08   \n",
       "2            Mario Kart Wii      Wii             2008        Racing     15.68   \n",
       "3         Wii Sports Resort      Wii             2009        Sports     15.61   \n",
       "4  Pokemon Red/Pokemon Blue       GB             1996  Role-Playing     11.27   \n",
       "\n",
       "   eu_sales  jp_sales  other_sales  critic_score  user_score   rating  \\\n",
       "0     28.96      3.77         8.45          76.0         8.0        E   \n",
       "1      3.58      6.81         0.77          -1.0        -1.0  unknown   \n",
       "2     12.76      3.79         3.29          82.0         8.3        E   \n",
       "3     10.93      3.28         2.95          80.0         8.0        E   \n",
       "4      8.89     10.22         1.00          -1.0        -1.0  unknown   \n",
       "\n",
       "   sum_sales  \n",
       "0      82.54  \n",
       "1      40.24  \n",
       "2      35.52  \n",
       "3      32.77  \n",
       "4      31.38  "
      ]
     },
     "execution_count": 9,
     "metadata": {},
     "output_type": "execute_result"
    }
   ],
   "source": [
    "df['sum_sales'] = df['na_sales'] + df['eu_sales'] + df['jp_sales'] + df['other_sales']\n",
    "df.head()"
   ]
  },
  {
   "cell_type": "markdown",
   "metadata": {},
   "source": [
    "## Анализ данных"
   ]
  },
  {
   "cell_type": "markdown",
   "metadata": {},
   "source": [
    "Посмотрим сколько игр выпускалось в год."
   ]
  },
  {
   "cell_type": "code",
   "execution_count": 10,
   "metadata": {
    "scrolled": true
   },
   "outputs": [
    {
     "data": {
      "image/png": "[encoded data removed]",
      "text/plain": [
       "<Figure size 720x720 with 1 Axes>"
      ]
     },
     "metadata": {
      "needs_background": "light"
     },
     "output_type": "display_data"
    }
   ],
   "source": [
    "games_in_year = df.groupby('year_of_release')['name'].count()\n",
    "games_in_year.plot(kind='bar', grid=True, figsize=(10, 10))\n",
    "plt.title('Количество выпущенных игр за каждый год')\n",
    "plt.xlabel('Год')\n",
    "plt.ylabel('Количество игр')\n",
    "plt.show()"
   ]
  },
  {
   "cell_type": "markdown",
   "metadata": {},
   "source": [
    "Посмотрим продажи на платформах с наивысшими суммарными продажами."
   ]
  },
  {
   "cell_type": "code",
   "execution_count": 11,
   "metadata": {},
   "outputs": [
    {
     "data": {
      "text/html": [
       "<div>\n",
       "<style scoped>\n",
       "    .dataframe tbody tr th:only-of-type {\n",
       "        vertical-align: middle;\n",
       "    }\n",
       "\n",
       "    .dataframe tbody tr th {\n",
       "        vertical-align: top;\n",
       "    }\n",
       "\n",
       "    .dataframe thead th {\n",
       "        text-align: right;\n",
       "    }\n",
       "</style>\n",
       "<table border=\"1\" class=\"dataframe\">\n",
       "  <thead>\n",
       "    <tr style=\"text-align: right;\">\n",
       "      <th></th>\n",
       "      <th>platform</th>\n",
       "      <th>sum_sales</th>\n",
       "    </tr>\n",
       "  </thead>\n",
       "  <tbody>\n",
       "    <tr>\n",
       "      <th>0</th>\n",
       "      <td>PS2</td>\n",
       "      <td>1233.56</td>\n",
       "    </tr>\n",
       "    <tr>\n",
       "      <th>1</th>\n",
       "      <td>X360</td>\n",
       "      <td>961.24</td>\n",
       "    </tr>\n",
       "    <tr>\n",
       "      <th>2</th>\n",
       "      <td>PS3</td>\n",
       "      <td>931.34</td>\n",
       "    </tr>\n",
       "    <tr>\n",
       "      <th>3</th>\n",
       "      <td>Wii</td>\n",
       "      <td>891.18</td>\n",
       "    </tr>\n",
       "    <tr>\n",
       "      <th>4</th>\n",
       "      <td>DS</td>\n",
       "      <td>802.78</td>\n",
       "    </tr>\n",
       "    <tr>\n",
       "      <th>5</th>\n",
       "      <td>PS</td>\n",
       "      <td>727.58</td>\n",
       "    </tr>\n",
       "    <tr>\n",
       "      <th>6</th>\n",
       "      <td>PS4</td>\n",
       "      <td>314.14</td>\n",
       "    </tr>\n",
       "    <tr>\n",
       "      <th>7</th>\n",
       "      <td>GBA</td>\n",
       "      <td>312.88</td>\n",
       "    </tr>\n",
       "    <tr>\n",
       "      <th>8</th>\n",
       "      <td>PSP</td>\n",
       "      <td>289.53</td>\n",
       "    </tr>\n",
       "    <tr>\n",
       "      <th>9</th>\n",
       "      <td>3DS</td>\n",
       "      <td>257.81</td>\n",
       "    </tr>\n",
       "    <tr>\n",
       "      <th>10</th>\n",
       "      <td>PC</td>\n",
       "      <td>255.76</td>\n",
       "    </tr>\n",
       "    <tr>\n",
       "      <th>11</th>\n",
       "      <td>GB</td>\n",
       "      <td>254.43</td>\n",
       "    </tr>\n",
       "    <tr>\n",
       "      <th>12</th>\n",
       "      <td>XB</td>\n",
       "      <td>251.57</td>\n",
       "    </tr>\n",
       "    <tr>\n",
       "      <th>13</th>\n",
       "      <td>NES</td>\n",
       "      <td>251.05</td>\n",
       "    </tr>\n",
       "    <tr>\n",
       "      <th>14</th>\n",
       "      <td>N64</td>\n",
       "      <td>218.01</td>\n",
       "    </tr>\n",
       "    <tr>\n",
       "      <th>15</th>\n",
       "      <td>SNES</td>\n",
       "      <td>200.04</td>\n",
       "    </tr>\n",
       "    <tr>\n",
       "      <th>16</th>\n",
       "      <td>GC</td>\n",
       "      <td>196.73</td>\n",
       "    </tr>\n",
       "    <tr>\n",
       "      <th>17</th>\n",
       "      <td>XOne</td>\n",
       "      <td>159.32</td>\n",
       "    </tr>\n",
       "    <tr>\n",
       "      <th>18</th>\n",
       "      <td>2600</td>\n",
       "      <td>86.48</td>\n",
       "    </tr>\n",
       "    <tr>\n",
       "      <th>19</th>\n",
       "      <td>WiiU</td>\n",
       "      <td>82.19</td>\n",
       "    </tr>\n",
       "    <tr>\n",
       "      <th>20</th>\n",
       "      <td>PSV</td>\n",
       "      <td>53.81</td>\n",
       "    </tr>\n",
       "    <tr>\n",
       "      <th>21</th>\n",
       "      <td>SAT</td>\n",
       "      <td>33.59</td>\n",
       "    </tr>\n",
       "    <tr>\n",
       "      <th>22</th>\n",
       "      <td>GEN</td>\n",
       "      <td>28.35</td>\n",
       "    </tr>\n",
       "    <tr>\n",
       "      <th>23</th>\n",
       "      <td>DC</td>\n",
       "      <td>15.95</td>\n",
       "    </tr>\n",
       "    <tr>\n",
       "      <th>24</th>\n",
       "      <td>SCD</td>\n",
       "      <td>1.86</td>\n",
       "    </tr>\n",
       "    <tr>\n",
       "      <th>25</th>\n",
       "      <td>NG</td>\n",
       "      <td>1.44</td>\n",
       "    </tr>\n",
       "    <tr>\n",
       "      <th>26</th>\n",
       "      <td>WS</td>\n",
       "      <td>1.42</td>\n",
       "    </tr>\n",
       "    <tr>\n",
       "      <th>27</th>\n",
       "      <td>TG16</td>\n",
       "      <td>0.16</td>\n",
       "    </tr>\n",
       "    <tr>\n",
       "      <th>28</th>\n",
       "      <td>3DO</td>\n",
       "      <td>0.10</td>\n",
       "    </tr>\n",
       "    <tr>\n",
       "      <th>29</th>\n",
       "      <td>GG</td>\n",
       "      <td>0.04</td>\n",
       "    </tr>\n",
       "    <tr>\n",
       "      <th>30</th>\n",
       "      <td>PCFX</td>\n",
       "      <td>0.03</td>\n",
       "    </tr>\n",
       "  </tbody>\n",
       "</table>\n",
       "</div>"
      ],
      "text/plain": [
       "   platform  sum_sales\n",
       "0       PS2    1233.56\n",
       "1      X360     961.24\n",
       "2       PS3     931.34\n",
       "3       Wii     891.18\n",
       "4        DS     802.78\n",
       "5        PS     727.58\n",
       "6       PS4     314.14\n",
       "7       GBA     312.88\n",
       "8       PSP     289.53\n",
       "9       3DS     257.81\n",
       "10       PC     255.76\n",
       "11       GB     254.43\n",
       "12       XB     251.57\n",
       "13      NES     251.05\n",
       "14      N64     218.01\n",
       "15     SNES     200.04\n",
       "16       GC     196.73\n",
       "17     XOne     159.32\n",
       "18     2600      86.48\n",
       "19     WiiU      82.19\n",
       "20      PSV      53.81\n",
       "21      SAT      33.59\n",
       "22      GEN      28.35\n",
       "23       DC      15.95\n",
       "24      SCD       1.86\n",
       "25       NG       1.44\n",
       "26       WS       1.42\n",
       "27     TG16       0.16\n",
       "28      3DO       0.10\n",
       "29       GG       0.04\n",
       "30     PCFX       0.03"
      ]
     },
     "metadata": {},
     "output_type": "display_data"
    }
   ],
   "source": [
    "sales_in_year = df.groupby('platform')['sum_sales'].sum()\n",
    "sales_in_year = sales_in_year.sort_values(ascending=False).reset_index()\n",
    "display(sales_in_year)"
   ]
  },
  {
   "cell_type": "markdown",
   "metadata": {},
   "source": [
    "Возьмем топ 5 платформ."
   ]
  },
  {
   "cell_type": "code",
   "execution_count": 12,
   "metadata": {},
   "outputs": [
    {
     "data": {
      "text/html": [
       "<div>\n",
       "<style scoped>\n",
       "    .dataframe tbody tr th:only-of-type {\n",
       "        vertical-align: middle;\n",
       "    }\n",
       "\n",
       "    .dataframe tbody tr th {\n",
       "        vertical-align: top;\n",
       "    }\n",
       "\n",
       "    .dataframe thead th {\n",
       "        text-align: right;\n",
       "    }\n",
       "</style>\n",
       "<table border=\"1\" class=\"dataframe\">\n",
       "  <thead>\n",
       "    <tr style=\"text-align: right;\">\n",
       "      <th></th>\n",
       "      <th>platform</th>\n",
       "      <th>sum_sales</th>\n",
       "    </tr>\n",
       "  </thead>\n",
       "  <tbody>\n",
       "    <tr>\n",
       "      <th>0</th>\n",
       "      <td>PS2</td>\n",
       "      <td>1233.56</td>\n",
       "    </tr>\n",
       "    <tr>\n",
       "      <th>1</th>\n",
       "      <td>X360</td>\n",
       "      <td>961.24</td>\n",
       "    </tr>\n",
       "    <tr>\n",
       "      <th>2</th>\n",
       "      <td>PS3</td>\n",
       "      <td>931.34</td>\n",
       "    </tr>\n",
       "    <tr>\n",
       "      <th>3</th>\n",
       "      <td>Wii</td>\n",
       "      <td>891.18</td>\n",
       "    </tr>\n",
       "    <tr>\n",
       "      <th>4</th>\n",
       "      <td>DS</td>\n",
       "      <td>802.78</td>\n",
       "    </tr>\n",
       "  </tbody>\n",
       "</table>\n",
       "</div>"
      ],
      "text/plain": [
       "  platform  sum_sales\n",
       "0      PS2    1233.56\n",
       "1     X360     961.24\n",
       "2      PS3     931.34\n",
       "3      Wii     891.18\n",
       "4       DS     802.78"
      ]
     },
     "metadata": {},
     "output_type": "display_data"
    }
   ],
   "source": [
    "sales_in_year_top = sales_in_year[sales_in_year.index < 5]\n",
    "display(sales_in_year_top)"
   ]
  },
  {
   "cell_type": "code",
   "execution_count": 13,
   "metadata": {},
   "outputs": [
    {
     "data": {
      "image/png": "[encoded data removed]",
      "text/plain": [
       "<Figure size 216x216 with 1 Axes>"
      ]
     },
     "metadata": {
      "needs_background": "light"
     },
     "output_type": "display_data"
    }
   ],
   "source": [
    "games_in_year = df[df['platform'] == 'PS2'].groupby('year_of_release')['name'].count()\n",
    "games_in_year.plot(kind='bar', grid=True, figsize=(3, 3))\n",
    "plt.title('Количество выпущенных игр за каждый год на PS2')\n",
    "plt.xlabel('Год')\n",
    "plt.ylabel('Количество игр')\n",
    "plt.show()"
   ]
  },
  {
   "cell_type": "code",
   "execution_count": 14,
   "metadata": {},
   "outputs": [
    {
     "data": {
      "image/png": "[encoded data removed]",
      "text/plain": [
       "<Figure size 216x216 with 1 Axes>"
      ]
     },
     "metadata": {
      "needs_background": "light"
     },
     "output_type": "display_data"
    }
   ],
   "source": [
    "games_in_year = df[df['platform'] == 'X360'].groupby('year_of_release')['name'].count()\n",
    "games_in_year.plot(kind='bar', grid=True, figsize=(3, 3))\n",
    "plt.title('Количество выпущенных игр за каждый год на X360')\n",
    "plt.xlabel('Год')\n",
    "plt.ylabel('Количество игр')\n",
    "plt.show()"
   ]
  },
  {
   "cell_type": "code",
   "execution_count": 15,
   "metadata": {},
   "outputs": [
    {
     "data": {
      "image/png": "[encoded data removed]",
      "text/plain": [
       "<Figure size 216x216 with 1 Axes>"
      ]
     },
     "metadata": {
      "needs_background": "light"
     },
     "output_type": "display_data"
    }
   ],
   "source": [
    "games_in_year = df[df['platform'] == 'Wii'].groupby('year_of_release')['name'].count()\n",
    "games_in_year.plot(kind='bar', grid=True, figsize=(3, 3))\n",
    "plt.title('Количество выпущенных игр за каждый год на Wii')\n",
    "plt.xlabel('Год')\n",
    "plt.ylabel('Количество игр')\n",
    "plt.show()"
   ]
  },
  {
   "cell_type": "code",
   "execution_count": 16,
   "metadata": {},
   "outputs": [
    {
     "data": {
      "image/png": "[encoded data removed]",
      "text/plain": [
       "<Figure size 216x216 with 1 Axes>"
      ]
     },
     "metadata": {
      "needs_background": "light"
     },
     "output_type": "display_data"
    }
   ],
   "source": [
    "games_in_year = df[df['platform'] == 'PS3'].groupby('year_of_release')['name'].count()\n",
    "games_in_year.plot(kind='bar', grid=True, figsize=(3, 3))\n",
    "plt.title('Количество выпущенных игр за каждый год на PS3')\n",
    "plt.xlabel('Год')\n",
    "plt.ylabel('Количество игр')\n",
    "plt.show()"
   ]
  },
  {
   "cell_type": "code",
   "execution_count": 17,
   "metadata": {},
   "outputs": [
    {
     "data": {
      "image/png": "[encoded data removed]",
      "text/plain": [
       "<Figure size 216x216 with 1 Axes>"
      ]
     },
     "metadata": {
      "needs_background": "light"
     },
     "output_type": "display_data"
    }
   ],
   "source": [
    "games_in_year = df[df['platform'] == 'DS'].groupby('year_of_release')['name'].count()\n",
    "games_in_year.plot(kind='bar', grid=True, figsize=(3, 3))\n",
    "plt.title('Количество выпущенных игр за каждый год на DS')\n",
    "plt.xlabel('Год')\n",
    "plt.ylabel('Количество игр')\n",
    "plt.show()"
   ]
  },
  {
   "cell_type": "markdown",
   "metadata": {},
   "source": [
    "Платформы становятся популярными на следующий год после их выпуска, набирают популярность ~3 года, теряют популярность примерно столько же времени и уходят с рынка."
   ]
  },
  {
   "cell_type": "markdown",
   "metadata": {},
   "source": [
    "В связи с этим, для построения прогноза на 2017 год, необходимо учитывать данные за 2014+ года. В период с 2014 по 2017 должны найтись платформы на пике или на росте популярности."
   ]
  },
  {
   "cell_type": "code",
   "execution_count": 18,
   "metadata": {},
   "outputs": [
    {
     "data": {
      "text/html": [
       "<div>\n",
       "<style scoped>\n",
       "    .dataframe tbody tr th:only-of-type {\n",
       "        vertical-align: middle;\n",
       "    }\n",
       "\n",
       "    .dataframe tbody tr th {\n",
       "        vertical-align: top;\n",
       "    }\n",
       "\n",
       "    .dataframe thead th {\n",
       "        text-align: right;\n",
       "    }\n",
       "</style>\n",
       "<table border=\"1\" class=\"dataframe\">\n",
       "  <thead>\n",
       "    <tr style=\"text-align: right;\">\n",
       "      <th></th>\n",
       "      <th>name</th>\n",
       "      <th>platform</th>\n",
       "      <th>year_of_release</th>\n",
       "      <th>genre</th>\n",
       "      <th>na_sales</th>\n",
       "      <th>eu_sales</th>\n",
       "      <th>jp_sales</th>\n",
       "      <th>other_sales</th>\n",
       "      <th>critic_score</th>\n",
       "      <th>user_score</th>\n",
       "      <th>rating</th>\n",
       "      <th>sum_sales</th>\n",
       "    </tr>\n",
       "  </thead>\n",
       "  <tbody>\n",
       "    <tr>\n",
       "      <th>0</th>\n",
       "      <td>Call of Duty: Black Ops 3</td>\n",
       "      <td>PS4</td>\n",
       "      <td>2015</td>\n",
       "      <td>Shooter</td>\n",
       "      <td>6.03</td>\n",
       "      <td>5.86</td>\n",
       "      <td>0.36</td>\n",
       "      <td>2.38</td>\n",
       "      <td>-1.0</td>\n",
       "      <td>-1.0</td>\n",
       "      <td>unknown</td>\n",
       "      <td>14.63</td>\n",
       "    </tr>\n",
       "    <tr>\n",
       "      <th>1</th>\n",
       "      <td>Grand Theft Auto V</td>\n",
       "      <td>PS4</td>\n",
       "      <td>2014</td>\n",
       "      <td>Action</td>\n",
       "      <td>3.96</td>\n",
       "      <td>6.31</td>\n",
       "      <td>0.38</td>\n",
       "      <td>1.97</td>\n",
       "      <td>97.0</td>\n",
       "      <td>8.3</td>\n",
       "      <td>M</td>\n",
       "      <td>12.62</td>\n",
       "    </tr>\n",
       "    <tr>\n",
       "      <th>2</th>\n",
       "      <td>Pokemon Omega Ruby/Pokemon Alpha Sapphire</td>\n",
       "      <td>3DS</td>\n",
       "      <td>2014</td>\n",
       "      <td>Role-Playing</td>\n",
       "      <td>4.35</td>\n",
       "      <td>3.49</td>\n",
       "      <td>3.10</td>\n",
       "      <td>0.74</td>\n",
       "      <td>-1.0</td>\n",
       "      <td>-1.0</td>\n",
       "      <td>unknown</td>\n",
       "      <td>11.68</td>\n",
       "    </tr>\n",
       "    <tr>\n",
       "      <th>3</th>\n",
       "      <td>FIFA 16</td>\n",
       "      <td>PS4</td>\n",
       "      <td>2015</td>\n",
       "      <td>Sports</td>\n",
       "      <td>1.12</td>\n",
       "      <td>6.12</td>\n",
       "      <td>0.06</td>\n",
       "      <td>1.28</td>\n",
       "      <td>82.0</td>\n",
       "      <td>4.3</td>\n",
       "      <td>E</td>\n",
       "      <td>8.58</td>\n",
       "    </tr>\n",
       "    <tr>\n",
       "      <th>4</th>\n",
       "      <td>Star Wars Battlefront (2015)</td>\n",
       "      <td>PS4</td>\n",
       "      <td>2015</td>\n",
       "      <td>Shooter</td>\n",
       "      <td>2.99</td>\n",
       "      <td>3.49</td>\n",
       "      <td>0.22</td>\n",
       "      <td>1.28</td>\n",
       "      <td>-1.0</td>\n",
       "      <td>-1.0</td>\n",
       "      <td>unknown</td>\n",
       "      <td>7.98</td>\n",
       "    </tr>\n",
       "  </tbody>\n",
       "</table>\n",
       "</div>"
      ],
      "text/plain": [
       "                                        name platform  year_of_release  \\\n",
       "0                  Call of Duty: Black Ops 3      PS4             2015   \n",
       "1                         Grand Theft Auto V      PS4             2014   \n",
       "2  Pokemon Omega Ruby/Pokemon Alpha Sapphire      3DS             2014   \n",
       "3                                    FIFA 16      PS4             2015   \n",
       "4               Star Wars Battlefront (2015)      PS4             2015   \n",
       "\n",
       "          genre  na_sales  eu_sales  jp_sales  other_sales  critic_score  \\\n",
       "0       Shooter      6.03      5.86      0.36         2.38          -1.0   \n",
       "1        Action      3.96      6.31      0.38         1.97          97.0   \n",
       "2  Role-Playing      4.35      3.49      3.10         0.74          -1.0   \n",
       "3        Sports      1.12      6.12      0.06         1.28          82.0   \n",
       "4       Shooter      2.99      3.49      0.22         1.28          -1.0   \n",
       "\n",
       "   user_score   rating  sum_sales  \n",
       "0        -1.0  unknown      14.63  \n",
       "1         8.3        M      12.62  \n",
       "2        -1.0  unknown      11.68  \n",
       "3         4.3        E       8.58  \n",
       "4        -1.0  unknown       7.98  "
      ]
     },
     "execution_count": 18,
     "metadata": {},
     "output_type": "execute_result"
    }
   ],
   "source": [
    "df_actual = df[df['year_of_release'] >= 2014].reset_index(drop=True)\n",
    "df_actual.head()"
   ]
  },
  {
   "cell_type": "markdown",
   "metadata": {},
   "source": [
    "Посмотрим лидеров по продажам."
   ]
  },
  {
   "cell_type": "code",
   "execution_count": 19,
   "metadata": {},
   "outputs": [
    {
     "data": {
      "text/html": [
       "<div>\n",
       "<style scoped>\n",
       "    .dataframe tbody tr th:only-of-type {\n",
       "        vertical-align: middle;\n",
       "    }\n",
       "\n",
       "    .dataframe tbody tr th {\n",
       "        vertical-align: top;\n",
       "    }\n",
       "\n",
       "    .dataframe thead th {\n",
       "        text-align: right;\n",
       "    }\n",
       "</style>\n",
       "<table border=\"1\" class=\"dataframe\">\n",
       "  <thead>\n",
       "    <tr style=\"text-align: right;\">\n",
       "      <th></th>\n",
       "      <th>platform</th>\n",
       "      <th>sum_sales</th>\n",
       "    </tr>\n",
       "  </thead>\n",
       "  <tbody>\n",
       "    <tr>\n",
       "      <th>0</th>\n",
       "      <td>PS4</td>\n",
       "      <td>288.15</td>\n",
       "    </tr>\n",
       "    <tr>\n",
       "      <th>1</th>\n",
       "      <td>XOne</td>\n",
       "      <td>140.36</td>\n",
       "    </tr>\n",
       "    <tr>\n",
       "      <th>2</th>\n",
       "      <td>3DS</td>\n",
       "      <td>86.68</td>\n",
       "    </tr>\n",
       "    <tr>\n",
       "      <th>3</th>\n",
       "      <td>PS3</td>\n",
       "      <td>68.18</td>\n",
       "    </tr>\n",
       "    <tr>\n",
       "      <th>4</th>\n",
       "      <td>X360</td>\n",
       "      <td>48.22</td>\n",
       "    </tr>\n",
       "    <tr>\n",
       "      <th>5</th>\n",
       "      <td>WiiU</td>\n",
       "      <td>42.98</td>\n",
       "    </tr>\n",
       "    <tr>\n",
       "      <th>6</th>\n",
       "      <td>PC</td>\n",
       "      <td>27.05</td>\n",
       "    </tr>\n",
       "    <tr>\n",
       "      <th>7</th>\n",
       "      <td>PSV</td>\n",
       "      <td>22.40</td>\n",
       "    </tr>\n",
       "    <tr>\n",
       "      <th>8</th>\n",
       "      <td>Wii</td>\n",
       "      <td>5.07</td>\n",
       "    </tr>\n",
       "    <tr>\n",
       "      <th>9</th>\n",
       "      <td>PSP</td>\n",
       "      <td>0.36</td>\n",
       "    </tr>\n",
       "  </tbody>\n",
       "</table>\n",
       "</div>"
      ],
      "text/plain": [
       "  platform  sum_sales\n",
       "0      PS4     288.15\n",
       "1     XOne     140.36\n",
       "2      3DS      86.68\n",
       "3      PS3      68.18\n",
       "4     X360      48.22\n",
       "5     WiiU      42.98\n",
       "6       PC      27.05\n",
       "7      PSV      22.40\n",
       "8      Wii       5.07\n",
       "9      PSP       0.36"
      ]
     },
     "metadata": {},
     "output_type": "display_data"
    }
   ],
   "source": [
    "sales_in_year_actual = df_actual.groupby('platform')['sum_sales'].sum().sort_values(ascending=False).reset_index()\n",
    "display(sales_in_year_actual)"
   ]
  },
  {
   "cell_type": "code",
   "execution_count": 20,
   "metadata": {},
   "outputs": [
    {
     "data": {
      "image/png": "[encoded data removed]",
      "text/plain": [
       "<Figure size 216x216 with 1 Axes>"
      ]
     },
     "metadata": {
      "needs_background": "light"
     },
     "output_type": "display_data"
    },
    {
     "data": {
      "image/png": "[encoded data removed]",
      "text/plain": [
       "<Figure size 216x216 with 1 Axes>"
      ]
     },
     "metadata": {
      "needs_background": "light"
     },
     "output_type": "display_data"
    },
    {
     "data": {
      "image/png": "[encoded data removed]",
      "text/plain": [
       "<Figure size 216x216 with 1 Axes>"
      ]
     },
     "metadata": {
      "needs_background": "light"
     },
     "output_type": "display_data"
    },
    {
     "data": {
      "image/png": "[encoded data removed]",
      "text/plain": [
       "<Figure size 216x216 with 1 Axes>"
      ]
     },
     "metadata": {
      "needs_background": "light"
     },
     "output_type": "display_data"
    },
    {
     "data": {
      "image/png": "[encoded data removed]",
      "text/plain": [
       "<Figure size 216x216 with 1 Axes>"
      ]
     },
     "metadata": {
      "needs_background": "light"
     },
     "output_type": "display_data"
    },
    {
     "data": {
      "image/png": "[encoded data removed]",
      "text/plain": [
       "<Figure size 216x216 with 1 Axes>"
      ]
     },
     "metadata": {
      "needs_background": "light"
     },
     "output_type": "display_data"
    },
    {
     "data": {
      "image/png": "[encoded data removed]",
      "text/plain": [
       "<Figure size 216x216 with 1 Axes>"
      ]
     },
     "metadata": {
      "needs_background": "light"
     },
     "output_type": "display_data"
    },
    {
     "data": {
      "image/png": "[encoded data removed]",
      "text/plain": [
       "<Figure size 216x216 with 1 Axes>"
      ]
     },
     "metadata": {
      "needs_background": "light"
     },
     "output_type": "display_data"
    },
    {
     "data": {
      "image/png": "[encoded data removed]",
      "text/plain": [
       "<Figure size 216x216 with 1 Axes>"
      ]
     },
     "metadata": {
      "needs_background": "light"
     },
     "output_type": "display_data"
    },
    {
     "data": {
      "image/png": "[encoded data removed]",
      "text/plain": [
       "<Figure size 216x216 with 1 Axes>"
      ]
     },
     "metadata": {
      "needs_background": "light"
     },
     "output_type": "display_data"
    }
   ],
   "source": [
    "platform_actual = sales_in_year_actual['platform'].unique()\n",
    "for i in platform_actual:\n",
    "    games_in_year_actual = df_actual[df_actual['platform'] == i].groupby('year_of_release')['name'].count()\n",
    "    games_in_year_actual.plot(kind='bar', grid=True, figsize=(3, 3))\n",
    "    plt.title('Количество выпущенных игр за каждый год на платформе ' + str(i))\n",
    "    plt.xlabel('Год')\n",
    "    plt.ylabel('Количество игр')\n",
    "    plt.show()"
   ]
  },
  {
   "cell_type": "markdown",
   "metadata": {},
   "source": [
    "Потенциально прибыльными являются PS4, XOne и PC."
   ]
  },
  {
   "cell_type": "code",
   "execution_count": 21,
   "metadata": {},
   "outputs": [
    {
     "data": {
      "image/png": "[encoded data removed]",
      "text/plain": [
       "<Figure size 432x288 with 1 Axes>"
      ]
     },
     "metadata": {
      "needs_background": "light"
     },
     "output_type": "display_data"
    }
   ],
   "source": [
    "sns.boxplot(data=df_actual, x='platform', y='sum_sales').set_title('Диаграмма размаха продаж с разбивкой по платформам');"
   ]
  },
  {
   "cell_type": "code",
   "execution_count": 22,
   "metadata": {},
   "outputs": [
    {
     "data": {
      "text/plain": [
       "(0.0, 1.75)"
      ]
     },
     "execution_count": 22,
     "metadata": {},
     "output_type": "execute_result"
    },
    {
     "data": {
      "image/png": "[encoded data removed]",
      "text/plain": [
       "<Figure size 432x288 with 1 Axes>"
      ]
     },
     "metadata": {
      "needs_background": "light"
     },
     "output_type": "display_data"
    }
   ],
   "source": [
    "sns.boxplot(data=df_actual, x='platform', y='sum_sales').set_title('Диаграмма размаха продаж с разбивкой по платформам');\n",
    "plt.ylim(0, 1.75)"
   ]
  },
  {
   "cell_type": "markdown",
   "metadata": {},
   "source": [
    "Посмотрим как влияют на продажи отзывы пользователей и критиков (на примере топ 5 платформ по продажам)."
   ]
  },
  {
   "cell_type": "code",
   "execution_count": 23,
   "metadata": {},
   "outputs": [
    {
     "data": {
      "image/png": "[encoded data removed]",
      "text/plain": [
       "<Figure size 432x288 with 1 Axes>"
      ]
     },
     "metadata": {
      "needs_background": "light"
     },
     "output_type": "display_data"
    },
    {
     "name": "stdout",
     "output_type": "stream",
     "text": [
      "0.40266141068104083\n"
     ]
    },
    {
     "data": {
      "image/png": "[encoded data removed]",
      "text/plain": [
       "<Figure size 432x288 with 1 Axes>"
      ]
     },
     "metadata": {
      "needs_background": "light"
     },
     "output_type": "display_data"
    },
    {
     "name": "stdout",
     "output_type": "stream",
     "text": [
      "0.5257228356581523\n"
     ]
    },
    {
     "data": {
      "image/png": "[encoded data removed]",
      "text/plain": [
       "<Figure size 432x288 with 1 Axes>"
      ]
     },
     "metadata": {
      "needs_background": "light"
     },
     "output_type": "display_data"
    },
    {
     "name": "stdout",
     "output_type": "stream",
     "text": [
      "0.42867694370333226\n"
     ]
    },
    {
     "data": {
      "image/png": "[encoded data removed]",
      "text/plain": [
       "<Figure size 432x288 with 1 Axes>"
      ]
     },
     "metadata": {
      "needs_background": "light"
     },
     "output_type": "display_data"
    },
    {
     "name": "stdout",
     "output_type": "stream",
     "text": [
      "0.31411749286905105\n"
     ]
    },
    {
     "data": {
      "image/png": "[encoded data removed]",
      "text/plain": [
       "<Figure size 432x288 with 1 Axes>"
      ]
     },
     "metadata": {
      "needs_background": "light"
     },
     "output_type": "display_data"
    },
    {
     "name": "stdout",
     "output_type": "stream",
     "text": [
      "0.44657460493190704\n"
     ]
    }
   ],
   "source": [
    "for i in ('PS4', 'X360', 'XOne', '3DS', 'PS3'):\n",
    "    df_actual.query('platform == @i & critic_score != -1').plot(x='sum_sales', y='critic_score', kind='scatter', c='blue')\n",
    "    plt.title('Диаграмма рассеяния продаж в зависимости от оценок критиков на платформе ' + str(i))\n",
    "    plt.xlabel('Продажи')\n",
    "    plt.ylabel('Оценки')\n",
    "    plt.show()\n",
    "    print(df_actual.query('platform == @i & critic_score != -1')['sum_sales'].corr(df_actual.query('platform == @i & critic_score != -1')['critic_score']))"
   ]
  },
  {
   "cell_type": "code",
   "execution_count": 24,
   "metadata": {},
   "outputs": [
    {
     "data": {
      "image/png": "[encoded data removed]",
      "text/plain": [
       "<Figure size 432x288 with 1 Axes>"
      ]
     },
     "metadata": {
      "needs_background": "light"
     },
     "output_type": "display_data"
    },
    {
     "name": "stdout",
     "output_type": "stream",
     "text": [
      "-0.040131589472697356\n"
     ]
    },
    {
     "data": {
      "image/png": "[encoded data removed]",
      "text/plain": [
       "<Figure size 432x288 with 1 Axes>"
      ]
     },
     "metadata": {
      "needs_background": "light"
     },
     "output_type": "display_data"
    },
    {
     "name": "stdout",
     "output_type": "stream",
     "text": [
      "-0.138444570945665\n"
     ]
    },
    {
     "data": {
      "image/png": "[encoded data removed]",
      "text/plain": [
       "<Figure size 432x288 with 1 Axes>"
      ]
     },
     "metadata": {
      "needs_background": "light"
     },
     "output_type": "display_data"
    },
    {
     "name": "stdout",
     "output_type": "stream",
     "text": [
      "-0.0703839280647581\n"
     ]
    },
    {
     "data": {
      "image/png": "[encoded data removed]",
      "text/plain": [
       "<Figure size 432x288 with 1 Axes>"
      ]
     },
     "metadata": {
      "needs_background": "light"
     },
     "output_type": "display_data"
    },
    {
     "name": "stdout",
     "output_type": "stream",
     "text": [
      "0.2151932718527028\n"
     ]
    },
    {
     "data": {
      "image/png": "[encoded data removed]",
      "text/plain": [
       "<Figure size 432x288 with 1 Axes>"
      ]
     },
     "metadata": {
      "needs_background": "light"
     },
     "output_type": "display_data"
    },
    {
     "name": "stdout",
     "output_type": "stream",
     "text": [
      "-0.16676141347662116\n"
     ]
    }
   ],
   "source": [
    "for i in ('PS4', 'X360', 'XOne', '3DS', 'PS3'):\n",
    "    df_actual.query('platform == @i & user_score != -1').plot(x='sum_sales', y='user_score', kind='scatter', c='blue')\n",
    "    plt.title('Диаграмма рассеяния продаж в зависимости от оценок пользователей на платформе ' + str(i))\n",
    "    plt.xlabel('Продажи')\n",
    "    plt.ylabel('Оценки')\n",
    "    plt.show()\n",
    "    print(df_actual.query('platform == @i & user_score != -1')['sum_sales'].corr(df_actual.query('platform == @i & user_score != -1')['user_score']))"
   ]
  },
  {
   "cell_type": "markdown",
   "metadata": {},
   "source": [
    "Наблюдается зависимость между оценкой критиков и количеством продаж игры. От оценок пользователей продажи практически не зависят."
   ]
  },
  {
   "cell_type": "markdown",
   "metadata": {},
   "source": [
    "Посмотрим общую зависимость."
   ]
  },
  {
   "cell_type": "code",
   "execution_count": 25,
   "metadata": {},
   "outputs": [
    {
     "name": "stdout",
     "output_type": "stream",
     "text": [
      "0.17752291602352394\n"
     ]
    },
    {
     "data": {
      "text/plain": [
       "-0.013070305002484585"
      ]
     },
     "execution_count": 25,
     "metadata": {},
     "output_type": "execute_result"
    }
   ],
   "source": [
    "print(df_actual.query('user_score != -1')['sum_sales'].corr(df_actual.query('user_score != -1')['critic_score']))\n",
    "df_actual.query('user_score != -1')['sum_sales'].corr(df_actual.query('user_score != -1')['user_score'])"
   ]
  },
  {
   "cell_type": "markdown",
   "metadata": {},
   "source": [
    "Присутствует небольшая зависимость продаж от оценок критиков."
   ]
  },
  {
   "cell_type": "markdown",
   "metadata": {},
   "source": [
    "Посмотрим на самые прибыльные жанры."
   ]
  },
  {
   "cell_type": "code",
   "execution_count": 26,
   "metadata": {},
   "outputs": [
    {
     "data": {
      "image/png": "[encoded data removed]",
      "text/plain": [
       "<Figure size 432x288 with 1 Axes>"
      ]
     },
     "metadata": {
      "needs_background": "light"
     },
     "output_type": "display_data"
    }
   ],
   "source": [
    "sns.boxplot(data=df_actual, x='genre', y='sum_sales').set_title('Диаграмма размаха продаж с разбивкой по жанрам');\n",
    "sns.set(rc={'figure.figsize':(10,3)})"
   ]
  },
  {
   "cell_type": "code",
   "execution_count": 27,
   "metadata": {},
   "outputs": [
    {
     "data": {
      "text/plain": [
       "genre\n",
       "Action          199.36\n",
       "Shooter         170.94\n",
       "Sports          109.48\n",
       "Role-Playing    101.44\n",
       "Misc             37.55\n",
       "Fighting         28.22\n",
       "Racing           27.52\n",
       "Platform         18.09\n",
       "Adventure        17.55\n",
       "Simulation       13.13\n",
       "Strategy          3.96\n",
       "Puzzle            2.21\n",
       "Name: sum_sales, dtype: float64"
      ]
     },
     "metadata": {},
     "output_type": "display_data"
    },
    {
     "data": {
      "image/png": "[encoded data removed]",
      "text/plain": [
       "<Figure size 720x216 with 1 Axes>"
      ]
     },
     "metadata": {},
     "output_type": "display_data"
    }
   ],
   "source": [
    "display(df_actual.groupby('genre')['sum_sales'].sum().sort_values(ascending=False))\n",
    "sns.boxplot(data=df_actual, x='genre', y='sum_sales').set_title('Диаграмма размаха продаж с разбивкой по жанрам');\n",
    "plt.ylim(0, 4)\n",
    "sns.set(rc={'figure.figsize':(10,3)})"
   ]
  },
  {
   "cell_type": "markdown",
   "metadata": {},
   "source": [
    "Самым прибыльным жанром является shooter. При этом жанры sports и platformer чуть чаще \"выстреливают\"."
   ]
  },
  {
   "cell_type": "markdown",
   "metadata": {},
   "source": [
    "## Портрет пользователя"
   ]
  },
  {
   "cell_type": "markdown",
   "metadata": {},
   "source": [
    "Определим для пользователей каждого региона:\n",
    "\n",
    "самые популярные платформы (топ-5)\n",
    "\n",
    "самые популярные жанры (топ-5)\n",
    "\n",
    "влияет ли рейтинг ESRB на продажи в отдельном регионе?"
   ]
  },
  {
   "cell_type": "code",
   "execution_count": 28,
   "metadata": {},
   "outputs": [
    {
     "data": {
      "text/html": [
       "<div>\n",
       "<style scoped>\n",
       "    .dataframe tbody tr th:only-of-type {\n",
       "        vertical-align: middle;\n",
       "    }\n",
       "\n",
       "    .dataframe tbody tr th {\n",
       "        vertical-align: top;\n",
       "    }\n",
       "\n",
       "    .dataframe thead th {\n",
       "        text-align: right;\n",
       "    }\n",
       "</style>\n",
       "<table border=\"1\" class=\"dataframe\">\n",
       "  <thead>\n",
       "    <tr style=\"text-align: right;\">\n",
       "      <th></th>\n",
       "      <th>platform</th>\n",
       "      <th>na_sales</th>\n",
       "    </tr>\n",
       "  </thead>\n",
       "  <tbody>\n",
       "    <tr>\n",
       "      <th>0</th>\n",
       "      <td>PS4</td>\n",
       "      <td>98.61</td>\n",
       "    </tr>\n",
       "    <tr>\n",
       "      <th>1</th>\n",
       "      <td>XOne</td>\n",
       "      <td>81.27</td>\n",
       "    </tr>\n",
       "    <tr>\n",
       "      <th>2</th>\n",
       "      <td>X360</td>\n",
       "      <td>28.30</td>\n",
       "    </tr>\n",
       "    <tr>\n",
       "      <th>3</th>\n",
       "      <td>3DS</td>\n",
       "      <td>22.64</td>\n",
       "    </tr>\n",
       "    <tr>\n",
       "      <th>4</th>\n",
       "      <td>PS3</td>\n",
       "      <td>22.05</td>\n",
       "    </tr>\n",
       "    <tr>\n",
       "      <th>5</th>\n",
       "      <td>WiiU</td>\n",
       "      <td>19.36</td>\n",
       "    </tr>\n",
       "    <tr>\n",
       "      <th>6</th>\n",
       "      <td>PC</td>\n",
       "      <td>7.23</td>\n",
       "    </tr>\n",
       "    <tr>\n",
       "      <th>7</th>\n",
       "      <td>PSV</td>\n",
       "      <td>2.52</td>\n",
       "    </tr>\n",
       "    <tr>\n",
       "      <th>8</th>\n",
       "      <td>Wii</td>\n",
       "      <td>2.08</td>\n",
       "    </tr>\n",
       "    <tr>\n",
       "      <th>9</th>\n",
       "      <td>PSP</td>\n",
       "      <td>0.00</td>\n",
       "    </tr>\n",
       "  </tbody>\n",
       "</table>\n",
       "</div>"
      ],
      "text/plain": [
       "  platform  na_sales\n",
       "0      PS4     98.61\n",
       "1     XOne     81.27\n",
       "2     X360     28.30\n",
       "3      3DS     22.64\n",
       "4      PS3     22.05\n",
       "5     WiiU     19.36\n",
       "6       PC      7.23\n",
       "7      PSV      2.52\n",
       "8      Wii      2.08\n",
       "9      PSP      0.00"
      ]
     },
     "execution_count": 28,
     "metadata": {},
     "output_type": "execute_result"
    },
    {
     "data": {
      "image/png": "[encoded data removed]",
      "text/plain": [
       "<Figure size 720x216 with 1 Axes>"
      ]
     },
     "metadata": {},
     "output_type": "display_data"
    }
   ],
   "source": [
    "df_actual_sum = df_actual.groupby('platform')['na_sales'].sum().sort_values(ascending=False).reset_index()\n",
    "plt.pie(data=df_actual_sum, x='na_sales', labels='platform', autopct='%.0f%%', pctdistance=0.8);\n",
    "plt.title('Топ платформ в Северной Америке')\n",
    "df_actual_sum"
   ]
  },
  {
   "cell_type": "code",
   "execution_count": 29,
   "metadata": {},
   "outputs": [
    {
     "data": {
      "text/html": [
       "<div>\n",
       "<style scoped>\n",
       "    .dataframe tbody tr th:only-of-type {\n",
       "        vertical-align: middle;\n",
       "    }\n",
       "\n",
       "    .dataframe tbody tr th {\n",
       "        vertical-align: top;\n",
       "    }\n",
       "\n",
       "    .dataframe thead th {\n",
       "        text-align: right;\n",
       "    }\n",
       "</style>\n",
       "<table border=\"1\" class=\"dataframe\">\n",
       "  <thead>\n",
       "    <tr style=\"text-align: right;\">\n",
       "      <th></th>\n",
       "      <th>platform</th>\n",
       "      <th>eu_sales</th>\n",
       "    </tr>\n",
       "  </thead>\n",
       "  <tbody>\n",
       "    <tr>\n",
       "      <th>0</th>\n",
       "      <td>PS4</td>\n",
       "      <td>130.04</td>\n",
       "    </tr>\n",
       "    <tr>\n",
       "      <th>1</th>\n",
       "      <td>XOne</td>\n",
       "      <td>46.25</td>\n",
       "    </tr>\n",
       "    <tr>\n",
       "      <th>2</th>\n",
       "      <td>PS3</td>\n",
       "      <td>25.54</td>\n",
       "    </tr>\n",
       "    <tr>\n",
       "      <th>3</th>\n",
       "      <td>PC</td>\n",
       "      <td>17.97</td>\n",
       "    </tr>\n",
       "    <tr>\n",
       "      <th>4</th>\n",
       "      <td>3DS</td>\n",
       "      <td>16.12</td>\n",
       "    </tr>\n",
       "    <tr>\n",
       "      <th>5</th>\n",
       "      <td>X360</td>\n",
       "      <td>15.49</td>\n",
       "    </tr>\n",
       "    <tr>\n",
       "      <th>6</th>\n",
       "      <td>WiiU</td>\n",
       "      <td>13.15</td>\n",
       "    </tr>\n",
       "    <tr>\n",
       "      <th>7</th>\n",
       "      <td>PSV</td>\n",
       "      <td>3.53</td>\n",
       "    </tr>\n",
       "    <tr>\n",
       "      <th>8</th>\n",
       "      <td>Wii</td>\n",
       "      <td>2.59</td>\n",
       "    </tr>\n",
       "    <tr>\n",
       "      <th>9</th>\n",
       "      <td>PSP</td>\n",
       "      <td>0.00</td>\n",
       "    </tr>\n",
       "  </tbody>\n",
       "</table>\n",
       "</div>"
      ],
      "text/plain": [
       "  platform  eu_sales\n",
       "0      PS4    130.04\n",
       "1     XOne     46.25\n",
       "2      PS3     25.54\n",
       "3       PC     17.97\n",
       "4      3DS     16.12\n",
       "5     X360     15.49\n",
       "6     WiiU     13.15\n",
       "7      PSV      3.53\n",
       "8      Wii      2.59\n",
       "9      PSP      0.00"
      ]
     },
     "execution_count": 29,
     "metadata": {},
     "output_type": "execute_result"
    },
    {
     "data": {
      "image/png": "[encoded data removed]",
      "text/plain": [
       "<Figure size 720x216 with 1 Axes>"
      ]
     },
     "metadata": {},
     "output_type": "display_data"
    }
   ],
   "source": [
    "df_actual_sum = df_actual.groupby('platform')['eu_sales'].sum().sort_values(ascending=False).reset_index()\n",
    "plt.pie(data=df_actual_sum, x='eu_sales', labels='platform', autopct='%.0f%%', pctdistance=0.8);\n",
    "plt.title('Топ платформ в Европе')\n",
    "df_actual_sum"
   ]
  },
  {
   "cell_type": "code",
   "execution_count": 30,
   "metadata": {},
   "outputs": [
    {
     "data": {
      "text/html": [
       "<div>\n",
       "<style scoped>\n",
       "    .dataframe tbody tr th:only-of-type {\n",
       "        vertical-align: middle;\n",
       "    }\n",
       "\n",
       "    .dataframe tbody tr th {\n",
       "        vertical-align: top;\n",
       "    }\n",
       "\n",
       "    .dataframe thead th {\n",
       "        text-align: right;\n",
       "    }\n",
       "</style>\n",
       "<table border=\"1\" class=\"dataframe\">\n",
       "  <thead>\n",
       "    <tr style=\"text-align: right;\">\n",
       "      <th></th>\n",
       "      <th>platform</th>\n",
       "      <th>jp_sales</th>\n",
       "    </tr>\n",
       "  </thead>\n",
       "  <tbody>\n",
       "    <tr>\n",
       "      <th>0</th>\n",
       "      <td>3DS</td>\n",
       "      <td>44.24</td>\n",
       "    </tr>\n",
       "    <tr>\n",
       "      <th>1</th>\n",
       "      <td>PS4</td>\n",
       "      <td>15.02</td>\n",
       "    </tr>\n",
       "    <tr>\n",
       "      <th>2</th>\n",
       "      <td>PSV</td>\n",
       "      <td>14.54</td>\n",
       "    </tr>\n",
       "    <tr>\n",
       "      <th>3</th>\n",
       "      <td>PS3</td>\n",
       "      <td>11.22</td>\n",
       "    </tr>\n",
       "    <tr>\n",
       "      <th>4</th>\n",
       "      <td>WiiU</td>\n",
       "      <td>7.31</td>\n",
       "    </tr>\n",
       "    <tr>\n",
       "      <th>5</th>\n",
       "      <td>PSP</td>\n",
       "      <td>0.36</td>\n",
       "    </tr>\n",
       "    <tr>\n",
       "      <th>6</th>\n",
       "      <td>XOne</td>\n",
       "      <td>0.32</td>\n",
       "    </tr>\n",
       "    <tr>\n",
       "      <th>7</th>\n",
       "      <td>X360</td>\n",
       "      <td>0.08</td>\n",
       "    </tr>\n",
       "    <tr>\n",
       "      <th>8</th>\n",
       "      <td>PC</td>\n",
       "      <td>0.00</td>\n",
       "    </tr>\n",
       "    <tr>\n",
       "      <th>9</th>\n",
       "      <td>Wii</td>\n",
       "      <td>0.00</td>\n",
       "    </tr>\n",
       "  </tbody>\n",
       "</table>\n",
       "</div>"
      ],
      "text/plain": [
       "  platform  jp_sales\n",
       "0      3DS     44.24\n",
       "1      PS4     15.02\n",
       "2      PSV     14.54\n",
       "3      PS3     11.22\n",
       "4     WiiU      7.31\n",
       "5      PSP      0.36\n",
       "6     XOne      0.32\n",
       "7     X360      0.08\n",
       "8       PC      0.00\n",
       "9      Wii      0.00"
      ]
     },
     "execution_count": 30,
     "metadata": {},
     "output_type": "execute_result"
    },
    {
     "data": {
      "image/png": "[encoded data removed]",
      "text/plain": [
       "<Figure size 720x216 with 1 Axes>"
      ]
     },
     "metadata": {},
     "output_type": "display_data"
    }
   ],
   "source": [
    "df_actual_sum = df_actual.groupby('platform')['jp_sales'].sum().sort_values(ascending=False).reset_index()\n",
    "plt.pie(data=df_actual_sum, x='jp_sales', labels='platform', autopct='%.0f%%', pctdistance=0.8);\n",
    "plt.title('Топ платформ в Японии')\n",
    "df_actual_sum"
   ]
  },
  {
   "cell_type": "markdown",
   "metadata": {},
   "source": [
    "В Северной Америке и Европе распределения продаж примерно одинаковые: лидируют консоли (с явным преимуществом PS4 в Европе), далее идут консоли старого поколения, ПК и 3DS. В Японии очевидным лидером является 3DS, скорее всего это связано с популярностью данного бренда в Японии и удобством использования, т.к. это портативная консоль. При этом ПК находится внизу списка, что показывает любовь японцев к консолям."
   ]
  },
  {
   "cell_type": "code",
   "execution_count": 31,
   "metadata": {},
   "outputs": [
    {
     "data": {
      "text/html": [
       "<div>\n",
       "<style scoped>\n",
       "    .dataframe tbody tr th:only-of-type {\n",
       "        vertical-align: middle;\n",
       "    }\n",
       "\n",
       "    .dataframe tbody tr th {\n",
       "        vertical-align: top;\n",
       "    }\n",
       "\n",
       "    .dataframe thead th {\n",
       "        text-align: right;\n",
       "    }\n",
       "</style>\n",
       "<table border=\"1\" class=\"dataframe\">\n",
       "  <thead>\n",
       "    <tr style=\"text-align: right;\">\n",
       "      <th></th>\n",
       "      <th>genre</th>\n",
       "      <th>na_sales</th>\n",
       "    </tr>\n",
       "  </thead>\n",
       "  <tbody>\n",
       "    <tr>\n",
       "      <th>0</th>\n",
       "      <td>Shooter</td>\n",
       "      <td>79.02</td>\n",
       "    </tr>\n",
       "    <tr>\n",
       "      <th>1</th>\n",
       "      <td>Action</td>\n",
       "      <td>72.53</td>\n",
       "    </tr>\n",
       "    <tr>\n",
       "      <th>2</th>\n",
       "      <td>Sports</td>\n",
       "      <td>46.13</td>\n",
       "    </tr>\n",
       "    <tr>\n",
       "      <th>3</th>\n",
       "      <td>Role-Playing</td>\n",
       "      <td>33.47</td>\n",
       "    </tr>\n",
       "    <tr>\n",
       "      <th>4</th>\n",
       "      <td>Misc</td>\n",
       "      <td>15.05</td>\n",
       "    </tr>\n",
       "    <tr>\n",
       "      <th>5</th>\n",
       "      <td>Fighting</td>\n",
       "      <td>12.43</td>\n",
       "    </tr>\n",
       "    <tr>\n",
       "      <th>6</th>\n",
       "      <td>Racing</td>\n",
       "      <td>8.74</td>\n",
       "    </tr>\n",
       "    <tr>\n",
       "      <th>7</th>\n",
       "      <td>Platform</td>\n",
       "      <td>6.79</td>\n",
       "    </tr>\n",
       "    <tr>\n",
       "      <th>8</th>\n",
       "      <td>Adventure</td>\n",
       "      <td>5.64</td>\n",
       "    </tr>\n",
       "    <tr>\n",
       "      <th>9</th>\n",
       "      <td>Simulation</td>\n",
       "      <td>2.63</td>\n",
       "    </tr>\n",
       "    <tr>\n",
       "      <th>10</th>\n",
       "      <td>Strategy</td>\n",
       "      <td>0.98</td>\n",
       "    </tr>\n",
       "    <tr>\n",
       "      <th>11</th>\n",
       "      <td>Puzzle</td>\n",
       "      <td>0.65</td>\n",
       "    </tr>\n",
       "  </tbody>\n",
       "</table>\n",
       "</div>"
      ],
      "text/plain": [
       "           genre  na_sales\n",
       "0        Shooter     79.02\n",
       "1         Action     72.53\n",
       "2         Sports     46.13\n",
       "3   Role-Playing     33.47\n",
       "4           Misc     15.05\n",
       "5       Fighting     12.43\n",
       "6         Racing      8.74\n",
       "7       Platform      6.79\n",
       "8      Adventure      5.64\n",
       "9     Simulation      2.63\n",
       "10      Strategy      0.98\n",
       "11        Puzzle      0.65"
      ]
     },
     "execution_count": 31,
     "metadata": {},
     "output_type": "execute_result"
    },
    {
     "data": {
      "image/png": "[encoded data removed]",
      "text/plain": [
       "<Figure size 720x216 with 1 Axes>"
      ]
     },
     "metadata": {},
     "output_type": "display_data"
    }
   ],
   "source": [
    "df_actual_sum = df_actual.groupby('genre')['na_sales'].sum().sort_values(ascending=False).reset_index()\n",
    "plt.pie(data=df_actual_sum, x='na_sales', labels='genre', autopct='%.0f%%', pctdistance=0.8);\n",
    "plt.title('Топ жанров в Северной Америке')\n",
    "df_actual_sum"
   ]
  },
  {
   "cell_type": "code",
   "execution_count": 32,
   "metadata": {},
   "outputs": [
    {
     "data": {
      "text/html": [
       "<div>\n",
       "<style scoped>\n",
       "    .dataframe tbody tr th:only-of-type {\n",
       "        vertical-align: middle;\n",
       "    }\n",
       "\n",
       "    .dataframe tbody tr th {\n",
       "        vertical-align: top;\n",
       "    }\n",
       "\n",
       "    .dataframe thead th {\n",
       "        text-align: right;\n",
       "    }\n",
       "</style>\n",
       "<table border=\"1\" class=\"dataframe\">\n",
       "  <thead>\n",
       "    <tr style=\"text-align: right;\">\n",
       "      <th></th>\n",
       "      <th>genre</th>\n",
       "      <th>eu_sales</th>\n",
       "    </tr>\n",
       "  </thead>\n",
       "  <tbody>\n",
       "    <tr>\n",
       "      <th>0</th>\n",
       "      <td>Action</td>\n",
       "      <td>74.68</td>\n",
       "    </tr>\n",
       "    <tr>\n",
       "      <th>1</th>\n",
       "      <td>Shooter</td>\n",
       "      <td>65.52</td>\n",
       "    </tr>\n",
       "    <tr>\n",
       "      <th>2</th>\n",
       "      <td>Sports</td>\n",
       "      <td>45.73</td>\n",
       "    </tr>\n",
       "    <tr>\n",
       "      <th>3</th>\n",
       "      <td>Role-Playing</td>\n",
       "      <td>28.17</td>\n",
       "    </tr>\n",
       "    <tr>\n",
       "      <th>4</th>\n",
       "      <td>Racing</td>\n",
       "      <td>14.13</td>\n",
       "    </tr>\n",
       "    <tr>\n",
       "      <th>5</th>\n",
       "      <td>Misc</td>\n",
       "      <td>12.86</td>\n",
       "    </tr>\n",
       "    <tr>\n",
       "      <th>6</th>\n",
       "      <td>Simulation</td>\n",
       "      <td>7.30</td>\n",
       "    </tr>\n",
       "    <tr>\n",
       "      <th>7</th>\n",
       "      <td>Platform</td>\n",
       "      <td>6.80</td>\n",
       "    </tr>\n",
       "    <tr>\n",
       "      <th>8</th>\n",
       "      <td>Fighting</td>\n",
       "      <td>6.69</td>\n",
       "    </tr>\n",
       "    <tr>\n",
       "      <th>9</th>\n",
       "      <td>Adventure</td>\n",
       "      <td>6.49</td>\n",
       "    </tr>\n",
       "    <tr>\n",
       "      <th>10</th>\n",
       "      <td>Strategy</td>\n",
       "      <td>1.79</td>\n",
       "    </tr>\n",
       "    <tr>\n",
       "      <th>11</th>\n",
       "      <td>Puzzle</td>\n",
       "      <td>0.52</td>\n",
       "    </tr>\n",
       "  </tbody>\n",
       "</table>\n",
       "</div>"
      ],
      "text/plain": [
       "           genre  eu_sales\n",
       "0         Action     74.68\n",
       "1        Shooter     65.52\n",
       "2         Sports     45.73\n",
       "3   Role-Playing     28.17\n",
       "4         Racing     14.13\n",
       "5           Misc     12.86\n",
       "6     Simulation      7.30\n",
       "7       Platform      6.80\n",
       "8       Fighting      6.69\n",
       "9      Adventure      6.49\n",
       "10      Strategy      1.79\n",
       "11        Puzzle      0.52"
      ]
     },
     "execution_count": 32,
     "metadata": {},
     "output_type": "execute_result"
    },
    {
     "data": {
      "image/png": "[encoded data removed]",
      "text/plain": [
       "<Figure size 720x216 with 1 Axes>"
      ]
     },
     "metadata": {},
     "output_type": "display_data"
    }
   ],
   "source": [
    "df_actual_sum = df_actual.groupby('genre')['eu_sales'].sum().sort_values(ascending=False).reset_index()\n",
    "plt.pie(data=df_actual_sum, x='eu_sales', labels='genre', autopct='%.0f%%', pctdistance=0.8);\n",
    "plt.title('Топ жанров в Европе')\n",
    "df_actual_sum"
   ]
  },
  {
   "cell_type": "code",
   "execution_count": 33,
   "metadata": {},
   "outputs": [
    {
     "data": {
      "text/html": [
       "<div>\n",
       "<style scoped>\n",
       "    .dataframe tbody tr th:only-of-type {\n",
       "        vertical-align: middle;\n",
       "    }\n",
       "\n",
       "    .dataframe tbody tr th {\n",
       "        vertical-align: top;\n",
       "    }\n",
       "\n",
       "    .dataframe thead th {\n",
       "        text-align: right;\n",
       "    }\n",
       "</style>\n",
       "<table border=\"1\" class=\"dataframe\">\n",
       "  <thead>\n",
       "    <tr style=\"text-align: right;\">\n",
       "      <th></th>\n",
       "      <th>genre</th>\n",
       "      <th>jp_sales</th>\n",
       "    </tr>\n",
       "  </thead>\n",
       "  <tbody>\n",
       "    <tr>\n",
       "      <th>0</th>\n",
       "      <td>Role-Playing</td>\n",
       "      <td>31.16</td>\n",
       "    </tr>\n",
       "    <tr>\n",
       "      <th>1</th>\n",
       "      <td>Action</td>\n",
       "      <td>29.58</td>\n",
       "    </tr>\n",
       "    <tr>\n",
       "      <th>2</th>\n",
       "      <td>Fighting</td>\n",
       "      <td>6.37</td>\n",
       "    </tr>\n",
       "    <tr>\n",
       "      <th>3</th>\n",
       "      <td>Misc</td>\n",
       "      <td>5.61</td>\n",
       "    </tr>\n",
       "    <tr>\n",
       "      <th>4</th>\n",
       "      <td>Shooter</td>\n",
       "      <td>4.87</td>\n",
       "    </tr>\n",
       "    <tr>\n",
       "      <th>5</th>\n",
       "      <td>Adventure</td>\n",
       "      <td>3.60</td>\n",
       "    </tr>\n",
       "    <tr>\n",
       "      <th>6</th>\n",
       "      <td>Sports</td>\n",
       "      <td>3.26</td>\n",
       "    </tr>\n",
       "    <tr>\n",
       "      <th>7</th>\n",
       "      <td>Platform</td>\n",
       "      <td>2.69</td>\n",
       "    </tr>\n",
       "    <tr>\n",
       "      <th>8</th>\n",
       "      <td>Simulation</td>\n",
       "      <td>2.31</td>\n",
       "    </tr>\n",
       "    <tr>\n",
       "      <th>9</th>\n",
       "      <td>Racing</td>\n",
       "      <td>1.76</td>\n",
       "    </tr>\n",
       "    <tr>\n",
       "      <th>10</th>\n",
       "      <td>Strategy</td>\n",
       "      <td>0.95</td>\n",
       "    </tr>\n",
       "    <tr>\n",
       "      <th>11</th>\n",
       "      <td>Puzzle</td>\n",
       "      <td>0.93</td>\n",
       "    </tr>\n",
       "  </tbody>\n",
       "</table>\n",
       "</div>"
      ],
      "text/plain": [
       "           genre  jp_sales\n",
       "0   Role-Playing     31.16\n",
       "1         Action     29.58\n",
       "2       Fighting      6.37\n",
       "3           Misc      5.61\n",
       "4        Shooter      4.87\n",
       "5      Adventure      3.60\n",
       "6         Sports      3.26\n",
       "7       Platform      2.69\n",
       "8     Simulation      2.31\n",
       "9         Racing      1.76\n",
       "10      Strategy      0.95\n",
       "11        Puzzle      0.93"
      ]
     },
     "execution_count": 33,
     "metadata": {},
     "output_type": "execute_result"
    },
    {
     "data": {
      "image/png": "[encoded data removed]",
      "text/plain": [
       "<Figure size 720x216 with 1 Axes>"
      ]
     },
     "metadata": {},
     "output_type": "display_data"
    }
   ],
   "source": [
    "df_actual_sum = df_actual.groupby('genre')['jp_sales'].sum().sort_values(ascending=False).reset_index()\n",
    "plt.pie(data=df_actual_sum, x='jp_sales', labels='genre', autopct='%.0f%%', pctdistance=0.8);\n",
    "plt.title('Топ жанров в Японии')\n",
    "df_actual_sum"
   ]
  },
  {
   "cell_type": "markdown",
   "metadata": {},
   "source": [
    "Среди основных жанров во всем мире - Action и RPG. В Европе и Америке также популярны шутеры и спортивные игры. В Японии же такой любви к \"стрелялкам\" и спорту нет. Скорее всего это связано с миролюбивым образом жизни и образом жизни, где на спорт почти нет времени (работа, учеба и т.д.)."
   ]
  },
  {
   "cell_type": "code",
   "execution_count": 34,
   "metadata": {},
   "outputs": [
    {
     "data": {
      "text/html": [
       "<div>\n",
       "<style scoped>\n",
       "    .dataframe tbody tr th:only-of-type {\n",
       "        vertical-align: middle;\n",
       "    }\n",
       "\n",
       "    .dataframe tbody tr th {\n",
       "        vertical-align: top;\n",
       "    }\n",
       "\n",
       "    .dataframe thead th {\n",
       "        text-align: right;\n",
       "    }\n",
       "</style>\n",
       "<table border=\"1\" class=\"dataframe\">\n",
       "  <thead>\n",
       "    <tr style=\"text-align: right;\">\n",
       "      <th></th>\n",
       "      <th>rating</th>\n",
       "      <th>na_sales</th>\n",
       "    </tr>\n",
       "  </thead>\n",
       "  <tbody>\n",
       "    <tr>\n",
       "      <th>0</th>\n",
       "      <td>M</td>\n",
       "      <td>96.42</td>\n",
       "    </tr>\n",
       "    <tr>\n",
       "      <th>1</th>\n",
       "      <td>unknown</td>\n",
       "      <td>64.72</td>\n",
       "    </tr>\n",
       "    <tr>\n",
       "      <th>2</th>\n",
       "      <td>E</td>\n",
       "      <td>50.74</td>\n",
       "    </tr>\n",
       "    <tr>\n",
       "      <th>3</th>\n",
       "      <td>T</td>\n",
       "      <td>38.95</td>\n",
       "    </tr>\n",
       "    <tr>\n",
       "      <th>4</th>\n",
       "      <td>E10+</td>\n",
       "      <td>33.23</td>\n",
       "    </tr>\n",
       "  </tbody>\n",
       "</table>\n",
       "</div>"
      ],
      "text/plain": [
       "    rating  na_sales\n",
       "0        M     96.42\n",
       "1  unknown     64.72\n",
       "2        E     50.74\n",
       "3        T     38.95\n",
       "4     E10+     33.23"
      ]
     },
     "execution_count": 34,
     "metadata": {},
     "output_type": "execute_result"
    },
    {
     "data": {
      "image/png": "[encoded data removed]",
      "text/plain": [
       "<Figure size 720x216 with 1 Axes>"
      ]
     },
     "metadata": {},
     "output_type": "display_data"
    }
   ],
   "source": [
    "df_actual_sum = df_actual.groupby('rating')['na_sales'].sum().sort_values(ascending=False).reset_index()\n",
    "plt.pie(data=df_actual_sum, x='na_sales', labels='rating', autopct='%.0f%%', pctdistance=0.8);\n",
    "plt.title('Количество игр с рейтингами ESRB в Северной Америке')\n",
    "df_actual_sum"
   ]
  },
  {
   "cell_type": "code",
   "execution_count": 35,
   "metadata": {},
   "outputs": [
    {
     "data": {
      "text/html": [
       "<div>\n",
       "<style scoped>\n",
       "    .dataframe tbody tr th:only-of-type {\n",
       "        vertical-align: middle;\n",
       "    }\n",
       "\n",
       "    .dataframe tbody tr th {\n",
       "        vertical-align: top;\n",
       "    }\n",
       "\n",
       "    .dataframe thead th {\n",
       "        text-align: right;\n",
       "    }\n",
       "</style>\n",
       "<table border=\"1\" class=\"dataframe\">\n",
       "  <thead>\n",
       "    <tr style=\"text-align: right;\">\n",
       "      <th></th>\n",
       "      <th>rating</th>\n",
       "      <th>eu_sales</th>\n",
       "    </tr>\n",
       "  </thead>\n",
       "  <tbody>\n",
       "    <tr>\n",
       "      <th>0</th>\n",
       "      <td>M</td>\n",
       "      <td>93.44</td>\n",
       "    </tr>\n",
       "    <tr>\n",
       "      <th>1</th>\n",
       "      <td>unknown</td>\n",
       "      <td>58.95</td>\n",
       "    </tr>\n",
       "    <tr>\n",
       "      <th>2</th>\n",
       "      <td>E</td>\n",
       "      <td>58.06</td>\n",
       "    </tr>\n",
       "    <tr>\n",
       "      <th>3</th>\n",
       "      <td>T</td>\n",
       "      <td>34.07</td>\n",
       "    </tr>\n",
       "    <tr>\n",
       "      <th>4</th>\n",
       "      <td>E10+</td>\n",
       "      <td>26.16</td>\n",
       "    </tr>\n",
       "  </tbody>\n",
       "</table>\n",
       "</div>"
      ],
      "text/plain": [
       "    rating  eu_sales\n",
       "0        M     93.44\n",
       "1  unknown     58.95\n",
       "2        E     58.06\n",
       "3        T     34.07\n",
       "4     E10+     26.16"
      ]
     },
     "execution_count": 35,
     "metadata": {},
     "output_type": "execute_result"
    },
    {
     "data": {
      "image/png": "[encoded data removed]",
      "text/plain": [
       "<Figure size 720x216 with 1 Axes>"
      ]
     },
     "metadata": {},
     "output_type": "display_data"
    }
   ],
   "source": [
    "df_actual_sum = df_actual.groupby('rating')['eu_sales'].sum().sort_values(ascending=False).reset_index()\n",
    "plt.pie(data=df_actual_sum, x='eu_sales', labels='rating', autopct='%.0f%%', pctdistance=0.8);\n",
    "plt.title('Количество игр с рейтингами ESRB в Европе')\n",
    "df_actual_sum"
   ]
  },
  {
   "cell_type": "code",
   "execution_count": 36,
   "metadata": {},
   "outputs": [
    {
     "data": {
      "text/html": [
       "<div>\n",
       "<style scoped>\n",
       "    .dataframe tbody tr th:only-of-type {\n",
       "        vertical-align: middle;\n",
       "    }\n",
       "\n",
       "    .dataframe tbody tr th {\n",
       "        vertical-align: top;\n",
       "    }\n",
       "\n",
       "    .dataframe thead th {\n",
       "        text-align: right;\n",
       "    }\n",
       "</style>\n",
       "<table border=\"1\" class=\"dataframe\">\n",
       "  <thead>\n",
       "    <tr style=\"text-align: right;\">\n",
       "      <th></th>\n",
       "      <th>rating</th>\n",
       "      <th>jp_sales</th>\n",
       "    </tr>\n",
       "  </thead>\n",
       "  <tbody>\n",
       "    <tr>\n",
       "      <th>0</th>\n",
       "      <td>unknown</td>\n",
       "      <td>56.90</td>\n",
       "    </tr>\n",
       "    <tr>\n",
       "      <th>1</th>\n",
       "      <td>T</td>\n",
       "      <td>14.78</td>\n",
       "    </tr>\n",
       "    <tr>\n",
       "      <th>2</th>\n",
       "      <td>E</td>\n",
       "      <td>8.94</td>\n",
       "    </tr>\n",
       "    <tr>\n",
       "      <th>3</th>\n",
       "      <td>M</td>\n",
       "      <td>8.01</td>\n",
       "    </tr>\n",
       "    <tr>\n",
       "      <th>4</th>\n",
       "      <td>E10+</td>\n",
       "      <td>4.46</td>\n",
       "    </tr>\n",
       "  </tbody>\n",
       "</table>\n",
       "</div>"
      ],
      "text/plain": [
       "    rating  jp_sales\n",
       "0  unknown     56.90\n",
       "1        T     14.78\n",
       "2        E      8.94\n",
       "3        M      8.01\n",
       "4     E10+      4.46"
      ]
     },
     "execution_count": 36,
     "metadata": {},
     "output_type": "execute_result"
    },
    {
     "data": {
      "image/png": "[encoded data removed]",
      "text/plain": [
       "<Figure size 720x216 with 1 Axes>"
      ]
     },
     "metadata": {},
     "output_type": "display_data"
    }
   ],
   "source": [
    "df_actual_sum = df_actual.groupby('rating')['jp_sales'].sum().sort_values(ascending=False).reset_index()\n",
    "plt.pie(data=df_actual_sum, x='jp_sales', labels='rating', autopct='%.0f%%', pctdistance=0.8);\n",
    "plt.title('Количество игр с рейтингами ESRB в Японии')\n",
    "df_actual_sum"
   ]
  },
  {
   "cell_type": "markdown",
   "metadata": {},
   "source": [
    "Японцы не так любят игры с рейтингом \"Mature\", у них семейный образ жизни, поэтому и игры им интересны семейные: с рейтингом \"E\" или \"T\". К тому же япония, будучи долгое время закрытым государством, старалась развиваться во всех сферах самостоятельно, поэтому в сфере игр у них популярны собственные разработки, которые часто существуют только в пределах японского рынка, а рейтинг ESRB скорее всего расчитан на игры, распространенные по всему миру."
   ]
  },
  {
   "cell_type": "markdown",
   "metadata": {},
   "source": [
    "Из-за того, что Япония долго была закрыта от всего мира, там сформировались свои особенности, которые выражаются и в сфере игроиндустрии."
   ]
  },
  {
   "cell_type": "markdown",
   "metadata": {},
   "source": [
    "## Проверка гипотез"
   ]
  },
  {
   "cell_type": "markdown",
   "metadata": {},
   "source": [
    "Проверим гипотезы:\n",
    "\n",
    "Средние пользовательские рейтинги платформ Xbox One и PC одинаковые;\n",
    "\n",
    "Средние пользовательские рейтинги жанров Action и Sports разные."
   ]
  },
  {
   "cell_type": "markdown",
   "metadata": {},
   "source": [
    "1. Н0 - Средние пользовательские рейтинги платформ Xbox One и PC одинаковые, Н1- Средние пользовательские рейтинги платформ Xbox One и PC различаются. Проверку нулевой гипотезы проведем с помощью теста ttest_ind с учетом разных дисперсий, т.к. имеем две генеральные независящие друг от друга совокупности."
   ]
  },
  {
   "cell_type": "code",
   "execution_count": 37,
   "metadata": {},
   "outputs": [
    {
     "name": "stdout",
     "output_type": "stream",
     "text": [
      "p-значение: 0.11601398086668827\n",
      "Не получилось отвергнуть нулевую гипотезу\n"
     ]
    }
   ],
   "source": [
    "alpha = 0.05\n",
    "results = st.ttest_ind(\n",
    "    df_actual.query('platform == \"XOne\" & user_score != -1')['user_score'], \n",
    "    df_actual.query('platform == \"PC\" & user_score != -1')['user_score'],\n",
    "    equal_var=False)\n",
    "print('p-значение:', results.pvalue)\n",
    "\n",
    "if results.pvalue < alpha:\n",
    "    print(\"Отвергаем нулевую гипотезу\")\n",
    "else:\n",
    "    print(\"Не получилось отвергнуть нулевую гипотезу\") "
   ]
  },
  {
   "cell_type": "markdown",
   "metadata": {},
   "source": [
    "Значит, средние пользовательские рейтинги платформ Xbox One и PC примерно одинаковые."
   ]
  },
  {
   "cell_type": "markdown",
   "metadata": {},
   "source": [
    "2. Н0 - Средние пользовательские рейтинги жанров Action и Sports одинаковые, Н - 1 Средние пользовательские рейтинги жанров Action и Sports различаются. Проверку нулевой гипотезы проведем с помощью теста ttest_ind с учетом разных дисперсий, т.к. имеем две генеральные независящие друг от друга совокупности."
   ]
  },
  {
   "cell_type": "code",
   "execution_count": 38,
   "metadata": {},
   "outputs": [
    {
     "name": "stdout",
     "output_type": "stream",
     "text": [
      "p-значение: 1.1825550382644557e-14\n",
      "Отвергаем нулевую гипотезу\n"
     ]
    }
   ],
   "source": [
    "alpha = 0.05\n",
    "results = st.ttest_ind(\n",
    "    df_actual.query('genre == \"Action\" & user_score != -1')['user_score'], \n",
    "    df_actual.query('genre == \"Sports\" & user_score != -1')['user_score'],\n",
    "    equal_var=False)\n",
    "print('p-значение:', results.pvalue)\n",
    "\n",
    "if results.pvalue < alpha:\n",
    "    print(\"Отвергаем нулевую гипотезу\")\n",
    "else:\n",
    "    print(\"Не получилось отвергнуть нулевую гипотезу\") "
   ]
  },
  {
   "cell_type": "markdown",
   "metadata": {},
   "source": [
    "Значит средние пользовательские рейтинги жанров Action и Sports различаются."
   ]
  },
  {
   "cell_type": "code",
   "execution_count": 39,
   "metadata": {},
   "outputs": [
    {
     "name": "stdout",
     "output_type": "stream",
     "text": [
      "5.2251968503937\n"
     ]
    },
    {
     "data": {
      "text/plain": [
       "6.760606060606061"
      ]
     },
     "execution_count": 39,
     "metadata": {},
     "output_type": "execute_result"
    }
   ],
   "source": [
    "print(df_actual.query('genre == \"Sports\" & user_score != -1')['user_score'].mean())\n",
    "df_actual.query('genre == \"Action\" & user_score != -1')['user_score'].mean()"
   ]
  },
  {
   "cell_type": "markdown",
   "metadata": {},
   "source": [
    "## Общий вывод"
   ]
  },
  {
   "cell_type": "markdown",
   "metadata": {},
   "source": [
    "В ходе данного проекта была получена требуемая информация для формирования прогноза на 2017 год в сфере игровой индустрии. Наиболее перспективными платформами являются PS4, XboxOne и PC. У данных платформ наблюдается рост продаж по всему миру. Среди игровых жанров стоит обратить внимание на shooter. Этот жанр является наиболее прибыльным и популярным. Так же можно присмотреться к жанрам sports и platformer. Эти жанры продаются в среднем несколько больше, чем все остальные. При этом стоит ориентироваться на американский и европейский рынки, т.к. японский рынок обладает своими особенностями."
   ]
  }
 ],
 "metadata": {
  "ExecuteTimeLog": [
   {
    "duration": 1329,
    "start_time": "2022-07-06T09:59:29.501Z"
   },
   {
    "duration": 516,
    "start_time": "2022-07-06T10:00:37.201Z"
   },
   {
    "duration": 137,
    "start_time": "2022-07-06T10:17:49.404Z"
   },
   {
    "duration": 10,
    "start_time": "2022-07-06T10:17:51.773Z"
   },
   {
    "duration": 12,
    "start_time": "2022-07-06T10:21:07.324Z"
   },
   {
    "duration": 13,
    "start_time": "2022-07-06T10:22:29.217Z"
   },
   {
    "duration": 24,
    "start_time": "2022-07-06T10:22:47.951Z"
   },
   {
    "duration": 10,
    "start_time": "2022-07-06T10:24:35.524Z"
   },
   {
    "duration": 10,
    "start_time": "2022-07-06T10:24:44.204Z"
   },
   {
    "duration": 18,
    "start_time": "2022-07-06T10:24:51.093Z"
   },
   {
    "duration": 10,
    "start_time": "2022-07-06T10:35:36.587Z"
   },
   {
    "duration": 9,
    "start_time": "2022-07-06T10:36:06.503Z"
   },
   {
    "duration": 16,
    "start_time": "2022-07-06T10:36:14.521Z"
   },
   {
    "duration": 3,
    "start_time": "2022-07-06T10:36:23.380Z"
   },
   {
    "duration": 121,
    "start_time": "2022-07-06T10:36:24.244Z"
   },
   {
    "duration": 5,
    "start_time": "2022-07-06T10:36:26.747Z"
   },
   {
    "duration": 21,
    "start_time": "2022-07-06T10:36:28.329Z"
   },
   {
    "duration": 16,
    "start_time": "2022-07-06T10:37:03.096Z"
   },
   {
    "duration": 32,
    "start_time": "2022-07-06T10:37:52.789Z"
   },
   {
    "duration": 29,
    "start_time": "2022-07-06T10:37:58.395Z"
   },
   {
    "duration": 41,
    "start_time": "2022-07-06T10:38:04.685Z"
   },
   {
    "duration": 30,
    "start_time": "2022-07-06T10:38:08.602Z"
   },
   {
    "duration": 19,
    "start_time": "2022-07-06T10:38:57.085Z"
   },
   {
    "duration": 26,
    "start_time": "2022-07-06T10:39:24.595Z"
   },
   {
    "duration": 3,
    "start_time": "2022-07-06T10:39:28.512Z"
   },
   {
    "duration": 90,
    "start_time": "2022-07-06T10:39:28.689Z"
   },
   {
    "duration": 4,
    "start_time": "2022-07-06T10:39:30.293Z"
   },
   {
    "duration": 17,
    "start_time": "2022-07-06T10:39:31.672Z"
   },
   {
    "duration": 13,
    "start_time": "2022-07-06T10:39:43.076Z"
   },
   {
    "duration": 13,
    "start_time": "2022-07-06T10:39:54.386Z"
   },
   {
    "duration": 1250,
    "start_time": "2022-07-06T15:33:11.623Z"
   },
   {
    "duration": 238,
    "start_time": "2022-07-06T15:33:12.875Z"
   },
   {
    "duration": 4,
    "start_time": "2022-07-06T15:33:13.115Z"
   },
   {
    "duration": 15,
    "start_time": "2022-07-06T15:33:13.121Z"
   },
   {
    "duration": 15,
    "start_time": "2022-07-06T15:40:12.650Z"
   },
   {
    "duration": 16,
    "start_time": "2022-07-06T15:40:29.377Z"
   },
   {
    "duration": 8,
    "start_time": "2022-07-06T15:41:05.545Z"
   },
   {
    "duration": 90,
    "start_time": "2022-07-06T15:41:20.994Z"
   },
   {
    "duration": 8,
    "start_time": "2022-07-06T15:41:23.186Z"
   },
   {
    "duration": 15,
    "start_time": "2022-07-06T15:43:11.857Z"
   },
   {
    "duration": 15,
    "start_time": "2022-07-06T15:43:15.818Z"
   },
   {
    "duration": 19,
    "start_time": "2022-07-06T15:43:22.392Z"
   },
   {
    "duration": 16,
    "start_time": "2022-07-06T15:43:30.041Z"
   },
   {
    "duration": 5,
    "start_time": "2022-07-06T15:45:08.217Z"
   },
   {
    "duration": 9,
    "start_time": "2022-07-06T15:45:32.776Z"
   },
   {
    "duration": 8,
    "start_time": "2022-07-06T15:45:40.800Z"
   },
   {
    "duration": 14,
    "start_time": "2022-07-06T15:46:13.568Z"
   },
   {
    "duration": 11,
    "start_time": "2022-07-06T15:46:20.790Z"
   },
   {
    "duration": 11,
    "start_time": "2022-07-06T15:46:27.064Z"
   },
   {
    "duration": 113,
    "start_time": "2022-07-06T15:46:30.504Z"
   },
   {
    "duration": 12,
    "start_time": "2022-07-06T15:46:32.711Z"
   },
   {
    "duration": 10,
    "start_time": "2022-07-06T15:46:50.512Z"
   },
   {
    "duration": 10,
    "start_time": "2022-07-06T15:46:53.289Z"
   },
   {
    "duration": 13,
    "start_time": "2022-07-06T15:46:57.384Z"
   },
   {
    "duration": 19,
    "start_time": "2022-07-06T15:49:17.527Z"
   },
   {
    "duration": 9,
    "start_time": "2022-07-06T15:49:21.494Z"
   },
   {
    "duration": 13,
    "start_time": "2022-07-06T15:49:26.118Z"
   },
   {
    "duration": 10,
    "start_time": "2022-07-06T15:50:15.551Z"
   },
   {
    "duration": 17,
    "start_time": "2022-07-06T15:50:20.030Z"
   },
   {
    "duration": 18,
    "start_time": "2022-07-06T15:51:25.744Z"
   },
   {
    "duration": 16,
    "start_time": "2022-07-06T15:51:39.750Z"
   },
   {
    "duration": 20,
    "start_time": "2022-07-06T15:52:00.225Z"
   },
   {
    "duration": 3,
    "start_time": "2022-07-06T15:52:02.798Z"
   },
   {
    "duration": 75,
    "start_time": "2022-07-06T15:52:02.950Z"
   },
   {
    "duration": 5,
    "start_time": "2022-07-06T15:52:03.829Z"
   },
   {
    "duration": 15,
    "start_time": "2022-07-06T15:52:05.749Z"
   },
   {
    "duration": 21,
    "start_time": "2022-07-06T15:52:14.359Z"
   },
   {
    "duration": 2,
    "start_time": "2022-07-06T15:52:30.726Z"
   },
   {
    "duration": 75,
    "start_time": "2022-07-06T15:52:30.894Z"
   },
   {
    "duration": 4,
    "start_time": "2022-07-06T15:52:31.655Z"
   },
   {
    "duration": 14,
    "start_time": "2022-07-06T15:52:33.418Z"
   },
   {
    "duration": 68,
    "start_time": "2022-07-07T09:08:09.221Z"
   },
   {
    "duration": 1433,
    "start_time": "2022-07-07T09:08:12.619Z"
   },
   {
    "duration": 135,
    "start_time": "2022-07-07T09:08:14.055Z"
   },
   {
    "duration": 6,
    "start_time": "2022-07-07T09:08:14.192Z"
   },
   {
    "duration": 19,
    "start_time": "2022-07-07T09:08:16.052Z"
   },
   {
    "duration": 12,
    "start_time": "2022-07-07T09:08:17.125Z"
   },
   {
    "duration": 78,
    "start_time": "2022-07-07T09:08:25.951Z"
   },
   {
    "duration": 12,
    "start_time": "2022-07-07T09:08:34.091Z"
   },
   {
    "duration": 14,
    "start_time": "2022-07-07T09:11:21.528Z"
   },
   {
    "duration": 12,
    "start_time": "2022-07-07T09:12:01.418Z"
   },
   {
    "duration": 9,
    "start_time": "2022-07-07T09:12:10.771Z"
   },
   {
    "duration": 9,
    "start_time": "2022-07-07T09:12:19.752Z"
   },
   {
    "duration": 19,
    "start_time": "2022-07-07T09:13:29.750Z"
   },
   {
    "duration": 22,
    "start_time": "2022-07-07T09:14:12.163Z"
   },
   {
    "duration": 22,
    "start_time": "2022-07-07T09:19:09.639Z"
   },
   {
    "duration": 50,
    "start_time": "2022-07-07T09:19:12.250Z"
   },
   {
    "duration": 24,
    "start_time": "2022-07-07T09:19:17.967Z"
   },
   {
    "duration": 3,
    "start_time": "2022-07-07T09:19:22.216Z"
   },
   {
    "duration": 95,
    "start_time": "2022-07-07T09:19:22.401Z"
   },
   {
    "duration": 6,
    "start_time": "2022-07-07T09:19:23.351Z"
   },
   {
    "duration": 26,
    "start_time": "2022-07-07T09:19:24.521Z"
   },
   {
    "duration": 20,
    "start_time": "2022-07-07T09:19:26.454Z"
   },
   {
    "duration": 21,
    "start_time": "2022-07-07T09:19:27.793Z"
   },
   {
    "duration": 23,
    "start_time": "2022-07-07T09:19:54.153Z"
   },
   {
    "duration": 22,
    "start_time": "2022-07-07T09:20:04.481Z"
   },
   {
    "duration": 4,
    "start_time": "2022-07-07T09:22:38.958Z"
   },
   {
    "duration": 103,
    "start_time": "2022-07-07T09:22:39.289Z"
   },
   {
    "duration": 5,
    "start_time": "2022-07-07T09:22:40.385Z"
   },
   {
    "duration": 18,
    "start_time": "2022-07-07T09:22:40.991Z"
   },
   {
    "duration": 19,
    "start_time": "2022-07-07T09:22:42.480Z"
   },
   {
    "duration": 22,
    "start_time": "2022-07-07T09:22:43.968Z"
   },
   {
    "duration": 30,
    "start_time": "2022-07-07T09:23:14.119Z"
   },
   {
    "duration": 3,
    "start_time": "2022-07-07T09:23:17.881Z"
   },
   {
    "duration": 87,
    "start_time": "2022-07-07T09:23:18.051Z"
   },
   {
    "duration": 6,
    "start_time": "2022-07-07T09:23:18.375Z"
   },
   {
    "duration": 21,
    "start_time": "2022-07-07T09:23:19.162Z"
   },
   {
    "duration": 23,
    "start_time": "2022-07-07T09:23:19.752Z"
   },
   {
    "duration": 22,
    "start_time": "2022-07-07T09:23:22.465Z"
   },
   {
    "duration": 23,
    "start_time": "2022-07-07T09:23:43.554Z"
   },
   {
    "duration": 22,
    "start_time": "2022-07-07T09:23:51.549Z"
   },
   {
    "duration": 22,
    "start_time": "2022-07-07T09:24:04.655Z"
   },
   {
    "duration": 23,
    "start_time": "2022-07-07T09:24:21.455Z"
   },
   {
    "duration": 37,
    "start_time": "2022-07-07T09:24:45.624Z"
   },
   {
    "duration": 24,
    "start_time": "2022-07-07T09:25:16.355Z"
   },
   {
    "duration": 6,
    "start_time": "2022-07-07T09:25:20.959Z"
   },
   {
    "duration": 86,
    "start_time": "2022-07-07T09:25:21.555Z"
   },
   {
    "duration": 5,
    "start_time": "2022-07-07T09:25:24.279Z"
   },
   {
    "duration": 16,
    "start_time": "2022-07-07T09:25:25.761Z"
   },
   {
    "duration": 26,
    "start_time": "2022-07-07T09:25:30.007Z"
   },
   {
    "duration": 26,
    "start_time": "2022-07-07T09:26:00.879Z"
   },
   {
    "duration": 24348,
    "start_time": "2022-07-07T09:26:14.972Z"
   },
   {
    "duration": 9,
    "start_time": "2022-07-07T09:26:44.160Z"
   },
   {
    "duration": 133,
    "start_time": "2022-07-07T09:26:44.319Z"
   },
   {
    "duration": 4,
    "start_time": "2022-07-07T09:26:45.287Z"
   },
   {
    "duration": 23,
    "start_time": "2022-07-07T09:26:45.970Z"
   },
   {
    "duration": 21,
    "start_time": "2022-07-07T09:26:47.273Z"
   },
   {
    "duration": 21,
    "start_time": "2022-07-07T09:27:51.759Z"
   },
   {
    "duration": 25,
    "start_time": "2022-07-07T09:28:27.670Z"
   },
   {
    "duration": 35,
    "start_time": "2022-07-07T09:28:46.310Z"
   },
   {
    "duration": 3,
    "start_time": "2022-07-07T09:29:04.512Z"
   },
   {
    "duration": 107,
    "start_time": "2022-07-07T09:29:04.782Z"
   },
   {
    "duration": 9,
    "start_time": "2022-07-07T09:29:05.170Z"
   },
   {
    "duration": 23,
    "start_time": "2022-07-07T09:29:06.075Z"
   },
   {
    "duration": 34,
    "start_time": "2022-07-07T09:29:08.964Z"
   },
   {
    "duration": 17,
    "start_time": "2022-07-07T09:30:38.383Z"
   },
   {
    "duration": 50,
    "start_time": "2022-07-07T09:30:48.422Z"
   },
   {
    "duration": 16,
    "start_time": "2022-07-07T09:32:41.264Z"
   },
   {
    "duration": 34,
    "start_time": "2022-07-07T09:32:47.517Z"
   },
   {
    "duration": 18,
    "start_time": "2022-07-07T09:33:07.198Z"
   },
   {
    "duration": 9,
    "start_time": "2022-07-07T09:33:20.557Z"
   },
   {
    "duration": 8,
    "start_time": "2022-07-07T09:33:30.389Z"
   },
   {
    "duration": 3,
    "start_time": "2022-07-07T09:33:37.373Z"
   },
   {
    "duration": 89,
    "start_time": "2022-07-07T09:33:37.564Z"
   },
   {
    "duration": 5,
    "start_time": "2022-07-07T09:33:37.909Z"
   },
   {
    "duration": 17,
    "start_time": "2022-07-07T09:33:38.796Z"
   },
   {
    "duration": 19,
    "start_time": "2022-07-07T09:33:39.871Z"
   },
   {
    "duration": 9,
    "start_time": "2022-07-07T09:33:40.860Z"
   },
   {
    "duration": 12,
    "start_time": "2022-07-07T09:33:50.461Z"
   },
   {
    "duration": 11,
    "start_time": "2022-07-07T09:34:00.262Z"
   },
   {
    "duration": 10,
    "start_time": "2022-07-07T09:34:07.476Z"
   },
   {
    "duration": 14,
    "start_time": "2022-07-07T09:34:12.269Z"
   },
   {
    "duration": 10,
    "start_time": "2022-07-07T09:34:16.564Z"
   },
   {
    "duration": 108,
    "start_time": "2022-07-07T09:34:22.684Z"
   },
   {
    "duration": 12,
    "start_time": "2022-07-07T09:34:27.858Z"
   },
   {
    "duration": 10,
    "start_time": "2022-07-07T09:34:31.957Z"
   },
   {
    "duration": 13,
    "start_time": "2022-07-07T09:35:20.853Z"
   },
   {
    "duration": 7,
    "start_time": "2022-07-07T09:38:06.981Z"
   },
   {
    "duration": 9,
    "start_time": "2022-07-07T09:39:05.005Z"
   },
   {
    "duration": 6,
    "start_time": "2022-07-07T09:43:06.787Z"
   },
   {
    "duration": 14,
    "start_time": "2022-07-07T09:45:12.764Z"
   },
   {
    "duration": 22,
    "start_time": "2022-07-07T09:47:46.474Z"
   },
   {
    "duration": 3,
    "start_time": "2022-07-07T09:48:11.552Z"
   },
   {
    "duration": 95,
    "start_time": "2022-07-07T09:48:11.706Z"
   },
   {
    "duration": 5,
    "start_time": "2022-07-07T09:48:12.000Z"
   },
   {
    "duration": 16,
    "start_time": "2022-07-07T09:48:12.282Z"
   },
   {
    "duration": 19,
    "start_time": "2022-07-07T09:48:12.570Z"
   },
   {
    "duration": 12,
    "start_time": "2022-07-07T09:48:12.866Z"
   },
   {
    "duration": 15,
    "start_time": "2022-07-07T09:48:14.264Z"
   },
   {
    "duration": 41,
    "start_time": "2022-07-07T09:48:16.170Z"
   },
   {
    "duration": 20,
    "start_time": "2022-07-07T09:50:51.896Z"
   },
   {
    "duration": 3,
    "start_time": "2022-07-07T09:54:14.490Z"
   },
   {
    "duration": 111,
    "start_time": "2022-07-07T09:54:14.993Z"
   },
   {
    "duration": 7,
    "start_time": "2022-07-07T09:54:17.698Z"
   },
   {
    "duration": 17,
    "start_time": "2022-07-07T09:54:17.766Z"
   },
   {
    "duration": 32,
    "start_time": "2022-07-07T09:54:17.827Z"
   },
   {
    "duration": 11,
    "start_time": "2022-07-07T09:54:17.901Z"
   },
   {
    "duration": 22,
    "start_time": "2022-07-07T09:54:17.965Z"
   },
   {
    "duration": 43,
    "start_time": "2022-07-07T09:54:18.053Z"
   },
   {
    "duration": 18,
    "start_time": "2022-07-07T09:54:19.598Z"
   },
   {
    "duration": 17,
    "start_time": "2022-07-07T09:58:32.877Z"
   },
   {
    "duration": 9,
    "start_time": "2022-07-07T09:58:45.459Z"
   },
   {
    "duration": 30,
    "start_time": "2022-07-07T09:58:48.989Z"
   },
   {
    "duration": 8,
    "start_time": "2022-07-07T09:58:53.877Z"
   },
   {
    "duration": 450,
    "start_time": "2022-07-07T09:59:45.309Z"
   },
   {
    "duration": 400,
    "start_time": "2022-07-07T10:00:10.620Z"
   },
   {
    "duration": 375,
    "start_time": "2022-07-07T10:01:06.066Z"
   },
   {
    "duration": 399,
    "start_time": "2022-07-07T10:02:10.580Z"
   },
   {
    "duration": 469,
    "start_time": "2022-07-07T10:02:43.173Z"
   },
   {
    "duration": 21,
    "start_time": "2022-07-07T10:05:31.059Z"
   },
   {
    "duration": 30,
    "start_time": "2022-07-07T10:05:36.923Z"
   },
   {
    "duration": 15,
    "start_time": "2022-07-07T10:05:48.523Z"
   },
   {
    "duration": 12,
    "start_time": "2022-07-07T10:06:03.819Z"
   },
   {
    "duration": 10,
    "start_time": "2022-07-07T10:06:15.212Z"
   },
   {
    "duration": 12,
    "start_time": "2022-07-07T10:07:29.447Z"
   },
   {
    "duration": 9,
    "start_time": "2022-07-07T10:07:42.059Z"
   },
   {
    "duration": 14,
    "start_time": "2022-07-07T10:07:48.475Z"
   },
   {
    "duration": 14,
    "start_time": "2022-07-07T10:08:01.857Z"
   },
   {
    "duration": 12,
    "start_time": "2022-07-07T10:08:22.466Z"
   },
   {
    "duration": 8,
    "start_time": "2022-07-07T10:08:30.050Z"
   },
   {
    "duration": 15,
    "start_time": "2022-07-07T10:08:33.754Z"
   },
   {
    "duration": 3,
    "start_time": "2022-07-07T10:09:39.114Z"
   },
   {
    "duration": 4,
    "start_time": "2022-07-07T10:09:45.713Z"
   },
   {
    "duration": 9,
    "start_time": "2022-07-07T10:09:58.349Z"
   },
   {
    "duration": 18,
    "start_time": "2022-07-07T10:10:47.920Z"
   },
   {
    "duration": 1122,
    "start_time": "2022-07-07T10:12:15.961Z"
   },
   {
    "duration": 1165,
    "start_time": "2022-07-07T10:33:32.707Z"
   },
   {
    "duration": 1058,
    "start_time": "2022-07-07T10:33:40.859Z"
   },
   {
    "duration": 964,
    "start_time": "2022-07-07T10:33:58.323Z"
   },
   {
    "duration": 204,
    "start_time": "2022-07-07T10:34:15.178Z"
   },
   {
    "duration": 188,
    "start_time": "2022-07-07T10:34:28.659Z"
   },
   {
    "duration": 226,
    "start_time": "2022-07-07T10:34:52.490Z"
   },
   {
    "duration": 184,
    "start_time": "2022-07-07T10:35:12.476Z"
   },
   {
    "duration": 205,
    "start_time": "2022-07-07T10:35:35.090Z"
   },
   {
    "duration": 180,
    "start_time": "2022-07-07T10:36:00.138Z"
   },
   {
    "duration": 191,
    "start_time": "2022-07-07T10:36:00.562Z"
   },
   {
    "duration": 175,
    "start_time": "2022-07-07T10:36:01.150Z"
   },
   {
    "duration": 26,
    "start_time": "2022-07-07T10:47:59.119Z"
   },
   {
    "duration": 23,
    "start_time": "2022-07-07T10:48:06.430Z"
   },
   {
    "duration": 20,
    "start_time": "2022-07-07T10:48:13.518Z"
   },
   {
    "duration": 15,
    "start_time": "2022-07-07T10:49:32.638Z"
   },
   {
    "duration": 1355,
    "start_time": "2022-07-07T10:52:36.493Z"
   },
   {
    "duration": 181,
    "start_time": "2022-07-07T10:53:22.406Z"
   },
   {
    "duration": 189,
    "start_time": "2022-07-07T10:53:22.593Z"
   },
   {
    "duration": 201,
    "start_time": "2022-07-07T10:53:22.784Z"
   },
   {
    "duration": 283,
    "start_time": "2022-07-07T10:53:22.988Z"
   },
   {
    "duration": 196,
    "start_time": "2022-07-07T10:53:23.273Z"
   },
   {
    "duration": 23,
    "start_time": "2022-07-07T10:53:25.422Z"
   },
   {
    "duration": 19,
    "start_time": "2022-07-07T10:53:26.414Z"
   },
   {
    "duration": 152,
    "start_time": "2022-07-07T10:53:27.085Z"
   },
   {
    "duration": 162,
    "start_time": "2022-07-07T10:53:41.568Z"
   },
   {
    "duration": 4,
    "start_time": "2022-07-07T10:53:43.929Z"
   },
   {
    "duration": 79,
    "start_time": "2022-07-07T10:53:44.440Z"
   },
   {
    "duration": 6,
    "start_time": "2022-07-07T10:53:44.542Z"
   },
   {
    "duration": 20,
    "start_time": "2022-07-07T10:53:44.599Z"
   },
   {
    "duration": 18,
    "start_time": "2022-07-07T10:53:44.670Z"
   },
   {
    "duration": 13,
    "start_time": "2022-07-07T10:53:44.740Z"
   },
   {
    "duration": 21,
    "start_time": "2022-07-07T10:53:44.793Z"
   },
   {
    "duration": 53,
    "start_time": "2022-07-07T10:53:44.873Z"
   },
   {
    "duration": 20,
    "start_time": "2022-07-07T10:53:44.936Z"
   },
   {
    "duration": 370,
    "start_time": "2022-07-07T10:53:45.040Z"
   },
   {
    "duration": 30,
    "start_time": "2022-07-07T10:53:45.412Z"
   },
   {
    "duration": 12,
    "start_time": "2022-07-07T10:53:45.445Z"
   },
   {
    "duration": 206,
    "start_time": "2022-07-07T10:53:45.460Z"
   },
   {
    "duration": 188,
    "start_time": "2022-07-07T10:53:45.668Z"
   },
   {
    "duration": 222,
    "start_time": "2022-07-07T10:53:45.857Z"
   },
   {
    "duration": 186,
    "start_time": "2022-07-07T10:53:46.081Z"
   },
   {
    "duration": 192,
    "start_time": "2022-07-07T10:53:46.270Z"
   },
   {
    "duration": 19,
    "start_time": "2022-07-07T10:53:46.464Z"
   },
   {
    "duration": 12,
    "start_time": "2022-07-07T10:53:46.485Z"
   },
   {
    "duration": 279,
    "start_time": "2022-07-07T10:53:46.499Z"
   },
   {
    "duration": 1308,
    "start_time": "2022-07-07T10:53:55.061Z"
   },
   {
    "duration": 162,
    "start_time": "2022-07-07T10:54:37.781Z"
   },
   {
    "duration": 1502,
    "start_time": "2022-07-07T10:54:49.175Z"
   },
   {
    "duration": 164,
    "start_time": "2022-07-07T10:55:50.361Z"
   },
   {
    "duration": 1395,
    "start_time": "2022-07-07T10:55:59.389Z"
   },
   {
    "duration": 153,
    "start_time": "2022-07-07T10:56:50.950Z"
   },
   {
    "duration": 1429,
    "start_time": "2022-07-07T10:58:17.765Z"
   },
   {
    "duration": 1409,
    "start_time": "2022-07-07T10:58:21.691Z"
   },
   {
    "duration": 15,
    "start_time": "2022-07-07T10:58:56.750Z"
   },
   {
    "duration": 1409,
    "start_time": "2022-07-07T10:58:59.700Z"
   },
   {
    "duration": 16,
    "start_time": "2022-07-07T11:03:48.856Z"
   },
   {
    "duration": 17,
    "start_time": "2022-07-07T11:04:07.052Z"
   },
   {
    "duration": 8,
    "start_time": "2022-07-07T11:04:38.394Z"
   },
   {
    "duration": 7,
    "start_time": "2022-07-07T11:04:57.210Z"
   },
   {
    "duration": 141,
    "start_time": "2022-07-07T11:05:04.290Z"
   },
   {
    "duration": 249,
    "start_time": "2022-07-07T11:06:22.297Z"
   },
   {
    "duration": 205,
    "start_time": "2022-07-07T11:17:04.862Z"
   },
   {
    "duration": 186,
    "start_time": "2022-07-07T11:17:48.457Z"
   },
   {
    "duration": 350,
    "start_time": "2022-07-07T11:18:48.502Z"
   },
   {
    "duration": 320,
    "start_time": "2022-07-07T11:18:50.494Z"
   },
   {
    "duration": 285,
    "start_time": "2022-07-07T11:19:04.182Z"
   },
   {
    "duration": 243,
    "start_time": "2022-07-07T11:19:39.422Z"
   },
   {
    "duration": 206,
    "start_time": "2022-07-07T11:19:43.390Z"
   },
   {
    "duration": 195,
    "start_time": "2022-07-07T11:20:25.806Z"
   },
   {
    "duration": 182,
    "start_time": "2022-07-07T11:21:03.774Z"
   },
   {
    "duration": 190,
    "start_time": "2022-07-07T11:21:15.101Z"
   },
   {
    "duration": 258,
    "start_time": "2022-07-07T11:22:02.343Z"
   },
   {
    "duration": 180,
    "start_time": "2022-07-07T11:22:04.997Z"
   },
   {
    "duration": 199,
    "start_time": "2022-07-07T11:26:20.156Z"
   },
   {
    "duration": 193,
    "start_time": "2022-07-07T11:26:31.803Z"
   },
   {
    "duration": 180,
    "start_time": "2022-07-07T11:26:34.060Z"
   },
   {
    "duration": 8,
    "start_time": "2022-07-07T11:29:20.372Z"
   },
   {
    "duration": 7,
    "start_time": "2022-07-07T11:31:35.890Z"
   },
   {
    "duration": 9,
    "start_time": "2022-07-07T11:31:52.658Z"
   },
   {
    "duration": 7,
    "start_time": "2022-07-07T11:35:33.786Z"
   },
   {
    "duration": 9,
    "start_time": "2022-07-07T11:35:44.314Z"
   },
   {
    "duration": 16,
    "start_time": "2022-07-07T11:36:16.818Z"
   },
   {
    "duration": 10,
    "start_time": "2022-07-07T11:36:17.195Z"
   },
   {
    "duration": 8,
    "start_time": "2022-07-07T11:43:10.697Z"
   },
   {
    "duration": 12,
    "start_time": "2022-07-07T11:43:23.514Z"
   },
   {
    "duration": 10,
    "start_time": "2022-07-07T11:43:24.393Z"
   },
   {
    "duration": 22,
    "start_time": "2022-07-07T11:43:30.840Z"
   },
   {
    "duration": 8,
    "start_time": "2022-07-07T11:43:31.704Z"
   },
   {
    "duration": 9,
    "start_time": "2022-07-07T11:50:03.697Z"
   },
   {
    "duration": 8,
    "start_time": "2022-07-07T11:50:04.653Z"
   },
   {
    "duration": 10,
    "start_time": "2022-07-07T11:50:05.686Z"
   },
   {
    "duration": 2115,
    "start_time": "2022-07-07T12:00:43.888Z"
   },
   {
    "duration": 1226,
    "start_time": "2022-07-07T12:00:52.790Z"
   },
   {
    "duration": 8,
    "start_time": "2022-07-07T12:00:58.871Z"
   },
   {
    "duration": 60,
    "start_time": "2022-07-07T12:02:30.161Z"
   },
   {
    "duration": 16,
    "start_time": "2022-07-07T12:03:08.912Z"
   },
   {
    "duration": 12,
    "start_time": "2022-07-07T12:04:32.661Z"
   },
   {
    "duration": 1273,
    "start_time": "2022-07-07T18:47:20.897Z"
   },
   {
    "duration": 105,
    "start_time": "2022-07-07T18:47:22.173Z"
   },
   {
    "duration": 4,
    "start_time": "2022-07-07T18:47:22.279Z"
   },
   {
    "duration": 26,
    "start_time": "2022-07-07T18:47:22.285Z"
   },
   {
    "duration": 17,
    "start_time": "2022-07-07T18:47:22.313Z"
   },
   {
    "duration": 9,
    "start_time": "2022-07-07T18:47:22.332Z"
   },
   {
    "duration": 20,
    "start_time": "2022-07-07T18:47:22.342Z"
   },
   {
    "duration": 39,
    "start_time": "2022-07-07T18:47:22.364Z"
   },
   {
    "duration": 26,
    "start_time": "2022-07-07T18:47:22.404Z"
   },
   {
    "duration": 349,
    "start_time": "2022-07-07T18:47:22.432Z"
   },
   {
    "duration": 12,
    "start_time": "2022-07-07T18:47:22.783Z"
   },
   {
    "duration": 7,
    "start_time": "2022-07-07T18:47:22.796Z"
   },
   {
    "duration": 165,
    "start_time": "2022-07-07T18:47:22.804Z"
   },
   {
    "duration": 157,
    "start_time": "2022-07-07T18:47:22.972Z"
   },
   {
    "duration": 157,
    "start_time": "2022-07-07T18:47:23.131Z"
   },
   {
    "duration": 146,
    "start_time": "2022-07-07T18:47:23.290Z"
   },
   {
    "duration": 156,
    "start_time": "2022-07-07T18:47:23.438Z"
   },
   {
    "duration": 15,
    "start_time": "2022-07-07T18:47:23.596Z"
   },
   {
    "duration": 22,
    "start_time": "2022-07-07T18:47:23.613Z"
   },
   {
    "duration": 1148,
    "start_time": "2022-07-07T18:47:23.637Z"
   },
   {
    "duration": 115,
    "start_time": "2022-07-07T18:47:24.787Z"
   },
   {
    "duration": 150,
    "start_time": "2022-07-07T18:47:24.904Z"
   },
   {
    "duration": 153,
    "start_time": "2022-07-07T18:47:25.055Z"
   },
   {
    "duration": 15,
    "start_time": "2022-07-07T18:47:25.209Z"
   },
   {
    "duration": 7,
    "start_time": "2022-07-07T18:47:25.225Z"
   },
   {
    "duration": 38,
    "start_time": "2022-07-07T18:47:25.234Z"
   },
   {
    "duration": 17,
    "start_time": "2022-07-07T18:47:25.274Z"
   },
   {
    "duration": 14,
    "start_time": "2022-07-07T18:47:25.293Z"
   },
   {
    "duration": 20,
    "start_time": "2022-07-07T18:47:25.308Z"
   },
   {
    "duration": 6,
    "start_time": "2022-07-07T18:47:25.329Z"
   },
   {
    "duration": 16,
    "start_time": "2022-07-07T18:47:25.337Z"
   },
   {
    "duration": 29,
    "start_time": "2022-07-07T18:47:25.355Z"
   },
   {
    "duration": 12,
    "start_time": "2022-07-07T18:47:25.386Z"
   },
   {
    "duration": 31,
    "start_time": "2022-07-07T18:47:25.400Z"
   },
   {
    "duration": 24,
    "start_time": "2022-07-07T18:47:25.433Z"
   },
   {
    "duration": 17,
    "start_time": "2022-07-07T18:47:25.458Z"
   },
   {
    "duration": 19,
    "start_time": "2022-07-07T18:47:25.476Z"
   },
   {
    "duration": 1433,
    "start_time": "2022-07-08T10:23:13.416Z"
   },
   {
    "duration": 119,
    "start_time": "2022-07-08T10:23:14.852Z"
   },
   {
    "duration": 5,
    "start_time": "2022-07-08T10:23:14.972Z"
   },
   {
    "duration": 21,
    "start_time": "2022-07-08T10:23:14.979Z"
   },
   {
    "duration": 27,
    "start_time": "2022-07-08T10:23:15.024Z"
   },
   {
    "duration": 11,
    "start_time": "2022-07-08T10:23:15.980Z"
   },
   {
    "duration": 24,
    "start_time": "2022-07-08T10:23:16.429Z"
   },
   {
    "duration": 56,
    "start_time": "2022-07-08T10:23:18.412Z"
   },
   {
    "duration": 17,
    "start_time": "2022-07-08T10:23:20.649Z"
   },
   {
    "duration": 406,
    "start_time": "2022-07-08T10:25:28.453Z"
   },
   {
    "duration": 15,
    "start_time": "2022-07-08T10:25:33.254Z"
   },
   {
    "duration": 8,
    "start_time": "2022-07-08T10:25:37.885Z"
   },
   {
    "duration": 172,
    "start_time": "2022-07-08T10:25:39.546Z"
   },
   {
    "duration": 190,
    "start_time": "2022-07-08T10:25:40.847Z"
   },
   {
    "duration": 181,
    "start_time": "2022-07-08T10:25:41.589Z"
   },
   {
    "duration": 172,
    "start_time": "2022-07-08T10:25:42.492Z"
   },
   {
    "duration": 174,
    "start_time": "2022-07-08T10:25:43.293Z"
   },
   {
    "duration": 18,
    "start_time": "2022-07-08T10:26:06.574Z"
   },
   {
    "duration": 22,
    "start_time": "2022-07-08T10:26:08.133Z"
   },
   {
    "duration": 1405,
    "start_time": "2022-07-08T10:26:11.947Z"
   },
   {
    "duration": 122,
    "start_time": "2022-07-08T10:26:32.189Z"
   },
   {
    "duration": 104,
    "start_time": "2022-07-08T10:27:39.367Z"
   },
   {
    "duration": 45,
    "start_time": "2022-07-08T10:27:47.365Z"
   },
   {
    "duration": 51,
    "start_time": "2022-07-08T10:27:49.023Z"
   },
   {
    "duration": 11,
    "start_time": "2022-07-08T10:28:12.461Z"
   },
   {
    "duration": 23,
    "start_time": "2022-07-08T10:34:45.415Z"
   },
   {
    "duration": 159,
    "start_time": "2022-07-08T10:35:01.148Z"
   },
   {
    "duration": 1225,
    "start_time": "2022-07-08T10:36:16.164Z"
   },
   {
    "duration": 19,
    "start_time": "2022-07-08T10:36:49.110Z"
   },
   {
    "duration": 1069,
    "start_time": "2022-07-08T10:36:52.229Z"
   },
   {
    "duration": 14,
    "start_time": "2022-07-08T10:39:29.939Z"
   },
   {
    "duration": 1311,
    "start_time": "2022-07-08T10:40:04.387Z"
   },
   {
    "duration": 24,
    "start_time": "2022-07-08T10:41:05.931Z"
   },
   {
    "duration": 17,
    "start_time": "2022-07-08T10:42:01.037Z"
   },
   {
    "duration": 6487,
    "start_time": "2022-07-08T10:42:09.522Z"
   },
   {
    "duration": 6229,
    "start_time": "2022-07-08T10:42:24.318Z"
   },
   {
    "duration": 1039,
    "start_time": "2022-07-08T10:42:40.569Z"
   },
   {
    "duration": 132,
    "start_time": "2022-07-08T10:48:42.113Z"
   },
   {
    "duration": 170,
    "start_time": "2022-07-08T10:49:14.103Z"
   },
   {
    "duration": 5,
    "start_time": "2022-07-08T10:49:38.310Z"
   },
   {
    "duration": 169,
    "start_time": "2022-07-08T10:49:43.336Z"
   },
   {
    "duration": 32,
    "start_time": "2022-07-08T10:49:53.240Z"
   },
   {
    "duration": 127,
    "start_time": "2022-07-08T10:50:08.351Z"
   },
   {
    "duration": 97,
    "start_time": "2022-07-08T10:50:20.279Z"
   },
   {
    "duration": 130,
    "start_time": "2022-07-08T10:50:31.151Z"
   },
   {
    "duration": 17,
    "start_time": "2022-07-08T10:51:56.135Z"
   },
   {
    "duration": 20,
    "start_time": "2022-07-08T10:52:09.478Z"
   },
   {
    "duration": 1369,
    "start_time": "2022-07-08T10:53:40.439Z"
   },
   {
    "duration": 10,
    "start_time": "2022-07-08T10:56:40.949Z"
   },
   {
    "duration": 132,
    "start_time": "2022-07-08T10:59:02.846Z"
   },
   {
    "duration": 12,
    "start_time": "2022-07-08T10:59:12.573Z"
   },
   {
    "duration": 151,
    "start_time": "2022-07-08T10:59:16.894Z"
   },
   {
    "duration": 9,
    "start_time": "2022-07-08T10:59:26.278Z"
   },
   {
    "duration": 62,
    "start_time": "2022-07-08T10:59:38.277Z"
   },
   {
    "duration": 22,
    "start_time": "2022-07-08T10:59:42.321Z"
   },
   {
    "duration": 239,
    "start_time": "2022-07-08T11:00:26.471Z"
   },
   {
    "duration": 10,
    "start_time": "2022-07-08T11:00:42.686Z"
   },
   {
    "duration": 230,
    "start_time": "2022-07-08T11:00:46.959Z"
   },
   {
    "duration": 386,
    "start_time": "2022-07-08T11:03:08.738Z"
   },
   {
    "duration": 262,
    "start_time": "2022-07-08T11:03:13.478Z"
   },
   {
    "duration": 251,
    "start_time": "2022-07-08T11:03:29.062Z"
   },
   {
    "duration": 256,
    "start_time": "2022-07-08T11:04:05.138Z"
   },
   {
    "duration": 249,
    "start_time": "2022-07-08T11:04:27.262Z"
   },
   {
    "duration": 359,
    "start_time": "2022-07-08T11:04:31.872Z"
   },
   {
    "duration": 119,
    "start_time": "2022-07-08T11:04:46.598Z"
   },
   {
    "duration": 135,
    "start_time": "2022-07-08T11:06:26.375Z"
   },
   {
    "duration": 145,
    "start_time": "2022-07-08T11:06:31.174Z"
   },
   {
    "duration": 271,
    "start_time": "2022-07-08T11:06:37.016Z"
   },
   {
    "duration": 285,
    "start_time": "2022-07-08T11:06:48.174Z"
   },
   {
    "duration": 253,
    "start_time": "2022-07-08T11:07:02.415Z"
   },
   {
    "duration": 11,
    "start_time": "2022-07-08T11:07:08.990Z"
   },
   {
    "duration": 247,
    "start_time": "2022-07-08T11:07:16.039Z"
   },
   {
    "duration": 391,
    "start_time": "2022-07-08T11:07:23.599Z"
   },
   {
    "duration": 10,
    "start_time": "2022-07-08T11:07:37.249Z"
   },
   {
    "duration": 256,
    "start_time": "2022-07-08T11:09:44.822Z"
   },
   {
    "duration": 344,
    "start_time": "2022-07-08T11:10:10.807Z"
   },
   {
    "duration": 259,
    "start_time": "2022-07-08T11:10:19.446Z"
   },
   {
    "duration": 241,
    "start_time": "2022-07-08T11:10:26.536Z"
   },
   {
    "duration": 251,
    "start_time": "2022-07-08T11:10:36.247Z"
   },
   {
    "duration": 376,
    "start_time": "2022-07-08T11:10:46.614Z"
   },
   {
    "duration": 282,
    "start_time": "2022-07-08T11:10:50.758Z"
   },
   {
    "duration": 265,
    "start_time": "2022-07-08T11:10:54.791Z"
   },
   {
    "duration": 270,
    "start_time": "2022-07-08T11:10:59.799Z"
   },
   {
    "duration": 12,
    "start_time": "2022-07-08T11:14:00.647Z"
   },
   {
    "duration": 234,
    "start_time": "2022-07-08T11:14:07.235Z"
   },
   {
    "duration": 167,
    "start_time": "2022-07-08T11:14:16.182Z"
   },
   {
    "duration": 41,
    "start_time": "2022-07-08T11:14:50.328Z"
   },
   {
    "duration": 194,
    "start_time": "2022-07-08T11:15:05.623Z"
   },
   {
    "duration": 186,
    "start_time": "2022-07-08T11:15:31.223Z"
   },
   {
    "duration": 310,
    "start_time": "2022-07-08T11:15:54.966Z"
   },
   {
    "duration": 907,
    "start_time": "2022-07-08T11:20:07.678Z"
   },
   {
    "duration": 861,
    "start_time": "2022-07-08T11:21:57.590Z"
   },
   {
    "duration": 1012,
    "start_time": "2022-07-08T11:23:07.013Z"
   },
   {
    "duration": 13,
    "start_time": "2022-07-08T11:24:17.669Z"
   },
   {
    "duration": 15,
    "start_time": "2022-07-08T11:24:38.076Z"
   },
   {
    "duration": 18,
    "start_time": "2022-07-08T11:24:42.675Z"
   },
   {
    "duration": 336,
    "start_time": "2022-07-08T11:26:53.640Z"
   },
   {
    "duration": 290,
    "start_time": "2022-07-08T11:26:59.387Z"
   },
   {
    "duration": 295,
    "start_time": "2022-07-08T11:27:13.668Z"
   },
   {
    "duration": 296,
    "start_time": "2022-07-08T11:28:41.509Z"
   },
   {
    "duration": 71,
    "start_time": "2022-07-08T11:28:54.632Z"
   },
   {
    "duration": 300,
    "start_time": "2022-07-08T11:29:31.659Z"
   },
   {
    "duration": 420,
    "start_time": "2022-07-08T11:29:55.291Z"
   },
   {
    "duration": 447,
    "start_time": "2022-07-08T11:30:03.994Z"
   },
   {
    "duration": 337,
    "start_time": "2022-07-08T11:30:10.466Z"
   },
   {
    "duration": 302,
    "start_time": "2022-07-08T11:30:16.867Z"
   },
   {
    "duration": 336,
    "start_time": "2022-07-08T11:30:20.764Z"
   },
   {
    "duration": 424,
    "start_time": "2022-07-08T11:30:27.764Z"
   },
   {
    "duration": 299,
    "start_time": "2022-07-08T11:30:36.179Z"
   },
   {
    "duration": 142,
    "start_time": "2022-07-08T11:30:48.395Z"
   },
   {
    "duration": 306,
    "start_time": "2022-07-08T11:31:34.901Z"
   },
   {
    "duration": 333,
    "start_time": "2022-07-08T11:31:39.835Z"
   },
   {
    "duration": 468,
    "start_time": "2022-07-08T11:31:44.492Z"
   },
   {
    "duration": 546,
    "start_time": "2022-07-08T11:31:49.322Z"
   },
   {
    "duration": 332,
    "start_time": "2022-07-08T11:31:53.916Z"
   },
   {
    "duration": 314,
    "start_time": "2022-07-08T11:32:01.440Z"
   },
   {
    "duration": 345,
    "start_time": "2022-07-08T11:32:09.970Z"
   },
   {
    "duration": 338,
    "start_time": "2022-07-08T11:32:13.869Z"
   },
   {
    "duration": 318,
    "start_time": "2022-07-08T11:32:17.338Z"
   },
   {
    "duration": 461,
    "start_time": "2022-07-08T11:32:20.689Z"
   },
   {
    "duration": 333,
    "start_time": "2022-07-08T11:32:30.936Z"
   },
   {
    "duration": 304,
    "start_time": "2022-07-08T11:32:33.658Z"
   },
   {
    "duration": 286,
    "start_time": "2022-07-08T11:32:36.402Z"
   },
   {
    "duration": 331,
    "start_time": "2022-07-08T11:32:40.026Z"
   },
   {
    "duration": 530,
    "start_time": "2022-07-08T11:32:44.514Z"
   },
   {
    "duration": 51,
    "start_time": "2022-07-08T11:32:49.564Z"
   },
   {
    "duration": 312,
    "start_time": "2022-07-08T11:32:53.049Z"
   },
   {
    "duration": 292,
    "start_time": "2022-07-08T11:33:03.147Z"
   },
   {
    "duration": 300,
    "start_time": "2022-07-08T11:33:07.082Z"
   },
   {
    "duration": 336,
    "start_time": "2022-07-08T11:34:52.194Z"
   },
   {
    "duration": 307,
    "start_time": "2022-07-08T11:34:57.985Z"
   },
   {
    "duration": 465,
    "start_time": "2022-07-08T11:36:34.001Z"
   },
   {
    "duration": 301,
    "start_time": "2022-07-08T11:36:34.970Z"
   },
   {
    "duration": 8,
    "start_time": "2022-07-08T11:37:40.792Z"
   },
   {
    "duration": 7,
    "start_time": "2022-07-08T11:37:41.176Z"
   },
   {
    "duration": 8,
    "start_time": "2022-07-08T11:37:41.360Z"
   },
   {
    "duration": 8,
    "start_time": "2022-07-08T11:37:42.640Z"
   },
   {
    "duration": 7,
    "start_time": "2022-07-08T11:37:42.872Z"
   },
   {
    "duration": 7,
    "start_time": "2022-07-08T11:37:44.304Z"
   },
   {
    "duration": 8,
    "start_time": "2022-07-08T11:38:28.193Z"
   },
   {
    "duration": 8,
    "start_time": "2022-07-08T11:38:28.696Z"
   },
   {
    "duration": 10,
    "start_time": "2022-07-08T11:38:28.872Z"
   },
   {
    "duration": 8,
    "start_time": "2022-07-08T11:38:35.272Z"
   },
   {
    "duration": 12,
    "start_time": "2022-07-08T11:39:47.695Z"
   },
   {
    "duration": 15,
    "start_time": "2022-07-08T11:40:30.552Z"
   },
   {
    "duration": 17,
    "start_time": "2022-07-08T11:40:52.120Z"
   },
   {
    "duration": 171,
    "start_time": "2022-07-08T12:06:04.305Z"
   },
   {
    "duration": 123,
    "start_time": "2022-07-08T12:06:06.713Z"
   },
   {
    "duration": 117,
    "start_time": "2022-07-08T12:06:20.073Z"
   },
   {
    "duration": 126,
    "start_time": "2022-07-08T12:11:33.414Z"
   },
   {
    "duration": 146,
    "start_time": "2022-07-08T12:11:42.934Z"
   },
   {
    "duration": 11,
    "start_time": "2022-07-08T12:12:27.381Z"
   },
   {
    "duration": 13,
    "start_time": "2022-07-08T12:15:32.899Z"
   },
   {
    "duration": 153,
    "start_time": "2022-07-08T12:15:44.739Z"
   },
   {
    "duration": 169,
    "start_time": "2022-07-08T12:15:54.315Z"
   },
   {
    "duration": 142,
    "start_time": "2022-07-08T12:16:01.685Z"
   },
   {
    "duration": 107,
    "start_time": "2022-07-08T12:16:11.971Z"
   },
   {
    "duration": 124,
    "start_time": "2022-07-08T12:16:23.171Z"
   },
   {
    "duration": 245,
    "start_time": "2022-07-08T12:16:31.635Z"
   },
   {
    "duration": 104,
    "start_time": "2022-07-08T12:16:35.587Z"
   },
   {
    "duration": 121,
    "start_time": "2022-07-08T12:16:41.700Z"
   },
   {
    "duration": 147,
    "start_time": "2022-07-08T12:16:51.388Z"
   },
   {
    "duration": 149,
    "start_time": "2022-07-08T12:17:55.489Z"
   },
   {
    "duration": 149,
    "start_time": "2022-07-08T12:18:58.435Z"
   },
   {
    "duration": 146,
    "start_time": "2022-07-08T12:19:03.533Z"
   },
   {
    "duration": 147,
    "start_time": "2022-07-08T12:19:08.115Z"
   },
   {
    "duration": 146,
    "start_time": "2022-07-08T12:19:15.810Z"
   },
   {
    "duration": 155,
    "start_time": "2022-07-08T12:19:18.603Z"
   },
   {
    "duration": 150,
    "start_time": "2022-07-08T12:19:49.203Z"
   },
   {
    "duration": 153,
    "start_time": "2022-07-08T12:19:54.048Z"
   },
   {
    "duration": 150,
    "start_time": "2022-07-08T12:19:56.778Z"
   },
   {
    "duration": 159,
    "start_time": "2022-07-08T12:20:08.707Z"
   },
   {
    "duration": 278,
    "start_time": "2022-07-08T12:20:43.305Z"
   },
   {
    "duration": 186,
    "start_time": "2022-07-08T12:20:47.241Z"
   },
   {
    "duration": 160,
    "start_time": "2022-07-08T12:20:52.586Z"
   },
   {
    "duration": 152,
    "start_time": "2022-07-08T12:21:15.763Z"
   },
   {
    "duration": 163,
    "start_time": "2022-07-08T12:21:19.418Z"
   },
   {
    "duration": 164,
    "start_time": "2022-07-08T12:21:22.521Z"
   },
   {
    "duration": 50,
    "start_time": "2022-07-08T12:22:29.538Z"
   },
   {
    "duration": 150,
    "start_time": "2022-07-08T12:22:33.469Z"
   },
   {
    "duration": 149,
    "start_time": "2022-07-08T12:22:38.090Z"
   },
   {
    "duration": 162,
    "start_time": "2022-07-08T12:22:41.339Z"
   },
   {
    "duration": 52,
    "start_time": "2022-07-08T12:22:44.839Z"
   },
   {
    "duration": 161,
    "start_time": "2022-07-08T12:22:49.361Z"
   },
   {
    "duration": 85,
    "start_time": "2022-07-08T12:28:52.027Z"
   },
   {
    "duration": 61,
    "start_time": "2022-07-08T12:29:26.505Z"
   },
   {
    "duration": 82,
    "start_time": "2022-07-08T12:30:30.461Z"
   },
   {
    "duration": 61,
    "start_time": "2022-07-08T12:31:38.246Z"
   },
   {
    "duration": 15,
    "start_time": "2022-07-08T13:36:48.758Z"
   },
   {
    "duration": 135,
    "start_time": "2022-07-08T13:36:57.092Z"
   },
   {
    "duration": 3,
    "start_time": "2022-07-08T13:37:28.680Z"
   },
   {
    "duration": 86,
    "start_time": "2022-07-08T13:37:28.786Z"
   },
   {
    "duration": 5,
    "start_time": "2022-07-08T13:37:28.904Z"
   },
   {
    "duration": 16,
    "start_time": "2022-07-08T13:37:28.990Z"
   },
   {
    "duration": 18,
    "start_time": "2022-07-08T13:37:29.043Z"
   },
   {
    "duration": 10,
    "start_time": "2022-07-08T13:37:29.158Z"
   },
   {
    "duration": 19,
    "start_time": "2022-07-08T13:37:29.246Z"
   },
   {
    "duration": 45,
    "start_time": "2022-07-08T13:37:29.385Z"
   },
   {
    "duration": 17,
    "start_time": "2022-07-08T13:37:29.478Z"
   },
   {
    "duration": 413,
    "start_time": "2022-07-08T13:37:29.653Z"
   },
   {
    "duration": 16,
    "start_time": "2022-07-08T13:37:30.069Z"
   },
   {
    "duration": 19,
    "start_time": "2022-07-08T13:37:30.087Z"
   },
   {
    "duration": 340,
    "start_time": "2022-07-08T13:37:30.108Z"
   },
   {
    "duration": 197,
    "start_time": "2022-07-08T13:37:30.450Z"
   },
   {
    "duration": 191,
    "start_time": "2022-07-08T13:37:30.649Z"
   },
   {
    "duration": 199,
    "start_time": "2022-07-08T13:37:30.842Z"
   },
   {
    "duration": 188,
    "start_time": "2022-07-08T13:37:31.043Z"
   },
   {
    "duration": 18,
    "start_time": "2022-07-08T13:37:31.233Z"
   },
   {
    "duration": 103,
    "start_time": "2022-07-08T13:37:31.253Z"
   },
   {
    "duration": 1288,
    "start_time": "2022-07-08T13:37:31.358Z"
   },
   {
    "duration": 406,
    "start_time": "2022-07-08T13:37:32.648Z"
   },
   {
    "duration": 283,
    "start_time": "2022-07-08T13:37:33.057Z"
   },
   {
    "duration": 986,
    "start_time": "2022-07-08T13:37:36.356Z"
   },
   {
    "duration": 267,
    "start_time": "2022-07-08T13:39:05.377Z"
   },
   {
    "duration": 405,
    "start_time": "2022-07-08T13:39:08.389Z"
   },
   {
    "duration": 264,
    "start_time": "2022-07-08T13:39:12.089Z"
   },
   {
    "duration": 57,
    "start_time": "2022-07-08T13:39:49.030Z"
   },
   {
    "duration": 962,
    "start_time": "2022-07-08T13:40:03.957Z"
   },
   {
    "duration": 929,
    "start_time": "2022-07-08T13:40:19.764Z"
   },
   {
    "duration": 862,
    "start_time": "2022-07-08T13:40:26.107Z"
   },
   {
    "duration": 15,
    "start_time": "2022-07-08T13:40:38.055Z"
   },
   {
    "duration": 435,
    "start_time": "2022-07-08T13:40:42.628Z"
   },
   {
    "duration": 282,
    "start_time": "2022-07-08T13:40:47.453Z"
   },
   {
    "duration": 288,
    "start_time": "2022-07-08T13:40:52.062Z"
   },
   {
    "duration": 358,
    "start_time": "2022-07-08T13:40:54.327Z"
   },
   {
    "duration": 138,
    "start_time": "2022-07-08T13:41:15.661Z"
   },
   {
    "duration": 139,
    "start_time": "2022-07-08T13:41:19.005Z"
   },
   {
    "duration": 9,
    "start_time": "2022-07-08T13:41:36.011Z"
   },
   {
    "duration": 125,
    "start_time": "2022-07-08T13:41:44.628Z"
   },
   {
    "duration": 265,
    "start_time": "2022-07-08T13:41:49.693Z"
   },
   {
    "duration": 131,
    "start_time": "2022-07-08T13:41:59.346Z"
   },
   {
    "duration": 136,
    "start_time": "2022-07-08T13:42:56.557Z"
   },
   {
    "duration": 144,
    "start_time": "2022-07-08T13:43:08.628Z"
   },
   {
    "duration": 4,
    "start_time": "2022-07-08T13:43:17.157Z"
   },
   {
    "duration": 75,
    "start_time": "2022-07-08T13:43:17.198Z"
   },
   {
    "duration": 5,
    "start_time": "2022-07-08T13:43:17.287Z"
   },
   {
    "duration": 16,
    "start_time": "2022-07-08T13:43:17.393Z"
   },
   {
    "duration": 20,
    "start_time": "2022-07-08T13:43:17.458Z"
   },
   {
    "duration": 9,
    "start_time": "2022-07-08T13:43:17.560Z"
   },
   {
    "duration": 16,
    "start_time": "2022-07-08T13:43:17.662Z"
   },
   {
    "duration": 41,
    "start_time": "2022-07-08T13:43:17.800Z"
   },
   {
    "duration": 17,
    "start_time": "2022-07-08T13:43:17.897Z"
   },
   {
    "duration": 418,
    "start_time": "2022-07-08T13:43:18.056Z"
   },
   {
    "duration": 16,
    "start_time": "2022-07-08T13:43:18.476Z"
   },
   {
    "duration": 9,
    "start_time": "2022-07-08T13:43:18.493Z"
   },
   {
    "duration": 222,
    "start_time": "2022-07-08T13:43:18.523Z"
   },
   {
    "duration": 203,
    "start_time": "2022-07-08T13:43:18.747Z"
   },
   {
    "duration": 180,
    "start_time": "2022-07-08T13:43:20.051Z"
   },
   {
    "duration": 175,
    "start_time": "2022-07-08T13:43:20.277Z"
   },
   {
    "duration": 180,
    "start_time": "2022-07-08T13:43:20.841Z"
   },
   {
    "duration": 18,
    "start_time": "2022-07-08T13:43:22.182Z"
   },
   {
    "duration": 11,
    "start_time": "2022-07-08T13:43:23.065Z"
   },
   {
    "duration": 1414,
    "start_time": "2022-07-08T13:43:23.228Z"
   },
   {
    "duration": 265,
    "start_time": "2022-07-08T13:43:24.644Z"
   },
   {
    "duration": 276,
    "start_time": "2022-07-08T13:43:24.911Z"
   },
   {
    "duration": 926,
    "start_time": "2022-07-08T13:43:25.189Z"
   },
   {
    "duration": 1033,
    "start_time": "2022-07-08T13:43:26.117Z"
   },
   {
    "duration": 15,
    "start_time": "2022-07-08T13:43:27.153Z"
   },
   {
    "duration": 295,
    "start_time": "2022-07-08T13:43:28.996Z"
   },
   {
    "duration": 282,
    "start_time": "2022-07-08T13:43:30.309Z"
   },
   {
    "duration": 134,
    "start_time": "2022-07-08T13:43:32.982Z"
   },
   {
    "duration": 137,
    "start_time": "2022-07-08T13:43:37.876Z"
   },
   {
    "duration": 12,
    "start_time": "2022-07-08T13:43:42.908Z"
   },
   {
    "duration": 13,
    "start_time": "2022-07-08T13:43:56.554Z"
   },
   {
    "duration": 149,
    "start_time": "2022-07-08T13:44:03.131Z"
   },
   {
    "duration": 18299,
    "start_time": "2022-07-08T13:44:08.788Z"
   },
   {
    "duration": 126,
    "start_time": "2022-07-08T13:44:37.499Z"
   },
   {
    "duration": 7,
    "start_time": "2022-07-08T13:44:46.483Z"
   },
   {
    "duration": 9,
    "start_time": "2022-07-08T13:44:53.837Z"
   },
   {
    "duration": 134,
    "start_time": "2022-07-08T13:45:05.027Z"
   },
   {
    "duration": 131,
    "start_time": "2022-07-08T13:45:15.324Z"
   },
   {
    "duration": 123,
    "start_time": "2022-07-08T13:45:19.292Z"
   },
   {
    "duration": 131,
    "start_time": "2022-07-08T13:45:22.931Z"
   },
   {
    "duration": 129,
    "start_time": "2022-07-08T13:45:38.172Z"
   },
   {
    "duration": 143,
    "start_time": "2022-07-08T13:46:00.764Z"
   },
   {
    "duration": 136,
    "start_time": "2022-07-08T13:46:16.331Z"
   },
   {
    "duration": 156,
    "start_time": "2022-07-08T13:46:36.083Z"
   },
   {
    "duration": 163,
    "start_time": "2022-07-08T13:46:47.484Z"
   },
   {
    "duration": 159,
    "start_time": "2022-07-08T13:47:00.195Z"
   },
   {
    "duration": 155,
    "start_time": "2022-07-08T13:47:19.755Z"
   },
   {
    "duration": 161,
    "start_time": "2022-07-08T13:47:29.843Z"
   },
   {
    "duration": 160,
    "start_time": "2022-07-08T13:47:41.419Z"
   },
   {
    "duration": 142,
    "start_time": "2022-07-08T13:47:49.581Z"
   },
   {
    "duration": 142,
    "start_time": "2022-07-08T13:47:57.226Z"
   },
   {
    "duration": 149,
    "start_time": "2022-07-08T13:48:10.659Z"
   },
   {
    "duration": 134,
    "start_time": "2022-07-08T13:48:13.379Z"
   },
   {
    "duration": 126,
    "start_time": "2022-07-08T13:48:15.666Z"
   },
   {
    "duration": 166,
    "start_time": "2022-07-08T13:48:17.587Z"
   },
   {
    "duration": 163,
    "start_time": "2022-07-08T13:48:19.386Z"
   },
   {
    "duration": 586,
    "start_time": "2022-07-08T13:48:21.570Z"
   },
   {
    "duration": 100,
    "start_time": "2022-07-08T13:49:12.962Z"
   },
   {
    "duration": 97,
    "start_time": "2022-07-08T13:49:57.738Z"
   },
   {
    "duration": 94,
    "start_time": "2022-07-08T13:50:12.632Z"
   },
   {
    "duration": 1292,
    "start_time": "2022-07-08T22:45:28.586Z"
   },
   {
    "duration": 106,
    "start_time": "2022-07-08T22:45:29.880Z"
   },
   {
    "duration": 4,
    "start_time": "2022-07-08T22:45:29.988Z"
   },
   {
    "duration": 16,
    "start_time": "2022-07-08T22:45:29.994Z"
   },
   {
    "duration": 15,
    "start_time": "2022-07-08T22:45:30.013Z"
   },
   {
    "duration": 9,
    "start_time": "2022-07-08T22:45:30.030Z"
   },
   {
    "duration": 16,
    "start_time": "2022-07-08T22:45:30.041Z"
   },
   {
    "duration": 60,
    "start_time": "2022-07-08T22:45:30.058Z"
   },
   {
    "duration": 15,
    "start_time": "2022-07-08T22:45:30.119Z"
   },
   {
    "duration": 330,
    "start_time": "2022-07-08T22:45:30.135Z"
   },
   {
    "duration": 12,
    "start_time": "2022-07-08T22:45:30.467Z"
   },
   {
    "duration": 20,
    "start_time": "2022-07-08T22:45:30.481Z"
   },
   {
    "duration": 158,
    "start_time": "2022-07-08T22:45:30.503Z"
   },
   {
    "duration": 148,
    "start_time": "2022-07-08T22:45:30.663Z"
   },
   {
    "duration": 159,
    "start_time": "2022-07-08T22:45:30.812Z"
   },
   {
    "duration": 148,
    "start_time": "2022-07-08T22:45:30.973Z"
   },
   {
    "duration": 147,
    "start_time": "2022-07-08T22:45:31.123Z"
   },
   {
    "duration": 17,
    "start_time": "2022-07-08T22:45:31.272Z"
   },
   {
    "duration": 10,
    "start_time": "2022-07-08T22:45:31.301Z"
   },
   {
    "duration": 1113,
    "start_time": "2022-07-08T22:45:31.312Z"
   },
   {
    "duration": 229,
    "start_time": "2022-07-08T22:45:32.427Z"
   },
   {
    "duration": 326,
    "start_time": "2022-07-08T22:45:32.657Z"
   },
   {
    "duration": 744,
    "start_time": "2022-07-08T22:45:32.984Z"
   },
   {
    "duration": 744,
    "start_time": "2022-07-08T22:45:33.730Z"
   },
   {
    "duration": 14,
    "start_time": "2022-07-08T22:45:34.475Z"
   },
   {
    "duration": 327,
    "start_time": "2022-07-08T22:45:34.501Z"
   },
   {
    "duration": 261,
    "start_time": "2022-07-08T22:45:34.829Z"
   },
   {
    "duration": 151,
    "start_time": "2022-07-08T22:45:35.100Z"
   },
   {
    "duration": 156,
    "start_time": "2022-07-08T22:45:35.253Z"
   },
   {
    "duration": 136,
    "start_time": "2022-07-08T22:45:35.411Z"
   },
   {
    "duration": 179,
    "start_time": "2022-07-08T22:45:35.548Z"
   },
   {
    "duration": 160,
    "start_time": "2022-07-08T22:45:35.729Z"
   },
   {
    "duration": 159,
    "start_time": "2022-07-08T22:45:35.891Z"
   },
   {
    "duration": 98,
    "start_time": "2022-07-08T22:45:36.051Z"
   },
   {
    "duration": 104,
    "start_time": "2022-07-08T22:45:36.151Z"
   },
   {
    "duration": 186,
    "start_time": "2022-07-08T22:45:36.257Z"
   },
   {
    "duration": 10,
    "start_time": "2022-07-08T22:45:36.444Z"
   },
   {
    "duration": 28,
    "start_time": "2022-07-08T22:45:36.456Z"
   },
   {
    "duration": 27,
    "start_time": "2022-07-08T22:45:36.485Z"
   }
  ],
  "kernelspec": {
   "display_name": "Python 3 (ipykernel)",
   "language": "python",
   "name": "python3"
  },
  "language_info": {
   "codemirror_mode": {
    "name": "ipython",
    "version": 3
   },
   "file_extension": ".py",
   "mimetype": "text/x-python",
   "name": "python",
   "nbconvert_exporter": "python",
   "pygments_lexer": "ipython3",
   "version": "3.10.7"
  },
  "toc": {
   "base_numbering": 1,
   "nav_menu": {},
   "number_sections": true,
   "sideBar": true,
   "skip_h1_title": true,
   "title_cell": "Table of Contents",
   "title_sidebar": "Contents",
   "toc_cell": false,
   "toc_position": {
    "height": "calc(100% - 180px)",
    "left": "10px",
    "top": "150px",
    "width": "189.682px"
   },
   "toc_section_display": true,
   "toc_window_display": true
  }
 },
 "nbformat": 4,
 "nbformat_minor": 4
}
