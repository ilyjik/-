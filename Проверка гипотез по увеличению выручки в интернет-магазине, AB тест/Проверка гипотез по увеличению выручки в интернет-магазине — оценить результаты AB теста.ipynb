{
 "cells": [
  {
   "cell_type": "markdown",
   "metadata": {},
   "source": [
    "<h1>Описание проекта</h1>"
   ]
  },
  {
   "cell_type": "markdown",
   "metadata": {},
   "source": [
    "Необходимо приоритизировать гипотезы (по фрейморкам ICE и RICE), запустить A/B тест и проанализировать результаты данного теста."
   ]
  },
  {
   "cell_type": "markdown",
   "metadata": {},
   "source": [
    "<h1>Описание данных</h1>"
   ]
  },
  {
   "cell_type": "markdown",
   "metadata": {},
   "source": [
    "Файл /datasets/hypothesis.csv\n",
    "\n",
    "Hypothesis — краткое описание гипотезы;\n",
    "\n",
    "Reach — охват пользователей по 10-балльной шкале;\n",
    "\n",
    "Impact — влияние на пользователей по 10-балльной шкале;\n",
    "\n",
    "Confidence — уверенность в гипотезе по 10-балльной шкале;\n",
    "\n",
    "Efforts — затраты ресурсов на проверку гипотезы по 10-балльной шкале. Чем больше значение Efforts, тем дороже проверка гипотезы.\n"
   ]
  },
  {
   "cell_type": "markdown",
   "metadata": {},
   "source": [
    "Файл /datasets/orders.csv\n",
    "\n",
    "transactionId — идентификатор заказа;\n",
    "\n",
    "visitorId — идентификатор пользователя, совершившего заказ;\n",
    "\n",
    "date — дата, когда был совершён заказ;\n",
    "\n",
    "revenue — выручка заказа;\n",
    "\n",
    "group — группа A/B-теста, в которую попал заказ\n",
    "\n"
   ]
  },
  {
   "cell_type": "markdown",
   "metadata": {},
   "source": [
    "Файл /datasets/visitors.csv\n",
    "\n",
    "date — дата;\n",
    "\n",
    "group — группа A/B-теста;\n",
    "\n",
    "visitors — количество пользователей в указанную дату в указанной группе A/B-теста"
   ]
  },
  {
   "cell_type": "markdown",
   "metadata": {},
   "source": [
    "<h1>Содержание</h1>"
   ]
  },
  {
   "cell_type": "markdown",
   "metadata": {},
   "source": [
    "1. Приоритизация гипотез\n",
    "2. Анализ A/B теста\n",
    "3. Вывод"
   ]
  },
  {
   "cell_type": "markdown",
   "metadata": {},
   "source": [
    "<h1>Приоритизация гипотез</h1>"
   ]
  },
  {
   "cell_type": "code",
   "execution_count": 1,
   "metadata": {},
   "outputs": [],
   "source": [
    "import pandas as pd\n",
    "import numpy as np\n",
    "import matplotlib.pyplot as plt\n",
    "import scipy.stats as stats\n",
    "import datetime as dt"
   ]
  },
  {
   "cell_type": "code",
   "execution_count": 2,
   "metadata": {
    "scrolled": true
   },
   "outputs": [
    {
     "data": {
      "text/html": [
       "<div>\n",
       "<style scoped>\n",
       "    .dataframe tbody tr th:only-of-type {\n",
       "        vertical-align: middle;\n",
       "    }\n",
       "\n",
       "    .dataframe tbody tr th {\n",
       "        vertical-align: top;\n",
       "    }\n",
       "\n",
       "    .dataframe thead th {\n",
       "        text-align: right;\n",
       "    }\n",
       "</style>\n",
       "<table border=\"1\" class=\"dataframe\">\n",
       "  <thead>\n",
       "    <tr style=\"text-align: right;\">\n",
       "      <th></th>\n",
       "      <th>Hypothesis</th>\n",
       "      <th>Reach</th>\n",
       "      <th>Impact</th>\n",
       "      <th>Confidence</th>\n",
       "      <th>Efforts</th>\n",
       "    </tr>\n",
       "  </thead>\n",
       "  <tbody>\n",
       "    <tr>\n",
       "      <th>0</th>\n",
       "      <td>Добавить два новых канала привлечения трафика,...</td>\n",
       "      <td>3</td>\n",
       "      <td>10</td>\n",
       "      <td>8</td>\n",
       "      <td>6</td>\n",
       "    </tr>\n",
       "    <tr>\n",
       "      <th>1</th>\n",
       "      <td>Запустить собственную службу доставки, что сок...</td>\n",
       "      <td>2</td>\n",
       "      <td>5</td>\n",
       "      <td>4</td>\n",
       "      <td>10</td>\n",
       "    </tr>\n",
       "    <tr>\n",
       "      <th>2</th>\n",
       "      <td>Добавить блоки рекомендаций товаров на сайт ин...</td>\n",
       "      <td>8</td>\n",
       "      <td>3</td>\n",
       "      <td>7</td>\n",
       "      <td>3</td>\n",
       "    </tr>\n",
       "    <tr>\n",
       "      <th>3</th>\n",
       "      <td>Изменить структура категорий, что увеличит кон...</td>\n",
       "      <td>8</td>\n",
       "      <td>3</td>\n",
       "      <td>3</td>\n",
       "      <td>8</td>\n",
       "    </tr>\n",
       "    <tr>\n",
       "      <th>4</th>\n",
       "      <td>Изменить цвет фона главной страницы, чтобы уве...</td>\n",
       "      <td>3</td>\n",
       "      <td>1</td>\n",
       "      <td>1</td>\n",
       "      <td>1</td>\n",
       "    </tr>\n",
       "    <tr>\n",
       "      <th>5</th>\n",
       "      <td>Добавить страницу отзывов клиентов о магазине,...</td>\n",
       "      <td>3</td>\n",
       "      <td>2</td>\n",
       "      <td>2</td>\n",
       "      <td>3</td>\n",
       "    </tr>\n",
       "    <tr>\n",
       "      <th>6</th>\n",
       "      <td>Показать на главной странице баннеры с актуаль...</td>\n",
       "      <td>5</td>\n",
       "      <td>3</td>\n",
       "      <td>8</td>\n",
       "      <td>3</td>\n",
       "    </tr>\n",
       "    <tr>\n",
       "      <th>7</th>\n",
       "      <td>Добавить форму подписки на все основные страни...</td>\n",
       "      <td>10</td>\n",
       "      <td>7</td>\n",
       "      <td>8</td>\n",
       "      <td>5</td>\n",
       "    </tr>\n",
       "    <tr>\n",
       "      <th>8</th>\n",
       "      <td>Запустить акцию, дающую скидку на товар в день...</td>\n",
       "      <td>1</td>\n",
       "      <td>9</td>\n",
       "      <td>9</td>\n",
       "      <td>5</td>\n",
       "    </tr>\n",
       "  </tbody>\n",
       "</table>\n",
       "</div>"
      ],
      "text/plain": [
       "                                          Hypothesis  Reach  Impact  \\\n",
       "0  Добавить два новых канала привлечения трафика,...      3      10   \n",
       "1  Запустить собственную службу доставки, что сок...      2       5   \n",
       "2  Добавить блоки рекомендаций товаров на сайт ин...      8       3   \n",
       "3  Изменить структура категорий, что увеличит кон...      8       3   \n",
       "4  Изменить цвет фона главной страницы, чтобы уве...      3       1   \n",
       "5  Добавить страницу отзывов клиентов о магазине,...      3       2   \n",
       "6  Показать на главной странице баннеры с актуаль...      5       3   \n",
       "7  Добавить форму подписки на все основные страни...     10       7   \n",
       "8  Запустить акцию, дающую скидку на товар в день...      1       9   \n",
       "\n",
       "   Confidence  Efforts  \n",
       "0           8        6  \n",
       "1           4       10  \n",
       "2           7        3  \n",
       "3           3        8  \n",
       "4           1        1  \n",
       "5           2        3  \n",
       "6           8        3  \n",
       "7           8        5  \n",
       "8           9        5  "
      ]
     },
     "execution_count": 2,
     "metadata": {},
     "output_type": "execute_result"
    }
   ],
   "source": [
    "hypothesis = pd.read_csv('/datasets/hypothesis.csv')\n",
    "hypothesis"
   ]
  },
  {
   "cell_type": "code",
   "execution_count": 3,
   "metadata": {},
   "outputs": [
    {
     "data": {
      "text/html": [
       "<div>\n",
       "<style scoped>\n",
       "    .dataframe tbody tr th:only-of-type {\n",
       "        vertical-align: middle;\n",
       "    }\n",
       "\n",
       "    .dataframe tbody tr th {\n",
       "        vertical-align: top;\n",
       "    }\n",
       "\n",
       "    .dataframe thead th {\n",
       "        text-align: right;\n",
       "    }\n",
       "</style>\n",
       "<table border=\"1\" class=\"dataframe\">\n",
       "  <thead>\n",
       "    <tr style=\"text-align: right;\">\n",
       "      <th></th>\n",
       "      <th>hypothesis</th>\n",
       "      <th>reach</th>\n",
       "      <th>impact</th>\n",
       "      <th>confidence</th>\n",
       "      <th>efforts</th>\n",
       "    </tr>\n",
       "  </thead>\n",
       "  <tbody>\n",
       "    <tr>\n",
       "      <th>0</th>\n",
       "      <td>Добавить два новых канала привлечения трафика,...</td>\n",
       "      <td>3</td>\n",
       "      <td>10</td>\n",
       "      <td>8</td>\n",
       "      <td>6</td>\n",
       "    </tr>\n",
       "    <tr>\n",
       "      <th>1</th>\n",
       "      <td>Запустить собственную службу доставки, что сок...</td>\n",
       "      <td>2</td>\n",
       "      <td>5</td>\n",
       "      <td>4</td>\n",
       "      <td>10</td>\n",
       "    </tr>\n",
       "    <tr>\n",
       "      <th>2</th>\n",
       "      <td>Добавить блоки рекомендаций товаров на сайт ин...</td>\n",
       "      <td>8</td>\n",
       "      <td>3</td>\n",
       "      <td>7</td>\n",
       "      <td>3</td>\n",
       "    </tr>\n",
       "    <tr>\n",
       "      <th>3</th>\n",
       "      <td>Изменить структура категорий, что увеличит кон...</td>\n",
       "      <td>8</td>\n",
       "      <td>3</td>\n",
       "      <td>3</td>\n",
       "      <td>8</td>\n",
       "    </tr>\n",
       "    <tr>\n",
       "      <th>4</th>\n",
       "      <td>Изменить цвет фона главной страницы, чтобы уве...</td>\n",
       "      <td>3</td>\n",
       "      <td>1</td>\n",
       "      <td>1</td>\n",
       "      <td>1</td>\n",
       "    </tr>\n",
       "    <tr>\n",
       "      <th>5</th>\n",
       "      <td>Добавить страницу отзывов клиентов о магазине,...</td>\n",
       "      <td>3</td>\n",
       "      <td>2</td>\n",
       "      <td>2</td>\n",
       "      <td>3</td>\n",
       "    </tr>\n",
       "    <tr>\n",
       "      <th>6</th>\n",
       "      <td>Показать на главной странице баннеры с актуаль...</td>\n",
       "      <td>5</td>\n",
       "      <td>3</td>\n",
       "      <td>8</td>\n",
       "      <td>3</td>\n",
       "    </tr>\n",
       "    <tr>\n",
       "      <th>7</th>\n",
       "      <td>Добавить форму подписки на все основные страни...</td>\n",
       "      <td>10</td>\n",
       "      <td>7</td>\n",
       "      <td>8</td>\n",
       "      <td>5</td>\n",
       "    </tr>\n",
       "    <tr>\n",
       "      <th>8</th>\n",
       "      <td>Запустить акцию, дающую скидку на товар в день...</td>\n",
       "      <td>1</td>\n",
       "      <td>9</td>\n",
       "      <td>9</td>\n",
       "      <td>5</td>\n",
       "    </tr>\n",
       "  </tbody>\n",
       "</table>\n",
       "</div>"
      ],
      "text/plain": [
       "                                          hypothesis  reach  impact  \\\n",
       "0  Добавить два новых канала привлечения трафика,...      3      10   \n",
       "1  Запустить собственную службу доставки, что сок...      2       5   \n",
       "2  Добавить блоки рекомендаций товаров на сайт ин...      8       3   \n",
       "3  Изменить структура категорий, что увеличит кон...      8       3   \n",
       "4  Изменить цвет фона главной страницы, чтобы уве...      3       1   \n",
       "5  Добавить страницу отзывов клиентов о магазине,...      3       2   \n",
       "6  Показать на главной странице баннеры с актуаль...      5       3   \n",
       "7  Добавить форму подписки на все основные страни...     10       7   \n",
       "8  Запустить акцию, дающую скидку на товар в день...      1       9   \n",
       "\n",
       "   confidence  efforts  \n",
       "0           8        6  \n",
       "1           4       10  \n",
       "2           7        3  \n",
       "3           3        8  \n",
       "4           1        1  \n",
       "5           2        3  \n",
       "6           8        3  \n",
       "7           8        5  \n",
       "8           9        5  "
      ]
     },
     "execution_count": 3,
     "metadata": {},
     "output_type": "execute_result"
    }
   ],
   "source": [
    "hypothesis.columns = hypothesis.columns.str.lower()\n",
    "hypothesis"
   ]
  },
  {
   "cell_type": "code",
   "execution_count": 4,
   "metadata": {},
   "outputs": [
    {
     "data": {
      "text/html": [
       "<div>\n",
       "<style scoped>\n",
       "    .dataframe tbody tr th:only-of-type {\n",
       "        vertical-align: middle;\n",
       "    }\n",
       "\n",
       "    .dataframe tbody tr th {\n",
       "        vertical-align: top;\n",
       "    }\n",
       "\n",
       "    .dataframe thead th {\n",
       "        text-align: right;\n",
       "    }\n",
       "</style>\n",
       "<table border=\"1\" class=\"dataframe\">\n",
       "  <thead>\n",
       "    <tr style=\"text-align: right;\">\n",
       "      <th></th>\n",
       "      <th>hypothesis</th>\n",
       "      <th>reach</th>\n",
       "      <th>impact</th>\n",
       "      <th>confidence</th>\n",
       "      <th>efforts</th>\n",
       "      <th>ice</th>\n",
       "    </tr>\n",
       "  </thead>\n",
       "  <tbody>\n",
       "    <tr>\n",
       "      <th>8</th>\n",
       "      <td>Запустить акцию, дающую скидку на товар в день...</td>\n",
       "      <td>1</td>\n",
       "      <td>9</td>\n",
       "      <td>9</td>\n",
       "      <td>5</td>\n",
       "      <td>16.200000</td>\n",
       "    </tr>\n",
       "    <tr>\n",
       "      <th>0</th>\n",
       "      <td>Добавить два новых канала привлечения трафика,...</td>\n",
       "      <td>3</td>\n",
       "      <td>10</td>\n",
       "      <td>8</td>\n",
       "      <td>6</td>\n",
       "      <td>13.333333</td>\n",
       "    </tr>\n",
       "    <tr>\n",
       "      <th>7</th>\n",
       "      <td>Добавить форму подписки на все основные страни...</td>\n",
       "      <td>10</td>\n",
       "      <td>7</td>\n",
       "      <td>8</td>\n",
       "      <td>5</td>\n",
       "      <td>11.200000</td>\n",
       "    </tr>\n",
       "    <tr>\n",
       "      <th>6</th>\n",
       "      <td>Показать на главной странице баннеры с актуаль...</td>\n",
       "      <td>5</td>\n",
       "      <td>3</td>\n",
       "      <td>8</td>\n",
       "      <td>3</td>\n",
       "      <td>8.000000</td>\n",
       "    </tr>\n",
       "    <tr>\n",
       "      <th>2</th>\n",
       "      <td>Добавить блоки рекомендаций товаров на сайт ин...</td>\n",
       "      <td>8</td>\n",
       "      <td>3</td>\n",
       "      <td>7</td>\n",
       "      <td>3</td>\n",
       "      <td>7.000000</td>\n",
       "    </tr>\n",
       "    <tr>\n",
       "      <th>1</th>\n",
       "      <td>Запустить собственную службу доставки, что сок...</td>\n",
       "      <td>2</td>\n",
       "      <td>5</td>\n",
       "      <td>4</td>\n",
       "      <td>10</td>\n",
       "      <td>2.000000</td>\n",
       "    </tr>\n",
       "    <tr>\n",
       "      <th>5</th>\n",
       "      <td>Добавить страницу отзывов клиентов о магазине,...</td>\n",
       "      <td>3</td>\n",
       "      <td>2</td>\n",
       "      <td>2</td>\n",
       "      <td>3</td>\n",
       "      <td>1.333333</td>\n",
       "    </tr>\n",
       "    <tr>\n",
       "      <th>3</th>\n",
       "      <td>Изменить структура категорий, что увеличит кон...</td>\n",
       "      <td>8</td>\n",
       "      <td>3</td>\n",
       "      <td>3</td>\n",
       "      <td>8</td>\n",
       "      <td>1.125000</td>\n",
       "    </tr>\n",
       "    <tr>\n",
       "      <th>4</th>\n",
       "      <td>Изменить цвет фона главной страницы, чтобы уве...</td>\n",
       "      <td>3</td>\n",
       "      <td>1</td>\n",
       "      <td>1</td>\n",
       "      <td>1</td>\n",
       "      <td>1.000000</td>\n",
       "    </tr>\n",
       "  </tbody>\n",
       "</table>\n",
       "</div>"
      ],
      "text/plain": [
       "                                          hypothesis  reach  impact  \\\n",
       "8  Запустить акцию, дающую скидку на товар в день...      1       9   \n",
       "0  Добавить два новых канала привлечения трафика,...      3      10   \n",
       "7  Добавить форму подписки на все основные страни...     10       7   \n",
       "6  Показать на главной странице баннеры с актуаль...      5       3   \n",
       "2  Добавить блоки рекомендаций товаров на сайт ин...      8       3   \n",
       "1  Запустить собственную службу доставки, что сок...      2       5   \n",
       "5  Добавить страницу отзывов клиентов о магазине,...      3       2   \n",
       "3  Изменить структура категорий, что увеличит кон...      8       3   \n",
       "4  Изменить цвет фона главной страницы, чтобы уве...      3       1   \n",
       "\n",
       "   confidence  efforts        ice  \n",
       "8           9        5  16.200000  \n",
       "0           8        6  13.333333  \n",
       "7           8        5  11.200000  \n",
       "6           8        3   8.000000  \n",
       "2           7        3   7.000000  \n",
       "1           4       10   2.000000  \n",
       "5           2        3   1.333333  \n",
       "3           3        8   1.125000  \n",
       "4           1        1   1.000000  "
      ]
     },
     "execution_count": 4,
     "metadata": {},
     "output_type": "execute_result"
    }
   ],
   "source": [
    "hypothesis['ice'] = (hypothesis['impact'] * hypothesis['confidence']) / hypothesis['efforts']\n",
    "hypothesis.sort_values(by='ice', ascending=False)"
   ]
  },
  {
   "cell_type": "code",
   "execution_count": 5,
   "metadata": {},
   "outputs": [
    {
     "data": {
      "text/html": [
       "<div>\n",
       "<style scoped>\n",
       "    .dataframe tbody tr th:only-of-type {\n",
       "        vertical-align: middle;\n",
       "    }\n",
       "\n",
       "    .dataframe tbody tr th {\n",
       "        vertical-align: top;\n",
       "    }\n",
       "\n",
       "    .dataframe thead th {\n",
       "        text-align: right;\n",
       "    }\n",
       "</style>\n",
       "<table border=\"1\" class=\"dataframe\">\n",
       "  <thead>\n",
       "    <tr style=\"text-align: right;\">\n",
       "      <th></th>\n",
       "      <th>hypothesis</th>\n",
       "      <th>reach</th>\n",
       "      <th>impact</th>\n",
       "      <th>confidence</th>\n",
       "      <th>efforts</th>\n",
       "      <th>ice</th>\n",
       "      <th>rice</th>\n",
       "    </tr>\n",
       "  </thead>\n",
       "  <tbody>\n",
       "    <tr>\n",
       "      <th>7</th>\n",
       "      <td>Добавить форму подписки на все основные страни...</td>\n",
       "      <td>10</td>\n",
       "      <td>7</td>\n",
       "      <td>8</td>\n",
       "      <td>5</td>\n",
       "      <td>11.200000</td>\n",
       "      <td>112.0</td>\n",
       "    </tr>\n",
       "    <tr>\n",
       "      <th>2</th>\n",
       "      <td>Добавить блоки рекомендаций товаров на сайт ин...</td>\n",
       "      <td>8</td>\n",
       "      <td>3</td>\n",
       "      <td>7</td>\n",
       "      <td>3</td>\n",
       "      <td>7.000000</td>\n",
       "      <td>56.0</td>\n",
       "    </tr>\n",
       "    <tr>\n",
       "      <th>0</th>\n",
       "      <td>Добавить два новых канала привлечения трафика,...</td>\n",
       "      <td>3</td>\n",
       "      <td>10</td>\n",
       "      <td>8</td>\n",
       "      <td>6</td>\n",
       "      <td>13.333333</td>\n",
       "      <td>40.0</td>\n",
       "    </tr>\n",
       "    <tr>\n",
       "      <th>6</th>\n",
       "      <td>Показать на главной странице баннеры с актуаль...</td>\n",
       "      <td>5</td>\n",
       "      <td>3</td>\n",
       "      <td>8</td>\n",
       "      <td>3</td>\n",
       "      <td>8.000000</td>\n",
       "      <td>40.0</td>\n",
       "    </tr>\n",
       "    <tr>\n",
       "      <th>8</th>\n",
       "      <td>Запустить акцию, дающую скидку на товар в день...</td>\n",
       "      <td>1</td>\n",
       "      <td>9</td>\n",
       "      <td>9</td>\n",
       "      <td>5</td>\n",
       "      <td>16.200000</td>\n",
       "      <td>16.2</td>\n",
       "    </tr>\n",
       "    <tr>\n",
       "      <th>3</th>\n",
       "      <td>Изменить структура категорий, что увеличит кон...</td>\n",
       "      <td>8</td>\n",
       "      <td>3</td>\n",
       "      <td>3</td>\n",
       "      <td>8</td>\n",
       "      <td>1.125000</td>\n",
       "      <td>9.0</td>\n",
       "    </tr>\n",
       "    <tr>\n",
       "      <th>1</th>\n",
       "      <td>Запустить собственную службу доставки, что сок...</td>\n",
       "      <td>2</td>\n",
       "      <td>5</td>\n",
       "      <td>4</td>\n",
       "      <td>10</td>\n",
       "      <td>2.000000</td>\n",
       "      <td>4.0</td>\n",
       "    </tr>\n",
       "    <tr>\n",
       "      <th>5</th>\n",
       "      <td>Добавить страницу отзывов клиентов о магазине,...</td>\n",
       "      <td>3</td>\n",
       "      <td>2</td>\n",
       "      <td>2</td>\n",
       "      <td>3</td>\n",
       "      <td>1.333333</td>\n",
       "      <td>4.0</td>\n",
       "    </tr>\n",
       "    <tr>\n",
       "      <th>4</th>\n",
       "      <td>Изменить цвет фона главной страницы, чтобы уве...</td>\n",
       "      <td>3</td>\n",
       "      <td>1</td>\n",
       "      <td>1</td>\n",
       "      <td>1</td>\n",
       "      <td>1.000000</td>\n",
       "      <td>3.0</td>\n",
       "    </tr>\n",
       "  </tbody>\n",
       "</table>\n",
       "</div>"
      ],
      "text/plain": [
       "                                          hypothesis  reach  impact  \\\n",
       "7  Добавить форму подписки на все основные страни...     10       7   \n",
       "2  Добавить блоки рекомендаций товаров на сайт ин...      8       3   \n",
       "0  Добавить два новых канала привлечения трафика,...      3      10   \n",
       "6  Показать на главной странице баннеры с актуаль...      5       3   \n",
       "8  Запустить акцию, дающую скидку на товар в день...      1       9   \n",
       "3  Изменить структура категорий, что увеличит кон...      8       3   \n",
       "1  Запустить собственную службу доставки, что сок...      2       5   \n",
       "5  Добавить страницу отзывов клиентов о магазине,...      3       2   \n",
       "4  Изменить цвет фона главной страницы, чтобы уве...      3       1   \n",
       "\n",
       "   confidence  efforts        ice   rice  \n",
       "7           8        5  11.200000  112.0  \n",
       "2           7        3   7.000000   56.0  \n",
       "0           8        6  13.333333   40.0  \n",
       "6           8        3   8.000000   40.0  \n",
       "8           9        5  16.200000   16.2  \n",
       "3           3        8   1.125000    9.0  \n",
       "1           4       10   2.000000    4.0  \n",
       "5           2        3   1.333333    4.0  \n",
       "4           1        1   1.000000    3.0  "
      ]
     },
     "execution_count": 5,
     "metadata": {},
     "output_type": "execute_result"
    }
   ],
   "source": [
    "hypothesis['rice'] = (hypothesis['reach'] * hypothesis['impact'] * hypothesis['confidence']) / hypothesis['efforts']\n",
    "hypothesis.sort_values(by='rice', ascending=False)"
   ]
  },
  {
   "cell_type": "markdown",
   "metadata": {},
   "source": [
    "По определению во фреймворке RICE добавляется пункт Reach - охват пользователей. Соответственно, в зависимости от количества затронутых пользователей гипотезы поменяли свою важность."
   ]
  },
  {
   "cell_type": "markdown",
   "metadata": {},
   "source": [
    "<h1>Анализ A/B теста</h1>"
   ]
  },
  {
   "cell_type": "markdown",
   "metadata": {},
   "source": [
    "Прочитаем результаты теста"
   ]
  },
  {
   "cell_type": "code",
   "execution_count": 6,
   "metadata": {},
   "outputs": [
    {
     "name": "stdout",
     "output_type": "stream",
     "text": [
      "<class 'pandas.core.frame.DataFrame'>\n",
      "RangeIndex: 1197 entries, 0 to 1196\n",
      "Data columns (total 5 columns):\n",
      " #   Column         Non-Null Count  Dtype \n",
      "---  ------         --------------  ----- \n",
      " 0   transactionId  1197 non-null   int64 \n",
      " 1   visitorId      1197 non-null   int64 \n",
      " 2   date           1197 non-null   object\n",
      " 3   revenue        1197 non-null   int64 \n",
      " 4   group          1197 non-null   object\n",
      "dtypes: int64(3), object(2)\n",
      "memory usage: 46.9+ KB\n",
      "None\n"
     ]
    },
    {
     "data": {
      "text/html": [
       "<div>\n",
       "<style scoped>\n",
       "    .dataframe tbody tr th:only-of-type {\n",
       "        vertical-align: middle;\n",
       "    }\n",
       "\n",
       "    .dataframe tbody tr th {\n",
       "        vertical-align: top;\n",
       "    }\n",
       "\n",
       "    .dataframe thead th {\n",
       "        text-align: right;\n",
       "    }\n",
       "</style>\n",
       "<table border=\"1\" class=\"dataframe\">\n",
       "  <thead>\n",
       "    <tr style=\"text-align: right;\">\n",
       "      <th></th>\n",
       "      <th>transactionId</th>\n",
       "      <th>visitorId</th>\n",
       "      <th>date</th>\n",
       "      <th>revenue</th>\n",
       "      <th>group</th>\n",
       "    </tr>\n",
       "  </thead>\n",
       "  <tbody>\n",
       "    <tr>\n",
       "      <th>0</th>\n",
       "      <td>3667963787</td>\n",
       "      <td>3312258926</td>\n",
       "      <td>2019-08-15</td>\n",
       "      <td>1650</td>\n",
       "      <td>B</td>\n",
       "    </tr>\n",
       "    <tr>\n",
       "      <th>1</th>\n",
       "      <td>2804400009</td>\n",
       "      <td>3642806036</td>\n",
       "      <td>2019-08-15</td>\n",
       "      <td>730</td>\n",
       "      <td>B</td>\n",
       "    </tr>\n",
       "    <tr>\n",
       "      <th>2</th>\n",
       "      <td>2961555356</td>\n",
       "      <td>4069496402</td>\n",
       "      <td>2019-08-15</td>\n",
       "      <td>400</td>\n",
       "      <td>A</td>\n",
       "    </tr>\n",
       "    <tr>\n",
       "      <th>3</th>\n",
       "      <td>3797467345</td>\n",
       "      <td>1196621759</td>\n",
       "      <td>2019-08-15</td>\n",
       "      <td>9759</td>\n",
       "      <td>B</td>\n",
       "    </tr>\n",
       "    <tr>\n",
       "      <th>4</th>\n",
       "      <td>2282983706</td>\n",
       "      <td>2322279887</td>\n",
       "      <td>2019-08-15</td>\n",
       "      <td>2308</td>\n",
       "      <td>B</td>\n",
       "    </tr>\n",
       "  </tbody>\n",
       "</table>\n",
       "</div>"
      ],
      "text/plain": [
       "   transactionId   visitorId        date  revenue group\n",
       "0     3667963787  3312258926  2019-08-15     1650     B\n",
       "1     2804400009  3642806036  2019-08-15      730     B\n",
       "2     2961555356  4069496402  2019-08-15      400     A\n",
       "3     3797467345  1196621759  2019-08-15     9759     B\n",
       "4     2282983706  2322279887  2019-08-15     2308     B"
      ]
     },
     "execution_count": 6,
     "metadata": {},
     "output_type": "execute_result"
    }
   ],
   "source": [
    "orders = pd.read_csv('/datasets/orders.csv')\n",
    "print(orders.info())\n",
    "orders.head(5)"
   ]
  },
  {
   "cell_type": "markdown",
   "metadata": {},
   "source": [
    "Сменим тип столбца date на datetime"
   ]
  },
  {
   "cell_type": "code",
   "execution_count": 7,
   "metadata": {},
   "outputs": [
    {
     "name": "stdout",
     "output_type": "stream",
     "text": [
      "<class 'pandas.core.frame.DataFrame'>\n",
      "RangeIndex: 1197 entries, 0 to 1196\n",
      "Data columns (total 5 columns):\n",
      " #   Column         Non-Null Count  Dtype         \n",
      "---  ------         --------------  -----         \n",
      " 0   transactionId  1197 non-null   int64         \n",
      " 1   visitorId      1197 non-null   int64         \n",
      " 2   date           1197 non-null   datetime64[ns]\n",
      " 3   revenue        1197 non-null   int64         \n",
      " 4   group          1197 non-null   object        \n",
      "dtypes: datetime64[ns](1), int64(3), object(1)\n",
      "memory usage: 46.9+ KB\n",
      "None\n"
     ]
    }
   ],
   "source": [
    "orders['date'] = orders['date'].map(\n",
    "    lambda x: dt.datetime.strptime(x, '%Y-%m-%d')\n",
    ")\n",
    "print(orders.info())"
   ]
  },
  {
   "cell_type": "code",
   "execution_count": 8,
   "metadata": {},
   "outputs": [
    {
     "name": "stdout",
     "output_type": "stream",
     "text": [
      "<class 'pandas.core.frame.DataFrame'>\n",
      "RangeIndex: 62 entries, 0 to 61\n",
      "Data columns (total 3 columns):\n",
      " #   Column    Non-Null Count  Dtype \n",
      "---  ------    --------------  ----- \n",
      " 0   date      62 non-null     object\n",
      " 1   group     62 non-null     object\n",
      " 2   visitors  62 non-null     int64 \n",
      "dtypes: int64(1), object(2)\n",
      "memory usage: 1.6+ KB\n",
      "None\n"
     ]
    },
    {
     "data": {
      "text/html": [
       "<div>\n",
       "<style scoped>\n",
       "    .dataframe tbody tr th:only-of-type {\n",
       "        vertical-align: middle;\n",
       "    }\n",
       "\n",
       "    .dataframe tbody tr th {\n",
       "        vertical-align: top;\n",
       "    }\n",
       "\n",
       "    .dataframe thead th {\n",
       "        text-align: right;\n",
       "    }\n",
       "</style>\n",
       "<table border=\"1\" class=\"dataframe\">\n",
       "  <thead>\n",
       "    <tr style=\"text-align: right;\">\n",
       "      <th></th>\n",
       "      <th>date</th>\n",
       "      <th>group</th>\n",
       "      <th>visitors</th>\n",
       "    </tr>\n",
       "  </thead>\n",
       "  <tbody>\n",
       "    <tr>\n",
       "      <th>0</th>\n",
       "      <td>2019-08-01</td>\n",
       "      <td>A</td>\n",
       "      <td>719</td>\n",
       "    </tr>\n",
       "    <tr>\n",
       "      <th>1</th>\n",
       "      <td>2019-08-02</td>\n",
       "      <td>A</td>\n",
       "      <td>619</td>\n",
       "    </tr>\n",
       "    <tr>\n",
       "      <th>2</th>\n",
       "      <td>2019-08-03</td>\n",
       "      <td>A</td>\n",
       "      <td>507</td>\n",
       "    </tr>\n",
       "    <tr>\n",
       "      <th>3</th>\n",
       "      <td>2019-08-04</td>\n",
       "      <td>A</td>\n",
       "      <td>717</td>\n",
       "    </tr>\n",
       "    <tr>\n",
       "      <th>4</th>\n",
       "      <td>2019-08-05</td>\n",
       "      <td>A</td>\n",
       "      <td>756</td>\n",
       "    </tr>\n",
       "  </tbody>\n",
       "</table>\n",
       "</div>"
      ],
      "text/plain": [
       "         date group  visitors\n",
       "0  2019-08-01     A       719\n",
       "1  2019-08-02     A       619\n",
       "2  2019-08-03     A       507\n",
       "3  2019-08-04     A       717\n",
       "4  2019-08-05     A       756"
      ]
     },
     "execution_count": 8,
     "metadata": {},
     "output_type": "execute_result"
    }
   ],
   "source": [
    "visitors = pd.read_csv('/datasets/visitors.csv')\n",
    "print(visitors.info())\n",
    "visitors.head(5)"
   ]
  },
  {
   "cell_type": "code",
   "execution_count": 9,
   "metadata": {
    "scrolled": true
   },
   "outputs": [
    {
     "name": "stdout",
     "output_type": "stream",
     "text": [
      "<class 'pandas.core.frame.DataFrame'>\n",
      "RangeIndex: 62 entries, 0 to 61\n",
      "Data columns (total 3 columns):\n",
      " #   Column    Non-Null Count  Dtype         \n",
      "---  ------    --------------  -----         \n",
      " 0   date      62 non-null     datetime64[ns]\n",
      " 1   group     62 non-null     object        \n",
      " 2   visitors  62 non-null     int64         \n",
      "dtypes: datetime64[ns](1), int64(1), object(1)\n",
      "memory usage: 1.6+ KB\n"
     ]
    }
   ],
   "source": [
    "visitors['date'] = visitors['date'].map(\n",
    "    lambda x: dt.datetime.strptime(x, '%Y-%m-%d')\n",
    ")\n",
    "visitors.info()"
   ]
  },
  {
   "cell_type": "markdown",
   "metadata": {},
   "source": [
    "Проверим, что уникальные пользователи входят только в одну группу."
   ]
  },
  {
   "cell_type": "code",
   "execution_count": 10,
   "metadata": {},
   "outputs": [
    {
     "name": "stdout",
     "output_type": "stream",
     "text": [
      "visitorId\n",
      "2654030115    2\n",
      "3891541246    2\n",
      "3941795274    2\n",
      "1404934699    2\n",
      "351125977     2\n",
      "             ..\n",
      "1476256851    1\n",
      "1476741193    1\n",
      "1484903144    1\n",
      "1485964287    1\n",
      "4283872382    1\n",
      "Name: group, Length: 1031, dtype: int64\n"
     ]
    }
   ],
   "source": [
    "print(orders.groupby('visitorId')['group'].nunique().sort_values(ascending=False))"
   ]
  },
  {
   "cell_type": "markdown",
   "metadata": {},
   "source": [
    "Видно, что некоторые пользователи входят сразу в 2 уникальные группы (и в А, и в В). Необходимо удалить такие данные."
   ]
  },
  {
   "cell_type": "code",
   "execution_count": 11,
   "metadata": {},
   "outputs": [
    {
     "name": "stdout",
     "output_type": "stream",
     "text": [
      "58\n",
      "visitorId\n",
      "5114589       1\n",
      "2908466434    1\n",
      "2776274025    1\n",
      "2785040378    1\n",
      "2785527055    1\n",
      "             ..\n",
      "1426761187    1\n",
      "1430210707    1\n",
      "1438226485    1\n",
      "1452540367    1\n",
      "4283872382    1\n",
      "Name: group, Length: 973, dtype: int64\n"
     ]
    }
   ],
   "source": [
    "orders_count = orders.groupby('visitorId')['group'].nunique().sort_values(ascending=False).reset_index()\n",
    "orders_count = orders_count.query('group == 2')['visitorId'].unique()\n",
    "print(len(orders_count))\n",
    "orders = orders[~orders['visitorId'].isin(orders_count)]\n",
    "print(orders.groupby('visitorId')['group'].nunique().sort_values(ascending=False))"
   ]
  },
  {
   "cell_type": "markdown",
   "metadata": {},
   "source": [
    "Создаем массив уникальных пар дата - группа"
   ]
  },
  {
   "cell_type": "code",
   "execution_count": 12,
   "metadata": {},
   "outputs": [],
   "source": [
    "dates_groups = orders[['date', 'group']].drop_duplicates()"
   ]
  },
  {
   "cell_type": "markdown",
   "metadata": {},
   "source": [
    "Получим кумулятивные данные по заказам и посетителям и объединим таблицы"
   ]
  },
  {
   "cell_type": "code",
   "execution_count": 13,
   "metadata": {},
   "outputs": [],
   "source": [
    "orders_aggregated = dates_groups.apply(lambda x: orders[np.logical_and(orders['date'] <= x['date'],\n",
    "                                                                       orders['group'] == x['group'])].agg(\n",
    "    {'date' : 'max',\n",
    "     'group' : 'max',\n",
    "     'transactionId' :'nunique',\n",
    "     'visitorId' : 'nunique',\n",
    "     'revenue' : 'sum'}), axis=1).sort_values(by=['date', 'group'])\n",
    "\n",
    "visitors_aggregated = dates_groups.apply(lambda x: visitors[np.logical_and(visitors['date'] <= x['date'],\n",
    "                                                                           visitors['group'] == x['group'])].agg(\n",
    "    {'date' : 'max',\n",
    "     'group' : 'max',\n",
    "     'visitors' : 'sum'}), axis=1).sort_values(by=['date', 'group'])\n",
    "\n",
    "cumulative_data = orders_aggregated.merge(visitors_aggregated, left_on=['date', 'group'], right_on=['date', 'group'])\n",
    "cumulative_data.columns = ['date', 'group', 'orders', 'buyers', 'revenue', 'visitors']"
   ]
  },
  {
   "cell_type": "markdown",
   "metadata": {},
   "source": [
    "Построим график кумулятивной выручки по группам. Для этого разделим кумулятивные данные по группам"
   ]
  },
  {
   "cell_type": "code",
   "execution_count": 14,
   "metadata": {},
   "outputs": [],
   "source": [
    "cumulative_revenue_a = cumulative_data[cumulative_data['group']=='A'][['date','revenue', 'orders']]\n",
    "cumulative_revenue_b = cumulative_data[cumulative_data['group']=='B'][['date','revenue', 'orders']]"
   ]
  },
  {
   "cell_type": "code",
   "execution_count": 15,
   "metadata": {},
   "outputs": [
    {
     "data": {
      "image/png": "[encoded data removed]",
      "text/plain": [
       "<Figure size 720x360 with 1 Axes>"
      ]
     },
     "metadata": {
      "needs_background": "light"
     },
     "output_type": "display_data"
    }
   ],
   "source": [
    "plt.figure(figsize=(10,5))\n",
    "plt.plot(cumulative_revenue_a['date'], cumulative_revenue_a['revenue'], label='A')\n",
    "plt.plot(cumulative_revenue_b['date'], cumulative_revenue_b['revenue'], label='B')\n",
    "plt.legend()\n",
    "plt.title('График кумулятивной выручки по группам')\n",
    "plt.xlabel('Дата')\n",
    "plt.ylabel('Выручка')\n",
    "plt.show()"
   ]
  },
  {
   "cell_type": "markdown",
   "metadata": {},
   "source": [
    "График выручки группы А практически линеен, что говорит о равномерном росте выручки. После 17 августа 2019 года выручка группы B резко возрасла. Возможно это выбросы."
   ]
  },
  {
   "cell_type": "markdown",
   "metadata": {},
   "source": [
    "Построим графики кумулятивного среднего чека (разделим выручку на число заказов)"
   ]
  },
  {
   "cell_type": "code",
   "execution_count": 16,
   "metadata": {},
   "outputs": [
    {
     "data": {
      "image/png": "[encoded data removed]",
      "text/plain": [
       "<Figure size 720x360 with 1 Axes>"
      ]
     },
     "metadata": {
      "needs_background": "light"
     },
     "output_type": "display_data"
    }
   ],
   "source": [
    "plt.figure(figsize=(10,5))\n",
    "plt.plot(cumulative_revenue_a['date'], cumulative_revenue_a['revenue'] / cumulative_revenue_a['orders'], label='A')\n",
    "plt.plot(cumulative_revenue_b['date'], cumulative_revenue_b['revenue'] / cumulative_revenue_b['orders'], label='B')\n",
    "plt.legend() \n",
    "plt.title('График кумулятивного среднего чека по группам')\n",
    "plt.xlabel('Дата')\n",
    "plt.ylabel('Средний чек')\n",
    "plt.show()"
   ]
  },
  {
   "cell_type": "markdown",
   "metadata": {},
   "source": [
    "Средний чек для группы А становится почти равномерным после середины исследования. Чек группы B в свою очередь, вероятнее всего, еще не установился."
   ]
  },
  {
   "cell_type": "markdown",
   "metadata": {},
   "source": [
    "Построим график относительного изменения кумулятивного среднего чека группы B к группе A"
   ]
  },
  {
   "cell_type": "code",
   "execution_count": 17,
   "metadata": {},
   "outputs": [
    {
     "data": {
      "image/png": "[encoded data removed]",
      "text/plain": [
       "<Figure size 720x360 with 1 Axes>"
      ]
     },
     "metadata": {
      "needs_background": "light"
     },
     "output_type": "display_data"
    }
   ],
   "source": [
    "merged_cumulative_revenue = cumulative_revenue_a.merge(\n",
    "    cumulative_revenue_b,\n",
    "    left_on='date',\n",
    "    right_on='date',\n",
    "    how='left',\n",
    "    suffixes=['_a', '_b'])\n",
    "plt.figure(figsize=(10,5))\n",
    "plt.plot(merged_cumulative_revenue['date'],\n",
    "         (merged_cumulative_revenue['revenue_b'] / merged_cumulative_revenue['orders_b']) / \n",
    "         (merged_cumulative_revenue['revenue_a'] / merged_cumulative_revenue['orders_a'])-1)\n",
    "plt.axhline(y=0, color='black') \n",
    "plt.title('График относительного изменения кумулятивного среднего чека группы B к группе А')\n",
    "plt.xlabel('Дата')\n",
    "plt.show()"
   ]
  },
  {
   "cell_type": "markdown",
   "metadata": {},
   "source": [
    "По данному графику видно, что различия между средними чеками групп бывают очень велики, что говорит о наличии выбросов в данных."
   ]
  },
  {
   "cell_type": "markdown",
   "metadata": {},
   "source": [
    "Посмотрим график кумулятивной конверсии по группам"
   ]
  },
  {
   "cell_type": "code",
   "execution_count": 18,
   "metadata": {},
   "outputs": [
    {
     "data": {
      "image/png": "[encoded data removed]",
      "text/plain": [
       "<Figure size 720x360 with 1 Axes>"
      ]
     },
     "metadata": {
      "needs_background": "light"
     },
     "output_type": "display_data"
    }
   ],
   "source": [
    "cumulative_data['conversion'] = cumulative_data['orders'] / cumulative_data['visitors']\n",
    "\n",
    "cumulative_data_a = cumulative_data[cumulative_data['group']=='A']\n",
    "cumulative_data_b = cumulative_data[cumulative_data['group']=='B']\n",
    "\n",
    "plt.figure(figsize=(10,5))\n",
    "plt.plot(cumulative_data_a['date'], cumulative_data_a['conversion'], label='A')\n",
    "plt.plot(cumulative_data_b['date'], cumulative_data_b['conversion'], label='B')\n",
    "plt.legend()\n",
    "plt.title('График кумулятивной конверсии по группам')\n",
    "plt.xlabel('Дата')\n",
    "plt.ylabel('Конверсия')\n",
    "plt.show()"
   ]
  },
  {
   "cell_type": "markdown",
   "metadata": {},
   "source": [
    "Конверсии обеих групп практически установились, конверсия группы В заметно выше."
   ]
  },
  {
   "cell_type": "markdown",
   "metadata": {},
   "source": [
    "Построим график относительного изменения кумулятивной конверсии группы B к группе A"
   ]
  },
  {
   "cell_type": "code",
   "execution_count": 19,
   "metadata": {},
   "outputs": [
    {
     "data": {
      "image/png": "[encoded data removed]",
      "text/plain": [
       "<Figure size 720x360 with 1 Axes>"
      ]
     },
     "metadata": {
      "needs_background": "light"
     },
     "output_type": "display_data"
    }
   ],
   "source": [
    "merged_cumulative_conversions = cumulative_data_a[['date','conversion']].merge(cumulative_data_b[['date','conversion']],\n",
    "                                                                               left_on='date',\n",
    "                                                                               right_on='date',\n",
    "                                                                               how='left',\n",
    "                                                                               suffixes=['_a', '_b'])\n",
    "\n",
    "plt.figure(figsize=(10,5))\n",
    "plt.plot(merged_cumulative_conversions['date'],\n",
    "         merged_cumulative_conversions['conversion_b'] / merged_cumulative_conversions['conversion_a']-1,)\n",
    "plt.axhline(y=0, color='black')\n",
    "plt.title('График относительного изменения кумулятивной конверсии группы В к группе А')\n",
    "plt.xlabel('Дата')\n",
    "plt.show()"
   ]
  },
  {
   "cell_type": "markdown",
   "metadata": {},
   "source": [
    "Прирост конверсии группы В колеблется около значения 0,15, хотя в начале теста группа В сильно проигрывала."
   ]
  },
  {
   "cell_type": "code",
   "execution_count": 20,
   "metadata": {},
   "outputs": [
    {
     "data": {
      "image/png": "[encoded data removed]",
      "text/plain": [
       "<Figure size 720x360 with 1 Axes>"
      ]
     },
     "metadata": {
      "needs_background": "light"
     },
     "output_type": "display_data"
    }
   ],
   "source": [
    "plt.figure(figsize=(10,5))\n",
    "plt.plot(merged_cumulative_conversions['date'],\n",
    "         merged_cumulative_conversions['conversion_b'] / merged_cumulative_conversions['conversion_a']-1,)\n",
    "plt.axhline(y=0, color='black')\n",
    "plt.axhline(y=0.15, color='black')\n",
    "plt.title('График относительного прироста конверсии группы В относительно группы А')\n",
    "plt.xlabel('Дата')\n",
    "plt.show()"
   ]
  },
  {
   "cell_type": "markdown",
   "metadata": {},
   "source": [
    "Построим график количества заказов по пользователям"
   ]
  },
  {
   "cell_type": "code",
   "execution_count": 21,
   "metadata": {},
   "outputs": [
    {
     "data": {
      "image/png": "[encoded data removed]",
      "text/plain": [
       "<Figure size 432x288 with 1 Axes>"
      ]
     },
     "metadata": {
      "needs_background": "light"
     },
     "output_type": "display_data"
    }
   ],
   "source": [
    "orders_by_visitors = (\n",
    "    orders.groupby('visitorId', as_index=False)\n",
    "    .agg({'transactionId': 'nunique'})\n",
    ")\n",
    "\n",
    "orders_by_visitors.columns = ['visitorId', 'transactions']\n",
    "\n",
    "x_values = pd.Series(range(0,len(orders_by_visitors)))\n",
    "\n",
    "plt.scatter(x_values, orders_by_visitors['transactions'])\n",
    "plt.title('График количества транзакций каждого пользователя')\n",
    "plt.xlabel('visitorId')\n",
    "plt.ylabel('Число транзакций')\n",
    "plt.show()"
   ]
  },
  {
   "cell_type": "markdown",
   "metadata": {},
   "source": [
    "В данных имеются несколько пользователей с 2 и 3 заказами. Посмотрим, являются ли эти пользователи аномальными. Для этого посчтиаем перцентили"
   ]
  },
  {
   "cell_type": "code",
   "execution_count": 22,
   "metadata": {},
   "outputs": [
    {
     "data": {
      "text/plain": [
       "array([1., 2.])"
      ]
     },
     "execution_count": 22,
     "metadata": {},
     "output_type": "execute_result"
    }
   ],
   "source": [
    "np.percentile(orders_by_visitors['transactions'], [95, 99])"
   ]
  },
  {
   "cell_type": "markdown",
   "metadata": {},
   "source": [
    "Не более 5% пользователей оформляло больше 2 заказов, и менее 1% оформляло 3 заказа. Считаю, что число заказов стоит ограничить 2, а остальных пользователей считать аномальными."
   ]
  },
  {
   "cell_type": "markdown",
   "metadata": {},
   "source": [
    "То же самое сделаем с ценами заказов"
   ]
  },
  {
   "cell_type": "code",
   "execution_count": 23,
   "metadata": {},
   "outputs": [
    {
     "data": {
      "image/png": "[encoded data removed]",
      "text/plain": [
       "<Figure size 432x288 with 1 Axes>"
      ]
     },
     "metadata": {
      "needs_background": "light"
     },
     "output_type": "display_data"
    }
   ],
   "source": [
    "x_values = pd.Series(range(0,len(orders['revenue'])))\n",
    "plt.scatter(x_values, orders['revenue'])\n",
    "plt.title('График цен заказов каждого пользователя')\n",
    "plt.xlabel('visitorId')\n",
    "plt.ylabel('Цена заказа')\n",
    "plt.show()"
   ]
  },
  {
   "cell_type": "markdown",
   "metadata": {},
   "source": [
    "По графику непонятно сколько заказов значительно отличаются от основной массы. Посмотрим перцентили."
   ]
  },
  {
   "cell_type": "code",
   "execution_count": 24,
   "metadata": {},
   "outputs": [
    {
     "data": {
      "text/plain": [
       "array([26785., 53904.])"
      ]
     },
     "execution_count": 24,
     "metadata": {},
     "output_type": "execute_result"
    }
   ],
   "source": [
    "np.percentile(orders['revenue'], [95, 99])"
   ]
  },
  {
   "cell_type": "markdown",
   "metadata": {},
   "source": [
    "Не более 5% заказов дороже 26785 у.е. и не более 1% дороже 53904. Отбросим заказы дороже 30000."
   ]
  },
  {
   "cell_type": "markdown",
   "metadata": {},
   "source": [
    "Посчитаем статистическую значимость различий в конверсии между группами по «сырым» данным.\n",
    "\n",
    "Нулевая гипотеза: различий в среднем количестве заказов между группами нет. Альтернативная: различия в среднем между группами есть."
   ]
  },
  {
   "cell_type": "code",
   "execution_count": 25,
   "metadata": {},
   "outputs": [
    {
     "name": "stdout",
     "output_type": "stream",
     "text": [
      "0.011\n"
     ]
    },
    {
     "data": {
      "text/plain": [
       "'0.160'"
      ]
     },
     "execution_count": 25,
     "metadata": {},
     "output_type": "execute_result"
    }
   ],
   "source": [
    "visitorsADaily = visitors[visitors['group'] == 'A'][['date', 'visitors']]\n",
    "visitorsADaily.columns = ['date', 'visitorsPerDateA']\n",
    "\n",
    "visitorsACummulative = visitorsADaily.apply(\n",
    "    lambda x: visitorsADaily[visitorsADaily['date'] <= x['date']].agg(\n",
    "        {'date': 'max', 'visitorsPerDateA': 'sum'}\n",
    "    ),\n",
    "    axis=1,\n",
    ")\n",
    "visitorsACummulative.columns = ['date', 'visitorsCummulativeA']\n",
    "\n",
    "visitorsBDaily = visitors[visitors['group'] == 'B'][['date', 'visitors']]\n",
    "visitorsBDaily.columns = ['date', 'visitorsPerDateB']\n",
    "\n",
    "visitorsBCummulative = visitorsBDaily.apply(\n",
    "    lambda x: visitorsBDaily[visitorsBDaily['date'] <= x['date']].agg(\n",
    "        {'date': 'max', 'visitorsPerDateB': 'sum'}\n",
    "    ),\n",
    "    axis=1,\n",
    ")\n",
    "visitorsBCummulative.columns = ['date', 'visitorsCummulativeB']\n",
    "\n",
    "ordersADaily = (\n",
    "    orders[orders['group'] == 'A'][['date', 'transactionId', 'visitorId', 'revenue']]\n",
    "    .groupby('date', as_index=False)\n",
    "    .agg({'transactionId': pd.Series.nunique, 'revenue': 'sum'})\n",
    ")\n",
    "ordersADaily.columns = ['date', 'ordersPerDateA', 'revenuePerDateA']\n",
    "\n",
    "ordersACummulative = ordersADaily.apply(\n",
    "    lambda x: ordersADaily[ordersADaily['date'] <= x['date']].agg(\n",
    "        {'date': 'max', 'ordersPerDateA': 'sum', 'revenuePerDateA': 'sum'}\n",
    "    ),\n",
    "    axis=1,\n",
    ").sort_values(by=['date'])\n",
    "ordersACummulative.columns = [\n",
    "    'date',\n",
    "    'ordersCummulativeA',\n",
    "    'revenueCummulativeA',\n",
    "]\n",
    "\n",
    "ordersBDaily = (\n",
    "    orders[orders['group'] == 'B'][['date', 'transactionId', 'visitorId', 'revenue']]\n",
    "    .groupby('date', as_index=False)\n",
    "    .agg({'transactionId': pd.Series.nunique, 'revenue': 'sum'})\n",
    ")\n",
    "ordersBDaily.columns = ['date', 'ordersPerDateB', 'revenuePerDateB']\n",
    "\n",
    "ordersBCummulative = ordersBDaily.apply(\n",
    "    lambda x: ordersBDaily[ordersBDaily['date'] <= x['date']].agg(\n",
    "        {'date': 'max', 'ordersPerDateB': 'sum', 'revenuePerDateB': 'sum'}\n",
    "    ),\n",
    "    axis=1,\n",
    ").sort_values(by=['date'])\n",
    "ordersBCummulative.columns = [\n",
    "    'date',\n",
    "    'ordersCummulativeB',\n",
    "    'revenueCummulativeB',\n",
    "]\n",
    "\n",
    "data = (\n",
    "    ordersADaily.merge(\n",
    "        ordersBDaily, left_on='date', right_on='date', how='left'\n",
    "    )\n",
    "    .merge(ordersACummulative, left_on='date', right_on='date', how='left')\n",
    "    .merge(ordersBCummulative, left_on='date', right_on='date', how='left')\n",
    "    .merge(visitorsADaily, left_on='date', right_on='date', how='left')\n",
    "    .merge(visitorsBDaily, left_on='date', right_on='date', how='left')\n",
    "    .merge(visitorsACummulative, left_on='date', right_on='date', how='left')\n",
    "    .merge(visitorsBCummulative, left_on='date', right_on='date', how='left')\n",
    ")\n",
    "\n",
    "ordersByUsersA = (\n",
    "    orders[orders['group'] == 'A']\n",
    "    .groupby('visitorId', as_index=False)\n",
    "    .agg({'transactionId': pd.Series.nunique})\n",
    ")\n",
    "ordersByUsersA.columns = ['visitorId', 'orders']\n",
    "\n",
    "ordersByUsersB = (\n",
    "    orders[orders['group'] == 'B']\n",
    "    .groupby('visitorId', as_index=False)\n",
    "    .agg({'transactionId': pd.Series.nunique})\n",
    ")\n",
    "ordersByUsersB.columns = ['visitorId', 'orders']\n",
    "\n",
    "sampleA = pd.concat(\n",
    "    [\n",
    "        ordersByUsersA['orders'],\n",
    "        pd.Series(\n",
    "            0,\n",
    "            index=np.arange(\n",
    "                data['visitorsPerDateA'].sum() - len(ordersByUsersA['orders'])\n",
    "            ),\n",
    "            name='orders',\n",
    "        ),\n",
    "    ],\n",
    "    axis=0,\n",
    ")\n",
    "\n",
    "sampleB = pd.concat(\n",
    "    [\n",
    "        ordersByUsersB['orders'],\n",
    "        pd.Series(\n",
    "            0,\n",
    "            index=np.arange(\n",
    "                data['visitorsPerDateB'].sum() - len(ordersByUsersB['orders'])\n",
    "            ),\n",
    "            name='orders',\n",
    "        ),\n",
    "    ],\n",
    "    axis=0,\n",
    ")\n",
    "\n",
    "print(\"{0:.3f}\".format(stats.mannwhitneyu(sampleA, sampleB)[1]))\n",
    "\"{0:.3f}\".format(sampleB.mean() / sampleA.mean() - 1)"
   ]
  },
  {
   "cell_type": "markdown",
   "metadata": {},
   "source": [
    "P-value ниже 0.05, значит нулевую гипотезу о том, что статистически значимых различий в среднем числе заказов между группами нет, отвергаем. Относительный выигрыш группы B равен 16%"
   ]
  },
  {
   "cell_type": "markdown",
   "metadata": {},
   "source": [
    "Посчитаем статистическую значимость различий в среднем чеке заказа между группами по «сырым» данным\n",
    "\n",
    "Нулевая гипотеза: различий в среднем чеке между группами нет. Альтернативная гипотеза: различия в среднем чеке между группами есть."
   ]
  },
  {
   "cell_type": "code",
   "execution_count": 26,
   "metadata": {},
   "outputs": [
    {
     "name": "stdout",
     "output_type": "stream",
     "text": [
      "0.829\n"
     ]
    },
    {
     "data": {
      "text/plain": [
       "'0.287'"
      ]
     },
     "execution_count": 26,
     "metadata": {},
     "output_type": "execute_result"
    }
   ],
   "source": [
    "print('{0:.3f}'.format(stats.mannwhitneyu(orders[orders['group']=='A']['revenue'], orders[orders['group']=='B']['revenue'])[1]))\n",
    "'{0:.3f}'.format(orders[orders['group']=='B']['revenue'].mean() / orders[orders['group']=='A']['revenue'].mean()-1)"
   ]
  },
  {
   "cell_type": "markdown",
   "metadata": {},
   "source": [
    "P-value значительно больше 0.05. Значит, нельзя отвергать нулевую гипотезу. Получается, что в среднем чеке различий нет. При этом средний чек группы B значительно выше среднего чека группы A."
   ]
  },
  {
   "cell_type": "markdown",
   "metadata": {},
   "source": [
    "Очистим данные от аномалий и посчитаем статистическую значимость различий в конверсии и в среднем чеке между группами.\n",
    "\n",
    "Для конверсии: нулевая гипотеза - различий в среднем количестве заказов между группами нет. Альтернативная: различия в среднем между группами есть."
   ]
  },
  {
   "cell_type": "code",
   "execution_count": 27,
   "metadata": {},
   "outputs": [
    {
     "name": "stdout",
     "output_type": "stream",
     "text": [
      "0.010\n"
     ]
    },
    {
     "data": {
      "text/plain": [
       "'0.187'"
      ]
     },
     "execution_count": 27,
     "metadata": {},
     "output_type": "execute_result"
    }
   ],
   "source": [
    "usersWithManyOrders = pd.concat(\n",
    "    [\n",
    "        ordersByUsersA[ordersByUsersA['orders'] > 2]['visitorId'],\n",
    "        ordersByUsersB[ordersByUsersB['orders'] > 2]['visitorId'],\n",
    "    ],\n",
    "    axis=0,\n",
    ")\n",
    "usersWithExpensiveOrders = orders[orders['revenue'] > 30000]['visitorId']\n",
    "abnormalUsers = (\n",
    "    pd.concat([usersWithManyOrders, usersWithExpensiveOrders], axis=0)\n",
    "    .drop_duplicates()\n",
    "    .sort_values()\n",
    ")\n",
    "\n",
    "sampleAFiltered = pd.concat(\n",
    "    [\n",
    "        ordersByUsersA[\n",
    "            np.logical_not(ordersByUsersA['visitorId'].isin(abnormalUsers))\n",
    "        ]['orders'],\n",
    "        pd.Series(\n",
    "            0,\n",
    "            index=np.arange(\n",
    "                data['visitorsPerDateA'].sum() - len(ordersByUsersA['orders'])\n",
    "            ),\n",
    "            name='orders',\n",
    "        ),\n",
    "    ],\n",
    "    axis=0,\n",
    ")\n",
    "\n",
    "sampleBFiltered = pd.concat(\n",
    "    [\n",
    "        ordersByUsersB[\n",
    "            np.logical_not(ordersByUsersB['visitorId'].isin(abnormalUsers))\n",
    "        ]['orders'],\n",
    "        pd.Series(\n",
    "            0,\n",
    "            index=np.arange(\n",
    "                data['visitorsPerDateB'].sum() - len(ordersByUsersB['orders'])\n",
    "            ),\n",
    "            name='orders',\n",
    "        ),\n",
    "    ],\n",
    "    axis=0,\n",
    ")\n",
    "\n",
    "print('{0:.3f}'.format(stats.mannwhitneyu(sampleAFiltered, sampleBFiltered)[1]))\n",
    "'{0:.3f}'.format(sampleBFiltered.mean()/sampleAFiltered.mean()-1)"
   ]
  },
  {
   "cell_type": "markdown",
   "metadata": {},
   "source": [
    "Результаты почти не изменились: P-value все еще ниже, чем 0.05, а относительный выигрыш группы B вырос на 2.7%\n"
   ]
  },
  {
   "cell_type": "markdown",
   "metadata": {},
   "source": [
    "Для среднего чека: нулевая гипотеза - различий в среднем чеке между группами нет. Альтернативная гипотеза: различия в среднем чеке между группами есть."
   ]
  },
  {
   "cell_type": "code",
   "execution_count": 28,
   "metadata": {},
   "outputs": [
    {
     "name": "stdout",
     "output_type": "stream",
     "text": [
      "0.741\n"
     ]
    },
    {
     "data": {
      "text/plain": [
       "'-0.027'"
      ]
     },
     "execution_count": 28,
     "metadata": {},
     "output_type": "execute_result"
    }
   ],
   "source": [
    "print(\n",
    "    '{0:.3f}'.format(\n",
    "        stats.mannwhitneyu(\n",
    "            orders[\n",
    "                np.logical_and(\n",
    "                    orders['group'] == 'A',\n",
    "                    np.logical_not(orders['visitorId'].isin(abnormalUsers)),\n",
    "                )\n",
    "            ]['revenue'],\n",
    "            orders[\n",
    "                np.logical_and(\n",
    "                    orders['group'] == 'B',\n",
    "                    np.logical_not(orders['visitorId'].isin(abnormalUsers)),\n",
    "                )\n",
    "            ]['revenue'],\n",
    "        )[1]\n",
    "    )\n",
    ")\n",
    "\n",
    "\n",
    "\"{0:.3f}\".format(\n",
    "    orders[\n",
    "        np.logical_and(\n",
    "            orders['group'] == 'B',\n",
    "            np.logical_not(orders['visitorId'].isin(abnormalUsers)),\n",
    "        )\n",
    "    ]['revenue'].mean()\n",
    "    / orders[\n",
    "        np.logical_and(\n",
    "            orders['group'] == 'A',\n",
    "            np.logical_not(orders['visitorId'].isin(abnormalUsers)),\n",
    "         )\n",
    "    ]['revenue'].mean()\n",
    "       - 1\n",
    ") "
   ]
  },
  {
   "cell_type": "markdown",
   "metadata": {},
   "source": [
    "P-value уменьшился, но все еще значительно больше 0.05, но при этом теперь средний чек группы А чуть больше."
   ]
  },
  {
   "cell_type": "markdown",
   "metadata": {},
   "source": [
    "<h1>Выводы</h1>"
   ]
  },
  {
   "cell_type": "markdown",
   "metadata": {},
   "source": [
    "1. Имеются статистически значимые различия в среднем количестве заказов мужду группами как в сырых данных, так и в очищенных. (Группа В лидирует)\n",
    "\n",
    "2. Различия в среднем чеке групп статистически незначимы.\n",
    "\n",
    "3. График относительного прироста конверсии показывает, что конверсия группы В примерно на 15% выше конверсии группы А, но при этом это число постепенно уменьшается.\n",
    "\n",
    "4. График среднего чека так же говорит, что группа В на данный момент лучше группы А, но опять же разница со временем становится меньше.\n",
    "\n",
    "Исходя из этого, считаю, что тест стоит продолжить. Если в течение 2 недель средний чек группы В не сравняется со среднем чеком группы А, а уровень конверсии останется примерно на таком же уровне, то тест можно будет завершить, сказав, что группа В лучше. Если же уровень конверсии также упадет до 0 (или ниже), то тест опять нужно будет продолжить до выяснения может ли группа А стать лучше группы В."
   ]
  }
 ],
 "metadata": {
  "ExecuteTimeLog": [
   {
    "duration": 825,
    "start_time": "2022-09-09T09:05:45.521Z"
   },
   {
    "duration": 65,
    "start_time": "2022-09-09T09:06:11.772Z"
   },
   {
    "duration": 34,
    "start_time": "2022-09-09T09:06:38.937Z"
   },
   {
    "duration": 30,
    "start_time": "2022-09-09T09:06:41.377Z"
   },
   {
    "duration": 10,
    "start_time": "2022-09-09T09:07:53.408Z"
   },
   {
    "duration": 6,
    "start_time": "2022-09-09T09:08:34.848Z"
   },
   {
    "duration": 9,
    "start_time": "2022-09-09T09:08:40.069Z"
   },
   {
    "duration": 11,
    "start_time": "2022-09-09T09:09:11.238Z"
   },
   {
    "duration": 13,
    "start_time": "2022-09-09T09:09:20.414Z"
   },
   {
    "duration": 12,
    "start_time": "2022-09-09T09:09:43.752Z"
   },
   {
    "duration": 97,
    "start_time": "2022-09-09T09:15:43.244Z"
   },
   {
    "duration": 59,
    "start_time": "2022-09-09T09:15:44.085Z"
   },
   {
    "duration": 457,
    "start_time": "2022-09-09T09:16:05.109Z"
   },
   {
    "duration": 473,
    "start_time": "2022-09-09T09:16:18.661Z"
   },
   {
    "duration": 278,
    "start_time": "2022-09-09T09:16:21.174Z"
   },
   {
    "duration": 53,
    "start_time": "2022-09-09T09:16:34.501Z"
   },
   {
    "duration": 12,
    "start_time": "2022-09-09T09:16:50.989Z"
   },
   {
    "duration": 65,
    "start_time": "2022-09-09T09:17:14.396Z"
   },
   {
    "duration": 12,
    "start_time": "2022-09-09T09:17:22.277Z"
   },
   {
    "duration": 523,
    "start_time": "2022-09-09T09:17:27.270Z"
   },
   {
    "duration": 59,
    "start_time": "2022-09-09T09:17:32.813Z"
   },
   {
    "duration": 18,
    "start_time": "2022-09-09T09:17:33.509Z"
   },
   {
    "duration": 36,
    "start_time": "2022-09-09T09:17:58.165Z"
   },
   {
    "duration": 10,
    "start_time": "2022-09-09T09:18:23.405Z"
   },
   {
    "duration": 42,
    "start_time": "2022-09-09T09:25:29.286Z"
   },
   {
    "duration": 44,
    "start_time": "2022-09-09T09:25:30.274Z"
   },
   {
    "duration": 15,
    "start_time": "2022-09-09T09:26:51.995Z"
   },
   {
    "duration": 18,
    "start_time": "2022-09-09T09:27:56.322Z"
   },
   {
    "duration": 110,
    "start_time": "2022-09-09T09:28:27.218Z"
   },
   {
    "duration": 26,
    "start_time": "2022-09-09T09:28:28.425Z"
   },
   {
    "duration": 49,
    "start_time": "2022-09-09T09:32:37.308Z"
   },
   {
    "duration": 44,
    "start_time": "2022-09-09T09:32:38.440Z"
   },
   {
    "duration": 133,
    "start_time": "2022-09-09T09:36:33.741Z"
   },
   {
    "duration": 41,
    "start_time": "2022-09-09T09:37:28.157Z"
   },
   {
    "duration": 10,
    "start_time": "2022-09-09T09:42:17.977Z"
   },
   {
    "duration": 4,
    "start_time": "2022-09-09T09:42:30.517Z"
   },
   {
    "duration": 4,
    "start_time": "2022-09-09T09:42:36.652Z"
   },
   {
    "duration": 6,
    "start_time": "2022-09-09T09:42:51.164Z"
   },
   {
    "duration": 61,
    "start_time": "2022-09-09T09:43:21.132Z"
   },
   {
    "duration": 839,
    "start_time": "2022-09-09T09:43:24.787Z"
   },
   {
    "duration": 60,
    "start_time": "2022-09-09T09:44:11.900Z"
   },
   {
    "duration": 72,
    "start_time": "2022-09-09T09:44:18.700Z"
   },
   {
    "duration": 119,
    "start_time": "2022-09-09T09:44:21.156Z"
   },
   {
    "duration": 9,
    "start_time": "2022-09-09T09:44:31.516Z"
   },
   {
    "duration": 6,
    "start_time": "2022-09-09T09:44:45.636Z"
   },
   {
    "duration": 7,
    "start_time": "2022-09-09T09:48:24.339Z"
   },
   {
    "duration": 69,
    "start_time": "2022-09-09T09:50:30.025Z"
   },
   {
    "duration": 6,
    "start_time": "2022-09-09T09:50:34.498Z"
   },
   {
    "duration": 6,
    "start_time": "2022-09-09T09:52:03.592Z"
   },
   {
    "duration": 10,
    "start_time": "2022-09-09T09:52:06.097Z"
   },
   {
    "duration": 12,
    "start_time": "2022-09-09T09:52:46.553Z"
   },
   {
    "duration": 1023,
    "start_time": "2022-09-09T09:53:02.545Z"
   },
   {
    "duration": 5,
    "start_time": "2022-09-09T09:53:08.650Z"
   },
   {
    "duration": 1066,
    "start_time": "2022-09-09T09:53:09.616Z"
   },
   {
    "duration": 13,
    "start_time": "2022-09-09T09:53:38.265Z"
   },
   {
    "duration": 954,
    "start_time": "2022-09-09T09:54:17.649Z"
   },
   {
    "duration": 1148,
    "start_time": "2022-09-09T09:54:26.713Z"
   },
   {
    "duration": 12,
    "start_time": "2022-09-09T09:54:49.873Z"
   },
   {
    "duration": 19,
    "start_time": "2022-09-09T09:55:50.456Z"
   },
   {
    "duration": 16,
    "start_time": "2022-09-09T09:57:08.728Z"
   },
   {
    "duration": 6,
    "start_time": "2022-09-09T09:57:12.223Z"
   },
   {
    "duration": 15,
    "start_time": "2022-09-09T09:57:13.775Z"
   },
   {
    "duration": 17,
    "start_time": "2022-09-09T09:57:18.415Z"
   },
   {
    "duration": 17,
    "start_time": "2022-09-09T09:57:59.591Z"
   },
   {
    "duration": 14,
    "start_time": "2022-09-09T09:58:58.008Z"
   },
   {
    "duration": 13,
    "start_time": "2022-09-09T09:59:23.056Z"
   },
   {
    "duration": 19,
    "start_time": "2022-09-09T10:00:03.022Z"
   },
   {
    "duration": 14,
    "start_time": "2022-09-09T10:00:13.647Z"
   },
   {
    "duration": 14,
    "start_time": "2022-09-09T10:00:36.639Z"
   },
   {
    "duration": 15,
    "start_time": "2022-09-09T10:00:47.702Z"
   },
   {
    "duration": 7,
    "start_time": "2022-09-09T10:00:51.174Z"
   },
   {
    "duration": 15,
    "start_time": "2022-09-09T10:00:52.870Z"
   },
   {
    "duration": 13,
    "start_time": "2022-09-09T10:01:01.222Z"
   },
   {
    "duration": 31,
    "start_time": "2022-09-09T10:01:06.894Z"
   },
   {
    "duration": 11,
    "start_time": "2022-09-09T10:01:07.079Z"
   },
   {
    "duration": 16,
    "start_time": "2022-09-09T10:01:07.375Z"
   },
   {
    "duration": 18,
    "start_time": "2022-09-09T10:01:07.575Z"
   },
   {
    "duration": 81,
    "start_time": "2022-09-09T10:01:08.960Z"
   },
   {
    "duration": 19,
    "start_time": "2022-09-09T10:01:10.078Z"
   },
   {
    "duration": 43,
    "start_time": "2022-09-09T10:01:10.319Z"
   },
   {
    "duration": 16,
    "start_time": "2022-09-09T10:01:10.535Z"
   },
   {
    "duration": 7,
    "start_time": "2022-09-09T10:01:11.893Z"
   },
   {
    "duration": 18,
    "start_time": "2022-09-09T10:01:18.854Z"
   },
   {
    "duration": 47,
    "start_time": "2022-09-09T10:01:50.797Z"
   },
   {
    "duration": 50,
    "start_time": "2022-09-09T10:01:51.286Z"
   },
   {
    "duration": 138,
    "start_time": "2022-09-09T10:01:51.638Z"
   },
   {
    "duration": 40,
    "start_time": "2022-09-09T10:01:52.720Z"
   },
   {
    "duration": 10,
    "start_time": "2022-09-09T10:09:41.635Z"
   },
   {
    "duration": 10,
    "start_time": "2022-09-09T10:14:33.810Z"
   },
   {
    "duration": 32,
    "start_time": "2022-09-09T10:14:34.875Z"
   },
   {
    "duration": 261,
    "start_time": "2022-09-09T10:14:59.826Z"
   },
   {
    "duration": 302,
    "start_time": "2022-09-09T10:15:08.726Z"
   },
   {
    "duration": 9,
    "start_time": "2022-09-09T10:15:35.626Z"
   },
   {
    "duration": 263,
    "start_time": "2022-09-09T10:15:43.490Z"
   },
   {
    "duration": 6,
    "start_time": "2022-09-09T10:15:44.346Z"
   },
   {
    "duration": 291,
    "start_time": "2022-09-09T10:16:19.122Z"
   },
   {
    "duration": 227,
    "start_time": "2022-09-09T10:17:04.722Z"
   },
   {
    "duration": 168,
    "start_time": "2022-09-09T10:17:23.866Z"
   },
   {
    "duration": 195,
    "start_time": "2022-09-09T10:17:27.738Z"
   },
   {
    "duration": 162,
    "start_time": "2022-09-09T10:17:43.170Z"
   },
   {
    "duration": 239,
    "start_time": "2022-09-09T10:18:00.770Z"
   },
   {
    "duration": 206,
    "start_time": "2022-09-09T10:18:05.303Z"
   },
   {
    "duration": 222,
    "start_time": "2022-09-09T10:18:09.609Z"
   },
   {
    "duration": 248,
    "start_time": "2022-09-09T10:18:15.785Z"
   },
   {
    "duration": 186,
    "start_time": "2022-09-09T10:18:25.778Z"
   },
   {
    "duration": 161,
    "start_time": "2022-09-09T10:18:29.857Z"
   },
   {
    "duration": 314,
    "start_time": "2022-09-09T10:18:35.681Z"
   },
   {
    "duration": 88,
    "start_time": "2022-09-09T10:18:51.778Z"
   },
   {
    "duration": 69,
    "start_time": "2022-09-09T10:18:57.873Z"
   },
   {
    "duration": 143,
    "start_time": "2022-09-09T10:19:02.081Z"
   },
   {
    "duration": 397,
    "start_time": "2022-09-09T10:19:15.905Z"
   },
   {
    "duration": 164,
    "start_time": "2022-09-09T10:19:23.938Z"
   },
   {
    "duration": 187,
    "start_time": "2022-09-09T10:19:27.561Z"
   },
   {
    "duration": 156,
    "start_time": "2022-09-09T10:19:37.401Z"
   },
   {
    "duration": 152,
    "start_time": "2022-09-09T10:20:03.065Z"
   },
   {
    "duration": 202,
    "start_time": "2022-09-09T10:20:07.201Z"
   },
   {
    "duration": 284,
    "start_time": "2022-09-09T10:20:44.240Z"
   },
   {
    "duration": 171,
    "start_time": "2022-09-09T10:20:50.735Z"
   },
   {
    "duration": 177,
    "start_time": "2022-09-09T10:20:57.584Z"
   },
   {
    "duration": 180,
    "start_time": "2022-09-09T10:21:03.529Z"
   },
   {
    "duration": 230,
    "start_time": "2022-09-09T10:21:06.225Z"
   },
   {
    "duration": 182,
    "start_time": "2022-09-09T10:25:05.703Z"
   },
   {
    "duration": 244,
    "start_time": "2022-09-09T10:25:16.535Z"
   },
   {
    "duration": 53,
    "start_time": "2022-09-09T10:30:37.029Z"
   },
   {
    "duration": 8,
    "start_time": "2022-09-09T10:30:44.398Z"
   },
   {
    "duration": 210,
    "start_time": "2022-09-09T10:32:35.203Z"
   },
   {
    "duration": 158,
    "start_time": "2022-09-09T10:33:09.890Z"
   },
   {
    "duration": 349,
    "start_time": "2022-09-09T10:33:23.566Z"
   },
   {
    "duration": 237,
    "start_time": "2022-09-09T10:36:40.161Z"
   },
   {
    "duration": 18,
    "start_time": "2022-09-09T10:40:25.164Z"
   },
   {
    "duration": 18,
    "start_time": "2022-09-09T10:40:28.227Z"
   },
   {
    "duration": 281,
    "start_time": "2022-09-09T10:40:33.371Z"
   },
   {
    "duration": 265,
    "start_time": "2022-09-09T10:40:39.138Z"
   },
   {
    "duration": 303,
    "start_time": "2022-09-09T10:42:23.194Z"
   },
   {
    "duration": 17,
    "start_time": "2022-09-09T10:46:53.946Z"
   },
   {
    "duration": 133,
    "start_time": "2022-09-09T10:47:56.656Z"
   },
   {
    "duration": 6,
    "start_time": "2022-09-09T10:50:16.768Z"
   },
   {
    "duration": 5,
    "start_time": "2022-09-09T10:51:07.688Z"
   },
   {
    "duration": 112,
    "start_time": "2022-09-09T10:56:12.583Z"
   },
   {
    "duration": 5,
    "start_time": "2022-09-09T10:57:38.303Z"
   },
   {
    "duration": 139,
    "start_time": "2022-09-09T11:11:34.594Z"
   },
   {
    "duration": 11,
    "start_time": "2022-09-09T11:11:35.034Z"
   },
   {
    "duration": 11,
    "start_time": "2022-09-09T11:11:46.513Z"
   },
   {
    "duration": 13,
    "start_time": "2022-09-09T11:12:24.123Z"
   },
   {
    "duration": 5,
    "start_time": "2022-09-09T11:18:42.889Z"
   },
   {
    "duration": 8,
    "start_time": "2022-09-09T11:18:50.417Z"
   },
   {
    "duration": 6,
    "start_time": "2022-09-09T11:18:54.312Z"
   },
   {
    "duration": 21,
    "start_time": "2022-09-09T11:21:00.648Z"
   },
   {
    "duration": 19,
    "start_time": "2022-09-09T11:21:29.975Z"
   },
   {
    "duration": 112,
    "start_time": "2022-09-09T11:27:34.079Z"
   },
   {
    "duration": 363,
    "start_time": "2022-09-09T11:28:54.774Z"
   },
   {
    "duration": 10,
    "start_time": "2022-09-09T11:33:48.052Z"
   },
   {
    "duration": 9,
    "start_time": "2022-09-09T11:38:00.521Z"
   },
   {
    "duration": 12,
    "start_time": "2022-09-09T11:38:30.396Z"
   },
   {
    "duration": 327,
    "start_time": "2022-09-09T11:38:47.452Z"
   },
   {
    "duration": 10,
    "start_time": "2022-09-09T11:38:50.691Z"
   },
   {
    "duration": 11,
    "start_time": "2022-09-09T11:38:54.051Z"
   },
   {
    "duration": 32,
    "start_time": "2022-09-09T11:38:55.867Z"
   },
   {
    "duration": 1086,
    "start_time": "2022-09-09T11:40:55.003Z"
   },
   {
    "duration": 17,
    "start_time": "2022-09-09T11:41:05.307Z"
   },
   {
    "duration": 11,
    "start_time": "2022-09-09T11:50:05.080Z"
   },
   {
    "duration": 75,
    "start_time": "2022-09-09T11:50:05.681Z"
   },
   {
    "duration": 29,
    "start_time": "2022-09-09T11:50:05.758Z"
   },
   {
    "duration": 40,
    "start_time": "2022-09-09T11:50:05.789Z"
   },
   {
    "duration": 12,
    "start_time": "2022-09-09T11:50:05.831Z"
   },
   {
    "duration": 6,
    "start_time": "2022-09-09T11:50:05.886Z"
   },
   {
    "duration": 12,
    "start_time": "2022-09-09T11:50:05.947Z"
   },
   {
    "duration": 18,
    "start_time": "2022-09-09T11:50:06.009Z"
   },
   {
    "duration": 300,
    "start_time": "2022-09-09T11:50:06.072Z"
   },
   {
    "duration": 7,
    "start_time": "2022-09-09T11:50:06.374Z"
   },
   {
    "duration": 214,
    "start_time": "2022-09-09T11:50:06.382Z"
   },
   {
    "duration": 196,
    "start_time": "2022-09-09T11:50:06.598Z"
   },
   {
    "duration": 349,
    "start_time": "2022-09-09T11:50:06.796Z"
   },
   {
    "duration": 207,
    "start_time": "2022-09-09T11:50:07.146Z"
   },
   {
    "duration": 267,
    "start_time": "2022-09-09T11:50:07.354Z"
   },
   {
    "duration": 291,
    "start_time": "2022-09-09T11:50:07.624Z"
   },
   {
    "duration": 134,
    "start_time": "2022-09-09T11:50:07.916Z"
   },
   {
    "duration": 5,
    "start_time": "2022-09-09T11:50:08.052Z"
   },
   {
    "duration": 144,
    "start_time": "2022-09-09T11:50:08.059Z"
   },
   {
    "duration": 21,
    "start_time": "2022-09-09T11:50:08.205Z"
   },
   {
    "duration": 338,
    "start_time": "2022-09-09T11:50:08.228Z"
   },
   {
    "duration": 11,
    "start_time": "2022-09-09T11:50:08.568Z"
   },
   {
    "duration": 65,
    "start_time": "2022-09-09T11:50:08.581Z"
   },
   {
    "duration": 40,
    "start_time": "2022-09-09T11:50:08.648Z"
   },
   {
    "duration": 338,
    "start_time": "2022-09-09T12:00:53.633Z"
   },
   {
    "duration": 12,
    "start_time": "2022-09-09T12:00:56.624Z"
   },
   {
    "duration": 60,
    "start_time": "2022-09-09T12:00:58.505Z"
   },
   {
    "duration": 21,
    "start_time": "2022-09-09T12:01:00.584Z"
   },
   {
    "duration": 1197,
    "start_time": "2022-09-09T14:28:36.038Z"
   },
   {
    "duration": 66,
    "start_time": "2022-09-09T14:28:37.236Z"
   },
   {
    "duration": 7,
    "start_time": "2022-09-09T14:28:37.304Z"
   },
   {
    "duration": 13,
    "start_time": "2022-09-09T14:28:37.313Z"
   },
   {
    "duration": 12,
    "start_time": "2022-09-09T14:28:37.327Z"
   },
   {
    "duration": 96,
    "start_time": "2022-09-09T14:28:37.340Z"
   },
   {
    "duration": 20,
    "start_time": "2022-09-09T14:28:37.438Z"
   },
   {
    "duration": 69,
    "start_time": "2022-09-09T14:28:37.460Z"
   },
   {
    "duration": 11,
    "start_time": "2022-09-09T14:28:37.531Z"
   },
   {
    "duration": 60,
    "start_time": "2022-09-09T14:28:37.544Z"
   },
   {
    "duration": 13,
    "start_time": "2022-09-09T14:28:37.605Z"
   },
   {
    "duration": 5,
    "start_time": "2022-09-09T14:28:37.619Z"
   },
   {
    "duration": 539,
    "start_time": "2022-09-09T14:28:37.625Z"
   },
   {
    "duration": 5,
    "start_time": "2022-09-09T14:28:38.165Z"
   },
   {
    "duration": 290,
    "start_time": "2022-09-09T14:28:38.171Z"
   },
   {
    "duration": 195,
    "start_time": "2022-09-09T14:28:38.500Z"
   },
   {
    "duration": 264,
    "start_time": "2022-09-09T14:28:38.697Z"
   },
   {
    "duration": 181,
    "start_time": "2022-09-09T14:28:38.962Z"
   },
   {
    "duration": 257,
    "start_time": "2022-09-09T14:28:39.145Z"
   },
   {
    "duration": 284,
    "start_time": "2022-09-09T14:28:39.403Z"
   },
   {
    "duration": 119,
    "start_time": "2022-09-09T14:28:39.688Z"
   },
   {
    "duration": 5,
    "start_time": "2022-09-09T14:28:39.809Z"
   },
   {
    "duration": 120,
    "start_time": "2022-09-09T14:28:39.815Z"
   },
   {
    "duration": 4,
    "start_time": "2022-09-09T14:28:39.937Z"
   },
   {
    "duration": 387,
    "start_time": "2022-09-09T14:28:39.942Z"
   },
   {
    "duration": 9,
    "start_time": "2022-09-09T14:28:40.331Z"
   },
   {
    "duration": 27,
    "start_time": "2022-09-09T14:28:40.341Z"
   },
   {
    "duration": 38,
    "start_time": "2022-09-09T14:28:40.370Z"
   },
   {
    "duration": 48,
    "start_time": "2022-09-09T17:06:08.809Z"
   },
   {
    "duration": 1330,
    "start_time": "2022-09-09T17:06:13.331Z"
   },
   {
    "duration": 89,
    "start_time": "2022-09-09T17:06:14.671Z"
   },
   {
    "duration": 16,
    "start_time": "2022-09-09T17:06:14.762Z"
   },
   {
    "duration": 34,
    "start_time": "2022-09-09T17:06:14.783Z"
   },
   {
    "duration": 19,
    "start_time": "2022-09-09T17:06:14.819Z"
   },
   {
    "duration": 98,
    "start_time": "2022-09-09T17:06:14.840Z"
   },
   {
    "duration": 22,
    "start_time": "2022-09-09T17:06:15.279Z"
   },
   {
    "duration": 98,
    "start_time": "2022-09-09T17:06:15.447Z"
   },
   {
    "duration": 12,
    "start_time": "2022-09-09T17:06:16.439Z"
   },
   {
    "duration": 7,
    "start_time": "2022-09-09T17:06:16.934Z"
   },
   {
    "duration": 12,
    "start_time": "2022-09-09T17:06:18.190Z"
   },
   {
    "duration": 6,
    "start_time": "2022-09-09T17:06:19.290Z"
   },
   {
    "duration": 297,
    "start_time": "2022-09-09T17:06:19.598Z"
   },
   {
    "duration": 7,
    "start_time": "2022-09-09T17:06:20.318Z"
   },
   {
    "duration": 337,
    "start_time": "2022-09-09T17:06:20.527Z"
   },
   {
    "duration": 201,
    "start_time": "2022-09-09T17:06:37.048Z"
   },
   {
    "duration": 264,
    "start_time": "2022-09-09T17:06:56.527Z"
   },
   {
    "duration": 338,
    "start_time": "2022-09-09T17:07:28.119Z"
   },
   {
    "duration": 304,
    "start_time": "2022-09-09T17:07:42.399Z"
   },
   {
    "duration": 309,
    "start_time": "2022-09-09T17:08:15.991Z"
   },
   {
    "duration": 306,
    "start_time": "2022-09-09T17:08:19.935Z"
   },
   {
    "duration": 282,
    "start_time": "2022-09-09T17:09:04.727Z"
   },
   {
    "duration": 331,
    "start_time": "2022-09-09T17:10:31.359Z"
   },
   {
    "duration": 246,
    "start_time": "2022-09-09T17:11:01.188Z"
   },
   {
    "duration": 332,
    "start_time": "2022-09-09T17:11:11.231Z"
   },
   {
    "duration": 217,
    "start_time": "2022-09-09T17:11:25.718Z"
   },
   {
    "duration": 250,
    "start_time": "2022-09-09T17:11:31.359Z"
   },
   {
    "duration": 257,
    "start_time": "2022-09-09T17:11:34.358Z"
   },
   {
    "duration": 265,
    "start_time": "2022-09-09T17:11:52.598Z"
   },
   {
    "duration": 309,
    "start_time": "2022-09-09T17:12:04.054Z"
   },
   {
    "duration": 159,
    "start_time": "2022-09-09T17:14:13.629Z"
   },
   {
    "duration": 144,
    "start_time": "2022-09-09T17:14:55.118Z"
   },
   {
    "duration": 1360,
    "start_time": "2022-09-10T07:09:14.509Z"
   },
   {
    "duration": 84,
    "start_time": "2022-09-10T07:09:15.871Z"
   },
   {
    "duration": 13,
    "start_time": "2022-09-10T07:09:15.957Z"
   },
   {
    "duration": 17,
    "start_time": "2022-09-10T07:09:15.973Z"
   },
   {
    "duration": 15,
    "start_time": "2022-09-10T07:09:15.992Z"
   },
   {
    "duration": 91,
    "start_time": "2022-09-10T07:09:16.009Z"
   },
   {
    "duration": 22,
    "start_time": "2022-09-10T07:09:16.102Z"
   },
   {
    "duration": 69,
    "start_time": "2022-09-10T07:09:16.127Z"
   },
   {
    "duration": 12,
    "start_time": "2022-09-10T07:09:16.198Z"
   },
   {
    "duration": 8,
    "start_time": "2022-09-10T07:09:16.214Z"
   },
   {
    "duration": 13,
    "start_time": "2022-09-10T07:09:16.224Z"
   },
   {
    "duration": 6,
    "start_time": "2022-09-10T07:09:16.239Z"
   },
   {
    "duration": 323,
    "start_time": "2022-09-10T07:09:16.247Z"
   },
   {
    "duration": 7,
    "start_time": "2022-09-10T07:09:16.572Z"
   },
   {
    "duration": 347,
    "start_time": "2022-09-10T07:09:16.580Z"
   },
   {
    "duration": 246,
    "start_time": "2022-09-10T07:09:16.928Z"
   },
   {
    "duration": 384,
    "start_time": "2022-09-10T07:09:17.179Z"
   },
   {
    "duration": 274,
    "start_time": "2022-09-10T07:09:17.565Z"
   },
   {
    "duration": 299,
    "start_time": "2022-09-10T07:09:17.842Z"
   },
   {
    "duration": 324,
    "start_time": "2022-09-10T07:09:18.144Z"
   },
   {
    "duration": 174,
    "start_time": "2022-09-10T07:09:18.471Z"
   },
   {
    "duration": 5,
    "start_time": "2022-09-10T07:09:18.647Z"
   },
   {
    "duration": 170,
    "start_time": "2022-09-10T07:09:18.654Z"
   },
   {
    "duration": 7,
    "start_time": "2022-09-10T07:09:18.825Z"
   },
   {
    "duration": 480,
    "start_time": "2022-09-10T07:09:18.834Z"
   },
   {
    "duration": 14,
    "start_time": "2022-09-10T07:09:19.316Z"
   },
   {
    "duration": 79,
    "start_time": "2022-09-10T07:09:19.332Z"
   },
   {
    "duration": 23,
    "start_time": "2022-09-10T07:09:19.415Z"
   }
  ],
  "kernelspec": {
   "display_name": "Python 3 (ipykernel)",
   "language": "python",
   "name": "python3"
  },
  "language_info": {
   "codemirror_mode": {
    "name": "ipython",
    "version": 3
   },
   "file_extension": ".py",
   "mimetype": "text/x-python",
   "name": "python",
   "nbconvert_exporter": "python",
   "pygments_lexer": "ipython3",
   "version": "3.10.7"
  },
  "toc": {
   "base_numbering": 1,
   "nav_menu": {},
   "number_sections": true,
   "sideBar": true,
   "skip_h1_title": true,
   "title_cell": "Table of Contents",
   "title_sidebar": "Contents",
   "toc_cell": false,
   "toc_position": {},
   "toc_section_display": true,
   "toc_window_display": false
  }
 },
 "nbformat": 4,
 "nbformat_minor": 4
}
