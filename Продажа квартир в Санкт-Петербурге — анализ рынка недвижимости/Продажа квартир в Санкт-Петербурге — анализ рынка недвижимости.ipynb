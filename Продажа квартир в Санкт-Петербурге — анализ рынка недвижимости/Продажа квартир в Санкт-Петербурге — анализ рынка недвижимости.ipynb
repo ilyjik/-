{
 "cells": [
  {
   "cell_type": "markdown",
   "metadata": {
    "toc": true
   },
   "source": [
    "<h1>Содержание<span class=\"tocSkip\"></span></h1>\n",
    "<div class=\"toc\"><ul class=\"toc-item\"><li><span><a href=\"#Изучение-данных-из-файла\" data-toc-modified-id=\"Изучение-данных-из-файла-1\"><span class=\"toc-item-num\">1&nbsp;&nbsp;</span>Изучение данных из файла</a></span><ul class=\"toc-item\"><li><span><a href=\"#Вывод\" data-toc-modified-id=\"Вывод-1.1\"><span class=\"toc-item-num\">1.1&nbsp;&nbsp;</span>Вывод</a></span></li></ul></li><li><span><a href=\"#Предобработка-данных\" data-toc-modified-id=\"Предобработка-данных-2\"><span class=\"toc-item-num\">2&nbsp;&nbsp;</span>Предобработка данных</a></span></li><li><span><a href=\"#Расчёты-и-добавление-результатов-в-таблицу\" data-toc-modified-id=\"Расчёты-и-добавление-результатов-в-таблицу-3\"><span class=\"toc-item-num\">3&nbsp;&nbsp;</span>Расчёты и добавление результатов в таблицу</a></span></li><li><span><a href=\"#Исследовательский-анализ-данных\" data-toc-modified-id=\"Исследовательский-анализ-данных-4\"><span class=\"toc-item-num\">4&nbsp;&nbsp;</span>Исследовательский анализ данных</a></span></li><li><span><a href=\"#Общий-вывод\" data-toc-modified-id=\"Общий-вывод-5\"><span class=\"toc-item-num\">5&nbsp;&nbsp;</span>Общий вывод</a></span></li><li><span><a href=\"#Чек-лист-готовности-проекта\" data-toc-modified-id=\"Чек-лист-готовности-проекта-6\"><span class=\"toc-item-num\">6&nbsp;&nbsp;</span>Чек-лист готовности проекта</a></span></li></ul></div>"
   ]
  },
  {
   "cell_type": "markdown",
   "metadata": {},
   "source": [
    "# Исследование объявлений о продаже квартир\n",
    "\n",
    "В вашем распоряжении данные сервиса Яндекc Недвижимость — архив объявлений о продаже квартир в Санкт-Петербурге и соседних населённых пунктах за несколько лет. Нужно научиться определять рыночную стоимость объектов недвижимости. Ваша задача — установить параметры. Это позволит построить автоматизированную систему: она отследит аномалии и мошенническую деятельность. \n",
    "\n",
    "По каждой квартире на продажу доступны два вида данных. Первые вписаны пользователем, вторые получены автоматически на основе картографических данных. Например, расстояние до центра, аэропорта, ближайшего парка и водоёма. "
   ]
  },
  {
   "cell_type": "markdown",
   "metadata": {},
   "source": [
    "## Изучение данных из файла"
   ]
  },
  {
   "cell_type": "markdown",
   "metadata": {},
   "source": [
    "Прежде чем приступать к основной части проекта изучим содержимое архива."
   ]
  },
  {
   "cell_type": "code",
   "execution_count": 1,
   "metadata": {},
   "outputs": [],
   "source": [
    "import pandas as pd\n",
    "import numpy\n",
    "import matplotlib.pyplot as plt"
   ]
  },
  {
   "cell_type": "code",
   "execution_count": 2,
   "metadata": {
    "scrolled": true
   },
   "outputs": [
    {
     "data": {
      "text/html": [
       "<div>\n",
       "<style scoped>\n",
       "    .dataframe tbody tr th:only-of-type {\n",
       "        vertical-align: middle;\n",
       "    }\n",
       "\n",
       "    .dataframe tbody tr th {\n",
       "        vertical-align: top;\n",
       "    }\n",
       "\n",
       "    .dataframe thead th {\n",
       "        text-align: right;\n",
       "    }\n",
       "</style>\n",
       "<table border=\"1\" class=\"dataframe\">\n",
       "  <thead>\n",
       "    <tr style=\"text-align: right;\">\n",
       "      <th></th>\n",
       "      <th>total_images</th>\n",
       "      <th>last_price</th>\n",
       "      <th>total_area</th>\n",
       "      <th>first_day_exposition</th>\n",
       "      <th>rooms</th>\n",
       "      <th>ceiling_height</th>\n",
       "      <th>floors_total</th>\n",
       "      <th>living_area</th>\n",
       "      <th>floor</th>\n",
       "      <th>is_apartment</th>\n",
       "      <th>...</th>\n",
       "      <th>kitchen_area</th>\n",
       "      <th>balcony</th>\n",
       "      <th>locality_name</th>\n",
       "      <th>airports_nearest</th>\n",
       "      <th>cityCenters_nearest</th>\n",
       "      <th>parks_around3000</th>\n",
       "      <th>parks_nearest</th>\n",
       "      <th>ponds_around3000</th>\n",
       "      <th>ponds_nearest</th>\n",
       "      <th>days_exposition</th>\n",
       "    </tr>\n",
       "  </thead>\n",
       "  <tbody>\n",
       "    <tr>\n",
       "      <th>0</th>\n",
       "      <td>20</td>\n",
       "      <td>13000000.0</td>\n",
       "      <td>108.00</td>\n",
       "      <td>2019-03-07T00:00:00</td>\n",
       "      <td>3</td>\n",
       "      <td>2.70</td>\n",
       "      <td>16.0</td>\n",
       "      <td>51.00</td>\n",
       "      <td>8</td>\n",
       "      <td>NaN</td>\n",
       "      <td>...</td>\n",
       "      <td>25.00</td>\n",
       "      <td>NaN</td>\n",
       "      <td>Санкт-Петербург</td>\n",
       "      <td>18863.0</td>\n",
       "      <td>16028.0</td>\n",
       "      <td>1.0</td>\n",
       "      <td>482.0</td>\n",
       "      <td>2.0</td>\n",
       "      <td>755.0</td>\n",
       "      <td>NaN</td>\n",
       "    </tr>\n",
       "    <tr>\n",
       "      <th>1</th>\n",
       "      <td>7</td>\n",
       "      <td>3350000.0</td>\n",
       "      <td>40.40</td>\n",
       "      <td>2018-12-04T00:00:00</td>\n",
       "      <td>1</td>\n",
       "      <td>NaN</td>\n",
       "      <td>11.0</td>\n",
       "      <td>18.60</td>\n",
       "      <td>1</td>\n",
       "      <td>NaN</td>\n",
       "      <td>...</td>\n",
       "      <td>11.00</td>\n",
       "      <td>2.0</td>\n",
       "      <td>посёлок Шушары</td>\n",
       "      <td>12817.0</td>\n",
       "      <td>18603.0</td>\n",
       "      <td>0.0</td>\n",
       "      <td>NaN</td>\n",
       "      <td>0.0</td>\n",
       "      <td>NaN</td>\n",
       "      <td>81.0</td>\n",
       "    </tr>\n",
       "    <tr>\n",
       "      <th>2</th>\n",
       "      <td>10</td>\n",
       "      <td>5196000.0</td>\n",
       "      <td>56.00</td>\n",
       "      <td>2015-08-20T00:00:00</td>\n",
       "      <td>2</td>\n",
       "      <td>NaN</td>\n",
       "      <td>5.0</td>\n",
       "      <td>34.30</td>\n",
       "      <td>4</td>\n",
       "      <td>NaN</td>\n",
       "      <td>...</td>\n",
       "      <td>8.30</td>\n",
       "      <td>0.0</td>\n",
       "      <td>Санкт-Петербург</td>\n",
       "      <td>21741.0</td>\n",
       "      <td>13933.0</td>\n",
       "      <td>1.0</td>\n",
       "      <td>90.0</td>\n",
       "      <td>2.0</td>\n",
       "      <td>574.0</td>\n",
       "      <td>558.0</td>\n",
       "    </tr>\n",
       "    <tr>\n",
       "      <th>3</th>\n",
       "      <td>0</td>\n",
       "      <td>64900000.0</td>\n",
       "      <td>159.00</td>\n",
       "      <td>2015-07-24T00:00:00</td>\n",
       "      <td>3</td>\n",
       "      <td>NaN</td>\n",
       "      <td>14.0</td>\n",
       "      <td>NaN</td>\n",
       "      <td>9</td>\n",
       "      <td>NaN</td>\n",
       "      <td>...</td>\n",
       "      <td>NaN</td>\n",
       "      <td>0.0</td>\n",
       "      <td>Санкт-Петербург</td>\n",
       "      <td>28098.0</td>\n",
       "      <td>6800.0</td>\n",
       "      <td>2.0</td>\n",
       "      <td>84.0</td>\n",
       "      <td>3.0</td>\n",
       "      <td>234.0</td>\n",
       "      <td>424.0</td>\n",
       "    </tr>\n",
       "    <tr>\n",
       "      <th>4</th>\n",
       "      <td>2</td>\n",
       "      <td>10000000.0</td>\n",
       "      <td>100.00</td>\n",
       "      <td>2018-06-19T00:00:00</td>\n",
       "      <td>2</td>\n",
       "      <td>3.03</td>\n",
       "      <td>14.0</td>\n",
       "      <td>32.00</td>\n",
       "      <td>13</td>\n",
       "      <td>NaN</td>\n",
       "      <td>...</td>\n",
       "      <td>41.00</td>\n",
       "      <td>NaN</td>\n",
       "      <td>Санкт-Петербург</td>\n",
       "      <td>31856.0</td>\n",
       "      <td>8098.0</td>\n",
       "      <td>2.0</td>\n",
       "      <td>112.0</td>\n",
       "      <td>1.0</td>\n",
       "      <td>48.0</td>\n",
       "      <td>121.0</td>\n",
       "    </tr>\n",
       "    <tr>\n",
       "      <th>5</th>\n",
       "      <td>10</td>\n",
       "      <td>2890000.0</td>\n",
       "      <td>30.40</td>\n",
       "      <td>2018-09-10T00:00:00</td>\n",
       "      <td>1</td>\n",
       "      <td>NaN</td>\n",
       "      <td>12.0</td>\n",
       "      <td>14.40</td>\n",
       "      <td>5</td>\n",
       "      <td>NaN</td>\n",
       "      <td>...</td>\n",
       "      <td>9.10</td>\n",
       "      <td>NaN</td>\n",
       "      <td>городской посёлок Янино-1</td>\n",
       "      <td>NaN</td>\n",
       "      <td>NaN</td>\n",
       "      <td>NaN</td>\n",
       "      <td>NaN</td>\n",
       "      <td>NaN</td>\n",
       "      <td>NaN</td>\n",
       "      <td>55.0</td>\n",
       "    </tr>\n",
       "    <tr>\n",
       "      <th>6</th>\n",
       "      <td>6</td>\n",
       "      <td>3700000.0</td>\n",
       "      <td>37.30</td>\n",
       "      <td>2017-11-02T00:00:00</td>\n",
       "      <td>1</td>\n",
       "      <td>NaN</td>\n",
       "      <td>26.0</td>\n",
       "      <td>10.60</td>\n",
       "      <td>6</td>\n",
       "      <td>NaN</td>\n",
       "      <td>...</td>\n",
       "      <td>14.40</td>\n",
       "      <td>1.0</td>\n",
       "      <td>посёлок Парголово</td>\n",
       "      <td>52996.0</td>\n",
       "      <td>19143.0</td>\n",
       "      <td>0.0</td>\n",
       "      <td>NaN</td>\n",
       "      <td>0.0</td>\n",
       "      <td>NaN</td>\n",
       "      <td>155.0</td>\n",
       "    </tr>\n",
       "    <tr>\n",
       "      <th>7</th>\n",
       "      <td>5</td>\n",
       "      <td>7915000.0</td>\n",
       "      <td>71.60</td>\n",
       "      <td>2019-04-18T00:00:00</td>\n",
       "      <td>2</td>\n",
       "      <td>NaN</td>\n",
       "      <td>24.0</td>\n",
       "      <td>NaN</td>\n",
       "      <td>22</td>\n",
       "      <td>NaN</td>\n",
       "      <td>...</td>\n",
       "      <td>18.90</td>\n",
       "      <td>2.0</td>\n",
       "      <td>Санкт-Петербург</td>\n",
       "      <td>23982.0</td>\n",
       "      <td>11634.0</td>\n",
       "      <td>0.0</td>\n",
       "      <td>NaN</td>\n",
       "      <td>0.0</td>\n",
       "      <td>NaN</td>\n",
       "      <td>NaN</td>\n",
       "    </tr>\n",
       "    <tr>\n",
       "      <th>8</th>\n",
       "      <td>20</td>\n",
       "      <td>2900000.0</td>\n",
       "      <td>33.16</td>\n",
       "      <td>2018-05-23T00:00:00</td>\n",
       "      <td>1</td>\n",
       "      <td>NaN</td>\n",
       "      <td>27.0</td>\n",
       "      <td>15.43</td>\n",
       "      <td>26</td>\n",
       "      <td>NaN</td>\n",
       "      <td>...</td>\n",
       "      <td>8.81</td>\n",
       "      <td>NaN</td>\n",
       "      <td>посёлок Мурино</td>\n",
       "      <td>NaN</td>\n",
       "      <td>NaN</td>\n",
       "      <td>NaN</td>\n",
       "      <td>NaN</td>\n",
       "      <td>NaN</td>\n",
       "      <td>NaN</td>\n",
       "      <td>189.0</td>\n",
       "    </tr>\n",
       "    <tr>\n",
       "      <th>9</th>\n",
       "      <td>18</td>\n",
       "      <td>5400000.0</td>\n",
       "      <td>61.00</td>\n",
       "      <td>2017-02-26T00:00:00</td>\n",
       "      <td>3</td>\n",
       "      <td>2.50</td>\n",
       "      <td>9.0</td>\n",
       "      <td>43.60</td>\n",
       "      <td>7</td>\n",
       "      <td>NaN</td>\n",
       "      <td>...</td>\n",
       "      <td>6.50</td>\n",
       "      <td>2.0</td>\n",
       "      <td>Санкт-Петербург</td>\n",
       "      <td>50898.0</td>\n",
       "      <td>15008.0</td>\n",
       "      <td>0.0</td>\n",
       "      <td>NaN</td>\n",
       "      <td>0.0</td>\n",
       "      <td>NaN</td>\n",
       "      <td>289.0</td>\n",
       "    </tr>\n",
       "  </tbody>\n",
       "</table>\n",
       "<p>10 rows × 22 columns</p>\n",
       "</div>"
      ],
      "text/plain": [
       "   total_images  last_price  total_area first_day_exposition  rooms  \\\n",
       "0            20  13000000.0      108.00  2019-03-07T00:00:00      3   \n",
       "1             7   3350000.0       40.40  2018-12-04T00:00:00      1   \n",
       "2            10   5196000.0       56.00  2015-08-20T00:00:00      2   \n",
       "3             0  64900000.0      159.00  2015-07-24T00:00:00      3   \n",
       "4             2  10000000.0      100.00  2018-06-19T00:00:00      2   \n",
       "5            10   2890000.0       30.40  2018-09-10T00:00:00      1   \n",
       "6             6   3700000.0       37.30  2017-11-02T00:00:00      1   \n",
       "7             5   7915000.0       71.60  2019-04-18T00:00:00      2   \n",
       "8            20   2900000.0       33.16  2018-05-23T00:00:00      1   \n",
       "9            18   5400000.0       61.00  2017-02-26T00:00:00      3   \n",
       "\n",
       "   ceiling_height  floors_total  living_area  floor is_apartment  ...  \\\n",
       "0            2.70          16.0        51.00      8          NaN  ...   \n",
       "1             NaN          11.0        18.60      1          NaN  ...   \n",
       "2             NaN           5.0        34.30      4          NaN  ...   \n",
       "3             NaN          14.0          NaN      9          NaN  ...   \n",
       "4            3.03          14.0        32.00     13          NaN  ...   \n",
       "5             NaN          12.0        14.40      5          NaN  ...   \n",
       "6             NaN          26.0        10.60      6          NaN  ...   \n",
       "7             NaN          24.0          NaN     22          NaN  ...   \n",
       "8             NaN          27.0        15.43     26          NaN  ...   \n",
       "9            2.50           9.0        43.60      7          NaN  ...   \n",
       "\n",
       "   kitchen_area  balcony              locality_name  airports_nearest  \\\n",
       "0         25.00      NaN            Санкт-Петербург           18863.0   \n",
       "1         11.00      2.0             посёлок Шушары           12817.0   \n",
       "2          8.30      0.0            Санкт-Петербург           21741.0   \n",
       "3           NaN      0.0            Санкт-Петербург           28098.0   \n",
       "4         41.00      NaN            Санкт-Петербург           31856.0   \n",
       "5          9.10      NaN  городской посёлок Янино-1               NaN   \n",
       "6         14.40      1.0          посёлок Парголово           52996.0   \n",
       "7         18.90      2.0            Санкт-Петербург           23982.0   \n",
       "8          8.81      NaN             посёлок Мурино               NaN   \n",
       "9          6.50      2.0            Санкт-Петербург           50898.0   \n",
       "\n",
       "  cityCenters_nearest  parks_around3000  parks_nearest  ponds_around3000  \\\n",
       "0             16028.0               1.0          482.0               2.0   \n",
       "1             18603.0               0.0            NaN               0.0   \n",
       "2             13933.0               1.0           90.0               2.0   \n",
       "3              6800.0               2.0           84.0               3.0   \n",
       "4              8098.0               2.0          112.0               1.0   \n",
       "5                 NaN               NaN            NaN               NaN   \n",
       "6             19143.0               0.0            NaN               0.0   \n",
       "7             11634.0               0.0            NaN               0.0   \n",
       "8                 NaN               NaN            NaN               NaN   \n",
       "9             15008.0               0.0            NaN               0.0   \n",
       "\n",
       "   ponds_nearest  days_exposition  \n",
       "0          755.0              NaN  \n",
       "1            NaN             81.0  \n",
       "2          574.0            558.0  \n",
       "3          234.0            424.0  \n",
       "4           48.0            121.0  \n",
       "5            NaN             55.0  \n",
       "6            NaN            155.0  \n",
       "7            NaN              NaN  \n",
       "8            NaN            189.0  \n",
       "9            NaN            289.0  \n",
       "\n",
       "[10 rows x 22 columns]"
      ]
     },
     "metadata": {},
     "output_type": "display_data"
    },
    {
     "name": "stdout",
     "output_type": "stream",
     "text": [
      "<class 'pandas.core.frame.DataFrame'>\n",
      "RangeIndex: 23699 entries, 0 to 23698\n",
      "Data columns (total 22 columns):\n",
      " #   Column                Non-Null Count  Dtype  \n",
      "---  ------                --------------  -----  \n",
      " 0   total_images          23699 non-null  int64  \n",
      " 1   last_price            23699 non-null  float64\n",
      " 2   total_area            23699 non-null  float64\n",
      " 3   first_day_exposition  23699 non-null  object \n",
      " 4   rooms                 23699 non-null  int64  \n",
      " 5   ceiling_height        14504 non-null  float64\n",
      " 6   floors_total          23613 non-null  float64\n",
      " 7   living_area           21796 non-null  float64\n",
      " 8   floor                 23699 non-null  int64  \n",
      " 9   is_apartment          2775 non-null   object \n",
      " 10  studio                23699 non-null  bool   \n",
      " 11  open_plan             23699 non-null  bool   \n",
      " 12  kitchen_area          21421 non-null  float64\n",
      " 13  balcony               12180 non-null  float64\n",
      " 14  locality_name         23650 non-null  object \n",
      " 15  airports_nearest      18157 non-null  float64\n",
      " 16  cityCenters_nearest   18180 non-null  float64\n",
      " 17  parks_around3000      18181 non-null  float64\n",
      " 18  parks_nearest         8079 non-null   float64\n",
      " 19  ponds_around3000      18181 non-null  float64\n",
      " 20  ponds_nearest         9110 non-null   float64\n",
      " 21  days_exposition       20518 non-null  float64\n",
      "dtypes: bool(2), float64(14), int64(3), object(3)\n",
      "memory usage: 3.7+ MB\n"
     ]
    }
   ],
   "source": [
    "data = pd.read_csv('/datasets/real_estate_data.csv', sep='\\t')\n",
    "display(data.head(10))\n",
    "data.info()"
   ]
  },
  {
   "cell_type": "markdown",
   "metadata": {},
   "source": [
    "### Вывод"
   ]
  },
  {
   "cell_type": "markdown",
   "metadata": {},
   "source": [
    "С первого взгляда видны несколько проблем: а) столбец is_apartment, который должен быть булева типа, хранит значения типа object, и в нем имеются пустые значения, б) столбец balcony имеет тип float, который лучше заменить на int (число балконов не может быть не целым), стоит заменить в этом столбце пустые значения на 0."
   ]
  },
  {
   "cell_type": "markdown",
   "metadata": {},
   "source": [
    "## Предобработка данных"
   ]
  },
  {
   "cell_type": "markdown",
   "metadata": {},
   "source": [
    "Исправим проблемы, описанные в пункте 1.1"
   ]
  },
  {
   "cell_type": "code",
   "execution_count": 3,
   "metadata": {},
   "outputs": [
    {
     "data": {
      "text/html": [
       "<div>\n",
       "<style scoped>\n",
       "    .dataframe tbody tr th:only-of-type {\n",
       "        vertical-align: middle;\n",
       "    }\n",
       "\n",
       "    .dataframe tbody tr th {\n",
       "        vertical-align: top;\n",
       "    }\n",
       "\n",
       "    .dataframe thead th {\n",
       "        text-align: right;\n",
       "    }\n",
       "</style>\n",
       "<table border=\"1\" class=\"dataframe\">\n",
       "  <thead>\n",
       "    <tr style=\"text-align: right;\">\n",
       "      <th></th>\n",
       "      <th>total_images</th>\n",
       "      <th>last_price</th>\n",
       "      <th>total_area</th>\n",
       "      <th>first_day_exposition</th>\n",
       "      <th>rooms</th>\n",
       "      <th>ceiling_height</th>\n",
       "      <th>floors_total</th>\n",
       "      <th>living_area</th>\n",
       "      <th>floor</th>\n",
       "      <th>is_apartment</th>\n",
       "      <th>...</th>\n",
       "      <th>kitchen_area</th>\n",
       "      <th>balcony</th>\n",
       "      <th>locality_name</th>\n",
       "      <th>airports_nearest</th>\n",
       "      <th>cityCenters_nearest</th>\n",
       "      <th>parks_around3000</th>\n",
       "      <th>parks_nearest</th>\n",
       "      <th>ponds_around3000</th>\n",
       "      <th>ponds_nearest</th>\n",
       "      <th>days_exposition</th>\n",
       "    </tr>\n",
       "  </thead>\n",
       "  <tbody>\n",
       "    <tr>\n",
       "      <th>0</th>\n",
       "      <td>20</td>\n",
       "      <td>13000000.0</td>\n",
       "      <td>108.0</td>\n",
       "      <td>2019-03-07T00:00:00</td>\n",
       "      <td>3</td>\n",
       "      <td>2.70</td>\n",
       "      <td>16.0</td>\n",
       "      <td>51.0</td>\n",
       "      <td>8</td>\n",
       "      <td>False</td>\n",
       "      <td>...</td>\n",
       "      <td>25.0</td>\n",
       "      <td>0</td>\n",
       "      <td>Санкт-Петербург</td>\n",
       "      <td>18863.0</td>\n",
       "      <td>16028.0</td>\n",
       "      <td>1.0</td>\n",
       "      <td>482.0</td>\n",
       "      <td>2.0</td>\n",
       "      <td>755.0</td>\n",
       "      <td>NaN</td>\n",
       "    </tr>\n",
       "    <tr>\n",
       "      <th>1</th>\n",
       "      <td>7</td>\n",
       "      <td>3350000.0</td>\n",
       "      <td>40.4</td>\n",
       "      <td>2018-12-04T00:00:00</td>\n",
       "      <td>1</td>\n",
       "      <td>NaN</td>\n",
       "      <td>11.0</td>\n",
       "      <td>18.6</td>\n",
       "      <td>1</td>\n",
       "      <td>False</td>\n",
       "      <td>...</td>\n",
       "      <td>11.0</td>\n",
       "      <td>2</td>\n",
       "      <td>посёлок Шушары</td>\n",
       "      <td>12817.0</td>\n",
       "      <td>18603.0</td>\n",
       "      <td>0.0</td>\n",
       "      <td>NaN</td>\n",
       "      <td>0.0</td>\n",
       "      <td>NaN</td>\n",
       "      <td>81.0</td>\n",
       "    </tr>\n",
       "    <tr>\n",
       "      <th>2</th>\n",
       "      <td>10</td>\n",
       "      <td>5196000.0</td>\n",
       "      <td>56.0</td>\n",
       "      <td>2015-08-20T00:00:00</td>\n",
       "      <td>2</td>\n",
       "      <td>NaN</td>\n",
       "      <td>5.0</td>\n",
       "      <td>34.3</td>\n",
       "      <td>4</td>\n",
       "      <td>False</td>\n",
       "      <td>...</td>\n",
       "      <td>8.3</td>\n",
       "      <td>0</td>\n",
       "      <td>Санкт-Петербург</td>\n",
       "      <td>21741.0</td>\n",
       "      <td>13933.0</td>\n",
       "      <td>1.0</td>\n",
       "      <td>90.0</td>\n",
       "      <td>2.0</td>\n",
       "      <td>574.0</td>\n",
       "      <td>558.0</td>\n",
       "    </tr>\n",
       "    <tr>\n",
       "      <th>3</th>\n",
       "      <td>0</td>\n",
       "      <td>64900000.0</td>\n",
       "      <td>159.0</td>\n",
       "      <td>2015-07-24T00:00:00</td>\n",
       "      <td>3</td>\n",
       "      <td>NaN</td>\n",
       "      <td>14.0</td>\n",
       "      <td>NaN</td>\n",
       "      <td>9</td>\n",
       "      <td>False</td>\n",
       "      <td>...</td>\n",
       "      <td>NaN</td>\n",
       "      <td>0</td>\n",
       "      <td>Санкт-Петербург</td>\n",
       "      <td>28098.0</td>\n",
       "      <td>6800.0</td>\n",
       "      <td>2.0</td>\n",
       "      <td>84.0</td>\n",
       "      <td>3.0</td>\n",
       "      <td>234.0</td>\n",
       "      <td>424.0</td>\n",
       "    </tr>\n",
       "    <tr>\n",
       "      <th>4</th>\n",
       "      <td>2</td>\n",
       "      <td>10000000.0</td>\n",
       "      <td>100.0</td>\n",
       "      <td>2018-06-19T00:00:00</td>\n",
       "      <td>2</td>\n",
       "      <td>3.03</td>\n",
       "      <td>14.0</td>\n",
       "      <td>32.0</td>\n",
       "      <td>13</td>\n",
       "      <td>False</td>\n",
       "      <td>...</td>\n",
       "      <td>41.0</td>\n",
       "      <td>0</td>\n",
       "      <td>Санкт-Петербург</td>\n",
       "      <td>31856.0</td>\n",
       "      <td>8098.0</td>\n",
       "      <td>2.0</td>\n",
       "      <td>112.0</td>\n",
       "      <td>1.0</td>\n",
       "      <td>48.0</td>\n",
       "      <td>121.0</td>\n",
       "    </tr>\n",
       "  </tbody>\n",
       "</table>\n",
       "<p>5 rows × 22 columns</p>\n",
       "</div>"
      ],
      "text/plain": [
       "   total_images  last_price  total_area first_day_exposition  rooms  \\\n",
       "0            20  13000000.0       108.0  2019-03-07T00:00:00      3   \n",
       "1             7   3350000.0        40.4  2018-12-04T00:00:00      1   \n",
       "2            10   5196000.0        56.0  2015-08-20T00:00:00      2   \n",
       "3             0  64900000.0       159.0  2015-07-24T00:00:00      3   \n",
       "4             2  10000000.0       100.0  2018-06-19T00:00:00      2   \n",
       "\n",
       "   ceiling_height  floors_total  living_area  floor  is_apartment  ...  \\\n",
       "0            2.70          16.0         51.0      8         False  ...   \n",
       "1             NaN          11.0         18.6      1         False  ...   \n",
       "2             NaN           5.0         34.3      4         False  ...   \n",
       "3             NaN          14.0          NaN      9         False  ...   \n",
       "4            3.03          14.0         32.0     13         False  ...   \n",
       "\n",
       "   kitchen_area  balcony    locality_name  airports_nearest  \\\n",
       "0          25.0        0  Санкт-Петербург           18863.0   \n",
       "1          11.0        2   посёлок Шушары           12817.0   \n",
       "2           8.3        0  Санкт-Петербург           21741.0   \n",
       "3           NaN        0  Санкт-Петербург           28098.0   \n",
       "4          41.0        0  Санкт-Петербург           31856.0   \n",
       "\n",
       "  cityCenters_nearest  parks_around3000  parks_nearest  ponds_around3000  \\\n",
       "0             16028.0               1.0          482.0               2.0   \n",
       "1             18603.0               0.0            NaN               0.0   \n",
       "2             13933.0               1.0           90.0               2.0   \n",
       "3              6800.0               2.0           84.0               3.0   \n",
       "4              8098.0               2.0          112.0               1.0   \n",
       "\n",
       "   ponds_nearest  days_exposition  \n",
       "0          755.0              NaN  \n",
       "1            NaN             81.0  \n",
       "2          574.0            558.0  \n",
       "3          234.0            424.0  \n",
       "4           48.0            121.0  \n",
       "\n",
       "[5 rows x 22 columns]"
      ]
     },
     "metadata": {},
     "output_type": "display_data"
    },
    {
     "name": "stdout",
     "output_type": "stream",
     "text": [
      "<class 'pandas.core.frame.DataFrame'>\n",
      "RangeIndex: 23699 entries, 0 to 23698\n",
      "Data columns (total 22 columns):\n",
      " #   Column                Non-Null Count  Dtype  \n",
      "---  ------                --------------  -----  \n",
      " 0   total_images          23699 non-null  int64  \n",
      " 1   last_price            23699 non-null  float64\n",
      " 2   total_area            23699 non-null  float64\n",
      " 3   first_day_exposition  23699 non-null  object \n",
      " 4   rooms                 23699 non-null  int64  \n",
      " 5   ceiling_height        14504 non-null  float64\n",
      " 6   floors_total          23613 non-null  float64\n",
      " 7   living_area           21796 non-null  float64\n",
      " 8   floor                 23699 non-null  int64  \n",
      " 9   is_apartment          23699 non-null  bool   \n",
      " 10  studio                23699 non-null  bool   \n",
      " 11  open_plan             23699 non-null  bool   \n",
      " 12  kitchen_area          21421 non-null  float64\n",
      " 13  balcony               23699 non-null  int64  \n",
      " 14  locality_name         23650 non-null  object \n",
      " 15  airports_nearest      18157 non-null  float64\n",
      " 16  cityCenters_nearest   18180 non-null  float64\n",
      " 17  parks_around3000      18181 non-null  float64\n",
      " 18  parks_nearest         8079 non-null   float64\n",
      " 19  ponds_around3000      18181 non-null  float64\n",
      " 20  ponds_nearest         9110 non-null   float64\n",
      " 21  days_exposition       20518 non-null  float64\n",
      "dtypes: bool(3), float64(13), int64(4), object(2)\n",
      "memory usage: 3.5+ MB\n"
     ]
    }
   ],
   "source": [
    "data['is_apartment'] = data['is_apartment'].fillna(False) #заполняем пустые значения False (считаем, что пустое значение = квартира - не аппартаменты)\n",
    "data['is_apartment'] = data['is_apartment'].astype('bool') #переводим тип данных\n",
    "data['balcony'] = data['balcony'].fillna(0)  #заполняем пустые значения\n",
    "data['balcony'] = data['balcony'].astype('int') #переводим тип данных\n",
    "\n",
    "display(data.head())\n",
    "data.info()\n"
   ]
  },
  {
   "cell_type": "markdown",
   "metadata": {},
   "source": [
    "Ещё, как мне кажется, стоит изменить тип столбца floors_total на int, но это нельзя сделать пока есть пустые значения, а заполнять их, я думаю, не стоит, иначе может получиться ситуация: человек приезжает покупать квартиру в 10-этажке, а на самом деле там не среднее или медианное значение этажей, а уникальное (например 1 или 100).\n",
    "\n",
    "Была найдена еще одна проблема: названия некоторых населенных пунктов совпадают (различаются написанием)."
   ]
  },
  {
   "cell_type": "code",
   "execution_count": 4,
   "metadata": {
    "scrolled": true
   },
   "outputs": [
    {
     "name": "stdout",
     "output_type": "stream",
     "text": [
      "365\n",
      "331\n"
     ]
    }
   ],
   "source": [
    "print(len(data['locality_name'].unique())) #смотрим количество уникальных значений\n",
    "data['locality_name'] = data['locality_name'].str.replace('ё', 'е') #заменяем ё на е\n",
    "print(len(data['locality_name'].unique())) #проверяем количество уникальных значений"
   ]
  },
  {
   "cell_type": "markdown",
   "metadata": {},
   "source": [
    "Заполним значения airports_nearest, cityCenters_nearest, parks_nearest, ponds_nearest, ponds_around3000, parks_around3000 средними значениями."
   ]
  },
  {
   "cell_type": "code",
   "execution_count": 5,
   "metadata": {
    "scrolled": true
   },
   "outputs": [
    {
     "name": "stdout",
     "output_type": "stream",
     "text": [
      "Пустые строки в стобце airports_nearest  до: 5542\n",
      "Пустые строки в стобце airports_nearest  после: 4872\n",
      "Пустые строки в стобце cityCenters_nearest  до: 5519\n",
      "Пустые строки в стобце cityCenters_nearest  после: 4872\n",
      "Пустые строки в стобце parks_nearest  до: 15620\n",
      "Пустые строки в стобце parks_nearest  после: 6032\n",
      "Пустые строки в стобце ponds_nearest  до: 14589\n",
      "Пустые строки в стобце ponds_nearest  после: 4996\n",
      "Пустые строки в стобце ponds_around3000  до: 5518\n",
      "Пустые строки в стобце ponds_around3000  после: 4872\n",
      "Пустые строки в стобце parks_around3000  до: 5518\n",
      "Пустые строки в стобце parks_around3000  после: 4872\n"
     ]
    },
    {
     "data": {
      "text/html": [
       "<div>\n",
       "<style scoped>\n",
       "    .dataframe tbody tr th:only-of-type {\n",
       "        vertical-align: middle;\n",
       "    }\n",
       "\n",
       "    .dataframe tbody tr th {\n",
       "        vertical-align: top;\n",
       "    }\n",
       "\n",
       "    .dataframe thead th {\n",
       "        text-align: right;\n",
       "    }\n",
       "</style>\n",
       "<table border=\"1\" class=\"dataframe\">\n",
       "  <thead>\n",
       "    <tr style=\"text-align: right;\">\n",
       "      <th></th>\n",
       "      <th>total_images</th>\n",
       "      <th>last_price</th>\n",
       "      <th>total_area</th>\n",
       "      <th>first_day_exposition</th>\n",
       "      <th>rooms</th>\n",
       "      <th>ceiling_height</th>\n",
       "      <th>floors_total</th>\n",
       "      <th>living_area</th>\n",
       "      <th>floor</th>\n",
       "      <th>is_apartment</th>\n",
       "      <th>...</th>\n",
       "      <th>kitchen_area</th>\n",
       "      <th>balcony</th>\n",
       "      <th>locality_name</th>\n",
       "      <th>airports_nearest</th>\n",
       "      <th>cityCenters_nearest</th>\n",
       "      <th>parks_around3000</th>\n",
       "      <th>parks_nearest</th>\n",
       "      <th>ponds_around3000</th>\n",
       "      <th>ponds_nearest</th>\n",
       "      <th>days_exposition</th>\n",
       "    </tr>\n",
       "  </thead>\n",
       "  <tbody>\n",
       "    <tr>\n",
       "      <th>0</th>\n",
       "      <td>20</td>\n",
       "      <td>13000000.0</td>\n",
       "      <td>108.0</td>\n",
       "      <td>2019-03-07T00:00:00</td>\n",
       "      <td>3</td>\n",
       "      <td>2.70</td>\n",
       "      <td>16.0</td>\n",
       "      <td>51.0</td>\n",
       "      <td>8</td>\n",
       "      <td>False</td>\n",
       "      <td>...</td>\n",
       "      <td>25.0</td>\n",
       "      <td>0</td>\n",
       "      <td>Санкт-Петербург</td>\n",
       "      <td>18863.0</td>\n",
       "      <td>16028.0</td>\n",
       "      <td>1.0</td>\n",
       "      <td>482.0</td>\n",
       "      <td>2.0</td>\n",
       "      <td>755.000000</td>\n",
       "      <td>NaN</td>\n",
       "    </tr>\n",
       "    <tr>\n",
       "      <th>1</th>\n",
       "      <td>7</td>\n",
       "      <td>3350000.0</td>\n",
       "      <td>40.4</td>\n",
       "      <td>2018-12-04T00:00:00</td>\n",
       "      <td>1</td>\n",
       "      <td>NaN</td>\n",
       "      <td>11.0</td>\n",
       "      <td>18.6</td>\n",
       "      <td>1</td>\n",
       "      <td>False</td>\n",
       "      <td>...</td>\n",
       "      <td>11.0</td>\n",
       "      <td>2</td>\n",
       "      <td>поселок Шушары</td>\n",
       "      <td>12817.0</td>\n",
       "      <td>18603.0</td>\n",
       "      <td>0.0</td>\n",
       "      <td>NaN</td>\n",
       "      <td>0.0</td>\n",
       "      <td>573.217105</td>\n",
       "      <td>81.0</td>\n",
       "    </tr>\n",
       "    <tr>\n",
       "      <th>2</th>\n",
       "      <td>10</td>\n",
       "      <td>5196000.0</td>\n",
       "      <td>56.0</td>\n",
       "      <td>2015-08-20T00:00:00</td>\n",
       "      <td>2</td>\n",
       "      <td>NaN</td>\n",
       "      <td>5.0</td>\n",
       "      <td>34.3</td>\n",
       "      <td>4</td>\n",
       "      <td>False</td>\n",
       "      <td>...</td>\n",
       "      <td>8.3</td>\n",
       "      <td>0</td>\n",
       "      <td>Санкт-Петербург</td>\n",
       "      <td>21741.0</td>\n",
       "      <td>13933.0</td>\n",
       "      <td>1.0</td>\n",
       "      <td>90.0</td>\n",
       "      <td>2.0</td>\n",
       "      <td>574.000000</td>\n",
       "      <td>558.0</td>\n",
       "    </tr>\n",
       "    <tr>\n",
       "      <th>3</th>\n",
       "      <td>0</td>\n",
       "      <td>64900000.0</td>\n",
       "      <td>159.0</td>\n",
       "      <td>2015-07-24T00:00:00</td>\n",
       "      <td>3</td>\n",
       "      <td>NaN</td>\n",
       "      <td>14.0</td>\n",
       "      <td>NaN</td>\n",
       "      <td>9</td>\n",
       "      <td>False</td>\n",
       "      <td>...</td>\n",
       "      <td>NaN</td>\n",
       "      <td>0</td>\n",
       "      <td>Санкт-Петербург</td>\n",
       "      <td>28098.0</td>\n",
       "      <td>6800.0</td>\n",
       "      <td>2.0</td>\n",
       "      <td>84.0</td>\n",
       "      <td>3.0</td>\n",
       "      <td>234.000000</td>\n",
       "      <td>424.0</td>\n",
       "    </tr>\n",
       "    <tr>\n",
       "      <th>4</th>\n",
       "      <td>2</td>\n",
       "      <td>10000000.0</td>\n",
       "      <td>100.0</td>\n",
       "      <td>2018-06-19T00:00:00</td>\n",
       "      <td>2</td>\n",
       "      <td>3.03</td>\n",
       "      <td>14.0</td>\n",
       "      <td>32.0</td>\n",
       "      <td>13</td>\n",
       "      <td>False</td>\n",
       "      <td>...</td>\n",
       "      <td>41.0</td>\n",
       "      <td>0</td>\n",
       "      <td>Санкт-Петербург</td>\n",
       "      <td>31856.0</td>\n",
       "      <td>8098.0</td>\n",
       "      <td>2.0</td>\n",
       "      <td>112.0</td>\n",
       "      <td>1.0</td>\n",
       "      <td>48.000000</td>\n",
       "      <td>121.0</td>\n",
       "    </tr>\n",
       "  </tbody>\n",
       "</table>\n",
       "<p>5 rows × 22 columns</p>\n",
       "</div>"
      ],
      "text/plain": [
       "   total_images  last_price  total_area first_day_exposition  rooms  \\\n",
       "0            20  13000000.0       108.0  2019-03-07T00:00:00      3   \n",
       "1             7   3350000.0        40.4  2018-12-04T00:00:00      1   \n",
       "2            10   5196000.0        56.0  2015-08-20T00:00:00      2   \n",
       "3             0  64900000.0       159.0  2015-07-24T00:00:00      3   \n",
       "4             2  10000000.0       100.0  2018-06-19T00:00:00      2   \n",
       "\n",
       "   ceiling_height  floors_total  living_area  floor  is_apartment  ...  \\\n",
       "0            2.70          16.0         51.0      8         False  ...   \n",
       "1             NaN          11.0         18.6      1         False  ...   \n",
       "2             NaN           5.0         34.3      4         False  ...   \n",
       "3             NaN          14.0          NaN      9         False  ...   \n",
       "4            3.03          14.0         32.0     13         False  ...   \n",
       "\n",
       "   kitchen_area  balcony    locality_name  airports_nearest  \\\n",
       "0          25.0        0  Санкт-Петербург           18863.0   \n",
       "1          11.0        2   поселок Шушары           12817.0   \n",
       "2           8.3        0  Санкт-Петербург           21741.0   \n",
       "3           NaN        0  Санкт-Петербург           28098.0   \n",
       "4          41.0        0  Санкт-Петербург           31856.0   \n",
       "\n",
       "  cityCenters_nearest  parks_around3000  parks_nearest  ponds_around3000  \\\n",
       "0             16028.0               1.0          482.0               2.0   \n",
       "1             18603.0               0.0            NaN               0.0   \n",
       "2             13933.0               1.0           90.0               2.0   \n",
       "3              6800.0               2.0           84.0               3.0   \n",
       "4              8098.0               2.0          112.0               1.0   \n",
       "\n",
       "   ponds_nearest  days_exposition  \n",
       "0     755.000000              NaN  \n",
       "1     573.217105             81.0  \n",
       "2     574.000000            558.0  \n",
       "3     234.000000            424.0  \n",
       "4      48.000000            121.0  \n",
       "\n",
       "[5 rows x 22 columns]"
      ]
     },
     "metadata": {},
     "output_type": "display_data"
    },
    {
     "name": "stdout",
     "output_type": "stream",
     "text": [
      "<class 'pandas.core.frame.DataFrame'>\n",
      "RangeIndex: 23699 entries, 0 to 23698\n",
      "Data columns (total 22 columns):\n",
      " #   Column                Non-Null Count  Dtype  \n",
      "---  ------                --------------  -----  \n",
      " 0   total_images          23699 non-null  int64  \n",
      " 1   last_price            23699 non-null  float64\n",
      " 2   total_area            23699 non-null  float64\n",
      " 3   first_day_exposition  23699 non-null  object \n",
      " 4   rooms                 23699 non-null  int64  \n",
      " 5   ceiling_height        14504 non-null  float64\n",
      " 6   floors_total          23613 non-null  float64\n",
      " 7   living_area           21796 non-null  float64\n",
      " 8   floor                 23699 non-null  int64  \n",
      " 9   is_apartment          23699 non-null  bool   \n",
      " 10  studio                23699 non-null  bool   \n",
      " 11  open_plan             23699 non-null  bool   \n",
      " 12  kitchen_area          21421 non-null  float64\n",
      " 13  balcony               23699 non-null  int64  \n",
      " 14  locality_name         23650 non-null  object \n",
      " 15  airports_nearest      18827 non-null  float64\n",
      " 16  cityCenters_nearest   18827 non-null  float64\n",
      " 17  parks_around3000      18827 non-null  float64\n",
      " 18  parks_nearest         17667 non-null  float64\n",
      " 19  ponds_around3000      18827 non-null  float64\n",
      " 20  ponds_nearest         18703 non-null  float64\n",
      " 21  days_exposition       20518 non-null  float64\n",
      "dtypes: bool(3), float64(13), int64(4), object(2)\n",
      "memory usage: 3.5+ MB\n"
     ]
    }
   ],
   "source": [
    "for i in ['airports_nearest', 'cityCenters_nearest', 'parks_nearest', 'ponds_nearest', 'ponds_around3000', 'parks_around3000']:\n",
    "    print('Пустые строки в стобце',i,' до:',data[i].isna().sum())\n",
    "    for j in data['locality_name'].unique():\n",
    "        temp = data[data['locality_name'] == j]\n",
    "        f = temp[i].mean()\n",
    "        data.loc[data['locality_name'] == j, i] = data[i].fillna(f)\n",
    "    print('Пустые строки в стобце',i,' после:',data[i].isna().sum())\n",
    "\n",
    "data['ponds_around3000'] = data['ponds_around3000'].round()\n",
    "data['parks_around3000'] = data['parks_around3000'].round()\n",
    "display(data.head())\n",
    "data.info()"
   ]
  },
  {
   "cell_type": "markdown",
   "metadata": {},
   "source": [
    "## Расчёты и добавление результатов в таблицу"
   ]
  },
  {
   "cell_type": "markdown",
   "metadata": {},
   "source": [
    "Посчитаем цену квадратного метра каждой квартиры."
   ]
  },
  {
   "cell_type": "code",
   "execution_count": 6,
   "metadata": {},
   "outputs": [
    {
     "data": {
      "text/html": [
       "<div>\n",
       "<style scoped>\n",
       "    .dataframe tbody tr th:only-of-type {\n",
       "        vertical-align: middle;\n",
       "    }\n",
       "\n",
       "    .dataframe tbody tr th {\n",
       "        vertical-align: top;\n",
       "    }\n",
       "\n",
       "    .dataframe thead th {\n",
       "        text-align: right;\n",
       "    }\n",
       "</style>\n",
       "<table border=\"1\" class=\"dataframe\">\n",
       "  <thead>\n",
       "    <tr style=\"text-align: right;\">\n",
       "      <th></th>\n",
       "      <th>total_images</th>\n",
       "      <th>last_price</th>\n",
       "      <th>total_area</th>\n",
       "      <th>first_day_exposition</th>\n",
       "      <th>rooms</th>\n",
       "      <th>ceiling_height</th>\n",
       "      <th>floors_total</th>\n",
       "      <th>living_area</th>\n",
       "      <th>floor</th>\n",
       "      <th>is_apartment</th>\n",
       "      <th>...</th>\n",
       "      <th>balcony</th>\n",
       "      <th>locality_name</th>\n",
       "      <th>airports_nearest</th>\n",
       "      <th>cityCenters_nearest</th>\n",
       "      <th>parks_around3000</th>\n",
       "      <th>parks_nearest</th>\n",
       "      <th>ponds_around3000</th>\n",
       "      <th>ponds_nearest</th>\n",
       "      <th>days_exposition</th>\n",
       "      <th>price_for_square_meter</th>\n",
       "    </tr>\n",
       "  </thead>\n",
       "  <tbody>\n",
       "    <tr>\n",
       "      <th>0</th>\n",
       "      <td>20</td>\n",
       "      <td>13000000.0</td>\n",
       "      <td>108.0</td>\n",
       "      <td>2019-03-07T00:00:00</td>\n",
       "      <td>3</td>\n",
       "      <td>2.70</td>\n",
       "      <td>16.0</td>\n",
       "      <td>51.0</td>\n",
       "      <td>8</td>\n",
       "      <td>False</td>\n",
       "      <td>...</td>\n",
       "      <td>0</td>\n",
       "      <td>Санкт-Петербург</td>\n",
       "      <td>18863.0</td>\n",
       "      <td>16028.0</td>\n",
       "      <td>1.0</td>\n",
       "      <td>482.0</td>\n",
       "      <td>2.0</td>\n",
       "      <td>755.000000</td>\n",
       "      <td>NaN</td>\n",
       "      <td>120370.370370</td>\n",
       "    </tr>\n",
       "    <tr>\n",
       "      <th>1</th>\n",
       "      <td>7</td>\n",
       "      <td>3350000.0</td>\n",
       "      <td>40.4</td>\n",
       "      <td>2018-12-04T00:00:00</td>\n",
       "      <td>1</td>\n",
       "      <td>NaN</td>\n",
       "      <td>11.0</td>\n",
       "      <td>18.6</td>\n",
       "      <td>1</td>\n",
       "      <td>False</td>\n",
       "      <td>...</td>\n",
       "      <td>2</td>\n",
       "      <td>поселок Шушары</td>\n",
       "      <td>12817.0</td>\n",
       "      <td>18603.0</td>\n",
       "      <td>0.0</td>\n",
       "      <td>NaN</td>\n",
       "      <td>0.0</td>\n",
       "      <td>573.217105</td>\n",
       "      <td>81.0</td>\n",
       "      <td>82920.792079</td>\n",
       "    </tr>\n",
       "    <tr>\n",
       "      <th>2</th>\n",
       "      <td>10</td>\n",
       "      <td>5196000.0</td>\n",
       "      <td>56.0</td>\n",
       "      <td>2015-08-20T00:00:00</td>\n",
       "      <td>2</td>\n",
       "      <td>NaN</td>\n",
       "      <td>5.0</td>\n",
       "      <td>34.3</td>\n",
       "      <td>4</td>\n",
       "      <td>False</td>\n",
       "      <td>...</td>\n",
       "      <td>0</td>\n",
       "      <td>Санкт-Петербург</td>\n",
       "      <td>21741.0</td>\n",
       "      <td>13933.0</td>\n",
       "      <td>1.0</td>\n",
       "      <td>90.0</td>\n",
       "      <td>2.0</td>\n",
       "      <td>574.000000</td>\n",
       "      <td>558.0</td>\n",
       "      <td>92785.714286</td>\n",
       "    </tr>\n",
       "    <tr>\n",
       "      <th>3</th>\n",
       "      <td>0</td>\n",
       "      <td>64900000.0</td>\n",
       "      <td>159.0</td>\n",
       "      <td>2015-07-24T00:00:00</td>\n",
       "      <td>3</td>\n",
       "      <td>NaN</td>\n",
       "      <td>14.0</td>\n",
       "      <td>NaN</td>\n",
       "      <td>9</td>\n",
       "      <td>False</td>\n",
       "      <td>...</td>\n",
       "      <td>0</td>\n",
       "      <td>Санкт-Петербург</td>\n",
       "      <td>28098.0</td>\n",
       "      <td>6800.0</td>\n",
       "      <td>2.0</td>\n",
       "      <td>84.0</td>\n",
       "      <td>3.0</td>\n",
       "      <td>234.000000</td>\n",
       "      <td>424.0</td>\n",
       "      <td>408176.100629</td>\n",
       "    </tr>\n",
       "    <tr>\n",
       "      <th>4</th>\n",
       "      <td>2</td>\n",
       "      <td>10000000.0</td>\n",
       "      <td>100.0</td>\n",
       "      <td>2018-06-19T00:00:00</td>\n",
       "      <td>2</td>\n",
       "      <td>3.03</td>\n",
       "      <td>14.0</td>\n",
       "      <td>32.0</td>\n",
       "      <td>13</td>\n",
       "      <td>False</td>\n",
       "      <td>...</td>\n",
       "      <td>0</td>\n",
       "      <td>Санкт-Петербург</td>\n",
       "      <td>31856.0</td>\n",
       "      <td>8098.0</td>\n",
       "      <td>2.0</td>\n",
       "      <td>112.0</td>\n",
       "      <td>1.0</td>\n",
       "      <td>48.000000</td>\n",
       "      <td>121.0</td>\n",
       "      <td>100000.000000</td>\n",
       "    </tr>\n",
       "  </tbody>\n",
       "</table>\n",
       "<p>5 rows × 23 columns</p>\n",
       "</div>"
      ],
      "text/plain": [
       "   total_images  last_price  total_area first_day_exposition  rooms  \\\n",
       "0            20  13000000.0       108.0  2019-03-07T00:00:00      3   \n",
       "1             7   3350000.0        40.4  2018-12-04T00:00:00      1   \n",
       "2            10   5196000.0        56.0  2015-08-20T00:00:00      2   \n",
       "3             0  64900000.0       159.0  2015-07-24T00:00:00      3   \n",
       "4             2  10000000.0       100.0  2018-06-19T00:00:00      2   \n",
       "\n",
       "   ceiling_height  floors_total  living_area  floor  is_apartment  ...  \\\n",
       "0            2.70          16.0         51.0      8         False  ...   \n",
       "1             NaN          11.0         18.6      1         False  ...   \n",
       "2             NaN           5.0         34.3      4         False  ...   \n",
       "3             NaN          14.0          NaN      9         False  ...   \n",
       "4            3.03          14.0         32.0     13         False  ...   \n",
       "\n",
       "   balcony    locality_name  airports_nearest  cityCenters_nearest  \\\n",
       "0        0  Санкт-Петербург           18863.0              16028.0   \n",
       "1        2   поселок Шушары           12817.0              18603.0   \n",
       "2        0  Санкт-Петербург           21741.0              13933.0   \n",
       "3        0  Санкт-Петербург           28098.0               6800.0   \n",
       "4        0  Санкт-Петербург           31856.0               8098.0   \n",
       "\n",
       "  parks_around3000  parks_nearest  ponds_around3000  ponds_nearest  \\\n",
       "0              1.0          482.0               2.0     755.000000   \n",
       "1              0.0            NaN               0.0     573.217105   \n",
       "2              1.0           90.0               2.0     574.000000   \n",
       "3              2.0           84.0               3.0     234.000000   \n",
       "4              2.0          112.0               1.0      48.000000   \n",
       "\n",
       "   days_exposition  price_for_square_meter  \n",
       "0              NaN           120370.370370  \n",
       "1             81.0            82920.792079  \n",
       "2            558.0            92785.714286  \n",
       "3            424.0           408176.100629  \n",
       "4            121.0           100000.000000  \n",
       "\n",
       "[5 rows x 23 columns]"
      ]
     },
     "execution_count": 6,
     "metadata": {},
     "output_type": "execute_result"
    }
   ],
   "source": [
    "data['price_for_square_meter'] = data['last_price'] / data['total_area']\n",
    "data.head()"
   ]
  },
  {
   "cell_type": "markdown",
   "metadata": {},
   "source": [
    "Найдем день недели, месяц и год публикации объявлений."
   ]
  },
  {
   "cell_type": "code",
   "execution_count": 7,
   "metadata": {},
   "outputs": [
    {
     "data": {
      "text/html": [
       "<div>\n",
       "<style scoped>\n",
       "    .dataframe tbody tr th:only-of-type {\n",
       "        vertical-align: middle;\n",
       "    }\n",
       "\n",
       "    .dataframe tbody tr th {\n",
       "        vertical-align: top;\n",
       "    }\n",
       "\n",
       "    .dataframe thead th {\n",
       "        text-align: right;\n",
       "    }\n",
       "</style>\n",
       "<table border=\"1\" class=\"dataframe\">\n",
       "  <thead>\n",
       "    <tr style=\"text-align: right;\">\n",
       "      <th></th>\n",
       "      <th>total_images</th>\n",
       "      <th>last_price</th>\n",
       "      <th>total_area</th>\n",
       "      <th>first_day_exposition</th>\n",
       "      <th>rooms</th>\n",
       "      <th>ceiling_height</th>\n",
       "      <th>floors_total</th>\n",
       "      <th>living_area</th>\n",
       "      <th>floor</th>\n",
       "      <th>is_apartment</th>\n",
       "      <th>...</th>\n",
       "      <th>parks_around3000</th>\n",
       "      <th>parks_nearest</th>\n",
       "      <th>ponds_around3000</th>\n",
       "      <th>ponds_nearest</th>\n",
       "      <th>days_exposition</th>\n",
       "      <th>price_for_square_meter</th>\n",
       "      <th>date</th>\n",
       "      <th>weekday</th>\n",
       "      <th>month</th>\n",
       "      <th>year</th>\n",
       "    </tr>\n",
       "  </thead>\n",
       "  <tbody>\n",
       "    <tr>\n",
       "      <th>0</th>\n",
       "      <td>20</td>\n",
       "      <td>13000000.0</td>\n",
       "      <td>108.0</td>\n",
       "      <td>2019-03-07T00:00:00</td>\n",
       "      <td>3</td>\n",
       "      <td>2.70</td>\n",
       "      <td>16.0</td>\n",
       "      <td>51.0</td>\n",
       "      <td>8</td>\n",
       "      <td>False</td>\n",
       "      <td>...</td>\n",
       "      <td>1.0</td>\n",
       "      <td>482.0</td>\n",
       "      <td>2.0</td>\n",
       "      <td>755.000000</td>\n",
       "      <td>NaN</td>\n",
       "      <td>120370.370370</td>\n",
       "      <td>2019-03-07</td>\n",
       "      <td>3</td>\n",
       "      <td>3</td>\n",
       "      <td>2019</td>\n",
       "    </tr>\n",
       "    <tr>\n",
       "      <th>1</th>\n",
       "      <td>7</td>\n",
       "      <td>3350000.0</td>\n",
       "      <td>40.4</td>\n",
       "      <td>2018-12-04T00:00:00</td>\n",
       "      <td>1</td>\n",
       "      <td>NaN</td>\n",
       "      <td>11.0</td>\n",
       "      <td>18.6</td>\n",
       "      <td>1</td>\n",
       "      <td>False</td>\n",
       "      <td>...</td>\n",
       "      <td>0.0</td>\n",
       "      <td>NaN</td>\n",
       "      <td>0.0</td>\n",
       "      <td>573.217105</td>\n",
       "      <td>81.0</td>\n",
       "      <td>82920.792079</td>\n",
       "      <td>2018-12-04</td>\n",
       "      <td>1</td>\n",
       "      <td>12</td>\n",
       "      <td>2018</td>\n",
       "    </tr>\n",
       "    <tr>\n",
       "      <th>2</th>\n",
       "      <td>10</td>\n",
       "      <td>5196000.0</td>\n",
       "      <td>56.0</td>\n",
       "      <td>2015-08-20T00:00:00</td>\n",
       "      <td>2</td>\n",
       "      <td>NaN</td>\n",
       "      <td>5.0</td>\n",
       "      <td>34.3</td>\n",
       "      <td>4</td>\n",
       "      <td>False</td>\n",
       "      <td>...</td>\n",
       "      <td>1.0</td>\n",
       "      <td>90.0</td>\n",
       "      <td>2.0</td>\n",
       "      <td>574.000000</td>\n",
       "      <td>558.0</td>\n",
       "      <td>92785.714286</td>\n",
       "      <td>2015-08-20</td>\n",
       "      <td>3</td>\n",
       "      <td>8</td>\n",
       "      <td>2015</td>\n",
       "    </tr>\n",
       "    <tr>\n",
       "      <th>3</th>\n",
       "      <td>0</td>\n",
       "      <td>64900000.0</td>\n",
       "      <td>159.0</td>\n",
       "      <td>2015-07-24T00:00:00</td>\n",
       "      <td>3</td>\n",
       "      <td>NaN</td>\n",
       "      <td>14.0</td>\n",
       "      <td>NaN</td>\n",
       "      <td>9</td>\n",
       "      <td>False</td>\n",
       "      <td>...</td>\n",
       "      <td>2.0</td>\n",
       "      <td>84.0</td>\n",
       "      <td>3.0</td>\n",
       "      <td>234.000000</td>\n",
       "      <td>424.0</td>\n",
       "      <td>408176.100629</td>\n",
       "      <td>2015-07-24</td>\n",
       "      <td>4</td>\n",
       "      <td>7</td>\n",
       "      <td>2015</td>\n",
       "    </tr>\n",
       "    <tr>\n",
       "      <th>4</th>\n",
       "      <td>2</td>\n",
       "      <td>10000000.0</td>\n",
       "      <td>100.0</td>\n",
       "      <td>2018-06-19T00:00:00</td>\n",
       "      <td>2</td>\n",
       "      <td>3.03</td>\n",
       "      <td>14.0</td>\n",
       "      <td>32.0</td>\n",
       "      <td>13</td>\n",
       "      <td>False</td>\n",
       "      <td>...</td>\n",
       "      <td>2.0</td>\n",
       "      <td>112.0</td>\n",
       "      <td>1.0</td>\n",
       "      <td>48.000000</td>\n",
       "      <td>121.0</td>\n",
       "      <td>100000.000000</td>\n",
       "      <td>2018-06-19</td>\n",
       "      <td>1</td>\n",
       "      <td>6</td>\n",
       "      <td>2018</td>\n",
       "    </tr>\n",
       "  </tbody>\n",
       "</table>\n",
       "<p>5 rows × 27 columns</p>\n",
       "</div>"
      ],
      "text/plain": [
       "   total_images  last_price  total_area first_day_exposition  rooms  \\\n",
       "0            20  13000000.0       108.0  2019-03-07T00:00:00      3   \n",
       "1             7   3350000.0        40.4  2018-12-04T00:00:00      1   \n",
       "2            10   5196000.0        56.0  2015-08-20T00:00:00      2   \n",
       "3             0  64900000.0       159.0  2015-07-24T00:00:00      3   \n",
       "4             2  10000000.0       100.0  2018-06-19T00:00:00      2   \n",
       "\n",
       "   ceiling_height  floors_total  living_area  floor  is_apartment  ...  \\\n",
       "0            2.70          16.0         51.0      8         False  ...   \n",
       "1             NaN          11.0         18.6      1         False  ...   \n",
       "2             NaN           5.0         34.3      4         False  ...   \n",
       "3             NaN          14.0          NaN      9         False  ...   \n",
       "4            3.03          14.0         32.0     13         False  ...   \n",
       "\n",
       "   parks_around3000  parks_nearest  ponds_around3000  ponds_nearest  \\\n",
       "0               1.0          482.0               2.0     755.000000   \n",
       "1               0.0            NaN               0.0     573.217105   \n",
       "2               1.0           90.0               2.0     574.000000   \n",
       "3               2.0           84.0               3.0     234.000000   \n",
       "4               2.0          112.0               1.0      48.000000   \n",
       "\n",
       "  days_exposition  price_for_square_meter       date  weekday  month  year  \n",
       "0             NaN           120370.370370 2019-03-07        3      3  2019  \n",
       "1            81.0            82920.792079 2018-12-04        1     12  2018  \n",
       "2           558.0            92785.714286 2015-08-20        3      8  2015  \n",
       "3           424.0           408176.100629 2015-07-24        4      7  2015  \n",
       "4           121.0           100000.000000 2018-06-19        1      6  2018  \n",
       "\n",
       "[5 rows x 27 columns]"
      ]
     },
     "execution_count": 7,
     "metadata": {},
     "output_type": "execute_result"
    }
   ],
   "source": [
    "data['date'] = pd.to_datetime(data['first_day_exposition'])\n",
    "data['weekday'] = pd.DatetimeIndex(data['date']).weekday\n",
    "data['month'] = pd.DatetimeIndex(data['date']).month\n",
    "data['year'] = pd.DatetimeIndex(data['date']).year\n",
    "data.head()"
   ]
  },
  {
   "cell_type": "markdown",
   "metadata": {},
   "source": [
    "Определим номер этажа."
   ]
  },
  {
   "cell_type": "code",
   "execution_count": 8,
   "metadata": {},
   "outputs": [
    {
     "data": {
      "text/html": [
       "<div>\n",
       "<style scoped>\n",
       "    .dataframe tbody tr th:only-of-type {\n",
       "        vertical-align: middle;\n",
       "    }\n",
       "\n",
       "    .dataframe tbody tr th {\n",
       "        vertical-align: top;\n",
       "    }\n",
       "\n",
       "    .dataframe thead th {\n",
       "        text-align: right;\n",
       "    }\n",
       "</style>\n",
       "<table border=\"1\" class=\"dataframe\">\n",
       "  <thead>\n",
       "    <tr style=\"text-align: right;\">\n",
       "      <th></th>\n",
       "      <th>total_images</th>\n",
       "      <th>last_price</th>\n",
       "      <th>total_area</th>\n",
       "      <th>first_day_exposition</th>\n",
       "      <th>rooms</th>\n",
       "      <th>ceiling_height</th>\n",
       "      <th>floors_total</th>\n",
       "      <th>living_area</th>\n",
       "      <th>floor</th>\n",
       "      <th>is_apartment</th>\n",
       "      <th>...</th>\n",
       "      <th>parks_nearest</th>\n",
       "      <th>ponds_around3000</th>\n",
       "      <th>ponds_nearest</th>\n",
       "      <th>days_exposition</th>\n",
       "      <th>price_for_square_meter</th>\n",
       "      <th>date</th>\n",
       "      <th>weekday</th>\n",
       "      <th>month</th>\n",
       "      <th>year</th>\n",
       "      <th>floor_type</th>\n",
       "    </tr>\n",
       "  </thead>\n",
       "  <tbody>\n",
       "    <tr>\n",
       "      <th>0</th>\n",
       "      <td>20</td>\n",
       "      <td>13000000.0</td>\n",
       "      <td>108.00</td>\n",
       "      <td>2019-03-07T00:00:00</td>\n",
       "      <td>3</td>\n",
       "      <td>2.70</td>\n",
       "      <td>16.0</td>\n",
       "      <td>51.00</td>\n",
       "      <td>8</td>\n",
       "      <td>False</td>\n",
       "      <td>...</td>\n",
       "      <td>482.000000</td>\n",
       "      <td>2.0</td>\n",
       "      <td>755.000000</td>\n",
       "      <td>NaN</td>\n",
       "      <td>120370.370370</td>\n",
       "      <td>2019-03-07</td>\n",
       "      <td>3</td>\n",
       "      <td>3</td>\n",
       "      <td>2019</td>\n",
       "      <td>другой</td>\n",
       "    </tr>\n",
       "    <tr>\n",
       "      <th>1</th>\n",
       "      <td>7</td>\n",
       "      <td>3350000.0</td>\n",
       "      <td>40.40</td>\n",
       "      <td>2018-12-04T00:00:00</td>\n",
       "      <td>1</td>\n",
       "      <td>NaN</td>\n",
       "      <td>11.0</td>\n",
       "      <td>18.60</td>\n",
       "      <td>1</td>\n",
       "      <td>False</td>\n",
       "      <td>...</td>\n",
       "      <td>NaN</td>\n",
       "      <td>0.0</td>\n",
       "      <td>573.217105</td>\n",
       "      <td>81.0</td>\n",
       "      <td>82920.792079</td>\n",
       "      <td>2018-12-04</td>\n",
       "      <td>1</td>\n",
       "      <td>12</td>\n",
       "      <td>2018</td>\n",
       "      <td>первый</td>\n",
       "    </tr>\n",
       "    <tr>\n",
       "      <th>2</th>\n",
       "      <td>10</td>\n",
       "      <td>5196000.0</td>\n",
       "      <td>56.00</td>\n",
       "      <td>2015-08-20T00:00:00</td>\n",
       "      <td>2</td>\n",
       "      <td>NaN</td>\n",
       "      <td>5.0</td>\n",
       "      <td>34.30</td>\n",
       "      <td>4</td>\n",
       "      <td>False</td>\n",
       "      <td>...</td>\n",
       "      <td>90.000000</td>\n",
       "      <td>2.0</td>\n",
       "      <td>574.000000</td>\n",
       "      <td>558.0</td>\n",
       "      <td>92785.714286</td>\n",
       "      <td>2015-08-20</td>\n",
       "      <td>3</td>\n",
       "      <td>8</td>\n",
       "      <td>2015</td>\n",
       "      <td>другой</td>\n",
       "    </tr>\n",
       "    <tr>\n",
       "      <th>3</th>\n",
       "      <td>0</td>\n",
       "      <td>64900000.0</td>\n",
       "      <td>159.00</td>\n",
       "      <td>2015-07-24T00:00:00</td>\n",
       "      <td>3</td>\n",
       "      <td>NaN</td>\n",
       "      <td>14.0</td>\n",
       "      <td>NaN</td>\n",
       "      <td>9</td>\n",
       "      <td>False</td>\n",
       "      <td>...</td>\n",
       "      <td>84.000000</td>\n",
       "      <td>3.0</td>\n",
       "      <td>234.000000</td>\n",
       "      <td>424.0</td>\n",
       "      <td>408176.100629</td>\n",
       "      <td>2015-07-24</td>\n",
       "      <td>4</td>\n",
       "      <td>7</td>\n",
       "      <td>2015</td>\n",
       "      <td>другой</td>\n",
       "    </tr>\n",
       "    <tr>\n",
       "      <th>4</th>\n",
       "      <td>2</td>\n",
       "      <td>10000000.0</td>\n",
       "      <td>100.00</td>\n",
       "      <td>2018-06-19T00:00:00</td>\n",
       "      <td>2</td>\n",
       "      <td>3.03</td>\n",
       "      <td>14.0</td>\n",
       "      <td>32.00</td>\n",
       "      <td>13</td>\n",
       "      <td>False</td>\n",
       "      <td>...</td>\n",
       "      <td>112.000000</td>\n",
       "      <td>1.0</td>\n",
       "      <td>48.000000</td>\n",
       "      <td>121.0</td>\n",
       "      <td>100000.000000</td>\n",
       "      <td>2018-06-19</td>\n",
       "      <td>1</td>\n",
       "      <td>6</td>\n",
       "      <td>2018</td>\n",
       "      <td>другой</td>\n",
       "    </tr>\n",
       "    <tr>\n",
       "      <th>5</th>\n",
       "      <td>10</td>\n",
       "      <td>2890000.0</td>\n",
       "      <td>30.40</td>\n",
       "      <td>2018-09-10T00:00:00</td>\n",
       "      <td>1</td>\n",
       "      <td>NaN</td>\n",
       "      <td>12.0</td>\n",
       "      <td>14.40</td>\n",
       "      <td>5</td>\n",
       "      <td>False</td>\n",
       "      <td>...</td>\n",
       "      <td>NaN</td>\n",
       "      <td>NaN</td>\n",
       "      <td>NaN</td>\n",
       "      <td>55.0</td>\n",
       "      <td>95065.789474</td>\n",
       "      <td>2018-09-10</td>\n",
       "      <td>0</td>\n",
       "      <td>9</td>\n",
       "      <td>2018</td>\n",
       "      <td>другой</td>\n",
       "    </tr>\n",
       "    <tr>\n",
       "      <th>6</th>\n",
       "      <td>6</td>\n",
       "      <td>3700000.0</td>\n",
       "      <td>37.30</td>\n",
       "      <td>2017-11-02T00:00:00</td>\n",
       "      <td>1</td>\n",
       "      <td>NaN</td>\n",
       "      <td>26.0</td>\n",
       "      <td>10.60</td>\n",
       "      <td>6</td>\n",
       "      <td>False</td>\n",
       "      <td>...</td>\n",
       "      <td>501.100000</td>\n",
       "      <td>0.0</td>\n",
       "      <td>598.071429</td>\n",
       "      <td>155.0</td>\n",
       "      <td>99195.710456</td>\n",
       "      <td>2017-11-02</td>\n",
       "      <td>3</td>\n",
       "      <td>11</td>\n",
       "      <td>2017</td>\n",
       "      <td>другой</td>\n",
       "    </tr>\n",
       "    <tr>\n",
       "      <th>7</th>\n",
       "      <td>5</td>\n",
       "      <td>7915000.0</td>\n",
       "      <td>71.60</td>\n",
       "      <td>2019-04-18T00:00:00</td>\n",
       "      <td>2</td>\n",
       "      <td>NaN</td>\n",
       "      <td>24.0</td>\n",
       "      <td>NaN</td>\n",
       "      <td>22</td>\n",
       "      <td>False</td>\n",
       "      <td>...</td>\n",
       "      <td>498.597886</td>\n",
       "      <td>0.0</td>\n",
       "      <td>520.213955</td>\n",
       "      <td>NaN</td>\n",
       "      <td>110544.692737</td>\n",
       "      <td>2019-04-18</td>\n",
       "      <td>3</td>\n",
       "      <td>4</td>\n",
       "      <td>2019</td>\n",
       "      <td>другой</td>\n",
       "    </tr>\n",
       "    <tr>\n",
       "      <th>8</th>\n",
       "      <td>20</td>\n",
       "      <td>2900000.0</td>\n",
       "      <td>33.16</td>\n",
       "      <td>2018-05-23T00:00:00</td>\n",
       "      <td>1</td>\n",
       "      <td>NaN</td>\n",
       "      <td>27.0</td>\n",
       "      <td>15.43</td>\n",
       "      <td>26</td>\n",
       "      <td>False</td>\n",
       "      <td>...</td>\n",
       "      <td>NaN</td>\n",
       "      <td>2.0</td>\n",
       "      <td>133.000000</td>\n",
       "      <td>189.0</td>\n",
       "      <td>87454.764777</td>\n",
       "      <td>2018-05-23</td>\n",
       "      <td>2</td>\n",
       "      <td>5</td>\n",
       "      <td>2018</td>\n",
       "      <td>другой</td>\n",
       "    </tr>\n",
       "    <tr>\n",
       "      <th>9</th>\n",
       "      <td>18</td>\n",
       "      <td>5400000.0</td>\n",
       "      <td>61.00</td>\n",
       "      <td>2017-02-26T00:00:00</td>\n",
       "      <td>3</td>\n",
       "      <td>2.50</td>\n",
       "      <td>9.0</td>\n",
       "      <td>43.60</td>\n",
       "      <td>7</td>\n",
       "      <td>False</td>\n",
       "      <td>...</td>\n",
       "      <td>498.597886</td>\n",
       "      <td>0.0</td>\n",
       "      <td>520.213955</td>\n",
       "      <td>289.0</td>\n",
       "      <td>88524.590164</td>\n",
       "      <td>2017-02-26</td>\n",
       "      <td>6</td>\n",
       "      <td>2</td>\n",
       "      <td>2017</td>\n",
       "      <td>другой</td>\n",
       "    </tr>\n",
       "    <tr>\n",
       "      <th>10</th>\n",
       "      <td>5</td>\n",
       "      <td>5050000.0</td>\n",
       "      <td>39.60</td>\n",
       "      <td>2017-11-16T00:00:00</td>\n",
       "      <td>1</td>\n",
       "      <td>2.67</td>\n",
       "      <td>12.0</td>\n",
       "      <td>20.30</td>\n",
       "      <td>3</td>\n",
       "      <td>False</td>\n",
       "      <td>...</td>\n",
       "      <td>310.000000</td>\n",
       "      <td>2.0</td>\n",
       "      <td>553.000000</td>\n",
       "      <td>137.0</td>\n",
       "      <td>127525.252525</td>\n",
       "      <td>2017-11-16</td>\n",
       "      <td>3</td>\n",
       "      <td>11</td>\n",
       "      <td>2017</td>\n",
       "      <td>другой</td>\n",
       "    </tr>\n",
       "    <tr>\n",
       "      <th>11</th>\n",
       "      <td>9</td>\n",
       "      <td>3300000.0</td>\n",
       "      <td>44.00</td>\n",
       "      <td>2018-08-27T00:00:00</td>\n",
       "      <td>2</td>\n",
       "      <td>NaN</td>\n",
       "      <td>5.0</td>\n",
       "      <td>31.00</td>\n",
       "      <td>4</td>\n",
       "      <td>False</td>\n",
       "      <td>...</td>\n",
       "      <td>389.062500</td>\n",
       "      <td>0.0</td>\n",
       "      <td>550.048193</td>\n",
       "      <td>7.0</td>\n",
       "      <td>75000.000000</td>\n",
       "      <td>2018-08-27</td>\n",
       "      <td>0</td>\n",
       "      <td>8</td>\n",
       "      <td>2018</td>\n",
       "      <td>другой</td>\n",
       "    </tr>\n",
       "    <tr>\n",
       "      <th>12</th>\n",
       "      <td>10</td>\n",
       "      <td>3890000.0</td>\n",
       "      <td>54.00</td>\n",
       "      <td>2016-06-30T00:00:00</td>\n",
       "      <td>2</td>\n",
       "      <td>NaN</td>\n",
       "      <td>5.0</td>\n",
       "      <td>30.00</td>\n",
       "      <td>5</td>\n",
       "      <td>False</td>\n",
       "      <td>...</td>\n",
       "      <td>NaN</td>\n",
       "      <td>NaN</td>\n",
       "      <td>NaN</td>\n",
       "      <td>90.0</td>\n",
       "      <td>72037.037037</td>\n",
       "      <td>2016-06-30</td>\n",
       "      <td>3</td>\n",
       "      <td>6</td>\n",
       "      <td>2016</td>\n",
       "      <td>последний</td>\n",
       "    </tr>\n",
       "    <tr>\n",
       "      <th>13</th>\n",
       "      <td>20</td>\n",
       "      <td>3550000.0</td>\n",
       "      <td>42.80</td>\n",
       "      <td>2017-07-01T00:00:00</td>\n",
       "      <td>2</td>\n",
       "      <td>2.56</td>\n",
       "      <td>5.0</td>\n",
       "      <td>27.00</td>\n",
       "      <td>5</td>\n",
       "      <td>False</td>\n",
       "      <td>...</td>\n",
       "      <td>294.000000</td>\n",
       "      <td>3.0</td>\n",
       "      <td>298.000000</td>\n",
       "      <td>366.0</td>\n",
       "      <td>82943.925234</td>\n",
       "      <td>2017-07-01</td>\n",
       "      <td>5</td>\n",
       "      <td>7</td>\n",
       "      <td>2017</td>\n",
       "      <td>последний</td>\n",
       "    </tr>\n",
       "    <tr>\n",
       "      <th>14</th>\n",
       "      <td>1</td>\n",
       "      <td>4400000.0</td>\n",
       "      <td>36.00</td>\n",
       "      <td>2016-06-23T00:00:00</td>\n",
       "      <td>1</td>\n",
       "      <td>NaN</td>\n",
       "      <td>6.0</td>\n",
       "      <td>17.00</td>\n",
       "      <td>1</td>\n",
       "      <td>False</td>\n",
       "      <td>...</td>\n",
       "      <td>404.297170</td>\n",
       "      <td>1.0</td>\n",
       "      <td>96.000000</td>\n",
       "      <td>203.0</td>\n",
       "      <td>122222.222222</td>\n",
       "      <td>2016-06-23</td>\n",
       "      <td>3</td>\n",
       "      <td>6</td>\n",
       "      <td>2016</td>\n",
       "      <td>первый</td>\n",
       "    </tr>\n",
       "  </tbody>\n",
       "</table>\n",
       "<p>15 rows × 28 columns</p>\n",
       "</div>"
      ],
      "text/plain": [
       "    total_images  last_price  total_area first_day_exposition  rooms  \\\n",
       "0             20  13000000.0      108.00  2019-03-07T00:00:00      3   \n",
       "1              7   3350000.0       40.40  2018-12-04T00:00:00      1   \n",
       "2             10   5196000.0       56.00  2015-08-20T00:00:00      2   \n",
       "3              0  64900000.0      159.00  2015-07-24T00:00:00      3   \n",
       "4              2  10000000.0      100.00  2018-06-19T00:00:00      2   \n",
       "5             10   2890000.0       30.40  2018-09-10T00:00:00      1   \n",
       "6              6   3700000.0       37.30  2017-11-02T00:00:00      1   \n",
       "7              5   7915000.0       71.60  2019-04-18T00:00:00      2   \n",
       "8             20   2900000.0       33.16  2018-05-23T00:00:00      1   \n",
       "9             18   5400000.0       61.00  2017-02-26T00:00:00      3   \n",
       "10             5   5050000.0       39.60  2017-11-16T00:00:00      1   \n",
       "11             9   3300000.0       44.00  2018-08-27T00:00:00      2   \n",
       "12            10   3890000.0       54.00  2016-06-30T00:00:00      2   \n",
       "13            20   3550000.0       42.80  2017-07-01T00:00:00      2   \n",
       "14             1   4400000.0       36.00  2016-06-23T00:00:00      1   \n",
       "\n",
       "    ceiling_height  floors_total  living_area  floor  is_apartment  ...  \\\n",
       "0             2.70          16.0        51.00      8         False  ...   \n",
       "1              NaN          11.0        18.60      1         False  ...   \n",
       "2              NaN           5.0        34.30      4         False  ...   \n",
       "3              NaN          14.0          NaN      9         False  ...   \n",
       "4             3.03          14.0        32.00     13         False  ...   \n",
       "5              NaN          12.0        14.40      5         False  ...   \n",
       "6              NaN          26.0        10.60      6         False  ...   \n",
       "7              NaN          24.0          NaN     22         False  ...   \n",
       "8              NaN          27.0        15.43     26         False  ...   \n",
       "9             2.50           9.0        43.60      7         False  ...   \n",
       "10            2.67          12.0        20.30      3         False  ...   \n",
       "11             NaN           5.0        31.00      4         False  ...   \n",
       "12             NaN           5.0        30.00      5         False  ...   \n",
       "13            2.56           5.0        27.00      5         False  ...   \n",
       "14             NaN           6.0        17.00      1         False  ...   \n",
       "\n",
       "    parks_nearest  ponds_around3000  ponds_nearest  days_exposition  \\\n",
       "0      482.000000               2.0     755.000000              NaN   \n",
       "1             NaN               0.0     573.217105             81.0   \n",
       "2       90.000000               2.0     574.000000            558.0   \n",
       "3       84.000000               3.0     234.000000            424.0   \n",
       "4      112.000000               1.0      48.000000            121.0   \n",
       "5             NaN               NaN            NaN             55.0   \n",
       "6      501.100000               0.0     598.071429            155.0   \n",
       "7      498.597886               0.0     520.213955              NaN   \n",
       "8             NaN               2.0     133.000000            189.0   \n",
       "9      498.597886               0.0     520.213955            289.0   \n",
       "10     310.000000               2.0     553.000000            137.0   \n",
       "11     389.062500               0.0     550.048193              7.0   \n",
       "12            NaN               NaN            NaN             90.0   \n",
       "13     294.000000               3.0     298.000000            366.0   \n",
       "14     404.297170               1.0      96.000000            203.0   \n",
       "\n",
       "   price_for_square_meter       date  weekday  month  year  floor_type  \n",
       "0           120370.370370 2019-03-07        3      3  2019      другой  \n",
       "1            82920.792079 2018-12-04        1     12  2018      первый  \n",
       "2            92785.714286 2015-08-20        3      8  2015      другой  \n",
       "3           408176.100629 2015-07-24        4      7  2015      другой  \n",
       "4           100000.000000 2018-06-19        1      6  2018      другой  \n",
       "5            95065.789474 2018-09-10        0      9  2018      другой  \n",
       "6            99195.710456 2017-11-02        3     11  2017      другой  \n",
       "7           110544.692737 2019-04-18        3      4  2019      другой  \n",
       "8            87454.764777 2018-05-23        2      5  2018      другой  \n",
       "9            88524.590164 2017-02-26        6      2  2017      другой  \n",
       "10          127525.252525 2017-11-16        3     11  2017      другой  \n",
       "11           75000.000000 2018-08-27        0      8  2018      другой  \n",
       "12           72037.037037 2016-06-30        3      6  2016   последний  \n",
       "13           82943.925234 2017-07-01        5      7  2017   последний  \n",
       "14          122222.222222 2016-06-23        3      6  2016      первый  \n",
       "\n",
       "[15 rows x 28 columns]"
      ]
     },
     "execution_count": 8,
     "metadata": {},
     "output_type": "execute_result"
    }
   ],
   "source": [
    "def floor_c(temp):\n",
    "    if temp['floor'] == 1:\n",
    "        return 'первый'\n",
    "    elif temp['floor'] == temp['floors_total']:\n",
    "        return 'последний'\n",
    "    else:\n",
    "        return 'другой'\n",
    "data['floor_type'] = data.apply(floor_c, axis=1)\n",
    "data.head(15)"
   ]
  },
  {
   "cell_type": "markdown",
   "metadata": {},
   "source": [
    "Найдем соотношение жилой и общей площади, а также отношение площади кухни к общей."
   ]
  },
  {
   "cell_type": "code",
   "execution_count": 9,
   "metadata": {
    "scrolled": true
   },
   "outputs": [
    {
     "data": {
      "text/html": [
       "<div>\n",
       "<style scoped>\n",
       "    .dataframe tbody tr th:only-of-type {\n",
       "        vertical-align: middle;\n",
       "    }\n",
       "\n",
       "    .dataframe tbody tr th {\n",
       "        vertical-align: top;\n",
       "    }\n",
       "\n",
       "    .dataframe thead th {\n",
       "        text-align: right;\n",
       "    }\n",
       "</style>\n",
       "<table border=\"1\" class=\"dataframe\">\n",
       "  <thead>\n",
       "    <tr style=\"text-align: right;\">\n",
       "      <th></th>\n",
       "      <th>total_images</th>\n",
       "      <th>last_price</th>\n",
       "      <th>total_area</th>\n",
       "      <th>first_day_exposition</th>\n",
       "      <th>rooms</th>\n",
       "      <th>ceiling_height</th>\n",
       "      <th>floors_total</th>\n",
       "      <th>living_area</th>\n",
       "      <th>floor</th>\n",
       "      <th>is_apartment</th>\n",
       "      <th>...</th>\n",
       "      <th>ponds_nearest</th>\n",
       "      <th>days_exposition</th>\n",
       "      <th>price_for_square_meter</th>\n",
       "      <th>date</th>\n",
       "      <th>weekday</th>\n",
       "      <th>month</th>\n",
       "      <th>year</th>\n",
       "      <th>floor_type</th>\n",
       "      <th>living/total</th>\n",
       "      <th>kitchen/total</th>\n",
       "    </tr>\n",
       "  </thead>\n",
       "  <tbody>\n",
       "    <tr>\n",
       "      <th>0</th>\n",
       "      <td>20</td>\n",
       "      <td>13000000.0</td>\n",
       "      <td>108.0</td>\n",
       "      <td>2019-03-07T00:00:00</td>\n",
       "      <td>3</td>\n",
       "      <td>2.70</td>\n",
       "      <td>16.0</td>\n",
       "      <td>51.0</td>\n",
       "      <td>8</td>\n",
       "      <td>False</td>\n",
       "      <td>...</td>\n",
       "      <td>755.000000</td>\n",
       "      <td>NaN</td>\n",
       "      <td>120370.370370</td>\n",
       "      <td>2019-03-07</td>\n",
       "      <td>3</td>\n",
       "      <td>3</td>\n",
       "      <td>2019</td>\n",
       "      <td>другой</td>\n",
       "      <td>0.472222</td>\n",
       "      <td>0.231481</td>\n",
       "    </tr>\n",
       "    <tr>\n",
       "      <th>1</th>\n",
       "      <td>7</td>\n",
       "      <td>3350000.0</td>\n",
       "      <td>40.4</td>\n",
       "      <td>2018-12-04T00:00:00</td>\n",
       "      <td>1</td>\n",
       "      <td>NaN</td>\n",
       "      <td>11.0</td>\n",
       "      <td>18.6</td>\n",
       "      <td>1</td>\n",
       "      <td>False</td>\n",
       "      <td>...</td>\n",
       "      <td>573.217105</td>\n",
       "      <td>81.0</td>\n",
       "      <td>82920.792079</td>\n",
       "      <td>2018-12-04</td>\n",
       "      <td>1</td>\n",
       "      <td>12</td>\n",
       "      <td>2018</td>\n",
       "      <td>первый</td>\n",
       "      <td>0.460396</td>\n",
       "      <td>0.272277</td>\n",
       "    </tr>\n",
       "    <tr>\n",
       "      <th>2</th>\n",
       "      <td>10</td>\n",
       "      <td>5196000.0</td>\n",
       "      <td>56.0</td>\n",
       "      <td>2015-08-20T00:00:00</td>\n",
       "      <td>2</td>\n",
       "      <td>NaN</td>\n",
       "      <td>5.0</td>\n",
       "      <td>34.3</td>\n",
       "      <td>4</td>\n",
       "      <td>False</td>\n",
       "      <td>...</td>\n",
       "      <td>574.000000</td>\n",
       "      <td>558.0</td>\n",
       "      <td>92785.714286</td>\n",
       "      <td>2015-08-20</td>\n",
       "      <td>3</td>\n",
       "      <td>8</td>\n",
       "      <td>2015</td>\n",
       "      <td>другой</td>\n",
       "      <td>0.612500</td>\n",
       "      <td>0.148214</td>\n",
       "    </tr>\n",
       "    <tr>\n",
       "      <th>3</th>\n",
       "      <td>0</td>\n",
       "      <td>64900000.0</td>\n",
       "      <td>159.0</td>\n",
       "      <td>2015-07-24T00:00:00</td>\n",
       "      <td>3</td>\n",
       "      <td>NaN</td>\n",
       "      <td>14.0</td>\n",
       "      <td>NaN</td>\n",
       "      <td>9</td>\n",
       "      <td>False</td>\n",
       "      <td>...</td>\n",
       "      <td>234.000000</td>\n",
       "      <td>424.0</td>\n",
       "      <td>408176.100629</td>\n",
       "      <td>2015-07-24</td>\n",
       "      <td>4</td>\n",
       "      <td>7</td>\n",
       "      <td>2015</td>\n",
       "      <td>другой</td>\n",
       "      <td>NaN</td>\n",
       "      <td>NaN</td>\n",
       "    </tr>\n",
       "    <tr>\n",
       "      <th>4</th>\n",
       "      <td>2</td>\n",
       "      <td>10000000.0</td>\n",
       "      <td>100.0</td>\n",
       "      <td>2018-06-19T00:00:00</td>\n",
       "      <td>2</td>\n",
       "      <td>3.03</td>\n",
       "      <td>14.0</td>\n",
       "      <td>32.0</td>\n",
       "      <td>13</td>\n",
       "      <td>False</td>\n",
       "      <td>...</td>\n",
       "      <td>48.000000</td>\n",
       "      <td>121.0</td>\n",
       "      <td>100000.000000</td>\n",
       "      <td>2018-06-19</td>\n",
       "      <td>1</td>\n",
       "      <td>6</td>\n",
       "      <td>2018</td>\n",
       "      <td>другой</td>\n",
       "      <td>0.320000</td>\n",
       "      <td>0.410000</td>\n",
       "    </tr>\n",
       "  </tbody>\n",
       "</table>\n",
       "<p>5 rows × 30 columns</p>\n",
       "</div>"
      ],
      "text/plain": [
       "   total_images  last_price  total_area first_day_exposition  rooms  \\\n",
       "0            20  13000000.0       108.0  2019-03-07T00:00:00      3   \n",
       "1             7   3350000.0        40.4  2018-12-04T00:00:00      1   \n",
       "2            10   5196000.0        56.0  2015-08-20T00:00:00      2   \n",
       "3             0  64900000.0       159.0  2015-07-24T00:00:00      3   \n",
       "4             2  10000000.0       100.0  2018-06-19T00:00:00      2   \n",
       "\n",
       "   ceiling_height  floors_total  living_area  floor  is_apartment  ...  \\\n",
       "0            2.70          16.0         51.0      8         False  ...   \n",
       "1             NaN          11.0         18.6      1         False  ...   \n",
       "2             NaN           5.0         34.3      4         False  ...   \n",
       "3             NaN          14.0          NaN      9         False  ...   \n",
       "4            3.03          14.0         32.0     13         False  ...   \n",
       "\n",
       "   ponds_nearest  days_exposition  price_for_square_meter       date weekday  \\\n",
       "0     755.000000              NaN           120370.370370 2019-03-07       3   \n",
       "1     573.217105             81.0            82920.792079 2018-12-04       1   \n",
       "2     574.000000            558.0            92785.714286 2015-08-20       3   \n",
       "3     234.000000            424.0           408176.100629 2015-07-24       4   \n",
       "4      48.000000            121.0           100000.000000 2018-06-19       1   \n",
       "\n",
       "   month  year  floor_type  living/total  kitchen/total  \n",
       "0      3  2019      другой      0.472222       0.231481  \n",
       "1     12  2018      первый      0.460396       0.272277  \n",
       "2      8  2015      другой      0.612500       0.148214  \n",
       "3      7  2015      другой           NaN            NaN  \n",
       "4      6  2018      другой      0.320000       0.410000  \n",
       "\n",
       "[5 rows x 30 columns]"
      ]
     },
     "execution_count": 9,
     "metadata": {},
     "output_type": "execute_result"
    }
   ],
   "source": [
    "data['living/total'] = data['living_area'] / data['total_area']\n",
    "data['kitchen/total'] = data['kitchen_area'] / data['total_area']\n",
    "data.head()"
   ]
  },
  {
   "cell_type": "markdown",
   "metadata": {},
   "source": [
    "## Исследовательский анализ данных"
   ]
  },
  {
   "cell_type": "markdown",
   "metadata": {},
   "source": [
    "Изучим содержимое столбцов площади, цены, числа комнат и высоты потолков."
   ]
  },
  {
   "cell_type": "code",
   "execution_count": 10,
   "metadata": {},
   "outputs": [
    {
     "name": "stdout",
     "output_type": "stream",
     "text": [
      "[108.    40.4   56.   ...  66.86 133.81  76.75]\n",
      "[13000000.  3350000.  5196000. ...  6151120. 21400000. 11475000.]\n",
      "[ 3  1  2  4  5  6  0  7 11  8 14 10 15  9 19 16 12]\n"
     ]
    },
    {
     "data": {
      "text/plain": [
       "array([  2.7 ,    nan,   3.03,   2.5 ,   2.67,   2.56,   3.05,   2.75,\n",
       "         2.6 ,   2.9 ,   2.8 ,   2.55,   3.  ,   2.65,   3.2 ,   2.61,\n",
       "         3.25,   3.45,   2.77,   2.85,   2.64,   2.57,   4.15,   3.5 ,\n",
       "         3.3 ,   2.71,   4.  ,   2.47,   2.73,   2.84,   3.1 ,   2.34,\n",
       "         3.4 ,   3.06,   2.72,   2.54,   2.51,   2.78,   2.76,  25.  ,\n",
       "         2.58,   3.7 ,   2.52,   5.2 ,   2.87,   2.66,   2.59,   2.  ,\n",
       "         2.45,   3.6 ,   2.92,   3.11,   3.13,   3.8 ,   3.15,   3.55,\n",
       "         3.16,   3.62,   3.12,   2.53,   2.74,   2.96,   2.46,   5.3 ,\n",
       "         5.  ,   2.79,   2.95,   4.06,   2.94,   3.82,   3.54,   3.53,\n",
       "         2.83,   4.7 ,   2.4 ,   3.38,   3.01,   5.6 ,   3.65,   3.9 ,\n",
       "         3.18,   3.35,   2.3 ,   3.57,   2.48,   2.62,   2.82,   3.98,\n",
       "         2.63,   3.83,   3.52,   3.95,   3.75,   2.88,   3.67,   3.87,\n",
       "         3.66,   3.85,   3.86,   4.19,   3.24,   4.8 ,   4.5 ,   4.2 ,\n",
       "         3.36,  32.  ,   3.08,   3.68,   3.07,   3.37,   3.09,   8.  ,\n",
       "         3.26,   3.34,   2.81,   3.44,   2.97,   3.14,   4.37,   2.68,\n",
       "         3.22,   3.27,  27.  ,   4.1 ,   2.93,   3.46,  24.  ,   3.47,\n",
       "         3.33,   3.63,   3.32,  26.  ,   1.2 ,   8.3 ,   2.98,   2.86,\n",
       "         3.17,   4.4 ,   3.28,   3.04,   4.45,   5.5 ,   3.84,   3.23,\n",
       "         3.02,   3.21,   3.43,   3.78,   4.3 ,   3.39,   2.69,   3.31,\n",
       "         4.65,   3.56,   2.2 ,   3.51,   3.93,   3.42,   2.99,   3.49,\n",
       "        14.  ,   4.14,   2.91,   3.88,   1.75,   4.25,   3.29,  20.  ,\n",
       "         2.25,   3.76,   3.69,   6.  ,  22.6 ,   2.89,   3.58,   5.8 ,\n",
       "        27.5 ,   2.49,   4.9 ,   3.48,  10.3 ,   1.  , 100.  ,   3.59])"
      ]
     },
     "execution_count": 10,
     "metadata": {},
     "output_type": "execute_result"
    }
   ],
   "source": [
    "print(data['total_area'].unique())\n",
    "print(data['last_price'].unique())\n",
    "print(data['rooms'].unique())\n",
    "data['ceiling_height'].unique()"
   ]
  },
  {
   "cell_type": "markdown",
   "metadata": {},
   "source": [
    "В значениях высоты потолков есть аномально высокие значения."
   ]
  },
  {
   "cell_type": "markdown",
   "metadata": {},
   "source": [
    "Построим гистограммы для площади, цены, числа комнат и высоты потолков."
   ]
  },
  {
   "cell_type": "code",
   "execution_count": 11,
   "metadata": {
    "scrolled": true
   },
   "outputs": [
    {
     "data": {
      "text/plain": [
       "<AxesSubplot:>"
      ]
     },
     "execution_count": 11,
     "metadata": {},
     "output_type": "execute_result"
    },
    {
     "data": {
      "image/png": "[encoded data removed]",
      "text/plain": [
       "<Figure size 432x288 with 1 Axes>"
      ]
     },
     "metadata": {
      "needs_background": "light"
     },
     "output_type": "display_data"
    }
   ],
   "source": [
    "data['total_area'].hist(bins=100, range=(0, 400), grid=True)"
   ]
  },
  {
   "cell_type": "markdown",
   "metadata": {},
   "source": [
    "Откинем значения больше 200."
   ]
  },
  {
   "cell_type": "code",
   "execution_count": 12,
   "metadata": {},
   "outputs": [
    {
     "name": "stdout",
     "output_type": "stream",
     "text": [
      "0.009578463226296468\n"
     ]
    },
    {
     "data": {
      "text/plain": [
       "<AxesSubplot:>"
      ]
     },
     "execution_count": 12,
     "metadata": {},
     "output_type": "execute_result"
    },
    {
     "data": {
      "image/png": "[encoded data removed]",
      "text/plain": [
       "<Figure size 432x288 with 1 Axes>"
      ]
     },
     "metadata": {
      "needs_background": "light"
     },
     "output_type": "display_data"
    }
   ],
   "source": [
    "print(len(data.query('total_area > 200')['total_area']) / len(data['total_area']))\n",
    "data['total_area'] = data.query('total_area < 200')['total_area']\n",
    "data['total_area'].hist(bins=50, range=(0, 200), grid=True)"
   ]
  },
  {
   "cell_type": "code",
   "execution_count": 13,
   "metadata": {},
   "outputs": [
    {
     "data": {
      "text/plain": [
       "<AxesSubplot:>"
      ]
     },
     "execution_count": 13,
     "metadata": {},
     "output_type": "execute_result"
    },
    {
     "data": {
      "image/png": "[encoded data removed]",
      "text/plain": [
       "<Figure size 432x288 with 1 Axes>"
      ]
     },
     "metadata": {
      "needs_background": "light"
     },
     "output_type": "display_data"
    }
   ],
   "source": [
    "data['last_price'].hist(bins=100, range=(0, 70000000), grid=True)"
   ]
  },
  {
   "cell_type": "markdown",
   "metadata": {},
   "source": [
    "Откинем значения больше 20000000."
   ]
  },
  {
   "cell_type": "code",
   "execution_count": 14,
   "metadata": {},
   "outputs": [
    {
     "name": "stdout",
     "output_type": "stream",
     "text": [
      "0.02983248238322292\n"
     ]
    },
    {
     "data": {
      "image/png": "[encoded data removed]",
      "text/plain": [
       "<Figure size 432x288 with 1 Axes>"
      ]
     },
     "metadata": {
      "needs_background": "light"
     },
     "output_type": "display_data"
    }
   ],
   "source": [
    "print(len(data.query('last_price > 20000000')['last_price']) / len(data['last_price']))\n",
    "data['last_price'] = data.query('last_price < 20000000')['last_price']\n",
    "data['last_price'].hist(bins=40, range=(0, 20000000), grid=True);"
   ]
  },
  {
   "cell_type": "code",
   "execution_count": 15,
   "metadata": {},
   "outputs": [
    {
     "data": {
      "image/png": "[encoded data removed]",
      "text/plain": [
       "<Figure size 432x288 with 1 Axes>"
      ]
     },
     "metadata": {
      "needs_background": "light"
     },
     "output_type": "display_data"
    }
   ],
   "source": [
    "data['rooms'].hist(bins=10, range=(0, 10), grid=True);"
   ]
  },
  {
   "cell_type": "markdown",
   "metadata": {},
   "source": [
    "Откинем значения больше 6."
   ]
  },
  {
   "cell_type": "code",
   "execution_count": 16,
   "metadata": {},
   "outputs": [
    {
     "name": "stdout",
     "output_type": "stream",
     "text": [
      "0.00379762859192371\n"
     ]
    },
    {
     "data": {
      "text/plain": [
       "<AxesSubplot:>"
      ]
     },
     "execution_count": 16,
     "metadata": {},
     "output_type": "execute_result"
    },
    {
     "data": {
      "image/png": "[encoded data removed]",
      "text/plain": [
       "<Figure size 432x288 with 1 Axes>"
      ]
     },
     "metadata": {
      "needs_background": "light"
     },
     "output_type": "display_data"
    }
   ],
   "source": [
    "print(len(data.query('rooms > 6')['rooms']) / len(data['rooms']))\n",
    "data['rooms'] = data.query('rooms < 6')['rooms']\n",
    "data['rooms'].hist(bins=6, range=(0, 6), grid=True)"
   ]
  },
  {
   "cell_type": "code",
   "execution_count": 17,
   "metadata": {
    "scrolled": true
   },
   "outputs": [
    {
     "data": {
      "text/plain": [
       "<AxesSubplot:>"
      ]
     },
     "execution_count": 17,
     "metadata": {},
     "output_type": "execute_result"
    },
    {
     "data": {
      "image/png": "[encoded data removed]",
      "text/plain": [
       "<Figure size 432x288 with 1 Axes>"
      ]
     },
     "metadata": {
      "needs_background": "light"
     },
     "output_type": "display_data"
    }
   ],
   "source": [
    "data['ceiling_height'].hist(bins=50, range=(0, 50), grid=True)"
   ]
  },
  {
   "cell_type": "markdown",
   "metadata": {},
   "source": [
    "Откинем значения больше 8."
   ]
  },
  {
   "cell_type": "code",
   "execution_count": 18,
   "metadata": {
    "scrolled": true
   },
   "outputs": [
    {
     "name": "stdout",
     "output_type": "stream",
     "text": [
      "0.0010970927043335162\n"
     ]
    },
    {
     "data": {
      "text/plain": [
       "<AxesSubplot:>"
      ]
     },
     "execution_count": 18,
     "metadata": {},
     "output_type": "execute_result"
    },
    {
     "data": {
      "image/png": "[encoded data removed]",
      "text/plain": [
       "<Figure size 432x288 with 1 Axes>"
      ]
     },
     "metadata": {
      "needs_background": "light"
     },
     "output_type": "display_data"
    }
   ],
   "source": [
    "print(len(data.query('ceiling_height > 8')['ceiling_height']) / len(data['ceiling_height']))\n",
    "data['ceiling_height'] = data.query('ceiling_height < 8')['ceiling_height']\n",
    "data['ceiling_height'].hist(bins=20, range=(0, 8), grid=True)"
   ]
  },
  {
   "cell_type": "markdown",
   "metadata": {},
   "source": [
    "Построим гистограмму времени продажи квартиры, посчитаем среднее и медиану."
   ]
  },
  {
   "cell_type": "code",
   "execution_count": 19,
   "metadata": {},
   "outputs": [
    {
     "data": {
      "text/plain": [
       "<AxesSubplot:>"
      ]
     },
     "execution_count": 19,
     "metadata": {},
     "output_type": "execute_result"
    },
    {
     "data": {
      "image/png": "[encoded data removed]",
      "text/plain": [
       "<Figure size 432x288 with 1 Axes>"
      ]
     },
     "metadata": {
      "needs_background": "light"
     },
     "output_type": "display_data"
    }
   ],
   "source": [
    "data['days_exposition'].hist(bins=30, grid=True)"
   ]
  },
  {
   "cell_type": "code",
   "execution_count": 20,
   "metadata": {},
   "outputs": [
    {
     "data": {
      "text/plain": [
       "count    20518.000000\n",
       "mean       180.888634\n",
       "std        219.727988\n",
       "min          1.000000\n",
       "25%         45.000000\n",
       "50%         95.000000\n",
       "75%        232.000000\n",
       "max       1580.000000\n",
       "Name: days_exposition, dtype: float64"
      ]
     },
     "execution_count": 20,
     "metadata": {},
     "output_type": "execute_result"
    }
   ],
   "source": [
    "data['days_exposition'].describe()"
   ]
  },
  {
   "cell_type": "markdown",
   "metadata": {},
   "source": [
    "Обычно квартиру продают в течение 95 дней. При этом, если квартиру продали за 45 дней - это очень быстро, а дольше чем за 232 дня - очень медленно.\n",
    "Отбросим значения больше 800 и меньше 10."
   ]
  },
  {
   "cell_type": "code",
   "execution_count": 21,
   "metadata": {},
   "outputs": [
    {
     "name": "stdout",
     "output_type": "stream",
     "text": [
      "count    18667.000000\n",
      "mean       165.914662\n",
      "std        165.583409\n",
      "min         11.000000\n",
      "25%         45.000000\n",
      "50%        101.000000\n",
      "75%        225.000000\n",
      "max        799.000000\n",
      "Name: days_exposition, dtype: float64\n"
     ]
    }
   ],
   "source": [
    "print(data.query('days_exposition < 800 & days_exposition > 10')['days_exposition'].describe())"
   ]
  },
  {
   "cell_type": "markdown",
   "metadata": {},
   "source": [
    "Медиана почти не изменилась, а вот среднее уменьшилось на половину месяца."
   ]
  },
  {
   "cell_type": "markdown",
   "metadata": {},
   "source": [
    "Найдем связь между ценой квартиры и остальными данными."
   ]
  },
  {
   "cell_type": "code",
   "execution_count": 22,
   "metadata": {},
   "outputs": [
    {
     "name": "stdout",
     "output_type": "stream",
     "text": [
      "0.7740478124365512\n",
      "0.4910317744907301\n",
      "-0.3689657547549987\n"
     ]
    },
    {
     "data": {
      "image/png": "[encoded data removed]",
      "text/plain": [
       "<Figure size 432x288 with 1 Axes>"
      ]
     },
     "metadata": {
      "needs_background": "light"
     },
     "output_type": "display_data"
    },
    {
     "data": {
      "image/png": "[encoded data removed]",
      "text/plain": [
       "<Figure size 432x288 with 1 Axes>"
      ]
     },
     "metadata": {
      "needs_background": "light"
     },
     "output_type": "display_data"
    },
    {
     "data": {
      "image/png": "[encoded data removed]",
      "text/plain": [
       "<Figure size 432x288 with 1 Axes>"
      ]
     },
     "metadata": {
      "needs_background": "light"
     },
     "output_type": "display_data"
    },
    {
     "data": {
      "image/png": "[encoded data removed]",
      "text/plain": [
       "<Figure size 432x288 with 1 Axes>"
      ]
     },
     "metadata": {
      "needs_background": "light"
     },
     "output_type": "display_data"
    }
   ],
   "source": [
    "print(data['last_price'].corr(data['total_area']))\n",
    "print(data['last_price'].corr(data['rooms']))\n",
    "print(data['last_price'].corr(data['cityCenters_nearest']))\n",
    "data.groupby('floor_type')['last_price'].median().plot(x='floor_type', y='last_price', kind='bar')\n",
    "plt.show()\n",
    "data.groupby('weekday')['last_price'].median().plot(x='weekday', y='last_price', kind='bar')\n",
    "plt.show()\n",
    "data.groupby('month')['last_price'].median().plot(x='month', y='last_price', kind='bar')\n",
    "plt.show()\n",
    "data.groupby('year')['last_price'].median().plot(x='year', y='last_price', kind='bar')\n",
    "plt.show()"
   ]
  },
  {
   "cell_type": "markdown",
   "metadata": {},
   "source": [
    "Цена квартиры повышается с увеличением площади, уменьшением расстояния до центра и увеличением количества комнат. Причем увеличение площади влияет сильнее, чем расстояние до центра, которое в свою очередь влияет сильнее, чем количество комнат.\n",
    "Цена квартир на первом этаже является наименьшей, при этом квартиры на \"других\" этажах в среднем дороже. Но при этом зависимотси роста/падения цены от роста этажа практически не наблюдается.\n",
    "День недели, месяц и год продажи почти никак не влияют на цену квартиры. Единственное - в 2014 году квартиры в среднем были самыми дорогими."
   ]
  },
  {
   "cell_type": "markdown",
   "metadata": {},
   "source": [
    "Найдем самые \"популярные\" населенные пункты и посчитаем среднюю цену кв. м для каждого."
   ]
  },
  {
   "cell_type": "code",
   "execution_count": 23,
   "metadata": {
    "scrolled": true
   },
   "outputs": [
    {
     "data": {
      "text/plain": [
       "locality_name\n",
       "Санкт-Петербург      15721\n",
       "поселок Мурино         556\n",
       "поселок Шушары         440\n",
       "Всеволожск             398\n",
       "Пушкин                 369\n",
       "Колпино                338\n",
       "поселок Парголово      327\n",
       "Гатчина                307\n",
       "деревня Кудрово        299\n",
       "Выборг                 237\n",
       "Name: total_images, dtype: int64"
      ]
     },
     "execution_count": 23,
     "metadata": {},
     "output_type": "execute_result"
    }
   ],
   "source": [
    "data.groupby('locality_name')['total_images'].count().sort_values(ascending=False).head(10)"
   ]
  },
  {
   "cell_type": "code",
   "execution_count": 24,
   "metadata": {},
   "outputs": [
    {
     "name": "stdout",
     "output_type": "stream",
     "text": [
      "Санкт-Петербург : 114849.00879387381\n",
      "поселок Мурино : 85681.76260114639\n",
      "поселок Шушары : 78677.3642167513\n",
      "Всеволожск : 68654.4739860316\n",
      "Пушкин : 103125.81929072196\n",
      "Колпино : 75424.57909803945\n",
      "поселок Парголово : 90175.91345801107\n",
      "Гатчина : 68746.14676333922\n",
      "деревня Кудрово : 92473.54757579972\n",
      "Выборг : 58141.90915331862\n"
     ]
    }
   ],
   "source": [
    "for i in ['Санкт-Петербург', 'поселок Мурино', 'поселок Шушары',\n",
    "          'Всеволожск', 'Пушкин', 'Колпино', 'поселок Парголово', 'Гатчина',\n",
    "         'деревня Кудрово', 'Выборг']:\n",
    "    print(i,':',data.query('locality_name == @i')['price_for_square_meter'].mean())"
   ]
  },
  {
   "cell_type": "markdown",
   "metadata": {},
   "source": [
    "Самые дорогие квартиры в Санкт-Петербурге и Пушкине, самые дешевые в Всеволжске, Гатчине и Выборге."
   ]
  },
  {
   "cell_type": "markdown",
   "metadata": {},
   "source": [
    "Найдем квартиры в центре Санкт-Петербурга."
   ]
  },
  {
   "cell_type": "code",
   "execution_count": 25,
   "metadata": {
    "scrolled": true
   },
   "outputs": [
    {
     "name": "stdout",
     "output_type": "stream",
     "text": [
      "centre_km\n",
      "0.0    5.288148e+06\n",
      "1.0    8.319687e+06\n",
      "2.0    8.197068e+06\n",
      "3.0    8.350673e+06\n",
      "4.0    8.330163e+06\n",
      "dtype: float64\n"
     ]
    },
    {
     "data": {
      "image/png": "[encoded data removed]",
      "text/plain": [
       "<Figure size 432x288 with 1 Axes>"
      ]
     },
     "metadata": {
      "needs_background": "light"
     },
     "output_type": "display_data"
    }
   ],
   "source": [
    "data['centre_km'] = (data[data['locality_name'] == 'Санкт-Петербург']['cityCenters_nearest'] / 1000).round()\n",
    "temp = data[data['locality_name'] == 'Санкт-Петербург'].groupby('centre_km')['last_price'].sum() / data[data['locality_name'] == 'Санкт-Петербург'].groupby('centre_km')['centre_km'].count()\n",
    "print(temp.head()) #нашли суммы цен для каждого километра Петербурга и количество квартир на каждый километр и поделили\n",
    "temp.plot(grid=True);\n",
    "\n",
    "\n"
   ]
  },
  {
   "cell_type": "markdown",
   "metadata": {},
   "source": [
    "Судя по всему, центром считается расстояние до 5 км."
   ]
  },
  {
   "cell_type": "markdown",
   "metadata": {},
   "source": [
    "Найдем различие между квартирами в центре и общим набором квартир."
   ]
  },
  {
   "cell_type": "code",
   "execution_count": 26,
   "metadata": {
    "scrolled": true
   },
   "outputs": [
    {
     "data": {
      "image/png": "[encoded data removed]",
      "text/plain": [
       "<Figure size 432x288 with 1 Axes>"
      ]
     },
     "metadata": {
      "needs_background": "light"
     },
     "output_type": "display_data"
    }
   ],
   "source": [
    "data.query('centre_km < 5')['last_price'].hist(bins=20, grid=True);"
   ]
  },
  {
   "cell_type": "code",
   "execution_count": 27,
   "metadata": {},
   "outputs": [
    {
     "data": {
      "text/plain": [
       "0.4676073266710353"
      ]
     },
     "execution_count": 27,
     "metadata": {},
     "output_type": "execute_result"
    },
    {
     "data": {
      "image/png": "[encoded data removed]",
      "text/plain": [
       "<Figure size 432x288 with 1 Axes>"
      ]
     },
     "metadata": {
      "needs_background": "light"
     },
     "output_type": "display_data"
    }
   ],
   "source": [
    "data.query('centre_km < 5')['rooms'].hist(bins=5, grid=True)\n",
    "data.query('centre_km < 5')['rooms'].corr(data.query('centre_km < 5')['last_price'])"
   ]
  },
  {
   "cell_type": "code",
   "execution_count": 28,
   "metadata": {},
   "outputs": [
    {
     "data": {
      "text/plain": [
       "0.6945770293019694"
      ]
     },
     "execution_count": 28,
     "metadata": {},
     "output_type": "execute_result"
    },
    {
     "data": {
      "image/png": "[encoded data removed]",
      "text/plain": [
       "<Figure size 432x288 with 1 Axes>"
      ]
     },
     "metadata": {
      "needs_background": "light"
     },
     "output_type": "display_data"
    }
   ],
   "source": [
    "data.query('centre_km < 5')['total_area'].hist(bins=20, grid=True)\n",
    "data.query('centre_km < 5')['total_area'].corr(data.query('centre_km < 5')['last_price'])"
   ]
  },
  {
   "cell_type": "code",
   "execution_count": 29,
   "metadata": {
    "scrolled": true
   },
   "outputs": [
    {
     "data": {
      "image/png": "[encoded data removed]",
      "text/plain": [
       "<Figure size 432x288 with 1 Axes>"
      ]
     },
     "metadata": {
      "needs_background": "light"
     },
     "output_type": "display_data"
    }
   ],
   "source": [
    "data.query('centre_km < 5')['ceiling_height'].hist(bins=20, grid=True);"
   ]
  },
  {
   "cell_type": "code",
   "execution_count": 30,
   "metadata": {},
   "outputs": [
    {
     "name": "stdout",
     "output_type": "stream",
     "text": [
      "-0.08175428076649627\n",
      "0.11630081086459002\n"
     ]
    },
    {
     "data": {
      "image/png": "[encoded data removed]",
      "text/plain": [
       "<Figure size 432x288 with 1 Axes>"
      ]
     },
     "metadata": {
      "needs_background": "light"
     },
     "output_type": "display_data"
    },
    {
     "data": {
      "image/png": "[encoded data removed]",
      "text/plain": [
       "<Figure size 432x288 with 1 Axes>"
      ]
     },
     "metadata": {
      "needs_background": "light"
     },
     "output_type": "display_data"
    },
    {
     "data": {
      "image/png": "[encoded data removed]",
      "text/plain": [
       "<Figure size 432x288 with 1 Axes>"
      ]
     },
     "metadata": {
      "needs_background": "light"
     },
     "output_type": "display_data"
    },
    {
     "data": {
      "image/png": "[encoded data removed]",
      "text/plain": [
       "<Figure size 432x288 with 1 Axes>"
      ]
     },
     "metadata": {
      "needs_background": "light"
     },
     "output_type": "display_data"
    }
   ],
   "source": [
    "print(data.query('centre_km < 5')['cityCenters_nearest'].corr(data.query('centre_km < 5')['last_price']))\n",
    "print(data.query('centre_km < 5')['floor'].corr(data.query('centre_km < 5')['last_price']))\n",
    "data.query('centre_km < 5').groupby('floor_type')['last_price'].median().plot(x='floor_type', y='last_price', kind='bar')\n",
    "plt.show()\n",
    "data.query('centre_km < 5').groupby('weekday')['last_price'].median().plot(x='weekday', y='last_price', kind='bar')\n",
    "plt.show()\n",
    "data.query('centre_km < 5').groupby('month')['last_price'].median().plot(x='month', y='last_price', kind='bar')\n",
    "plt.show()\n",
    "data.query('centre_km < 5').groupby('year')['last_price'].median().plot(x='year', y='last_price', kind='bar')\n",
    "plt.show()"
   ]
  },
  {
   "cell_type": "markdown",
   "metadata": {},
   "source": [
    "Сравним количество комнат, цену, площадь и высоту потолков для квартир в центре и по всему набору данных."
   ]
  },
  {
   "cell_type": "code",
   "execution_count": 31,
   "metadata": {},
   "outputs": [
    {
     "data": {
      "image/png": "[encoded data removed]",
      "text/plain": [
       "<Figure size 432x288 with 1 Axes>"
      ]
     },
     "metadata": {
      "needs_background": "light"
     },
     "output_type": "display_data"
    },
    {
     "name": "stdout",
     "output_type": "stream",
     "text": [
      "2.0\n",
      "3.0\n"
     ]
    }
   ],
   "source": [
    "data['rooms'].plot(kind='hist', bins=20, grid=True); #комнаты\n",
    "data.query('centre_km < 5')['rooms'].plot(kind='hist', bins=20, grid=True);\n",
    "plt.show()\n",
    "print(data['rooms'].median())\n",
    "print(data.query('centre_km < 5')['rooms'].median())"
   ]
  },
  {
   "cell_type": "markdown",
   "metadata": {},
   "source": [
    "Квартиры в центре в основном имеют 2-3 комнаты, когда в то же время в датасете преобладают квартиры с 1-2 комнатами."
   ]
  },
  {
   "cell_type": "code",
   "execution_count": 32,
   "metadata": {},
   "outputs": [
    {
     "data": {
      "image/png": "[encoded data removed]",
      "text/plain": [
       "<Figure size 432x288 with 1 Axes>"
      ]
     },
     "metadata": {
      "needs_background": "light"
     },
     "output_type": "display_data"
    },
    {
     "name": "stdout",
     "output_type": "stream",
     "text": [
      "4550000.0\n",
      "8750000.0\n"
     ]
    }
   ],
   "source": [
    "data['last_price'].plot(kind='hist', bins=20, grid=True); #цена\n",
    "data.query('centre_km < 5')['last_price'].plot(kind='hist', bins=20, grid=True);\n",
    "plt.show()\n",
    "print(data['last_price'].median())\n",
    "print(data.query('centre_km < 5')['last_price'].median())"
   ]
  },
  {
   "cell_type": "markdown",
   "metadata": {},
   "source": [
    "Квартиры в центре в среднем дороже на 4 млн. "
   ]
  },
  {
   "cell_type": "code",
   "execution_count": 33,
   "metadata": {},
   "outputs": [
    {
     "data": {
      "image/png": "[encoded data removed]",
      "text/plain": [
       "<Figure size 432x288 with 1 Axes>"
      ]
     },
     "metadata": {
      "needs_background": "light"
     },
     "output_type": "display_data"
    },
    {
     "name": "stdout",
     "output_type": "stream",
     "text": [
      "51.9\n",
      "80.9\n"
     ]
    }
   ],
   "source": [
    "data['total_area'].plot(kind='hist', bins=20, grid=True); #площадь\n",
    "data.query('centre_km < 5')['total_area'].plot(kind='hist', bins=20, grid=True);\n",
    "plt.show()\n",
    "print(data['total_area'].median())\n",
    "print(data.query('centre_km < 5')['total_area'].median())"
   ]
  },
  {
   "cell_type": "markdown",
   "metadata": {},
   "source": [
    "Квартиры в центре в среднем имеют больше площадь на 30 кв.м."
   ]
  },
  {
   "cell_type": "code",
   "execution_count": 34,
   "metadata": {},
   "outputs": [
    {
     "data": {
      "image/png": "[encoded data removed]",
      "text/plain": [
       "<Figure size 432x288 with 1 Axes>"
      ]
     },
     "metadata": {
      "needs_background": "light"
     },
     "output_type": "display_data"
    },
    {
     "name": "stdout",
     "output_type": "stream",
     "text": [
      "2.65\n",
      "3.105\n"
     ]
    }
   ],
   "source": [
    "data['ceiling_height'].plot(kind='hist', bins=20, grid=True); #площадь\n",
    "data.query('centre_km < 5')['ceiling_height'].plot(kind='hist', bins=20, grid=True);\n",
    "plt.show()\n",
    "print(data['ceiling_height'].median())\n",
    "print(data.query('centre_km < 5')['ceiling_height'].median())"
   ]
  },
  {
   "cell_type": "markdown",
   "metadata": {},
   "source": [
    "Квартиры в центре в среднем имеют выше потолки на 0,5 м."
   ]
  },
  {
   "cell_type": "markdown",
   "metadata": {},
   "source": [
    "Квартиры в центре Петербурга точно так же, как и все квартиры зависят от площади и количества комнат. При этом цена квартир растет с ростом этих параметров. Но при этом цена центральных квартир не зависит от близости к центру города. Квартиры на \"других\" этажах, а также на последнем этаже чаще имеют большую цену, чем квартиры на первом. Зависимости от даты продажи не наблюдаю."
   ]
  },
  {
   "cell_type": "markdown",
   "metadata": {},
   "source": [
    "## Общий вывод"
   ]
  },
  {
   "cell_type": "markdown",
   "metadata": {},
   "source": [
    "В данном проекте были изучены проданные за несколько лет квартиры в Санкт-Петербурге и близлежащих к нему районах. Были найдены основные факторы, влияющие на цену квартиры, как в целом для набора данных, так и в частности для центра Санкт-Петербурга. Также было определено среднее время продажи квартиры и построены гистограммы для каждого основного фактора, определяющего квартиру.\n",
    "Основными факторами влияющими на цену квартиры являются: площадь (корреляция 0,77), количество комнат (корреляция 0,49) и расстояние до центра близлежащего населенного пункта (корреляция -0,37), причем для первых двух пунктов цена растет прямо пропорционально, для последнего характерна обратная зависимость."
   ]
  },
  {
   "cell_type": "markdown",
   "metadata": {
    "tags": []
   },
   "source": [
    "## Чек-лист готовности проекта\n",
    "\n",
    "Поставьте 'x' в выполненных пунктах. Далее нажмите Shift+Enter."
   ]
  },
  {
   "cell_type": "markdown",
   "metadata": {},
   "source": [
    "- [x]  открыт файл\n",
    "- [x]  файлы изучены (выведены первые строки, метод `info()`)\n",
    "- [x]  определены пропущенные значения\n",
    "- [x]  заполнены пропущенные значения\n",
    "- [x]  есть пояснение, какие пропущенные значения обнаружены\n",
    "- [x]  изменены типы данных\n",
    "- [x]  есть пояснение, в каких столбцах изменены типы и почему\n",
    "- [x]  посчитано и добавлено в таблицу: цена квадратного метра\n",
    "- [x]  посчитано и добавлено в таблицу: день недели, месяц и год публикации объявления\n",
    "- [x]  посчитано и добавлено в таблицу: этаж квартиры; варианты — первый, последний, другой\n",
    "- [x]  посчитано и добавлено в таблицу: соотношение жилой и общей площади, а также отношение площади кухни к общей\n",
    "- [x]  изучены следующие параметры: площадь, цена, число комнат, высота потолков\n",
    "- [x]  построены гистограммы для каждого параметра\n",
    "- [x]  выполнено задание: «Изучите время продажи квартиры. Постройте гистограмму. Посчитайте среднее и медиану. Опишите, сколько обычно занимает продажа. Когда можно считать, что продажи прошли очень быстро, а когда необычно долго?»\n",
    "- [x]  выполнено задание: «Уберите редкие и выбивающиеся значения. Опишите, какие особенности обнаружили».\n",
    "- [x]  выполнено задание: «Какие факторы больше всего влияют на стоимость квартиры? Изучите, зависит ли цена от квадратного метра, числа комнат, этажа (первого или последнего), удалённости от центра. Также изучите зависимость от даты размещения: дня недели, месяца и года». \n",
    "- [x]  выполнено задание: «Выберите 10 населённых пунктов с наибольшим числом объявлений. Посчитайте среднюю цену квадратного метра в этих населённых пунктах. Выделите населённые пункты с самой высокой и низкой стоимостью жилья. Эти данные можно найти по имени в столбце `locality_name`».\n",
    "- [x]  выполнено задание: «Изучите предложения квартир: для каждой квартиры есть информация о расстоянии до центра. Выделите квартиры в Санкт-Петербурге (`locality_name`). Ваша задача — выяснить, какая область входит в центр. Создайте столбец с расстоянием до центра в километрах: округлите до целых значений. После этого посчитайте среднюю цену для каждого километра. Постройте график: он должен показывать, как цена зависит от удалённости от центра. Определите границу, где график сильно меняется — это и будет центральная зона».\n",
    "- [x]  выполнено задание: «Выделите сегмент квартир в центре. Проанализируйте эту территорию и изучите следующие параметры: площадь, цена, число комнат, высота потолков. Также выделите факторы, которые влияют на стоимость квартиры (число комнат, этаж, удалённость от центра, дата размещения объявления). Сделайте выводы. Отличаются ли они от общих выводов по всей базе?»\n",
    "- [x]  в каждом этапе есть выводы\n",
    "- [x]  есть общий вывод"
   ]
  }
 ],
 "metadata": {
  "ExecuteTimeLog": [
   {
    "duration": 581,
    "start_time": "2022-06-12T10:35:51.471Z"
   },
   {
    "duration": 121,
    "start_time": "2022-06-12T10:36:12.812Z"
   },
   {
    "duration": 114,
    "start_time": "2022-06-12T10:38:31.900Z"
   },
   {
    "duration": 116,
    "start_time": "2022-06-12T10:48:58.556Z"
   },
   {
    "duration": 114,
    "start_time": "2022-06-12T10:49:15.882Z"
   },
   {
    "duration": 456,
    "start_time": "2022-06-12T10:50:07.745Z"
   },
   {
    "duration": 427,
    "start_time": "2022-06-12T10:50:24.977Z"
   },
   {
    "duration": 9,
    "start_time": "2022-06-12T10:50:36.281Z"
   },
   {
    "duration": 17,
    "start_time": "2022-06-12T10:51:15.465Z"
   },
   {
    "duration": 14,
    "start_time": "2022-06-12T10:51:23.081Z"
   },
   {
    "duration": 15,
    "start_time": "2022-06-12T10:51:29.353Z"
   },
   {
    "duration": 15,
    "start_time": "2022-06-12T10:51:35.849Z"
   },
   {
    "duration": 17,
    "start_time": "2022-06-12T10:52:06.449Z"
   },
   {
    "duration": 12,
    "start_time": "2022-06-12T10:52:14.337Z"
   },
   {
    "duration": 18,
    "start_time": "2022-06-12T10:52:38.432Z"
   },
   {
    "duration": 15,
    "start_time": "2022-06-12T10:52:50.465Z"
   },
   {
    "duration": 14,
    "start_time": "2022-06-12T10:53:50.544Z"
   },
   {
    "duration": 18,
    "start_time": "2022-06-12T10:53:58.848Z"
   },
   {
    "duration": 12,
    "start_time": "2022-06-12T10:57:37.231Z"
   },
   {
    "duration": 5,
    "start_time": "2022-06-12T10:59:02.967Z"
   },
   {
    "duration": 129,
    "start_time": "2022-06-12T10:59:08.663Z"
   },
   {
    "duration": 7,
    "start_time": "2022-06-12T10:59:30.606Z"
   },
   {
    "duration": 7,
    "start_time": "2022-06-12T10:59:43.950Z"
   },
   {
    "duration": 7,
    "start_time": "2022-06-12T10:59:47.150Z"
   },
   {
    "duration": 7,
    "start_time": "2022-06-12T10:59:49.726Z"
   },
   {
    "duration": 25,
    "start_time": "2022-06-12T10:59:52.798Z"
   },
   {
    "duration": 7,
    "start_time": "2022-06-12T10:59:54.934Z"
   },
   {
    "duration": 8,
    "start_time": "2022-06-12T11:00:03.222Z"
   },
   {
    "duration": 6,
    "start_time": "2022-06-12T11:00:05.415Z"
   },
   {
    "duration": 7,
    "start_time": "2022-06-12T11:02:06.461Z"
   },
   {
    "duration": 11,
    "start_time": "2022-06-12T11:02:31.399Z"
   },
   {
    "duration": 5,
    "start_time": "2022-06-12T11:02:47.293Z"
   },
   {
    "duration": 15,
    "start_time": "2022-06-12T11:04:02.133Z"
   },
   {
    "duration": 31,
    "start_time": "2022-06-12T11:04:19.093Z"
   },
   {
    "duration": 13,
    "start_time": "2022-06-12T11:06:34.732Z"
   },
   {
    "duration": 114,
    "start_time": "2022-06-12T11:06:37.549Z"
   },
   {
    "duration": 16,
    "start_time": "2022-06-12T11:06:39.580Z"
   },
   {
    "duration": 12,
    "start_time": "2022-06-12T11:06:49.037Z"
   },
   {
    "duration": 121,
    "start_time": "2022-06-12T11:08:42.444Z"
   },
   {
    "duration": 109,
    "start_time": "2022-06-12T11:09:02.550Z"
   },
   {
    "duration": 112,
    "start_time": "2022-06-12T11:09:18.588Z"
   },
   {
    "duration": 105,
    "start_time": "2022-06-12T11:09:24.844Z"
   },
   {
    "duration": 17,
    "start_time": "2022-06-12T11:09:46.572Z"
   },
   {
    "duration": 10,
    "start_time": "2022-06-12T11:10:31.643Z"
   },
   {
    "duration": 9,
    "start_time": "2022-06-12T11:10:58.659Z"
   },
   {
    "duration": 9,
    "start_time": "2022-06-12T11:11:03.571Z"
   },
   {
    "duration": 10,
    "start_time": "2022-06-12T11:11:21.091Z"
   },
   {
    "duration": 10,
    "start_time": "2022-06-12T11:11:26.194Z"
   },
   {
    "duration": 27,
    "start_time": "2022-06-12T11:11:43.179Z"
   },
   {
    "duration": 14,
    "start_time": "2022-06-12T11:11:54.938Z"
   },
   {
    "duration": 12,
    "start_time": "2022-06-12T11:12:28.610Z"
   },
   {
    "duration": 24,
    "start_time": "2022-06-12T11:13:15.458Z"
   },
   {
    "duration": 13,
    "start_time": "2022-06-12T11:13:21.074Z"
   },
   {
    "duration": 10,
    "start_time": "2022-06-12T11:13:25.545Z"
   },
   {
    "duration": 13,
    "start_time": "2022-06-12T11:13:38.194Z"
   },
   {
    "duration": 30,
    "start_time": "2022-06-12T11:17:18.362Z"
   },
   {
    "duration": 42,
    "start_time": "2022-06-12T11:32:25.294Z"
   },
   {
    "duration": 21,
    "start_time": "2022-06-12T11:32:54.806Z"
   },
   {
    "duration": 23,
    "start_time": "2022-06-12T11:33:14.404Z"
   },
   {
    "duration": 120,
    "start_time": "2022-06-12T11:37:18.606Z"
   },
   {
    "duration": 114,
    "start_time": "2022-06-12T11:37:34.853Z"
   },
   {
    "duration": 111,
    "start_time": "2022-06-12T11:43:42.323Z"
   },
   {
    "duration": 36,
    "start_time": "2022-06-12T11:43:48.997Z"
   },
   {
    "duration": 4,
    "start_time": "2022-06-12T11:52:41.402Z"
   },
   {
    "duration": 10,
    "start_time": "2022-06-12T11:52:57.506Z"
   },
   {
    "duration": 8,
    "start_time": "2022-06-12T11:53:05.201Z"
   },
   {
    "duration": 10,
    "start_time": "2022-06-12T11:53:45.090Z"
   },
   {
    "duration": 9,
    "start_time": "2022-06-12T11:55:00.226Z"
   },
   {
    "duration": 9,
    "start_time": "2022-06-12T11:56:17.969Z"
   },
   {
    "duration": 8,
    "start_time": "2022-06-12T11:57:49.680Z"
   },
   {
    "duration": 8,
    "start_time": "2022-06-12T11:57:55.616Z"
   },
   {
    "duration": 20,
    "start_time": "2022-06-12T11:58:56.704Z"
   },
   {
    "duration": 16,
    "start_time": "2022-06-12T11:59:53.120Z"
   },
   {
    "duration": 15,
    "start_time": "2022-06-12T12:01:01.152Z"
   },
   {
    "duration": 120,
    "start_time": "2022-06-12T12:01:05.504Z"
   },
   {
    "duration": 39,
    "start_time": "2022-06-12T12:01:07.200Z"
   },
   {
    "duration": 15,
    "start_time": "2022-06-12T12:01:09.359Z"
   },
   {
    "duration": 7,
    "start_time": "2022-06-12T12:52:19.865Z"
   },
   {
    "duration": 7,
    "start_time": "2022-06-12T12:52:24.722Z"
   },
   {
    "duration": 7,
    "start_time": "2022-06-12T12:52:36.322Z"
   },
   {
    "duration": 7,
    "start_time": "2022-06-12T12:52:38.561Z"
   },
   {
    "duration": 7,
    "start_time": "2022-06-12T12:52:56.042Z"
   },
   {
    "duration": 8,
    "start_time": "2022-06-12T12:53:10.017Z"
   },
   {
    "duration": 8,
    "start_time": "2022-06-12T12:53:14.049Z"
   },
   {
    "duration": 108,
    "start_time": "2022-06-12T12:54:13.057Z"
   },
   {
    "duration": 34,
    "start_time": "2022-06-12T12:54:14.961Z"
   },
   {
    "duration": 12,
    "start_time": "2022-06-12T12:54:15.889Z"
   },
   {
    "duration": 7,
    "start_time": "2022-06-12T12:54:16.721Z"
   },
   {
    "duration": 8,
    "start_time": "2022-06-12T12:54:54.353Z"
   },
   {
    "duration": 7,
    "start_time": "2022-06-12T12:55:34.121Z"
   },
   {
    "duration": 19,
    "start_time": "2022-06-12T12:55:40.625Z"
   },
   {
    "duration": 37,
    "start_time": "2022-06-12T13:07:18.728Z"
   },
   {
    "duration": 14,
    "start_time": "2022-06-12T13:07:28.997Z"
   },
   {
    "duration": 7298,
    "start_time": "2022-06-12T13:07:39.318Z"
   },
   {
    "duration": 124,
    "start_time": "2022-06-12T13:08:30.878Z"
   },
   {
    "duration": 60,
    "start_time": "2022-06-12T13:08:31.004Z"
   },
   {
    "duration": 13,
    "start_time": "2022-06-12T13:08:31.066Z"
   },
   {
    "duration": 7646,
    "start_time": "2022-06-12T13:08:46.513Z"
   },
   {
    "duration": 51,
    "start_time": "2022-06-12T13:08:54.287Z"
   },
   {
    "duration": 103,
    "start_time": "2022-06-12T13:08:54.341Z"
   },
   {
    "duration": 114,
    "start_time": "2022-06-12T13:08:57.375Z"
   },
   {
    "duration": 39,
    "start_time": "2022-06-12T13:09:00.751Z"
   },
   {
    "duration": 21,
    "start_time": "2022-06-12T13:09:03.031Z"
   },
   {
    "duration": 8059,
    "start_time": "2022-06-12T13:09:05.015Z"
   },
   {
    "duration": 120,
    "start_time": "2022-06-12T13:10:22.197Z"
   },
   {
    "duration": 36,
    "start_time": "2022-06-12T13:10:23.246Z"
   },
   {
    "duration": 15,
    "start_time": "2022-06-12T13:10:24.677Z"
   },
   {
    "duration": 5159,
    "start_time": "2022-06-12T13:10:25.863Z"
   },
   {
    "duration": 127,
    "start_time": "2022-06-12T13:11:10.008Z"
   },
   {
    "duration": 38,
    "start_time": "2022-06-12T13:11:11.189Z"
   },
   {
    "duration": 13,
    "start_time": "2022-06-12T13:11:11.965Z"
   },
   {
    "duration": 34,
    "start_time": "2022-06-12T13:11:14.214Z"
   },
   {
    "duration": 30,
    "start_time": "2022-06-12T13:11:17.317Z"
   },
   {
    "duration": 4844,
    "start_time": "2022-06-12T13:11:20.117Z"
   },
   {
    "duration": 120,
    "start_time": "2022-06-12T13:11:40.813Z"
   },
   {
    "duration": 40,
    "start_time": "2022-06-12T13:11:41.838Z"
   },
   {
    "duration": 14,
    "start_time": "2022-06-12T13:11:42.149Z"
   },
   {
    "duration": 5209,
    "start_time": "2022-06-12T13:11:43.436Z"
   },
   {
    "duration": 4982,
    "start_time": "2022-06-12T13:13:54.140Z"
   },
   {
    "duration": 132,
    "start_time": "2022-06-12T13:14:14.133Z"
   },
   {
    "duration": 38,
    "start_time": "2022-06-12T13:14:14.860Z"
   },
   {
    "duration": 12,
    "start_time": "2022-06-12T13:14:15.652Z"
   },
   {
    "duration": 5143,
    "start_time": "2022-06-12T13:14:16.587Z"
   },
   {
    "duration": 4601,
    "start_time": "2022-06-12T13:16:04.028Z"
   },
   {
    "duration": 111,
    "start_time": "2022-06-12T13:16:23.429Z"
   },
   {
    "duration": 35,
    "start_time": "2022-06-12T13:16:24.203Z"
   },
   {
    "duration": 12,
    "start_time": "2022-06-12T13:16:24.779Z"
   },
   {
    "duration": 4611,
    "start_time": "2022-06-12T13:16:25.523Z"
   },
   {
    "duration": 115,
    "start_time": "2022-06-12T13:17:16.204Z"
   },
   {
    "duration": 34,
    "start_time": "2022-06-12T13:17:16.946Z"
   },
   {
    "duration": 14,
    "start_time": "2022-06-12T13:17:17.227Z"
   },
   {
    "duration": 4614,
    "start_time": "2022-06-12T13:17:18.075Z"
   },
   {
    "duration": 115,
    "start_time": "2022-06-12T13:17:56.172Z"
   },
   {
    "duration": 37,
    "start_time": "2022-06-12T13:17:56.875Z"
   },
   {
    "duration": 12,
    "start_time": "2022-06-12T13:17:57.507Z"
   },
   {
    "duration": 4607,
    "start_time": "2022-06-12T13:17:58.642Z"
   },
   {
    "duration": 7109,
    "start_time": "2022-06-12T13:19:14.794Z"
   },
   {
    "duration": 109,
    "start_time": "2022-06-12T13:19:29.485Z"
   },
   {
    "duration": 36,
    "start_time": "2022-06-12T13:19:30.250Z"
   },
   {
    "duration": 14,
    "start_time": "2022-06-12T13:19:30.827Z"
   },
   {
    "duration": 7538,
    "start_time": "2022-06-12T13:19:31.842Z"
   },
   {
    "duration": 6757,
    "start_time": "2022-06-12T13:20:36.499Z"
   },
   {
    "duration": 109,
    "start_time": "2022-06-12T13:20:45.931Z"
   },
   {
    "duration": 40,
    "start_time": "2022-06-12T13:20:46.699Z"
   },
   {
    "duration": 13,
    "start_time": "2022-06-12T13:20:47.002Z"
   },
   {
    "duration": 6898,
    "start_time": "2022-06-12T13:20:47.874Z"
   },
   {
    "duration": 143,
    "start_time": "2022-06-12T13:22:46.435Z"
   },
   {
    "duration": 34,
    "start_time": "2022-06-12T13:22:47.217Z"
   },
   {
    "duration": 13,
    "start_time": "2022-06-12T13:22:47.841Z"
   },
   {
    "duration": 7006,
    "start_time": "2022-06-12T13:22:48.786Z"
   },
   {
    "duration": 7208,
    "start_time": "2022-06-12T13:24:06.244Z"
   },
   {
    "duration": 6821,
    "start_time": "2022-06-12T13:24:26.481Z"
   },
   {
    "duration": 114,
    "start_time": "2022-06-12T13:24:45.259Z"
   },
   {
    "duration": 34,
    "start_time": "2022-06-12T13:24:46.001Z"
   },
   {
    "duration": 13,
    "start_time": "2022-06-12T13:24:46.289Z"
   },
   {
    "duration": 6887,
    "start_time": "2022-06-12T13:24:47.185Z"
   },
   {
    "duration": 128,
    "start_time": "2022-06-12T13:25:33.929Z"
   },
   {
    "duration": 64,
    "start_time": "2022-06-12T13:25:34.658Z"
   },
   {
    "duration": 14,
    "start_time": "2022-06-12T13:25:34.944Z"
   },
   {
    "duration": 7309,
    "start_time": "2022-06-12T13:25:35.561Z"
   },
   {
    "duration": 23,
    "start_time": "2022-06-12T13:25:42.872Z"
   },
   {
    "duration": 7,
    "start_time": "2022-06-12T13:27:48.024Z"
   },
   {
    "duration": 131,
    "start_time": "2022-06-12T13:35:46.638Z"
   },
   {
    "duration": 36,
    "start_time": "2022-06-12T13:35:47.774Z"
   },
   {
    "duration": 14,
    "start_time": "2022-06-12T13:35:49.453Z"
   },
   {
    "duration": 7208,
    "start_time": "2022-06-12T13:35:50.807Z"
   },
   {
    "duration": 5,
    "start_time": "2022-06-12T13:36:04.790Z"
   },
   {
    "duration": 10,
    "start_time": "2022-06-12T13:36:16.949Z"
   },
   {
    "duration": 12,
    "start_time": "2022-06-12T13:36:57.774Z"
   },
   {
    "duration": 10,
    "start_time": "2022-06-12T13:37:21.750Z"
   },
   {
    "duration": 11,
    "start_time": "2022-06-12T13:38:06.213Z"
   },
   {
    "duration": 8,
    "start_time": "2022-06-12T13:38:33.589Z"
   },
   {
    "duration": 11,
    "start_time": "2022-06-12T13:38:48.693Z"
   },
   {
    "duration": 9,
    "start_time": "2022-06-12T13:39:00.389Z"
   },
   {
    "duration": 9,
    "start_time": "2022-06-12T13:40:30.397Z"
   },
   {
    "duration": 9,
    "start_time": "2022-06-12T13:40:42.285Z"
   },
   {
    "duration": 7,
    "start_time": "2022-06-12T13:40:48.965Z"
   },
   {
    "duration": 14,
    "start_time": "2022-06-12T13:41:07.997Z"
   },
   {
    "duration": 10,
    "start_time": "2022-06-12T13:42:01.622Z"
   },
   {
    "duration": 10,
    "start_time": "2022-06-12T13:42:07.813Z"
   },
   {
    "duration": 7,
    "start_time": "2022-06-12T13:45:29.034Z"
   },
   {
    "duration": 10,
    "start_time": "2022-06-12T13:46:27.471Z"
   },
   {
    "duration": 9,
    "start_time": "2022-06-12T13:55:04.544Z"
   },
   {
    "duration": 10,
    "start_time": "2022-06-12T13:55:23.416Z"
   },
   {
    "duration": 8,
    "start_time": "2022-06-12T13:55:40.064Z"
   },
   {
    "duration": 12,
    "start_time": "2022-06-12T13:55:51.120Z"
   },
   {
    "duration": 42,
    "start_time": "2022-06-12T13:56:20.184Z"
   },
   {
    "duration": 14,
    "start_time": "2022-06-12T13:56:49.727Z"
   },
   {
    "duration": 17,
    "start_time": "2022-06-12T13:56:53.575Z"
   },
   {
    "duration": 13,
    "start_time": "2022-06-12T13:56:59.030Z"
   },
   {
    "duration": 16,
    "start_time": "2022-06-12T13:57:16.568Z"
   },
   {
    "duration": 12,
    "start_time": "2022-06-12T13:57:19.936Z"
   },
   {
    "duration": 11,
    "start_time": "2022-06-12T13:57:35.760Z"
   },
   {
    "duration": 112,
    "start_time": "2022-06-12T13:57:49.183Z"
   },
   {
    "duration": 40,
    "start_time": "2022-06-12T13:57:49.935Z"
   },
   {
    "duration": 20,
    "start_time": "2022-06-12T13:57:50.222Z"
   },
   {
    "duration": 7311,
    "start_time": "2022-06-12T13:57:50.919Z"
   },
   {
    "duration": 24,
    "start_time": "2022-06-12T13:57:58.232Z"
   },
   {
    "duration": 36,
    "start_time": "2022-06-12T13:58:31.280Z"
   },
   {
    "duration": 20,
    "start_time": "2022-06-12T13:58:56.680Z"
   },
   {
    "duration": 12,
    "start_time": "2022-06-12T14:02:11.245Z"
   },
   {
    "duration": 37,
    "start_time": "2022-06-12T14:02:48.926Z"
   },
   {
    "duration": 10,
    "start_time": "2022-06-12T14:06:31.484Z"
   },
   {
    "duration": 36,
    "start_time": "2022-06-12T14:08:39.331Z"
   },
   {
    "duration": 30,
    "start_time": "2022-06-12T14:08:43.388Z"
   },
   {
    "duration": 325,
    "start_time": "2022-06-12T14:09:58.948Z"
   },
   {
    "duration": 362,
    "start_time": "2022-06-12T14:10:12.780Z"
   },
   {
    "duration": 6,
    "start_time": "2022-06-12T14:12:17.811Z"
   },
   {
    "duration": 30,
    "start_time": "2022-06-12T14:12:41.691Z"
   },
   {
    "duration": 533,
    "start_time": "2022-06-12T14:16:23.514Z"
   },
   {
    "duration": 115,
    "start_time": "2022-06-12T14:16:31.569Z"
   },
   {
    "duration": 119,
    "start_time": "2022-06-12T14:16:38.922Z"
   },
   {
    "duration": 219,
    "start_time": "2022-06-12T14:16:42.433Z"
   },
   {
    "duration": 154,
    "start_time": "2022-06-12T14:16:52.817Z"
   },
   {
    "duration": 281,
    "start_time": "2022-06-12T14:16:55.457Z"
   },
   {
    "duration": 424,
    "start_time": "2022-06-12T14:17:27.025Z"
   },
   {
    "duration": 212,
    "start_time": "2022-06-12T14:17:54.601Z"
   },
   {
    "duration": 445,
    "start_time": "2022-06-12T14:18:07.401Z"
   },
   {
    "duration": 524,
    "start_time": "2022-06-12T14:18:11.744Z"
   },
   {
    "duration": 223,
    "start_time": "2022-06-12T14:18:27.130Z"
   },
   {
    "duration": 244,
    "start_time": "2022-06-12T14:18:33.185Z"
   },
   {
    "duration": 155,
    "start_time": "2022-06-12T14:18:42.781Z"
   },
   {
    "duration": 145,
    "start_time": "2022-06-12T14:18:47.768Z"
   },
   {
    "duration": 248,
    "start_time": "2022-06-12T14:18:51.928Z"
   },
   {
    "duration": 38,
    "start_time": "2022-06-12T14:19:07.817Z"
   },
   {
    "duration": 341,
    "start_time": "2022-06-12T14:19:44.304Z"
   },
   {
    "duration": 216,
    "start_time": "2022-06-12T14:20:18.049Z"
   },
   {
    "duration": 206,
    "start_time": "2022-06-12T14:20:23.184Z"
   },
   {
    "duration": 223,
    "start_time": "2022-06-12T14:20:31.025Z"
   },
   {
    "duration": 236,
    "start_time": "2022-06-12T14:20:34.008Z"
   },
   {
    "duration": 342,
    "start_time": "2022-06-12T14:21:04.616Z"
   },
   {
    "duration": 250,
    "start_time": "2022-06-12T14:21:13.665Z"
   },
   {
    "duration": 129,
    "start_time": "2022-06-12T14:21:21.048Z"
   },
   {
    "duration": 135,
    "start_time": "2022-06-12T14:21:24.512Z"
   },
   {
    "duration": 123,
    "start_time": "2022-06-12T14:21:32.944Z"
   },
   {
    "duration": 140,
    "start_time": "2022-06-12T14:21:41.191Z"
   },
   {
    "duration": 194,
    "start_time": "2022-06-12T14:21:46.498Z"
   },
   {
    "duration": 207,
    "start_time": "2022-06-12T14:21:50.071Z"
   },
   {
    "duration": 268,
    "start_time": "2022-06-12T14:21:56.328Z"
   },
   {
    "duration": 125,
    "start_time": "2022-06-12T14:22:02.178Z"
   },
   {
    "duration": 114,
    "start_time": "2022-06-12T14:22:07.264Z"
   },
   {
    "duration": 131,
    "start_time": "2022-06-12T14:22:09.265Z"
   },
   {
    "duration": 107,
    "start_time": "2022-06-12T14:22:23.175Z"
   },
   {
    "duration": 268,
    "start_time": "2022-06-12T14:22:32.815Z"
   },
   {
    "duration": 110,
    "start_time": "2022-06-12T14:22:47.215Z"
   },
   {
    "duration": 153,
    "start_time": "2022-06-12T14:22:56.528Z"
   },
   {
    "duration": 4,
    "start_time": "2022-06-12T14:25:17.694Z"
   },
   {
    "duration": 8,
    "start_time": "2022-06-12T14:25:39.271Z"
   },
   {
    "duration": 188,
    "start_time": "2022-06-12T14:34:12.437Z"
   },
   {
    "duration": 8,
    "start_time": "2022-06-12T14:35:07.748Z"
   },
   {
    "duration": 8,
    "start_time": "2022-06-12T14:36:41.460Z"
   },
   {
    "duration": 123,
    "start_time": "2022-06-12T14:36:51.244Z"
   },
   {
    "duration": 56,
    "start_time": "2022-06-12T14:36:51.971Z"
   },
   {
    "duration": 13,
    "start_time": "2022-06-12T14:36:52.252Z"
   },
   {
    "duration": 7859,
    "start_time": "2022-06-12T14:36:52.524Z"
   },
   {
    "duration": 27,
    "start_time": "2022-06-12T14:37:00.385Z"
   },
   {
    "duration": 37,
    "start_time": "2022-06-12T14:37:00.426Z"
   },
   {
    "duration": 373,
    "start_time": "2022-06-12T14:37:00.465Z"
   },
   {
    "duration": 30,
    "start_time": "2022-06-12T14:37:00.840Z"
   },
   {
    "duration": 10,
    "start_time": "2022-06-12T14:37:00.872Z"
   },
   {
    "duration": 287,
    "start_time": "2022-06-12T14:37:00.884Z"
   },
   {
    "duration": 235,
    "start_time": "2022-06-12T14:37:01.172Z"
   },
   {
    "duration": 138,
    "start_time": "2022-06-12T14:37:01.408Z"
   },
   {
    "duration": 164,
    "start_time": "2022-06-12T14:37:01.548Z"
   },
   {
    "duration": 146,
    "start_time": "2022-06-12T14:37:04.035Z"
   },
   {
    "duration": 8,
    "start_time": "2022-06-12T14:37:04.740Z"
   },
   {
    "duration": 8,
    "start_time": "2022-06-12T14:37:06.060Z"
   },
   {
    "duration": 668,
    "start_time": "2022-06-12T14:38:22.580Z"
   },
   {
    "duration": 300,
    "start_time": "2022-06-12T14:38:33.619Z"
   },
   {
    "duration": 102,
    "start_time": "2022-06-12T14:38:50.164Z"
   },
   {
    "duration": 161,
    "start_time": "2022-06-12T14:39:14.116Z"
   },
   {
    "duration": 110,
    "start_time": "2022-06-12T14:39:22.581Z"
   },
   {
    "duration": 146,
    "start_time": "2022-06-12T14:39:44.923Z"
   },
   {
    "duration": 9,
    "start_time": "2022-06-12T14:40:06.131Z"
   },
   {
    "duration": 121,
    "start_time": "2022-06-12T14:40:09.314Z"
   },
   {
    "duration": 9,
    "start_time": "2022-06-12T14:40:26.498Z"
   },
   {
    "duration": 8,
    "start_time": "2022-06-12T14:46:06.097Z"
   },
   {
    "duration": 17,
    "start_time": "2022-06-12T14:46:14.048Z"
   },
   {
    "duration": 13,
    "start_time": "2022-06-12T14:48:05.874Z"
   },
   {
    "duration": 13,
    "start_time": "2022-06-12T14:50:02.863Z"
   },
   {
    "duration": 13,
    "start_time": "2022-06-12T14:50:44.096Z"
   },
   {
    "duration": 178,
    "start_time": "2022-06-12T14:52:04.392Z"
   },
   {
    "duration": 155,
    "start_time": "2022-06-12T14:52:16.295Z"
   },
   {
    "duration": 157,
    "start_time": "2022-06-12T14:52:25.378Z"
   },
   {
    "duration": 236,
    "start_time": "2022-06-12T14:52:45.415Z"
   },
   {
    "duration": 13,
    "start_time": "2022-06-12T14:52:59.160Z"
   },
   {
    "duration": 266,
    "start_time": "2022-06-12T14:55:13.487Z"
   },
   {
    "duration": 255,
    "start_time": "2022-06-12T14:55:18.983Z"
   },
   {
    "duration": 188,
    "start_time": "2022-06-12T14:55:31.480Z"
   },
   {
    "duration": 218,
    "start_time": "2022-06-12T14:57:25.598Z"
   },
   {
    "duration": 161,
    "start_time": "2022-06-12T14:57:41.630Z"
   },
   {
    "duration": 189,
    "start_time": "2022-06-12T14:58:49.958Z"
   },
   {
    "duration": 132,
    "start_time": "2022-06-12T14:59:24.086Z"
   },
   {
    "duration": 151,
    "start_time": "2022-06-12T14:59:31.734Z"
   },
   {
    "duration": 166,
    "start_time": "2022-06-12T14:59:37.559Z"
   },
   {
    "duration": 509,
    "start_time": "2022-06-12T14:59:40.254Z"
   },
   {
    "duration": 230,
    "start_time": "2022-06-12T14:59:47.679Z"
   },
   {
    "duration": 120,
    "start_time": "2022-06-12T14:59:52.101Z"
   },
   {
    "duration": 58,
    "start_time": "2022-06-12T14:59:52.846Z"
   },
   {
    "duration": 21,
    "start_time": "2022-06-12T14:59:53.126Z"
   },
   {
    "duration": 7485,
    "start_time": "2022-06-12T14:59:53.431Z"
   },
   {
    "duration": 23,
    "start_time": "2022-06-12T15:00:00.925Z"
   },
   {
    "duration": 32,
    "start_time": "2022-06-12T15:00:00.949Z"
   },
   {
    "duration": 343,
    "start_time": "2022-06-12T15:00:00.983Z"
   },
   {
    "duration": 22,
    "start_time": "2022-06-12T15:00:01.328Z"
   },
   {
    "duration": 14,
    "start_time": "2022-06-12T15:00:01.351Z"
   },
   {
    "duration": 228,
    "start_time": "2022-06-12T15:00:01.367Z"
   },
   {
    "duration": 176,
    "start_time": "2022-06-12T15:00:01.597Z"
   },
   {
    "duration": 268,
    "start_time": "2022-06-12T15:00:01.775Z"
   },
   {
    "duration": 162,
    "start_time": "2022-06-12T15:00:02.045Z"
   },
   {
    "duration": 140,
    "start_time": "2022-06-12T15:00:02.209Z"
   },
   {
    "duration": 136,
    "start_time": "2022-06-12T15:00:02.351Z"
   },
   {
    "duration": 223,
    "start_time": "2022-06-12T15:00:02.488Z"
   },
   {
    "duration": 261,
    "start_time": "2022-06-12T15:00:10.653Z"
   },
   {
    "duration": 151,
    "start_time": "2022-06-12T15:00:14.903Z"
   },
   {
    "duration": 2635,
    "start_time": "2022-06-12T15:00:19.069Z"
   },
   {
    "duration": 471,
    "start_time": "2022-06-12T15:00:29.157Z"
   },
   {
    "duration": 174,
    "start_time": "2022-06-12T15:00:33.005Z"
   },
   {
    "duration": 146,
    "start_time": "2022-06-12T15:00:36.806Z"
   },
   {
    "duration": 166,
    "start_time": "2022-06-12T15:00:43.318Z"
   },
   {
    "duration": 138,
    "start_time": "2022-06-12T15:01:28.396Z"
   },
   {
    "duration": 173,
    "start_time": "2022-06-12T15:01:41.797Z"
   },
   {
    "duration": 10,
    "start_time": "2022-06-12T15:01:45.926Z"
   },
   {
    "duration": 13,
    "start_time": "2022-06-12T15:01:47.805Z"
   },
   {
    "duration": 9,
    "start_time": "2022-06-12T15:03:27.184Z"
   },
   {
    "duration": 20,
    "start_time": "2022-06-12T15:03:55.765Z"
   },
   {
    "duration": 65,
    "start_time": "2022-06-12T15:03:59.365Z"
   },
   {
    "duration": 8,
    "start_time": "2022-06-12T15:04:13.158Z"
   },
   {
    "duration": 7,
    "start_time": "2022-06-12T15:04:55.936Z"
   },
   {
    "duration": 452,
    "start_time": "2022-06-12T15:05:15.340Z"
   },
   {
    "duration": 5,
    "start_time": "2022-06-12T15:05:22.453Z"
   },
   {
    "duration": 5,
    "start_time": "2022-06-12T15:05:47.204Z"
   },
   {
    "duration": 7,
    "start_time": "2022-06-12T15:06:56.284Z"
   },
   {
    "duration": 232,
    "start_time": "2022-06-12T15:08:11.420Z"
   },
   {
    "duration": 181,
    "start_time": "2022-06-12T15:09:44.316Z"
   },
   {
    "duration": 166,
    "start_time": "2022-06-12T15:10:17.355Z"
   },
   {
    "duration": 173,
    "start_time": "2022-06-12T15:10:20.890Z"
   },
   {
    "duration": 154,
    "start_time": "2022-06-12T15:10:28.347Z"
   },
   {
    "duration": 163,
    "start_time": "2022-06-12T15:12:32.732Z"
   },
   {
    "duration": 673,
    "start_time": "2022-06-12T15:12:49.610Z"
   },
   {
    "duration": 706,
    "start_time": "2022-06-12T15:21:50.376Z"
   },
   {
    "duration": 153,
    "start_time": "2022-06-12T15:22:14.787Z"
   },
   {
    "duration": 184,
    "start_time": "2022-06-12T15:23:07.447Z"
   },
   {
    "duration": 168,
    "start_time": "2022-06-12T15:23:28.343Z"
   },
   {
    "duration": 172,
    "start_time": "2022-06-12T15:24:13.719Z"
   },
   {
    "duration": 21,
    "start_time": "2022-06-12T15:26:35.647Z"
   },
   {
    "duration": 5,
    "start_time": "2022-06-12T15:26:44.589Z"
   },
   {
    "duration": 4,
    "start_time": "2022-06-12T15:26:48.593Z"
   },
   {
    "duration": 26,
    "start_time": "2022-06-12T15:27:26.399Z"
   },
   {
    "duration": 14,
    "start_time": "2022-06-12T15:28:28.545Z"
   },
   {
    "duration": 9,
    "start_time": "2022-06-12T15:28:35.350Z"
   },
   {
    "duration": 8,
    "start_time": "2022-06-12T15:28:49.558Z"
   },
   {
    "duration": 7,
    "start_time": "2022-06-12T15:28:57.302Z"
   },
   {
    "duration": 8,
    "start_time": "2022-06-12T15:30:04.949Z"
   },
   {
    "duration": 10,
    "start_time": "2022-06-12T15:34:32.261Z"
   },
   {
    "duration": 482,
    "start_time": "2022-06-12T15:34:55.565Z"
   },
   {
    "duration": 36,
    "start_time": "2022-06-12T15:36:28.108Z"
   },
   {
    "duration": 4,
    "start_time": "2022-06-12T15:40:10.996Z"
   },
   {
    "duration": 23,
    "start_time": "2022-06-12T15:40:22.475Z"
   },
   {
    "duration": 125,
    "start_time": "2022-06-12T15:41:21.284Z"
   },
   {
    "duration": 36,
    "start_time": "2022-06-12T15:41:22.003Z"
   },
   {
    "duration": 13,
    "start_time": "2022-06-12T15:41:22.291Z"
   },
   {
    "duration": 6835,
    "start_time": "2022-06-12T15:41:22.595Z"
   },
   {
    "duration": 20,
    "start_time": "2022-06-12T15:41:29.432Z"
   },
   {
    "duration": 31,
    "start_time": "2022-06-12T15:41:29.453Z"
   },
   {
    "duration": 325,
    "start_time": "2022-06-12T15:41:29.486Z"
   },
   {
    "duration": 27,
    "start_time": "2022-06-12T15:41:29.813Z"
   },
   {
    "duration": 9,
    "start_time": "2022-06-12T15:41:29.842Z"
   },
   {
    "duration": 229,
    "start_time": "2022-06-12T15:41:29.852Z"
   },
   {
    "duration": 185,
    "start_time": "2022-06-12T15:41:30.082Z"
   },
   {
    "duration": 225,
    "start_time": "2022-06-12T15:41:30.269Z"
   },
   {
    "duration": 165,
    "start_time": "2022-06-12T15:41:30.496Z"
   },
   {
    "duration": 145,
    "start_time": "2022-06-12T15:41:30.662Z"
   },
   {
    "duration": 128,
    "start_time": "2022-06-12T15:41:30.808Z"
   },
   {
    "duration": 158,
    "start_time": "2022-06-12T15:41:30.938Z"
   },
   {
    "duration": 154,
    "start_time": "2022-06-12T15:41:31.098Z"
   },
   {
    "duration": 148,
    "start_time": "2022-06-12T15:41:31.254Z"
   },
   {
    "duration": 8,
    "start_time": "2022-06-12T15:41:31.404Z"
   },
   {
    "duration": 22,
    "start_time": "2022-06-12T15:41:31.414Z"
   },
   {
    "duration": 166,
    "start_time": "2022-06-12T15:41:31.437Z"
   },
   {
    "duration": 21,
    "start_time": "2022-06-12T15:41:31.605Z"
   },
   {
    "duration": 41,
    "start_time": "2022-06-12T15:41:31.627Z"
   },
   {
    "duration": 9,
    "start_time": "2022-06-12T15:41:31.890Z"
   },
   {
    "duration": 37,
    "start_time": "2022-06-12T15:41:40.635Z"
   },
   {
    "duration": 456,
    "start_time": "2022-06-12T15:45:14.131Z"
   },
   {
    "duration": 32,
    "start_time": "2022-06-12T15:45:26.417Z"
   },
   {
    "duration": 115,
    "start_time": "2022-06-12T15:45:45.955Z"
   },
   {
    "duration": 42,
    "start_time": "2022-06-12T15:45:46.650Z"
   },
   {
    "duration": 12,
    "start_time": "2022-06-12T15:45:46.913Z"
   },
   {
    "duration": 6726,
    "start_time": "2022-06-12T15:45:47.185Z"
   },
   {
    "duration": 23,
    "start_time": "2022-06-12T15:45:53.912Z"
   },
   {
    "duration": 35,
    "start_time": "2022-06-12T15:45:53.937Z"
   },
   {
    "duration": 662,
    "start_time": "2022-06-12T15:45:53.975Z"
   },
   {
    "duration": 23,
    "start_time": "2022-06-12T15:45:54.638Z"
   },
   {
    "duration": 8,
    "start_time": "2022-06-12T15:45:54.662Z"
   },
   {
    "duration": 230,
    "start_time": "2022-06-12T15:45:54.672Z"
   },
   {
    "duration": 177,
    "start_time": "2022-06-12T15:45:54.903Z"
   },
   {
    "duration": 237,
    "start_time": "2022-06-12T15:45:55.082Z"
   },
   {
    "duration": 165,
    "start_time": "2022-06-12T15:45:55.325Z"
   },
   {
    "duration": 135,
    "start_time": "2022-06-12T15:45:55.492Z"
   },
   {
    "duration": 132,
    "start_time": "2022-06-12T15:45:55.629Z"
   },
   {
    "duration": 151,
    "start_time": "2022-06-12T15:45:55.762Z"
   },
   {
    "duration": 154,
    "start_time": "2022-06-12T15:45:55.914Z"
   },
   {
    "duration": 157,
    "start_time": "2022-06-12T15:45:56.070Z"
   },
   {
    "duration": 8,
    "start_time": "2022-06-12T15:45:56.228Z"
   },
   {
    "duration": 12,
    "start_time": "2022-06-12T15:45:56.238Z"
   },
   {
    "duration": 160,
    "start_time": "2022-06-12T15:45:56.252Z"
   },
   {
    "duration": 8,
    "start_time": "2022-06-12T15:45:58.129Z"
   },
   {
    "duration": 34,
    "start_time": "2022-06-12T15:45:59.304Z"
   },
   {
    "duration": 8,
    "start_time": "2022-06-12T15:46:01.714Z"
   },
   {
    "duration": 26,
    "start_time": "2022-06-12T15:47:33.904Z"
   },
   {
    "duration": 28,
    "start_time": "2022-06-12T15:48:55.681Z"
   },
   {
    "duration": 31,
    "start_time": "2022-06-12T15:49:06.986Z"
   },
   {
    "duration": 293,
    "start_time": "2022-06-12T15:49:42.744Z"
   },
   {
    "duration": 384,
    "start_time": "2022-06-12T15:49:52.641Z"
   },
   {
    "duration": 175,
    "start_time": "2022-06-12T15:50:14.111Z"
   },
   {
    "duration": 416,
    "start_time": "2022-06-12T15:50:26.685Z"
   },
   {
    "duration": 163,
    "start_time": "2022-06-12T15:50:29.754Z"
   },
   {
    "duration": 339,
    "start_time": "2022-06-12T15:51:43.815Z"
   },
   {
    "duration": 172,
    "start_time": "2022-06-12T15:51:46.255Z"
   },
   {
    "duration": 310,
    "start_time": "2022-06-12T15:52:00.994Z"
   },
   {
    "duration": 186,
    "start_time": "2022-06-12T15:52:08.223Z"
   },
   {
    "duration": 24,
    "start_time": "2022-06-12T15:59:27.046Z"
   },
   {
    "duration": 17,
    "start_time": "2022-06-12T16:00:06.342Z"
   },
   {
    "duration": 118,
    "start_time": "2022-06-12T16:04:32.348Z"
   },
   {
    "duration": 2155,
    "start_time": "2022-06-12T16:10:00.419Z"
   },
   {
    "duration": 2483,
    "start_time": "2022-06-12T16:10:17.416Z"
   },
   {
    "duration": 15,
    "start_time": "2022-06-12T16:10:30.802Z"
   },
   {
    "duration": 19,
    "start_time": "2022-06-12T16:13:49.512Z"
   },
   {
    "duration": 79,
    "start_time": "2022-06-13T09:44:45.282Z"
   },
   {
    "duration": 1249,
    "start_time": "2022-06-13T09:44:50.489Z"
   },
   {
    "duration": 67,
    "start_time": "2022-06-13T09:44:51.743Z"
   },
   {
    "duration": 25,
    "start_time": "2022-06-13T09:44:51.812Z"
   },
   {
    "duration": 10233,
    "start_time": "2022-06-13T09:44:51.960Z"
   },
   {
    "duration": 42,
    "start_time": "2022-06-13T09:45:02.195Z"
   },
   {
    "duration": 75,
    "start_time": "2022-06-13T09:45:02.238Z"
   },
   {
    "duration": 468,
    "start_time": "2022-06-13T09:45:02.316Z"
   },
   {
    "duration": 53,
    "start_time": "2022-06-13T09:45:02.788Z"
   },
   {
    "duration": 30,
    "start_time": "2022-06-13T09:45:02.846Z"
   },
   {
    "duration": 407,
    "start_time": "2022-06-13T09:45:02.878Z"
   },
   {
    "duration": 239,
    "start_time": "2022-06-13T09:45:03.288Z"
   },
   {
    "duration": 289,
    "start_time": "2022-06-13T09:45:03.528Z"
   },
   {
    "duration": 240,
    "start_time": "2022-06-13T09:45:03.826Z"
   },
   {
    "duration": 193,
    "start_time": "2022-06-13T09:45:04.068Z"
   },
   {
    "duration": 212,
    "start_time": "2022-06-13T09:45:04.264Z"
   },
   {
    "duration": 199,
    "start_time": "2022-06-13T09:45:04.482Z"
   },
   {
    "duration": 247,
    "start_time": "2022-06-13T09:45:04.683Z"
   },
   {
    "duration": 238,
    "start_time": "2022-06-13T09:45:04.939Z"
   },
   {
    "duration": 10,
    "start_time": "2022-06-13T09:45:05.179Z"
   },
   {
    "duration": 17,
    "start_time": "2022-06-13T09:45:05.191Z"
   },
   {
    "duration": 345,
    "start_time": "2022-06-13T09:45:05.209Z"
   },
   {
    "duration": 10,
    "start_time": "2022-06-13T09:45:05.562Z"
   },
   {
    "duration": 64,
    "start_time": "2022-06-13T09:45:05.573Z"
   },
   {
    "duration": 69,
    "start_time": "2022-06-13T09:45:05.649Z"
   },
   {
    "duration": 195,
    "start_time": "2022-06-13T09:46:39.614Z"
   },
   {
    "duration": 166,
    "start_time": "2022-06-13T09:46:58.657Z"
   },
   {
    "duration": 181,
    "start_time": "2022-06-13T09:47:51.151Z"
   },
   {
    "duration": 204,
    "start_time": "2022-06-13T09:49:01.869Z"
   },
   {
    "duration": 184,
    "start_time": "2022-06-13T09:49:14.112Z"
   },
   {
    "duration": 176,
    "start_time": "2022-06-13T09:49:30.420Z"
   },
   {
    "duration": 170,
    "start_time": "2022-06-13T09:49:40.012Z"
   },
   {
    "duration": 167,
    "start_time": "2022-06-13T09:49:44.743Z"
   },
   {
    "duration": 201,
    "start_time": "2022-06-13T09:49:52.470Z"
   },
   {
    "duration": 206,
    "start_time": "2022-06-13T09:50:08.130Z"
   },
   {
    "duration": 199,
    "start_time": "2022-06-13T09:50:34.012Z"
   },
   {
    "duration": 38,
    "start_time": "2022-06-13T10:00:29.349Z"
   },
   {
    "duration": 158,
    "start_time": "2022-06-13T10:00:35.533Z"
   },
   {
    "duration": 352,
    "start_time": "2022-06-13T10:00:40.536Z"
   },
   {
    "duration": 154,
    "start_time": "2022-06-13T10:00:44.506Z"
   },
   {
    "duration": 145,
    "start_time": "2022-06-13T10:01:00.346Z"
   },
   {
    "duration": 183,
    "start_time": "2022-06-13T10:01:19.262Z"
   },
   {
    "duration": 159,
    "start_time": "2022-06-13T10:01:45.961Z"
   },
   {
    "duration": 174,
    "start_time": "2022-06-13T10:02:09.732Z"
   },
   {
    "duration": 186,
    "start_time": "2022-06-13T10:02:15.066Z"
   },
   {
    "duration": 192,
    "start_time": "2022-06-13T10:02:21.569Z"
   },
   {
    "duration": 133,
    "start_time": "2022-06-13T10:02:29.644Z"
   },
   {
    "duration": 145,
    "start_time": "2022-06-13T10:02:33.027Z"
   },
   {
    "duration": 182,
    "start_time": "2022-06-13T10:02:43.516Z"
   },
   {
    "duration": 236,
    "start_time": "2022-06-13T10:03:02.714Z"
   },
   {
    "duration": 247,
    "start_time": "2022-06-13T10:03:24.047Z"
   },
   {
    "duration": 233,
    "start_time": "2022-06-13T10:03:47.239Z"
   },
   {
    "duration": 179,
    "start_time": "2022-06-13T10:03:57.666Z"
   },
   {
    "duration": 190,
    "start_time": "2022-06-13T10:04:09.896Z"
   },
   {
    "duration": 13,
    "start_time": "2022-06-13T10:05:30.298Z"
   },
   {
    "duration": 35,
    "start_time": "2022-06-13T10:06:13.596Z"
   },
   {
    "duration": 49,
    "start_time": "2022-06-13T10:07:39.427Z"
   },
   {
    "duration": 185,
    "start_time": "2022-06-13T10:11:15.301Z"
   },
   {
    "duration": 39,
    "start_time": "2022-06-13T10:11:34.854Z"
   },
   {
    "duration": 179,
    "start_time": "2022-06-13T10:16:25.469Z"
   },
   {
    "duration": 227,
    "start_time": "2022-06-13T10:16:32.643Z"
   },
   {
    "duration": 964,
    "start_time": "2022-06-13T14:27:58.731Z"
   },
   {
    "duration": 43,
    "start_time": "2022-06-13T14:27:59.697Z"
   },
   {
    "duration": 14,
    "start_time": "2022-06-13T14:27:59.758Z"
   },
   {
    "duration": 7640,
    "start_time": "2022-06-13T14:27:59.775Z"
   },
   {
    "duration": 43,
    "start_time": "2022-06-13T14:28:07.417Z"
   },
   {
    "duration": 41,
    "start_time": "2022-06-13T14:28:07.463Z"
   },
   {
    "duration": 341,
    "start_time": "2022-06-13T14:28:07.505Z"
   },
   {
    "duration": 29,
    "start_time": "2022-06-13T14:28:07.847Z"
   },
   {
    "duration": 8,
    "start_time": "2022-06-13T14:28:07.878Z"
   },
   {
    "duration": 291,
    "start_time": "2022-06-13T14:28:07.888Z"
   },
   {
    "duration": 182,
    "start_time": "2022-06-13T14:28:08.180Z"
   },
   {
    "duration": 238,
    "start_time": "2022-06-13T14:28:08.363Z"
   },
   {
    "duration": 190,
    "start_time": "2022-06-13T14:28:08.603Z"
   },
   {
    "duration": 139,
    "start_time": "2022-06-13T14:28:08.794Z"
   },
   {
    "duration": 136,
    "start_time": "2022-06-13T14:28:08.935Z"
   },
   {
    "duration": 163,
    "start_time": "2022-06-13T14:28:09.073Z"
   },
   {
    "duration": 153,
    "start_time": "2022-06-13T14:28:09.238Z"
   },
   {
    "duration": 160,
    "start_time": "2022-06-13T14:28:09.393Z"
   },
   {
    "duration": 9,
    "start_time": "2022-06-13T14:28:09.558Z"
   },
   {
    "duration": 24,
    "start_time": "2022-06-13T14:28:09.569Z"
   },
   {
    "duration": 243,
    "start_time": "2022-06-13T14:28:09.594Z"
   },
   {
    "duration": 20,
    "start_time": "2022-06-13T14:28:09.839Z"
   },
   {
    "duration": 39,
    "start_time": "2022-06-13T14:28:09.861Z"
   },
   {
    "duration": 162,
    "start_time": "2022-06-13T14:28:09.901Z"
   },
   {
    "duration": 160,
    "start_time": "2022-06-13T14:28:10.065Z"
   },
   {
    "duration": 116,
    "start_time": "2022-06-13T14:28:10.226Z"
   },
   {
    "duration": 165,
    "start_time": "2022-06-13T14:28:10.344Z"
   },
   {
    "duration": 127,
    "start_time": "2022-06-13T14:28:10.512Z"
   },
   {
    "duration": 156,
    "start_time": "2022-06-13T14:28:10.640Z"
   },
   {
    "duration": 7,
    "start_time": "2022-06-13T14:39:51.699Z"
   },
   {
    "duration": 4,
    "start_time": "2022-06-13T14:51:18.707Z"
   },
   {
    "duration": 10,
    "start_time": "2022-06-13T14:56:18.715Z"
   },
   {
    "duration": 9,
    "start_time": "2022-06-13T14:56:25.567Z"
   },
   {
    "duration": 61,
    "start_time": "2022-06-13T14:57:39.428Z"
   },
   {
    "duration": 50,
    "start_time": "2022-06-13T15:04:02.694Z"
   },
   {
    "duration": 9,
    "start_time": "2022-06-13T15:04:20.941Z"
   },
   {
    "duration": 10,
    "start_time": "2022-06-13T15:04:28.035Z"
   },
   {
    "duration": 10,
    "start_time": "2022-06-13T15:04:31.390Z"
   },
   {
    "duration": 903,
    "start_time": "2022-06-13T15:15:07.532Z"
   },
   {
    "duration": 51,
    "start_time": "2022-06-13T15:15:08.437Z"
   },
   {
    "duration": 34,
    "start_time": "2022-06-13T15:15:08.490Z"
   },
   {
    "duration": 824,
    "start_time": "2022-06-13T16:48:47.630Z"
   },
   {
    "duration": 342,
    "start_time": "2022-06-13T16:48:49.288Z"
   },
   {
    "duration": 47,
    "start_time": "2022-06-13T16:48:53.263Z"
   },
   {
    "duration": 15,
    "start_time": "2022-06-13T16:48:56.157Z"
   },
   {
    "duration": 8224,
    "start_time": "2022-06-13T16:48:57.548Z"
   },
   {
    "duration": 25,
    "start_time": "2022-06-13T16:49:05.774Z"
   },
   {
    "duration": 52,
    "start_time": "2022-06-13T16:49:05.800Z"
   },
   {
    "duration": 369,
    "start_time": "2022-06-13T16:49:05.855Z"
   },
   {
    "duration": 29,
    "start_time": "2022-06-13T16:49:06.226Z"
   },
   {
    "duration": 10,
    "start_time": "2022-06-13T16:49:07.777Z"
   },
   {
    "duration": 306,
    "start_time": "2022-06-13T16:49:09.468Z"
   },
   {
    "duration": 189,
    "start_time": "2022-06-13T16:49:11.018Z"
   },
   {
    "duration": 243,
    "start_time": "2022-06-13T16:49:11.217Z"
   },
   {
    "duration": 193,
    "start_time": "2022-06-13T16:49:11.541Z"
   },
   {
    "duration": 133,
    "start_time": "2022-06-13T16:49:12.140Z"
   },
   {
    "duration": 202,
    "start_time": "2022-06-13T16:49:12.523Z"
   },
   {
    "duration": 172,
    "start_time": "2022-06-13T16:49:12.742Z"
   },
   {
    "duration": 159,
    "start_time": "2022-06-13T16:49:13.852Z"
   },
   {
    "duration": 97,
    "start_time": "2022-06-13T16:50:02.467Z"
   },
   {
    "duration": 192,
    "start_time": "2022-06-13T16:50:13.740Z"
   },
   {
    "duration": 3,
    "start_time": "2022-06-13T16:50:20.723Z"
   },
   {
    "duration": 132,
    "start_time": "2022-06-13T16:50:20.891Z"
   },
   {
    "duration": 48,
    "start_time": "2022-06-13T16:50:21.861Z"
   },
   {
    "duration": 16,
    "start_time": "2022-06-13T16:50:22.441Z"
   },
   {
    "duration": 8997,
    "start_time": "2022-06-13T16:50:28.126Z"
   },
   {
    "duration": 28,
    "start_time": "2022-06-13T16:50:37.126Z"
   },
   {
    "duration": 45,
    "start_time": "2022-06-13T16:50:37.156Z"
   },
   {
    "duration": 373,
    "start_time": "2022-06-13T16:50:37.204Z"
   },
   {
    "duration": 24,
    "start_time": "2022-06-13T16:50:39.868Z"
   },
   {
    "duration": 9,
    "start_time": "2022-06-13T16:50:41.869Z"
   },
   {
    "duration": 244,
    "start_time": "2022-06-13T16:50:43.718Z"
   },
   {
    "duration": 201,
    "start_time": "2022-06-13T16:50:45.218Z"
   },
   {
    "duration": 235,
    "start_time": "2022-06-13T16:51:13.852Z"
   },
   {
    "duration": 3,
    "start_time": "2022-06-13T16:51:16.648Z"
   },
   {
    "duration": 175,
    "start_time": "2022-06-13T16:51:16.826Z"
   },
   {
    "duration": 45,
    "start_time": "2022-06-13T16:51:17.756Z"
   },
   {
    "duration": 15,
    "start_time": "2022-06-13T16:51:18.415Z"
   },
   {
    "duration": 8384,
    "start_time": "2022-06-13T16:51:18.884Z"
   },
   {
    "duration": 25,
    "start_time": "2022-06-13T16:51:27.270Z"
   },
   {
    "duration": 55,
    "start_time": "2022-06-13T16:51:27.297Z"
   },
   {
    "duration": 348,
    "start_time": "2022-06-13T16:51:27.355Z"
   },
   {
    "duration": 34,
    "start_time": "2022-06-13T16:51:27.705Z"
   },
   {
    "duration": 9,
    "start_time": "2022-06-13T16:51:27.741Z"
   },
   {
    "duration": 347,
    "start_time": "2022-06-13T16:51:27.751Z"
   },
   {
    "duration": 192,
    "start_time": "2022-06-13T16:51:30.242Z"
   },
   {
    "duration": 184,
    "start_time": "2022-06-13T16:51:58.517Z"
   },
   {
    "duration": 3,
    "start_time": "2022-06-13T16:52:01.846Z"
   },
   {
    "duration": 153,
    "start_time": "2022-06-13T16:52:02.030Z"
   },
   {
    "duration": 69,
    "start_time": "2022-06-13T16:52:03.030Z"
   },
   {
    "duration": 16,
    "start_time": "2022-06-13T16:52:03.642Z"
   },
   {
    "duration": 8218,
    "start_time": "2022-06-13T16:52:04.138Z"
   },
   {
    "duration": 27,
    "start_time": "2022-06-13T16:52:12.358Z"
   },
   {
    "duration": 71,
    "start_time": "2022-06-13T16:52:12.387Z"
   },
   {
    "duration": 397,
    "start_time": "2022-06-13T16:52:12.460Z"
   },
   {
    "duration": 28,
    "start_time": "2022-06-13T16:52:12.858Z"
   },
   {
    "duration": 9,
    "start_time": "2022-06-13T16:52:12.888Z"
   },
   {
    "duration": 265,
    "start_time": "2022-06-13T16:52:12.899Z"
   },
   {
    "duration": 213,
    "start_time": "2022-06-13T16:52:13.166Z"
   },
   {
    "duration": 188,
    "start_time": "2022-06-13T16:52:31.334Z"
   },
   {
    "duration": 359,
    "start_time": "2022-06-13T16:52:33.380Z"
   },
   {
    "duration": 195,
    "start_time": "2022-06-13T16:52:48.021Z"
   },
   {
    "duration": 209,
    "start_time": "2022-06-13T16:53:02.622Z"
   },
   {
    "duration": 176,
    "start_time": "2022-06-13T16:53:07.364Z"
   },
   {
    "duration": 159,
    "start_time": "2022-06-13T16:53:18.336Z"
   },
   {
    "duration": 173,
    "start_time": "2022-06-13T16:54:31.275Z"
   },
   {
    "duration": 13,
    "start_time": "2022-06-13T16:54:32.664Z"
   },
   {
    "duration": 13,
    "start_time": "2022-06-13T16:54:33.573Z"
   },
   {
    "duration": 100,
    "start_time": "2022-06-13T16:57:38.925Z"
   },
   {
    "duration": 15,
    "start_time": "2022-06-13T16:57:47.875Z"
   },
   {
    "duration": 24,
    "start_time": "2022-06-13T16:57:49.846Z"
   },
   {
    "duration": 27,
    "start_time": "2022-06-13T16:59:03.062Z"
   },
   {
    "duration": 21,
    "start_time": "2022-06-13T16:59:09.321Z"
   },
   {
    "duration": 27,
    "start_time": "2022-06-13T17:00:32.722Z"
   },
   {
    "duration": 15,
    "start_time": "2022-06-13T17:00:42.778Z"
   },
   {
    "duration": 25,
    "start_time": "2022-06-13T17:00:43.761Z"
   },
   {
    "duration": 1222,
    "start_time": "2022-06-13T17:03:02.368Z"
   },
   {
    "duration": 944,
    "start_time": "2022-06-13T17:03:04.677Z"
   },
   {
    "duration": 36,
    "start_time": "2022-06-13T17:03:17.878Z"
   },
   {
    "duration": 0,
    "start_time": "2022-06-13T17:20:47.778Z"
   },
   {
    "duration": 0,
    "start_time": "2022-06-13T17:20:47.780Z"
   },
   {
    "duration": 3,
    "start_time": "2022-06-13T17:20:50.144Z"
   },
   {
    "duration": 118,
    "start_time": "2022-06-13T17:20:50.814Z"
   },
   {
    "duration": 39,
    "start_time": "2022-06-13T17:20:53.319Z"
   },
   {
    "duration": 15,
    "start_time": "2022-06-13T17:20:53.459Z"
   },
   {
    "duration": 7511,
    "start_time": "2022-06-13T17:20:53.552Z"
   },
   {
    "duration": 25,
    "start_time": "2022-06-13T17:21:01.065Z"
   },
   {
    "duration": 55,
    "start_time": "2022-06-13T17:21:01.092Z"
   },
   {
    "duration": 359,
    "start_time": "2022-06-13T17:21:01.149Z"
   },
   {
    "duration": 30,
    "start_time": "2022-06-13T17:21:01.510Z"
   },
   {
    "duration": 28,
    "start_time": "2022-06-13T17:21:01.542Z"
   },
   {
    "duration": 253,
    "start_time": "2022-06-13T17:21:01.572Z"
   },
   {
    "duration": 220,
    "start_time": "2022-06-13T17:21:01.827Z"
   },
   {
    "duration": 256,
    "start_time": "2022-06-13T17:21:02.049Z"
   },
   {
    "duration": 183,
    "start_time": "2022-06-13T17:21:02.308Z"
   },
   {
    "duration": 193,
    "start_time": "2022-06-13T17:21:02.493Z"
   },
   {
    "duration": 161,
    "start_time": "2022-06-13T17:21:02.689Z"
   },
   {
    "duration": 183,
    "start_time": "2022-06-13T17:21:02.852Z"
   },
   {
    "duration": 153,
    "start_time": "2022-06-13T17:21:03.037Z"
   },
   {
    "duration": 163,
    "start_time": "2022-06-13T17:21:04.999Z"
   },
   {
    "duration": 10,
    "start_time": "2022-06-13T17:21:06.833Z"
   },
   {
    "duration": 14,
    "start_time": "2022-06-13T17:21:07.255Z"
   },
   {
    "duration": 1196372,
    "start_time": "2022-06-13T17:21:10.351Z"
   },
   {
    "duration": 246336,
    "start_time": "2022-06-13T17:46:42.707Z"
   },
   {
    "duration": 495,
    "start_time": "2022-06-13T17:54:01.204Z"
   },
   {
    "duration": 451,
    "start_time": "2022-06-13T17:55:28.333Z"
   },
   {
    "duration": 9,
    "start_time": "2022-06-13T17:56:07.316Z"
   },
   {
    "duration": 42,
    "start_time": "2022-06-13T17:56:08.028Z"
   },
   {
    "duration": 137,
    "start_time": "2022-06-13T17:56:19.612Z"
   },
   {
    "duration": 138,
    "start_time": "2022-06-13T17:57:33.300Z"
   },
   {
    "duration": 166,
    "start_time": "2022-06-13T17:57:39.443Z"
   },
   {
    "duration": 135,
    "start_time": "2022-06-13T17:57:39.660Z"
   },
   {
    "duration": 178,
    "start_time": "2022-06-13T17:57:39.851Z"
   },
   {
    "duration": 146,
    "start_time": "2022-06-13T17:57:40.532Z"
   },
   {
    "duration": 131,
    "start_time": "2022-06-13T17:57:46.668Z"
   },
   {
    "duration": 169,
    "start_time": "2022-06-13T17:58:03.400Z"
   },
   {
    "duration": 124,
    "start_time": "2022-06-13T17:58:04.707Z"
   },
   {
    "duration": 157,
    "start_time": "2022-06-13T17:58:05.044Z"
   },
   {
    "duration": 133,
    "start_time": "2022-06-13T17:58:05.716Z"
   },
   {
    "duration": 525,
    "start_time": "2022-06-13T17:58:52.164Z"
   },
   {
    "duration": 185,
    "start_time": "2022-06-13T18:00:26.604Z"
   },
   {
    "duration": 136,
    "start_time": "2022-06-13T18:00:28.355Z"
   },
   {
    "duration": 4,
    "start_time": "2022-06-13T18:00:33.939Z"
   },
   {
    "duration": 129,
    "start_time": "2022-06-13T18:00:34.100Z"
   },
   {
    "duration": 40,
    "start_time": "2022-06-13T18:00:35.074Z"
   },
   {
    "duration": 15,
    "start_time": "2022-06-13T18:00:35.698Z"
   },
   {
    "duration": 8025,
    "start_time": "2022-06-13T18:00:36.211Z"
   },
   {
    "duration": 25,
    "start_time": "2022-06-13T18:00:44.239Z"
   },
   {
    "duration": 58,
    "start_time": "2022-06-13T18:00:44.266Z"
   },
   {
    "duration": 344,
    "start_time": "2022-06-13T18:00:44.327Z"
   },
   {
    "duration": 25,
    "start_time": "2022-06-13T18:00:44.673Z"
   },
   {
    "duration": 27,
    "start_time": "2022-06-13T18:00:44.700Z"
   },
   {
    "duration": 245,
    "start_time": "2022-06-13T18:00:44.728Z"
   },
   {
    "duration": 211,
    "start_time": "2022-06-13T18:00:44.975Z"
   },
   {
    "duration": 257,
    "start_time": "2022-06-13T18:00:45.189Z"
   },
   {
    "duration": 196,
    "start_time": "2022-06-13T18:00:45.449Z"
   },
   {
    "duration": 134,
    "start_time": "2022-06-13T18:00:45.647Z"
   },
   {
    "duration": 166,
    "start_time": "2022-06-13T18:00:45.783Z"
   },
   {
    "duration": 197,
    "start_time": "2022-06-13T18:00:45.951Z"
   },
   {
    "duration": 179,
    "start_time": "2022-06-13T18:00:46.150Z"
   },
   {
    "duration": 183,
    "start_time": "2022-06-13T18:00:46.331Z"
   },
   {
    "duration": 15,
    "start_time": "2022-06-13T18:00:46.515Z"
   },
   {
    "duration": 19,
    "start_time": "2022-06-13T18:00:46.532Z"
   },
   {
    "duration": 506,
    "start_time": "2022-06-13T18:00:46.552Z"
   },
   {
    "duration": 9,
    "start_time": "2022-06-13T18:00:47.059Z"
   },
   {
    "duration": 54,
    "start_time": "2022-06-13T18:00:47.069Z"
   },
   {
    "duration": 157,
    "start_time": "2022-06-13T18:00:47.125Z"
   },
   {
    "duration": 162,
    "start_time": "2022-06-13T18:00:47.283Z"
   },
   {
    "duration": 134,
    "start_time": "2022-06-13T18:00:47.447Z"
   },
   {
    "duration": 171,
    "start_time": "2022-06-13T18:00:47.583Z"
   },
   {
    "duration": 137,
    "start_time": "2022-06-13T18:00:47.756Z"
   },
   {
    "duration": 490,
    "start_time": "2022-06-13T18:00:47.895Z"
   },
   {
    "duration": 179,
    "start_time": "2022-06-13T18:08:41.418Z"
   },
   {
    "duration": 588,
    "start_time": "2022-06-13T18:09:23.359Z"
   },
   {
    "duration": 186,
    "start_time": "2022-06-13T18:09:24.944Z"
   },
   {
    "duration": 171,
    "start_time": "2022-06-13T18:09:28.233Z"
   },
   {
    "duration": 169,
    "start_time": "2022-06-13T18:09:30.945Z"
   },
   {
    "duration": 181,
    "start_time": "2022-06-13T18:09:35.264Z"
   },
   {
    "duration": 174,
    "start_time": "2022-06-13T18:11:05.663Z"
   },
   {
    "duration": 170,
    "start_time": "2022-06-13T18:11:40.815Z"
   },
   {
    "duration": 180,
    "start_time": "2022-06-13T18:12:08.511Z"
   },
   {
    "duration": 174,
    "start_time": "2022-06-13T18:12:09.504Z"
   },
   {
    "duration": 172,
    "start_time": "2022-06-13T18:12:11.264Z"
   },
   {
    "duration": 361,
    "start_time": "2022-06-13T18:12:25.519Z"
   },
   {
    "duration": 163,
    "start_time": "2022-06-13T18:12:46.937Z"
   },
   {
    "duration": 191,
    "start_time": "2022-06-13T18:14:08.936Z"
   },
   {
    "duration": 0,
    "start_time": "2022-06-13T18:15:06.503Z"
   },
   {
    "duration": 18,
    "start_time": "2022-06-13T18:15:30.752Z"
   },
   {
    "duration": 307,
    "start_time": "2022-06-13T18:16:14.407Z"
   },
   {
    "duration": 0,
    "start_time": "2022-06-13T18:17:16.762Z"
   },
   {
    "duration": 182,
    "start_time": "2022-06-13T18:17:16.911Z"
   },
   {
    "duration": 175,
    "start_time": "2022-06-13T18:17:17.718Z"
   },
   {
    "duration": 188,
    "start_time": "2022-06-13T18:21:14.960Z"
   },
   {
    "duration": 199,
    "start_time": "2022-06-13T18:21:29.852Z"
   },
   {
    "duration": 183,
    "start_time": "2022-06-13T18:21:53.709Z"
   },
   {
    "duration": 190,
    "start_time": "2022-06-13T18:22:32.641Z"
   },
   {
    "duration": 161,
    "start_time": "2022-06-13T18:22:46.442Z"
   },
   {
    "duration": 779,
    "start_time": "2022-06-14T10:21:22.091Z"
   },
   {
    "duration": 186,
    "start_time": "2022-06-14T10:21:22.872Z"
   },
   {
    "duration": 40,
    "start_time": "2022-06-14T10:21:23.060Z"
   },
   {
    "duration": 13,
    "start_time": "2022-06-14T10:21:23.102Z"
   },
   {
    "duration": 7388,
    "start_time": "2022-06-14T10:21:23.117Z"
   },
   {
    "duration": 23,
    "start_time": "2022-06-14T10:21:30.507Z"
   },
   {
    "duration": 33,
    "start_time": "2022-06-14T10:21:30.531Z"
   },
   {
    "duration": 334,
    "start_time": "2022-06-14T10:21:30.566Z"
   },
   {
    "duration": 21,
    "start_time": "2022-06-14T10:21:30.902Z"
   },
   {
    "duration": 8,
    "start_time": "2022-06-14T10:21:30.926Z"
   },
   {
    "duration": 278,
    "start_time": "2022-06-14T10:21:30.936Z"
   },
   {
    "duration": 172,
    "start_time": "2022-06-14T10:21:31.216Z"
   },
   {
    "duration": 213,
    "start_time": "2022-06-14T10:21:31.394Z"
   },
   {
    "duration": 162,
    "start_time": "2022-06-14T10:21:31.608Z"
   },
   {
    "duration": 128,
    "start_time": "2022-06-14T10:21:31.771Z"
   },
   {
    "duration": 145,
    "start_time": "2022-06-14T10:21:31.901Z"
   },
   {
    "duration": 167,
    "start_time": "2022-06-14T10:21:32.048Z"
   },
   {
    "duration": 148,
    "start_time": "2022-06-14T10:21:32.216Z"
   },
   {
    "duration": 162,
    "start_time": "2022-06-14T10:21:32.365Z"
   },
   {
    "duration": 9,
    "start_time": "2022-06-14T10:21:32.529Z"
   },
   {
    "duration": 10,
    "start_time": "2022-06-14T10:21:32.540Z"
   },
   {
    "duration": 469,
    "start_time": "2022-06-14T10:21:32.552Z"
   },
   {
    "duration": 7,
    "start_time": "2022-06-14T10:21:33.022Z"
   },
   {
    "duration": 35,
    "start_time": "2022-06-14T10:21:33.030Z"
   },
   {
    "duration": 135,
    "start_time": "2022-06-14T10:21:33.067Z"
   },
   {
    "duration": 146,
    "start_time": "2022-06-14T10:21:33.203Z"
   },
   {
    "duration": 103,
    "start_time": "2022-06-14T10:21:33.351Z"
   },
   {
    "duration": 149,
    "start_time": "2022-06-14T10:21:33.457Z"
   },
   {
    "duration": 122,
    "start_time": "2022-06-14T10:21:33.608Z"
   },
   {
    "duration": 528,
    "start_time": "2022-06-14T10:21:33.731Z"
   },
   {
    "duration": 166,
    "start_time": "2022-06-14T10:21:34.261Z"
   },
   {
    "duration": 179,
    "start_time": "2022-06-14T10:21:34.429Z"
   },
   {
    "duration": 169,
    "start_time": "2022-06-14T10:21:34.610Z"
   },
   {
    "duration": 156,
    "start_time": "2022-06-14T10:21:34.780Z"
   },
   {
    "duration": 582,
    "start_time": "2022-06-14T10:27:13.766Z"
   },
   {
    "duration": 117,
    "start_time": "2022-06-14T10:27:14.350Z"
   },
   {
    "duration": 37,
    "start_time": "2022-06-14T10:27:14.468Z"
   },
   {
    "duration": 11,
    "start_time": "2022-06-14T10:27:14.507Z"
   },
   {
    "duration": 7187,
    "start_time": "2022-06-14T10:27:14.520Z"
   },
   {
    "duration": 21,
    "start_time": "2022-06-14T10:27:21.709Z"
   },
   {
    "duration": 34,
    "start_time": "2022-06-14T10:27:21.732Z"
   },
   {
    "duration": 352,
    "start_time": "2022-06-14T10:27:21.768Z"
   },
   {
    "duration": 22,
    "start_time": "2022-06-14T10:27:22.122Z"
   },
   {
    "duration": 9,
    "start_time": "2022-06-14T10:27:22.146Z"
   },
   {
    "duration": 281,
    "start_time": "2022-06-14T10:27:22.156Z"
   },
   {
    "duration": 215,
    "start_time": "2022-06-14T10:27:22.439Z"
   },
   {
    "duration": 266,
    "start_time": "2022-06-14T10:27:22.656Z"
   },
   {
    "duration": 236,
    "start_time": "2022-06-14T10:27:22.923Z"
   },
   {
    "duration": 147,
    "start_time": "2022-06-14T10:27:23.161Z"
   },
   {
    "duration": 161,
    "start_time": "2022-06-14T10:27:23.310Z"
   },
   {
    "duration": 188,
    "start_time": "2022-06-14T10:27:23.473Z"
   },
   {
    "duration": 191,
    "start_time": "2022-06-14T10:27:23.663Z"
   },
   {
    "duration": 168,
    "start_time": "2022-06-14T10:27:23.857Z"
   },
   {
    "duration": 11,
    "start_time": "2022-06-14T10:27:24.026Z"
   },
   {
    "duration": 15,
    "start_time": "2022-06-14T10:27:24.038Z"
   },
   {
    "duration": 539,
    "start_time": "2022-06-14T10:27:24.054Z"
   },
   {
    "duration": 8,
    "start_time": "2022-06-14T10:27:24.594Z"
   },
   {
    "duration": 49,
    "start_time": "2022-06-14T10:27:24.603Z"
   },
   {
    "duration": 150,
    "start_time": "2022-06-14T10:27:24.654Z"
   },
   {
    "duration": 156,
    "start_time": "2022-06-14T10:27:24.806Z"
   },
   {
    "duration": 124,
    "start_time": "2022-06-14T10:27:24.964Z"
   },
   {
    "duration": 163,
    "start_time": "2022-06-14T10:27:25.093Z"
   },
   {
    "duration": 140,
    "start_time": "2022-06-14T10:27:25.258Z"
   },
   {
    "duration": 563,
    "start_time": "2022-06-14T10:27:25.399Z"
   },
   {
    "duration": 187,
    "start_time": "2022-06-14T10:27:25.964Z"
   },
   {
    "duration": 184,
    "start_time": "2022-06-14T10:27:26.153Z"
   },
   {
    "duration": 176,
    "start_time": "2022-06-14T10:27:26.338Z"
   },
   {
    "duration": 165,
    "start_time": "2022-06-14T10:27:26.516Z"
   }
  ],
  "kernelspec": {
   "display_name": "Python 3 (ipykernel)",
   "language": "python",
   "name": "python3"
  },
  "language_info": {
   "codemirror_mode": {
    "name": "ipython",
    "version": 3
   },
   "file_extension": ".py",
   "mimetype": "text/x-python",
   "name": "python",
   "nbconvert_exporter": "python",
   "pygments_lexer": "ipython3",
   "version": "3.10.7"
  },
  "toc": {
   "base_numbering": 1,
   "nav_menu": {},
   "number_sections": true,
   "sideBar": true,
   "skip_h1_title": true,
   "title_cell": "Содержание",
   "title_sidebar": "Contents",
   "toc_cell": true,
   "toc_position": {},
   "toc_section_display": true,
   "toc_window_display": true
  }
 },
 "nbformat": 4,
 "nbformat_minor": 4
}
