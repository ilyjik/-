{
 "cells": [
  {
   "cell_type": "markdown",
   "metadata": {
    "id": "E0vqbgi9ay0H"
   },
   "source": [
    "# Яндекс.Музыка"
   ]
  },
  {
   "cell_type": "markdown",
   "metadata": {
    "id": "VUC88oWjTJw2"
   },
   "source": [
    "Сравнение Москвы и Петербурга окружено мифами. Например:\n",
    " * Москва — мегаполис, подчинённый жёсткому ритму рабочей недели;\n",
    " * Петербург — культурная столица, со своими вкусами.\n",
    "\n",
    "На данных Яндекс.Музыки вы сравните поведение пользователей двух столиц.\n",
    "\n",
    "**Цель исследования** — проверьте три гипотезы:\n",
    "1. Активность пользователей зависит от дня недели. Причём в Москве и Петербурге это проявляется по-разному.\n",
    "2. В понедельник утром в Москве преобладают одни жанры, а в Петербурге — другие. Так же и вечером пятницы преобладают разные жанры — в зависимости от города. \n",
    "3. Москва и Петербург предпочитают разные жанры музыки. В Москве чаще слушают поп-музыку, в Петербурге — русский рэп.\n",
    "\n",
    "**Ход исследования**\n",
    "\n",
    "Данные о поведении пользователей вы получите из файла `yandex_music_project.csv`. О качестве данных ничего не известно. Поэтому перед проверкой гипотез понадобится обзор данных. \n",
    "\n",
    "Вы проверите данные на ошибки и оцените их влияние на исследование. Затем, на этапе предобработки вы поищете возможность исправить самые критичные ошибки данных.\n",
    " \n",
    "Таким образом, исследование пройдёт в три этапа:\n",
    " 1. Обзор данных.\n",
    " 2. Предобработка данных.\n",
    " 3. Проверка гипотез.\n",
    "\n"
   ]
  },
  {
   "cell_type": "markdown",
   "metadata": {
    "id": "Ml1hmfXC_Zcs"
   },
   "source": [
    "## Обзор данных\n",
    "\n",
    "Составьте первое представление о данных Яндекс.Музыки.\n",
    "\n",
    "\n"
   ]
  },
  {
   "cell_type": "markdown",
   "metadata": {
    "id": "57eAOGIz_Zcs"
   },
   "source": [
    "Основной инструмент аналитика — `pandas`. Импортируйте эту библиотеку."
   ]
  },
  {
   "cell_type": "code",
   "execution_count": 1,
   "metadata": {
    "id": "AXN7PHPN_Zcs"
   },
   "outputs": [],
   "source": [
    "# импорт библиотеки pandas\n",
    "import pandas as pd"
   ]
  },
  {
   "cell_type": "markdown",
   "metadata": {
    "id": "SG23P8tt_Zcs"
   },
   "source": [
    "Прочитайте файл `yandex_music_project.csv` из папки `/datasets` и сохраните его в переменной `df`:"
   ]
  },
  {
   "cell_type": "code",
   "execution_count": 2,
   "metadata": {
    "id": "fFVu7vqh_Zct"
   },
   "outputs": [],
   "source": [
    "# чтение файла с данными и сохранение в df\n",
    "df = pd.read_csv('/datasets/yandex_music_project.csv')"
   ]
  },
  {
   "cell_type": "markdown",
   "metadata": {
    "id": "rDoOMd3uTqnZ"
   },
   "source": [
    "Выведите на экран первые десять строк таблицы:"
   ]
  },
  {
   "cell_type": "code",
   "execution_count": 3,
   "metadata": {
    "id": "oWTVX3gW_Zct"
   },
   "outputs": [
    {
     "data": {
      "text/html": [
       "<div>\n",
       "<style scoped>\n",
       "    .dataframe tbody tr th:only-of-type {\n",
       "        vertical-align: middle;\n",
       "    }\n",
       "\n",
       "    .dataframe tbody tr th {\n",
       "        vertical-align: top;\n",
       "    }\n",
       "\n",
       "    .dataframe thead th {\n",
       "        text-align: right;\n",
       "    }\n",
       "</style>\n",
       "<table border=\"1\" class=\"dataframe\">\n",
       "  <thead>\n",
       "    <tr style=\"text-align: right;\">\n",
       "      <th></th>\n",
       "      <th>userID</th>\n",
       "      <th>Track</th>\n",
       "      <th>artist</th>\n",
       "      <th>genre</th>\n",
       "      <th>City</th>\n",
       "      <th>time</th>\n",
       "      <th>Day</th>\n",
       "    </tr>\n",
       "  </thead>\n",
       "  <tbody>\n",
       "    <tr>\n",
       "      <th>0</th>\n",
       "      <td>FFB692EC</td>\n",
       "      <td>Kamigata To Boots</td>\n",
       "      <td>The Mass Missile</td>\n",
       "      <td>rock</td>\n",
       "      <td>Saint-Petersburg</td>\n",
       "      <td>20:28:33</td>\n",
       "      <td>Wednesday</td>\n",
       "    </tr>\n",
       "    <tr>\n",
       "      <th>1</th>\n",
       "      <td>55204538</td>\n",
       "      <td>Delayed Because of Accident</td>\n",
       "      <td>Andreas Rönnberg</td>\n",
       "      <td>rock</td>\n",
       "      <td>Moscow</td>\n",
       "      <td>14:07:09</td>\n",
       "      <td>Friday</td>\n",
       "    </tr>\n",
       "    <tr>\n",
       "      <th>2</th>\n",
       "      <td>20EC38</td>\n",
       "      <td>Funiculì funiculà</td>\n",
       "      <td>Mario Lanza</td>\n",
       "      <td>pop</td>\n",
       "      <td>Saint-Petersburg</td>\n",
       "      <td>20:58:07</td>\n",
       "      <td>Wednesday</td>\n",
       "    </tr>\n",
       "    <tr>\n",
       "      <th>3</th>\n",
       "      <td>A3DD03C9</td>\n",
       "      <td>Dragons in the Sunset</td>\n",
       "      <td>Fire + Ice</td>\n",
       "      <td>folk</td>\n",
       "      <td>Saint-Petersburg</td>\n",
       "      <td>08:37:09</td>\n",
       "      <td>Monday</td>\n",
       "    </tr>\n",
       "    <tr>\n",
       "      <th>4</th>\n",
       "      <td>E2DC1FAE</td>\n",
       "      <td>Soul People</td>\n",
       "      <td>Space Echo</td>\n",
       "      <td>dance</td>\n",
       "      <td>Moscow</td>\n",
       "      <td>08:34:34</td>\n",
       "      <td>Monday</td>\n",
       "    </tr>\n",
       "    <tr>\n",
       "      <th>5</th>\n",
       "      <td>842029A1</td>\n",
       "      <td>Преданная</td>\n",
       "      <td>IMPERVTOR</td>\n",
       "      <td>rusrap</td>\n",
       "      <td>Saint-Petersburg</td>\n",
       "      <td>13:09:41</td>\n",
       "      <td>Friday</td>\n",
       "    </tr>\n",
       "    <tr>\n",
       "      <th>6</th>\n",
       "      <td>4CB90AA5</td>\n",
       "      <td>True</td>\n",
       "      <td>Roman Messer</td>\n",
       "      <td>dance</td>\n",
       "      <td>Moscow</td>\n",
       "      <td>13:00:07</td>\n",
       "      <td>Wednesday</td>\n",
       "    </tr>\n",
       "    <tr>\n",
       "      <th>7</th>\n",
       "      <td>F03E1C1F</td>\n",
       "      <td>Feeling This Way</td>\n",
       "      <td>Polina Griffith</td>\n",
       "      <td>dance</td>\n",
       "      <td>Moscow</td>\n",
       "      <td>20:47:49</td>\n",
       "      <td>Wednesday</td>\n",
       "    </tr>\n",
       "    <tr>\n",
       "      <th>8</th>\n",
       "      <td>8FA1D3BE</td>\n",
       "      <td>И вновь продолжается бой</td>\n",
       "      <td>NaN</td>\n",
       "      <td>ruspop</td>\n",
       "      <td>Moscow</td>\n",
       "      <td>09:17:40</td>\n",
       "      <td>Friday</td>\n",
       "    </tr>\n",
       "    <tr>\n",
       "      <th>9</th>\n",
       "      <td>E772D5C0</td>\n",
       "      <td>Pessimist</td>\n",
       "      <td>NaN</td>\n",
       "      <td>dance</td>\n",
       "      <td>Saint-Petersburg</td>\n",
       "      <td>21:20:49</td>\n",
       "      <td>Wednesday</td>\n",
       "    </tr>\n",
       "  </tbody>\n",
       "</table>\n",
       "</div>"
      ],
      "text/plain": [
       "     userID                        Track            artist   genre  \\\n",
       "0  FFB692EC            Kamigata To Boots  The Mass Missile    rock   \n",
       "1  55204538  Delayed Because of Accident  Andreas Rönnberg    rock   \n",
       "2    20EC38            Funiculì funiculà       Mario Lanza     pop   \n",
       "3  A3DD03C9        Dragons in the Sunset        Fire + Ice    folk   \n",
       "4  E2DC1FAE                  Soul People        Space Echo   dance   \n",
       "5  842029A1                    Преданная         IMPERVTOR  rusrap   \n",
       "6  4CB90AA5                         True      Roman Messer   dance   \n",
       "7  F03E1C1F             Feeling This Way   Polina Griffith   dance   \n",
       "8  8FA1D3BE     И вновь продолжается бой               NaN  ruspop   \n",
       "9  E772D5C0                    Pessimist               NaN   dance   \n",
       "\n",
       "             City        time        Day  \n",
       "0  Saint-Petersburg  20:28:33  Wednesday  \n",
       "1            Moscow  14:07:09     Friday  \n",
       "2  Saint-Petersburg  20:58:07  Wednesday  \n",
       "3  Saint-Petersburg  08:37:09     Monday  \n",
       "4            Moscow  08:34:34     Monday  \n",
       "5  Saint-Petersburg  13:09:41     Friday  \n",
       "6            Moscow  13:00:07  Wednesday  \n",
       "7            Moscow  20:47:49  Wednesday  \n",
       "8            Moscow  09:17:40     Friday  \n",
       "9  Saint-Petersburg  21:20:49  Wednesday  "
      ]
     },
     "execution_count": 3,
     "metadata": {},
     "output_type": "execute_result"
    }
   ],
   "source": [
    "# получение первых 10 строк таблицы df\n",
    "df.head(10)"
   ]
  },
  {
   "cell_type": "markdown",
   "metadata": {
    "id": "EO73Kwic_Zct"
   },
   "source": [
    "Одной командой получить общую информацию о таблице:"
   ]
  },
  {
   "cell_type": "code",
   "execution_count": 5,
   "metadata": {
    "id": "DSf2kIb-_Zct"
   },
   "outputs": [
    {
     "name": "stdout",
     "output_type": "stream",
     "text": [
      "<class 'pandas.core.frame.DataFrame'>\n",
      "RangeIndex: 65079 entries, 0 to 65078\n",
      "Data columns (total 7 columns):\n",
      " #   Column    Non-Null Count  Dtype \n",
      "---  ------    --------------  ----- \n",
      " 0     userID  65079 non-null  object\n",
      " 1   Track     63848 non-null  object\n",
      " 2   artist    57876 non-null  object\n",
      " 3   genre     63881 non-null  object\n",
      " 4     City    65079 non-null  object\n",
      " 5   time      65079 non-null  object\n",
      " 6   Day       65079 non-null  object\n",
      "dtypes: object(7)\n",
      "memory usage: 3.5+ MB\n"
     ]
    }
   ],
   "source": [
    "# получение общей информации о данных в таблице df\n",
    "df.info()"
   ]
  },
  {
   "cell_type": "markdown",
   "metadata": {
    "id": "TaQ2Iwbr_Zct"
   },
   "source": [
    "Итак, в таблице семь столбцов. Тип данных во всех столбцах — `object`.\n",
    "\n",
    "Согласно документации к данным:\n",
    "* `userID` — идентификатор пользователя;\n",
    "* `Track` — название трека;  \n",
    "* `artist` — имя исполнителя;\n",
    "* `genre` — название жанра;\n",
    "* `City` — город пользователя;\n",
    "* `time` — время начала прослушивания;\n",
    "* `Day` — день недели.\n",
    "\n",
    "В названиях колонок видны три нарушения стиля:\n",
    "1. Строчные буквы сочетаются с прописными.\n",
    "2. Встречаются пробелы.\n",
    "3. Найдите ещё одну проблему в названии колонок и опишите её в этом пункте.\n",
    "\n",
    "\n",
    "\n",
    "Количество значений в столбцах различается. Значит, в данных есть пропущенные значения.\n"
   ]
  },
  {
   "cell_type": "markdown",
   "metadata": {
    "id": "MCB6-dXG_Zct"
   },
   "source": [
    "**Выводы**\n",
    "\n",
    "В каждой строке таблицы — данные о прослушанном треке. Часть колонок описывает саму композицию: название, исполнителя и жанр. Остальные данные рассказывают о пользователе: из какого он города, когда он слушал музыку. \n",
    "\n",
    "Предварительно можно утверждать, что, данных достаточно для проверки гипотез. Но встречаются пропуски в данных, а в названиях колонок — расхождения с хорошим стилем.\n",
    "\n",
    "Чтобы двигаться дальше, нужно устранить проблемы в данных."
   ]
  },
  {
   "cell_type": "markdown",
   "metadata": {
    "id": "SjYF6Ub9_Zct"
   },
   "source": [
    "## Предобработка данных\n",
    "Исправьте стиль в заголовках столбцов, исключите пропуски. Затем проверьте данные на дубликаты."
   ]
  },
  {
   "cell_type": "markdown",
   "metadata": {
    "id": "dIaKXr29_Zct"
   },
   "source": [
    "### Стиль заголовков\n",
    "Выведите на экран названия столбцов:"
   ]
  },
  {
   "cell_type": "code",
   "execution_count": 6,
   "metadata": {
    "id": "oKOTdF_Q_Zct"
   },
   "outputs": [
    {
     "data": {
      "text/plain": [
       "Index(['  userID', 'Track', 'artist', 'genre', '  City  ', 'time', 'Day'], dtype='object')"
      ]
     },
     "execution_count": 6,
     "metadata": {},
     "output_type": "execute_result"
    }
   ],
   "source": [
    "# перечень названий столбцов таблицы df\n",
    "df.columns"
   ]
  },
  {
   "cell_type": "markdown",
   "metadata": {
    "id": "FPZA3ki8xe7T"
   },
   "source": []
  },
  {
   "cell_type": "markdown",
   "metadata": {
    "id": "zj5534cv_Zct"
   },
   "source": [
    "Приведите названия в соответствие с хорошим стилем:\n",
    "* несколько слов в названии запишите в «змеином_регистре»,\n",
    "* все символы сделайте строчными,\n",
    "* устраните пробелы.\n",
    "\n",
    "Для этого переименуйте колонки так:\n",
    "* `'  userID'` → `'user_id'`;\n",
    "* `'Track'` → `'track'`;\n",
    "* `'  City  '` → `'city'`;\n",
    "* `'Day'` → `'day'`."
   ]
  },
  {
   "cell_type": "code",
   "execution_count": 7,
   "metadata": {
    "id": "ISlFqs5y_Zct"
   },
   "outputs": [],
   "source": [
    "# переименование столбцов\n",
    "df = df.rename(columns = {'  userID':'user_id', 'Track':'track', '  City  ':'city', 'Day':'day'})"
   ]
  },
  {
   "cell_type": "markdown",
   "metadata": {
    "id": "1dqbh00J_Zct"
   },
   "source": [
    "Проверьте результат. Для этого ещё раз выведите на экран названия столбцов:"
   ]
  },
  {
   "cell_type": "code",
   "execution_count": 8,
   "metadata": {
    "id": "d4NOAmTW_Zct"
   },
   "outputs": [
    {
     "data": {
      "text/plain": [
       "Index(['user_id', 'track', 'artist', 'genre', 'city', 'time', 'day'], dtype='object')"
      ]
     },
     "execution_count": 8,
     "metadata": {},
     "output_type": "execute_result"
    }
   ],
   "source": [
    "# проверка результатов - перечень названий столбцов\n",
    "df.columns"
   ]
  },
  {
   "cell_type": "markdown",
   "metadata": {
    "id": "5ISfbcfY_Zct"
   },
   "source": [
    "### Пропуски значений\n",
    "Сначала посчитайте, сколько в таблице пропущенных значений. Для этого достаточно двух методов `pandas`:"
   ]
  },
  {
   "cell_type": "code",
   "execution_count": 9,
   "metadata": {
    "id": "RskX29qr_Zct"
   },
   "outputs": [
    {
     "data": {
      "text/plain": [
       "user_id       0\n",
       "track      1231\n",
       "artist     7203\n",
       "genre      1198\n",
       "city          0\n",
       "time          0\n",
       "day           0\n",
       "dtype: int64"
      ]
     },
     "execution_count": 9,
     "metadata": {},
     "output_type": "execute_result"
    }
   ],
   "source": [
    "# подсчёт пропусков\n",
    "df.isna().sum()"
   ]
  },
  {
   "cell_type": "markdown",
   "metadata": {
    "id": "qubhgnlO_Zct"
   },
   "source": [
    "Не все пропущенные значения влияют на исследование. Так в `track` и `artist` пропуски не важны для вашей работы. Достаточно заменить их явными обозначениями.\n",
    "\n",
    "Но пропуски в `genre` могут помешать сравнению музыкальных вкусов в Москве и Санкт-Петербурге. На практике было бы правильно установить причину пропусков и восстановить данные. Такой возможности нет в учебном проекте. Придётся:\n",
    "* заполнить и эти пропуски явными обозначениями,\n",
    "* оценить, насколько они повредят расчётам. "
   ]
  },
  {
   "cell_type": "markdown",
   "metadata": {
    "id": "fSv2laPA_Zct"
   },
   "source": [
    "Замените пропущенные значения в столбцах `track`, `artist` и `genre` на строку `'unknown'`. Для этого создайте список `columns_to_replace`, переберите его элементы циклом `for` и для каждого столбца выполните замену пропущенных значений:"
   ]
  },
  {
   "cell_type": "code",
   "execution_count": 10,
   "metadata": {
    "id": "KplB5qWs_Zct"
   },
   "outputs": [],
   "source": [
    "# перебор названий столбцов в цикле и замена пропущенных значений на 'unknown'\n",
    "columns_to_replace = ['track', 'artist', 'genre']\n",
    "for i in columns_to_replace:\n",
    "    df[i] = df[i].fillna('unknown')"
   ]
  },
  {
   "cell_type": "markdown",
   "metadata": {
    "id": "Ilsm-MZo_Zct"
   },
   "source": [
    "Убедитесь, что в таблице не осталось пропусков. Для этого ещё раз посчитайте пропущенные значения."
   ]
  },
  {
   "cell_type": "code",
   "execution_count": 11,
   "metadata": {
    "id": "Tq4nYRX4_Zct"
   },
   "outputs": [
    {
     "data": {
      "text/plain": [
       "user_id    0\n",
       "track      0\n",
       "artist     0\n",
       "genre      0\n",
       "city       0\n",
       "time       0\n",
       "day        0\n",
       "dtype: int64"
      ]
     },
     "execution_count": 11,
     "metadata": {},
     "output_type": "execute_result"
    }
   ],
   "source": [
    "# подсчёт пропусков\n",
    "df.isna().sum()"
   ]
  },
  {
   "cell_type": "markdown",
   "metadata": {
    "id": "BWKRtBJ3_Zct"
   },
   "source": [
    "### Дубликаты\n",
    "Посчитайте явные дубликаты в таблице одной командой:"
   ]
  },
  {
   "cell_type": "code",
   "execution_count": 12,
   "metadata": {
    "id": "36eES_S0_Zct"
   },
   "outputs": [
    {
     "data": {
      "text/plain": [
       "3826"
      ]
     },
     "execution_count": 12,
     "metadata": {},
     "output_type": "execute_result"
    }
   ],
   "source": [
    "# подсчёт явных дубликатов\n",
    "df.duplicated().sum()"
   ]
  },
  {
   "cell_type": "markdown",
   "metadata": {
    "id": "Ot25h6XR_Zct"
   },
   "source": [
    "Вызовите специальный метод `pandas`, чтобы удалить явные дубликаты:"
   ]
  },
  {
   "cell_type": "code",
   "execution_count": 13,
   "metadata": {
    "id": "exFHq6tt_Zct"
   },
   "outputs": [],
   "source": [
    "# удаление явных дубликатов (с удалением старых индексов и формированием новых)\n",
    "df = df.drop_duplicates().reset_index(drop = True)"
   ]
  },
  {
   "cell_type": "markdown",
   "metadata": {
    "id": "Im2YwBEG_Zct"
   },
   "source": [
    "Ещё раз посчитайте явные дубликаты в таблице — убедитесь, что полностью от них избавились:"
   ]
  },
  {
   "cell_type": "code",
   "execution_count": 14,
   "metadata": {
    "id": "-8PuNWQ0_Zct"
   },
   "outputs": [
    {
     "data": {
      "text/plain": [
       "0"
      ]
     },
     "execution_count": 14,
     "metadata": {},
     "output_type": "execute_result"
    }
   ],
   "source": [
    "# проверка на отсутствие дубликатов\n",
    "df.duplicated().sum()"
   ]
  },
  {
   "cell_type": "markdown",
   "metadata": {
    "id": "QlFBsxAr_Zct"
   },
   "source": [
    "Теперь избавьтесь от неявных дубликатов в колонке `genre`. Например, название одного и того же жанра может быть записано немного по-разному. Такие ошибки тоже повлияют на результат исследования."
   ]
  },
  {
   "cell_type": "markdown",
   "metadata": {
    "id": "eSjWwsOh_Zct"
   },
   "source": [
    "Выведите на экран список уникальных названий жанров, отсортированный в алфавитном порядке. Для этого:\n",
    "* извлеките нужный столбец датафрейма, \n",
    "* примените к нему метод сортировки,\n",
    "* для отсортированного столбца вызовите метод, который вернёт уникальные значения из столбца."
   ]
  },
  {
   "cell_type": "code",
   "execution_count": 15,
   "metadata": {
    "id": "JIUcqzZN_Zct"
   },
   "outputs": [
    {
     "data": {
      "text/plain": [
       "array(['acid', 'acoustic', 'action', 'adult', 'africa', 'afrikaans',\n",
       "       'alternative', 'alternativepunk', 'ambient', 'americana',\n",
       "       'animated', 'anime', 'arabesk', 'arabic', 'arena',\n",
       "       'argentinetango', 'art', 'audiobook', 'author', 'avantgarde',\n",
       "       'axé', 'baile', 'balkan', 'beats', 'bigroom', 'black', 'bluegrass',\n",
       "       'blues', 'bollywood', 'bossa', 'brazilian', 'breakbeat', 'breaks',\n",
       "       'broadway', 'cantautori', 'cantopop', 'canzone', 'caribbean',\n",
       "       'caucasian', 'celtic', 'chamber', 'chanson', 'children', 'chill',\n",
       "       'chinese', 'choral', 'christian', 'christmas', 'classical',\n",
       "       'classicmetal', 'club', 'colombian', 'comedy', 'conjazz',\n",
       "       'contemporary', 'country', 'cuban', 'dance', 'dancehall',\n",
       "       'dancepop', 'dark', 'death', 'deep', 'deutschrock', 'deutschspr',\n",
       "       'dirty', 'disco', 'dnb', 'documentary', 'downbeat', 'downtempo',\n",
       "       'drum', 'dub', 'dubstep', 'eastern', 'easy', 'electronic',\n",
       "       'electropop', 'emo', 'entehno', 'epicmetal', 'estrada', 'ethnic',\n",
       "       'eurofolk', 'european', 'experimental', 'extrememetal', 'fado',\n",
       "       'fairytail', 'film', 'fitness', 'flamenco', 'folk', 'folklore',\n",
       "       'folkmetal', 'folkrock', 'folktronica', 'forró', 'frankreich',\n",
       "       'französisch', 'french', 'funk', 'future', 'gangsta', 'garage',\n",
       "       'german', 'ghazal', 'gitarre', 'glitch', 'gospel', 'gothic',\n",
       "       'grime', 'grunge', 'gypsy', 'handsup', \"hard'n'heavy\", 'hardcore',\n",
       "       'hardstyle', 'hardtechno', 'hip', 'hip-hop', 'hiphop',\n",
       "       'historisch', 'holiday', 'hop', 'horror', 'house', 'hymn', 'idm',\n",
       "       'independent', 'indian', 'indie', 'indipop', 'industrial',\n",
       "       'inspirational', 'instrumental', 'international', 'irish', 'jam',\n",
       "       'japanese', 'jazz', 'jewish', 'jpop', 'jungle', 'k-pop',\n",
       "       'karadeniz', 'karaoke', 'kayokyoku', 'korean', 'laiko', 'latin',\n",
       "       'latino', 'leftfield', 'local', 'lounge', 'loungeelectronic',\n",
       "       'lovers', 'malaysian', 'mandopop', 'marschmusik', 'meditative',\n",
       "       'mediterranean', 'melodic', 'metal', 'metalcore', 'mexican',\n",
       "       'middle', 'minimal', 'miscellaneous', 'modern', 'mood', 'mpb',\n",
       "       'muslim', 'native', 'neoklassik', 'neue', 'new', 'newage',\n",
       "       'newwave', 'nu', 'nujazz', 'numetal', 'oceania', 'old', 'opera',\n",
       "       'orchestral', 'other', 'piano', 'podcasts', 'pop', 'popdance',\n",
       "       'popelectronic', 'popeurodance', 'poprussian', 'post',\n",
       "       'posthardcore', 'postrock', 'power', 'progmetal', 'progressive',\n",
       "       'psychedelic', 'punjabi', 'punk', 'quebecois', 'ragga', 'ram',\n",
       "       'rancheras', 'rap', 'rave', 'reggae', 'reggaeton', 'regional',\n",
       "       'relax', 'religious', 'retro', 'rhythm', 'rnb', 'rnr', 'rock',\n",
       "       'rockabilly', 'rockalternative', 'rockindie', 'rockother',\n",
       "       'romance', 'roots', 'ruspop', 'rusrap', 'rusrock', 'russian',\n",
       "       'salsa', 'samba', 'scenic', 'schlager', 'self', 'sertanejo',\n",
       "       'shanson', 'shoegazing', 'showtunes', 'singer', 'ska', 'skarock',\n",
       "       'slow', 'smooth', 'soft', 'soul', 'soulful', 'sound', 'soundtrack',\n",
       "       'southern', 'specialty', 'speech', 'spiritual', 'sport',\n",
       "       'stonerrock', 'surf', 'swing', 'synthpop', 'synthrock',\n",
       "       'sängerportrait', 'tango', 'tanzorchester', 'taraftar', 'tatar',\n",
       "       'tech', 'techno', 'teen', 'thrash', 'top', 'traditional',\n",
       "       'tradjazz', 'trance', 'tribal', 'trip', 'triphop', 'tropical',\n",
       "       'türk', 'türkçe', 'ukrrock', 'unknown', 'urban', 'uzbek',\n",
       "       'variété', 'vi', 'videogame', 'vocal', 'western', 'world',\n",
       "       'worldbeat', 'ïîï', 'электроника'], dtype=object)"
      ]
     },
     "execution_count": 15,
     "metadata": {},
     "output_type": "execute_result"
    }
   ],
   "source": [
    "# Просмотр уникальных названий жанров\n",
    "df = df.sort_values(by = 'genre')\n",
    "df['genre'].unique()\n"
   ]
  },
  {
   "cell_type": "markdown",
   "metadata": {
    "id": "qej-Qmuo_Zct"
   },
   "source": [
    "Просмотрите список и найдите неявные дубликаты названия `hiphop`. Это могут быть названия с ошибками или альтернативные названия того же жанра.\n",
    "\n",
    "Вы увидите следующие неявные дубликаты:\n",
    "* *hip*,\n",
    "* *hop*,\n",
    "* *hip-hop*.\n",
    "\n",
    "Чтобы очистить от них таблицу, напишите функцию `replace_wrong_genres()` с двумя параметрами: \n",
    "* `wrong_genres` — список дубликатов,\n",
    "* `correct_genre` — строка с правильным значением.\n",
    "\n",
    "Функция должна исправить колонку `genre` в таблице `df`: заменить каждое значение из списка `wrong_genres` на значение из `correct_genre`."
   ]
  },
  {
   "cell_type": "code",
   "execution_count": 17,
   "metadata": {
    "id": "ErNDkmns_Zct"
   },
   "outputs": [],
   "source": [
    "# Функция для замены неявных дубликатов\n",
    "def replace_wrong_genres(wrong_genres, correct_genre):\n",
    "    for i in wrong_genres:\n",
    "        df['genre'] = df['genre'].replace(i, correct_genre)"
   ]
  },
  {
   "cell_type": "markdown",
   "metadata": {
    "id": "aDoBJxbA_Zct"
   },
   "source": [
    "Вызовите `replace_wrong_genres()` и передайте ей такие аргументы, чтобы она устранила неявные дубликаты: вместо `hip`, `hop` и `hip-hop` в таблице должно быть значение `hiphop`:"
   ]
  },
  {
   "cell_type": "code",
   "execution_count": 18,
   "metadata": {
    "id": "YN5i2hpmSo09"
   },
   "outputs": [],
   "source": [
    "wrong = ['hip', 'hop', 'hip-hop']\n",
    "correct = 'hiphop'\n",
    "replace_wrong_genres(wrong, correct)\n",
    "# Устранение неявных дубликатов"
   ]
  },
  {
   "cell_type": "markdown",
   "metadata": {
    "id": "zQKF16_RG15m"
   },
   "source": [
    "Проверьте, что заменили неправильные названия:\n",
    "\n",
    "*   hip\n",
    "*   hop\n",
    "*   hip-hop\n",
    "\n",
    "Выведите отсортированный список уникальных значений столбца `genre`:"
   ]
  },
  {
   "cell_type": "code",
   "execution_count": 19,
   "metadata": {
    "id": "wvixALnFG15m"
   },
   "outputs": [
    {
     "data": {
      "text/plain": [
       "array(['acid', 'acoustic', 'action', 'adult', 'africa', 'afrikaans',\n",
       "       'alternative', 'alternativepunk', 'ambient', 'americana',\n",
       "       'animated', 'anime', 'arabesk', 'arabic', 'arena',\n",
       "       'argentinetango', 'art', 'audiobook', 'author', 'avantgarde',\n",
       "       'axé', 'baile', 'balkan', 'beats', 'bigroom', 'black', 'bluegrass',\n",
       "       'blues', 'bollywood', 'bossa', 'brazilian', 'breakbeat', 'breaks',\n",
       "       'broadway', 'cantautori', 'cantopop', 'canzone', 'caribbean',\n",
       "       'caucasian', 'celtic', 'chamber', 'chanson', 'children', 'chill',\n",
       "       'chinese', 'choral', 'christian', 'christmas', 'classical',\n",
       "       'classicmetal', 'club', 'colombian', 'comedy', 'conjazz',\n",
       "       'contemporary', 'country', 'cuban', 'dance', 'dancehall',\n",
       "       'dancepop', 'dark', 'death', 'deep', 'deutschrock', 'deutschspr',\n",
       "       'dirty', 'disco', 'dnb', 'documentary', 'downbeat', 'downtempo',\n",
       "       'drum', 'dub', 'dubstep', 'eastern', 'easy', 'electronic',\n",
       "       'electropop', 'emo', 'entehno', 'epicmetal', 'estrada', 'ethnic',\n",
       "       'eurofolk', 'european', 'experimental', 'extrememetal', 'fado',\n",
       "       'fairytail', 'film', 'fitness', 'flamenco', 'folk', 'folklore',\n",
       "       'folkmetal', 'folkrock', 'folktronica', 'forró', 'frankreich',\n",
       "       'französisch', 'french', 'funk', 'future', 'gangsta', 'garage',\n",
       "       'german', 'ghazal', 'gitarre', 'glitch', 'gospel', 'gothic',\n",
       "       'grime', 'grunge', 'gypsy', 'handsup', \"hard'n'heavy\", 'hardcore',\n",
       "       'hardstyle', 'hardtechno', 'hiphop', 'historisch', 'holiday',\n",
       "       'horror', 'house', 'hymn', 'idm', 'independent', 'indian', 'indie',\n",
       "       'indipop', 'industrial', 'inspirational', 'instrumental',\n",
       "       'international', 'irish', 'jam', 'japanese', 'jazz', 'jewish',\n",
       "       'jpop', 'jungle', 'k-pop', 'karadeniz', 'karaoke', 'kayokyoku',\n",
       "       'korean', 'laiko', 'latin', 'latino', 'leftfield', 'local',\n",
       "       'lounge', 'loungeelectronic', 'lovers', 'malaysian', 'mandopop',\n",
       "       'marschmusik', 'meditative', 'mediterranean', 'melodic', 'metal',\n",
       "       'metalcore', 'mexican', 'middle', 'minimal', 'miscellaneous',\n",
       "       'modern', 'mood', 'mpb', 'muslim', 'native', 'neoklassik', 'neue',\n",
       "       'new', 'newage', 'newwave', 'nu', 'nujazz', 'numetal', 'oceania',\n",
       "       'old', 'opera', 'orchestral', 'other', 'piano', 'podcasts', 'pop',\n",
       "       'popdance', 'popelectronic', 'popeurodance', 'poprussian', 'post',\n",
       "       'posthardcore', 'postrock', 'power', 'progmetal', 'progressive',\n",
       "       'psychedelic', 'punjabi', 'punk', 'quebecois', 'ragga', 'ram',\n",
       "       'rancheras', 'rap', 'rave', 'reggae', 'reggaeton', 'regional',\n",
       "       'relax', 'religious', 'retro', 'rhythm', 'rnb', 'rnr', 'rock',\n",
       "       'rockabilly', 'rockalternative', 'rockindie', 'rockother',\n",
       "       'romance', 'roots', 'ruspop', 'rusrap', 'rusrock', 'russian',\n",
       "       'salsa', 'samba', 'scenic', 'schlager', 'self', 'sertanejo',\n",
       "       'shanson', 'shoegazing', 'showtunes', 'singer', 'ska', 'skarock',\n",
       "       'slow', 'smooth', 'soft', 'soul', 'soulful', 'sound', 'soundtrack',\n",
       "       'southern', 'specialty', 'speech', 'spiritual', 'sport',\n",
       "       'stonerrock', 'surf', 'swing', 'synthpop', 'synthrock',\n",
       "       'sängerportrait', 'tango', 'tanzorchester', 'taraftar', 'tatar',\n",
       "       'tech', 'techno', 'teen', 'thrash', 'top', 'traditional',\n",
       "       'tradjazz', 'trance', 'tribal', 'trip', 'triphop', 'tropical',\n",
       "       'türk', 'türkçe', 'ukrrock', 'unknown', 'urban', 'uzbek',\n",
       "       'variété', 'vi', 'videogame', 'vocal', 'western', 'world',\n",
       "       'worldbeat', 'ïîï', 'электроника'], dtype=object)"
      ]
     },
     "execution_count": 19,
     "metadata": {},
     "output_type": "execute_result"
    }
   ],
   "source": [
    "# Проверка на неявные дубликаты\n",
    "df = df.sort_values(by = 'genre')\n",
    "df['genre'].unique()"
   ]
  },
  {
   "cell_type": "markdown",
   "metadata": {
    "id": "jz6a9-7HQUDd"
   },
   "source": [
    "**Выводы**\n",
    "\n",
    "Предобработка обнаружила три проблемы в данных:\n",
    "\n",
    "- нарушения в стиле заголовков,\n",
    "- пропущенные значения,\n",
    "- дубликаты — явные и неявные.\n",
    "\n",
    "Вы исправили заголовки, чтобы упростить работу с таблицей. Без дубликатов исследование станет более точным.\n",
    "\n",
    "Пропущенные значения вы заменили на `'unknown'`. Ещё предстоит увидеть, не повредят ли исследованию пропуски в колонке `genre`.\n",
    "\n",
    "Теперь можно перейти к проверке гипотез. "
   ]
  },
  {
   "cell_type": "markdown",
   "metadata": {
    "id": "WttZHXH0SqKk"
   },
   "source": [
    "## Проверка гипотез"
   ]
  },
  {
   "cell_type": "markdown",
   "metadata": {
    "id": "Im936VVi_Zcu"
   },
   "source": [
    "### Сравнение поведения пользователей двух столиц"
   ]
  },
  {
   "cell_type": "markdown",
   "metadata": {
    "id": "nwt_MuaL_Zcu"
   },
   "source": [
    "Первая гипотеза утверждает, что пользователи по-разному слушают музыку в Москве и Санкт-Петербурге. Проверьте это предположение по данным о трёх днях недели — понедельнике, среде и пятнице. Для этого:\n",
    "\n",
    "* Разделите пользователей Москвы и Санкт-Петербурга\n",
    "* Сравните, сколько треков послушала каждая группа пользователей в понедельник, среду и пятницу.\n"
   ]
  },
  {
   "cell_type": "markdown",
   "metadata": {
    "id": "8Dw_YMmT_Zcu"
   },
   "source": [
    "Для тренировки сначала выполните каждый из расчётов по отдельности. \n",
    "\n",
    "Оцените активность пользователей в каждом городе. Сгруппируйте данные по городу и посчитайте прослушивания в каждой группе.\n",
    "\n"
   ]
  },
  {
   "cell_type": "code",
   "execution_count": 20,
   "metadata": {
    "id": "0_Qs96oh_Zcu"
   },
   "outputs": [
    {
     "data": {
      "text/plain": [
       "city\n",
       "Moscow              42741\n",
       "Saint-Petersburg    18512\n",
       "Name: user_id, dtype: int64"
      ]
     },
     "execution_count": 20,
     "metadata": {},
     "output_type": "execute_result"
    }
   ],
   "source": [
    "# Подсчёт прослушиваний в каждом городе\n",
    "df.groupby('city')['user_id'].count()"
   ]
  },
  {
   "cell_type": "markdown",
   "metadata": {
    "id": "dzli3w8o_Zcu"
   },
   "source": [
    "В Москве прослушиваний больше, чем в Петербурге. Из этого не следует, что московские пользователи чаще слушают музыку. Просто самих пользователей в Москве больше.\n",
    "\n",
    "Теперь сгруппируйте данные по дню недели и подсчитайте прослушивания в понедельник, среду и пятницу. Учтите, что в данных есть информация о прослушиваниях только за эти дни.\n"
   ]
  },
  {
   "cell_type": "code",
   "execution_count": 21,
   "metadata": {
    "id": "uZMKjiJz_Zcu"
   },
   "outputs": [
    {
     "data": {
      "text/plain": [
       "day\n",
       "Friday       21840\n",
       "Monday       21354\n",
       "Wednesday    18059\n",
       "Name: user_id, dtype: int64"
      ]
     },
     "execution_count": 21,
     "metadata": {},
     "output_type": "execute_result"
    }
   ],
   "source": [
    "# Подсчёт прослушиваний в каждый из трёх дней\n",
    "df.groupby('day')['user_id'].count()"
   ]
  },
  {
   "cell_type": "markdown",
   "metadata": {
    "id": "cC2tNrlL_Zcu"
   },
   "source": [
    "В среднем пользователи из двух городов менее активны по средам. Но картина может измениться, если рассмотреть каждый город в отдельности."
   ]
  },
  {
   "cell_type": "markdown",
   "metadata": {
    "id": "POzs8bGa_Zcu"
   },
   "source": [
    "Вы видели, как работает группировка по городу и по дням недели. Теперь напишите функцию, которая объединит два эти расчёта.\n",
    "\n",
    "Создайте функцию `number_tracks()`, которая посчитает прослушивания для заданного дня и города. Ей понадобятся два параметра:\n",
    "* день недели,\n",
    "* название города.\n",
    "\n",
    "В функции сохраните в переменную строки исходной таблицы, у которых значение:\n",
    "  * в колонке `day` равно параметру `day`,\n",
    "  * в колонке `city` равно параметру `city`.\n",
    "\n",
    "Для этого примените последовательную фильтрацию с логической индексацией.\n",
    "\n",
    "Затем посчитайте значения в столбце `user_id` получившейся таблицы. Результат сохраните в новую переменную. Верните эту переменную из функции."
   ]
  },
  {
   "cell_type": "code",
   "execution_count": 22,
   "metadata": {
    "id": "Nz3GdQB1_Zcu"
   },
   "outputs": [],
   "source": [
    "# <создание функции number_tracks()>\n",
    "# Объявляется функция с двумя параметрами: day, city.\n",
    "# В переменной track_list сохраняются те строки таблицы df, для которых \n",
    "# значение в столбце 'day' равно параметру day и одновременно значение\n",
    "# в столбце 'city' равно параметру city (используйте последовательную фильтрацию\n",
    "# с помощью логической индексации).\n",
    "# В переменной track_list_count сохраняется число значений столбца 'user_id',\n",
    "# рассчитанное методом count() для таблицы track_list.\n",
    "# Функция возвращает число - значение track_list_count.\n",
    "def number_tracks(city, day):\n",
    "    track_list = df[df['day'] == day]\n",
    "    track_list = track_list[track_list['city'] == city]\n",
    "    track_list_count = track_list['user_id'].count()\n",
    "    return track_list_count\n",
    "\n",
    "# Функция для подсчёта прослушиваний для конкретного города и дня.\n",
    "# С помощью последовательной фильтрации с логической индексацией она \n",
    "# сначала получит из исходной таблицы строки с нужным днём,\n",
    "# затем из результата отфильтрует строки с нужным городом,\n",
    "# методом count() посчитает количество значений в колонке user_id. \n",
    "# Это количество функция вернёт в качестве результата"
   ]
  },
  {
   "cell_type": "markdown",
   "metadata": {
    "id": "ytf7xFrFJQ2r"
   },
   "source": [
    "Вызовите `number_tracks()` шесть раз, меняя значение параметров — так, чтобы получить данные для каждого города в каждый из трёх дней."
   ]
  },
  {
   "cell_type": "code",
   "execution_count": 23,
   "metadata": {
    "id": "rJcRATNQ_Zcu"
   },
   "outputs": [
    {
     "data": {
      "text/plain": [
       "15740"
      ]
     },
     "execution_count": 23,
     "metadata": {},
     "output_type": "execute_result"
    }
   ],
   "source": [
    "# количество прослушиваний в Москве по понедельникам\n",
    "number_tracks('Moscow', 'Monday')"
   ]
  },
  {
   "cell_type": "code",
   "execution_count": 24,
   "metadata": {
    "id": "hq_ncZ5T_Zcu"
   },
   "outputs": [
    {
     "data": {
      "text/plain": [
       "5614"
      ]
     },
     "execution_count": 24,
     "metadata": {},
     "output_type": "execute_result"
    }
   ],
   "source": [
    "# количество прослушиваний в Санкт-Петербурге по понедельникам\n",
    "number_tracks('Saint-Petersburg', 'Monday')"
   ]
  },
  {
   "cell_type": "code",
   "execution_count": 25,
   "metadata": {
    "id": "_NTy2VPU_Zcu"
   },
   "outputs": [
    {
     "data": {
      "text/plain": [
       "11056"
      ]
     },
     "execution_count": 25,
     "metadata": {},
     "output_type": "execute_result"
    }
   ],
   "source": [
    "# количество прослушиваний в Москве по средам\n",
    "number_tracks('Moscow', 'Wednesday')"
   ]
  },
  {
   "cell_type": "code",
   "execution_count": 26,
   "metadata": {
    "id": "j2y3TAwo_Zcu"
   },
   "outputs": [
    {
     "data": {
      "text/plain": [
       "7003"
      ]
     },
     "execution_count": 26,
     "metadata": {},
     "output_type": "execute_result"
    }
   ],
   "source": [
    "# количество прослушиваний в Санкт-Петербурге по средам\n",
    "number_tracks('Saint-Petersburg', 'Wednesday')"
   ]
  },
  {
   "cell_type": "code",
   "execution_count": 27,
   "metadata": {
    "id": "vYDw5u_K_Zcu"
   },
   "outputs": [
    {
     "data": {
      "text/plain": [
       "15945"
      ]
     },
     "execution_count": 27,
     "metadata": {},
     "output_type": "execute_result"
    }
   ],
   "source": [
    "# количество прослушиваний в Москве по пятницам\n",
    "number_tracks('Moscow', 'Friday')"
   ]
  },
  {
   "cell_type": "code",
   "execution_count": 28,
   "metadata": {
    "id": "8_yzFtW3_Zcu"
   },
   "outputs": [
    {
     "data": {
      "text/plain": [
       "5895"
      ]
     },
     "execution_count": 28,
     "metadata": {},
     "output_type": "execute_result"
    }
   ],
   "source": [
    "# количество прослушиваний в Санкт-Петербурге по пятницам\n",
    "number_tracks('Saint-Petersburg', 'Friday')"
   ]
  },
  {
   "cell_type": "markdown",
   "metadata": {
    "id": "7QXffbO-_Zcu"
   },
   "source": [
    "Создайте c помощью конструктора `pd.DataFrame` таблицу, где\n",
    "* названия колонок — `['city', 'monday', 'wednesday', 'friday']`;\n",
    "* данные — результаты, которые вы получили с помощью `number_tracks`."
   ]
  },
  {
   "cell_type": "code",
   "execution_count": 29,
   "metadata": {
    "id": "APAcLpOr_Zcu"
   },
   "outputs": [
    {
     "data": {
      "text/html": [
       "<div>\n",
       "<style scoped>\n",
       "    .dataframe tbody tr th:only-of-type {\n",
       "        vertical-align: middle;\n",
       "    }\n",
       "\n",
       "    .dataframe tbody tr th {\n",
       "        vertical-align: top;\n",
       "    }\n",
       "\n",
       "    .dataframe thead th {\n",
       "        text-align: right;\n",
       "    }\n",
       "</style>\n",
       "<table border=\"1\" class=\"dataframe\">\n",
       "  <thead>\n",
       "    <tr style=\"text-align: right;\">\n",
       "      <th></th>\n",
       "      <th>city</th>\n",
       "      <th>monday</th>\n",
       "      <th>wednesday</th>\n",
       "      <th>friday</th>\n",
       "    </tr>\n",
       "  </thead>\n",
       "  <tbody>\n",
       "    <tr>\n",
       "      <th>0</th>\n",
       "      <td>Moscow</td>\n",
       "      <td>15740</td>\n",
       "      <td>11056</td>\n",
       "      <td>15945</td>\n",
       "    </tr>\n",
       "    <tr>\n",
       "      <th>1</th>\n",
       "      <td>Saint-Petersburg</td>\n",
       "      <td>5614</td>\n",
       "      <td>7003</td>\n",
       "      <td>5895</td>\n",
       "    </tr>\n",
       "  </tbody>\n",
       "</table>\n",
       "</div>"
      ],
      "text/plain": [
       "               city  monday  wednesday  friday\n",
       "0            Moscow   15740      11056   15945\n",
       "1  Saint-Petersburg    5614       7003    5895"
      ]
     },
     "metadata": {},
     "output_type": "display_data"
    }
   ],
   "source": [
    "# Таблица с результатами\n",
    "col = ['city', 'monday', 'wednesday', 'friday']\n",
    "data = [['Moscow', number_tracks('Moscow', 'Monday'), number_tracks('Moscow', 'Wednesday'), number_tracks('Moscow', 'Friday')],\n",
    "       ['Saint-Petersburg', number_tracks('Saint-Petersburg', 'Monday'), number_tracks('Saint-Petersburg', 'Wednesday'), number_tracks('Saint-Petersburg', 'Friday')]]\n",
    "city_day_table = pd.DataFrame(data = data, columns = col)\n",
    "display(city_day_table)"
   ]
  },
  {
   "cell_type": "markdown",
   "metadata": {
    "id": "-EgPIHYu_Zcu"
   },
   "source": [
    "**Выводы**\n",
    "\n",
    "Данные показывают разницу поведения пользователей:\n",
    "\n",
    "- В Москве пик прослушиваний приходится на понедельник и пятницу, а в среду заметен спад.\n",
    "- В Петербурге, наоборот, больше слушают музыку по средам. Активность в понедельник и пятницу здесь почти в равной мере уступает среде.\n",
    "\n",
    "Значит, данные говорят в пользу первой гипотезы."
   ]
  },
  {
   "cell_type": "markdown",
   "metadata": {
    "id": "atZAxtq4_Zcu"
   },
   "source": [
    "### Музыка в начале и в конце недели"
   ]
  },
  {
   "cell_type": "markdown",
   "metadata": {
    "id": "eXrQqXFH_Zcu"
   },
   "source": [
    "Согласно второй гипотезе, утром в понедельник в Москве преобладают одни жанры, а в Петербурге — другие. Так же и вечером пятницы преобладают разные жанры — в зависимости от города."
   ]
  },
  {
   "cell_type": "markdown",
   "metadata": {
    "id": "S8UcW6Hw_Zcu"
   },
   "source": [
    "Сохраните таблицы с данными в две переменные:\n",
    "* по Москве — в `moscow_general`;\n",
    "* по Санкт-Петербургу — в `spb_general`."
   ]
  },
  {
   "cell_type": "code",
   "execution_count": 30,
   "metadata": {
    "id": "qeaFfM_P_Zcu"
   },
   "outputs": [
    {
     "data": {
      "text/html": [
       "<div>\n",
       "<style scoped>\n",
       "    .dataframe tbody tr th:only-of-type {\n",
       "        vertical-align: middle;\n",
       "    }\n",
       "\n",
       "    .dataframe tbody tr th {\n",
       "        vertical-align: top;\n",
       "    }\n",
       "\n",
       "    .dataframe thead th {\n",
       "        text-align: right;\n",
       "    }\n",
       "</style>\n",
       "<table border=\"1\" class=\"dataframe\">\n",
       "  <thead>\n",
       "    <tr style=\"text-align: right;\">\n",
       "      <th></th>\n",
       "      <th>user_id</th>\n",
       "      <th>track</th>\n",
       "      <th>artist</th>\n",
       "      <th>genre</th>\n",
       "      <th>city</th>\n",
       "      <th>time</th>\n",
       "      <th>day</th>\n",
       "    </tr>\n",
       "  </thead>\n",
       "  <tbody>\n",
       "    <tr>\n",
       "      <th>31916</th>\n",
       "      <td>C40BC5DF</td>\n",
       "      <td>Shot in the Dark</td>\n",
       "      <td>Four80East</td>\n",
       "      <td>acid</td>\n",
       "      <td>Moscow</td>\n",
       "      <td>09:44:12</td>\n",
       "      <td>Friday</td>\n",
       "    </tr>\n",
       "    <tr>\n",
       "      <th>57580</th>\n",
       "      <td>23C64044</td>\n",
       "      <td>Don't Stop Me Now</td>\n",
       "      <td>Acoustic Heartstrings</td>\n",
       "      <td>acoustic</td>\n",
       "      <td>Moscow</td>\n",
       "      <td>13:30:01</td>\n",
       "      <td>Wednesday</td>\n",
       "    </tr>\n",
       "    <tr>\n",
       "      <th>20264</th>\n",
       "      <td>B02ED3AB</td>\n",
       "      <td>Ой да</td>\n",
       "      <td>unknown</td>\n",
       "      <td>acoustic</td>\n",
       "      <td>Moscow</td>\n",
       "      <td>13:31:03</td>\n",
       "      <td>Wednesday</td>\n",
       "    </tr>\n",
       "    <tr>\n",
       "      <th>37784</th>\n",
       "      <td>77D3A7D9</td>\n",
       "      <td>Ой да</td>\n",
       "      <td>unknown</td>\n",
       "      <td>acoustic</td>\n",
       "      <td>Moscow</td>\n",
       "      <td>14:27:34</td>\n",
       "      <td>Monday</td>\n",
       "    </tr>\n",
       "    <tr>\n",
       "      <th>26378</th>\n",
       "      <td>4D96EB78</td>\n",
       "      <td>Eventuality</td>\n",
       "      <td>Jack Trammell</td>\n",
       "      <td>action</td>\n",
       "      <td>Moscow</td>\n",
       "      <td>21:22:51</td>\n",
       "      <td>Monday</td>\n",
       "    </tr>\n",
       "    <tr>\n",
       "      <th>...</th>\n",
       "      <td>...</td>\n",
       "      <td>...</td>\n",
       "      <td>...</td>\n",
       "      <td>...</td>\n",
       "      <td>...</td>\n",
       "      <td>...</td>\n",
       "      <td>...</td>\n",
       "    </tr>\n",
       "    <tr>\n",
       "      <th>16263</th>\n",
       "      <td>34414551</td>\n",
       "      <td>Teri Galiyan</td>\n",
       "      <td>Fadia Shaboroz</td>\n",
       "      <td>world</td>\n",
       "      <td>Moscow</td>\n",
       "      <td>13:16:12</td>\n",
       "      <td>Friday</td>\n",
       "    </tr>\n",
       "    <tr>\n",
       "      <th>43372</th>\n",
       "      <td>F2E84829</td>\n",
       "      <td>Now Go! Robot Army (Grendizer Getter Robo G Gr...</td>\n",
       "      <td>Isao Sasaki</td>\n",
       "      <td>world</td>\n",
       "      <td>Moscow</td>\n",
       "      <td>13:38:28</td>\n",
       "      <td>Wednesday</td>\n",
       "    </tr>\n",
       "    <tr>\n",
       "      <th>10200</th>\n",
       "      <td>3709AE8E</td>\n",
       "      <td>Baila Baila Conmigo</td>\n",
       "      <td>Missiego</td>\n",
       "      <td>world</td>\n",
       "      <td>Moscow</td>\n",
       "      <td>14:06:05</td>\n",
       "      <td>Monday</td>\n",
       "    </tr>\n",
       "    <tr>\n",
       "      <th>27939</th>\n",
       "      <td>D7FB50DA</td>\n",
       "      <td>Drumming Circle</td>\n",
       "      <td>Professor Trance</td>\n",
       "      <td>worldbeat</td>\n",
       "      <td>Moscow</td>\n",
       "      <td>09:30:47</td>\n",
       "      <td>Monday</td>\n",
       "    </tr>\n",
       "    <tr>\n",
       "      <th>8448</th>\n",
       "      <td>A439123F</td>\n",
       "      <td>Flip It</td>\n",
       "      <td>unknown</td>\n",
       "      <td>ïîï</td>\n",
       "      <td>Moscow</td>\n",
       "      <td>09:08:51</td>\n",
       "      <td>Friday</td>\n",
       "    </tr>\n",
       "  </tbody>\n",
       "</table>\n",
       "<p>42741 rows × 7 columns</p>\n",
       "</div>"
      ],
      "text/plain": [
       "        user_id                                              track  \\\n",
       "31916  C40BC5DF                                   Shot in the Dark   \n",
       "57580  23C64044                                  Don't Stop Me Now   \n",
       "20264  B02ED3AB                                              Ой да   \n",
       "37784  77D3A7D9                                              Ой да   \n",
       "26378  4D96EB78                                        Eventuality   \n",
       "...         ...                                                ...   \n",
       "16263  34414551                                       Teri Galiyan   \n",
       "43372  F2E84829  Now Go! Robot Army (Grendizer Getter Robo G Gr...   \n",
       "10200  3709AE8E                                Baila Baila Conmigo   \n",
       "27939  D7FB50DA                                    Drumming Circle   \n",
       "8448   A439123F                                            Flip It   \n",
       "\n",
       "                      artist      genre    city      time        day  \n",
       "31916             Four80East       acid  Moscow  09:44:12     Friday  \n",
       "57580  Acoustic Heartstrings   acoustic  Moscow  13:30:01  Wednesday  \n",
       "20264                unknown   acoustic  Moscow  13:31:03  Wednesday  \n",
       "37784                unknown   acoustic  Moscow  14:27:34     Monday  \n",
       "26378          Jack Trammell     action  Moscow  21:22:51     Monday  \n",
       "...                      ...        ...     ...       ...        ...  \n",
       "16263         Fadia Shaboroz      world  Moscow  13:16:12     Friday  \n",
       "43372            Isao Sasaki      world  Moscow  13:38:28  Wednesday  \n",
       "10200               Missiego      world  Moscow  14:06:05     Monday  \n",
       "27939       Professor Trance  worldbeat  Moscow  09:30:47     Monday  \n",
       "8448                 unknown        ïîï  Moscow  09:08:51     Friday  \n",
       "\n",
       "[42741 rows x 7 columns]"
      ]
     },
     "execution_count": 30,
     "metadata": {},
     "output_type": "execute_result"
    }
   ],
   "source": [
    "# получение таблицы moscow_general из тех строк таблицы df, \n",
    "# для которых значение в столбце 'city' равно 'Moscow'\n",
    "moscow_general = df[df['city'] == 'Moscow']\n",
    "moscow_general"
   ]
  },
  {
   "cell_type": "code",
   "execution_count": 31,
   "metadata": {
    "id": "ORaVRKto_Zcu"
   },
   "outputs": [
    {
     "data": {
      "text/html": [
       "<div>\n",
       "<style scoped>\n",
       "    .dataframe tbody tr th:only-of-type {\n",
       "        vertical-align: middle;\n",
       "    }\n",
       "\n",
       "    .dataframe tbody tr th {\n",
       "        vertical-align: top;\n",
       "    }\n",
       "\n",
       "    .dataframe thead th {\n",
       "        text-align: right;\n",
       "    }\n",
       "</style>\n",
       "<table border=\"1\" class=\"dataframe\">\n",
       "  <thead>\n",
       "    <tr style=\"text-align: right;\">\n",
       "      <th></th>\n",
       "      <th>user_id</th>\n",
       "      <th>track</th>\n",
       "      <th>artist</th>\n",
       "      <th>genre</th>\n",
       "      <th>city</th>\n",
       "      <th>time</th>\n",
       "      <th>day</th>\n",
       "    </tr>\n",
       "  </thead>\n",
       "  <tbody>\n",
       "    <tr>\n",
       "      <th>3636</th>\n",
       "      <td>F10919ED</td>\n",
       "      <td>Ready For The Fire</td>\n",
       "      <td>Valley Of Wolves</td>\n",
       "      <td>acoustic</td>\n",
       "      <td>Saint-Petersburg</td>\n",
       "      <td>21:33:18</td>\n",
       "      <td>Monday</td>\n",
       "    </tr>\n",
       "    <tr>\n",
       "      <th>14611</th>\n",
       "      <td>1C7D9E90</td>\n",
       "      <td>Prelude – Ne Me Qui Te Pas</td>\n",
       "      <td>unknown</td>\n",
       "      <td>acoustic</td>\n",
       "      <td>Saint-Petersburg</td>\n",
       "      <td>21:47:42</td>\n",
       "      <td>Friday</td>\n",
       "    </tr>\n",
       "    <tr>\n",
       "      <th>1471</th>\n",
       "      <td>2ED60CF7</td>\n",
       "      <td>Ball N' Chain</td>\n",
       "      <td>Big Mama Thornton</td>\n",
       "      <td>adult</td>\n",
       "      <td>Saint-Petersburg</td>\n",
       "      <td>21:55:27</td>\n",
       "      <td>Monday</td>\n",
       "    </tr>\n",
       "    <tr>\n",
       "      <th>47111</th>\n",
       "      <td>D939EE66</td>\n",
       "      <td>Perfect Rain</td>\n",
       "      <td>Curtis Walsh</td>\n",
       "      <td>adult</td>\n",
       "      <td>Saint-Petersburg</td>\n",
       "      <td>08:58:39</td>\n",
       "      <td>Monday</td>\n",
       "    </tr>\n",
       "    <tr>\n",
       "      <th>18251</th>\n",
       "      <td>897AAB4E</td>\n",
       "      <td>Betcha Never</td>\n",
       "      <td>Cherie</td>\n",
       "      <td>adult</td>\n",
       "      <td>Saint-Petersburg</td>\n",
       "      <td>09:30:39</td>\n",
       "      <td>Friday</td>\n",
       "    </tr>\n",
       "    <tr>\n",
       "      <th>...</th>\n",
       "      <td>...</td>\n",
       "      <td>...</td>\n",
       "      <td>...</td>\n",
       "      <td>...</td>\n",
       "      <td>...</td>\n",
       "      <td>...</td>\n",
       "      <td>...</td>\n",
       "    </tr>\n",
       "    <tr>\n",
       "      <th>57900</th>\n",
       "      <td>F560DDDF</td>\n",
       "      <td>Imidiwan</td>\n",
       "      <td>Bombino</td>\n",
       "      <td>world</td>\n",
       "      <td>Saint-Petersburg</td>\n",
       "      <td>14:55:06</td>\n",
       "      <td>Wednesday</td>\n",
       "    </tr>\n",
       "    <tr>\n",
       "      <th>43384</th>\n",
       "      <td>19BC8526</td>\n",
       "      <td>Näckens Polska/näckspolska</td>\n",
       "      <td>Jean Luc Lenoir</td>\n",
       "      <td>world</td>\n",
       "      <td>Saint-Petersburg</td>\n",
       "      <td>14:18:51</td>\n",
       "      <td>Friday</td>\n",
       "    </tr>\n",
       "    <tr>\n",
       "      <th>16253</th>\n",
       "      <td>FAF7BEE6</td>\n",
       "      <td>Smoke gets in your eyes</td>\n",
       "      <td>Jazz Orchestra</td>\n",
       "      <td>world</td>\n",
       "      <td>Saint-Petersburg</td>\n",
       "      <td>09:00:50</td>\n",
       "      <td>Monday</td>\n",
       "    </tr>\n",
       "    <tr>\n",
       "      <th>39063</th>\n",
       "      <td>AA1730E8</td>\n",
       "      <td>Anu</td>\n",
       "      <td>Kailash Kokopelli</td>\n",
       "      <td>worldbeat</td>\n",
       "      <td>Saint-Petersburg</td>\n",
       "      <td>20:16:34</td>\n",
       "      <td>Wednesday</td>\n",
       "    </tr>\n",
       "    <tr>\n",
       "      <th>6465</th>\n",
       "      <td>1D4661</td>\n",
       "      <td>Раз два три</td>\n",
       "      <td>Какао</td>\n",
       "      <td>электроника</td>\n",
       "      <td>Saint-Petersburg</td>\n",
       "      <td>08:54:15</td>\n",
       "      <td>Wednesday</td>\n",
       "    </tr>\n",
       "  </tbody>\n",
       "</table>\n",
       "<p>18512 rows × 7 columns</p>\n",
       "</div>"
      ],
      "text/plain": [
       "        user_id                       track             artist        genre  \\\n",
       "3636   F10919ED          Ready For The Fire   Valley Of Wolves     acoustic   \n",
       "14611  1C7D9E90  Prelude – Ne Me Qui Te Pas            unknown     acoustic   \n",
       "1471   2ED60CF7               Ball N' Chain  Big Mama Thornton        adult   \n",
       "47111  D939EE66                Perfect Rain       Curtis Walsh        adult   \n",
       "18251  897AAB4E                Betcha Never             Cherie        adult   \n",
       "...         ...                         ...                ...          ...   \n",
       "57900  F560DDDF                    Imidiwan            Bombino        world   \n",
       "43384  19BC8526  Näckens Polska/näckspolska    Jean Luc Lenoir        world   \n",
       "16253  FAF7BEE6     Smoke gets in your eyes     Jazz Orchestra        world   \n",
       "39063  AA1730E8                         Anu  Kailash Kokopelli    worldbeat   \n",
       "6465     1D4661                 Раз два три              Какао  электроника   \n",
       "\n",
       "                   city      time        day  \n",
       "3636   Saint-Petersburg  21:33:18     Monday  \n",
       "14611  Saint-Petersburg  21:47:42     Friday  \n",
       "1471   Saint-Petersburg  21:55:27     Monday  \n",
       "47111  Saint-Petersburg  08:58:39     Monday  \n",
       "18251  Saint-Petersburg  09:30:39     Friday  \n",
       "...                 ...       ...        ...  \n",
       "57900  Saint-Petersburg  14:55:06  Wednesday  \n",
       "43384  Saint-Petersburg  14:18:51     Friday  \n",
       "16253  Saint-Petersburg  09:00:50     Monday  \n",
       "39063  Saint-Petersburg  20:16:34  Wednesday  \n",
       "6465   Saint-Petersburg  08:54:15  Wednesday  \n",
       "\n",
       "[18512 rows x 7 columns]"
      ]
     },
     "execution_count": 31,
     "metadata": {},
     "output_type": "execute_result"
    }
   ],
   "source": [
    "# получение таблицы spb_general из тех строк таблицы df,\n",
    "# для которых значение в столбце 'city' равно 'Saint-Petersburg'\n",
    "spb_general = df[df['city'] == 'Saint-Petersburg']\n",
    "spb_general"
   ]
  },
  {
   "cell_type": "markdown",
   "metadata": {
    "id": "MEJV-CX2_Zcu"
   },
   "source": [
    "Создайте функцию `genre_weekday()` с четырьмя параметрами:\n",
    "* таблица (датафрейм) с данными,\n",
    "* день недели,\n",
    "* начальная временная метка в формате 'hh:mm', \n",
    "* последняя временная метка в формате 'hh:mm'.\n",
    "\n",
    "Функция должна вернуть информацию о топ-10 жанров тех треков, которые прослушивали в указанный день, в промежутке между двумя отметками времени."
   ]
  },
  {
   "cell_type": "code",
   "execution_count": 32,
   "metadata": {
    "id": "laJT9BYl_Zcu"
   },
   "outputs": [],
   "source": [
    "# Объявление функции genre_weekday() с параметрами table, day, time1, time2,\n",
    "# которая возвращает информацию о самых популярных жанрах в указанный день в\n",
    "# заданное время:\n",
    "# 1) в переменную genre_df сохраняются те строки переданного датафрейма table, для\n",
    "#    которых одновременно:\n",
    "#    - значение в столбце day равно значению аргумента day\n",
    "#    - значение в столбце time больше значения аргумента time1\n",
    "#    - значение в столбце time меньше значения аргумента time2\n",
    "#    Используйте последовательную фильтрацию с помощью логической индексации.\n",
    "# 2) сгруппировать датафрейм genre_df по столбцу genre, взять один из его\n",
    "#    столбцов и посчитать методом count() количество записей для каждого из\n",
    "#    присутствующих жанров, получившийся Series записать в переменную\n",
    "#    genre_df_count\n",
    "# 3) отсортировать genre_df_count по убыванию встречаемости и сохранить\n",
    "#    в переменную genre_df_sorted\n",
    "# 4) вернуть Series из 10 первых значений genre_df_sorted, это будут топ-10\n",
    "#    популярных жанров (в указанный день, в заданное время)\n",
    "def genre_weekday(table, day, time1, time2):\n",
    "    genre_df = table[table['day'] == day]\n",
    "    genre_df = genre_df[genre_df['time'] > time1]\n",
    "    genre_df = genre_df[genre_df['time'] < time2]\n",
    "    genre_df = genre_df.groupby('genre')\n",
    "    genre_df_count = genre_df['user_id'].count()\n",
    "    genre_df_sorted = genre_df_count.sort_values(ascending = False)\n",
    "    return genre_df_sorted.head(10)\n",
    "    "
   ]
  },
  {
   "cell_type": "markdown",
   "metadata": {
    "id": "la2s2_PF_Zcu"
   },
   "source": [
    "Cравните результаты функции `genre_weekday()` для Москвы и Санкт-Петербурга в понедельник утром (с 7:00 до 11:00) и в пятницу вечером (с 17:00 до 23:00):"
   ]
  },
  {
   "cell_type": "code",
   "execution_count": 33,
   "metadata": {
    "id": "yz7itPUQ_Zcu",
    "scrolled": true
   },
   "outputs": [
    {
     "data": {
      "text/plain": [
       "genre\n",
       "pop            781\n",
       "dance          549\n",
       "electronic     480\n",
       "rock           474\n",
       "hiphop         286\n",
       "ruspop         186\n",
       "world          181\n",
       "rusrap         175\n",
       "alternative    164\n",
       "unknown        161\n",
       "Name: user_id, dtype: int64"
      ]
     },
     "execution_count": 33,
     "metadata": {},
     "output_type": "execute_result"
    }
   ],
   "source": [
    "# вызов функции для утра понедельника в Москве (вместо df — таблица moscow_general)\n",
    "# объекты, хранящие время, являются строками и сравниваются как строки\n",
    "# пример вызова: genre_weekday(moscow_general, 'Monday', '07:00', '11:00')\n",
    "genre_weekday(moscow_general, 'Monday', '07:00', '11:00')"
   ]
  },
  {
   "cell_type": "code",
   "execution_count": 34,
   "metadata": {
    "id": "kwUcHPdy_Zcu"
   },
   "outputs": [
    {
     "data": {
      "text/plain": [
       "genre\n",
       "pop            218\n",
       "dance          182\n",
       "rock           162\n",
       "electronic     147\n",
       "hiphop          80\n",
       "ruspop          64\n",
       "alternative     58\n",
       "rusrap          55\n",
       "jazz            44\n",
       "classical       40\n",
       "Name: user_id, dtype: int64"
      ]
     },
     "execution_count": 34,
     "metadata": {},
     "output_type": "execute_result"
    }
   ],
   "source": [
    "# вызов функции для утра понедельника в Петербурге (вместо df — таблица spb_general)\n",
    "genre_weekday(spb_general, 'Monday', '07:00', '11:00')"
   ]
  },
  {
   "cell_type": "code",
   "execution_count": 35,
   "metadata": {
    "id": "EzXVRE1o_Zcu"
   },
   "outputs": [
    {
     "data": {
      "text/plain": [
       "genre\n",
       "pop            717\n",
       "dance          524\n",
       "rock           518\n",
       "electronic     485\n",
       "hiphop         238\n",
       "alternative    182\n",
       "classical      172\n",
       "world          172\n",
       "ruspop         149\n",
       "rusrap         133\n",
       "Name: user_id, dtype: int64"
      ]
     },
     "execution_count": 35,
     "metadata": {},
     "output_type": "execute_result"
    }
   ],
   "source": [
    "# вызов функции для вечера пятницы в Москве\n",
    "genre_weekday(moscow_general, 'Monday', '17:00', '23:00')"
   ]
  },
  {
   "cell_type": "code",
   "execution_count": 36,
   "metadata": {
    "id": "JZaEKu5v_Zcu"
   },
   "outputs": [
    {
     "data": {
      "text/plain": [
       "genre\n",
       "pop            263\n",
       "rock           208\n",
       "electronic     192\n",
       "dance          191\n",
       "hiphop         104\n",
       "alternative     72\n",
       "classical       71\n",
       "jazz            57\n",
       "rusrap          54\n",
       "ruspop          53\n",
       "Name: user_id, dtype: int64"
      ]
     },
     "execution_count": 36,
     "metadata": {},
     "output_type": "execute_result"
    }
   ],
   "source": [
    "# вызов функции для вечера пятницы в Петербурге\n",
    "genre_weekday(spb_general, 'Monday', '17:00', '23:00')"
   ]
  },
  {
   "cell_type": "markdown",
   "metadata": {
    "id": "wrCe4MNX_Zcu"
   },
   "source": [
    "**Выводы**\n",
    "\n",
    "Если сравнить топ-10 жанров в понедельник утром, можно сделать такие выводы:\n",
    "\n",
    "1. В Москве и Петербурге слушают похожую музыку. Единственное отличие — в московский рейтинг вошёл жанр “world”, а в петербургский — джаз и классика.\n",
    "\n",
    "2. В Москве пропущенных значений оказалось так много, что значение `'unknown'` заняло десятое место среди самых популярных жанров. Значит, пропущенные значения занимают существенную долю в данных и угрожают достоверности исследования.\n",
    "\n",
    "Вечер пятницы не меняет эту картину. Некоторые жанры поднимаются немного выше, другие спускаются, но в целом топ-10 остаётся тем же самым.\n",
    "\n",
    "Таким образом, вторая гипотеза подтвердилась лишь частично:\n",
    "* Пользователи слушают похожую музыку в начале недели и в конце.\n",
    "* Разница между Москвой и Петербургом не слишком выражена. В Москве чаще слушают русскую популярную музыку, в Петербурге — джаз.\n",
    "\n",
    "Однако пропуски в данных ставят под сомнение этот результат. В Москве их так много, что рейтинг топ-10 мог бы выглядеть иначе, если бы не утерянные  данные о жанрах."
   ]
  },
  {
   "cell_type": "markdown",
   "metadata": {
    "id": "JolODAqr_Zcu"
   },
   "source": [
    "### Жанровые предпочтения в Москве и Петербурге\n",
    "\n",
    "Гипотеза: Петербург — столица рэпа, музыку этого жанра там слушают чаще, чем в Москве.  А Москва — город контрастов, в котором, тем не менее, преобладает поп-музыка."
   ]
  },
  {
   "cell_type": "markdown",
   "metadata": {
    "id": "DlegSvaT_Zcu"
   },
   "source": [
    "Сгруппируйте таблицу `moscow_general` по жанру и посчитайте прослушивания треков каждого жанра методом `count()`. Затем отсортируйте результат в порядке убывания и сохраните его в таблице `moscow_genres`."
   ]
  },
  {
   "cell_type": "code",
   "execution_count": 37,
   "metadata": {
    "id": "r19lIPke_Zcu"
   },
   "outputs": [],
   "source": [
    "# одной строкой: группировка таблицы moscow_general по столбцу 'genre', \n",
    "# подсчёт числа значений 'genre' в этой группировке методом count(), \n",
    "# сортировка получившегося Series в порядке убывания и сохранение в moscow_genres\n",
    "moscow_genres = moscow_general.groupby('genre')\n",
    "moscow_genres = moscow_genres['genre'].count()\n",
    "moscow_genres = moscow_genres.sort_values(ascending = False)"
   ]
  },
  {
   "cell_type": "markdown",
   "metadata": {
    "id": "6kMuomxTiIr8"
   },
   "source": [
    "Выведите на экран первые десять строк `moscow_genres`:"
   ]
  },
  {
   "cell_type": "code",
   "execution_count": 38,
   "metadata": {
    "id": "WhCSooF8_Zcv"
   },
   "outputs": [
    {
     "data": {
      "text/plain": [
       "genre\n",
       "pop            5892\n",
       "dance          4435\n",
       "rock           3965\n",
       "electronic     3786\n",
       "hiphop         2096\n",
       "classical      1616\n",
       "world          1432\n",
       "alternative    1379\n",
       "ruspop         1372\n",
       "rusrap         1161\n",
       "Name: genre, dtype: int64"
      ]
     },
     "execution_count": 38,
     "metadata": {},
     "output_type": "execute_result"
    }
   ],
   "source": [
    "# просмотр первых 10 строк moscow_genres\n",
    "moscow_genres.head(10)"
   ]
  },
  {
   "cell_type": "markdown",
   "metadata": {
    "id": "cnPG2vnN_Zcv"
   },
   "source": [
    "Теперь повторите то же и для Петербурга.\n",
    "\n",
    "Сгруппируйте таблицу `spb_general` по жанру. Посчитайте прослушивания треков каждого жанра. Результат отсортируйте в порядке убывания и сохраните в таблице `spb_genres`:\n"
   ]
  },
  {
   "cell_type": "code",
   "execution_count": 39,
   "metadata": {
    "id": "gluLIpE7_Zcv"
   },
   "outputs": [],
   "source": [
    "# одной строкой: группировка таблицы spb_general по столбцу 'genre', \n",
    "# подсчёт числа значений 'genre' в этой группировке методом count(), \n",
    "# сортировка получившегося Series в порядке убывания и сохранение в spb_genres\n",
    "spb_genres = spb_general.groupby('genre')\n",
    "spb_genres = spb_genres['genre'].count()\n",
    "spb_genres = spb_genres.sort_values(ascending = False)"
   ]
  },
  {
   "cell_type": "markdown",
   "metadata": {
    "id": "5Doha_ODgyQ8"
   },
   "source": [
    "Выведите на экран первые десять строк `spb_genres`:"
   ]
  },
  {
   "cell_type": "code",
   "execution_count": 40,
   "metadata": {
    "id": "uaGJHjVU_Zcv"
   },
   "outputs": [
    {
     "data": {
      "text/plain": [
       "genre\n",
       "pop            2431\n",
       "dance          1932\n",
       "rock           1879\n",
       "electronic     1736\n",
       "hiphop          960\n",
       "alternative     649\n",
       "classical       646\n",
       "rusrap          564\n",
       "ruspop          538\n",
       "world           515\n",
       "Name: genre, dtype: int64"
      ]
     },
     "execution_count": 40,
     "metadata": {},
     "output_type": "execute_result"
    }
   ],
   "source": [
    "# просмотр первых 10 строк spb_genres\n",
    "spb_genres.head(10)"
   ]
  },
  {
   "cell_type": "markdown",
   "metadata": {
    "id": "RY51YJYu_Zcv"
   },
   "source": [
    "**Выводы**"
   ]
  },
  {
   "cell_type": "markdown",
   "metadata": {
    "id": "nVhnJEm__Zcv"
   },
   "source": [
    "Гипотеза частично подтвердилась:\n",
    "* Поп-музыка — самый популярный жанр в Москве, как и предполагала гипотеза. Более того, в топ-10 жанров встречается близкий жанр — русская популярная музыка.\n",
    "* Вопреки ожиданиям, рэп одинаково популярен в Москве и Петербурге. \n"
   ]
  },
  {
   "cell_type": "markdown",
   "metadata": {
    "id": "ykKQ0N65_Zcv"
   },
   "source": [
    "## Итоги исследования"
   ]
  },
  {
   "cell_type": "markdown",
   "metadata": {
    "id": "tjUwbHb3_Zcv"
   },
   "source": [
    "Вы проверили три гипотезы и установили:\n",
    "\n",
    "1. День недели по-разному влияет на активность пользователей в Москве и Петербурге. \n",
    "\n",
    "Первая гипотеза полностью подтвердилась.\n",
    "\n",
    "2. Музыкальные предпочтения не сильно меняются в течение недели — будь то Москва или Петербург. Небольшие различия заметны в начале недели, по понедельникам:\n",
    "* в Москве слушают музыку жанра “world”,\n",
    "* в Петербурге — джаз и классику.\n",
    "\n",
    "Таким образом, вторая гипотеза подтвердилась лишь отчасти. Этот результат мог оказаться иным, если бы не пропуски в данных.\n",
    "\n",
    "3. Во вкусах пользователей Москвы и Петербурга больше общего чем различий. Вопреки ожиданиям, предпочтения жанров в Петербурге напоминают московские.\n",
    "\n",
    "Третья гипотеза не подтвердилась. Если различия в предпочтениях и существуют, на основной массе пользователей они незаметны.\n"
   ]
  }
 ],
 "metadata": {
  "ExecuteTimeLog": [
   {
    "duration": 213,
    "start_time": "2022-05-10T10:17:07.110Z"
   },
   {
    "duration": 38,
    "start_time": "2022-05-10T10:17:13.733Z"
   },
   {
    "duration": 482,
    "start_time": "2022-05-10T10:17:16.885Z"
   },
   {
    "duration": 65,
    "start_time": "2022-05-10T10:17:19.421Z"
   },
   {
    "duration": 98,
    "start_time": "2022-05-10T10:18:39.054Z"
   },
   {
    "duration": 101,
    "start_time": "2022-05-10T10:18:59.021Z"
   },
   {
    "duration": 36,
    "start_time": "2022-05-10T10:19:05.653Z"
   },
   {
    "duration": 137,
    "start_time": "2022-05-10T10:21:26.556Z"
   },
   {
    "duration": 14,
    "start_time": "2022-05-10T10:21:56.108Z"
   },
   {
    "duration": 9,
    "start_time": "2022-05-10T10:21:59.802Z"
   },
   {
    "duration": 7,
    "start_time": "2022-05-10T10:22:10.875Z"
   },
   {
    "duration": 4,
    "start_time": "2022-05-10T10:23:19.979Z"
   },
   {
    "duration": 11,
    "start_time": "2022-05-10T10:32:25.760Z"
   },
   {
    "duration": 4,
    "start_time": "2022-05-10T10:32:33.553Z"
   },
   {
    "duration": 30,
    "start_time": "2022-05-10T10:33:38.873Z"
   },
   {
    "duration": 32,
    "start_time": "2022-05-10T10:33:47.895Z"
   },
   {
    "duration": 24,
    "start_time": "2022-05-10T10:35:42.896Z"
   },
   {
    "duration": 20,
    "start_time": "2022-05-10T10:37:51.863Z"
   },
   {
    "duration": 22,
    "start_time": "2022-05-10T10:38:01.280Z"
   },
   {
    "duration": 57,
    "start_time": "2022-05-10T10:38:46.519Z"
   },
   {
    "duration": 100,
    "start_time": "2022-05-10T10:39:33.943Z"
   },
   {
    "duration": 82,
    "start_time": "2022-05-10T10:39:38.598Z"
   },
   {
    "duration": 12,
    "start_time": "2022-05-10T10:39:50.471Z"
   },
   {
    "duration": 9,
    "start_time": "2022-05-10T10:39:55.453Z"
   },
   {
    "duration": 160,
    "start_time": "2022-05-10T10:39:57.887Z"
   },
   {
    "duration": 9,
    "start_time": "2022-05-10T10:40:00.480Z"
   },
   {
    "duration": 5,
    "start_time": "2022-05-10T10:40:23.616Z"
   },
   {
    "duration": 7,
    "start_time": "2022-05-10T10:40:37.806Z"
   },
   {
    "duration": 2,
    "start_time": "2022-05-10T10:43:29.278Z"
   },
   {
    "duration": 6,
    "start_time": "2022-05-10T10:44:32.829Z"
   },
   {
    "duration": 9,
    "start_time": "2022-05-10T10:45:01.492Z"
   },
   {
    "duration": 7,
    "start_time": "2022-05-10T10:45:10.629Z"
   },
   {
    "duration": 9,
    "start_time": "2022-05-10T10:45:15.925Z"
   },
   {
    "duration": 9,
    "start_time": "2022-05-10T10:45:26.453Z"
   },
   {
    "duration": 12,
    "start_time": "2022-05-10T10:51:37.993Z"
   },
   {
    "duration": 7,
    "start_time": "2022-05-10T10:52:24.019Z"
   },
   {
    "duration": 3,
    "start_time": "2022-05-10T10:52:34.811Z"
   },
   {
    "duration": 52,
    "start_time": "2022-05-10T10:52:36.394Z"
   },
   {
    "duration": 7,
    "start_time": "2022-05-10T10:52:39.155Z"
   },
   {
    "duration": 3,
    "start_time": "2022-05-10T10:53:12.347Z"
   },
   {
    "duration": 65,
    "start_time": "2022-05-10T10:53:13.994Z"
   },
   {
    "duration": 7,
    "start_time": "2022-05-10T10:53:16.682Z"
   },
   {
    "duration": 194,
    "start_time": "2022-05-10T10:55:12.852Z"
   },
   {
    "duration": 7,
    "start_time": "2022-05-10T10:55:15.202Z"
   },
   {
    "duration": 35,
    "start_time": "2022-05-10T10:57:52.073Z"
   },
   {
    "duration": 7,
    "start_time": "2022-05-10T10:57:53.553Z"
   },
   {
    "duration": 15,
    "start_time": "2022-05-10T11:00:22.824Z"
   },
   {
    "duration": 2,
    "start_time": "2022-05-10T11:00:24.194Z"
   },
   {
    "duration": 78,
    "start_time": "2022-05-10T11:00:25.769Z"
   },
   {
    "duration": 8,
    "start_time": "2022-05-10T11:00:28.120Z"
   },
   {
    "duration": 2,
    "start_time": "2022-05-10T11:01:00.249Z"
   },
   {
    "duration": 35,
    "start_time": "2022-05-10T11:01:00.864Z"
   },
   {
    "duration": 8,
    "start_time": "2022-05-10T11:01:01.960Z"
   },
   {
    "duration": 3,
    "start_time": "2022-05-10T11:03:55.976Z"
   },
   {
    "duration": 10,
    "start_time": "2022-05-10T11:03:57.279Z"
   },
   {
    "duration": 8,
    "start_time": "2022-05-10T11:03:58.758Z"
   },
   {
    "duration": 29,
    "start_time": "2022-05-10T11:05:04.440Z"
   },
   {
    "duration": 13,
    "start_time": "2022-05-10T11:06:39.518Z"
   },
   {
    "duration": 9,
    "start_time": "2022-05-10T11:07:10.087Z"
   },
   {
    "duration": 9,
    "start_time": "2022-05-10T11:07:24.351Z"
   },
   {
    "duration": 8,
    "start_time": "2022-05-10T11:07:58.127Z"
   },
   {
    "duration": 29,
    "start_time": "2022-05-10T11:08:03.751Z"
   },
   {
    "duration": 28,
    "start_time": "2022-05-10T11:14:05.027Z"
   },
   {
    "duration": 9,
    "start_time": "2022-05-10T11:14:52.170Z"
   },
   {
    "duration": 8,
    "start_time": "2022-05-10T11:14:53.235Z"
   },
   {
    "duration": 8,
    "start_time": "2022-05-10T11:14:54.123Z"
   },
   {
    "duration": 8,
    "start_time": "2022-05-10T11:14:54.804Z"
   },
   {
    "duration": 8,
    "start_time": "2022-05-10T11:14:55.307Z"
   },
   {
    "duration": 3,
    "start_time": "2022-05-10T11:16:10.403Z"
   },
   {
    "duration": 7,
    "start_time": "2022-05-10T11:16:11.075Z"
   },
   {
    "duration": 6,
    "start_time": "2022-05-10T11:16:11.700Z"
   },
   {
    "duration": 7,
    "start_time": "2022-05-10T11:16:12.492Z"
   },
   {
    "duration": 7,
    "start_time": "2022-05-10T11:16:13.683Z"
   },
   {
    "duration": 7,
    "start_time": "2022-05-10T11:16:14.268Z"
   },
   {
    "duration": 7,
    "start_time": "2022-05-10T11:16:14.915Z"
   },
   {
    "duration": 155,
    "start_time": "2022-05-10T11:16:32.068Z"
   },
   {
    "duration": 171,
    "start_time": "2022-05-10T11:16:44.156Z"
   },
   {
    "duration": 14,
    "start_time": "2022-05-10T11:17:23.435Z"
   },
   {
    "duration": 13,
    "start_time": "2022-05-10T11:17:50.019Z"
   },
   {
    "duration": 11,
    "start_time": "2022-05-10T11:19:56.786Z"
   },
   {
    "duration": 4,
    "start_time": "2022-05-10T11:21:56.666Z"
   },
   {
    "duration": 9,
    "start_time": "2022-05-10T11:22:00.977Z"
   },
   {
    "duration": 3,
    "start_time": "2022-05-10T11:22:33.794Z"
   },
   {
    "duration": 7,
    "start_time": "2022-05-10T11:22:34.513Z"
   },
   {
    "duration": 5,
    "start_time": "2022-05-10T11:22:39.882Z"
   },
   {
    "duration": 8,
    "start_time": "2022-05-10T11:22:40.722Z"
   },
   {
    "duration": 3,
    "start_time": "2022-05-10T11:22:49.114Z"
   },
   {
    "duration": 8,
    "start_time": "2022-05-10T11:22:50.315Z"
   },
   {
    "duration": 4,
    "start_time": "2022-05-10T11:23:10.833Z"
   },
   {
    "duration": 8,
    "start_time": "2022-05-10T11:23:11.608Z"
   },
   {
    "duration": 5,
    "start_time": "2022-05-10T11:23:18.711Z"
   },
   {
    "duration": 8,
    "start_time": "2022-05-10T11:23:19.314Z"
   },
   {
    "duration": 3,
    "start_time": "2022-05-10T11:24:33.195Z"
   },
   {
    "duration": 15,
    "start_time": "2022-05-10T11:24:33.657Z"
   },
   {
    "duration": 13,
    "start_time": "2022-05-10T11:24:34.769Z"
   },
   {
    "duration": 14,
    "start_time": "2022-05-10T11:24:53.729Z"
   },
   {
    "duration": 13,
    "start_time": "2022-05-10T11:24:54.329Z"
   },
   {
    "duration": 14,
    "start_time": "2022-05-10T11:24:55.000Z"
   },
   {
    "duration": 12,
    "start_time": "2022-05-10T11:24:55.514Z"
   },
   {
    "duration": 15,
    "start_time": "2022-05-10T11:24:55.977Z"
   },
   {
    "duration": 14,
    "start_time": "2022-05-10T11:24:56.505Z"
   },
   {
    "duration": 13,
    "start_time": "2022-05-10T11:24:59.257Z"
   },
   {
    "duration": 12,
    "start_time": "2022-05-10T11:25:33.954Z"
   },
   {
    "duration": 8,
    "start_time": "2022-05-10T11:25:48.393Z"
   },
   {
    "duration": 16,
    "start_time": "2022-05-10T11:32:02.181Z"
   },
   {
    "duration": 14,
    "start_time": "2022-05-10T11:32:02.816Z"
   },
   {
    "duration": 15,
    "start_time": "2022-05-10T11:32:03.516Z"
   },
   {
    "duration": 14,
    "start_time": "2022-05-10T11:32:04.127Z"
   },
   {
    "duration": 15,
    "start_time": "2022-05-10T11:32:04.687Z"
   },
   {
    "duration": 21,
    "start_time": "2022-05-10T11:32:05.287Z"
   },
   {
    "duration": 62,
    "start_time": "2022-05-10T11:33:32.412Z"
   },
   {
    "duration": 12,
    "start_time": "2022-05-10T11:35:29.610Z"
   },
   {
    "duration": 8,
    "start_time": "2022-05-10T11:35:47.231Z"
   },
   {
    "duration": 3,
    "start_time": "2022-05-10T11:44:56.942Z"
   },
   {
    "duration": 21,
    "start_time": "2022-05-10T11:45:23.900Z"
   },
   {
    "duration": 3,
    "start_time": "2022-05-10T11:51:53.917Z"
   },
   {
    "duration": 28,
    "start_time": "2022-05-10T11:51:55.289Z"
   },
   {
    "duration": 192,
    "start_time": "2022-05-10T11:52:17.801Z"
   },
   {
    "duration": 4,
    "start_time": "2022-05-10T11:52:46.297Z"
   },
   {
    "duration": 29,
    "start_time": "2022-05-10T11:52:47.992Z"
   },
   {
    "duration": 5,
    "start_time": "2022-05-10T11:54:28.224Z"
   },
   {
    "duration": 20,
    "start_time": "2022-05-10T11:54:28.711Z"
   },
   {
    "duration": 4,
    "start_time": "2022-05-10T11:54:38.729Z"
   },
   {
    "duration": 17,
    "start_time": "2022-05-10T11:54:39.169Z"
   },
   {
    "duration": 11,
    "start_time": "2022-05-10T11:54:58.672Z"
   },
   {
    "duration": 15,
    "start_time": "2022-05-10T11:55:11.680Z"
   },
   {
    "duration": 11,
    "start_time": "2022-05-10T11:55:22.168Z"
   },
   {
    "duration": 10,
    "start_time": "2022-05-10T11:57:42.781Z"
   },
   {
    "duration": 8,
    "start_time": "2022-05-10T11:57:49.720Z"
   },
   {
    "duration": 4,
    "start_time": "2022-05-10T11:57:57.776Z"
   },
   {
    "duration": 4,
    "start_time": "2022-05-10T11:58:04.767Z"
   },
   {
    "duration": 4,
    "start_time": "2022-05-10T11:58:07.744Z"
   },
   {
    "duration": 6,
    "start_time": "2022-05-10T11:58:50.495Z"
   },
   {
    "duration": 4,
    "start_time": "2022-05-10T11:58:57.399Z"
   },
   {
    "duration": 46,
    "start_time": "2022-05-10T18:54:03.646Z"
   },
   {
    "duration": 398,
    "start_time": "2022-05-10T18:54:14.457Z"
   },
   {
    "duration": 950,
    "start_time": "2022-05-10T18:54:14.857Z"
   },
   {
    "duration": 16,
    "start_time": "2022-05-10T18:54:15.809Z"
   },
   {
    "duration": 10,
    "start_time": "2022-05-10T18:54:15.827Z"
   },
   {
    "duration": 10,
    "start_time": "2022-05-10T18:54:15.838Z"
   },
   {
    "duration": 8,
    "start_time": "2022-05-10T18:54:15.849Z"
   },
   {
    "duration": 15,
    "start_time": "2022-05-10T18:54:15.859Z"
   },
   {
    "duration": 6,
    "start_time": "2022-05-10T18:54:15.875Z"
   },
   {
    "duration": 39,
    "start_time": "2022-05-10T18:54:15.882Z"
   },
   {
    "duration": 17,
    "start_time": "2022-05-10T18:54:15.924Z"
   },
   {
    "duration": 21,
    "start_time": "2022-05-10T18:54:15.943Z"
   },
   {
    "duration": 120,
    "start_time": "2022-05-10T18:54:15.966Z"
   },
   {
    "duration": 126,
    "start_time": "2022-05-10T18:54:16.088Z"
   },
   {
    "duration": 100,
    "start_time": "2022-05-10T18:54:16.217Z"
   },
   {
    "duration": 10,
    "start_time": "2022-05-10T18:54:16.319Z"
   },
   {
    "duration": 4,
    "start_time": "2022-05-10T18:54:16.331Z"
   },
   {
    "duration": 13,
    "start_time": "2022-05-10T18:54:16.336Z"
   },
   {
    "duration": 24,
    "start_time": "2022-05-10T18:54:16.351Z"
   },
   {
    "duration": 53,
    "start_time": "2022-05-10T18:54:16.377Z"
   },
   {
    "duration": 35,
    "start_time": "2022-05-10T18:54:16.432Z"
   },
   {
    "duration": 4,
    "start_time": "2022-05-10T18:54:16.469Z"
   },
   {
    "duration": 41,
    "start_time": "2022-05-10T18:54:16.475Z"
   },
   {
    "duration": 14,
    "start_time": "2022-05-10T18:54:16.518Z"
   },
   {
    "duration": 15,
    "start_time": "2022-05-10T18:54:16.533Z"
   },
   {
    "duration": 13,
    "start_time": "2022-05-10T18:54:16.550Z"
   },
   {
    "duration": 51,
    "start_time": "2022-05-10T18:54:16.565Z"
   },
   {
    "duration": 13,
    "start_time": "2022-05-10T18:54:16.617Z"
   },
   {
    "duration": 77,
    "start_time": "2022-05-10T18:54:16.633Z"
   },
   {
    "duration": 11,
    "start_time": "2022-05-10T18:54:16.712Z"
   },
   {
    "duration": 9,
    "start_time": "2022-05-10T18:54:16.724Z"
   },
   {
    "duration": 4,
    "start_time": "2022-05-10T18:54:16.735Z"
   },
   {
    "duration": 21,
    "start_time": "2022-05-10T18:54:16.741Z"
   },
   {
    "duration": 37,
    "start_time": "2022-05-10T18:54:16.764Z"
   },
   {
    "duration": 18,
    "start_time": "2022-05-10T18:54:16.802Z"
   },
   {
    "duration": 10,
    "start_time": "2022-05-10T18:54:16.821Z"
   },
   {
    "duration": 8,
    "start_time": "2022-05-10T18:54:16.833Z"
   },
   {
    "duration": 6,
    "start_time": "2022-05-10T18:54:16.842Z"
   },
   {
    "duration": 12,
    "start_time": "2022-05-10T18:54:16.849Z"
   },
   {
    "duration": 8,
    "start_time": "2022-05-10T18:54:16.863Z"
   },
   {
    "duration": 54,
    "start_time": "2022-05-11T10:16:30.469Z"
   },
   {
    "duration": 7,
    "start_time": "2022-05-11T10:16:42.344Z"
   },
   {
    "duration": 450,
    "start_time": "2022-05-11T10:16:49.227Z"
   },
   {
    "duration": 176,
    "start_time": "2022-05-11T10:16:49.882Z"
   },
   {
    "duration": 18,
    "start_time": "2022-05-11T10:16:50.913Z"
   },
   {
    "duration": 10,
    "start_time": "2022-05-11T10:16:52.978Z"
   },
   {
    "duration": 11,
    "start_time": "2022-05-11T10:16:54.250Z"
   },
   {
    "duration": 5,
    "start_time": "2022-05-11T10:16:58.965Z"
   },
   {
    "duration": 15,
    "start_time": "2022-05-11T10:16:59.475Z"
   },
   {
    "duration": 6,
    "start_time": "2022-05-11T10:17:00.713Z"
   },
   {
    "duration": 46,
    "start_time": "2022-05-11T10:17:01.930Z"
   },
   {
    "duration": 36,
    "start_time": "2022-05-11T10:17:03.722Z"
   },
   {
    "duration": 52,
    "start_time": "2022-05-11T10:17:04.426Z"
   },
   {
    "duration": 113,
    "start_time": "2022-05-11T10:17:05.963Z"
   },
   {
    "duration": 133,
    "start_time": "2022-05-11T10:17:07.410Z"
   },
   {
    "duration": 105,
    "start_time": "2022-05-11T10:17:08.610Z"
   },
   {
    "duration": 12,
    "start_time": "2022-05-11T10:17:10.586Z"
   },
   {
    "duration": 32,
    "start_time": "2022-05-11T10:17:16.178Z"
   },
   {
    "duration": 8,
    "start_time": "2022-05-11T10:17:21.042Z"
   },
   {
    "duration": 251,
    "start_time": "2022-05-11T10:18:39.642Z"
   },
   {
    "duration": 17,
    "start_time": "2022-05-11T10:19:45.091Z"
   },
   {
    "duration": 18,
    "start_time": "2022-05-11T10:20:23.513Z"
   },
   {
    "duration": 16,
    "start_time": "2022-05-11T10:20:40.138Z"
   },
   {
    "duration": 69,
    "start_time": "2022-05-11T10:20:45.785Z"
   },
   {
    "duration": 3,
    "start_time": "2022-05-11T10:20:54.983Z"
   },
   {
    "duration": 258,
    "start_time": "2022-05-11T10:20:55.438Z"
   },
   {
    "duration": 17,
    "start_time": "2022-05-11T10:20:55.884Z"
   },
   {
    "duration": 10,
    "start_time": "2022-05-11T10:20:56.182Z"
   },
   {
    "duration": 14,
    "start_time": "2022-05-11T10:20:56.495Z"
   },
   {
    "duration": 5,
    "start_time": "2022-05-11T10:20:59.046Z"
   },
   {
    "duration": 7,
    "start_time": "2022-05-11T10:21:02.478Z"
   },
   {
    "duration": 5,
    "start_time": "2022-05-11T10:21:03.915Z"
   },
   {
    "duration": 29,
    "start_time": "2022-05-11T10:21:06.568Z"
   },
   {
    "duration": 20,
    "start_time": "2022-05-11T10:21:08.984Z"
   },
   {
    "duration": 29,
    "start_time": "2022-05-11T10:21:10.632Z"
   },
   {
    "duration": 116,
    "start_time": "2022-05-11T10:21:12.560Z"
   },
   {
    "duration": 89,
    "start_time": "2022-05-11T10:21:14.031Z"
   },
   {
    "duration": 64,
    "start_time": "2022-05-11T10:21:15.656Z"
   },
   {
    "duration": 11,
    "start_time": "2022-05-11T10:23:24.800Z"
   },
   {
    "duration": 31,
    "start_time": "2022-05-11T10:23:34.696Z"
   },
   {
    "duration": 4,
    "start_time": "2022-05-11T10:23:44.504Z"
   },
   {
    "duration": 4,
    "start_time": "2022-05-11T10:23:50.256Z"
   },
   {
    "duration": 25,
    "start_time": "2022-05-11T10:23:56.912Z"
   },
   {
    "duration": 26,
    "start_time": "2022-05-11T10:24:02.000Z"
   },
   {
    "duration": 63,
    "start_time": "2022-05-11T10:24:05.391Z"
   },
   {
    "duration": 60,
    "start_time": "2022-05-11T10:24:16.559Z"
   },
   {
    "duration": 47,
    "start_time": "2022-05-11T10:24:40.338Z"
   },
   {
    "duration": 40,
    "start_time": "2022-05-11T10:24:42.894Z"
   },
   {
    "duration": 46,
    "start_time": "2022-05-11T10:24:54.847Z"
   },
   {
    "duration": 3,
    "start_time": "2022-05-11T10:25:03.344Z"
   },
   {
    "duration": 174,
    "start_time": "2022-05-11T10:25:03.768Z"
   },
   {
    "duration": 11,
    "start_time": "2022-05-11T10:25:04.205Z"
   },
   {
    "duration": 11,
    "start_time": "2022-05-11T10:25:04.501Z"
   },
   {
    "duration": 30,
    "start_time": "2022-05-11T10:25:04.766Z"
   },
   {
    "duration": 4,
    "start_time": "2022-05-11T10:25:05.622Z"
   },
   {
    "duration": 7,
    "start_time": "2022-05-11T10:25:07.324Z"
   },
   {
    "duration": 4,
    "start_time": "2022-05-11T10:25:08.755Z"
   },
   {
    "duration": 27,
    "start_time": "2022-05-11T10:25:09.981Z"
   },
   {
    "duration": 18,
    "start_time": "2022-05-11T10:25:13.167Z"
   },
   {
    "duration": 27,
    "start_time": "2022-05-11T10:25:14.647Z"
   },
   {
    "duration": 64,
    "start_time": "2022-05-11T10:25:16.247Z"
   },
   {
    "duration": 74,
    "start_time": "2022-05-11T10:25:17.950Z"
   },
   {
    "duration": 61,
    "start_time": "2022-05-11T10:25:18.470Z"
   },
   {
    "duration": 52,
    "start_time": "2022-05-11T10:25:22.526Z"
   },
   {
    "duration": 45,
    "start_time": "2022-05-11T10:25:28.407Z"
   },
   {
    "duration": 8,
    "start_time": "2022-05-11T10:25:52.215Z"
   },
   {
    "duration": 3,
    "start_time": "2022-05-11T10:25:53.639Z"
   },
   {
    "duration": 10,
    "start_time": "2022-05-11T10:25:55.151Z"
   },
   {
    "duration": 7,
    "start_time": "2022-05-11T10:25:56.406Z"
   },
   {
    "duration": 45,
    "start_time": "2022-05-11T10:26:13.302Z"
   },
   {
    "duration": 46,
    "start_time": "2022-05-11T10:26:17.958Z"
   },
   {
    "duration": 18,
    "start_time": "2022-05-11T10:27:04.861Z"
   },
   {
    "duration": 16,
    "start_time": "2022-05-11T10:27:30.870Z"
   },
   {
    "duration": 17,
    "start_time": "2022-05-11T10:28:03.134Z"
   },
   {
    "duration": 5,
    "start_time": "2022-05-11T10:28:12.900Z"
   },
   {
    "duration": 31,
    "start_time": "2022-05-11T10:28:14.741Z"
   },
   {
    "duration": 26,
    "start_time": "2022-05-11T10:28:16.309Z"
   },
   {
    "duration": 40,
    "start_time": "2022-05-11T10:28:16.338Z"
   },
   {
    "duration": 24,
    "start_time": "2022-05-11T10:28:16.380Z"
   },
   {
    "duration": 31,
    "start_time": "2022-05-11T10:28:16.615Z"
   },
   {
    "duration": 28,
    "start_time": "2022-05-11T10:28:18.602Z"
   },
   {
    "duration": 87,
    "start_time": "2022-05-11T10:30:04.854Z"
   },
   {
    "duration": 13,
    "start_time": "2022-05-11T10:30:20.285Z"
   },
   {
    "duration": 15,
    "start_time": "2022-05-11T10:33:53.347Z"
   },
   {
    "duration": 13,
    "start_time": "2022-05-11T10:33:54.323Z"
   },
   {
    "duration": 25,
    "start_time": "2022-05-11T10:34:48.523Z"
   },
   {
    "duration": 24,
    "start_time": "2022-05-11T10:34:49.683Z"
   },
   {
    "duration": 12,
    "start_time": "2022-05-11T10:34:57.438Z"
   },
   {
    "duration": 5,
    "start_time": "2022-05-11T10:35:53.068Z"
   },
   {
    "duration": 20,
    "start_time": "2022-05-11T10:35:55.419Z"
   },
   {
    "duration": 27,
    "start_time": "2022-05-11T10:35:56.397Z"
   },
   {
    "duration": 21,
    "start_time": "2022-05-11T10:35:57.491Z"
   },
   {
    "duration": 13,
    "start_time": "2022-05-11T10:35:58.371Z"
   },
   {
    "duration": 9,
    "start_time": "2022-05-11T10:36:01.468Z"
   },
   {
    "duration": 5,
    "start_time": "2022-05-11T10:36:03.090Z"
   },
   {
    "duration": 7,
    "start_time": "2022-05-11T10:36:04.194Z"
   },
   {
    "duration": 5,
    "start_time": "2022-05-11T10:36:05.203Z"
   },
   {
    "duration": 14,
    "start_time": "2022-05-11T10:38:19.363Z"
   },
   {
    "duration": 24,
    "start_time": "2022-05-11T10:40:19.868Z"
   },
   {
    "duration": 30,
    "start_time": "2022-05-11T10:40:28.745Z"
   },
   {
    "duration": 4,
    "start_time": "2022-05-11T10:42:44.489Z"
   },
   {
    "duration": 418,
    "start_time": "2022-05-11T14:41:42.427Z"
   },
   {
    "duration": 146,
    "start_time": "2022-05-11T14:41:42.847Z"
   },
   {
    "duration": 16,
    "start_time": "2022-05-11T14:41:42.995Z"
   },
   {
    "duration": 9,
    "start_time": "2022-05-11T14:41:43.014Z"
   },
   {
    "duration": 47,
    "start_time": "2022-05-11T14:41:43.024Z"
   },
   {
    "duration": 4,
    "start_time": "2022-05-11T14:41:43.073Z"
   },
   {
    "duration": 12,
    "start_time": "2022-05-11T14:41:43.078Z"
   },
   {
    "duration": 6,
    "start_time": "2022-05-11T14:41:43.091Z"
   },
   {
    "duration": 25,
    "start_time": "2022-05-11T14:41:43.099Z"
   },
   {
    "duration": 21,
    "start_time": "2022-05-11T14:41:43.146Z"
   },
   {
    "duration": 24,
    "start_time": "2022-05-11T14:41:43.168Z"
   },
   {
    "duration": 83,
    "start_time": "2022-05-11T14:41:43.193Z"
   },
   {
    "duration": 84,
    "start_time": "2022-05-11T14:41:43.277Z"
   },
   {
    "duration": 57,
    "start_time": "2022-05-11T14:41:43.362Z"
   },
   {
    "duration": 60,
    "start_time": "2022-05-11T14:41:43.420Z"
   },
   {
    "duration": 13,
    "start_time": "2022-05-11T14:41:43.481Z"
   },
   {
    "duration": 9,
    "start_time": "2022-05-11T14:41:43.495Z"
   },
   {
    "duration": 13,
    "start_time": "2022-05-11T14:41:43.506Z"
   },
   {
    "duration": 55,
    "start_time": "2022-05-11T14:41:43.520Z"
   },
   {
    "duration": 14,
    "start_time": "2022-05-11T14:41:43.576Z"
   },
   {
    "duration": 14,
    "start_time": "2022-05-11T14:41:43.592Z"
   },
   {
    "duration": 4,
    "start_time": "2022-05-11T14:41:43.607Z"
   },
   {
    "duration": 43,
    "start_time": "2022-05-11T14:41:43.612Z"
   },
   {
    "duration": 15,
    "start_time": "2022-05-11T14:41:43.657Z"
   },
   {
    "duration": 14,
    "start_time": "2022-05-11T14:41:43.673Z"
   },
   {
    "duration": 13,
    "start_time": "2022-05-11T14:41:43.689Z"
   },
   {
    "duration": 44,
    "start_time": "2022-05-11T14:41:43.704Z"
   },
   {
    "duration": 16,
    "start_time": "2022-05-11T14:41:43.751Z"
   },
   {
    "duration": 87,
    "start_time": "2022-05-11T14:41:43.768Z"
   },
   {
    "duration": 21,
    "start_time": "2022-05-11T14:41:43.857Z"
   },
   {
    "duration": 18,
    "start_time": "2022-05-11T14:41:43.879Z"
   },
   {
    "duration": 3,
    "start_time": "2022-05-11T14:41:43.899Z"
   },
   {
    "duration": 48,
    "start_time": "2022-05-11T14:41:43.904Z"
   },
   {
    "duration": 12,
    "start_time": "2022-05-11T14:41:43.953Z"
   },
   {
    "duration": 16,
    "start_time": "2022-05-11T14:41:43.967Z"
   },
   {
    "duration": 11,
    "start_time": "2022-05-11T14:41:43.984Z"
   },
   {
    "duration": 9,
    "start_time": "2022-05-11T14:41:43.996Z"
   },
   {
    "duration": 7,
    "start_time": "2022-05-11T14:41:44.007Z"
   },
   {
    "duration": 36,
    "start_time": "2022-05-11T14:41:44.016Z"
   },
   {
    "duration": 7,
    "start_time": "2022-05-11T14:41:44.053Z"
   },
   {
    "duration": 11,
    "start_time": "2022-05-11T14:44:12.522Z"
   }
  ],
  "colab": {
   "collapsed_sections": [
    "E0vqbgi9ay0H",
    "VUC88oWjTJw2"
   ],
   "name": "yandex_music_project.ipynb",
   "provenance": []
  },
  "kernelspec": {
   "display_name": "Python 3 (ipykernel)",
   "language": "python",
   "name": "python3"
  },
  "language_info": {
   "codemirror_mode": {
    "name": "ipython",
    "version": 3
   },
   "file_extension": ".py",
   "mimetype": "text/x-python",
   "name": "python",
   "nbconvert_exporter": "python",
   "pygments_lexer": "ipython3",
   "version": "3.10.7"
  },
  "toc": {
   "base_numbering": 1,
   "nav_menu": {},
   "number_sections": true,
   "sideBar": true,
   "skip_h1_title": true,
   "title_cell": "Table of Contents",
   "title_sidebar": "Contents",
   "toc_cell": false,
   "toc_position": {
    "height": "calc(100% - 180px)",
    "left": "10px",
    "top": "150px",
    "width": "255.375px"
   },
   "toc_section_display": true,
   "toc_window_display": true
  }
 },
 "nbformat": 4,
 "nbformat_minor": 4
}
