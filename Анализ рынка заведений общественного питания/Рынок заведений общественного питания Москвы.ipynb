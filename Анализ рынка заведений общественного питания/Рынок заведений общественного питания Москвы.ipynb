{
 "cells": [
  {
   "cell_type": "markdown",
   "metadata": {},
   "source": [
    "<h1>Описание данных</h1>"
   ]
  },
  {
   "cell_type": "markdown",
   "metadata": {},
   "source": [
    "Таблица rest_data:\n",
    "\n",
    "id — идентификатор объекта;\n",
    "\n",
    "object_name — название объекта общественного питания;\n",
    "\n",
    "chain — сетевой ресторан;\n",
    "\n",
    "object_type — тип объекта общественного питания;\n",
    "\n",
    "address — адрес;\n",
    "\n",
    "number — количество посадочных мест."
   ]
  },
  {
   "cell_type": "markdown",
   "metadata": {},
   "source": [
    "<a id=\"preprocessing\"> </a>\n",
    "<h2>Загрузка данных и подготовка к анализу</h2>"
   ]
  },
  {
   "cell_type": "code",
   "execution_count": 151,
   "metadata": {},
   "outputs": [],
   "source": [
    "import pandas as pd\n",
    "import seaborn as sns\n",
    "import matplotlib.pyplot as plt\n",
    "import numpy as np\n",
    "pd.set_option('display.max_rows', 10)"
   ]
  },
  {
   "cell_type": "code",
   "execution_count": 152,
   "metadata": {},
   "outputs": [
    {
     "name": "stdout",
     "output_type": "stream",
     "text": [
      "<class 'pandas.core.frame.DataFrame'>\n",
      "RangeIndex: 15366 entries, 0 to 15365\n",
      "Data columns (total 6 columns):\n",
      " #   Column       Non-Null Count  Dtype \n",
      "---  ------       --------------  ----- \n",
      " 0   id           15366 non-null  int64 \n",
      " 1   object_name  15366 non-null  object\n",
      " 2   chain        15366 non-null  object\n",
      " 3   object_type  15366 non-null  object\n",
      " 4   address      15366 non-null  object\n",
      " 5   number       15366 non-null  int64 \n",
      "dtypes: int64(2), object(4)\n",
      "memory usage: 720.4+ KB\n"
     ]
    },
    {
     "data": {
      "text/plain": [
       "None"
      ]
     },
     "metadata": {},
     "output_type": "display_data"
    },
    {
     "data": {
      "text/html": [
       "<div>\n",
       "<style scoped>\n",
       "    .dataframe tbody tr th:only-of-type {\n",
       "        vertical-align: middle;\n",
       "    }\n",
       "\n",
       "    .dataframe tbody tr th {\n",
       "        vertical-align: top;\n",
       "    }\n",
       "\n",
       "    .dataframe thead th {\n",
       "        text-align: right;\n",
       "    }\n",
       "</style>\n",
       "<table border=\"1\" class=\"dataframe\">\n",
       "  <thead>\n",
       "    <tr style=\"text-align: right;\">\n",
       "      <th></th>\n",
       "      <th>id</th>\n",
       "      <th>object_name</th>\n",
       "      <th>chain</th>\n",
       "      <th>object_type</th>\n",
       "      <th>address</th>\n",
       "      <th>number</th>\n",
       "    </tr>\n",
       "  </thead>\n",
       "  <tbody>\n",
       "    <tr>\n",
       "      <th>0</th>\n",
       "      <td>151635</td>\n",
       "      <td>СМЕТАНА</td>\n",
       "      <td>нет</td>\n",
       "      <td>кафе</td>\n",
       "      <td>город Москва, улица Егора Абакумова, дом 9</td>\n",
       "      <td>48</td>\n",
       "    </tr>\n",
       "    <tr>\n",
       "      <th>1</th>\n",
       "      <td>77874</td>\n",
       "      <td>Родник</td>\n",
       "      <td>нет</td>\n",
       "      <td>кафе</td>\n",
       "      <td>город Москва, улица Талалихина, дом 2/1, корпус 1</td>\n",
       "      <td>35</td>\n",
       "    </tr>\n",
       "    <tr>\n",
       "      <th>2</th>\n",
       "      <td>24309</td>\n",
       "      <td>Кафе «Академия»</td>\n",
       "      <td>нет</td>\n",
       "      <td>кафе</td>\n",
       "      <td>город Москва, Абельмановская улица, дом 6</td>\n",
       "      <td>95</td>\n",
       "    </tr>\n",
       "    <tr>\n",
       "      <th>3</th>\n",
       "      <td>21894</td>\n",
       "      <td>ПИЦЦЕТОРИЯ</td>\n",
       "      <td>да</td>\n",
       "      <td>кафе</td>\n",
       "      <td>город Москва, Абрамцевская улица, дом 1</td>\n",
       "      <td>40</td>\n",
       "    </tr>\n",
       "    <tr>\n",
       "      <th>4</th>\n",
       "      <td>119365</td>\n",
       "      <td>Кафе «Вишневая метель»</td>\n",
       "      <td>нет</td>\n",
       "      <td>кафе</td>\n",
       "      <td>город Москва, Абрамцевская улица, дом 9, корпус 1</td>\n",
       "      <td>50</td>\n",
       "    </tr>\n",
       "  </tbody>\n",
       "</table>\n",
       "</div>"
      ],
      "text/plain": [
       "       id             object_name chain object_type  \\\n",
       "0  151635                 СМЕТАНА   нет        кафе   \n",
       "1   77874                  Родник   нет        кафе   \n",
       "2   24309         Кафе «Академия»   нет        кафе   \n",
       "3   21894              ПИЦЦЕТОРИЯ    да        кафе   \n",
       "4  119365  Кафе «Вишневая метель»   нет        кафе   \n",
       "\n",
       "                                             address  number  \n",
       "0         город Москва, улица Егора Абакумова, дом 9      48  \n",
       "1  город Москва, улица Талалихина, дом 2/1, корпус 1      35  \n",
       "2          город Москва, Абельмановская улица, дом 6      95  \n",
       "3            город Москва, Абрамцевская улица, дом 1      40  \n",
       "4  город Москва, Абрамцевская улица, дом 9, корпус 1      50  "
      ]
     },
     "execution_count": 152,
     "metadata": {},
     "output_type": "execute_result"
    }
   ],
   "source": [
    "data = pd.read_csv('/datasets/rest_data.csv')\n",
    "display(data.info())\n",
    "data.head()"
   ]
  },
  {
   "cell_type": "markdown",
   "metadata": {},
   "source": [
    "Проверяем количество уникальных значений в столбцах"
   ]
  },
  {
   "cell_type": "code",
   "execution_count": 153,
   "metadata": {
    "scrolled": true
   },
   "outputs": [
    {
     "name": "stdout",
     "output_type": "stream",
     "text": [
      "15366\n",
      "10393\n",
      "['нет' 'да']\n",
      "['кафе' 'столовая' 'закусочная' 'предприятие быстрого обслуживания'\n",
      " 'ресторан' 'кафетерий' 'буфет' 'бар' 'магазин (отдел кулинарии)']\n"
     ]
    },
    {
     "data": {
      "text/plain": [
       "9108"
      ]
     },
     "execution_count": 153,
     "metadata": {},
     "output_type": "execute_result"
    }
   ],
   "source": [
    "print(data['id'].nunique())\n",
    "print(data['object_name'].nunique())\n",
    "print(data['chain'].unique())\n",
    "print(data['object_type'].unique())\n",
    "data['address'].nunique()"
   ]
  },
  {
   "cell_type": "markdown",
   "metadata": {},
   "source": [
    "Заменяем заглавные буквы на строчные"
   ]
  },
  {
   "cell_type": "code",
   "execution_count": 154,
   "metadata": {},
   "outputs": [
    {
     "data": {
      "text/plain": [
       "столовая                         321\n",
       "кафе                             278\n",
       "шаурма                           250\n",
       "шоколадница                      158\n",
       "kfc                              155\n",
       "                                ... \n",
       "кафе березка                       1\n",
       "тоторо                             1\n",
       "восточный пекарь                   1\n",
       "базар-вокзал                       1\n",
       "развлекательный центр semenov      1\n",
       "Name: object_name, Length: 9840, dtype: int64"
      ]
     },
     "execution_count": 154,
     "metadata": {},
     "output_type": "execute_result"
    }
   ],
   "source": [
    "data['object_name'] = data['object_name'].str.lower()\n",
    "data['address'] = data['address'].str.lower()\n",
    "data['object_name'] = data['object_name'].str.replace('«','')\n",
    "data['object_name'] = data['object_name'].str.replace('»','')\n",
    "data['object_name'].value_counts()"
   ]
  },
  {
   "cell_type": "code",
   "execution_count": 155,
   "metadata": {},
   "outputs": [
    {
     "data": {
      "text/plain": [
       "0    Шоколадница\n",
       "dtype: object"
      ]
     },
     "execution_count": 155,
     "metadata": {},
     "output_type": "execute_result"
    }
   ],
   "source": [
    "# Код ревьюера\n",
    "\n",
    "pd.Series(['кафе «Шоколадница»']).replace('.*«([\\w\\s]+)»',r'\\1',regex=True)"
   ]
  },
  {
   "cell_type": "markdown",
   "metadata": {},
   "source": [
    "Удаляем дубликаты"
   ]
  },
  {
   "cell_type": "code",
   "execution_count": 156,
   "metadata": {},
   "outputs": [
    {
     "name": "stdout",
     "output_type": "stream",
     "text": [
      "<class 'pandas.core.frame.DataFrame'>\n",
      "Int64Index: 15281 entries, 0 to 15365\n",
      "Data columns (total 6 columns):\n",
      " #   Column       Non-Null Count  Dtype \n",
      "---  ------       --------------  ----- \n",
      " 0   id           15281 non-null  int64 \n",
      " 1   object_name  15281 non-null  object\n",
      " 2   chain        15281 non-null  object\n",
      " 3   object_type  15281 non-null  object\n",
      " 4   address      15281 non-null  object\n",
      " 5   number       15281 non-null  int64 \n",
      "dtypes: int64(2), object(4)\n",
      "memory usage: 835.7+ KB\n"
     ]
    }
   ],
   "source": [
    "data = data.drop_duplicates(subset=['object_name', 'chain', 'object_type', 'address', 'number'])\n",
    "data.info()"
   ]
  },
  {
   "cell_type": "markdown",
   "metadata": {},
   "source": [
    "Объединяем исходную и временные таблицы по индексу, чтобы удалить строки с дублирующимися адресами"
   ]
  },
  {
   "cell_type": "markdown",
   "metadata": {},
   "source": [
    "Вывод: строки приведены к нижнему регистру, удалены дубликаты строк."
   ]
  },
  {
   "cell_type": "markdown",
   "metadata": {},
   "source": [
    "<h2>Анализ данных</h2>"
   ]
  },
  {
   "cell_type": "markdown",
   "metadata": {},
   "source": [
    "Определим соотношение видов объектов общественного питания по количеству"
   ]
  },
  {
   "cell_type": "code",
   "execution_count": 158,
   "metadata": {},
   "outputs": [
    {
     "data": {
      "image/png": "[encoded data removed]",
      "text/plain": [
       "<Figure size 2250x900 with 1 Axes>"
      ]
     },
     "metadata": {
      "needs_background": "light"
     },
     "output_type": "display_data"
    }
   ],
   "source": [
    "fig, ax = plt.subplots(figsize=(15,6), dpi=150)\n",
    "\n",
    "sns.barplot(x='object_type', y='id', data=data.groupby('object_type')['id'].count().reset_index(), ax=ax)\n",
    "\n",
    "ax.set_title('Количество объектов общественного питания')\n",
    "ax.set_xticklabels(['\\n'.join(label.get_text().split()) for label in ax.get_xticklabels()])\n",
    "plt.show()"
   ]
  },
  {
   "cell_type": "markdown",
   "metadata": {},
   "source": [
    "Кафе, столовые, рестораны и предприятия быстрого обслуживания выделяются из общей массы"
   ]
  },
  {
   "cell_type": "markdown",
   "metadata": {},
   "source": [
    "Определим соотношение сетевых и несетевых заведений по количеству"
   ]
  },
  {
   "cell_type": "code",
   "execution_count": 159,
   "metadata": {},
   "outputs": [
    {
     "data": {
      "image/png": "[encoded data removed]",
      "text/plain": [
       "<Figure size 432x288 with 1 Axes>"
      ]
     },
     "metadata": {
      "needs_background": "light"
     },
     "output_type": "display_data"
    },
    {
     "data": {
      "image/png": "[encoded data removed]",
      "text/plain": [
       "<Figure size 432x288 with 1 Axes>"
      ]
     },
     "metadata": {},
     "output_type": "display_data"
    }
   ],
   "source": [
    "sns.barplot(x='chain', y='id', data=data.groupby('chain')['id'].count().reset_index())\n",
    "plt.title('Соотношение сетевых сетевых и несетевых заведений')\n",
    "plt.show()\n",
    "plt.pie(x='id', data=data.groupby('chain')['id'].count().reset_index(), labels='chain', autopct='%.0f%%')\n",
    "plt.title('Соотношение сетевых сетевых и несетевых заведений')\n",
    "plt.show()"
   ]
  },
  {
   "cell_type": "markdown",
   "metadata": {},
   "source": [
    "Сетевых заведений примерно в 4 раза меньше, чем несетевых"
   ]
  },
  {
   "cell_type": "markdown",
   "metadata": {},
   "source": [
    "Посмотрим зависимость сетевого распространения от вида объекта"
   ]
  },
  {
   "cell_type": "code",
   "execution_count": 160,
   "metadata": {},
   "outputs": [
    {
     "data": {
      "image/png": "[encoded data removed]",
      "text/plain": [
       "<Figure size 2160x720 with 1 Axes>"
      ]
     },
     "metadata": {
      "needs_background": "light"
     },
     "output_type": "display_data"
    }
   ],
   "source": [
    "plt.figure(figsize=(30, 10))\n",
    "sns.barplot(x='object_type', y='id', data=data.groupby(['chain', 'object_type']).count()['id'].reset_index(), hue='chain')\n",
    "plt.title('Зависимость сетевого распространения от вида объекта')\n",
    "plt.show()"
   ]
  },
  {
   "cell_type": "code",
   "execution_count": 162,
   "metadata": {},
   "outputs": [
    {
     "data": {
      "image/png": "[encoded data removed]",
      "text/plain": [
       "<Figure size 2250x900 with 9 Axes>"
      ]
     },
     "metadata": {},
     "output_type": "display_data"
    }
   ],
   "source": [
    "fig, axes = plt.subplots(int(np.ceil(data['object_type'].nunique() / 3)),3,figsize=(15,6), dpi=150)\n",
    "\n",
    "for i,ax in zip(data['object_type'].unique(), axes.flat):\n",
    "    ax.pie(x='id', data=data[data['object_type'] == i].groupby('chain')['id'].count().reset_index(), labels='chain', autopct='%.0f%%')\n",
    "    ax.set_title(i)\n",
    "    \n",
    "    \n",
    "fig.suptitle('Соотношение сетевых/несетевых заведений по количеству')\n",
    "plt.tight_layout()\n",
    "plt.show()"
   ]
  },
  {
   "cell_type": "markdown",
   "metadata": {},
   "source": [
    "Сетевое распространение в большей степени характерно для предприятий быстрого обслуживания."
   ]
  },
  {
   "cell_type": "markdown",
   "metadata": {},
   "source": [
    "Узнаем что характерно для сетевых заведений: много заведений с небольшим числом посадочных мест в каждом или мало заведений с большим количеством посадочных мест?"
   ]
  },
  {
   "cell_type": "code",
   "execution_count": 164,
   "metadata": {},
   "outputs": [
    {
     "name": "stdout",
     "output_type": "stream",
     "text": [
      "                    count        mean\n",
      "object_name                          \n",
      "bocconcino              3   66.666667\n",
      "burger club             3   20.333333\n",
      "coffeeshop company      4   47.250000\n",
      "cofix                  25    9.600000\n",
      "correas                 3   44.000000\n",
      "...                   ...         ...\n",
      "шоколадница           157   57.184713\n",
      "штолле                 13   30.076923\n",
      "якитория               38  117.157895\n",
      "япоша                   2  105.000000\n",
      "ёрш                     4  112.250000\n",
      "\n",
      "[248 rows x 2 columns]\n"
     ]
    }
   ],
   "source": [
    "temp = data[data['chain'] == 'да'].pivot_table(index=['object_name'], values='number', aggfunc=['count','mean'])\n",
    "temp.columns = temp.columns.droplevel(1)\n",
    "temp = temp.query('count > 1')\n",
    "print(temp)"
   ]
  },
  {
   "cell_type": "markdown",
   "metadata": {},
   "source": [
    "Определим какие сети считать маленькими/средними/большими (то же самое с посадочными местами)"
   ]
  },
  {
   "cell_type": "code",
   "execution_count": 165,
   "metadata": {},
   "outputs": [
    {
     "data": {
      "text/plain": [
       "array([25.80712766, 66.68533333])"
      ]
     },
     "execution_count": 165,
     "metadata": {},
     "output_type": "execute_result"
    }
   ],
   "source": [
    "np.percentile(temp['mean'], [33, 66])"
   ]
  },
  {
   "cell_type": "markdown",
   "metadata": {},
   "source": [
    "Зададим функцию для автоматического определения категории заведения по размеру сети и количеству посадочных мест"
   ]
  },
  {
   "cell_type": "code",
   "execution_count": 166,
   "metadata": {},
   "outputs": [],
   "source": [
    "def grouping(count):\n",
    "    chain_cat = ['small', 'middle', 'big']\n",
    "    if count < 3:\n",
    "        return chain_cat[0]\n",
    "    elif count < 10:\n",
    "        return chain_cat[1]\n",
    "    else:\n",
    "        return chain_cat[2]\n",
    "    \n",
    "def grouping_seats(mean):\n",
    "    seats_cat = ['small', 'middle', 'big']\n",
    "    if mean < 26:\n",
    "        return seats_cat[0]\n",
    "    elif mean < 67:\n",
    "        return seats_cat[1]\n",
    "    else:\n",
    "        return seats_cat[2]"
   ]
  },
  {
   "cell_type": "markdown",
   "metadata": {},
   "source": [
    "Разбиваем на категории"
   ]
  },
  {
   "cell_type": "code",
   "execution_count": 167,
   "metadata": {
    "scrolled": true
   },
   "outputs": [
    {
     "data": {
      "text/html": [
       "<div>\n",
       "<style scoped>\n",
       "    .dataframe tbody tr th:only-of-type {\n",
       "        vertical-align: middle;\n",
       "    }\n",
       "\n",
       "    .dataframe tbody tr th {\n",
       "        vertical-align: top;\n",
       "    }\n",
       "\n",
       "    .dataframe thead th {\n",
       "        text-align: right;\n",
       "    }\n",
       "</style>\n",
       "<table border=\"1\" class=\"dataframe\">\n",
       "  <thead>\n",
       "    <tr style=\"text-align: right;\">\n",
       "      <th></th>\n",
       "      <th>count</th>\n",
       "      <th>mean</th>\n",
       "      <th>chain_cat</th>\n",
       "      <th>seats_cat</th>\n",
       "    </tr>\n",
       "    <tr>\n",
       "      <th>object_name</th>\n",
       "      <th></th>\n",
       "      <th></th>\n",
       "      <th></th>\n",
       "      <th></th>\n",
       "    </tr>\n",
       "  </thead>\n",
       "  <tbody>\n",
       "    <tr>\n",
       "      <th>my box</th>\n",
       "      <td>2</td>\n",
       "      <td>0.000000</td>\n",
       "      <td>small</td>\n",
       "      <td>small</td>\n",
       "    </tr>\n",
       "    <tr>\n",
       "      <th>wokker</th>\n",
       "      <td>2</td>\n",
       "      <td>0.000000</td>\n",
       "      <td>small</td>\n",
       "      <td>small</td>\n",
       "    </tr>\n",
       "    <tr>\n",
       "      <th>точка продажи готовой еды милти</th>\n",
       "      <td>2</td>\n",
       "      <td>0.000000</td>\n",
       "      <td>small</td>\n",
       "      <td>small</td>\n",
       "    </tr>\n",
       "    <tr>\n",
       "      <th>yogurt frenzy</th>\n",
       "      <td>2</td>\n",
       "      <td>2.000000</td>\n",
       "      <td>small</td>\n",
       "      <td>small</td>\n",
       "    </tr>\n",
       "    <tr>\n",
       "      <th>роснефть</th>\n",
       "      <td>2</td>\n",
       "      <td>3.000000</td>\n",
       "      <td>small</td>\n",
       "      <td>small</td>\n",
       "    </tr>\n",
       "    <tr>\n",
       "      <th>...</th>\n",
       "      <td>...</td>\n",
       "      <td>...</td>\n",
       "      <td>...</td>\n",
       "      <td>...</td>\n",
       "    </tr>\n",
       "    <tr>\n",
       "      <th>теремок</th>\n",
       "      <td>94</td>\n",
       "      <td>25.606383</td>\n",
       "      <td>big</td>\n",
       "      <td>small</td>\n",
       "    </tr>\n",
       "    <tr>\n",
       "      <th>бургер кинг</th>\n",
       "      <td>137</td>\n",
       "      <td>46.649635</td>\n",
       "      <td>big</td>\n",
       "      <td>middle</td>\n",
       "    </tr>\n",
       "    <tr>\n",
       "      <th>макдоналдс</th>\n",
       "      <td>150</td>\n",
       "      <td>87.700000</td>\n",
       "      <td>big</td>\n",
       "      <td>big</td>\n",
       "    </tr>\n",
       "    <tr>\n",
       "      <th>kfc</th>\n",
       "      <td>155</td>\n",
       "      <td>55.341935</td>\n",
       "      <td>big</td>\n",
       "      <td>middle</td>\n",
       "    </tr>\n",
       "    <tr>\n",
       "      <th>шоколадница</th>\n",
       "      <td>157</td>\n",
       "      <td>57.184713</td>\n",
       "      <td>big</td>\n",
       "      <td>middle</td>\n",
       "    </tr>\n",
       "  </tbody>\n",
       "</table>\n",
       "<p>248 rows × 4 columns</p>\n",
       "</div>"
      ],
      "text/plain": [
       "                                 count       mean chain_cat seats_cat\n",
       "object_name                                                          \n",
       "my box                               2   0.000000     small     small\n",
       "wokker                               2   0.000000     small     small\n",
       "точка продажи готовой еды милти      2   0.000000     small     small\n",
       "yogurt frenzy                        2   2.000000     small     small\n",
       "роснефть                             2   3.000000     small     small\n",
       "...                                ...        ...       ...       ...\n",
       "теремок                             94  25.606383       big     small\n",
       "бургер кинг                        137  46.649635       big    middle\n",
       "макдоналдс                         150  87.700000       big       big\n",
       "kfc                                155  55.341935       big    middle\n",
       "шоколадница                        157  57.184713       big    middle\n",
       "\n",
       "[248 rows x 4 columns]"
      ]
     },
     "execution_count": 167,
     "metadata": {},
     "output_type": "execute_result"
    }
   ],
   "source": [
    "temp['chain_cat'] = temp['count'].apply(grouping)\n",
    "temp['seats_cat'] = temp['mean'].apply(grouping_seats)\n",
    "temp = temp.sort_values(by=['count','mean'])\n",
    "temp"
   ]
  },
  {
   "cell_type": "code",
   "execution_count": 168,
   "metadata": {},
   "outputs": [
    {
     "data": {
      "image/png": "[encoded data removed]",
      "text/plain": [
       "<Figure size 2250x900 with 1 Axes>"
      ]
     },
     "metadata": {
      "needs_background": "light"
     },
     "output_type": "display_data"
    }
   ],
   "source": [
    "fig, ax = plt.subplots(figsize=(15,6), dpi=150)\n",
    "sns.stripplot(x='count',y='mean',data=temp)\n",
    "plt.xlabel('Размер сети')\n",
    "plt.ylabel('Среднее число посадочных мест')\n",
    "plt.title('Зависимость среднего числа посадочных мест от размера сети')\n",
    "plt.show()"
   ]
  },
  {
   "cell_type": "code",
   "execution_count": 170,
   "metadata": {},
   "outputs": [
    {
     "data": {
      "text/html": [
       "<div>\n",
       "<style scoped>\n",
       "    .dataframe tbody tr th:only-of-type {\n",
       "        vertical-align: middle;\n",
       "    }\n",
       "\n",
       "    .dataframe tbody tr th {\n",
       "        vertical-align: top;\n",
       "    }\n",
       "\n",
       "    .dataframe thead th {\n",
       "        text-align: right;\n",
       "    }\n",
       "</style>\n",
       "<table border=\"1\" class=\"dataframe\">\n",
       "  <thead>\n",
       "    <tr style=\"text-align: right;\">\n",
       "      <th></th>\n",
       "      <th>chain_cat</th>\n",
       "      <th>seats_cat</th>\n",
       "      <th>count</th>\n",
       "    </tr>\n",
       "  </thead>\n",
       "  <tbody>\n",
       "    <tr>\n",
       "      <th>8</th>\n",
       "      <td>small</td>\n",
       "      <td>small</td>\n",
       "      <td>30</td>\n",
       "    </tr>\n",
       "    <tr>\n",
       "      <th>7</th>\n",
       "      <td>small</td>\n",
       "      <td>middle</td>\n",
       "      <td>23</td>\n",
       "    </tr>\n",
       "    <tr>\n",
       "      <th>6</th>\n",
       "      <td>small</td>\n",
       "      <td>big</td>\n",
       "      <td>23</td>\n",
       "    </tr>\n",
       "    <tr>\n",
       "      <th>5</th>\n",
       "      <td>middle</td>\n",
       "      <td>small</td>\n",
       "      <td>33</td>\n",
       "    </tr>\n",
       "    <tr>\n",
       "      <th>4</th>\n",
       "      <td>middle</td>\n",
       "      <td>middle</td>\n",
       "      <td>40</td>\n",
       "    </tr>\n",
       "    <tr>\n",
       "      <th>3</th>\n",
       "      <td>middle</td>\n",
       "      <td>big</td>\n",
       "      <td>46</td>\n",
       "    </tr>\n",
       "    <tr>\n",
       "      <th>2</th>\n",
       "      <td>big</td>\n",
       "      <td>small</td>\n",
       "      <td>19</td>\n",
       "    </tr>\n",
       "    <tr>\n",
       "      <th>1</th>\n",
       "      <td>big</td>\n",
       "      <td>middle</td>\n",
       "      <td>19</td>\n",
       "    </tr>\n",
       "    <tr>\n",
       "      <th>0</th>\n",
       "      <td>big</td>\n",
       "      <td>big</td>\n",
       "      <td>15</td>\n",
       "    </tr>\n",
       "  </tbody>\n",
       "</table>\n",
       "</div>"
      ],
      "text/plain": [
       "  chain_cat seats_cat  count\n",
       "8     small     small     30\n",
       "7     small    middle     23\n",
       "6     small       big     23\n",
       "5    middle     small     33\n",
       "4    middle    middle     40\n",
       "3    middle       big     46\n",
       "2       big     small     19\n",
       "1       big    middle     19\n",
       "0       big       big     15"
      ]
     },
     "metadata": {},
     "output_type": "display_data"
    },
    {
     "data": {
      "image/png": "[encoded data removed]",
      "text/plain": [
       "<Figure size 432x288 with 1 Axes>"
      ]
     },
     "metadata": {
      "needs_background": "light"
     },
     "output_type": "display_data"
    }
   ],
   "source": [
    "temp = temp.groupby(['chain_cat','seats_cat'])['count'].count().reset_index().sort_values(by=['chain_cat', 'seats_cat'], ascending=[False,False])\n",
    "display(temp)\n",
    "sns.barplot(x='chain_cat', y='count', data=temp, hue='seats_cat')\n",
    "plt.title('Зависимость среднего числа посадочных мест от размера сети')\n",
    "plt.show()"
   ]
  },
  {
   "cell_type": "markdown",
   "metadata": {},
   "source": [
    "Наибольшее число сетей имеют от 3 до 10 заведений. Для маленьких сетей более характерно маленькое количество посадочных мест (<26), для средних сетей - средне-большое (>26 и <67). У больших сетей нет ярко-выраженного числа мест"
   ]
  },
  {
   "cell_type": "markdown",
   "metadata": {},
   "source": [
    "Определим какой вид объектов общественного питания предоставляет в среднем самое большое количество посадочных мест"
   ]
  },
  {
   "cell_type": "code",
   "execution_count": 172,
   "metadata": {},
   "outputs": [
    {
     "data": {
      "image/png": "[encoded data removed]",
      "text/plain": [
       "<Figure size 2160x720 with 1 Axes>"
      ]
     },
     "metadata": {
      "needs_background": "light"
     },
     "output_type": "display_data"
    }
   ],
   "source": [
    "plt.figure(figsize=(30, 10), )\n",
    "sns.barplot(x='object_type', y='number', data=data.groupby(['object_type'])['number'].mean().reset_index())\n",
    "plt.title('Среднее число мест по каждому виду объекта')\n",
    "plt.show()"
   ]
  },
  {
   "cell_type": "markdown",
   "metadata": {},
   "source": [
    "В среднем наибольшое число посадочных мест предоставляются столовыми"
   ]
  },
  {
   "cell_type": "markdown",
   "metadata": {},
   "source": [
    "Выделим информацию об улице в отдельный столбец"
   ]
  },
  {
   "cell_type": "code",
   "execution_count": 173,
   "metadata": {},
   "outputs": [],
   "source": [
    "data['street'] = data['address'].str.split(\",\")\n",
    "data['street'] = data['street'].apply(lambda x: x[1])"
   ]
  },
  {
   "cell_type": "markdown",
   "metadata": {},
   "source": [
    "Определим топ-10 улиц по количеству объектов общественного питания"
   ]
  },
  {
   "cell_type": "code",
   "execution_count": 175,
   "metadata": {},
   "outputs": [
    {
     "data": {
      "image/png": "[encoded data removed]",
      "text/plain": [
       "<Figure size 2160x720 with 1 Axes>"
      ]
     },
     "metadata": {
      "needs_background": "light"
     },
     "output_type": "display_data"
    }
   ],
   "source": [
    "temp = data.groupby('street')['id'].count().reset_index().sort_values(by='id', ascending=False)\n",
    "temp = temp.query('street != \" город зеленоград\" & street != \" поселение сосенское\"').head(10)\n",
    "plt.figure(figsize=(30, 10))\n",
    "sns.barplot(x='street', y='id', data=temp)\n",
    "plt.title('Топ-10 улиц по количеству объектов общественного питания')\n",
    "plt.show()"
   ]
  },
  {
   "cell_type": "code",
   "execution_count": 176,
   "metadata": {
    "scrolled": true
   },
   "outputs": [
    {
     "data": {
      "text/html": [
       "<div>\n",
       "<style scoped>\n",
       "    .dataframe tbody tr th:only-of-type {\n",
       "        vertical-align: middle;\n",
       "    }\n",
       "\n",
       "    .dataframe tbody tr th {\n",
       "        vertical-align: top;\n",
       "    }\n",
       "\n",
       "    .dataframe thead th {\n",
       "        text-align: right;\n",
       "    }\n",
       "</style>\n",
       "<table border=\"1\" class=\"dataframe\">\n",
       "  <thead>\n",
       "    <tr style=\"text-align: right;\">\n",
       "      <th></th>\n",
       "      <th>ID</th>\n",
       "      <th>Name</th>\n",
       "      <th>global_id</th>\n",
       "      <th>IsNetObject</th>\n",
       "      <th>OperatingCompany</th>\n",
       "      <th>TypeObject</th>\n",
       "      <th>AdmArea</th>\n",
       "      <th>District</th>\n",
       "      <th>Address</th>\n",
       "      <th>PublicPhone</th>\n",
       "      <th>SeatsCount</th>\n",
       "      <th>SocialPrivileges</th>\n",
       "      <th>Longitude_WGS84</th>\n",
       "      <th>Latitude_WGS84</th>\n",
       "      <th>geodata_center</th>\n",
       "      <th>geoarea</th>\n",
       "    </tr>\n",
       "  </thead>\n",
       "  <tbody>\n",
       "    <tr>\n",
       "      <th>0</th>\n",
       "      <td>Код</td>\n",
       "      <td>Наименование</td>\n",
       "      <td>global_id</td>\n",
       "      <td>Является сетевым</td>\n",
       "      <td>Название управляющей компании</td>\n",
       "      <td>Вид объекта</td>\n",
       "      <td>Административный округ по адресу</td>\n",
       "      <td>Район</td>\n",
       "      <td>Адрес</td>\n",
       "      <td>Контактный телефон</td>\n",
       "      <td>Число посадочных мест</td>\n",
       "      <td>Показатель социальных льгот</td>\n",
       "      <td>Долгота в WGS-84</td>\n",
       "      <td>Широта в WGS-84</td>\n",
       "      <td>geodata_center</td>\n",
       "      <td>geoarea</td>\n",
       "    </tr>\n",
       "    <tr>\n",
       "      <th>1</th>\n",
       "      <td>00151635</td>\n",
       "      <td>СМЕТАНА</td>\n",
       "      <td>637376221</td>\n",
       "      <td>нет</td>\n",
       "      <td>NaN</td>\n",
       "      <td>кафе</td>\n",
       "      <td>Северо-Восточный административный округ</td>\n",
       "      <td>Ярославский район</td>\n",
       "      <td>город Москва, улица Егора Абакумова, дом 9</td>\n",
       "      <td>PublicPhone:(499) 183-14-10\\n\\n</td>\n",
       "      <td>48</td>\n",
       "      <td>нет</td>\n",
       "      <td>37.7145650004360390</td>\n",
       "      <td>55.8790015313033730</td>\n",
       "      <td>NaN</td>\n",
       "      <td>NaN</td>\n",
       "    </tr>\n",
       "    <tr>\n",
       "      <th>2</th>\n",
       "      <td>000077874</td>\n",
       "      <td>Родник</td>\n",
       "      <td>637376331</td>\n",
       "      <td>нет</td>\n",
       "      <td>NaN</td>\n",
       "      <td>кафе</td>\n",
       "      <td>Центральный административный округ</td>\n",
       "      <td>Таганский район</td>\n",
       "      <td>город Москва, улица Талалихина, дом 2/1, корпус 1</td>\n",
       "      <td>PublicPhone:(495) 676-55-35\\n\\n</td>\n",
       "      <td>35</td>\n",
       "      <td>нет</td>\n",
       "      <td>37.6733061300344000</td>\n",
       "      <td>55.7382386551547000</td>\n",
       "      <td>NaN</td>\n",
       "      <td>NaN</td>\n",
       "    </tr>\n",
       "    <tr>\n",
       "      <th>3</th>\n",
       "      <td>000024309</td>\n",
       "      <td>Кафе «Академия»</td>\n",
       "      <td>637376349</td>\n",
       "      <td>нет</td>\n",
       "      <td>NaN</td>\n",
       "      <td>ресторан</td>\n",
       "      <td>Центральный административный округ</td>\n",
       "      <td>Таганский район</td>\n",
       "      <td>Российская Федерация, город Москва, внутригоро...</td>\n",
       "      <td>PublicPhone:(495) 662-30-10\\n\\n</td>\n",
       "      <td>95</td>\n",
       "      <td>нет</td>\n",
       "      <td>37.6696475969381000</td>\n",
       "      <td>55.7355114718314000</td>\n",
       "      <td>NaN</td>\n",
       "      <td>NaN</td>\n",
       "    </tr>\n",
       "    <tr>\n",
       "      <th>4</th>\n",
       "      <td>000027429</td>\n",
       "      <td>ГБОУ «Школа № 1430 имени Героя Социалистическо...</td>\n",
       "      <td>637376480</td>\n",
       "      <td>нет</td>\n",
       "      <td>NaN</td>\n",
       "      <td>столовая</td>\n",
       "      <td>Северо-Восточный административный округ</td>\n",
       "      <td>район Лианозово</td>\n",
       "      <td>город Москва, Угличская улица, дом 17</td>\n",
       "      <td>PublicPhone:(499) 908-06-15\\n\\n</td>\n",
       "      <td>240</td>\n",
       "      <td>нет</td>\n",
       "      <td>37.5669400000000020</td>\n",
       "      <td>55.9040188006692200</td>\n",
       "      <td>NaN</td>\n",
       "      <td>NaN</td>\n",
       "    </tr>\n",
       "    <tr>\n",
       "      <th>...</th>\n",
       "      <td>...</td>\n",
       "      <td>...</td>\n",
       "      <td>...</td>\n",
       "      <td>...</td>\n",
       "      <td>...</td>\n",
       "      <td>...</td>\n",
       "      <td>...</td>\n",
       "      <td>...</td>\n",
       "      <td>...</td>\n",
       "      <td>...</td>\n",
       "      <td>...</td>\n",
       "      <td>...</td>\n",
       "      <td>...</td>\n",
       "      <td>...</td>\n",
       "      <td>...</td>\n",
       "      <td>...</td>\n",
       "    </tr>\n",
       "    <tr>\n",
       "      <th>19728</th>\n",
       "      <td>00365961</td>\n",
       "      <td>Каравай СВ</td>\n",
       "      <td>2383175413</td>\n",
       "      <td>нет</td>\n",
       "      <td>NaN</td>\n",
       "      <td>кафетерий</td>\n",
       "      <td>Северо-Восточный административный округ</td>\n",
       "      <td>Алексеевский район</td>\n",
       "      <td>Российская Федерация, город Москва, внутригоро...</td>\n",
       "      <td>NaN</td>\n",
       "      <td>0</td>\n",
       "      <td>нет</td>\n",
       "      <td>37.6379209999999840</td>\n",
       "      <td>55.8060227719679460</td>\n",
       "      <td>{\"coordinates\":[37.637921,55.8060227719679],\"t...</td>\n",
       "      <td>NaN</td>\n",
       "    </tr>\n",
       "    <tr>\n",
       "      <th>19729</th>\n",
       "      <td>00365954</td>\n",
       "      <td>Скалка</td>\n",
       "      <td>2383175414</td>\n",
       "      <td>нет</td>\n",
       "      <td>NaN</td>\n",
       "      <td>кафетерий</td>\n",
       "      <td>Северо-Восточный административный округ</td>\n",
       "      <td>Алексеевский район</td>\n",
       "      <td>Российская Федерация, город Москва, внутригоро...</td>\n",
       "      <td>NaN</td>\n",
       "      <td>0</td>\n",
       "      <td>нет</td>\n",
       "      <td>37.6558609999999940</td>\n",
       "      <td>55.8231707769724680</td>\n",
       "      <td>{\"coordinates\":[37.655861,55.8231707769725],\"t...</td>\n",
       "      <td>NaN</td>\n",
       "    </tr>\n",
       "    <tr>\n",
       "      <th>19730</th>\n",
       "      <td>00365882</td>\n",
       "      <td>Cofix</td>\n",
       "      <td>2383180529</td>\n",
       "      <td>да</td>\n",
       "      <td>Cofix</td>\n",
       "      <td>закусочная</td>\n",
       "      <td>Восточный административный округ</td>\n",
       "      <td>район Сокольники</td>\n",
       "      <td>город Москва, Русаковская улица, дом 31</td>\n",
       "      <td>NaN</td>\n",
       "      <td>2</td>\n",
       "      <td>нет</td>\n",
       "      <td>37.6786070000000000</td>\n",
       "      <td>55.7884727668539500</td>\n",
       "      <td>{\"coordinates\":[37.678607,55.7884727668539],\"t...</td>\n",
       "      <td>NaN</td>\n",
       "    </tr>\n",
       "    <tr>\n",
       "      <th>19731</th>\n",
       "      <td>00365894</td>\n",
       "      <td>ПРАВDА Кофе</td>\n",
       "      <td>2383181522</td>\n",
       "      <td>да</td>\n",
       "      <td>ПРАВDА Кофе</td>\n",
       "      <td>кафетерий</td>\n",
       "      <td>Центральный административный округ</td>\n",
       "      <td>Тверской район</td>\n",
       "      <td>Российская Федерация, город Москва, внутригоро...</td>\n",
       "      <td>NaN</td>\n",
       "      <td>0</td>\n",
       "      <td>нет</td>\n",
       "      <td>37.6201610000000030</td>\n",
       "      <td>55.7698977614499190</td>\n",
       "      <td>{\"coordinates\":[37.620161,55.7698977614499],\"t...</td>\n",
       "      <td>NaN</td>\n",
       "    </tr>\n",
       "    <tr>\n",
       "      <th>19732</th>\n",
       "      <td>00365892</td>\n",
       "      <td>Милти</td>\n",
       "      <td>2383181656</td>\n",
       "      <td>да</td>\n",
       "      <td>Милти</td>\n",
       "      <td>магазин (отдел кулинарии)</td>\n",
       "      <td>Центральный административный округ</td>\n",
       "      <td>Тверской район</td>\n",
       "      <td>Российская Федерация, город Москва, внутригоро...</td>\n",
       "      <td>NaN</td>\n",
       "      <td>0</td>\n",
       "      <td>нет</td>\n",
       "      <td>37.6201610000000030</td>\n",
       "      <td>55.7698977614499190</td>\n",
       "      <td>{\"coordinates\":[37.620161,55.7698977614499],\"t...</td>\n",
       "      <td>NaN</td>\n",
       "    </tr>\n",
       "  </tbody>\n",
       "</table>\n",
       "<p>19733 rows × 16 columns</p>\n",
       "</div>"
      ],
      "text/plain": [
       "              ID                                               Name  \\\n",
       "0            Код                                       Наименование   \n",
       "1       00151635                                            СМЕТАНА   \n",
       "2      000077874                                             Родник   \n",
       "3      000024309                                    Кафе «Академия»   \n",
       "4      000027429  ГБОУ «Школа № 1430 имени Героя Социалистическо...   \n",
       "...          ...                                                ...   \n",
       "19728   00365961                                         Каравай СВ   \n",
       "19729   00365954                                             Скалка   \n",
       "19730   00365882                                              Cofix   \n",
       "19731   00365894                                        ПРАВDА Кофе   \n",
       "19732   00365892                                              Милти   \n",
       "\n",
       "        global_id       IsNetObject               OperatingCompany  \\\n",
       "0       global_id  Является сетевым  Название управляющей компании   \n",
       "1       637376221               нет                            NaN   \n",
       "2       637376331               нет                            NaN   \n",
       "3       637376349               нет                            NaN   \n",
       "4       637376480               нет                            NaN   \n",
       "...           ...               ...                            ...   \n",
       "19728  2383175413               нет                            NaN   \n",
       "19729  2383175414               нет                            NaN   \n",
       "19730  2383180529                да                          Cofix   \n",
       "19731  2383181522                да                    ПРАВDА Кофе   \n",
       "19732  2383181656                да                          Милти   \n",
       "\n",
       "                      TypeObject                                  AdmArea  \\\n",
       "0                    Вид объекта         Административный округ по адресу   \n",
       "1                           кафе  Северо-Восточный административный округ   \n",
       "2                           кафе       Центральный административный округ   \n",
       "3                       ресторан       Центральный административный округ   \n",
       "4                       столовая  Северо-Восточный административный округ   \n",
       "...                          ...                                      ...   \n",
       "19728                  кафетерий  Северо-Восточный административный округ   \n",
       "19729                  кафетерий  Северо-Восточный административный округ   \n",
       "19730                 закусочная         Восточный административный округ   \n",
       "19731                  кафетерий       Центральный административный округ   \n",
       "19732  магазин (отдел кулинарии)       Центральный административный округ   \n",
       "\n",
       "                 District                                            Address  \\\n",
       "0                   Район                                              Адрес   \n",
       "1       Ярославский район         город Москва, улица Егора Абакумова, дом 9   \n",
       "2         Таганский район  город Москва, улица Талалихина, дом 2/1, корпус 1   \n",
       "3         Таганский район  Российская Федерация, город Москва, внутригоро...   \n",
       "4         район Лианозово              город Москва, Угличская улица, дом 17   \n",
       "...                   ...                                                ...   \n",
       "19728  Алексеевский район  Российская Федерация, город Москва, внутригоро...   \n",
       "19729  Алексеевский район  Российская Федерация, город Москва, внутригоро...   \n",
       "19730    район Сокольники            город Москва, Русаковская улица, дом 31   \n",
       "19731      Тверской район  Российская Федерация, город Москва, внутригоро...   \n",
       "19732      Тверской район  Российская Федерация, город Москва, внутригоро...   \n",
       "\n",
       "                           PublicPhone             SeatsCount  \\\n",
       "0                   Контактный телефон  Число посадочных мест   \n",
       "1      PublicPhone:(499) 183-14-10\\n\\n                     48   \n",
       "2      PublicPhone:(495) 676-55-35\\n\\n                     35   \n",
       "3      PublicPhone:(495) 662-30-10\\n\\n                     95   \n",
       "4      PublicPhone:(499) 908-06-15\\n\\n                    240   \n",
       "...                                ...                    ...   \n",
       "19728                              NaN                      0   \n",
       "19729                              NaN                      0   \n",
       "19730                              NaN                      2   \n",
       "19731                              NaN                      0   \n",
       "19732                              NaN                      0   \n",
       "\n",
       "                  SocialPrivileges      Longitude_WGS84       Latitude_WGS84  \\\n",
       "0      Показатель социальных льгот     Долгота в WGS-84      Широта в WGS-84   \n",
       "1                              нет  37.7145650004360390  55.8790015313033730   \n",
       "2                              нет  37.6733061300344000  55.7382386551547000   \n",
       "3                              нет  37.6696475969381000  55.7355114718314000   \n",
       "4                              нет  37.5669400000000020  55.9040188006692200   \n",
       "...                            ...                  ...                  ...   \n",
       "19728                          нет  37.6379209999999840  55.8060227719679460   \n",
       "19729                          нет  37.6558609999999940  55.8231707769724680   \n",
       "19730                          нет  37.6786070000000000  55.7884727668539500   \n",
       "19731                          нет  37.6201610000000030  55.7698977614499190   \n",
       "19732                          нет  37.6201610000000030  55.7698977614499190   \n",
       "\n",
       "                                          geodata_center  geoarea  \n",
       "0                                         geodata_center  geoarea  \n",
       "1                                                    NaN      NaN  \n",
       "2                                                    NaN      NaN  \n",
       "3                                                    NaN      NaN  \n",
       "4                                                    NaN      NaN  \n",
       "...                                                  ...      ...  \n",
       "19728  {\"coordinates\":[37.637921,55.8060227719679],\"t...      NaN  \n",
       "19729  {\"coordinates\":[37.655861,55.8231707769725],\"t...      NaN  \n",
       "19730  {\"coordinates\":[37.678607,55.7884727668539],\"t...      NaN  \n",
       "19731  {\"coordinates\":[37.620161,55.7698977614499],\"t...      NaN  \n",
       "19732  {\"coordinates\":[37.620161,55.7698977614499],\"t...      NaN  \n",
       "\n",
       "[19733 rows x 16 columns]"
      ]
     },
     "execution_count": 176,
     "metadata": {},
     "output_type": "execute_result"
    }
   ],
   "source": [
    "from io import BytesIO\n",
    "import requests\n",
    "spreadsheet_id = '1fnMV4HGCE-K7PGtx6mGjv4zrsSBhiZbMyfR14WfgpMs'\n",
    "file_name = 'https://docs.google.com/spreadsheets/d/{}/export?format=csv'.format(spreadsheet_id)\n",
    "r = requests.get(file_name)\n",
    "df = pd.read_csv(BytesIO(r.content))\n",
    "df"
   ]
  },
  {
   "cell_type": "code",
   "execution_count": 177,
   "metadata": {},
   "outputs": [
    {
     "name": "stderr",
     "output_type": "stream",
     "text": [
      "/tmp/ipykernel_325/501151208.py:3: SettingWithCopyWarning: \n",
      "A value is trying to be set on a copy of a slice from a DataFrame.\n",
      "Try using .loc[row_indexer,col_indexer] = value instead\n",
      "\n",
      "See the caveats in the documentation: https://pandas.pydata.org/pandas-docs/stable/user_guide/indexing.html#returning-a-view-versus-a-copy\n",
      "  district['district'] = district['district'].str.lower()\n",
      "/tmp/ipykernel_325/501151208.py:4: SettingWithCopyWarning: \n",
      "A value is trying to be set on a copy of a slice from a DataFrame.\n",
      "Try using .loc[row_indexer,col_indexer] = value instead\n",
      "\n",
      "See the caveats in the documentation: https://pandas.pydata.org/pandas-docs/stable/user_guide/indexing.html#returning-a-view-versus-a-copy\n",
      "  district['address'] = district['address'].str.lower()\n"
     ]
    },
    {
     "data": {
      "text/html": [
       "<div>\n",
       "<style scoped>\n",
       "    .dataframe tbody tr th:only-of-type {\n",
       "        vertical-align: middle;\n",
       "    }\n",
       "\n",
       "    .dataframe tbody tr th {\n",
       "        vertical-align: top;\n",
       "    }\n",
       "\n",
       "    .dataframe thead th {\n",
       "        text-align: right;\n",
       "    }\n",
       "</style>\n",
       "<table border=\"1\" class=\"dataframe\">\n",
       "  <thead>\n",
       "    <tr style=\"text-align: right;\">\n",
       "      <th></th>\n",
       "      <th>district</th>\n",
       "      <th>address</th>\n",
       "    </tr>\n",
       "  </thead>\n",
       "  <tbody>\n",
       "    <tr>\n",
       "      <th>1</th>\n",
       "      <td>ярославский район</td>\n",
       "      <td>город москва, улица егора абакумова, дом 9</td>\n",
       "    </tr>\n",
       "    <tr>\n",
       "      <th>2</th>\n",
       "      <td>таганский район</td>\n",
       "      <td>город москва, улица талалихина, дом 2/1, корпус 1</td>\n",
       "    </tr>\n",
       "    <tr>\n",
       "      <th>3</th>\n",
       "      <td>таганский район</td>\n",
       "      <td>российская федерация, город москва, внутригоро...</td>\n",
       "    </tr>\n",
       "    <tr>\n",
       "      <th>4</th>\n",
       "      <td>район лианозово</td>\n",
       "      <td>город москва, угличская улица, дом 17</td>\n",
       "    </tr>\n",
       "    <tr>\n",
       "      <th>5</th>\n",
       "      <td>район арбат</td>\n",
       "      <td>город москва, переулок сивцев вражек, дом 6/2</td>\n",
       "    </tr>\n",
       "    <tr>\n",
       "      <th>...</th>\n",
       "      <td>...</td>\n",
       "      <td>...</td>\n",
       "    </tr>\n",
       "    <tr>\n",
       "      <th>19728</th>\n",
       "      <td>алексеевский район</td>\n",
       "      <td>российская федерация, город москва, внутригоро...</td>\n",
       "    </tr>\n",
       "    <tr>\n",
       "      <th>19729</th>\n",
       "      <td>алексеевский район</td>\n",
       "      <td>российская федерация, город москва, внутригоро...</td>\n",
       "    </tr>\n",
       "    <tr>\n",
       "      <th>19730</th>\n",
       "      <td>район сокольники</td>\n",
       "      <td>город москва, русаковская улица, дом 31</td>\n",
       "    </tr>\n",
       "    <tr>\n",
       "      <th>19731</th>\n",
       "      <td>тверской район</td>\n",
       "      <td>российская федерация, город москва, внутригоро...</td>\n",
       "    </tr>\n",
       "    <tr>\n",
       "      <th>19732</th>\n",
       "      <td>тверской район</td>\n",
       "      <td>российская федерация, город москва, внутригоро...</td>\n",
       "    </tr>\n",
       "  </tbody>\n",
       "</table>\n",
       "<p>19732 rows × 2 columns</p>\n",
       "</div>"
      ],
      "text/plain": [
       "                 district                                            address\n",
       "1       ярославский район         город москва, улица егора абакумова, дом 9\n",
       "2         таганский район  город москва, улица талалихина, дом 2/1, корпус 1\n",
       "3         таганский район  российская федерация, город москва, внутригоро...\n",
       "4         район лианозово              город москва, угличская улица, дом 17\n",
       "5             район арбат      город москва, переулок сивцев вражек, дом 6/2\n",
       "...                   ...                                                ...\n",
       "19728  алексеевский район  российская федерация, город москва, внутригоро...\n",
       "19729  алексеевский район  российская федерация, город москва, внутригоро...\n",
       "19730    район сокольники            город москва, русаковская улица, дом 31\n",
       "19731      тверской район  российская федерация, город москва, внутригоро...\n",
       "19732      тверской район  российская федерация, город москва, внутригоро...\n",
       "\n",
       "[19732 rows x 2 columns]"
      ]
     },
     "execution_count": 177,
     "metadata": {},
     "output_type": "execute_result"
    }
   ],
   "source": [
    "district = df[['District', 'Address']]\n",
    "district.columns = ['district', 'address']\n",
    "district['district'] = district['district'].str.lower()\n",
    "district['address'] = district['address'].str.lower()\n",
    "district = district.drop([0])\n",
    "district"
   ]
  },
  {
   "cell_type": "code",
   "execution_count": 178,
   "metadata": {
    "scrolled": true
   },
   "outputs": [
    {
     "name": "stdout",
     "output_type": "stream",
     "text": [
      "<class 'pandas.core.frame.DataFrame'>\n",
      "RangeIndex: 11221 entries, 0 to 11220\n",
      "Data columns (total 3 columns):\n",
      " #   Column    Non-Null Count  Dtype \n",
      "---  ------    --------------  ----- \n",
      " 0   district  11221 non-null  object\n",
      " 1   address   11221 non-null  object\n",
      " 2   street    11221 non-null  object\n",
      "dtypes: object(3)\n",
      "memory usage: 263.1+ KB\n"
     ]
    }
   ],
   "source": [
    "district = district.drop_duplicates().reset_index(drop=True)\n",
    "district['street'] = district['address'].str.split(\",\")\n",
    "district['street'] = district['street'].apply(lambda x: x[1])\n",
    "district.info()"
   ]
  },
  {
   "cell_type": "code",
   "execution_count": 179,
   "metadata": {},
   "outputs": [],
   "source": [
    "temp = temp.merge(district, on='street', how='inner')"
   ]
  },
  {
   "cell_type": "code",
   "execution_count": 180,
   "metadata": {},
   "outputs": [
    {
     "data": {
      "text/html": [
       "<div>\n",
       "<style scoped>\n",
       "    .dataframe tbody tr th:only-of-type {\n",
       "        vertical-align: middle;\n",
       "    }\n",
       "\n",
       "    .dataframe tbody tr th {\n",
       "        vertical-align: top;\n",
       "    }\n",
       "\n",
       "    .dataframe thead th {\n",
       "        text-align: right;\n",
       "    }\n",
       "</style>\n",
       "<table border=\"1\" class=\"dataframe\">\n",
       "  <thead>\n",
       "    <tr style=\"text-align: right;\">\n",
       "      <th></th>\n",
       "      <th>street</th>\n",
       "      <th>id</th>\n",
       "      <th>district</th>\n",
       "    </tr>\n",
       "  </thead>\n",
       "  <tbody>\n",
       "    <tr>\n",
       "      <th>0</th>\n",
       "      <td>проспект мира</td>\n",
       "      <td>203</td>\n",
       "      <td>мещанский район</td>\n",
       "    </tr>\n",
       "    <tr>\n",
       "      <th>8</th>\n",
       "      <td>проспект мира</td>\n",
       "      <td>203</td>\n",
       "      <td>останкинский район</td>\n",
       "    </tr>\n",
       "    <tr>\n",
       "      <th>10</th>\n",
       "      <td>проспект мира</td>\n",
       "      <td>203</td>\n",
       "      <td>алексеевский район</td>\n",
       "    </tr>\n",
       "    <tr>\n",
       "      <th>23</th>\n",
       "      <td>проспект мира</td>\n",
       "      <td>203</td>\n",
       "      <td>район свиблово</td>\n",
       "    </tr>\n",
       "    <tr>\n",
       "      <th>27</th>\n",
       "      <td>проспект мира</td>\n",
       "      <td>203</td>\n",
       "      <td>район ростокино</td>\n",
       "    </tr>\n",
       "    <tr>\n",
       "      <th>...</th>\n",
       "      <td>...</td>\n",
       "      <td>...</td>\n",
       "      <td>...</td>\n",
       "    </tr>\n",
       "    <tr>\n",
       "      <th>465</th>\n",
       "      <td>каширское шоссе</td>\n",
       "      <td>111</td>\n",
       "      <td>район нагатино-садовники</td>\n",
       "    </tr>\n",
       "    <tr>\n",
       "      <th>471</th>\n",
       "      <td>каширское шоссе</td>\n",
       "      <td>111</td>\n",
       "      <td>район орехово-борисово северное</td>\n",
       "    </tr>\n",
       "    <tr>\n",
       "      <th>496</th>\n",
       "      <td>кировоградская улица</td>\n",
       "      <td>108</td>\n",
       "      <td>район чертаново южное</td>\n",
       "    </tr>\n",
       "    <tr>\n",
       "      <th>499</th>\n",
       "      <td>кировоградская улица</td>\n",
       "      <td>108</td>\n",
       "      <td>район чертаново центральное</td>\n",
       "    </tr>\n",
       "    <tr>\n",
       "      <th>503</th>\n",
       "      <td>кировоградская улица</td>\n",
       "      <td>108</td>\n",
       "      <td>район чертаново северное</td>\n",
       "    </tr>\n",
       "  </tbody>\n",
       "</table>\n",
       "<p>46 rows × 3 columns</p>\n",
       "</div>"
      ],
      "text/plain": [
       "                    street   id                         district\n",
       "0            проспект мира  203                  мещанский район\n",
       "8            проспект мира  203               останкинский район\n",
       "10           проспект мира  203               алексеевский район\n",
       "23           проспект мира  203                   район свиблово\n",
       "27           проспект мира  203                  район ростокино\n",
       "..                     ...  ...                              ...\n",
       "465        каширское шоссе  111         район нагатино-садовники\n",
       "471        каширское шоссе  111  район орехово-борисово северное\n",
       "496   кировоградская улица  108            район чертаново южное\n",
       "499   кировоградская улица  108      район чертаново центральное\n",
       "503   кировоградская улица  108         район чертаново северное\n",
       "\n",
       "[46 rows x 3 columns]"
      ]
     },
     "execution_count": 180,
     "metadata": {},
     "output_type": "execute_result"
    }
   ],
   "source": [
    "temp = temp.drop('address',axis=1).drop_duplicates()\n",
    "temp"
   ]
  },
  {
   "cell_type": "code",
   "execution_count": 182,
   "metadata": {},
   "outputs": [
    {
     "data": {
      "text/plain": [
       "district\n",
       "район чертаново центральное    2\n",
       "район тёплый стан              2\n",
       "донской район                  2\n",
       "ломоносовский район            2\n",
       "район нагатино-садовники       2\n",
       "                              ..\n",
       "останкинский район             1\n",
       "нагорный район                 1\n",
       "мещанский район                1\n",
       "гагаринский район              1\n",
       "хорошёвский район              1\n",
       "Name: id, Length: 36, dtype: int64"
      ]
     },
     "execution_count": 182,
     "metadata": {},
     "output_type": "execute_result"
    }
   ],
   "source": [
    "temp = temp.groupby('district')['id'].count().sort_values(ascending=False)\n",
    "temp"
   ]
  },
  {
   "cell_type": "markdown",
   "metadata": {},
   "source": [
    "Все улицы из топ-10, кроме пресненской набережной, находятся сразу в нескольких районах (в основном в САО, ЮЗАО, ЮАО и ЦАО)"
   ]
  },
  {
   "cell_type": "markdown",
   "metadata": {},
   "source": [
    "Найдем число улиц с одним объектом общественного питания и определим район"
   ]
  },
  {
   "cell_type": "code",
   "execution_count": 183,
   "metadata": {},
   "outputs": [
    {
     "data": {
      "text/html": [
       "<div>\n",
       "<style scoped>\n",
       "    .dataframe tbody tr th:only-of-type {\n",
       "        vertical-align: middle;\n",
       "    }\n",
       "\n",
       "    .dataframe tbody tr th {\n",
       "        vertical-align: top;\n",
       "    }\n",
       "\n",
       "    .dataframe thead th {\n",
       "        text-align: right;\n",
       "    }\n",
       "</style>\n",
       "<table border=\"1\" class=\"dataframe\">\n",
       "  <thead>\n",
       "    <tr style=\"text-align: right;\">\n",
       "      <th></th>\n",
       "      <th>street</th>\n",
       "      <th>id</th>\n",
       "    </tr>\n",
       "  </thead>\n",
       "  <tbody>\n",
       "    <tr>\n",
       "      <th>2</th>\n",
       "      <td>1-й балтийский переулок</td>\n",
       "      <td>1</td>\n",
       "    </tr>\n",
       "    <tr>\n",
       "      <th>3</th>\n",
       "      <td>1-й басманный переулок</td>\n",
       "      <td>1</td>\n",
       "    </tr>\n",
       "    <tr>\n",
       "      <th>4</th>\n",
       "      <td>1-й ботанический проезд</td>\n",
       "      <td>1</td>\n",
       "    </tr>\n",
       "    <tr>\n",
       "      <th>7</th>\n",
       "      <td>1-й вешняковский проезд</td>\n",
       "      <td>1</td>\n",
       "    </tr>\n",
       "    <tr>\n",
       "      <th>9</th>\n",
       "      <td>1-й голутвинский переулок</td>\n",
       "      <td>1</td>\n",
       "    </tr>\n",
       "    <tr>\n",
       "      <th>...</th>\n",
       "      <td>...</td>\n",
       "      <td>...</td>\n",
       "    </tr>\n",
       "    <tr>\n",
       "      <th>1889</th>\n",
       "      <td>ялтинская улица</td>\n",
       "      <td>1</td>\n",
       "    </tr>\n",
       "    <tr>\n",
       "      <th>1890</th>\n",
       "      <td>янтарный проезд</td>\n",
       "      <td>1</td>\n",
       "    </tr>\n",
       "    <tr>\n",
       "      <th>1895</th>\n",
       "      <td>ясногорская улица</td>\n",
       "      <td>1</td>\n",
       "    </tr>\n",
       "    <tr>\n",
       "      <th>1898</th>\n",
       "      <td>яузский бульвар</td>\n",
       "      <td>1</td>\n",
       "    </tr>\n",
       "    <tr>\n",
       "      <th>1899</th>\n",
       "      <td>яхромская улица</td>\n",
       "      <td>1</td>\n",
       "    </tr>\n",
       "  </tbody>\n",
       "</table>\n",
       "<p>579 rows × 2 columns</p>\n",
       "</div>"
      ],
      "text/plain": [
       "                          street  id\n",
       "2        1-й балтийский переулок   1\n",
       "3         1-й басманный переулок   1\n",
       "4        1-й ботанический проезд   1\n",
       "7        1-й вешняковский проезд   1\n",
       "9      1-й голутвинский переулок   1\n",
       "...                          ...  ..\n",
       "1889             ялтинская улица   1\n",
       "1890             янтарный проезд   1\n",
       "1895           ясногорская улица   1\n",
       "1898             яузский бульвар   1\n",
       "1899             яхромская улица   1\n",
       "\n",
       "[579 rows x 2 columns]"
      ]
     },
     "execution_count": 183,
     "metadata": {},
     "output_type": "execute_result"
    }
   ],
   "source": [
    "temp = data.groupby('street')['id'].count().reset_index().query('id == 1')\n",
    "temp"
   ]
  },
  {
   "cell_type": "markdown",
   "metadata": {},
   "source": [
    "Таблица расположения улиц с одним объектом общественного питания"
   ]
  },
  {
   "cell_type": "code",
   "execution_count": 184,
   "metadata": {},
   "outputs": [
    {
     "data": {
      "text/html": [
       "<div>\n",
       "<style scoped>\n",
       "    .dataframe tbody tr th:only-of-type {\n",
       "        vertical-align: middle;\n",
       "    }\n",
       "\n",
       "    .dataframe tbody tr th {\n",
       "        vertical-align: top;\n",
       "    }\n",
       "\n",
       "    .dataframe thead th {\n",
       "        text-align: right;\n",
       "    }\n",
       "</style>\n",
       "<table border=\"1\" class=\"dataframe\">\n",
       "  <thead>\n",
       "    <tr style=\"text-align: right;\">\n",
       "      <th></th>\n",
       "      <th>street</th>\n",
       "      <th>id</th>\n",
       "      <th>district</th>\n",
       "    </tr>\n",
       "  </thead>\n",
       "  <tbody>\n",
       "    <tr>\n",
       "      <th>0</th>\n",
       "      <td>1-й балтийский переулок</td>\n",
       "      <td>1</td>\n",
       "      <td>район аэропорт</td>\n",
       "    </tr>\n",
       "    <tr>\n",
       "      <th>1</th>\n",
       "      <td>1-й басманный переулок</td>\n",
       "      <td>1</td>\n",
       "      <td>красносельский район</td>\n",
       "    </tr>\n",
       "    <tr>\n",
       "      <th>2</th>\n",
       "      <td>1-й ботанический проезд</td>\n",
       "      <td>1</td>\n",
       "      <td>район свиблово</td>\n",
       "    </tr>\n",
       "    <tr>\n",
       "      <th>3</th>\n",
       "      <td>1-й голутвинский переулок</td>\n",
       "      <td>1</td>\n",
       "      <td>район якиманка</td>\n",
       "    </tr>\n",
       "    <tr>\n",
       "      <th>4</th>\n",
       "      <td>1-й кирпичный переулок</td>\n",
       "      <td>1</td>\n",
       "      <td>район соколиная гора</td>\n",
       "    </tr>\n",
       "    <tr>\n",
       "      <th>...</th>\n",
       "      <td>...</td>\n",
       "      <td>...</td>\n",
       "      <td>...</td>\n",
       "    </tr>\n",
       "    <tr>\n",
       "      <th>502</th>\n",
       "      <td>щёлковский проезд</td>\n",
       "      <td>1</td>\n",
       "      <td>район северное измайлово</td>\n",
       "    </tr>\n",
       "    <tr>\n",
       "      <th>503</th>\n",
       "      <td>электрический переулок</td>\n",
       "      <td>1</td>\n",
       "      <td>пресненский район</td>\n",
       "    </tr>\n",
       "    <tr>\n",
       "      <th>504</th>\n",
       "      <td>якиманский переулок</td>\n",
       "      <td>1</td>\n",
       "      <td>район якиманка</td>\n",
       "    </tr>\n",
       "    <tr>\n",
       "      <th>505</th>\n",
       "      <td>янтарный проезд</td>\n",
       "      <td>1</td>\n",
       "      <td>лосиноостровский район</td>\n",
       "    </tr>\n",
       "    <tr>\n",
       "      <th>506</th>\n",
       "      <td>яузский бульвар</td>\n",
       "      <td>1</td>\n",
       "      <td>таганский район</td>\n",
       "    </tr>\n",
       "  </tbody>\n",
       "</table>\n",
       "<p>404 rows × 3 columns</p>\n",
       "</div>"
      ],
      "text/plain": [
       "                         street  id                  district\n",
       "0       1-й балтийский переулок   1            район аэропорт\n",
       "1        1-й басманный переулок   1      красносельский район\n",
       "2       1-й ботанический проезд   1            район свиблово\n",
       "3     1-й голутвинский переулок   1            район якиманка\n",
       "4        1-й кирпичный переулок   1      район соколиная гора\n",
       "..                          ...  ..                       ...\n",
       "502           щёлковский проезд   1  район северное измайлово\n",
       "503      электрический переулок   1         пресненский район\n",
       "504         якиманский переулок   1            район якиманка\n",
       "505             янтарный проезд   1    лосиноостровский район\n",
       "506             яузский бульвар   1           таганский район\n",
       "\n",
       "[404 rows x 3 columns]"
      ]
     },
     "execution_count": 184,
     "metadata": {},
     "output_type": "execute_result"
    }
   ],
   "source": [
    "temp = temp.merge(district, on='street', how='inner')\n",
    "temp = temp.drop('address',axis=1).drop_duplicates()\n",
    "temp"
   ]
  },
  {
   "cell_type": "code",
   "execution_count": 185,
   "metadata": {},
   "outputs": [
    {
     "data": {
      "text/plain": [
       "district\n",
       "таганский район               21\n",
       "басманный район               19\n",
       "район хамовники               18\n",
       "тверской район                17\n",
       "район сокольники              12\n",
       "район арбат                   10\n",
       "пресненский район             10\n",
       "мещанский район               10\n",
       "район замоскворечье            9\n",
       "район южное бутово             9\n",
       "район соколиная гора           9\n",
       "можайский район                8\n",
       "красносельский район           8\n",
       "район хорошёво-мнёвники        7\n",
       "район аэропорт                 7\n",
       "район якиманка                 7\n",
       "тимирязевский район            7\n",
       "район богородское              7\n",
       "район лефортово                6\n",
       "район марьина роща             6\n",
       "алексеевский район             6\n",
       "район солнцево                 6\n",
       "район щукино                   6\n",
       "лосиноостровский район         5\n",
       "дмитровский район              5\n",
       "бабушкинский район             5\n",
       "район свиблово                 4\n",
       "район ростокино                4\n",
       "район покровское-стрешнево     4\n",
       "южнопортовый район             4\n",
       "район кунцево                  4\n",
       "район кузьминки                4\n",
       "район косино-ухтомский         4\n",
       "ярославский район              4\n",
       "даниловский район              4\n",
       "район выхино-жулебино          4\n",
       "район внуково                  4\n",
       "головинский район              4\n",
       "район дорогомилово             3\n",
       "район северное измайлово       3\n",
       "район новогиреево              3\n",
       "обручевский район              3\n",
       "район митино                   3\n",
       "нижегородский район            3\n",
       "район раменки                  3\n",
       "донской район                  3\n",
       "район беговой                  3\n",
       "район южное тушино             3\n",
       "рязанский район                3\n",
       "савёловский район              3\n",
       "хорошёвский район              3\n",
       "район ясенево                  3\n",
       "бутырский район                3\n",
       "район сокол                    2\n",
       "район северное бутово          2\n",
       "бескудниковский район          2\n",
       "район северное медведково      2\n",
       "район строгино                 2\n",
       "останкинский район             2\n",
       "войковский район               2\n",
       "район фили-давыдково           2\n",
       "район филёвский парк           2\n",
       "нагорный район                 2\n",
       "район черёмушки                2\n",
       "район люблино                  2\n",
       "район марфино                  2\n",
       "район измайлово                2\n",
       "район восточный                2\n",
       "район марьино                  2\n",
       "район котловка                 2\n",
       "район коньково                 2\n",
       "район куркино                  2\n",
       "район нагатино-садовники       2\n",
       "район ново-переделкино         2\n",
       "район зюзино                   2\n",
       "район отрадное                 2\n",
       "район западное дегунино        2\n",
       "район печатники                2\n",
       "алтуфьевский район             2\n",
       "район ивановское               1\n",
       "гагаринский район              1\n",
       "район капотня                  1\n",
       "район восточное измайлово      1\n",
       "район южное медведково         1\n",
       "поселение филимонковское       1\n",
       "район левобережный             1\n",
       "район чертаново южное          1\n",
       "район гольяново                1\n",
       "район бирюлёво западное        1\n",
       "район метрогородок             1\n",
       "район тёплый стан              1\n",
       "район текстильщики             1\n",
       "район москворечье-сабурово     1\n",
       "район некрасовка               1\n",
       "поселение \"мосрентген\"         1\n",
       "район северный                 1\n",
       "район очаково-матвеевское      1\n",
       "поселение московский           1\n",
       "Name: id, dtype: int64"
      ]
     },
     "execution_count": 185,
     "metadata": {},
     "output_type": "execute_result"
    }
   ],
   "source": [
    "pd.set_option('display.max_rows', None)\n",
    "temp = temp.groupby('district')['id'].count().sort_values(ascending=False)\n",
    "temp"
   ]
  },
  {
   "cell_type": "markdown",
   "metadata": {},
   "source": [
    "<h2>Вывод</h2>"
   ]
  },
  {
   "cell_type": "markdown",
   "metadata": {},
   "source": [
    "В ходе данного проекта были исследованы виды объектов общественного питания, соотношение сетвых/несетевых объектов, количество посадочных мест и районы расположения заведений общественного питания. Считаю, что дать рекомендации по данным невозможно, т.к. невозможно оценить вероятную прибыль/количество клиентов и прочие параметры, связанные с экономикой. Все, что мы имеем, не показывает насколько популярны те или иные объекты/улицы/районы, насколько выгодно расположение на конкретной улице/в конкретном районе."
   ]
  },
  {
   "cell_type": "markdown",
   "metadata": {},
   "source": [
    "Презентация: https://disk.yandex.ru/i/2Jifp3WHPn6PHQ"
   ]
  }
 ],
 "metadata": {
  "ExecuteTimeLog": [
   {
    "duration": 1394,
    "start_time": "2022-09-12T09:32:30.194Z"
   },
   {
    "duration": 3,
    "start_time": "2022-09-12T09:32:41.464Z"
   },
   {
    "duration": 3,
    "start_time": "2022-09-12T09:32:48.337Z"
   },
   {
    "duration": 273,
    "start_time": "2022-09-12T09:38:04.568Z"
   },
   {
    "duration": 76,
    "start_time": "2022-09-12T09:38:45.124Z"
   },
   {
    "duration": 83,
    "start_time": "2022-09-12T09:39:21.534Z"
   },
   {
    "duration": 6,
    "start_time": "2022-09-12T09:42:38.904Z"
   },
   {
    "duration": 10,
    "start_time": "2022-09-12T09:42:49.309Z"
   },
   {
    "duration": 6,
    "start_time": "2022-09-12T09:42:54.349Z"
   },
   {
    "duration": 9,
    "start_time": "2022-09-12T09:43:15.860Z"
   },
   {
    "duration": 8,
    "start_time": "2022-09-12T09:43:20.256Z"
   },
   {
    "duration": 8,
    "start_time": "2022-09-12T09:43:36.037Z"
   },
   {
    "duration": 4,
    "start_time": "2022-09-12T09:43:43.775Z"
   },
   {
    "duration": 16,
    "start_time": "2022-09-12T09:57:13.524Z"
   },
   {
    "duration": 22,
    "start_time": "2022-09-12T09:57:41.361Z"
   },
   {
    "duration": 14,
    "start_time": "2022-09-12T09:57:46.776Z"
   },
   {
    "duration": 24,
    "start_time": "2022-09-12T09:57:52.081Z"
   },
   {
    "duration": 17,
    "start_time": "2022-09-12T09:59:02.233Z"
   },
   {
    "duration": 16,
    "start_time": "2022-09-12T09:59:31.058Z"
   },
   {
    "duration": 22,
    "start_time": "2022-09-12T10:00:15.777Z"
   },
   {
    "duration": 23,
    "start_time": "2022-09-12T10:00:40.531Z"
   },
   {
    "duration": 17,
    "start_time": "2022-09-12T10:00:51.257Z"
   },
   {
    "duration": 25,
    "start_time": "2022-09-12T10:01:56.056Z"
   },
   {
    "duration": 14,
    "start_time": "2022-09-12T10:04:04.096Z"
   },
   {
    "duration": 29,
    "start_time": "2022-09-12T10:04:18.941Z"
   },
   {
    "duration": 6,
    "start_time": "2022-09-12T10:08:42.330Z"
   },
   {
    "duration": 6,
    "start_time": "2022-09-12T10:09:40.070Z"
   },
   {
    "duration": 6,
    "start_time": "2022-09-12T10:09:45.069Z"
   },
   {
    "duration": 6,
    "start_time": "2022-09-12T10:10:08.278Z"
   },
   {
    "duration": 6,
    "start_time": "2022-09-12T10:10:56.502Z"
   },
   {
    "duration": 4,
    "start_time": "2022-09-12T10:11:21.591Z"
   },
   {
    "duration": 5,
    "start_time": "2022-09-12T10:11:24.886Z"
   },
   {
    "duration": 5,
    "start_time": "2022-09-12T10:11:27.020Z"
   },
   {
    "duration": 5,
    "start_time": "2022-09-12T10:12:09.042Z"
   },
   {
    "duration": 18,
    "start_time": "2022-09-12T10:12:25.582Z"
   },
   {
    "duration": 6,
    "start_time": "2022-09-12T10:12:26.537Z"
   },
   {
    "duration": 41,
    "start_time": "2022-09-12T10:12:28.173Z"
   },
   {
    "duration": 29,
    "start_time": "2022-09-12T10:12:29.532Z"
   },
   {
    "duration": 15,
    "start_time": "2022-09-12T10:13:18.494Z"
   },
   {
    "duration": 11,
    "start_time": "2022-09-12T10:13:37.629Z"
   },
   {
    "duration": 10,
    "start_time": "2022-09-12T10:15:33.253Z"
   },
   {
    "duration": 9,
    "start_time": "2022-09-12T10:18:24.564Z"
   },
   {
    "duration": 9,
    "start_time": "2022-09-12T10:18:30.438Z"
   },
   {
    "duration": 10,
    "start_time": "2022-09-12T10:18:35.741Z"
   },
   {
    "duration": 3,
    "start_time": "2022-09-12T10:19:16.957Z"
   },
   {
    "duration": 83,
    "start_time": "2022-09-12T10:19:17.137Z"
   },
   {
    "duration": 20,
    "start_time": "2022-09-12T10:19:17.438Z"
   },
   {
    "duration": 13,
    "start_time": "2022-09-12T10:19:17.928Z"
   },
   {
    "duration": 33,
    "start_time": "2022-09-12T10:19:19.300Z"
   },
   {
    "duration": 8,
    "start_time": "2022-09-12T10:19:32.339Z"
   },
   {
    "duration": 16,
    "start_time": "2022-09-12T10:19:37.028Z"
   },
   {
    "duration": 11,
    "start_time": "2022-09-12T10:20:51.052Z"
   },
   {
    "duration": 5,
    "start_time": "2022-09-12T10:21:04.636Z"
   },
   {
    "duration": 15,
    "start_time": "2022-09-12T10:21:09.459Z"
   },
   {
    "duration": 14,
    "start_time": "2022-09-12T10:22:35.402Z"
   },
   {
    "duration": 13,
    "start_time": "2022-09-12T10:23:19.170Z"
   },
   {
    "duration": 3,
    "start_time": "2022-09-12T10:24:01.146Z"
   },
   {
    "duration": 83,
    "start_time": "2022-09-12T10:24:01.328Z"
   },
   {
    "duration": 22,
    "start_time": "2022-09-12T10:24:02.082Z"
   },
   {
    "duration": 10,
    "start_time": "2022-09-12T10:24:02.290Z"
   },
   {
    "duration": 35,
    "start_time": "2022-09-12T10:24:03.434Z"
   },
   {
    "duration": 12,
    "start_time": "2022-09-12T10:24:07.169Z"
   },
   {
    "duration": 42,
    "start_time": "2022-09-12T10:25:44.474Z"
   },
   {
    "duration": 8,
    "start_time": "2022-09-12T10:26:15.450Z"
   },
   {
    "duration": 3,
    "start_time": "2022-09-12T10:26:25.031Z"
   },
   {
    "duration": 79,
    "start_time": "2022-09-12T10:26:25.169Z"
   },
   {
    "duration": 19,
    "start_time": "2022-09-12T10:26:25.933Z"
   },
   {
    "duration": 14,
    "start_time": "2022-09-12T10:26:27.329Z"
   },
   {
    "duration": 41,
    "start_time": "2022-09-12T10:26:28.482Z"
   },
   {
    "duration": 8,
    "start_time": "2022-09-12T10:26:29.881Z"
   },
   {
    "duration": 10,
    "start_time": "2022-09-12T10:27:21.954Z"
   },
   {
    "duration": 7,
    "start_time": "2022-09-12T10:27:53.953Z"
   },
   {
    "duration": 11,
    "start_time": "2022-09-12T10:28:02.936Z"
   },
   {
    "duration": 7,
    "start_time": "2022-09-12T10:28:18.659Z"
   },
   {
    "duration": 3,
    "start_time": "2022-09-12T10:28:27.601Z"
   },
   {
    "duration": 79,
    "start_time": "2022-09-12T10:28:27.777Z"
   },
   {
    "duration": 20,
    "start_time": "2022-09-12T10:28:28.081Z"
   },
   {
    "duration": 12,
    "start_time": "2022-09-12T10:28:35.793Z"
   },
   {
    "duration": 43,
    "start_time": "2022-09-12T10:28:39.489Z"
   },
   {
    "duration": 8,
    "start_time": "2022-09-12T10:28:40.528Z"
   },
   {
    "duration": 13,
    "start_time": "2022-09-12T10:29:29.089Z"
   },
   {
    "duration": 11,
    "start_time": "2022-09-12T10:31:16.657Z"
   },
   {
    "duration": 29,
    "start_time": "2022-09-12T10:31:36.744Z"
   },
   {
    "duration": 24,
    "start_time": "2022-09-12T10:31:46.377Z"
   },
   {
    "duration": 13,
    "start_time": "2022-09-12T10:33:02.648Z"
   },
   {
    "duration": 9,
    "start_time": "2022-09-12T10:33:12.135Z"
   },
   {
    "duration": 8,
    "start_time": "2022-09-12T10:33:23.132Z"
   },
   {
    "duration": 54,
    "start_time": "2022-09-12T10:33:27.640Z"
   },
   {
    "duration": 9,
    "start_time": "2022-09-12T10:33:31.033Z"
   },
   {
    "duration": 13,
    "start_time": "2022-09-12T10:33:43.036Z"
   },
   {
    "duration": 14,
    "start_time": "2022-09-12T10:33:54.849Z"
   },
   {
    "duration": 12,
    "start_time": "2022-09-12T10:34:02.632Z"
   },
   {
    "duration": 21,
    "start_time": "2022-09-12T10:36:36.643Z"
   },
   {
    "duration": 3,
    "start_time": "2022-09-12T10:36:44.354Z"
   },
   {
    "duration": 81,
    "start_time": "2022-09-12T10:36:44.540Z"
   },
   {
    "duration": 19,
    "start_time": "2022-09-12T10:36:44.839Z"
   },
   {
    "duration": 13,
    "start_time": "2022-09-12T10:36:45.032Z"
   },
   {
    "duration": 41,
    "start_time": "2022-09-12T10:36:45.343Z"
   },
   {
    "duration": 8,
    "start_time": "2022-09-12T10:36:45.967Z"
   },
   {
    "duration": 20,
    "start_time": "2022-09-12T10:36:47.263Z"
   },
   {
    "duration": 3,
    "start_time": "2022-09-12T10:36:56.737Z"
   },
   {
    "duration": 82,
    "start_time": "2022-09-12T10:36:56.895Z"
   },
   {
    "duration": 20,
    "start_time": "2022-09-12T10:36:57.270Z"
   },
   {
    "duration": 11,
    "start_time": "2022-09-12T10:36:57.432Z"
   },
   {
    "duration": 42,
    "start_time": "2022-09-12T10:36:58.525Z"
   },
   {
    "duration": 8,
    "start_time": "2022-09-12T10:36:59.655Z"
   },
   {
    "duration": 14,
    "start_time": "2022-09-12T10:37:00.543Z"
   },
   {
    "duration": 14,
    "start_time": "2022-09-12T10:37:27.735Z"
   },
   {
    "duration": 17,
    "start_time": "2022-09-12T10:38:04.471Z"
   },
   {
    "duration": 14,
    "start_time": "2022-09-12T10:38:13.279Z"
   },
   {
    "duration": 2,
    "start_time": "2022-09-12T10:38:18.434Z"
   },
   {
    "duration": 99,
    "start_time": "2022-09-12T10:38:18.936Z"
   },
   {
    "duration": 19,
    "start_time": "2022-09-12T10:38:19.037Z"
   },
   {
    "duration": 10,
    "start_time": "2022-09-12T10:38:19.058Z"
   },
   {
    "duration": 52,
    "start_time": "2022-09-12T10:38:19.100Z"
   },
   {
    "duration": 7,
    "start_time": "2022-09-12T10:38:19.154Z"
   },
   {
    "duration": 14,
    "start_time": "2022-09-12T10:38:20.752Z"
   },
   {
    "duration": 10,
    "start_time": "2022-09-12T10:38:43.743Z"
   },
   {
    "duration": 2,
    "start_time": "2022-09-12T10:39:29.998Z"
   },
   {
    "duration": 79,
    "start_time": "2022-09-12T10:39:30.532Z"
   },
   {
    "duration": 19,
    "start_time": "2022-09-12T10:39:30.613Z"
   },
   {
    "duration": 11,
    "start_time": "2022-09-12T10:39:30.642Z"
   },
   {
    "duration": 42,
    "start_time": "2022-09-12T10:39:31.951Z"
   },
   {
    "duration": 8,
    "start_time": "2022-09-12T10:39:32.455Z"
   },
   {
    "duration": 8,
    "start_time": "2022-09-12T10:39:33.736Z"
   },
   {
    "duration": 11,
    "start_time": "2022-09-12T10:39:35.443Z"
   },
   {
    "duration": 14,
    "start_time": "2022-09-12T10:39:46.131Z"
   },
   {
    "duration": 12,
    "start_time": "2022-09-12T10:40:21.662Z"
   },
   {
    "duration": 15,
    "start_time": "2022-09-12T10:40:28.038Z"
   },
   {
    "duration": 14,
    "start_time": "2022-09-12T10:44:33.956Z"
   },
   {
    "duration": 3,
    "start_time": "2022-09-12T10:44:35.941Z"
   },
   {
    "duration": 83,
    "start_time": "2022-09-12T10:44:36.448Z"
   },
   {
    "duration": 20,
    "start_time": "2022-09-12T10:44:36.535Z"
   },
   {
    "duration": 10,
    "start_time": "2022-09-12T10:44:36.557Z"
   },
   {
    "duration": 44,
    "start_time": "2022-09-12T10:44:36.640Z"
   },
   {
    "duration": 10,
    "start_time": "2022-09-12T10:44:37.443Z"
   },
   {
    "duration": 8,
    "start_time": "2022-09-12T10:44:38.754Z"
   },
   {
    "duration": 7,
    "start_time": "2022-09-12T10:44:41.573Z"
   },
   {
    "duration": 16,
    "start_time": "2022-09-12T10:44:46.645Z"
   },
   {
    "duration": 17,
    "start_time": "2022-09-12T10:44:54.365Z"
   },
   {
    "duration": 17,
    "start_time": "2022-09-12T10:44:57.950Z"
   },
   {
    "duration": 10,
    "start_time": "2022-09-12T10:45:59.836Z"
   },
   {
    "duration": 14,
    "start_time": "2022-09-12T10:56:49.825Z"
   },
   {
    "duration": 15,
    "start_time": "2022-09-12T10:57:01.730Z"
   },
   {
    "duration": 7,
    "start_time": "2022-09-12T10:57:27.078Z"
   },
   {
    "duration": 7,
    "start_time": "2022-09-12T10:57:42.377Z"
   },
   {
    "duration": 147,
    "start_time": "2022-09-12T10:58:02.705Z"
   },
   {
    "duration": 17,
    "start_time": "2022-09-12T10:58:15.512Z"
   },
   {
    "duration": 19,
    "start_time": "2022-09-12T10:58:31.722Z"
   },
   {
    "duration": 11,
    "start_time": "2022-09-12T10:59:20.617Z"
   },
   {
    "duration": 140,
    "start_time": "2022-09-12T10:59:33.225Z"
   },
   {
    "duration": 149,
    "start_time": "2022-09-12T11:00:31.212Z"
   },
   {
    "duration": 166,
    "start_time": "2022-09-12T11:00:36.888Z"
   },
   {
    "duration": 177,
    "start_time": "2022-09-12T11:00:42.617Z"
   },
   {
    "duration": 206,
    "start_time": "2022-09-12T11:00:52.224Z"
   },
   {
    "duration": 240,
    "start_time": "2022-09-12T11:00:57.888Z"
   },
   {
    "duration": 361,
    "start_time": "2022-09-12T11:01:02.816Z"
   },
   {
    "duration": 217,
    "start_time": "2022-09-12T11:01:06.161Z"
   },
   {
    "duration": 291,
    "start_time": "2022-09-12T11:02:13.161Z"
   },
   {
    "duration": 222,
    "start_time": "2022-09-12T11:02:20.728Z"
   },
   {
    "duration": 9,
    "start_time": "2022-09-12T11:05:23.871Z"
   },
   {
    "duration": 13,
    "start_time": "2022-09-12T11:05:30.624Z"
   },
   {
    "duration": 98,
    "start_time": "2022-09-12T11:05:48.576Z"
   },
   {
    "duration": 97,
    "start_time": "2022-09-12T11:05:56.376Z"
   },
   {
    "duration": 96,
    "start_time": "2022-09-12T11:06:06.168Z"
   },
   {
    "duration": 105,
    "start_time": "2022-09-12T11:06:11.119Z"
   },
   {
    "duration": 96,
    "start_time": "2022-09-12T11:06:36.712Z"
   },
   {
    "duration": 94,
    "start_time": "2022-09-12T11:06:49.871Z"
   },
   {
    "duration": 7,
    "start_time": "2022-09-12T11:07:33.008Z"
   },
   {
    "duration": 81,
    "start_time": "2022-09-12T11:07:56.559Z"
   },
   {
    "duration": 75,
    "start_time": "2022-09-12T11:08:06.103Z"
   },
   {
    "duration": 75,
    "start_time": "2022-09-12T11:08:34.327Z"
   },
   {
    "duration": 18,
    "start_time": "2022-09-12T11:09:18.823Z"
   },
   {
    "duration": 17,
    "start_time": "2022-09-12T11:09:26.447Z"
   },
   {
    "duration": 176,
    "start_time": "2022-09-12T11:09:34.038Z"
   },
   {
    "duration": 8,
    "start_time": "2022-09-12T11:11:04.902Z"
   },
   {
    "duration": 15,
    "start_time": "2022-09-12T11:11:35.006Z"
   },
   {
    "duration": 364,
    "start_time": "2022-09-12T11:12:18.934Z"
   },
   {
    "duration": 227,
    "start_time": "2022-09-12T11:12:43.654Z"
   },
   {
    "duration": 1986,
    "start_time": "2022-09-12T11:12:50.125Z"
   },
   {
    "duration": 12,
    "start_time": "2022-09-12T11:13:02.629Z"
   },
   {
    "duration": 3,
    "start_time": "2022-09-12T11:13:15.046Z"
   },
   {
    "duration": 13,
    "start_time": "2022-09-12T11:13:20.317Z"
   },
   {
    "duration": 10,
    "start_time": "2022-09-12T11:13:42.741Z"
   },
   {
    "duration": 12,
    "start_time": "2022-09-12T11:13:48.301Z"
   },
   {
    "duration": 11,
    "start_time": "2022-09-12T11:14:02.221Z"
   },
   {
    "duration": 18,
    "start_time": "2022-09-12T11:14:12.669Z"
   },
   {
    "duration": 16,
    "start_time": "2022-09-12T11:14:17.221Z"
   },
   {
    "duration": 19,
    "start_time": "2022-09-12T11:14:24.157Z"
   },
   {
    "duration": 284,
    "start_time": "2022-09-12T11:14:29.253Z"
   },
   {
    "duration": 20,
    "start_time": "2022-09-12T11:17:13.765Z"
   },
   {
    "duration": 255,
    "start_time": "2022-09-12T11:17:17.940Z"
   },
   {
    "duration": 281,
    "start_time": "2022-09-12T11:17:24.205Z"
   },
   {
    "duration": 59,
    "start_time": "2022-09-12T11:18:18.836Z"
   },
   {
    "duration": 48,
    "start_time": "2022-09-12T11:18:35.468Z"
   },
   {
    "duration": 319,
    "start_time": "2022-09-12T11:18:41.500Z"
   },
   {
    "duration": 270,
    "start_time": "2022-09-12T11:19:12.692Z"
   },
   {
    "duration": 292,
    "start_time": "2022-09-12T11:20:03.700Z"
   },
   {
    "duration": 72,
    "start_time": "2022-09-12T11:25:43.867Z"
   },
   {
    "duration": 344,
    "start_time": "2022-09-12T11:25:47.938Z"
   },
   {
    "duration": 11824,
    "start_time": "2022-09-12T11:26:30.418Z"
   },
   {
    "duration": 7459,
    "start_time": "2022-09-12T11:27:04.058Z"
   },
   {
    "duration": 1801,
    "start_time": "2022-09-12T11:27:23.474Z"
   },
   {
    "duration": 1659,
    "start_time": "2022-09-12T11:28:43.873Z"
   },
   {
    "duration": 120,
    "start_time": "2022-09-12T11:29:38.946Z"
   },
   {
    "duration": 10,
    "start_time": "2022-09-12T11:41:43.574Z"
   },
   {
    "duration": 19,
    "start_time": "2022-09-12T11:43:20.982Z"
   },
   {
    "duration": 25,
    "start_time": "2022-09-12T11:44:20.414Z"
   },
   {
    "duration": 18,
    "start_time": "2022-09-12T11:44:33.834Z"
   },
   {
    "duration": 15,
    "start_time": "2022-09-12T11:44:56.597Z"
   },
   {
    "duration": 18,
    "start_time": "2022-09-12T11:45:00.318Z"
   },
   {
    "duration": 19,
    "start_time": "2022-09-12T11:45:22.853Z"
   },
   {
    "duration": 22,
    "start_time": "2022-09-12T11:45:26.708Z"
   },
   {
    "duration": 168,
    "start_time": "2022-09-12T11:46:15.061Z"
   },
   {
    "duration": 23,
    "start_time": "2022-09-12T11:46:38.413Z"
   },
   {
    "duration": 155,
    "start_time": "2022-09-12T11:46:41.445Z"
   },
   {
    "duration": 712,
    "start_time": "2022-09-12T11:47:04.829Z"
   },
   {
    "duration": 722,
    "start_time": "2022-09-12T11:47:31.629Z"
   },
   {
    "duration": 946,
    "start_time": "2022-09-12T11:47:38.393Z"
   },
   {
    "duration": 720,
    "start_time": "2022-09-12T11:47:44.404Z"
   },
   {
    "duration": 722,
    "start_time": "2022-09-12T11:48:04.181Z"
   },
   {
    "duration": 742,
    "start_time": "2022-09-12T11:48:08.716Z"
   },
   {
    "duration": 691,
    "start_time": "2022-09-12T11:48:14.116Z"
   },
   {
    "duration": 799,
    "start_time": "2022-09-12T11:48:55.020Z"
   },
   {
    "duration": 773,
    "start_time": "2022-09-12T11:49:00.852Z"
   },
   {
    "duration": 763,
    "start_time": "2022-09-12T11:49:06.556Z"
   },
   {
    "duration": 733,
    "start_time": "2022-09-12T11:49:50.693Z"
   },
   {
    "duration": 1208,
    "start_time": "2022-09-12T11:49:56.443Z"
   },
   {
    "duration": 30,
    "start_time": "2022-09-12T11:50:23.204Z"
   },
   {
    "duration": 784,
    "start_time": "2022-09-12T11:50:47.028Z"
   },
   {
    "duration": 802,
    "start_time": "2022-09-12T11:51:42.500Z"
   },
   {
    "duration": 813,
    "start_time": "2022-09-12T11:51:47.500Z"
   },
   {
    "duration": 714,
    "start_time": "2022-09-12T11:52:10.436Z"
   },
   {
    "duration": 785,
    "start_time": "2022-09-12T11:54:25.387Z"
   },
   {
    "duration": 1373,
    "start_time": "2022-09-12T11:54:37.731Z"
   },
   {
    "duration": 797,
    "start_time": "2022-09-12T11:54:54.099Z"
   },
   {
    "duration": 1228,
    "start_time": "2022-09-12T11:57:04.546Z"
   },
   {
    "duration": 770,
    "start_time": "2022-09-12T11:57:10.978Z"
   },
   {
    "duration": 27,
    "start_time": "2022-09-12T12:03:53.192Z"
   },
   {
    "duration": 31,
    "start_time": "2022-09-12T12:04:07.568Z"
   },
   {
    "duration": 436,
    "start_time": "2022-09-12T12:04:24.472Z"
   },
   {
    "duration": 26,
    "start_time": "2022-09-12T12:04:40.360Z"
   },
   {
    "duration": 25,
    "start_time": "2022-09-12T12:04:45.776Z"
   },
   {
    "duration": 85,
    "start_time": "2022-09-12T12:04:50.712Z"
   },
   {
    "duration": 136,
    "start_time": "2022-09-12T12:05:05.553Z"
   },
   {
    "duration": 135,
    "start_time": "2022-09-12T12:07:40.151Z"
   },
   {
    "duration": 146,
    "start_time": "2022-09-12T12:07:44.479Z"
   },
   {
    "duration": 151,
    "start_time": "2022-09-12T12:07:47.766Z"
   },
   {
    "duration": 155,
    "start_time": "2022-09-12T12:08:21.064Z"
   },
   {
    "duration": 190,
    "start_time": "2022-09-12T12:10:55.719Z"
   },
   {
    "duration": 287,
    "start_time": "2022-09-12T12:11:01.390Z"
   },
   {
    "duration": 165,
    "start_time": "2022-09-12T12:11:51.710Z"
   },
   {
    "duration": 174,
    "start_time": "2022-09-12T12:12:22.014Z"
   },
   {
    "duration": 158,
    "start_time": "2022-09-12T12:12:46.006Z"
   },
   {
    "duration": 195,
    "start_time": "2022-09-12T12:12:48.909Z"
   },
   {
    "duration": 166,
    "start_time": "2022-09-12T12:13:08.878Z"
   },
   {
    "duration": 230,
    "start_time": "2022-09-12T12:17:47.940Z"
   },
   {
    "duration": 719,
    "start_time": "2022-09-12T12:19:01.788Z"
   },
   {
    "duration": 1056,
    "start_time": "2022-09-12T12:23:02.091Z"
   },
   {
    "duration": 32,
    "start_time": "2022-09-12T12:23:07.724Z"
   },
   {
    "duration": 15,
    "start_time": "2022-09-12T12:24:06.266Z"
   },
   {
    "duration": 13,
    "start_time": "2022-09-12T12:25:07.865Z"
   },
   {
    "duration": 14,
    "start_time": "2022-09-12T12:25:17.033Z"
   },
   {
    "duration": 7,
    "start_time": "2022-09-12T12:26:15.561Z"
   },
   {
    "duration": 8,
    "start_time": "2022-09-12T12:26:24.641Z"
   },
   {
    "duration": 11,
    "start_time": "2022-09-12T12:26:30.113Z"
   },
   {
    "duration": 11,
    "start_time": "2022-09-12T12:26:35.658Z"
   },
   {
    "duration": 12,
    "start_time": "2022-09-12T12:26:45.065Z"
   },
   {
    "duration": 11,
    "start_time": "2022-09-12T12:26:50.314Z"
   },
   {
    "duration": 12,
    "start_time": "2022-09-12T12:28:03.105Z"
   },
   {
    "duration": 12,
    "start_time": "2022-09-12T12:28:06.689Z"
   },
   {
    "duration": 57,
    "start_time": "2022-09-12T12:28:17.673Z"
   },
   {
    "duration": 12,
    "start_time": "2022-09-12T12:28:23.720Z"
   },
   {
    "duration": 14,
    "start_time": "2022-09-12T12:28:34.562Z"
   },
   {
    "duration": 13,
    "start_time": "2022-09-12T12:29:37.345Z"
   },
   {
    "duration": 12,
    "start_time": "2022-09-12T12:29:46.985Z"
   },
   {
    "duration": 13,
    "start_time": "2022-09-12T12:32:38.316Z"
   },
   {
    "duration": 11,
    "start_time": "2022-09-12T12:32:53.872Z"
   },
   {
    "duration": 78,
    "start_time": "2022-09-12T12:39:04.966Z"
   },
   {
    "duration": 10,
    "start_time": "2022-09-12T12:39:08.247Z"
   },
   {
    "duration": 82,
    "start_time": "2022-09-12T12:39:35.958Z"
   },
   {
    "duration": 20,
    "start_time": "2022-09-12T12:39:36.501Z"
   },
   {
    "duration": 48,
    "start_time": "2022-09-12T12:39:36.563Z"
   },
   {
    "duration": 8,
    "start_time": "2022-09-12T12:39:36.625Z"
   },
   {
    "duration": 8,
    "start_time": "2022-09-12T12:39:36.701Z"
   },
   {
    "duration": 6,
    "start_time": "2022-09-12T12:39:36.731Z"
   },
   {
    "duration": 19,
    "start_time": "2022-09-12T12:39:36.763Z"
   },
   {
    "duration": 237,
    "start_time": "2022-09-12T12:39:36.890Z"
   },
   {
    "duration": 197,
    "start_time": "2022-09-12T12:39:37.129Z"
   },
   {
    "duration": 320,
    "start_time": "2022-09-12T12:39:37.328Z"
   },
   {
    "duration": 168,
    "start_time": "2022-09-12T12:39:37.650Z"
   },
   {
    "duration": 237,
    "start_time": "2022-09-12T12:39:37.820Z"
   },
   {
    "duration": 17,
    "start_time": "2022-09-12T12:39:38.059Z"
   },
   {
    "duration": 11,
    "start_time": "2022-09-12T12:39:38.078Z"
   },
   {
    "duration": 36,
    "start_time": "2022-09-12T12:39:38.090Z"
   },
   {
    "duration": 15,
    "start_time": "2022-09-12T12:40:02.286Z"
   },
   {
    "duration": 9,
    "start_time": "2022-09-12T12:40:08.198Z"
   },
   {
    "duration": 5,
    "start_time": "2022-09-12T12:40:18.558Z"
   },
   {
    "duration": 5,
    "start_time": "2022-09-12T12:40:28.014Z"
   },
   {
    "duration": 10,
    "start_time": "2022-09-12T12:40:37.422Z"
   },
   {
    "duration": 9,
    "start_time": "2022-09-12T12:40:48.694Z"
   },
   {
    "duration": 14,
    "start_time": "2022-09-12T12:40:54.822Z"
   },
   {
    "duration": 11,
    "start_time": "2022-09-12T12:41:18.862Z"
   },
   {
    "duration": 3,
    "start_time": "2022-09-12T12:41:50.958Z"
   },
   {
    "duration": 10,
    "start_time": "2022-09-12T12:41:54.645Z"
   },
   {
    "duration": 10,
    "start_time": "2022-09-12T12:42:33.045Z"
   },
   {
    "duration": 10,
    "start_time": "2022-09-12T12:42:37.093Z"
   },
   {
    "duration": 9,
    "start_time": "2022-09-12T12:42:45.581Z"
   },
   {
    "duration": 14,
    "start_time": "2022-09-12T12:42:47.301Z"
   },
   {
    "duration": 8,
    "start_time": "2022-09-12T12:43:15.390Z"
   },
   {
    "duration": 7,
    "start_time": "2022-09-12T12:43:40.101Z"
   },
   {
    "duration": 7,
    "start_time": "2022-09-12T12:43:46.629Z"
   },
   {
    "duration": 15,
    "start_time": "2022-09-12T12:43:50.069Z"
   },
   {
    "duration": 1225,
    "start_time": "2022-09-12T12:43:56.478Z"
   },
   {
    "duration": 13,
    "start_time": "2022-09-12T12:44:14.565Z"
   },
   {
    "duration": 1065,
    "start_time": "2022-09-12T12:44:33.358Z"
   },
   {
    "duration": 927,
    "start_time": "2022-09-12T12:44:58.293Z"
   },
   {
    "duration": 6,
    "start_time": "2022-09-12T12:45:05.789Z"
   },
   {
    "duration": 13,
    "start_time": "2022-09-12T12:50:38.932Z"
   },
   {
    "duration": 15,
    "start_time": "2022-09-12T12:54:04.387Z"
   },
   {
    "duration": 17,
    "start_time": "2022-09-12T12:54:12.370Z"
   },
   {
    "duration": 1219,
    "start_time": "2022-09-12T12:54:18.226Z"
   },
   {
    "duration": 5,
    "start_time": "2022-09-12T12:54:22.930Z"
   },
   {
    "duration": 8,
    "start_time": "2022-09-12T12:54:53.722Z"
   },
   {
    "duration": 746,
    "start_time": "2022-09-12T12:55:05.210Z"
   },
   {
    "duration": 4,
    "start_time": "2022-09-12T12:55:09.561Z"
   },
   {
    "duration": 4,
    "start_time": "2022-09-12T12:55:13.786Z"
   },
   {
    "duration": 4,
    "start_time": "2022-09-12T12:55:17.186Z"
   },
   {
    "duration": 11,
    "start_time": "2022-09-12T12:56:54.538Z"
   },
   {
    "duration": 15,
    "start_time": "2022-09-12T12:57:18.523Z"
   },
   {
    "duration": 12,
    "start_time": "2022-09-12T12:58:09.329Z"
   },
   {
    "duration": 9,
    "start_time": "2022-09-12T12:58:22.185Z"
   },
   {
    "duration": 11,
    "start_time": "2022-09-12T12:58:27.263Z"
   },
   {
    "duration": 17,
    "start_time": "2022-09-12T12:58:57.577Z"
   },
   {
    "duration": 17,
    "start_time": "2022-09-12T12:59:06.018Z"
   },
   {
    "duration": 64,
    "start_time": "2022-09-12T12:59:09.161Z"
   },
   {
    "duration": 16,
    "start_time": "2022-09-12T12:59:11.185Z"
   },
   {
    "duration": 12,
    "start_time": "2022-09-12T12:59:31.961Z"
   },
   {
    "duration": 12,
    "start_time": "2022-09-12T12:59:36.665Z"
   },
   {
    "duration": 33,
    "start_time": "2022-09-12T13:01:42.032Z"
   },
   {
    "duration": 25,
    "start_time": "2022-09-12T13:01:48.056Z"
   },
   {
    "duration": 14,
    "start_time": "2022-09-12T13:02:05.193Z"
   },
   {
    "duration": 13,
    "start_time": "2022-09-12T13:02:10.072Z"
   },
   {
    "duration": 218,
    "start_time": "2022-09-12T13:02:49.097Z"
   },
   {
    "duration": 202,
    "start_time": "2022-09-12T13:03:00.224Z"
   },
   {
    "duration": 228,
    "start_time": "2022-09-12T13:03:03.328Z"
   },
   {
    "duration": 271,
    "start_time": "2022-09-12T13:03:36.688Z"
   },
   {
    "duration": 237,
    "start_time": "2022-09-12T13:03:42.303Z"
   },
   {
    "duration": 15,
    "start_time": "2022-09-12T13:17:32.956Z"
   },
   {
    "duration": 1703,
    "start_time": "2022-09-12T13:37:42.721Z"
   },
   {
    "duration": 236,
    "start_time": "2022-09-12T13:38:45.478Z"
   },
   {
    "duration": 361,
    "start_time": "2022-09-12T13:39:21.718Z"
   },
   {
    "duration": 1510,
    "start_time": "2022-09-12T13:39:44.543Z"
   },
   {
    "duration": 188,
    "start_time": "2022-09-12T13:39:51.750Z"
   },
   {
    "duration": 200,
    "start_time": "2022-09-12T13:39:57.021Z"
   },
   {
    "duration": 13,
    "start_time": "2022-09-12T13:40:04.926Z"
   },
   {
    "duration": 12,
    "start_time": "2022-09-12T13:40:22.397Z"
   },
   {
    "duration": 13,
    "start_time": "2022-09-12T13:40:27.517Z"
   },
   {
    "duration": 1483,
    "start_time": "2022-09-12T13:40:34.374Z"
   },
   {
    "duration": 984,
    "start_time": "2022-09-12T13:40:44.229Z"
   },
   {
    "duration": 11,
    "start_time": "2022-09-12T13:40:54.758Z"
   },
   {
    "duration": 1524,
    "start_time": "2022-09-12T13:42:06.181Z"
   },
   {
    "duration": 1203,
    "start_time": "2022-09-12T13:42:20.933Z"
   },
   {
    "duration": 4,
    "start_time": "2022-09-12T13:42:27.751Z"
   },
   {
    "duration": 342,
    "start_time": "2022-09-12T13:43:03.725Z"
   },
   {
    "duration": 1148,
    "start_time": "2022-09-12T13:43:52.957Z"
   },
   {
    "duration": 271,
    "start_time": "2022-09-12T13:43:55.726Z"
   },
   {
    "duration": 20,
    "start_time": "2022-09-12T13:44:21.885Z"
   },
   {
    "duration": 24,
    "start_time": "2022-09-12T13:44:25.509Z"
   },
   {
    "duration": 19,
    "start_time": "2022-09-12T13:45:11.339Z"
   },
   {
    "duration": 24,
    "start_time": "2022-09-12T13:45:16.420Z"
   },
   {
    "duration": 16,
    "start_time": "2022-09-12T13:46:55.996Z"
   },
   {
    "duration": 15,
    "start_time": "2022-09-12T13:47:00.956Z"
   },
   {
    "duration": 943,
    "start_time": "2022-09-12T13:47:02.772Z"
   },
   {
    "duration": 24,
    "start_time": "2022-09-12T13:47:10.988Z"
   },
   {
    "duration": 4,
    "start_time": "2022-09-12T13:47:40.147Z"
   },
   {
    "duration": 12,
    "start_time": "2022-09-12T13:48:10.356Z"
   },
   {
    "duration": 11,
    "start_time": "2022-09-12T13:48:15.620Z"
   },
   {
    "duration": 20,
    "start_time": "2022-09-12T13:48:17.595Z"
   },
   {
    "duration": 23,
    "start_time": "2022-09-12T13:48:31.146Z"
   },
   {
    "duration": 17,
    "start_time": "2022-09-12T13:48:31.733Z"
   },
   {
    "duration": 16,
    "start_time": "2022-09-12T13:48:40.699Z"
   },
   {
    "duration": 16,
    "start_time": "2022-09-12T13:48:57.324Z"
   },
   {
    "duration": 15,
    "start_time": "2022-09-12T13:49:28.587Z"
   },
   {
    "duration": 25,
    "start_time": "2022-09-12T13:49:30.076Z"
   },
   {
    "duration": 16,
    "start_time": "2022-09-12T13:49:30.260Z"
   },
   {
    "duration": 15,
    "start_time": "2022-09-12T13:49:34.036Z"
   },
   {
    "duration": 24,
    "start_time": "2022-09-12T13:49:35.596Z"
   },
   {
    "duration": 16,
    "start_time": "2022-09-12T13:49:36.514Z"
   },
   {
    "duration": 26,
    "start_time": "2022-09-12T13:52:04.971Z"
   },
   {
    "duration": 13,
    "start_time": "2022-09-12T13:53:22.835Z"
   },
   {
    "duration": 27,
    "start_time": "2022-09-12T13:53:37.707Z"
   },
   {
    "duration": 11,
    "start_time": "2022-09-12T13:54:00.057Z"
   },
   {
    "duration": 12,
    "start_time": "2022-09-12T13:54:19.986Z"
   },
   {
    "duration": 15,
    "start_time": "2022-09-12T13:55:43.233Z"
   },
   {
    "duration": 14,
    "start_time": "2022-09-12T13:56:30.209Z"
   },
   {
    "duration": 12,
    "start_time": "2022-09-12T13:57:58.202Z"
   },
   {
    "duration": 11,
    "start_time": "2022-09-12T13:58:16.881Z"
   },
   {
    "duration": 18,
    "start_time": "2022-09-12T13:58:26.104Z"
   },
   {
    "duration": 32,
    "start_time": "2022-09-12T13:59:52.072Z"
   },
   {
    "duration": 426,
    "start_time": "2022-09-12T13:59:56.344Z"
   },
   {
    "duration": 2379,
    "start_time": "2022-09-12T14:00:07.096Z"
   },
   {
    "duration": 29,
    "start_time": "2022-09-12T14:00:15.040Z"
   },
   {
    "duration": 45,
    "start_time": "2022-09-12T14:00:25.554Z"
   },
   {
    "duration": 1089,
    "start_time": "2022-09-12T14:00:30.072Z"
   },
   {
    "duration": 299,
    "start_time": "2022-09-12T14:00:31.163Z"
   },
   {
    "duration": 18,
    "start_time": "2022-09-12T14:00:31.464Z"
   },
   {
    "duration": 46,
    "start_time": "2022-09-12T14:00:31.485Z"
   },
   {
    "duration": 8,
    "start_time": "2022-09-12T14:00:31.533Z"
   },
   {
    "duration": 21,
    "start_time": "2022-09-12T14:00:31.542Z"
   },
   {
    "duration": 16,
    "start_time": "2022-09-12T14:00:31.564Z"
   },
   {
    "duration": 20,
    "start_time": "2022-09-12T14:00:31.582Z"
   },
   {
    "duration": 259,
    "start_time": "2022-09-12T14:00:31.603Z"
   },
   {
    "duration": 183,
    "start_time": "2022-09-12T14:00:31.865Z"
   },
   {
    "duration": 293,
    "start_time": "2022-09-12T14:00:32.049Z"
   },
   {
    "duration": 168,
    "start_time": "2022-09-12T14:00:32.344Z"
   },
   {
    "duration": 233,
    "start_time": "2022-09-12T14:00:32.513Z"
   },
   {
    "duration": 16,
    "start_time": "2022-09-12T14:00:32.748Z"
   },
   {
    "duration": 244,
    "start_time": "2022-09-12T14:00:32.765Z"
   },
   {
    "duration": 23,
    "start_time": "2022-09-12T14:00:33.010Z"
   },
   {
    "duration": 1924,
    "start_time": "2022-09-12T14:00:33.034Z"
   },
   {
    "duration": 27,
    "start_time": "2022-09-12T14:00:34.959Z"
   },
   {
    "duration": 129,
    "start_time": "2022-09-12T14:00:34.989Z"
   },
   {
    "duration": 76,
    "start_time": "2022-09-12T14:00:35.120Z"
   },
   {
    "duration": 30,
    "start_time": "2022-09-12T14:00:41.552Z"
   },
   {
    "duration": 17,
    "start_time": "2022-09-12T14:00:42.384Z"
   },
   {
    "duration": 25,
    "start_time": "2022-09-12T14:00:52.272Z"
   },
   {
    "duration": 46,
    "start_time": "2022-09-12T14:00:55.635Z"
   },
   {
    "duration": 730,
    "start_time": "2022-09-12T14:00:56.064Z"
   },
   {
    "duration": 27,
    "start_time": "2022-09-12T14:00:59.512Z"
   },
   {
    "duration": 18,
    "start_time": "2022-09-12T14:00:59.872Z"
   },
   {
    "duration": 29,
    "start_time": "2022-09-12T14:01:02.289Z"
   },
   {
    "duration": 27,
    "start_time": "2022-09-12T14:01:02.673Z"
   },
   {
    "duration": 2,
    "start_time": "2022-09-12T14:01:08.677Z"
   },
   {
    "duration": 76,
    "start_time": "2022-09-12T14:01:09.141Z"
   },
   {
    "duration": 19,
    "start_time": "2022-09-12T14:01:09.220Z"
   },
   {
    "duration": 48,
    "start_time": "2022-09-12T14:01:09.278Z"
   },
   {
    "duration": 8,
    "start_time": "2022-09-12T14:01:09.340Z"
   },
   {
    "duration": 7,
    "start_time": "2022-09-12T14:01:09.418Z"
   },
   {
    "duration": 5,
    "start_time": "2022-09-12T14:01:09.448Z"
   },
   {
    "duration": 18,
    "start_time": "2022-09-12T14:01:09.481Z"
   },
   {
    "duration": 223,
    "start_time": "2022-09-12T14:01:09.607Z"
   },
   {
    "duration": 180,
    "start_time": "2022-09-12T14:01:09.832Z"
   },
   {
    "duration": 291,
    "start_time": "2022-09-12T14:01:10.014Z"
   },
   {
    "duration": 172,
    "start_time": "2022-09-12T14:01:10.307Z"
   },
   {
    "duration": 230,
    "start_time": "2022-09-12T14:01:10.481Z"
   },
   {
    "duration": 93,
    "start_time": "2022-09-12T14:01:10.712Z"
   },
   {
    "duration": 246,
    "start_time": "2022-09-12T14:01:10.807Z"
   },
   {
    "duration": 16,
    "start_time": "2022-09-12T14:01:11.055Z"
   },
   {
    "duration": 1638,
    "start_time": "2022-09-12T14:01:11.073Z"
   },
   {
    "duration": 23,
    "start_time": "2022-09-12T14:01:12.712Z"
   },
   {
    "duration": 40,
    "start_time": "2022-09-12T14:01:12.737Z"
   },
   {
    "duration": 18,
    "start_time": "2022-09-12T14:01:12.779Z"
   },
   {
    "duration": 21,
    "start_time": "2022-09-12T14:01:15.760Z"
   },
   {
    "duration": 6,
    "start_time": "2022-09-12T14:05:55.846Z"
   },
   {
    "duration": 11,
    "start_time": "2022-09-12T14:06:09.526Z"
   },
   {
    "duration": 28,
    "start_time": "2022-09-12T14:06:11.561Z"
   },
   {
    "duration": 9,
    "start_time": "2022-09-12T14:06:12.703Z"
   },
   {
    "duration": 11,
    "start_time": "2022-09-12T14:06:14.303Z"
   },
   {
    "duration": 10,
    "start_time": "2022-09-12T14:06:15.999Z"
   },
   {
    "duration": 10,
    "start_time": "2022-09-12T14:06:17.407Z"
   },
   {
    "duration": 25,
    "start_time": "2022-09-12T14:06:18.734Z"
   },
   {
    "duration": 10,
    "start_time": "2022-09-12T14:06:19.526Z"
   },
   {
    "duration": 3,
    "start_time": "2022-09-12T14:06:21.926Z"
   },
   {
    "duration": 76,
    "start_time": "2022-09-12T14:06:22.431Z"
   },
   {
    "duration": 18,
    "start_time": "2022-09-12T14:06:22.509Z"
   },
   {
    "duration": 44,
    "start_time": "2022-09-12T14:06:22.570Z"
   },
   {
    "duration": 8,
    "start_time": "2022-09-12T14:06:22.630Z"
   },
   {
    "duration": 6,
    "start_time": "2022-09-12T14:06:22.692Z"
   },
   {
    "duration": 14,
    "start_time": "2022-09-12T14:06:22.722Z"
   },
   {
    "duration": 20,
    "start_time": "2022-09-12T14:06:22.769Z"
   },
   {
    "duration": 234,
    "start_time": "2022-09-12T14:06:22.890Z"
   },
   {
    "duration": 176,
    "start_time": "2022-09-12T14:06:23.125Z"
   },
   {
    "duration": 288,
    "start_time": "2022-09-12T14:06:23.302Z"
   },
   {
    "duration": 165,
    "start_time": "2022-09-12T14:06:23.592Z"
   },
   {
    "duration": 233,
    "start_time": "2022-09-12T14:06:23.759Z"
   },
   {
    "duration": 95,
    "start_time": "2022-09-12T14:06:23.994Z"
   },
   {
    "duration": 262,
    "start_time": "2022-09-12T14:06:24.091Z"
   },
   {
    "duration": 13,
    "start_time": "2022-09-12T14:06:24.354Z"
   },
   {
    "duration": 1697,
    "start_time": "2022-09-12T14:06:24.369Z"
   },
   {
    "duration": 23,
    "start_time": "2022-09-12T14:06:26.067Z"
   },
   {
    "duration": 65,
    "start_time": "2022-09-12T14:06:26.091Z"
   },
   {
    "duration": 16,
    "start_time": "2022-09-12T14:06:26.157Z"
   },
   {
    "duration": 0,
    "start_time": "2022-09-12T14:06:26.175Z"
   },
   {
    "duration": 20,
    "start_time": "2022-09-12T14:06:29.935Z"
   },
   {
    "duration": 7,
    "start_time": "2022-09-12T14:06:31.046Z"
   },
   {
    "duration": 162,
    "start_time": "2022-09-12T21:05:22.058Z"
   },
   {
    "duration": 46,
    "start_time": "2022-09-12T21:15:57.828Z"
   },
   {
    "duration": 1186,
    "start_time": "2022-09-12T21:16:02.410Z"
   },
   {
    "duration": 265,
    "start_time": "2022-09-12T21:16:03.598Z"
   },
   {
    "duration": 22,
    "start_time": "2022-09-12T21:16:03.864Z"
   },
   {
    "duration": 50,
    "start_time": "2022-09-12T21:16:03.888Z"
   },
   {
    "duration": 87,
    "start_time": "2022-09-12T21:16:03.940Z"
   },
   {
    "duration": 0,
    "start_time": "2022-09-12T21:16:04.029Z"
   },
   {
    "duration": 0,
    "start_time": "2022-09-12T21:16:04.030Z"
   },
   {
    "duration": 0,
    "start_time": "2022-09-12T21:16:04.031Z"
   },
   {
    "duration": 0,
    "start_time": "2022-09-12T21:16:04.033Z"
   },
   {
    "duration": 0,
    "start_time": "2022-09-12T21:16:04.034Z"
   },
   {
    "duration": 0,
    "start_time": "2022-09-12T21:16:04.035Z"
   },
   {
    "duration": 0,
    "start_time": "2022-09-12T21:16:04.036Z"
   },
   {
    "duration": 0,
    "start_time": "2022-09-12T21:16:04.037Z"
   },
   {
    "duration": 0,
    "start_time": "2022-09-12T21:16:04.038Z"
   },
   {
    "duration": 0,
    "start_time": "2022-09-12T21:16:04.039Z"
   },
   {
    "duration": 0,
    "start_time": "2022-09-12T21:16:04.040Z"
   },
   {
    "duration": 0,
    "start_time": "2022-09-12T21:16:04.041Z"
   },
   {
    "duration": 1,
    "start_time": "2022-09-12T21:16:04.042Z"
   },
   {
    "duration": 0,
    "start_time": "2022-09-12T21:16:04.044Z"
   },
   {
    "duration": 0,
    "start_time": "2022-09-12T21:16:04.045Z"
   },
   {
    "duration": 0,
    "start_time": "2022-09-12T21:16:04.046Z"
   },
   {
    "duration": 0,
    "start_time": "2022-09-12T21:16:04.047Z"
   },
   {
    "duration": 6,
    "start_time": "2022-09-12T21:17:05.918Z"
   },
   {
    "duration": 4,
    "start_time": "2022-09-12T21:23:19.007Z"
   },
   {
    "duration": 110,
    "start_time": "2022-09-12T21:23:19.014Z"
   },
   {
    "duration": 27,
    "start_time": "2022-09-12T21:23:19.126Z"
   },
   {
    "duration": 46,
    "start_time": "2022-09-12T21:23:19.154Z"
   },
   {
    "duration": 5,
    "start_time": "2022-09-12T21:23:19.221Z"
   },
   {
    "duration": 11,
    "start_time": "2022-09-12T21:23:19.228Z"
   },
   {
    "duration": 9,
    "start_time": "2022-09-12T21:23:19.241Z"
   },
   {
    "duration": 6,
    "start_time": "2022-09-12T21:23:19.252Z"
   },
   {
    "duration": 28,
    "start_time": "2022-09-12T21:23:19.260Z"
   },
   {
    "duration": 280,
    "start_time": "2022-09-12T21:23:19.321Z"
   },
   {
    "duration": 221,
    "start_time": "2022-09-12T21:23:19.602Z"
   },
   {
    "duration": 365,
    "start_time": "2022-09-12T21:23:19.825Z"
   },
   {
    "duration": 185,
    "start_time": "2022-09-12T21:23:20.192Z"
   },
   {
    "duration": 281,
    "start_time": "2022-09-12T21:23:20.379Z"
   },
   {
    "duration": 18,
    "start_time": "2022-09-12T21:23:20.662Z"
   },
   {
    "duration": 285,
    "start_time": "2022-09-12T21:23:20.682Z"
   },
   {
    "duration": 16,
    "start_time": "2022-09-12T21:23:20.968Z"
   },
   {
    "duration": 2818,
    "start_time": "2022-09-12T21:23:20.985Z"
   },
   {
    "duration": 36,
    "start_time": "2022-09-12T21:23:23.806Z"
   },
   {
    "duration": 133,
    "start_time": "2022-09-12T21:23:23.844Z"
   },
   {
    "duration": 32,
    "start_time": "2022-09-12T21:23:23.978Z"
   },
   {
    "duration": 0,
    "start_time": "2022-09-12T21:23:24.021Z"
   },
   {
    "duration": 354,
    "start_time": "2022-09-12T21:29:21.816Z"
   },
   {
    "duration": 6,
    "start_time": "2022-09-12T21:37:34.678Z"
   },
   {
    "duration": 1268,
    "start_time": "2022-09-13T07:54:49.826Z"
   },
   {
    "duration": 559,
    "start_time": "2022-09-13T07:54:51.096Z"
   },
   {
    "duration": 20,
    "start_time": "2022-09-13T07:54:53.227Z"
   },
   {
    "duration": 44,
    "start_time": "2022-09-13T07:54:54.124Z"
   },
   {
    "duration": 5,
    "start_time": "2022-09-13T07:54:55.106Z"
   },
   {
    "duration": 18,
    "start_time": "2022-09-13T07:58:04.136Z"
   },
   {
    "duration": 26,
    "start_time": "2022-09-13T07:58:12.034Z"
   },
   {
    "duration": 3,
    "start_time": "2022-09-13T07:58:16.786Z"
   },
   {
    "duration": 77,
    "start_time": "2022-09-13T07:58:17.136Z"
   },
   {
    "duration": 19,
    "start_time": "2022-09-13T07:58:17.639Z"
   },
   {
    "duration": 39,
    "start_time": "2022-09-13T07:58:18.866Z"
   },
   {
    "duration": 5,
    "start_time": "2022-09-13T07:58:20.113Z"
   },
   {
    "duration": 26,
    "start_time": "2022-09-13T07:58:37.441Z"
   },
   {
    "duration": 24,
    "start_time": "2022-09-13T08:01:31.377Z"
   },
   {
    "duration": 249,
    "start_time": "2022-09-13T08:01:34.224Z"
   },
   {
    "duration": 301,
    "start_time": "2022-09-13T08:01:39.288Z"
   },
   {
    "duration": 162,
    "start_time": "2022-09-13T08:01:41.768Z"
   },
   {
    "duration": 162,
    "start_time": "2022-09-13T08:02:19.224Z"
   },
   {
    "duration": 293,
    "start_time": "2022-09-13T08:02:47.649Z"
   },
   {
    "duration": 3,
    "start_time": "2022-09-13T08:03:52.440Z"
   },
   {
    "duration": 173,
    "start_time": "2022-09-13T08:03:57.561Z"
   },
   {
    "duration": 129,
    "start_time": "2022-09-13T08:08:37.296Z"
   },
   {
    "duration": 157,
    "start_time": "2022-09-13T08:08:45.158Z"
   },
   {
    "duration": 118,
    "start_time": "2022-09-13T08:09:13.695Z"
   },
   {
    "duration": 280,
    "start_time": "2022-09-13T08:09:16.439Z"
   },
   {
    "duration": 66,
    "start_time": "2022-09-13T08:09:17.038Z"
   },
   {
    "duration": 651,
    "start_time": "2022-09-13T08:09:32.791Z"
   },
   {
    "duration": 73,
    "start_time": "2022-09-13T08:09:46.382Z"
   },
   {
    "duration": 83,
    "start_time": "2022-09-13T08:09:51.318Z"
   },
   {
    "duration": 72,
    "start_time": "2022-09-13T08:10:22.718Z"
   },
   {
    "duration": 68,
    "start_time": "2022-09-13T08:10:31.775Z"
   },
   {
    "duration": 144,
    "start_time": "2022-09-13T08:10:36.919Z"
   },
   {
    "duration": 74,
    "start_time": "2022-09-13T08:10:46.049Z"
   },
   {
    "duration": 68,
    "start_time": "2022-09-13T08:10:49.374Z"
   },
   {
    "duration": 68,
    "start_time": "2022-09-13T08:11:01.248Z"
   },
   {
    "duration": 90,
    "start_time": "2022-09-13T08:11:04.079Z"
   },
   {
    "duration": 66,
    "start_time": "2022-09-13T08:11:06.846Z"
   },
   {
    "duration": 81,
    "start_time": "2022-09-13T08:11:15.054Z"
   },
   {
    "duration": 91,
    "start_time": "2022-09-13T08:11:16.890Z"
   },
   {
    "duration": 308,
    "start_time": "2022-09-13T08:11:35.742Z"
   },
   {
    "duration": 731,
    "start_time": "2022-09-13T08:12:34.551Z"
   },
   {
    "duration": 649,
    "start_time": "2022-09-13T08:12:37.662Z"
   },
   {
    "duration": 335,
    "start_time": "2022-09-13T08:14:35.230Z"
   },
   {
    "duration": 721,
    "start_time": "2022-09-13T08:14:50.389Z"
   },
   {
    "duration": 186,
    "start_time": "2022-09-13T08:15:22.598Z"
   },
   {
    "duration": 145,
    "start_time": "2022-09-13T08:18:49.261Z"
   },
   {
    "duration": 1458,
    "start_time": "2022-09-13T08:22:03.992Z"
   },
   {
    "duration": 9,
    "start_time": "2022-09-13T08:30:48.401Z"
   },
   {
    "duration": 3,
    "start_time": "2022-09-13T08:34:20.288Z"
   },
   {
    "duration": 37,
    "start_time": "2022-09-13T08:34:27.840Z"
   },
   {
    "duration": 4,
    "start_time": "2022-09-13T08:34:32.855Z"
   },
   {
    "duration": 30,
    "start_time": "2022-09-13T08:34:33.345Z"
   },
   {
    "duration": 951,
    "start_time": "2022-09-13T08:54:35.531Z"
   },
   {
    "duration": 27,
    "start_time": "2022-09-13T08:55:16.579Z"
   },
   {
    "duration": 34,
    "start_time": "2022-09-13T08:57:00.123Z"
   },
   {
    "duration": 2020,
    "start_time": "2022-09-13T09:01:57.224Z"
   },
   {
    "duration": 4,
    "start_time": "2022-09-13T09:02:12.338Z"
   },
   {
    "duration": 1928,
    "start_time": "2022-09-13T09:02:13.105Z"
   },
   {
    "duration": 4,
    "start_time": "2022-09-13T09:03:36.791Z"
   },
   {
    "duration": 3198,
    "start_time": "2022-09-13T09:03:37.073Z"
   },
   {
    "duration": 1942,
    "start_time": "2022-09-13T09:05:10.863Z"
   },
   {
    "duration": 2,
    "start_time": "2022-09-13T09:05:20.000Z"
   },
   {
    "duration": 85,
    "start_time": "2022-09-13T09:05:20.548Z"
   },
   {
    "duration": 20,
    "start_time": "2022-09-13T09:05:20.644Z"
   },
   {
    "duration": 45,
    "start_time": "2022-09-13T09:05:20.711Z"
   },
   {
    "duration": 5,
    "start_time": "2022-09-13T09:05:20.776Z"
   },
   {
    "duration": 25,
    "start_time": "2022-09-13T09:05:20.883Z"
   },
   {
    "duration": 237,
    "start_time": "2022-09-13T09:05:21.839Z"
   },
   {
    "duration": 307,
    "start_time": "2022-09-13T09:05:23.479Z"
   },
   {
    "duration": 164,
    "start_time": "2022-09-13T09:05:25.191Z"
   },
   {
    "duration": 367,
    "start_time": "2022-09-13T09:05:29.359Z"
   },
   {
    "duration": 286,
    "start_time": "2022-09-13T09:05:55.822Z"
   },
   {
    "duration": 682,
    "start_time": "2022-09-13T09:05:57.207Z"
   },
   {
    "duration": 22,
    "start_time": "2022-09-13T09:06:16.631Z"
   },
   {
    "duration": 1707,
    "start_time": "2022-09-13T09:06:18.808Z"
   },
   {
    "duration": 4,
    "start_time": "2022-09-13T09:06:27.560Z"
   },
   {
    "duration": 3,
    "start_time": "2022-09-13T09:06:41.751Z"
   },
   {
    "duration": 184,
    "start_time": "2022-09-13T09:06:45.072Z"
   },
   {
    "duration": 5,
    "start_time": "2022-09-13T09:07:56.538Z"
   },
   {
    "duration": 3,
    "start_time": "2022-09-13T09:10:13.071Z"
   },
   {
    "duration": 15,
    "start_time": "2022-09-13T09:11:20.607Z"
   },
   {
    "duration": 22,
    "start_time": "2022-09-13T09:11:42.562Z"
   },
   {
    "duration": 26,
    "start_time": "2022-09-13T09:11:48.894Z"
   },
   {
    "duration": 9,
    "start_time": "2022-09-13T09:11:49.606Z"
   },
   {
    "duration": 11,
    "start_time": "2022-09-13T09:11:50.309Z"
   },
   {
    "duration": 17,
    "start_time": "2022-09-13T09:11:50.855Z"
   },
   {
    "duration": 20,
    "start_time": "2022-09-13T09:13:07.926Z"
   },
   {
    "duration": 21,
    "start_time": "2022-09-13T09:13:25.957Z"
   },
   {
    "duration": 13,
    "start_time": "2022-09-13T09:13:26.509Z"
   },
   {
    "duration": 4,
    "start_time": "2022-09-13T09:13:27.077Z"
   },
   {
    "duration": 17,
    "start_time": "2022-09-13T09:13:27.557Z"
   },
   {
    "duration": 28,
    "start_time": "2022-09-13T09:15:09.093Z"
   },
   {
    "duration": 25,
    "start_time": "2022-09-13T09:15:12.910Z"
   },
   {
    "duration": 7,
    "start_time": "2022-09-13T09:15:13.052Z"
   },
   {
    "duration": 4,
    "start_time": "2022-09-13T09:15:13.860Z"
   },
   {
    "duration": 14,
    "start_time": "2022-09-13T09:15:14.205Z"
   },
   {
    "duration": 21,
    "start_time": "2022-09-13T09:15:31.037Z"
   },
   {
    "duration": 6,
    "start_time": "2022-09-13T09:15:31.428Z"
   },
   {
    "duration": 4,
    "start_time": "2022-09-13T09:15:32.044Z"
   },
   {
    "duration": 13,
    "start_time": "2022-09-13T09:15:32.460Z"
   },
   {
    "duration": 27,
    "start_time": "2022-09-13T09:15:54.324Z"
   },
   {
    "duration": 6,
    "start_time": "2022-09-13T09:15:54.925Z"
   },
   {
    "duration": 4,
    "start_time": "2022-09-13T09:15:55.492Z"
   },
   {
    "duration": 11,
    "start_time": "2022-09-13T09:15:56.155Z"
   },
   {
    "duration": 1208,
    "start_time": "2022-09-13T09:16:34.973Z"
   },
   {
    "duration": 22,
    "start_time": "2022-09-13T09:16:37.636Z"
   },
   {
    "duration": 17,
    "start_time": "2022-09-13T09:16:37.805Z"
   },
   {
    "duration": 4,
    "start_time": "2022-09-13T09:16:38.476Z"
   },
   {
    "duration": 72,
    "start_time": "2022-09-13T09:16:38.765Z"
   },
   {
    "duration": 25,
    "start_time": "2022-09-13T09:16:45.692Z"
   },
   {
    "duration": 6,
    "start_time": "2022-09-13T09:16:46.044Z"
   },
   {
    "duration": 4,
    "start_time": "2022-09-13T09:16:46.565Z"
   },
   {
    "duration": 153,
    "start_time": "2022-09-13T09:16:47.188Z"
   },
   {
    "duration": 21,
    "start_time": "2022-09-13T09:16:54.126Z"
   },
   {
    "duration": 5,
    "start_time": "2022-09-13T09:16:54.300Z"
   },
   {
    "duration": 3,
    "start_time": "2022-09-13T09:16:54.445Z"
   },
   {
    "duration": 11,
    "start_time": "2022-09-13T09:16:55.364Z"
   },
   {
    "duration": 84,
    "start_time": "2022-09-13T09:17:03.541Z"
   },
   {
    "duration": 54,
    "start_time": "2022-09-13T09:17:26.436Z"
   },
   {
    "duration": 81,
    "start_time": "2022-09-13T09:17:30.581Z"
   },
   {
    "duration": 20,
    "start_time": "2022-09-13T09:17:43.548Z"
   },
   {
    "duration": 6,
    "start_time": "2022-09-13T09:17:43.722Z"
   },
   {
    "duration": 4,
    "start_time": "2022-09-13T09:17:43.860Z"
   },
   {
    "duration": 13,
    "start_time": "2022-09-13T09:17:44.668Z"
   },
   {
    "duration": 9,
    "start_time": "2022-09-13T09:18:04.148Z"
   },
   {
    "duration": 11,
    "start_time": "2022-09-13T09:18:15.051Z"
   },
   {
    "duration": 118,
    "start_time": "2022-09-13T09:18:26.109Z"
   },
   {
    "duration": 111,
    "start_time": "2022-09-13T09:18:52.574Z"
   },
   {
    "duration": 216,
    "start_time": "2022-09-13T09:21:44.098Z"
   },
   {
    "duration": 22,
    "start_time": "2022-09-13T09:22:23.075Z"
   },
   {
    "duration": 5,
    "start_time": "2022-09-13T09:22:23.580Z"
   },
   {
    "duration": 4,
    "start_time": "2022-09-13T09:22:24.300Z"
   },
   {
    "duration": 12,
    "start_time": "2022-09-13T09:22:24.851Z"
   },
   {
    "duration": 217,
    "start_time": "2022-09-13T09:22:49.267Z"
   },
   {
    "duration": 31,
    "start_time": "2022-09-13T09:23:43.579Z"
   },
   {
    "duration": 6,
    "start_time": "2022-09-13T09:23:43.747Z"
   },
   {
    "duration": 4,
    "start_time": "2022-09-13T09:23:43.906Z"
   },
   {
    "duration": 14,
    "start_time": "2022-09-13T09:23:44.451Z"
   },
   {
    "duration": 219,
    "start_time": "2022-09-13T09:23:44.826Z"
   },
   {
    "duration": 13,
    "start_time": "2022-09-13T09:25:43.675Z"
   },
   {
    "duration": 217,
    "start_time": "2022-09-13T09:25:44.267Z"
   },
   {
    "duration": 25,
    "start_time": "2022-09-13T09:26:43.842Z"
   },
   {
    "duration": 474,
    "start_time": "2022-09-13T09:26:55.026Z"
   },
   {
    "duration": 735,
    "start_time": "2022-09-13T09:28:21.666Z"
   },
   {
    "duration": 10,
    "start_time": "2022-09-13T09:29:11.897Z"
   },
   {
    "duration": 9,
    "start_time": "2022-09-13T09:29:17.913Z"
   },
   {
    "duration": 18,
    "start_time": "2022-09-13T09:29:26.873Z"
   },
   {
    "duration": 8,
    "start_time": "2022-09-13T09:30:09.385Z"
   },
   {
    "duration": 25,
    "start_time": "2022-09-13T09:30:16.017Z"
   },
   {
    "duration": 6,
    "start_time": "2022-09-13T09:30:16.185Z"
   },
   {
    "duration": 5,
    "start_time": "2022-09-13T09:30:16.745Z"
   },
   {
    "duration": 16,
    "start_time": "2022-09-13T09:30:17.337Z"
   },
   {
    "duration": 687,
    "start_time": "2022-09-13T09:30:17.912Z"
   },
   {
    "duration": 14,
    "start_time": "2022-09-13T09:30:18.746Z"
   },
   {
    "duration": 22,
    "start_time": "2022-09-13T09:30:39.065Z"
   },
   {
    "duration": 7,
    "start_time": "2022-09-13T09:30:39.440Z"
   },
   {
    "duration": 5,
    "start_time": "2022-09-13T09:30:39.952Z"
   },
   {
    "duration": 17,
    "start_time": "2022-09-13T09:30:40.457Z"
   },
   {
    "duration": 679,
    "start_time": "2022-09-13T09:30:41.008Z"
   },
   {
    "duration": 107,
    "start_time": "2022-09-13T09:30:41.688Z"
   },
   {
    "duration": 11,
    "start_time": "2022-09-13T09:31:30.353Z"
   },
   {
    "duration": 10,
    "start_time": "2022-09-13T09:31:40.212Z"
   },
   {
    "duration": 23,
    "start_time": "2022-09-13T09:31:42.704Z"
   },
   {
    "duration": 6,
    "start_time": "2022-09-13T09:31:42.880Z"
   },
   {
    "duration": 4,
    "start_time": "2022-09-13T09:31:43.032Z"
   },
   {
    "duration": 14,
    "start_time": "2022-09-13T09:31:43.153Z"
   },
   {
    "duration": 666,
    "start_time": "2022-09-13T09:31:43.728Z"
   },
   {
    "duration": 181,
    "start_time": "2022-09-13T09:31:44.713Z"
   },
   {
    "duration": 15,
    "start_time": "2022-09-13T09:33:37.256Z"
   },
   {
    "duration": 22,
    "start_time": "2022-09-13T09:33:39.976Z"
   },
   {
    "duration": 6,
    "start_time": "2022-09-13T09:33:40.151Z"
   },
   {
    "duration": 4,
    "start_time": "2022-09-13T09:33:40.296Z"
   },
   {
    "duration": 14,
    "start_time": "2022-09-13T09:33:40.430Z"
   },
   {
    "duration": 666,
    "start_time": "2022-09-13T09:33:41.008Z"
   },
   {
    "duration": 14,
    "start_time": "2022-09-13T09:33:41.676Z"
   },
   {
    "duration": 238,
    "start_time": "2022-09-13T09:33:53.216Z"
   },
   {
    "duration": 21,
    "start_time": "2022-09-13T09:38:27.288Z"
   },
   {
    "duration": 7,
    "start_time": "2022-09-13T09:38:27.790Z"
   },
   {
    "duration": 4,
    "start_time": "2022-09-13T09:38:28.319Z"
   },
   {
    "duration": 19,
    "start_time": "2022-09-13T09:38:28.951Z"
   },
   {
    "duration": 663,
    "start_time": "2022-09-13T09:38:29.879Z"
   },
   {
    "duration": 250,
    "start_time": "2022-09-13T09:39:12.599Z"
   },
   {
    "duration": 21,
    "start_time": "2022-09-13T09:42:33.262Z"
   },
   {
    "duration": 6,
    "start_time": "2022-09-13T09:44:14.853Z"
   },
   {
    "duration": 14,
    "start_time": "2022-09-13T09:44:22.076Z"
   },
   {
    "duration": 626,
    "start_time": "2022-09-13T09:44:26.133Z"
   },
   {
    "duration": 180,
    "start_time": "2022-09-13T09:44:58.109Z"
   },
   {
    "duration": 1512,
    "start_time": "2022-09-13T09:48:59.500Z"
   },
   {
    "duration": 20,
    "start_time": "2022-09-13T09:49:03.316Z"
   },
   {
    "duration": 4,
    "start_time": "2022-09-13T09:49:04.209Z"
   },
   {
    "duration": 4,
    "start_time": "2022-09-13T09:49:11.139Z"
   },
   {
    "duration": 14,
    "start_time": "2022-09-13T09:49:12.848Z"
   },
   {
    "duration": 641,
    "start_time": "2022-09-13T09:49:13.885Z"
   },
   {
    "duration": 159,
    "start_time": "2022-09-13T09:49:16.702Z"
   },
   {
    "duration": 275,
    "start_time": "2022-09-13T09:50:42.507Z"
   },
   {
    "duration": 92,
    "start_time": "2022-09-13T09:51:05.699Z"
   },
   {
    "duration": 7,
    "start_time": "2022-09-13T09:51:13.811Z"
   },
   {
    "duration": 259,
    "start_time": "2022-09-13T09:51:16.210Z"
   },
   {
    "duration": 2252,
    "start_time": "2022-09-13T09:52:46.635Z"
   },
   {
    "duration": 38,
    "start_time": "2022-09-13T09:52:53.955Z"
   },
   {
    "duration": 50,
    "start_time": "2022-09-13T09:53:06.721Z"
   },
   {
    "duration": 19,
    "start_time": "2022-09-13T09:53:15.226Z"
   },
   {
    "duration": 53,
    "start_time": "2022-09-13T09:53:29.109Z"
   },
   {
    "duration": 1689,
    "start_time": "2022-09-13T09:53:34.780Z"
   },
   {
    "duration": 47,
    "start_time": "2022-09-13T09:53:36.471Z"
   },
   {
    "duration": 55,
    "start_time": "2022-09-13T09:53:36.520Z"
   },
   {
    "duration": 3777,
    "start_time": "2022-09-13T09:53:36.650Z"
   },
   {
    "duration": 259,
    "start_time": "2022-09-13T09:53:55.963Z"
   },
   {
    "duration": 1497,
    "start_time": "2022-09-13T09:53:56.410Z"
   },
   {
    "duration": 37,
    "start_time": "2022-09-13T09:53:57.908Z"
   },
   {
    "duration": 41,
    "start_time": "2022-09-13T09:53:57.946Z"
   },
   {
    "duration": 11,
    "start_time": "2022-09-13T09:53:58.706Z"
   },
   {
    "duration": 12,
    "start_time": "2022-09-13T09:53:59.378Z"
   },
   {
    "duration": 11,
    "start_time": "2022-09-13T09:54:05.347Z"
   },
   {
    "duration": 17,
    "start_time": "2022-09-13T09:55:12.939Z"
   },
   {
    "duration": 19,
    "start_time": "2022-09-13T09:57:11.706Z"
   },
   {
    "duration": 1659,
    "start_time": "2022-09-13T09:57:12.082Z"
   },
   {
    "duration": 3,
    "start_time": "2022-09-13T09:57:34.210Z"
   },
   {
    "duration": 88,
    "start_time": "2022-09-13T09:57:34.758Z"
   },
   {
    "duration": 28,
    "start_time": "2022-09-13T09:57:34.854Z"
   },
   {
    "duration": 51,
    "start_time": "2022-09-13T09:57:35.102Z"
   },
   {
    "duration": 5,
    "start_time": "2022-09-13T09:57:35.155Z"
   },
   {
    "duration": 30,
    "start_time": "2022-09-13T09:57:35.162Z"
   },
   {
    "duration": 232,
    "start_time": "2022-09-13T09:57:35.897Z"
   },
   {
    "duration": 316,
    "start_time": "2022-09-13T09:57:36.131Z"
   },
   {
    "duration": 234,
    "start_time": "2022-09-13T09:57:36.449Z"
   },
   {
    "duration": 306,
    "start_time": "2022-09-13T09:57:36.684Z"
   },
   {
    "duration": 708,
    "start_time": "2022-09-13T09:57:36.992Z"
   },
   {
    "duration": 26,
    "start_time": "2022-09-13T09:57:37.701Z"
   },
   {
    "duration": 5,
    "start_time": "2022-09-13T09:57:37.728Z"
   },
   {
    "duration": 7,
    "start_time": "2022-09-13T09:57:37.734Z"
   },
   {
    "duration": 20,
    "start_time": "2022-09-13T09:57:37.742Z"
   },
   {
    "duration": 680,
    "start_time": "2022-09-13T09:57:37.764Z"
   },
   {
    "duration": 172,
    "start_time": "2022-09-13T09:57:38.445Z"
   },
   {
    "duration": 315,
    "start_time": "2022-09-13T09:57:38.619Z"
   },
   {
    "duration": 21,
    "start_time": "2022-09-13T09:57:38.936Z"
   },
   {
    "duration": 11,
    "start_time": "2022-09-13T09:57:38.959Z"
   },
   {
    "duration": 278,
    "start_time": "2022-09-13T09:57:39.163Z"
   },
   {
    "duration": 1586,
    "start_time": "2022-09-13T09:57:39.443Z"
   },
   {
    "duration": 38,
    "start_time": "2022-09-13T09:57:41.031Z"
   },
   {
    "duration": 59,
    "start_time": "2022-09-13T09:57:41.070Z"
   },
   {
    "duration": 11,
    "start_time": "2022-09-13T09:57:41.131Z"
   },
   {
    "duration": 16,
    "start_time": "2022-09-13T09:57:41.144Z"
   },
   {
    "duration": 17,
    "start_time": "2022-09-13T09:57:41.361Z"
   },
   {
    "duration": 38,
    "start_time": "2022-09-13T09:57:42.872Z"
   },
   {
    "duration": 27,
    "start_time": "2022-09-13T09:57:52.714Z"
   },
   {
    "duration": 56,
    "start_time": "2022-09-13T09:57:53.251Z"
   },
   {
    "duration": 3,
    "start_time": "2022-09-13T09:57:56.281Z"
   },
   {
    "duration": 80,
    "start_time": "2022-09-13T09:57:56.822Z"
   },
   {
    "duration": 20,
    "start_time": "2022-09-13T09:57:56.930Z"
   },
   {
    "duration": 41,
    "start_time": "2022-09-13T09:57:56.989Z"
   },
   {
    "duration": 5,
    "start_time": "2022-09-13T09:57:57.056Z"
   },
   {
    "duration": 26,
    "start_time": "2022-09-13T09:57:57.157Z"
   },
   {
    "duration": 272,
    "start_time": "2022-09-13T09:57:57.448Z"
   },
   {
    "duration": 327,
    "start_time": "2022-09-13T09:57:57.722Z"
   },
   {
    "duration": 168,
    "start_time": "2022-09-13T09:57:58.051Z"
   },
   {
    "duration": 307,
    "start_time": "2022-09-13T09:57:58.221Z"
   },
   {
    "duration": 753,
    "start_time": "2022-09-13T09:57:58.530Z"
   },
   {
    "duration": 38,
    "start_time": "2022-09-13T09:57:59.286Z"
   },
   {
    "duration": 5,
    "start_time": "2022-09-13T09:57:59.326Z"
   },
   {
    "duration": 11,
    "start_time": "2022-09-13T09:57:59.333Z"
   },
   {
    "duration": 20,
    "start_time": "2022-09-13T09:57:59.345Z"
   },
   {
    "duration": 657,
    "start_time": "2022-09-13T09:57:59.367Z"
   },
   {
    "duration": 161,
    "start_time": "2022-09-13T09:58:00.026Z"
   },
   {
    "duration": 244,
    "start_time": "2022-09-13T09:58:00.189Z"
   },
   {
    "duration": 92,
    "start_time": "2022-09-13T09:58:01.044Z"
   },
   {
    "duration": 17,
    "start_time": "2022-09-13T09:58:01.138Z"
   },
   {
    "duration": 279,
    "start_time": "2022-09-13T09:58:01.213Z"
   },
   {
    "duration": 1709,
    "start_time": "2022-09-13T09:58:02.594Z"
   },
   {
    "duration": 41,
    "start_time": "2022-09-13T09:58:04.305Z"
   },
   {
    "duration": 62,
    "start_time": "2022-09-13T09:58:04.347Z"
   },
   {
    "duration": 9,
    "start_time": "2022-09-13T09:58:04.411Z"
   },
   {
    "duration": 36,
    "start_time": "2022-09-13T09:58:04.421Z"
   },
   {
    "duration": 16,
    "start_time": "2022-09-13T09:58:06.080Z"
   },
   {
    "duration": 20,
    "start_time": "2022-09-13T09:58:08.032Z"
   },
   {
    "duration": 164,
    "start_time": "2022-09-13T09:58:23.882Z"
   },
   {
    "duration": 285,
    "start_time": "2022-09-13T09:58:24.489Z"
   },
   {
    "duration": 759,
    "start_time": "2022-09-13T09:58:24.776Z"
   },
   {
    "duration": 20,
    "start_time": "2022-09-13T09:58:25.536Z"
   },
   {
    "duration": 5,
    "start_time": "2022-09-13T09:58:25.558Z"
   },
   {
    "duration": 10,
    "start_time": "2022-09-13T09:58:25.565Z"
   },
   {
    "duration": 3,
    "start_time": "2022-09-13T09:58:28.609Z"
   },
   {
    "duration": 87,
    "start_time": "2022-09-13T09:58:29.144Z"
   },
   {
    "duration": 20,
    "start_time": "2022-09-13T09:58:29.250Z"
   },
   {
    "duration": 54,
    "start_time": "2022-09-13T09:58:29.316Z"
   },
   {
    "duration": 5,
    "start_time": "2022-09-13T09:58:29.378Z"
   },
   {
    "duration": 26,
    "start_time": "2022-09-13T09:58:29.487Z"
   },
   {
    "duration": 230,
    "start_time": "2022-09-13T09:58:29.772Z"
   },
   {
    "duration": 313,
    "start_time": "2022-09-13T09:58:30.003Z"
   },
   {
    "duration": 174,
    "start_time": "2022-09-13T09:58:30.317Z"
   },
   {
    "duration": 304,
    "start_time": "2022-09-13T09:58:30.494Z"
   },
   {
    "duration": 772,
    "start_time": "2022-09-13T09:58:30.800Z"
   },
   {
    "duration": 35,
    "start_time": "2022-09-13T09:58:31.573Z"
   },
   {
    "duration": 4,
    "start_time": "2022-09-13T09:58:31.610Z"
   },
   {
    "duration": 18,
    "start_time": "2022-09-13T09:58:31.615Z"
   },
   {
    "duration": 21,
    "start_time": "2022-09-13T09:58:31.635Z"
   },
   {
    "duration": 649,
    "start_time": "2022-09-13T09:58:31.657Z"
   },
   {
    "duration": 163,
    "start_time": "2022-09-13T09:58:32.309Z"
   },
   {
    "duration": 305,
    "start_time": "2022-09-13T09:58:32.473Z"
   },
   {
    "duration": 35,
    "start_time": "2022-09-13T09:58:32.780Z"
   },
   {
    "duration": 15,
    "start_time": "2022-09-13T09:58:32.816Z"
   },
   {
    "duration": 302,
    "start_time": "2022-09-13T09:58:32.833Z"
   },
   {
    "duration": 1673,
    "start_time": "2022-09-13T09:58:33.136Z"
   },
   {
    "duration": 43,
    "start_time": "2022-09-13T09:58:34.811Z"
   },
   {
    "duration": 72,
    "start_time": "2022-09-13T09:58:34.856Z"
   },
   {
    "duration": 10,
    "start_time": "2022-09-13T09:58:34.929Z"
   },
   {
    "duration": 13,
    "start_time": "2022-09-13T09:58:34.941Z"
   },
   {
    "duration": 27,
    "start_time": "2022-09-13T09:58:34.956Z"
   },
   {
    "duration": 47,
    "start_time": "2022-09-13T09:58:34.986Z"
   },
   {
    "duration": 13,
    "start_time": "2022-09-13T09:58:37.920Z"
   },
   {
    "duration": 7,
    "start_time": "2022-09-13T09:58:47.073Z"
   },
   {
    "duration": 2,
    "start_time": "2022-09-13T09:59:30.985Z"
   },
   {
    "duration": 73,
    "start_time": "2022-09-13T09:59:31.539Z"
   },
   {
    "duration": 27,
    "start_time": "2022-09-13T09:59:31.633Z"
   },
   {
    "duration": 56,
    "start_time": "2022-09-13T09:59:31.700Z"
   },
   {
    "duration": 7,
    "start_time": "2022-09-13T09:59:31.758Z"
   },
   {
    "duration": 27,
    "start_time": "2022-09-13T09:59:31.862Z"
   },
   {
    "duration": 238,
    "start_time": "2022-09-13T09:59:32.155Z"
   },
   {
    "duration": 346,
    "start_time": "2022-09-13T09:59:32.395Z"
   },
   {
    "duration": 253,
    "start_time": "2022-09-13T09:59:32.742Z"
   },
   {
    "duration": 293,
    "start_time": "2022-09-13T09:59:33.008Z"
   },
   {
    "duration": 670,
    "start_time": "2022-09-13T09:59:33.303Z"
   },
   {
    "duration": 21,
    "start_time": "2022-09-13T09:59:33.974Z"
   },
   {
    "duration": 15,
    "start_time": "2022-09-13T09:59:33.996Z"
   },
   {
    "duration": 5,
    "start_time": "2022-09-13T09:59:34.012Z"
   },
   {
    "duration": 18,
    "start_time": "2022-09-13T09:59:34.019Z"
   },
   {
    "duration": 671,
    "start_time": "2022-09-13T09:59:34.039Z"
   },
   {
    "duration": 239,
    "start_time": "2022-09-13T09:59:34.711Z"
   },
   {
    "duration": 263,
    "start_time": "2022-09-13T09:59:34.951Z"
   },
   {
    "duration": 21,
    "start_time": "2022-09-13T09:59:35.216Z"
   },
   {
    "duration": 9,
    "start_time": "2022-09-13T09:59:35.239Z"
   },
   {
    "duration": 368,
    "start_time": "2022-09-13T09:59:35.249Z"
   },
   {
    "duration": 1544,
    "start_time": "2022-09-13T09:59:35.619Z"
   },
   {
    "duration": 54,
    "start_time": "2022-09-13T09:59:37.165Z"
   },
   {
    "duration": 48,
    "start_time": "2022-09-13T09:59:37.220Z"
   },
   {
    "duration": 9,
    "start_time": "2022-09-13T09:59:37.269Z"
   },
   {
    "duration": 34,
    "start_time": "2022-09-13T09:59:37.279Z"
   },
   {
    "duration": 9,
    "start_time": "2022-09-13T09:59:37.315Z"
   },
   {
    "duration": 40,
    "start_time": "2022-09-13T09:59:37.327Z"
   },
   {
    "duration": 18,
    "start_time": "2022-09-13T09:59:37.369Z"
   },
   {
    "duration": 6,
    "start_time": "2022-09-13T09:59:37.388Z"
   },
   {
    "duration": 572,
    "start_time": "2022-09-13T10:09:29.888Z"
   },
   {
    "duration": 3,
    "start_time": "2022-09-13T10:09:33.174Z"
   },
   {
    "duration": 74,
    "start_time": "2022-09-13T10:09:33.502Z"
   },
   {
    "duration": 22,
    "start_time": "2022-09-13T10:09:34.350Z"
   },
   {
    "duration": 40,
    "start_time": "2022-09-13T10:09:35.243Z"
   },
   {
    "duration": 5,
    "start_time": "2022-09-13T10:09:35.850Z"
   },
   {
    "duration": 25,
    "start_time": "2022-09-13T10:09:38.326Z"
   },
   {
    "duration": 663,
    "start_time": "2022-09-13T10:09:41.981Z"
   },
   {
    "duration": 379,
    "start_time": "2022-09-13T10:09:48.830Z"
   },
   {
    "duration": 433,
    "start_time": "2022-09-13T10:09:53.223Z"
   },
   {
    "duration": 517,
    "start_time": "2022-09-13T10:09:57.477Z"
   },
   {
    "duration": 656,
    "start_time": "2022-09-13T10:10:02.725Z"
   },
   {
    "duration": 281,
    "start_time": "2022-09-13T10:10:16.303Z"
   },
   {
    "duration": 568,
    "start_time": "2022-09-13T10:10:21.775Z"
   },
   {
    "duration": 240,
    "start_time": "2022-09-13T10:10:28.158Z"
   },
   {
    "duration": 10,
    "start_time": "2022-09-13T10:15:57.060Z"
   },
   {
    "duration": 2,
    "start_time": "2022-09-13T10:16:03.469Z"
   },
   {
    "duration": 74,
    "start_time": "2022-09-13T10:16:04.009Z"
   },
   {
    "duration": 22,
    "start_time": "2022-09-13T10:16:04.113Z"
   },
   {
    "duration": 141,
    "start_time": "2022-09-13T10:16:04.178Z"
   },
   {
    "duration": 6,
    "start_time": "2022-09-13T10:16:04.321Z"
   },
   {
    "duration": 28,
    "start_time": "2022-09-13T10:16:04.355Z"
   },
   {
    "duration": 239,
    "start_time": "2022-09-13T10:16:04.638Z"
   },
   {
    "duration": 301,
    "start_time": "2022-09-13T10:16:04.880Z"
   },
   {
    "duration": 174,
    "start_time": "2022-09-13T10:16:05.183Z"
   },
   {
    "duration": 291,
    "start_time": "2022-09-13T10:16:05.359Z"
   },
   {
    "duration": 735,
    "start_time": "2022-09-13T10:16:05.651Z"
   },
   {
    "duration": 32,
    "start_time": "2022-09-13T10:16:06.387Z"
   },
   {
    "duration": 5,
    "start_time": "2022-09-13T10:16:06.420Z"
   },
   {
    "duration": 7,
    "start_time": "2022-09-13T10:16:06.426Z"
   },
   {
    "duration": 37,
    "start_time": "2022-09-13T10:16:06.435Z"
   },
   {
    "duration": 662,
    "start_time": "2022-09-13T10:16:06.473Z"
   },
   {
    "duration": 160,
    "start_time": "2022-09-13T10:16:07.137Z"
   },
   {
    "duration": 237,
    "start_time": "2022-09-13T10:16:07.299Z"
   },
   {
    "duration": 102,
    "start_time": "2022-09-13T10:16:07.537Z"
   },
   {
    "duration": 7,
    "start_time": "2022-09-13T10:16:07.640Z"
   },
   {
    "duration": 268,
    "start_time": "2022-09-13T10:16:07.648Z"
   },
   {
    "duration": 7312,
    "start_time": "2022-09-13T10:16:07.918Z"
   },
   {
    "duration": 3,
    "start_time": "2022-09-13T10:21:50.909Z"
   },
   {
    "duration": 74,
    "start_time": "2022-09-13T10:21:51.454Z"
   },
   {
    "duration": 20,
    "start_time": "2022-09-13T10:21:51.548Z"
   },
   {
    "duration": 143,
    "start_time": "2022-09-13T10:21:51.614Z"
   },
   {
    "duration": 5,
    "start_time": "2022-09-13T10:21:51.759Z"
   },
   {
    "duration": 40,
    "start_time": "2022-09-13T10:21:51.789Z"
   },
   {
    "duration": 229,
    "start_time": "2022-09-13T10:21:53.444Z"
   },
   {
    "duration": 295,
    "start_time": "2022-09-13T10:21:55.699Z"
   },
   {
    "duration": 160,
    "start_time": "2022-09-13T10:21:57.700Z"
   },
   {
    "duration": 287,
    "start_time": "2022-09-13T10:21:59.955Z"
   },
   {
    "duration": 733,
    "start_time": "2022-09-13T10:22:00.685Z"
   },
   {
    "duration": 23,
    "start_time": "2022-09-13T10:22:04.534Z"
   },
   {
    "duration": 4,
    "start_time": "2022-09-13T10:22:09.435Z"
   },
   {
    "duration": 4,
    "start_time": "2022-09-13T10:22:10.468Z"
   },
   {
    "duration": 33,
    "start_time": "2022-09-13T10:22:13.343Z"
   },
   {
    "duration": 3,
    "start_time": "2022-09-13T10:22:39.956Z"
   },
   {
    "duration": 75,
    "start_time": "2022-09-13T10:22:40.562Z"
   },
   {
    "duration": 3,
    "start_time": "2022-09-13T10:22:44.306Z"
   },
   {
    "duration": 75,
    "start_time": "2022-09-13T10:22:45.064Z"
   },
   {
    "duration": 20,
    "start_time": "2022-09-13T10:22:45.176Z"
   },
   {
    "duration": 41,
    "start_time": "2022-09-13T10:22:45.250Z"
   },
   {
    "duration": 5,
    "start_time": "2022-09-13T10:22:45.307Z"
   },
   {
    "duration": 27,
    "start_time": "2022-09-13T10:22:45.405Z"
   },
   {
    "duration": 227,
    "start_time": "2022-09-13T10:22:47.386Z"
   },
   {
    "duration": 300,
    "start_time": "2022-09-13T10:22:48.231Z"
   },
   {
    "duration": 166,
    "start_time": "2022-09-13T10:22:50.394Z"
   },
   {
    "duration": 285,
    "start_time": "2022-09-13T10:22:51.213Z"
   },
   {
    "duration": 756,
    "start_time": "2022-09-13T10:22:51.500Z"
   },
   {
    "duration": 22,
    "start_time": "2022-09-13T10:22:52.258Z"
   },
   {
    "duration": 5,
    "start_time": "2022-09-13T10:22:54.432Z"
   },
   {
    "duration": 4,
    "start_time": "2022-09-13T10:22:54.509Z"
   },
   {
    "duration": 13,
    "start_time": "2022-09-13T10:22:54.569Z"
   },
   {
    "duration": 640,
    "start_time": "2022-09-13T10:22:54.611Z"
   },
   {
    "duration": 157,
    "start_time": "2022-09-13T10:22:55.253Z"
   },
   {
    "duration": 232,
    "start_time": "2022-09-13T10:22:58.410Z"
   },
   {
    "duration": 22,
    "start_time": "2022-09-13T10:23:00.562Z"
   },
   {
    "duration": 7,
    "start_time": "2022-09-13T10:23:01.330Z"
   },
   {
    "duration": 295,
    "start_time": "2022-09-13T10:23:02.483Z"
   },
   {
    "duration": 1556,
    "start_time": "2022-09-13T10:23:03.258Z"
   },
   {
    "duration": 42,
    "start_time": "2022-09-13T10:23:07.634Z"
   },
   {
    "duration": 122,
    "start_time": "2022-09-13T10:23:09.003Z"
   },
   {
    "duration": 10,
    "start_time": "2022-09-13T10:23:09.306Z"
   },
   {
    "duration": 11,
    "start_time": "2022-09-13T10:23:10.074Z"
   },
   {
    "duration": 6,
    "start_time": "2022-09-13T10:23:11.170Z"
   },
   {
    "duration": 18,
    "start_time": "2022-09-13T10:23:18.140Z"
   },
   {
    "duration": 19,
    "start_time": "2022-09-13T10:23:22.234Z"
   },
   {
    "duration": 8,
    "start_time": "2022-09-13T10:23:24.228Z"
   },
   {
    "duration": 44,
    "start_time": "2022-09-13T17:50:15.906Z"
   },
   {
    "duration": 7,
    "start_time": "2022-09-13T17:50:50.905Z"
   },
   {
    "duration": 1093,
    "start_time": "2022-09-13T17:50:53.320Z"
   },
   {
    "duration": 78,
    "start_time": "2022-09-13T17:50:54.415Z"
   },
   {
    "duration": 21,
    "start_time": "2022-09-13T17:50:54.494Z"
   },
   {
    "duration": 56,
    "start_time": "2022-09-13T17:50:54.518Z"
   },
   {
    "duration": 6,
    "start_time": "2022-09-13T17:50:54.576Z"
   },
   {
    "duration": 54,
    "start_time": "2022-09-13T17:50:54.584Z"
   },
   {
    "duration": 269,
    "start_time": "2022-09-13T17:50:54.640Z"
   },
   {
    "duration": 295,
    "start_time": "2022-09-13T17:50:54.911Z"
   },
   {
    "duration": 187,
    "start_time": "2022-09-13T17:50:55.208Z"
   },
   {
    "duration": 298,
    "start_time": "2022-09-13T17:50:55.397Z"
   },
   {
    "duration": 785,
    "start_time": "2022-09-13T17:50:55.697Z"
   },
   {
    "duration": 682,
    "start_time": "2022-09-13T17:50:56.483Z"
   },
   {
    "duration": 23,
    "start_time": "2022-09-13T17:50:57.166Z"
   },
   {
    "duration": 4,
    "start_time": "2022-09-13T17:50:57.191Z"
   },
   {
    "duration": 5,
    "start_time": "2022-09-13T17:50:57.196Z"
   },
   {
    "duration": 14,
    "start_time": "2022-09-13T17:50:57.222Z"
   },
   {
    "duration": 670,
    "start_time": "2022-09-13T17:50:57.238Z"
   },
   {
    "duration": 169,
    "start_time": "2022-09-13T17:50:57.910Z"
   },
   {
    "duration": 307,
    "start_time": "2022-09-13T17:50:58.081Z"
   },
   {
    "duration": 36,
    "start_time": "2022-09-13T17:50:58.390Z"
   },
   {
    "duration": 6,
    "start_time": "2022-09-13T17:50:58.428Z"
   },
   {
    "duration": 253,
    "start_time": "2022-09-13T17:50:58.435Z"
   },
   {
    "duration": 1975,
    "start_time": "2022-09-13T17:50:58.690Z"
   },
   {
    "duration": 71,
    "start_time": "2022-09-13T17:51:00.666Z"
   },
   {
    "duration": 67,
    "start_time": "2022-09-13T17:51:00.740Z"
   },
   {
    "duration": 12,
    "start_time": "2022-09-13T17:51:00.823Z"
   },
   {
    "duration": 28,
    "start_time": "2022-09-13T17:51:00.837Z"
   },
   {
    "duration": 33,
    "start_time": "2022-09-13T17:51:00.869Z"
   },
   {
    "duration": 37,
    "start_time": "2022-09-13T17:51:00.905Z"
   },
   {
    "duration": 30,
    "start_time": "2022-09-13T17:51:00.943Z"
   },
   {
    "duration": 18,
    "start_time": "2022-09-13T17:51:00.975Z"
   },
   {
    "duration": 647,
    "start_time": "2022-09-13T17:51:41.078Z"
   },
   {
    "duration": 760,
    "start_time": "2022-09-13T17:51:58.748Z"
   },
   {
    "duration": 604,
    "start_time": "2022-09-13T17:52:01.912Z"
   },
   {
    "duration": 863,
    "start_time": "2022-09-13T17:52:16.940Z"
   },
   {
    "duration": 196,
    "start_time": "2022-09-13T17:54:02.767Z"
   },
   {
    "duration": 334,
    "start_time": "2022-09-13T17:54:22.737Z"
   },
   {
    "duration": 353,
    "start_time": "2022-09-13T17:54:44.935Z"
   },
   {
    "duration": 335,
    "start_time": "2022-09-13T17:54:47.289Z"
   },
   {
    "duration": 445,
    "start_time": "2022-09-13T17:54:53.748Z"
   },
   {
    "duration": 5,
    "start_time": "2022-09-13T17:56:06.357Z"
   },
   {
    "duration": 18,
    "start_time": "2022-09-13T17:56:34.884Z"
   },
   {
    "duration": 3,
    "start_time": "2022-09-13T17:56:45.719Z"
   },
   {
    "duration": 74,
    "start_time": "2022-09-13T17:56:45.724Z"
   },
   {
    "duration": 17,
    "start_time": "2022-09-13T17:56:45.799Z"
   },
   {
    "duration": 40,
    "start_time": "2022-09-13T17:56:45.821Z"
   },
   {
    "duration": 5,
    "start_time": "2022-09-13T17:56:45.863Z"
   },
   {
    "duration": 26,
    "start_time": "2022-09-13T17:56:45.869Z"
   },
   {
    "duration": 267,
    "start_time": "2022-09-13T17:56:45.896Z"
   },
   {
    "duration": 293,
    "start_time": "2022-09-13T17:56:46.164Z"
   },
   {
    "duration": 168,
    "start_time": "2022-09-13T17:56:46.458Z"
   },
   {
    "duration": 281,
    "start_time": "2022-09-13T17:56:46.628Z"
   },
   {
    "duration": 667,
    "start_time": "2022-09-13T17:56:46.911Z"
   },
   {
    "duration": 907,
    "start_time": "2022-09-13T17:56:47.580Z"
   },
   {
    "duration": 353,
    "start_time": "2022-09-13T17:56:48.489Z"
   },
   {
    "duration": 24,
    "start_time": "2022-09-13T17:56:48.843Z"
   },
   {
    "duration": 4,
    "start_time": "2022-09-13T17:56:48.869Z"
   },
   {
    "duration": 4,
    "start_time": "2022-09-13T17:56:48.874Z"
   },
   {
    "duration": 15,
    "start_time": "2022-09-13T17:56:48.880Z"
   },
   {
    "duration": 634,
    "start_time": "2022-09-13T17:56:48.897Z"
   },
   {
    "duration": 176,
    "start_time": "2022-09-13T17:56:49.533Z"
   },
   {
    "duration": 15,
    "start_time": "2022-09-13T17:56:49.712Z"
   },
   {
    "duration": 237,
    "start_time": "2022-09-13T17:56:49.729Z"
   },
   {
    "duration": 22,
    "start_time": "2022-09-13T17:56:49.968Z"
   },
   {
    "duration": 6,
    "start_time": "2022-09-13T17:56:49.992Z"
   },
   {
    "duration": 252,
    "start_time": "2022-09-13T17:56:50.000Z"
   },
   {
    "duration": 2188,
    "start_time": "2022-09-13T17:56:50.254Z"
   },
   {
    "duration": 38,
    "start_time": "2022-09-13T17:56:52.444Z"
   },
   {
    "duration": 151,
    "start_time": "2022-09-13T17:56:52.483Z"
   },
   {
    "duration": 9,
    "start_time": "2022-09-13T17:56:52.635Z"
   },
   {
    "duration": 13,
    "start_time": "2022-09-13T17:56:52.647Z"
   },
   {
    "duration": 5,
    "start_time": "2022-09-13T17:56:52.662Z"
   },
   {
    "duration": 16,
    "start_time": "2022-09-13T17:56:52.669Z"
   },
   {
    "duration": 40,
    "start_time": "2022-09-13T17:56:52.687Z"
   },
   {
    "duration": 6,
    "start_time": "2022-09-13T17:56:52.729Z"
   },
   {
    "duration": 8,
    "start_time": "2022-09-13T17:57:25.787Z"
   },
   {
    "duration": 3,
    "start_time": "2022-09-13T17:57:28.437Z"
   },
   {
    "duration": 137,
    "start_time": "2022-09-13T17:57:28.442Z"
   },
   {
    "duration": 18,
    "start_time": "2022-09-13T17:57:28.580Z"
   },
   {
    "duration": 119,
    "start_time": "2022-09-13T17:57:28.600Z"
   },
   {
    "duration": 39,
    "start_time": "2022-09-13T17:57:28.721Z"
   },
   {
    "duration": 73,
    "start_time": "2022-09-13T17:57:28.761Z"
   },
   {
    "duration": 273,
    "start_time": "2022-09-13T17:57:28.836Z"
   },
   {
    "duration": 324,
    "start_time": "2022-09-13T17:57:29.111Z"
   },
   {
    "duration": 208,
    "start_time": "2022-09-13T17:57:29.437Z"
   },
   {
    "duration": 338,
    "start_time": "2022-09-13T17:57:29.647Z"
   },
   {
    "duration": 846,
    "start_time": "2022-09-13T17:57:29.986Z"
   },
   {
    "duration": 885,
    "start_time": "2022-09-13T17:57:30.833Z"
   },
   {
    "duration": 414,
    "start_time": "2022-09-13T17:57:31.722Z"
   },
   {
    "duration": 24,
    "start_time": "2022-09-13T17:57:32.139Z"
   },
   {
    "duration": 5,
    "start_time": "2022-09-13T17:57:32.165Z"
   },
   {
    "duration": 20,
    "start_time": "2022-09-13T17:57:32.172Z"
   },
   {
    "duration": 29,
    "start_time": "2022-09-13T17:57:32.193Z"
   },
   {
    "duration": 652,
    "start_time": "2022-09-13T17:57:32.224Z"
   },
   {
    "duration": 2,
    "start_time": "2022-09-13T17:57:32.877Z"
   },
   {
    "duration": 170,
    "start_time": "2022-09-13T17:57:32.881Z"
   },
   {
    "duration": 11,
    "start_time": "2022-09-13T17:57:33.052Z"
   },
   {
    "duration": 234,
    "start_time": "2022-09-13T17:57:33.064Z"
   },
   {
    "duration": 32,
    "start_time": "2022-09-13T17:57:33.300Z"
   },
   {
    "duration": 10,
    "start_time": "2022-09-13T17:57:33.334Z"
   },
   {
    "duration": 373,
    "start_time": "2022-09-13T17:57:33.346Z"
   },
   {
    "duration": 1472,
    "start_time": "2022-09-13T17:57:33.722Z"
   },
   {
    "duration": 49,
    "start_time": "2022-09-13T17:57:35.196Z"
   },
   {
    "duration": 46,
    "start_time": "2022-09-13T17:57:35.246Z"
   },
   {
    "duration": 9,
    "start_time": "2022-09-13T17:57:35.294Z"
   },
   {
    "duration": 27,
    "start_time": "2022-09-13T17:57:35.305Z"
   },
   {
    "duration": 15,
    "start_time": "2022-09-13T17:57:35.333Z"
   },
   {
    "duration": 44,
    "start_time": "2022-09-13T17:57:35.349Z"
   },
   {
    "duration": 19,
    "start_time": "2022-09-13T17:57:35.394Z"
   },
   {
    "duration": 10,
    "start_time": "2022-09-13T17:57:35.415Z"
   },
   {
    "duration": 75,
    "start_time": "2022-09-13T18:00:06.408Z"
   },
   {
    "duration": 14,
    "start_time": "2022-09-13T18:00:07.771Z"
   },
   {
    "duration": 3,
    "start_time": "2022-09-13T18:00:14.778Z"
   },
   {
    "duration": 91,
    "start_time": "2022-09-13T18:00:14.786Z"
   },
   {
    "duration": 17,
    "start_time": "2022-09-13T18:00:14.879Z"
   },
   {
    "duration": 53,
    "start_time": "2022-09-13T18:00:14.898Z"
   },
   {
    "duration": 4,
    "start_time": "2022-09-13T18:00:14.953Z"
   },
   {
    "duration": 47,
    "start_time": "2022-09-13T18:00:14.959Z"
   },
   {
    "duration": 217,
    "start_time": "2022-09-13T18:00:15.007Z"
   },
   {
    "duration": 277,
    "start_time": "2022-09-13T18:00:15.226Z"
   },
   {
    "duration": 173,
    "start_time": "2022-09-13T18:00:15.505Z"
   },
   {
    "duration": 289,
    "start_time": "2022-09-13T18:00:15.680Z"
   },
   {
    "duration": 799,
    "start_time": "2022-09-13T18:00:15.971Z"
   },
   {
    "duration": 822,
    "start_time": "2022-09-13T18:00:16.772Z"
   },
   {
    "duration": 369,
    "start_time": "2022-09-13T18:00:17.596Z"
   },
   {
    "duration": 23,
    "start_time": "2022-09-13T18:00:17.967Z"
   },
   {
    "duration": 5,
    "start_time": "2022-09-13T18:00:17.993Z"
   },
   {
    "duration": 22,
    "start_time": "2022-09-13T18:00:18.000Z"
   },
   {
    "duration": 15,
    "start_time": "2022-09-13T18:00:18.023Z"
   },
   {
    "duration": 675,
    "start_time": "2022-09-13T18:00:18.040Z"
   },
   {
    "duration": 3,
    "start_time": "2022-09-13T18:00:18.722Z"
   },
   {
    "duration": 188,
    "start_time": "2022-09-13T18:00:18.727Z"
   },
   {
    "duration": 10,
    "start_time": "2022-09-13T18:00:18.921Z"
   },
   {
    "duration": 234,
    "start_time": "2022-09-13T18:00:18.932Z"
   },
   {
    "duration": 127,
    "start_time": "2022-09-13T18:00:19.168Z"
   },
   {
    "duration": 10,
    "start_time": "2022-09-13T18:00:19.297Z"
   },
   {
    "duration": 252,
    "start_time": "2022-09-13T18:00:19.308Z"
   },
   {
    "duration": 1728,
    "start_time": "2022-09-13T18:00:19.561Z"
   },
   {
    "duration": 44,
    "start_time": "2022-09-13T18:00:21.291Z"
   },
   {
    "duration": 55,
    "start_time": "2022-09-13T18:00:21.336Z"
   },
   {
    "duration": 9,
    "start_time": "2022-09-13T18:00:21.392Z"
   },
   {
    "duration": 34,
    "start_time": "2022-09-13T18:00:21.402Z"
   },
   {
    "duration": 16,
    "start_time": "2022-09-13T18:00:21.438Z"
   },
   {
    "duration": 15,
    "start_time": "2022-09-13T18:00:21.455Z"
   },
   {
    "duration": 26,
    "start_time": "2022-09-13T18:00:21.471Z"
   },
   {
    "duration": 19,
    "start_time": "2022-09-13T18:00:21.498Z"
   },
   {
    "duration": 8,
    "start_time": "2022-09-13T18:00:21.518Z"
   },
   {
    "duration": 11,
    "start_time": "2022-09-13T18:00:29.473Z"
   },
   {
    "duration": 3,
    "start_time": "2022-09-13T18:00:31.513Z"
   },
   {
    "duration": 79,
    "start_time": "2022-09-13T18:00:31.519Z"
   },
   {
    "duration": 21,
    "start_time": "2022-09-13T18:00:31.600Z"
   },
   {
    "duration": 44,
    "start_time": "2022-09-13T18:00:31.623Z"
   },
   {
    "duration": 9,
    "start_time": "2022-09-13T18:00:31.668Z"
   },
   {
    "duration": 42,
    "start_time": "2022-09-13T18:00:31.679Z"
   },
   {
    "duration": 217,
    "start_time": "2022-09-13T18:00:31.723Z"
   },
   {
    "duration": 295,
    "start_time": "2022-09-13T18:00:31.942Z"
   },
   {
    "duration": 166,
    "start_time": "2022-09-13T18:00:32.240Z"
   },
   {
    "duration": 297,
    "start_time": "2022-09-13T18:00:32.408Z"
   },
   {
    "duration": 810,
    "start_time": "2022-09-13T18:00:32.706Z"
   },
   {
    "duration": 843,
    "start_time": "2022-09-13T18:00:33.522Z"
   },
   {
    "duration": 385,
    "start_time": "2022-09-13T18:00:34.367Z"
   },
   {
    "duration": 22,
    "start_time": "2022-09-13T18:00:34.754Z"
   },
   {
    "duration": 5,
    "start_time": "2022-09-13T18:00:34.777Z"
   },
   {
    "duration": 5,
    "start_time": "2022-09-13T18:00:34.784Z"
   },
   {
    "duration": 35,
    "start_time": "2022-09-13T18:00:34.790Z"
   },
   {
    "duration": 709,
    "start_time": "2022-09-13T18:00:34.827Z"
   },
   {
    "duration": 2,
    "start_time": "2022-09-13T18:00:35.538Z"
   },
   {
    "duration": 206,
    "start_time": "2022-09-13T18:00:35.541Z"
   },
   {
    "duration": 10,
    "start_time": "2022-09-13T18:00:35.749Z"
   },
   {
    "duration": 270,
    "start_time": "2022-09-13T18:00:35.761Z"
   },
   {
    "duration": 155,
    "start_time": "2022-09-13T18:00:36.033Z"
   },
   {
    "duration": 10,
    "start_time": "2022-09-13T18:00:36.192Z"
   },
   {
    "duration": 264,
    "start_time": "2022-09-13T18:00:36.204Z"
   },
   {
    "duration": 1664,
    "start_time": "2022-09-13T18:00:36.470Z"
   },
   {
    "duration": 45,
    "start_time": "2022-09-13T18:00:38.135Z"
   },
   {
    "duration": 61,
    "start_time": "2022-09-13T18:00:38.182Z"
   },
   {
    "duration": 9,
    "start_time": "2022-09-13T18:00:38.244Z"
   },
   {
    "duration": 16,
    "start_time": "2022-09-13T18:00:38.255Z"
   },
   {
    "duration": 12,
    "start_time": "2022-09-13T18:00:38.273Z"
   },
   {
    "duration": 6,
    "start_time": "2022-09-13T18:00:38.287Z"
   },
   {
    "duration": 48,
    "start_time": "2022-09-13T18:00:38.294Z"
   },
   {
    "duration": 17,
    "start_time": "2022-09-13T18:00:38.344Z"
   },
   {
    "duration": 19,
    "start_time": "2022-09-13T18:00:38.363Z"
   },
   {
    "duration": 74,
    "start_time": "2022-09-13T18:01:32.795Z"
   },
   {
    "duration": 119,
    "start_time": "2022-09-13T18:01:33.348Z"
   }
  ],
  "kernelspec": {
   "display_name": "Python 3 (ipykernel)",
   "language": "python",
   "name": "python3"
  },
  "language_info": {
   "codemirror_mode": {
    "name": "ipython",
    "version": 3
   },
   "file_extension": ".py",
   "mimetype": "text/x-python",
   "name": "python",
   "nbconvert_exporter": "python",
   "pygments_lexer": "ipython3",
   "version": "3.10.7"
  },
  "toc": {
   "base_numbering": 1,
   "nav_menu": {},
   "number_sections": true,
   "sideBar": true,
   "skip_h1_title": true,
   "title_cell": "Table of Contents",
   "title_sidebar": "Contents",
   "toc_cell": false,
   "toc_position": {},
   "toc_section_display": true,
   "toc_window_display": false
  }
 },
 "nbformat": 4,
 "nbformat_minor": 4
}
