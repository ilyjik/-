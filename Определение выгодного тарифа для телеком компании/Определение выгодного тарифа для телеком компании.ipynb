{
 "cells": [
  {
   "cell_type": "markdown",
   "metadata": {},
   "source": [
    "<font color='DarkBlue' size=+2><b>Комментарий ревьюера</b></font><br>\n",
    "<font color='DarkBlue'>Привет, Илья! <br>Меня зовут Олег Мазуренко, и я буду проверять этот проект. Спасибо за проделанную работу! <br>Ко мне можно обращаться на «ты». Как мне обращаться, напиши.</font><br>\n",
    "<font color='DarkBlue'>Я буду использовать различные цвета, чтобы было удобнее воспринимать мои комментарии:</font><br>\n",
    "<font color='DarkBlue'>Синий текст &mdash; просто текст комментария.</font><br>\n",
    "<font color='DarkGreen'>👌 Зеленый текст &mdash; все отлично.</font><br>\n",
    "<font color='DarkMagenta'>👉 Фиолетовый текст &mdash; сделано все правильно, однако есть рекомендации, на что стоит обратить внимание. Реализованные рекомендации позволят нам наработать опыт решения задачи разными способами или посмотреть на задачу под иным углом.</font><br>\n",
    "<font color='Red'>🛠 Красный текст &mdash; есть недочеты, они иногда бывают. </font><br><font color='DarkBlue'>Любая ошибка это возможность посмотреть на задачу с другой стороны и освоить новые знания, по этому не надо расстраиваться, если они есть.</font><br>\n",
    "<font color='DarkBlue'>Пожалуйста, не удаляй мои комментарии в случае возврата работы, так будет проще разобраться, какие были недочеты и сразу увидеть исправленное. <br>\n",
    "Ответы на мои комментарии лучше тоже помечать. \n",
    "Например: </font><font color='Blue'><b>Комментарий студента</b></font><br>\n",
    "<font color='DarkBlue'><b>Теперь посмотрим, что у нас получилось!</b></font>"
   ]
  },
  {
   "cell_type": "markdown",
   "metadata": {},
   "source": [
    "<h1>Определение перспективного тарифа для телеком-компании</h1>"
   ]
  },
  {
   "cell_type": "markdown",
   "metadata": {},
   "source": [
    "Чтобы скорректировать рекламный бюджет, коммерческий департамент хочет понять, какой тариф приносит больше денег.\n",
    "Необходимо сделать предварительный анализ тарифов на небольшой выборке клиентов. В распоряжении данные 500 пользователей «Мегалайна»: кто они, откуда, каким тарифом пользуются, сколько звонков и сообщений каждый отправил за 2018 год. Нужно проанализировать поведение клиентов и сделать вывод — какой тариф лучше.\n",
    "\n",
    "<b>Примечание.</b>\n",
    "\n",
    "«Мегалайн» всегда округляет секунды до минут, а мегабайты — до гигабайт. Каждый звонок округляется отдельно: даже если он длился всего 1 секунду, будет засчитан как 1 минута.\n",
    "Для веб-трафика отдельные сессии не считаются. Вместо этого общая сумма за месяц округляется в бо́льшую сторону. Если абонент использует 1025 мегабайт в этом месяце, с него возьмут плату за 2 гигабайта. Примите, что неиспользованные за предыдущий месяц звонки, смс, интернет на следующий месяц не переносятся."
   ]
  },
  {
   "cell_type": "markdown",
   "metadata": {},
   "source": [
    "<font color='DarkBlue'><b>Комментарий ревьюера</b></font><br>\n",
    "<font color='DarkGreen'>👌 Хорошо сделано описание к проекту. 👍</font>"
   ]
  },
  {
   "cell_type": "markdown",
   "metadata": {},
   "source": [
    "<h1>Описание данных</h1>"
   ]
  },
  {
   "cell_type": "markdown",
   "metadata": {},
   "source": [
    "Таблица <b>users</b> (информация о пользователях):\n",
    "\n",
    "user_id — уникальный идентификатор пользователя\n",
    "\n",
    "first_name — имя пользователя\n",
    "\n",
    "last_name — фамилия пользователя\n",
    "\n",
    "age — возраст пользователя (годы)\n",
    "\n",
    "reg_date — дата подключения тарифа (день, месяц, год)\n",
    "\n",
    "churn_date — дата прекращения пользования тарифом (если значение пропущено, то тариф ещё действовал на момент выгрузки данных)\n",
    "\n",
    "city — город проживания пользователя\n",
    "\n",
    "tariff — название тарифного плана\n",
    "\n",
    "\n",
    "Таблица <b>calls</b> (информация о звонках):\n",
    "\n",
    "id — уникальный номер звонка\n",
    "\n",
    "call_date — дата звонка\n",
    "\n",
    "duration — длительность звонка в минутах\n",
    "\n",
    "user_id — идентификатор пользователя, сделавшего звонок\n",
    "\n",
    "\n",
    "Таблица <b>messages</b> (информация о сообщениях):\n",
    "\n",
    "id — уникальный номер сообщения\n",
    "\n",
    "message_date — дата сообщения\n",
    "\n",
    "user_id — идентификатор пользователя, отправившего сообщение\n",
    "\n",
    "\n",
    "Таблица <b>internet</b> (информация об интернет-сессиях):\n",
    "\n",
    "id — уникальный номер сессии\n",
    "\n",
    "mb_used — объём потраченного за сессию интернет-трафика (в мегабайтах)\n",
    "\n",
    "session_date — дата интернет-сессии\n",
    "\n",
    "user_id — идентификатор пользователя\n",
    "\n",
    "\n",
    "Таблица <b>tariffs</b> (информация о тарифах):\n",
    "\n",
    "tariff_name — название тарифа\n",
    "\n",
    "rub_monthly_fee — ежемесячная абонентская плата в рублях\n",
    "\n",
    "minutes_included — количество минут разговора в месяц, включённых в абонентскую плату\n",
    "\n",
    "messages_included — количество сообщений в месяц, включённых в абонентскую плату\n",
    "\n",
    "mb_per_month_included — объём интернет-трафика, включённого в абонентскую плату (в мегабайтах)\n",
    "\n",
    "rub_per_minute — стоимость минуты разговора сверх тарифного пакета (например, если в тарифе 100 минут разговора в месяц, то со 101 минуты будет взиматься плата)\n",
    "\n",
    "rub_per_message — стоимость отправки сообщения сверх тарифного пакета\n",
    "\n",
    "rub_per_gb — стоимость дополнительного гигабайта интернет-трафика сверх тарифного пакета (1 гигабайт = 1024 мегабайта)"
   ]
  },
  {
   "cell_type": "markdown",
   "metadata": {},
   "source": [
    "<h1>Содержание<span class=\"tocSkip\"></span></h1>\n",
    "<div class=\"toc\"><ul class=\"toc-item\"><li><span><a href=\"#Изучение-данных-из-файла\" data-toc-modified-id=\"Изучение-данных-из-файла-1\"><span class=\"toc-item-num\">1&nbsp;&nbsp;</span>Изучение данных из файла</a></span><ul class=\"toc-item\"><li><span><a href=\"#Вывод\" data-toc-modified-id=\"Вывод-1.1\"><span class=\"toc-item-num\">1.1&nbsp;&nbsp;</span>Вывод</a></span></li></ul></li><li><span><a href=\"#Предобработка-данных\" data-toc-modified-id=\"Предобработка-данных-2\"><span class=\"toc-item-num\">2&nbsp;&nbsp;</span>Предобработка данных</a></span></li><li><span><a href=\"#Анализ-данных\" data-toc-modified-id=\"Анализ-данных-3\"><span class=\"toc-item-num\">3&nbsp;&nbsp;</span>Анализ данных</a></span></li><li><span><a href=\"#Проверка-гипотез\" data-toc-modified-id=\"Проверка-гипотез-4\"><span class=\"toc-item-num\">4&nbsp;&nbsp;</span>Проверка гипотез</a></span></li><li><span><a href=\"#Общий-вывод\" data-toc-modified-id=\"Общий-вывод-5\"><span class=\"toc-item-num\">5&nbsp;&nbsp;</span>Общий вывод</a></span></li>"
   ]
  },
  {
   "cell_type": "markdown",
   "metadata": {},
   "source": [
    "## Изучение данных из файла"
   ]
  },
  {
   "cell_type": "markdown",
   "metadata": {},
   "source": [
    "Прежде чем приступать к основной части проекта изучим содержимое архива."
   ]
  },
  {
   "cell_type": "code",
   "execution_count": 1,
   "metadata": {},
   "outputs": [],
   "source": [
    "import pandas as pd\n",
    "import numpy as np\n",
    "import matplotlib.pyplot as plt\n",
    "from scipy import stats as st"
   ]
  },
  {
   "cell_type": "code",
   "execution_count": 2,
   "metadata": {},
   "outputs": [],
   "source": [
    "calls = pd.read_csv('/datasets/calls.csv')\n",
    "internet = pd.read_csv('/datasets/internet.csv')\n",
    "messages = pd.read_csv('/datasets/messages.csv')\n",
    "tariffs = pd.read_csv('/datasets/tariffs.csv')\n",
    "users = pd.read_csv('/datasets/users.csv')\n",
    "\n"
   ]
  },
  {
   "cell_type": "code",
   "execution_count": 3,
   "metadata": {},
   "outputs": [
    {
     "data": {
      "text/html": [
       "<div>\n",
       "<style scoped>\n",
       "    .dataframe tbody tr th:only-of-type {\n",
       "        vertical-align: middle;\n",
       "    }\n",
       "\n",
       "    .dataframe tbody tr th {\n",
       "        vertical-align: top;\n",
       "    }\n",
       "\n",
       "    .dataframe thead th {\n",
       "        text-align: right;\n",
       "    }\n",
       "</style>\n",
       "<table border=\"1\" class=\"dataframe\">\n",
       "  <thead>\n",
       "    <tr style=\"text-align: right;\">\n",
       "      <th></th>\n",
       "      <th>id</th>\n",
       "      <th>call_date</th>\n",
       "      <th>duration</th>\n",
       "      <th>user_id</th>\n",
       "    </tr>\n",
       "  </thead>\n",
       "  <tbody>\n",
       "    <tr>\n",
       "      <th>0</th>\n",
       "      <td>1000_0</td>\n",
       "      <td>2018-07-25</td>\n",
       "      <td>0.00</td>\n",
       "      <td>1000</td>\n",
       "    </tr>\n",
       "    <tr>\n",
       "      <th>1</th>\n",
       "      <td>1000_1</td>\n",
       "      <td>2018-08-17</td>\n",
       "      <td>0.00</td>\n",
       "      <td>1000</td>\n",
       "    </tr>\n",
       "    <tr>\n",
       "      <th>2</th>\n",
       "      <td>1000_2</td>\n",
       "      <td>2018-06-11</td>\n",
       "      <td>2.85</td>\n",
       "      <td>1000</td>\n",
       "    </tr>\n",
       "    <tr>\n",
       "      <th>3</th>\n",
       "      <td>1000_3</td>\n",
       "      <td>2018-09-21</td>\n",
       "      <td>13.80</td>\n",
       "      <td>1000</td>\n",
       "    </tr>\n",
       "    <tr>\n",
       "      <th>4</th>\n",
       "      <td>1000_4</td>\n",
       "      <td>2018-12-15</td>\n",
       "      <td>5.18</td>\n",
       "      <td>1000</td>\n",
       "    </tr>\n",
       "  </tbody>\n",
       "</table>\n",
       "</div>"
      ],
      "text/plain": [
       "       id   call_date  duration  user_id\n",
       "0  1000_0  2018-07-25      0.00     1000\n",
       "1  1000_1  2018-08-17      0.00     1000\n",
       "2  1000_2  2018-06-11      2.85     1000\n",
       "3  1000_3  2018-09-21     13.80     1000\n",
       "4  1000_4  2018-12-15      5.18     1000"
      ]
     },
     "metadata": {},
     "output_type": "display_data"
    },
    {
     "data": {
      "text/html": [
       "<div>\n",
       "<style scoped>\n",
       "    .dataframe tbody tr th:only-of-type {\n",
       "        vertical-align: middle;\n",
       "    }\n",
       "\n",
       "    .dataframe tbody tr th {\n",
       "        vertical-align: top;\n",
       "    }\n",
       "\n",
       "    .dataframe thead th {\n",
       "        text-align: right;\n",
       "    }\n",
       "</style>\n",
       "<table border=\"1\" class=\"dataframe\">\n",
       "  <thead>\n",
       "    <tr style=\"text-align: right;\">\n",
       "      <th></th>\n",
       "      <th>Unnamed: 0</th>\n",
       "      <th>id</th>\n",
       "      <th>mb_used</th>\n",
       "      <th>session_date</th>\n",
       "      <th>user_id</th>\n",
       "    </tr>\n",
       "  </thead>\n",
       "  <tbody>\n",
       "    <tr>\n",
       "      <th>0</th>\n",
       "      <td>0</td>\n",
       "      <td>1000_0</td>\n",
       "      <td>112.95</td>\n",
       "      <td>2018-11-25</td>\n",
       "      <td>1000</td>\n",
       "    </tr>\n",
       "    <tr>\n",
       "      <th>1</th>\n",
       "      <td>1</td>\n",
       "      <td>1000_1</td>\n",
       "      <td>1052.81</td>\n",
       "      <td>2018-09-07</td>\n",
       "      <td>1000</td>\n",
       "    </tr>\n",
       "    <tr>\n",
       "      <th>2</th>\n",
       "      <td>2</td>\n",
       "      <td>1000_2</td>\n",
       "      <td>1197.26</td>\n",
       "      <td>2018-06-25</td>\n",
       "      <td>1000</td>\n",
       "    </tr>\n",
       "    <tr>\n",
       "      <th>3</th>\n",
       "      <td>3</td>\n",
       "      <td>1000_3</td>\n",
       "      <td>550.27</td>\n",
       "      <td>2018-08-22</td>\n",
       "      <td>1000</td>\n",
       "    </tr>\n",
       "    <tr>\n",
       "      <th>4</th>\n",
       "      <td>4</td>\n",
       "      <td>1000_4</td>\n",
       "      <td>302.56</td>\n",
       "      <td>2018-09-24</td>\n",
       "      <td>1000</td>\n",
       "    </tr>\n",
       "  </tbody>\n",
       "</table>\n",
       "</div>"
      ],
      "text/plain": [
       "   Unnamed: 0      id  mb_used session_date  user_id\n",
       "0           0  1000_0   112.95   2018-11-25     1000\n",
       "1           1  1000_1  1052.81   2018-09-07     1000\n",
       "2           2  1000_2  1197.26   2018-06-25     1000\n",
       "3           3  1000_3   550.27   2018-08-22     1000\n",
       "4           4  1000_4   302.56   2018-09-24     1000"
      ]
     },
     "metadata": {},
     "output_type": "display_data"
    },
    {
     "data": {
      "text/html": [
       "<div>\n",
       "<style scoped>\n",
       "    .dataframe tbody tr th:only-of-type {\n",
       "        vertical-align: middle;\n",
       "    }\n",
       "\n",
       "    .dataframe tbody tr th {\n",
       "        vertical-align: top;\n",
       "    }\n",
       "\n",
       "    .dataframe thead th {\n",
       "        text-align: right;\n",
       "    }\n",
       "</style>\n",
       "<table border=\"1\" class=\"dataframe\">\n",
       "  <thead>\n",
       "    <tr style=\"text-align: right;\">\n",
       "      <th></th>\n",
       "      <th>id</th>\n",
       "      <th>message_date</th>\n",
       "      <th>user_id</th>\n",
       "    </tr>\n",
       "  </thead>\n",
       "  <tbody>\n",
       "    <tr>\n",
       "      <th>0</th>\n",
       "      <td>1000_0</td>\n",
       "      <td>2018-06-27</td>\n",
       "      <td>1000</td>\n",
       "    </tr>\n",
       "    <tr>\n",
       "      <th>1</th>\n",
       "      <td>1000_1</td>\n",
       "      <td>2018-10-08</td>\n",
       "      <td>1000</td>\n",
       "    </tr>\n",
       "    <tr>\n",
       "      <th>2</th>\n",
       "      <td>1000_2</td>\n",
       "      <td>2018-08-04</td>\n",
       "      <td>1000</td>\n",
       "    </tr>\n",
       "    <tr>\n",
       "      <th>3</th>\n",
       "      <td>1000_3</td>\n",
       "      <td>2018-06-16</td>\n",
       "      <td>1000</td>\n",
       "    </tr>\n",
       "    <tr>\n",
       "      <th>4</th>\n",
       "      <td>1000_4</td>\n",
       "      <td>2018-12-05</td>\n",
       "      <td>1000</td>\n",
       "    </tr>\n",
       "  </tbody>\n",
       "</table>\n",
       "</div>"
      ],
      "text/plain": [
       "       id message_date  user_id\n",
       "0  1000_0   2018-06-27     1000\n",
       "1  1000_1   2018-10-08     1000\n",
       "2  1000_2   2018-08-04     1000\n",
       "3  1000_3   2018-06-16     1000\n",
       "4  1000_4   2018-12-05     1000"
      ]
     },
     "metadata": {},
     "output_type": "display_data"
    },
    {
     "data": {
      "text/html": [
       "<div>\n",
       "<style scoped>\n",
       "    .dataframe tbody tr th:only-of-type {\n",
       "        vertical-align: middle;\n",
       "    }\n",
       "\n",
       "    .dataframe tbody tr th {\n",
       "        vertical-align: top;\n",
       "    }\n",
       "\n",
       "    .dataframe thead th {\n",
       "        text-align: right;\n",
       "    }\n",
       "</style>\n",
       "<table border=\"1\" class=\"dataframe\">\n",
       "  <thead>\n",
       "    <tr style=\"text-align: right;\">\n",
       "      <th></th>\n",
       "      <th>messages_included</th>\n",
       "      <th>mb_per_month_included</th>\n",
       "      <th>minutes_included</th>\n",
       "      <th>rub_monthly_fee</th>\n",
       "      <th>rub_per_gb</th>\n",
       "      <th>rub_per_message</th>\n",
       "      <th>rub_per_minute</th>\n",
       "      <th>tariff_name</th>\n",
       "    </tr>\n",
       "  </thead>\n",
       "  <tbody>\n",
       "    <tr>\n",
       "      <th>0</th>\n",
       "      <td>50</td>\n",
       "      <td>15360</td>\n",
       "      <td>500</td>\n",
       "      <td>550</td>\n",
       "      <td>200</td>\n",
       "      <td>3</td>\n",
       "      <td>3</td>\n",
       "      <td>smart</td>\n",
       "    </tr>\n",
       "    <tr>\n",
       "      <th>1</th>\n",
       "      <td>1000</td>\n",
       "      <td>30720</td>\n",
       "      <td>3000</td>\n",
       "      <td>1950</td>\n",
       "      <td>150</td>\n",
       "      <td>1</td>\n",
       "      <td>1</td>\n",
       "      <td>ultra</td>\n",
       "    </tr>\n",
       "  </tbody>\n",
       "</table>\n",
       "</div>"
      ],
      "text/plain": [
       "   messages_included  mb_per_month_included  minutes_included  \\\n",
       "0                 50                  15360               500   \n",
       "1               1000                  30720              3000   \n",
       "\n",
       "   rub_monthly_fee  rub_per_gb  rub_per_message  rub_per_minute tariff_name  \n",
       "0              550         200                3               3       smart  \n",
       "1             1950         150                1               1       ultra  "
      ]
     },
     "metadata": {},
     "output_type": "display_data"
    },
    {
     "data": {
      "text/html": [
       "<div>\n",
       "<style scoped>\n",
       "    .dataframe tbody tr th:only-of-type {\n",
       "        vertical-align: middle;\n",
       "    }\n",
       "\n",
       "    .dataframe tbody tr th {\n",
       "        vertical-align: top;\n",
       "    }\n",
       "\n",
       "    .dataframe thead th {\n",
       "        text-align: right;\n",
       "    }\n",
       "</style>\n",
       "<table border=\"1\" class=\"dataframe\">\n",
       "  <thead>\n",
       "    <tr style=\"text-align: right;\">\n",
       "      <th></th>\n",
       "      <th>user_id</th>\n",
       "      <th>age</th>\n",
       "      <th>churn_date</th>\n",
       "      <th>city</th>\n",
       "      <th>first_name</th>\n",
       "      <th>last_name</th>\n",
       "      <th>reg_date</th>\n",
       "      <th>tariff</th>\n",
       "    </tr>\n",
       "  </thead>\n",
       "  <tbody>\n",
       "    <tr>\n",
       "      <th>0</th>\n",
       "      <td>1000</td>\n",
       "      <td>52</td>\n",
       "      <td>NaN</td>\n",
       "      <td>Краснодар</td>\n",
       "      <td>Рафаил</td>\n",
       "      <td>Верещагин</td>\n",
       "      <td>2018-05-25</td>\n",
       "      <td>ultra</td>\n",
       "    </tr>\n",
       "    <tr>\n",
       "      <th>1</th>\n",
       "      <td>1001</td>\n",
       "      <td>41</td>\n",
       "      <td>NaN</td>\n",
       "      <td>Москва</td>\n",
       "      <td>Иван</td>\n",
       "      <td>Ежов</td>\n",
       "      <td>2018-11-01</td>\n",
       "      <td>smart</td>\n",
       "    </tr>\n",
       "    <tr>\n",
       "      <th>2</th>\n",
       "      <td>1002</td>\n",
       "      <td>59</td>\n",
       "      <td>NaN</td>\n",
       "      <td>Стерлитамак</td>\n",
       "      <td>Евгений</td>\n",
       "      <td>Абрамович</td>\n",
       "      <td>2018-06-17</td>\n",
       "      <td>smart</td>\n",
       "    </tr>\n",
       "    <tr>\n",
       "      <th>3</th>\n",
       "      <td>1003</td>\n",
       "      <td>23</td>\n",
       "      <td>NaN</td>\n",
       "      <td>Москва</td>\n",
       "      <td>Белла</td>\n",
       "      <td>Белякова</td>\n",
       "      <td>2018-08-17</td>\n",
       "      <td>ultra</td>\n",
       "    </tr>\n",
       "    <tr>\n",
       "      <th>4</th>\n",
       "      <td>1004</td>\n",
       "      <td>68</td>\n",
       "      <td>NaN</td>\n",
       "      <td>Новокузнецк</td>\n",
       "      <td>Татьяна</td>\n",
       "      <td>Авдеенко</td>\n",
       "      <td>2018-05-14</td>\n",
       "      <td>ultra</td>\n",
       "    </tr>\n",
       "  </tbody>\n",
       "</table>\n",
       "</div>"
      ],
      "text/plain": [
       "   user_id  age churn_date         city first_name  last_name    reg_date  \\\n",
       "0     1000   52        NaN    Краснодар     Рафаил  Верещагин  2018-05-25   \n",
       "1     1001   41        NaN       Москва       Иван       Ежов  2018-11-01   \n",
       "2     1002   59        NaN  Стерлитамак    Евгений  Абрамович  2018-06-17   \n",
       "3     1003   23        NaN       Москва      Белла   Белякова  2018-08-17   \n",
       "4     1004   68        NaN  Новокузнецк    Татьяна   Авдеенко  2018-05-14   \n",
       "\n",
       "  tariff  \n",
       "0  ultra  \n",
       "1  smart  \n",
       "2  smart  \n",
       "3  ultra  \n",
       "4  ultra  "
      ]
     },
     "execution_count": 3,
     "metadata": {},
     "output_type": "execute_result"
    }
   ],
   "source": [
    "display(calls.head())\n",
    "display(internet.head())\n",
    "display(messages.head())\n",
    "display(tariffs.head())\n",
    "users.head()"
   ]
  },
  {
   "cell_type": "markdown",
   "metadata": {},
   "source": [
    "У таблицы internet имеется лишний столбец с индексами."
   ]
  },
  {
   "cell_type": "code",
   "execution_count": 4,
   "metadata": {},
   "outputs": [
    {
     "name": "stdout",
     "output_type": "stream",
     "text": [
      "<class 'pandas.core.frame.DataFrame'>\n",
      "RangeIndex: 202607 entries, 0 to 202606\n",
      "Data columns (total 4 columns):\n",
      " #   Column     Non-Null Count   Dtype  \n",
      "---  ------     --------------   -----  \n",
      " 0   id         202607 non-null  object \n",
      " 1   call_date  202607 non-null  object \n",
      " 2   duration   202607 non-null  float64\n",
      " 3   user_id    202607 non-null  int64  \n",
      "dtypes: float64(1), int64(1), object(2)\n",
      "memory usage: 6.2+ MB\n"
     ]
    },
    {
     "data": {
      "text/plain": [
       "None"
      ]
     },
     "metadata": {},
     "output_type": "display_data"
    },
    {
     "name": "stdout",
     "output_type": "stream",
     "text": [
      "<class 'pandas.core.frame.DataFrame'>\n",
      "RangeIndex: 149396 entries, 0 to 149395\n",
      "Data columns (total 5 columns):\n",
      " #   Column        Non-Null Count   Dtype  \n",
      "---  ------        --------------   -----  \n",
      " 0   Unnamed: 0    149396 non-null  int64  \n",
      " 1   id            149396 non-null  object \n",
      " 2   mb_used       149396 non-null  float64\n",
      " 3   session_date  149396 non-null  object \n",
      " 4   user_id       149396 non-null  int64  \n",
      "dtypes: float64(1), int64(2), object(2)\n",
      "memory usage: 5.7+ MB\n"
     ]
    },
    {
     "data": {
      "text/plain": [
       "None"
      ]
     },
     "metadata": {},
     "output_type": "display_data"
    },
    {
     "name": "stdout",
     "output_type": "stream",
     "text": [
      "<class 'pandas.core.frame.DataFrame'>\n",
      "RangeIndex: 123036 entries, 0 to 123035\n",
      "Data columns (total 3 columns):\n",
      " #   Column        Non-Null Count   Dtype \n",
      "---  ------        --------------   ----- \n",
      " 0   id            123036 non-null  object\n",
      " 1   message_date  123036 non-null  object\n",
      " 2   user_id       123036 non-null  int64 \n",
      "dtypes: int64(1), object(2)\n",
      "memory usage: 2.8+ MB\n"
     ]
    },
    {
     "data": {
      "text/plain": [
       "None"
      ]
     },
     "metadata": {},
     "output_type": "display_data"
    },
    {
     "name": "stdout",
     "output_type": "stream",
     "text": [
      "<class 'pandas.core.frame.DataFrame'>\n",
      "RangeIndex: 2 entries, 0 to 1\n",
      "Data columns (total 8 columns):\n",
      " #   Column                 Non-Null Count  Dtype \n",
      "---  ------                 --------------  ----- \n",
      " 0   messages_included      2 non-null      int64 \n",
      " 1   mb_per_month_included  2 non-null      int64 \n",
      " 2   minutes_included       2 non-null      int64 \n",
      " 3   rub_monthly_fee        2 non-null      int64 \n",
      " 4   rub_per_gb             2 non-null      int64 \n",
      " 5   rub_per_message        2 non-null      int64 \n",
      " 6   rub_per_minute         2 non-null      int64 \n",
      " 7   tariff_name            2 non-null      object\n",
      "dtypes: int64(7), object(1)\n",
      "memory usage: 256.0+ bytes\n"
     ]
    },
    {
     "data": {
      "text/plain": [
       "None"
      ]
     },
     "metadata": {},
     "output_type": "display_data"
    },
    {
     "name": "stdout",
     "output_type": "stream",
     "text": [
      "<class 'pandas.core.frame.DataFrame'>\n",
      "RangeIndex: 500 entries, 0 to 499\n",
      "Data columns (total 8 columns):\n",
      " #   Column      Non-Null Count  Dtype \n",
      "---  ------      --------------  ----- \n",
      " 0   user_id     500 non-null    int64 \n",
      " 1   age         500 non-null    int64 \n",
      " 2   churn_date  38 non-null     object\n",
      " 3   city        500 non-null    object\n",
      " 4   first_name  500 non-null    object\n",
      " 5   last_name   500 non-null    object\n",
      " 6   reg_date    500 non-null    object\n",
      " 7   tariff      500 non-null    object\n",
      "dtypes: int64(2), object(6)\n",
      "memory usage: 31.4+ KB\n"
     ]
    }
   ],
   "source": [
    "display(calls.info())\n",
    "display(internet.info())\n",
    "display(messages.info())\n",
    "display(tariffs.info())\n",
    "users.info()"
   ]
  },
  {
   "cell_type": "markdown",
   "metadata": {},
   "source": [
    "Проверим данные на наличие отрицательных значений"
   ]
  },
  {
   "cell_type": "code",
   "execution_count": 5,
   "metadata": {},
   "outputs": [
    {
     "data": {
      "text/html": [
       "<div>\n",
       "<style scoped>\n",
       "    .dataframe tbody tr th:only-of-type {\n",
       "        vertical-align: middle;\n",
       "    }\n",
       "\n",
       "    .dataframe tbody tr th {\n",
       "        vertical-align: top;\n",
       "    }\n",
       "\n",
       "    .dataframe thead th {\n",
       "        text-align: right;\n",
       "    }\n",
       "</style>\n",
       "<table border=\"1\" class=\"dataframe\">\n",
       "  <thead>\n",
       "    <tr style=\"text-align: right;\">\n",
       "      <th></th>\n",
       "      <th>id</th>\n",
       "      <th>call_date</th>\n",
       "      <th>duration</th>\n",
       "      <th>user_id</th>\n",
       "    </tr>\n",
       "  </thead>\n",
       "  <tbody>\n",
       "  </tbody>\n",
       "</table>\n",
       "</div>"
      ],
      "text/plain": [
       "Empty DataFrame\n",
       "Columns: [id, call_date, duration, user_id]\n",
       "Index: []"
      ]
     },
     "metadata": {},
     "output_type": "display_data"
    },
    {
     "data": {
      "text/html": [
       "<div>\n",
       "<style scoped>\n",
       "    .dataframe tbody tr th:only-of-type {\n",
       "        vertical-align: middle;\n",
       "    }\n",
       "\n",
       "    .dataframe tbody tr th {\n",
       "        vertical-align: top;\n",
       "    }\n",
       "\n",
       "    .dataframe thead th {\n",
       "        text-align: right;\n",
       "    }\n",
       "</style>\n",
       "<table border=\"1\" class=\"dataframe\">\n",
       "  <thead>\n",
       "    <tr style=\"text-align: right;\">\n",
       "      <th></th>\n",
       "      <th>Unnamed: 0</th>\n",
       "      <th>id</th>\n",
       "      <th>mb_used</th>\n",
       "      <th>session_date</th>\n",
       "      <th>user_id</th>\n",
       "    </tr>\n",
       "  </thead>\n",
       "  <tbody>\n",
       "  </tbody>\n",
       "</table>\n",
       "</div>"
      ],
      "text/plain": [
       "Empty DataFrame\n",
       "Columns: [Unnamed: 0, id, mb_used, session_date, user_id]\n",
       "Index: []"
      ]
     },
     "metadata": {},
     "output_type": "display_data"
    },
    {
     "data": {
      "text/html": [
       "<div>\n",
       "<style scoped>\n",
       "    .dataframe tbody tr th:only-of-type {\n",
       "        vertical-align: middle;\n",
       "    }\n",
       "\n",
       "    .dataframe tbody tr th {\n",
       "        vertical-align: top;\n",
       "    }\n",
       "\n",
       "    .dataframe thead th {\n",
       "        text-align: right;\n",
       "    }\n",
       "</style>\n",
       "<table border=\"1\" class=\"dataframe\">\n",
       "  <thead>\n",
       "    <tr style=\"text-align: right;\">\n",
       "      <th></th>\n",
       "      <th>user_id</th>\n",
       "      <th>age</th>\n",
       "      <th>churn_date</th>\n",
       "      <th>city</th>\n",
       "      <th>first_name</th>\n",
       "      <th>last_name</th>\n",
       "      <th>reg_date</th>\n",
       "      <th>tariff</th>\n",
       "    </tr>\n",
       "  </thead>\n",
       "  <tbody>\n",
       "  </tbody>\n",
       "</table>\n",
       "</div>"
      ],
      "text/plain": [
       "Empty DataFrame\n",
       "Columns: [user_id, age, churn_date, city, first_name, last_name, reg_date, tariff]\n",
       "Index: []"
      ]
     },
     "execution_count": 5,
     "metadata": {},
     "output_type": "execute_result"
    }
   ],
   "source": [
    "display(calls[calls['duration'] < 0])\n",
    "display(internet[internet['mb_used'] < 0])\n",
    "users[users['age'] < 0]"
   ]
  },
  {
   "cell_type": "markdown",
   "metadata": {},
   "source": [
    "Проверим на дубликаты"
   ]
  },
  {
   "cell_type": "code",
   "execution_count": 6,
   "metadata": {},
   "outputs": [
    {
     "data": {
      "text/plain": [
       "0"
      ]
     },
     "metadata": {},
     "output_type": "display_data"
    },
    {
     "data": {
      "text/plain": [
       "0"
      ]
     },
     "metadata": {},
     "output_type": "display_data"
    },
    {
     "data": {
      "text/plain": [
       "0"
      ]
     },
     "metadata": {},
     "output_type": "display_data"
    },
    {
     "data": {
      "text/plain": [
       "0"
      ]
     },
     "metadata": {},
     "output_type": "display_data"
    },
    {
     "data": {
      "text/plain": [
       "0"
      ]
     },
     "execution_count": 6,
     "metadata": {},
     "output_type": "execute_result"
    }
   ],
   "source": [
    "display(calls.duplicated().sum())\n",
    "display(internet.duplicated().sum())\n",
    "display(messages.duplicated().sum())\n",
    "display(tariffs.duplicated().sum())\n",
    "users.duplicated().sum()"
   ]
  },
  {
   "cell_type": "markdown",
   "metadata": {},
   "source": [
    "<font color='DarkBlue'><b>Комментарий ревьюера</b></font><br>\n",
    "<font color='DarkGreen'>👌 Хорошо, что проверили дубликаты, многие студенты забывают.</font>"
   ]
  },
  {
   "cell_type": "code",
   "execution_count": 7,
   "metadata": {},
   "outputs": [
    {
     "data": {
      "text/plain": [
       "array(['Краснодар', 'Москва', 'Стерлитамак', 'Новокузнецк',\n",
       "       'Набережные Челны', 'Ульяновск', 'Челябинск', 'Пермь', 'Тюмень',\n",
       "       'Самара', 'Санкт-Петербург', 'Иваново', 'Чебоксары', 'Омск', 'Уфа',\n",
       "       'Томск', 'Чита', 'Мурманск', 'Петрозаводск', 'Тверь',\n",
       "       'Екатеринбург', 'Махачкала', 'Вологда', 'Череповец', 'Ярославль',\n",
       "       'Сочи', 'Хабаровск', 'Ставрополь', 'Рязань', 'Улан-Удэ', 'Тула',\n",
       "       'Саратов', 'Ростов-на-Дону', 'Казань', 'Иркутск', 'Курск',\n",
       "       'Калуга', 'Якутск', 'Астрахань', 'Химки', 'Владикавказ',\n",
       "       'Волгоград', 'Саранск', 'Ижевск', 'Новосибирск', 'Брянск',\n",
       "       'Тольятти', 'Нижний Тагил', 'Орёл', 'Белгород', 'Воронеж',\n",
       "       'Волжский', 'Курган', 'Барнаул', 'Красноярск', 'Архангельск',\n",
       "       'Липецк', 'Кемерово', 'Киров', 'Сургут', 'Пенза', 'Магнитогорск',\n",
       "       'Нижний Новгород', 'Кострома', 'Владивосток', 'Тамбов', 'Балашиха',\n",
       "       'Севастополь', 'Калининград', 'Оренбург', 'Смоленск',\n",
       "       'Нижневартовск', 'Владимир', 'Новороссийск', 'Грозный', 'Подольск'],\n",
       "      dtype=object)"
      ]
     },
     "metadata": {},
     "output_type": "display_data"
    },
    {
     "data": {
      "text/plain": [
       "array(['ultra', 'smart'], dtype=object)"
      ]
     },
     "execution_count": 7,
     "metadata": {},
     "output_type": "execute_result"
    }
   ],
   "source": [
    "display(users['city'].unique())\n",
    "users['tariff'].unique()"
   ]
  },
  {
   "cell_type": "markdown",
   "metadata": {},
   "source": [
    "Ошибок в данных не наблюдаю"
   ]
  },
  {
   "cell_type": "markdown",
   "metadata": {},
   "source": [
    "### Вывод"
   ]
  },
  {
   "cell_type": "markdown",
   "metadata": {},
   "source": [
    "Имеется ошибка в таблице internet: лишний столбец с индексами, по всему остальному датасету ошибок не обнаружил"
   ]
  },
  {
   "cell_type": "markdown",
   "metadata": {},
   "source": [
    "## Предобработка данных"
   ]
  },
  {
   "cell_type": "markdown",
   "metadata": {},
   "source": [
    "Исправим ошибки из прошлого пункта"
   ]
  },
  {
   "cell_type": "code",
   "execution_count": 8,
   "metadata": {},
   "outputs": [],
   "source": [
    "internet = internet.drop('Unnamed: 0', axis=1)"
   ]
  },
  {
   "cell_type": "markdown",
   "metadata": {},
   "source": [
    "<font color='DarkBlue'><b>Комментарий ревьюера</b></font><br>\n",
    "<font color='DarkGreen'>👌 Хорошо, что удалили колонку Unnamed: 0, в принципе, от нее можно было избавиться на этапе загрузки датасета вот таким кодом: <br>`pd.read_csv(..., index_col=False)`. 😉</font>"
   ]
  },
  {
   "cell_type": "code",
   "execution_count": 9,
   "metadata": {},
   "outputs": [
    {
     "data": {
      "text/html": [
       "<div>\n",
       "<style scoped>\n",
       "    .dataframe tbody tr th:only-of-type {\n",
       "        vertical-align: middle;\n",
       "    }\n",
       "\n",
       "    .dataframe tbody tr th {\n",
       "        vertical-align: top;\n",
       "    }\n",
       "\n",
       "    .dataframe thead th {\n",
       "        text-align: right;\n",
       "    }\n",
       "</style>\n",
       "<table border=\"1\" class=\"dataframe\">\n",
       "  <thead>\n",
       "    <tr style=\"text-align: right;\">\n",
       "      <th></th>\n",
       "      <th>id</th>\n",
       "      <th>mb_used</th>\n",
       "      <th>session_date</th>\n",
       "      <th>user_id</th>\n",
       "    </tr>\n",
       "  </thead>\n",
       "  <tbody>\n",
       "    <tr>\n",
       "      <th>0</th>\n",
       "      <td>1000_0</td>\n",
       "      <td>112.95</td>\n",
       "      <td>2018-11-25</td>\n",
       "      <td>1000</td>\n",
       "    </tr>\n",
       "    <tr>\n",
       "      <th>1</th>\n",
       "      <td>1000_1</td>\n",
       "      <td>1052.81</td>\n",
       "      <td>2018-09-07</td>\n",
       "      <td>1000</td>\n",
       "    </tr>\n",
       "    <tr>\n",
       "      <th>2</th>\n",
       "      <td>1000_2</td>\n",
       "      <td>1197.26</td>\n",
       "      <td>2018-06-25</td>\n",
       "      <td>1000</td>\n",
       "    </tr>\n",
       "    <tr>\n",
       "      <th>3</th>\n",
       "      <td>1000_3</td>\n",
       "      <td>550.27</td>\n",
       "      <td>2018-08-22</td>\n",
       "      <td>1000</td>\n",
       "    </tr>\n",
       "    <tr>\n",
       "      <th>4</th>\n",
       "      <td>1000_4</td>\n",
       "      <td>302.56</td>\n",
       "      <td>2018-09-24</td>\n",
       "      <td>1000</td>\n",
       "    </tr>\n",
       "  </tbody>\n",
       "</table>\n",
       "</div>"
      ],
      "text/plain": [
       "       id  mb_used session_date  user_id\n",
       "0  1000_0   112.95   2018-11-25     1000\n",
       "1  1000_1  1052.81   2018-09-07     1000\n",
       "2  1000_2  1197.26   2018-06-25     1000\n",
       "3  1000_3   550.27   2018-08-22     1000\n",
       "4  1000_4   302.56   2018-09-24     1000"
      ]
     },
     "execution_count": 9,
     "metadata": {},
     "output_type": "execute_result"
    }
   ],
   "source": [
    "internet.head()"
   ]
  },
  {
   "cell_type": "markdown",
   "metadata": {},
   "source": [
    "<font color='DarkBlue'><b>Комментарий ревьюера</b></font><br>\n",
    "<font color='DarkMagenta'>👉 Было бы правильно сделать анализ аномалий в датасете по интернет-трафику, лучше визуализировать гистограммой. Проанализировать их причину и принять решение по обработке.</font>"
   ]
  },
  {
   "cell_type": "code",
   "execution_count": 24,
   "metadata": {},
   "outputs": [
    {
     "name": "stdout",
     "output_type": "stream",
     "text": [
      "Нулевых интернет-сессий: 0.13 %\n"
     ]
    },
    {
     "data": {
      "image/png": "[encoded data removed]",
      "text/plain": [
       "<Figure size 432x288 with 1 Axes>"
      ]
     },
     "metadata": {
      "needs_background": "light"
     },
     "output_type": "display_data"
    }
   ],
   "source": [
    "# Комментарий ревьюера 2\n",
    "temp = internet.copy()\n",
    "temp['mb_used'].hist(bins = 50)\n",
    "print('Нулевых интернет-сессий:',round(temp['mb_used'].value_counts().sort_index()[0]/temp['mb_used'].count(),2), '%')"
   ]
  },
  {
   "cell_type": "markdown",
   "metadata": {},
   "source": [
    "<font color='DarkBlue'><b>Комментарий ревьюера 2</b></font><br>\n",
    "<font color='DarkMagenta'>👉 Таблица содержит идентификатор сессий и идентификатор пользователя. Значит пользователь устанавливал соединение и авторизовался. Но трафик нулевой. И это аномалия, возможно, что она связана с техничесткими проблемами оператора. Нам в данном проекте нулевые сессии не мешают, но в выводах исследования мы должны этот факт указать, так как это не полученная выручка оператора при существующем спросе на услугу пользователей.</font>"
   ]
  },
  {
   "cell_type": "markdown",
   "metadata": {},
   "source": [
    "Посчитаем для кажого пользователя (с учетом округлений):\n",
    "\n",
    "количество сделанных звонков и израсходованных минут разговора по месяцам;"
   ]
  },
  {
   "cell_type": "code",
   "execution_count": 10,
   "metadata": {},
   "outputs": [
    {
     "data": {
      "text/html": [
       "<div>\n",
       "<style scoped>\n",
       "    .dataframe tbody tr th:only-of-type {\n",
       "        vertical-align: middle;\n",
       "    }\n",
       "\n",
       "    .dataframe tbody tr th {\n",
       "        vertical-align: top;\n",
       "    }\n",
       "\n",
       "    .dataframe thead th {\n",
       "        text-align: right;\n",
       "    }\n",
       "</style>\n",
       "<table border=\"1\" class=\"dataframe\">\n",
       "  <thead>\n",
       "    <tr style=\"text-align: right;\">\n",
       "      <th></th>\n",
       "      <th>id</th>\n",
       "      <th>call_date</th>\n",
       "      <th>duration</th>\n",
       "      <th>user_id</th>\n",
       "      <th>month</th>\n",
       "    </tr>\n",
       "  </thead>\n",
       "  <tbody>\n",
       "    <tr>\n",
       "      <th>0</th>\n",
       "      <td>1000_0</td>\n",
       "      <td>2018-07-25</td>\n",
       "      <td>0.00</td>\n",
       "      <td>1000</td>\n",
       "      <td>7</td>\n",
       "    </tr>\n",
       "    <tr>\n",
       "      <th>1</th>\n",
       "      <td>1000_1</td>\n",
       "      <td>2018-08-17</td>\n",
       "      <td>0.00</td>\n",
       "      <td>1000</td>\n",
       "      <td>8</td>\n",
       "    </tr>\n",
       "    <tr>\n",
       "      <th>2</th>\n",
       "      <td>1000_2</td>\n",
       "      <td>2018-06-11</td>\n",
       "      <td>2.85</td>\n",
       "      <td>1000</td>\n",
       "      <td>6</td>\n",
       "    </tr>\n",
       "    <tr>\n",
       "      <th>3</th>\n",
       "      <td>1000_3</td>\n",
       "      <td>2018-09-21</td>\n",
       "      <td>13.80</td>\n",
       "      <td>1000</td>\n",
       "      <td>9</td>\n",
       "    </tr>\n",
       "    <tr>\n",
       "      <th>4</th>\n",
       "      <td>1000_4</td>\n",
       "      <td>2018-12-15</td>\n",
       "      <td>5.18</td>\n",
       "      <td>1000</td>\n",
       "      <td>12</td>\n",
       "    </tr>\n",
       "  </tbody>\n",
       "</table>\n",
       "</div>"
      ],
      "text/plain": [
       "       id   call_date  duration  user_id  month\n",
       "0  1000_0  2018-07-25      0.00     1000      7\n",
       "1  1000_1  2018-08-17      0.00     1000      8\n",
       "2  1000_2  2018-06-11      2.85     1000      6\n",
       "3  1000_3  2018-09-21     13.80     1000      9\n",
       "4  1000_4  2018-12-15      5.18     1000     12"
      ]
     },
     "metadata": {},
     "output_type": "display_data"
    },
    {
     "data": {
      "text/html": [
       "<div>\n",
       "<style scoped>\n",
       "    .dataframe tbody tr th:only-of-type {\n",
       "        vertical-align: middle;\n",
       "    }\n",
       "\n",
       "    .dataframe tbody tr th {\n",
       "        vertical-align: top;\n",
       "    }\n",
       "\n",
       "    .dataframe thead th {\n",
       "        text-align: right;\n",
       "    }\n",
       "</style>\n",
       "<table border=\"1\" class=\"dataframe\">\n",
       "  <thead>\n",
       "    <tr style=\"text-align: right;\">\n",
       "      <th></th>\n",
       "      <th>user_id</th>\n",
       "      <th>month</th>\n",
       "      <th>duration</th>\n",
       "    </tr>\n",
       "  </thead>\n",
       "  <tbody>\n",
       "    <tr>\n",
       "      <th>0</th>\n",
       "      <td>1000</td>\n",
       "      <td>5</td>\n",
       "      <td>159.0</td>\n",
       "    </tr>\n",
       "    <tr>\n",
       "      <th>1</th>\n",
       "      <td>1000</td>\n",
       "      <td>6</td>\n",
       "      <td>172.0</td>\n",
       "    </tr>\n",
       "    <tr>\n",
       "      <th>2</th>\n",
       "      <td>1000</td>\n",
       "      <td>7</td>\n",
       "      <td>340.0</td>\n",
       "    </tr>\n",
       "    <tr>\n",
       "      <th>3</th>\n",
       "      <td>1000</td>\n",
       "      <td>8</td>\n",
       "      <td>408.0</td>\n",
       "    </tr>\n",
       "    <tr>\n",
       "      <th>4</th>\n",
       "      <td>1000</td>\n",
       "      <td>9</td>\n",
       "      <td>466.0</td>\n",
       "    </tr>\n",
       "    <tr>\n",
       "      <th>5</th>\n",
       "      <td>1000</td>\n",
       "      <td>10</td>\n",
       "      <td>350.0</td>\n",
       "    </tr>\n",
       "    <tr>\n",
       "      <th>6</th>\n",
       "      <td>1000</td>\n",
       "      <td>11</td>\n",
       "      <td>338.0</td>\n",
       "    </tr>\n",
       "    <tr>\n",
       "      <th>7</th>\n",
       "      <td>1000</td>\n",
       "      <td>12</td>\n",
       "      <td>333.0</td>\n",
       "    </tr>\n",
       "    <tr>\n",
       "      <th>8</th>\n",
       "      <td>1001</td>\n",
       "      <td>11</td>\n",
       "      <td>430.0</td>\n",
       "    </tr>\n",
       "    <tr>\n",
       "      <th>9</th>\n",
       "      <td>1001</td>\n",
       "      <td>12</td>\n",
       "      <td>414.0</td>\n",
       "    </tr>\n",
       "  </tbody>\n",
       "</table>\n",
       "</div>"
      ],
      "text/plain": [
       "   user_id  month  duration\n",
       "0     1000      5     159.0\n",
       "1     1000      6     172.0\n",
       "2     1000      7     340.0\n",
       "3     1000      8     408.0\n",
       "4     1000      9     466.0\n",
       "5     1000     10     350.0\n",
       "6     1000     11     338.0\n",
       "7     1000     12     333.0\n",
       "8     1001     11     430.0\n",
       "9     1001     12     414.0"
      ]
     },
     "execution_count": 10,
     "metadata": {},
     "output_type": "execute_result"
    }
   ],
   "source": [
    "calls['month'] = pd.to_datetime(calls['call_date'], format='%Y-%m-%d').dt.month\n",
    "display(calls.head())\n",
    "calls['duration'] = np.ceil(calls['duration'])\n",
    "calls_monthly = calls.groupby(['user_id','month'])['duration'].sum()\n",
    "calls_monthly = calls_monthly.reset_index()\n",
    "calls_monthly.head(10)"
   ]
  },
  {
   "cell_type": "markdown",
   "metadata": {},
   "source": [
    "<font color='DarkBlue'><b>Комментарий ревьюера</b></font><br>\n",
    "<font color='DarkGreen'>👌 Хорошо, перевели даты в нужный формат и добавили колонку с категорией месяца.</font><br>\n",
    "<font color='Red'>🛠 Но мы забыли до суммирования округлить каждый звонок до целой минуты, так мы в сумме потеряем общее количество минут, которое тарифицируется. И зачем мы месячную длительность звонков округляем до часов?</font>"
   ]
  },
  {
   "cell_type": "markdown",
   "metadata": {},
   "source": [
    "<font color='Blue'><b>Комментарий студента</b></font><br>\n",
    "Исправил"
   ]
  },
  {
   "cell_type": "markdown",
   "metadata": {},
   "source": [
    "<font color='DarkBlue'><b>Комментарий ревьюера 2</b></font><br>\n",
    "<font color='DarkGreen'>👌 Хорошо, теперь правильно. 👍</font>"
   ]
  },
  {
   "cell_type": "markdown",
   "metadata": {},
   "source": [
    "количество отправленных сообщений по месяцам;"
   ]
  },
  {
   "cell_type": "code",
   "execution_count": 11,
   "metadata": {},
   "outputs": [
    {
     "data": {
      "text/html": [
       "<div>\n",
       "<style scoped>\n",
       "    .dataframe tbody tr th:only-of-type {\n",
       "        vertical-align: middle;\n",
       "    }\n",
       "\n",
       "    .dataframe tbody tr th {\n",
       "        vertical-align: top;\n",
       "    }\n",
       "\n",
       "    .dataframe thead th {\n",
       "        text-align: right;\n",
       "    }\n",
       "</style>\n",
       "<table border=\"1\" class=\"dataframe\">\n",
       "  <thead>\n",
       "    <tr style=\"text-align: right;\">\n",
       "      <th></th>\n",
       "      <th>id</th>\n",
       "      <th>message_date</th>\n",
       "      <th>user_id</th>\n",
       "      <th>month</th>\n",
       "    </tr>\n",
       "  </thead>\n",
       "  <tbody>\n",
       "    <tr>\n",
       "      <th>0</th>\n",
       "      <td>1000_0</td>\n",
       "      <td>2018-06-27</td>\n",
       "      <td>1000</td>\n",
       "      <td>6</td>\n",
       "    </tr>\n",
       "    <tr>\n",
       "      <th>1</th>\n",
       "      <td>1000_1</td>\n",
       "      <td>2018-10-08</td>\n",
       "      <td>1000</td>\n",
       "      <td>10</td>\n",
       "    </tr>\n",
       "    <tr>\n",
       "      <th>2</th>\n",
       "      <td>1000_2</td>\n",
       "      <td>2018-08-04</td>\n",
       "      <td>1000</td>\n",
       "      <td>8</td>\n",
       "    </tr>\n",
       "    <tr>\n",
       "      <th>3</th>\n",
       "      <td>1000_3</td>\n",
       "      <td>2018-06-16</td>\n",
       "      <td>1000</td>\n",
       "      <td>6</td>\n",
       "    </tr>\n",
       "    <tr>\n",
       "      <th>4</th>\n",
       "      <td>1000_4</td>\n",
       "      <td>2018-12-05</td>\n",
       "      <td>1000</td>\n",
       "      <td>12</td>\n",
       "    </tr>\n",
       "  </tbody>\n",
       "</table>\n",
       "</div>"
      ],
      "text/plain": [
       "       id message_date  user_id  month\n",
       "0  1000_0   2018-06-27     1000      6\n",
       "1  1000_1   2018-10-08     1000     10\n",
       "2  1000_2   2018-08-04     1000      8\n",
       "3  1000_3   2018-06-16     1000      6\n",
       "4  1000_4   2018-12-05     1000     12"
      ]
     },
     "metadata": {},
     "output_type": "display_data"
    },
    {
     "data": {
      "text/html": [
       "<div>\n",
       "<style scoped>\n",
       "    .dataframe tbody tr th:only-of-type {\n",
       "        vertical-align: middle;\n",
       "    }\n",
       "\n",
       "    .dataframe tbody tr th {\n",
       "        vertical-align: top;\n",
       "    }\n",
       "\n",
       "    .dataframe thead th {\n",
       "        text-align: right;\n",
       "    }\n",
       "</style>\n",
       "<table border=\"1\" class=\"dataframe\">\n",
       "  <thead>\n",
       "    <tr style=\"text-align: right;\">\n",
       "      <th></th>\n",
       "      <th>user_id</th>\n",
       "      <th>month</th>\n",
       "      <th>messages_number</th>\n",
       "    </tr>\n",
       "  </thead>\n",
       "  <tbody>\n",
       "    <tr>\n",
       "      <th>0</th>\n",
       "      <td>1000</td>\n",
       "      <td>5</td>\n",
       "      <td>22</td>\n",
       "    </tr>\n",
       "    <tr>\n",
       "      <th>1</th>\n",
       "      <td>1000</td>\n",
       "      <td>6</td>\n",
       "      <td>60</td>\n",
       "    </tr>\n",
       "    <tr>\n",
       "      <th>2</th>\n",
       "      <td>1000</td>\n",
       "      <td>7</td>\n",
       "      <td>75</td>\n",
       "    </tr>\n",
       "    <tr>\n",
       "      <th>3</th>\n",
       "      <td>1000</td>\n",
       "      <td>8</td>\n",
       "      <td>81</td>\n",
       "    </tr>\n",
       "    <tr>\n",
       "      <th>4</th>\n",
       "      <td>1000</td>\n",
       "      <td>9</td>\n",
       "      <td>57</td>\n",
       "    </tr>\n",
       "    <tr>\n",
       "      <th>5</th>\n",
       "      <td>1000</td>\n",
       "      <td>10</td>\n",
       "      <td>73</td>\n",
       "    </tr>\n",
       "    <tr>\n",
       "      <th>6</th>\n",
       "      <td>1000</td>\n",
       "      <td>11</td>\n",
       "      <td>58</td>\n",
       "    </tr>\n",
       "    <tr>\n",
       "      <th>7</th>\n",
       "      <td>1000</td>\n",
       "      <td>12</td>\n",
       "      <td>70</td>\n",
       "    </tr>\n",
       "    <tr>\n",
       "      <th>8</th>\n",
       "      <td>1002</td>\n",
       "      <td>6</td>\n",
       "      <td>4</td>\n",
       "    </tr>\n",
       "    <tr>\n",
       "      <th>9</th>\n",
       "      <td>1002</td>\n",
       "      <td>7</td>\n",
       "      <td>11</td>\n",
       "    </tr>\n",
       "  </tbody>\n",
       "</table>\n",
       "</div>"
      ],
      "text/plain": [
       "   user_id  month  messages_number\n",
       "0     1000      5               22\n",
       "1     1000      6               60\n",
       "2     1000      7               75\n",
       "3     1000      8               81\n",
       "4     1000      9               57\n",
       "5     1000     10               73\n",
       "6     1000     11               58\n",
       "7     1000     12               70\n",
       "8     1002      6                4\n",
       "9     1002      7               11"
      ]
     },
     "execution_count": 11,
     "metadata": {},
     "output_type": "execute_result"
    }
   ],
   "source": [
    "messages['month'] = pd.to_datetime(messages['message_date'], format='%Y-%m-%d').dt.month\n",
    "display(messages.head())\n",
    "messages_monthly = messages.groupby(['user_id','month'])['message_date'].count()\n",
    "messages_monthly = messages_monthly.reset_index()\n",
    "messages_monthly = messages_monthly.rename(columns={'message_date' : 'messages_number'})\n",
    "messages_monthly.head(10)"
   ]
  },
  {
   "cell_type": "markdown",
   "metadata": {},
   "source": [
    "объем израсходованного интернет-трафика по месяцам;"
   ]
  },
  {
   "cell_type": "code",
   "execution_count": 12,
   "metadata": {},
   "outputs": [
    {
     "data": {
      "text/html": [
       "<div>\n",
       "<style scoped>\n",
       "    .dataframe tbody tr th:only-of-type {\n",
       "        vertical-align: middle;\n",
       "    }\n",
       "\n",
       "    .dataframe tbody tr th {\n",
       "        vertical-align: top;\n",
       "    }\n",
       "\n",
       "    .dataframe thead th {\n",
       "        text-align: right;\n",
       "    }\n",
       "</style>\n",
       "<table border=\"1\" class=\"dataframe\">\n",
       "  <thead>\n",
       "    <tr style=\"text-align: right;\">\n",
       "      <th></th>\n",
       "      <th>id</th>\n",
       "      <th>mb_used</th>\n",
       "      <th>session_date</th>\n",
       "      <th>user_id</th>\n",
       "      <th>month</th>\n",
       "    </tr>\n",
       "  </thead>\n",
       "  <tbody>\n",
       "    <tr>\n",
       "      <th>0</th>\n",
       "      <td>1000_0</td>\n",
       "      <td>112.95</td>\n",
       "      <td>2018-11-25</td>\n",
       "      <td>1000</td>\n",
       "      <td>11</td>\n",
       "    </tr>\n",
       "    <tr>\n",
       "      <th>1</th>\n",
       "      <td>1000_1</td>\n",
       "      <td>1052.81</td>\n",
       "      <td>2018-09-07</td>\n",
       "      <td>1000</td>\n",
       "      <td>9</td>\n",
       "    </tr>\n",
       "    <tr>\n",
       "      <th>2</th>\n",
       "      <td>1000_2</td>\n",
       "      <td>1197.26</td>\n",
       "      <td>2018-06-25</td>\n",
       "      <td>1000</td>\n",
       "      <td>6</td>\n",
       "    </tr>\n",
       "    <tr>\n",
       "      <th>3</th>\n",
       "      <td>1000_3</td>\n",
       "      <td>550.27</td>\n",
       "      <td>2018-08-22</td>\n",
       "      <td>1000</td>\n",
       "      <td>8</td>\n",
       "    </tr>\n",
       "    <tr>\n",
       "      <th>4</th>\n",
       "      <td>1000_4</td>\n",
       "      <td>302.56</td>\n",
       "      <td>2018-09-24</td>\n",
       "      <td>1000</td>\n",
       "      <td>9</td>\n",
       "    </tr>\n",
       "  </tbody>\n",
       "</table>\n",
       "</div>"
      ],
      "text/plain": [
       "       id  mb_used session_date  user_id  month\n",
       "0  1000_0   112.95   2018-11-25     1000     11\n",
       "1  1000_1  1052.81   2018-09-07     1000      9\n",
       "2  1000_2  1197.26   2018-06-25     1000      6\n",
       "3  1000_3   550.27   2018-08-22     1000      8\n",
       "4  1000_4   302.56   2018-09-24     1000      9"
      ]
     },
     "metadata": {},
     "output_type": "display_data"
    },
    {
     "data": {
      "text/html": [
       "<div>\n",
       "<style scoped>\n",
       "    .dataframe tbody tr th:only-of-type {\n",
       "        vertical-align: middle;\n",
       "    }\n",
       "\n",
       "    .dataframe tbody tr th {\n",
       "        vertical-align: top;\n",
       "    }\n",
       "\n",
       "    .dataframe thead th {\n",
       "        text-align: right;\n",
       "    }\n",
       "</style>\n",
       "<table border=\"1\" class=\"dataframe\">\n",
       "  <thead>\n",
       "    <tr style=\"text-align: right;\">\n",
       "      <th></th>\n",
       "      <th>user_id</th>\n",
       "      <th>month</th>\n",
       "      <th>mb_used</th>\n",
       "      <th>gb_used</th>\n",
       "    </tr>\n",
       "  </thead>\n",
       "  <tbody>\n",
       "    <tr>\n",
       "      <th>0</th>\n",
       "      <td>1000</td>\n",
       "      <td>5</td>\n",
       "      <td>2253.49</td>\n",
       "      <td>3.0</td>\n",
       "    </tr>\n",
       "    <tr>\n",
       "      <th>1</th>\n",
       "      <td>1000</td>\n",
       "      <td>6</td>\n",
       "      <td>23233.77</td>\n",
       "      <td>23.0</td>\n",
       "    </tr>\n",
       "    <tr>\n",
       "      <th>2</th>\n",
       "      <td>1000</td>\n",
       "      <td>7</td>\n",
       "      <td>14003.64</td>\n",
       "      <td>14.0</td>\n",
       "    </tr>\n",
       "    <tr>\n",
       "      <th>3</th>\n",
       "      <td>1000</td>\n",
       "      <td>8</td>\n",
       "      <td>14055.93</td>\n",
       "      <td>14.0</td>\n",
       "    </tr>\n",
       "    <tr>\n",
       "      <th>4</th>\n",
       "      <td>1000</td>\n",
       "      <td>9</td>\n",
       "      <td>14568.91</td>\n",
       "      <td>15.0</td>\n",
       "    </tr>\n",
       "    <tr>\n",
       "      <th>5</th>\n",
       "      <td>1000</td>\n",
       "      <td>10</td>\n",
       "      <td>14702.49</td>\n",
       "      <td>15.0</td>\n",
       "    </tr>\n",
       "    <tr>\n",
       "      <th>6</th>\n",
       "      <td>1000</td>\n",
       "      <td>11</td>\n",
       "      <td>14756.47</td>\n",
       "      <td>15.0</td>\n",
       "    </tr>\n",
       "    <tr>\n",
       "      <th>7</th>\n",
       "      <td>1000</td>\n",
       "      <td>12</td>\n",
       "      <td>9817.61</td>\n",
       "      <td>10.0</td>\n",
       "    </tr>\n",
       "    <tr>\n",
       "      <th>8</th>\n",
       "      <td>1001</td>\n",
       "      <td>11</td>\n",
       "      <td>18429.34</td>\n",
       "      <td>18.0</td>\n",
       "    </tr>\n",
       "    <tr>\n",
       "      <th>9</th>\n",
       "      <td>1001</td>\n",
       "      <td>12</td>\n",
       "      <td>14036.66</td>\n",
       "      <td>14.0</td>\n",
       "    </tr>\n",
       "  </tbody>\n",
       "</table>\n",
       "</div>"
      ],
      "text/plain": [
       "   user_id  month   mb_used  gb_used\n",
       "0     1000      5   2253.49      3.0\n",
       "1     1000      6  23233.77     23.0\n",
       "2     1000      7  14003.64     14.0\n",
       "3     1000      8  14055.93     14.0\n",
       "4     1000      9  14568.91     15.0\n",
       "5     1000     10  14702.49     15.0\n",
       "6     1000     11  14756.47     15.0\n",
       "7     1000     12   9817.61     10.0\n",
       "8     1001     11  18429.34     18.0\n",
       "9     1001     12  14036.66     14.0"
      ]
     },
     "execution_count": 12,
     "metadata": {},
     "output_type": "execute_result"
    }
   ],
   "source": [
    "internet['month'] = pd.to_datetime(internet['session_date'], format='%Y-%m-%d').dt.month\n",
    "display(internet.head())\n",
    "internet_monthly = internet.groupby(['user_id','month'])['mb_used'].sum()\n",
    "internet_monthly = internet_monthly.reset_index()\n",
    "internet_monthly['gb_used'] = np.ceil(internet_monthly['mb_used'] / 1024)\n",
    "internet_monthly.head(10)"
   ]
  },
  {
   "cell_type": "markdown",
   "metadata": {},
   "source": [
    "<font color='DarkBlue'><b>Комментарий ревьюера</b></font><br>\n",
    "<font color='DarkGreen'>👌 Хорошо, что для округления трафика используется np.ceil, так как он работает сразу со всем столбцом. 👍</font>"
   ]
  },
  {
   "cell_type": "markdown",
   "metadata": {},
   "source": [
    "помесячную выручку с каждого пользователя"
   ]
  },
  {
   "cell_type": "code",
   "execution_count": 13,
   "metadata": {},
   "outputs": [
    {
     "data": {
      "text/html": [
       "<div>\n",
       "<style scoped>\n",
       "    .dataframe tbody tr th:only-of-type {\n",
       "        vertical-align: middle;\n",
       "    }\n",
       "\n",
       "    .dataframe tbody tr th {\n",
       "        vertical-align: top;\n",
       "    }\n",
       "\n",
       "    .dataframe thead th {\n",
       "        text-align: right;\n",
       "    }\n",
       "</style>\n",
       "<table border=\"1\" class=\"dataframe\">\n",
       "  <thead>\n",
       "    <tr style=\"text-align: right;\">\n",
       "      <th></th>\n",
       "      <th>user_id</th>\n",
       "      <th>month</th>\n",
       "      <th>duration</th>\n",
       "      <th>messages_number</th>\n",
       "      <th>gb_used</th>\n",
       "      <th>city</th>\n",
       "      <th>tariff</th>\n",
       "      <th>messages_included</th>\n",
       "      <th>mb_per_month_included</th>\n",
       "      <th>minutes_included</th>\n",
       "      <th>rub_monthly_fee</th>\n",
       "      <th>rub_per_gb</th>\n",
       "      <th>rub_per_message</th>\n",
       "      <th>rub_per_minute</th>\n",
       "    </tr>\n",
       "  </thead>\n",
       "  <tbody>\n",
       "    <tr>\n",
       "      <th>3209</th>\n",
       "      <td>1489</td>\n",
       "      <td>8</td>\n",
       "      <td>NaN</td>\n",
       "      <td>17.0</td>\n",
       "      <td>11.0</td>\n",
       "      <td>Санкт-Петербург</td>\n",
       "      <td>smart</td>\n",
       "      <td>50</td>\n",
       "      <td>15360</td>\n",
       "      <td>500</td>\n",
       "      <td>550</td>\n",
       "      <td>200</td>\n",
       "      <td>3</td>\n",
       "      <td>3</td>\n",
       "    </tr>\n",
       "    <tr>\n",
       "      <th>3210</th>\n",
       "      <td>1489</td>\n",
       "      <td>9</td>\n",
       "      <td>NaN</td>\n",
       "      <td>32.0</td>\n",
       "      <td>17.0</td>\n",
       "      <td>Санкт-Петербург</td>\n",
       "      <td>smart</td>\n",
       "      <td>50</td>\n",
       "      <td>15360</td>\n",
       "      <td>500</td>\n",
       "      <td>550</td>\n",
       "      <td>200</td>\n",
       "      <td>3</td>\n",
       "      <td>3</td>\n",
       "    </tr>\n",
       "    <tr>\n",
       "      <th>3211</th>\n",
       "      <td>1489</td>\n",
       "      <td>10</td>\n",
       "      <td>NaN</td>\n",
       "      <td>21.0</td>\n",
       "      <td>20.0</td>\n",
       "      <td>Санкт-Петербург</td>\n",
       "      <td>smart</td>\n",
       "      <td>50</td>\n",
       "      <td>15360</td>\n",
       "      <td>500</td>\n",
       "      <td>550</td>\n",
       "      <td>200</td>\n",
       "      <td>3</td>\n",
       "      <td>3</td>\n",
       "    </tr>\n",
       "    <tr>\n",
       "      <th>3212</th>\n",
       "      <td>1489</td>\n",
       "      <td>11</td>\n",
       "      <td>NaN</td>\n",
       "      <td>20.0</td>\n",
       "      <td>18.0</td>\n",
       "      <td>Санкт-Петербург</td>\n",
       "      <td>smart</td>\n",
       "      <td>50</td>\n",
       "      <td>15360</td>\n",
       "      <td>500</td>\n",
       "      <td>550</td>\n",
       "      <td>200</td>\n",
       "      <td>3</td>\n",
       "      <td>3</td>\n",
       "    </tr>\n",
       "    <tr>\n",
       "      <th>3213</th>\n",
       "      <td>1489</td>\n",
       "      <td>12</td>\n",
       "      <td>NaN</td>\n",
       "      <td>35.0</td>\n",
       "      <td>17.0</td>\n",
       "      <td>Санкт-Петербург</td>\n",
       "      <td>smart</td>\n",
       "      <td>50</td>\n",
       "      <td>15360</td>\n",
       "      <td>500</td>\n",
       "      <td>550</td>\n",
       "      <td>200</td>\n",
       "      <td>3</td>\n",
       "      <td>3</td>\n",
       "    </tr>\n",
       "  </tbody>\n",
       "</table>\n",
       "</div>"
      ],
      "text/plain": [
       "      user_id  month  duration  messages_number  gb_used             city  \\\n",
       "3209     1489      8       NaN             17.0     11.0  Санкт-Петербург   \n",
       "3210     1489      9       NaN             32.0     17.0  Санкт-Петербург   \n",
       "3211     1489     10       NaN             21.0     20.0  Санкт-Петербург   \n",
       "3212     1489     11       NaN             20.0     18.0  Санкт-Петербург   \n",
       "3213     1489     12       NaN             35.0     17.0  Санкт-Петербург   \n",
       "\n",
       "     tariff  messages_included  mb_per_month_included  minutes_included  \\\n",
       "3209  smart                 50                  15360               500   \n",
       "3210  smart                 50                  15360               500   \n",
       "3211  smart                 50                  15360               500   \n",
       "3212  smart                 50                  15360               500   \n",
       "3213  smart                 50                  15360               500   \n",
       "\n",
       "      rub_monthly_fee  rub_per_gb  rub_per_message  rub_per_minute  \n",
       "3209              550         200                3               3  \n",
       "3210              550         200                3               3  \n",
       "3211              550         200                3               3  \n",
       "3212              550         200                3               3  \n",
       "3213              550         200                3               3  "
      ]
     },
     "execution_count": 13,
     "metadata": {},
     "output_type": "execute_result"
    }
   ],
   "source": [
    "df = calls_monthly.merge(\n",
    "    messages_monthly, on=['user_id', 'month'], how='outer'\n",
    ").merge(\n",
    "    internet_monthly, on=['user_id', 'month'], how='outer'\n",
    ").merge(\n",
    "    users, on=['user_id'])\n",
    "tariffs = tariffs.rename(columns = {'tariff_name' : 'tariff'})\n",
    "df = df.merge(tariffs, on='tariff')\n",
    "df = df.drop(['mb_used', 'churn_date', 'age', 'first_name', 'last_name', 'reg_date'], axis=1)\n",
    "df.tail()"
   ]
  },
  {
   "cell_type": "markdown",
   "metadata": {},
   "source": [
    "<font color='DarkBlue'><b>Комментарий ревьюера</b></font><br>\n",
    "<font color='Red'>🛠 Надо проанализировать куда у нас пропали пользователи после объединения таблиц, см. код ниже. Надо по ним принять правильное решение. Подсказка: не все пользователи пользовались услугами, надо проверить по каждой услуге.</font>"
   ]
  },
  {
   "cell_type": "markdown",
   "metadata": {},
   "source": [
    "<font color='Blue'><b>Комментарий студента</b></font><br>\n",
    "Теперь останутся все пользователи, которые пользовались звонками, смсками или интернетом хотя бы раз за месяц"
   ]
  },
  {
   "cell_type": "markdown",
   "metadata": {},
   "source": [
    "<font color='DarkBlue'><b>Комментарий ревьюера 2</b></font><br>\n",
    "<font color='DarkGreen'>👌 Наша задача подробно анализировать данные и стоило проверить при анализе датасетов, сколько клиентов используют каждую услугу. И мы бы еще на этом этапе обнаружили, что не все клиенты пользуются всеми тремя услугами. Тогда бы мы ранее обнаружили, что два клиента через 5 и 8 дней сбежали. Соответственно, в проекте мы должны отметить этот факт, так как эта информация будет полезна коммерческому департаменту для выяснения причин ухода клиентов. </font>"
   ]
  },
  {
   "cell_type": "code",
   "execution_count": 14,
   "metadata": {},
   "outputs": [
    {
     "data": {
      "text/plain": [
       "(498,)"
      ]
     },
     "execution_count": 14,
     "metadata": {},
     "output_type": "execute_result"
    }
   ],
   "source": [
    "# Комментарий ревьюера\n",
    "df.user_id.unique().shape "
   ]
  },
  {
   "cell_type": "code",
   "execution_count": 15,
   "metadata": {},
   "outputs": [
    {
     "data": {
      "text/html": [
       "<div>\n",
       "<style scoped>\n",
       "    .dataframe tbody tr th:only-of-type {\n",
       "        vertical-align: middle;\n",
       "    }\n",
       "\n",
       "    .dataframe tbody tr th {\n",
       "        vertical-align: top;\n",
       "    }\n",
       "\n",
       "    .dataframe thead th {\n",
       "        text-align: right;\n",
       "    }\n",
       "</style>\n",
       "<table border=\"1\" class=\"dataframe\">\n",
       "  <thead>\n",
       "    <tr style=\"text-align: right;\">\n",
       "      <th></th>\n",
       "      <th>user_id</th>\n",
       "      <th>month</th>\n",
       "      <th>duration</th>\n",
       "      <th>messages_number</th>\n",
       "      <th>gb_used</th>\n",
       "      <th>city</th>\n",
       "      <th>tariff</th>\n",
       "      <th>messages_included</th>\n",
       "      <th>mb_per_month_included</th>\n",
       "      <th>minutes_included</th>\n",
       "      <th>rub_monthly_fee</th>\n",
       "      <th>rub_per_gb</th>\n",
       "      <th>rub_per_message</th>\n",
       "      <th>rub_per_minute</th>\n",
       "      <th>income</th>\n",
       "    </tr>\n",
       "  </thead>\n",
       "  <tbody>\n",
       "    <tr>\n",
       "      <th>3209</th>\n",
       "      <td>1489</td>\n",
       "      <td>8</td>\n",
       "      <td>NaN</td>\n",
       "      <td>17.0</td>\n",
       "      <td>11.0</td>\n",
       "      <td>Санкт-Петербург</td>\n",
       "      <td>smart</td>\n",
       "      <td>50</td>\n",
       "      <td>15360</td>\n",
       "      <td>500</td>\n",
       "      <td>550</td>\n",
       "      <td>200</td>\n",
       "      <td>3</td>\n",
       "      <td>3</td>\n",
       "      <td>550.0</td>\n",
       "    </tr>\n",
       "    <tr>\n",
       "      <th>3210</th>\n",
       "      <td>1489</td>\n",
       "      <td>9</td>\n",
       "      <td>NaN</td>\n",
       "      <td>32.0</td>\n",
       "      <td>17.0</td>\n",
       "      <td>Санкт-Петербург</td>\n",
       "      <td>smart</td>\n",
       "      <td>50</td>\n",
       "      <td>15360</td>\n",
       "      <td>500</td>\n",
       "      <td>550</td>\n",
       "      <td>200</td>\n",
       "      <td>3</td>\n",
       "      <td>3</td>\n",
       "      <td>950.0</td>\n",
       "    </tr>\n",
       "    <tr>\n",
       "      <th>3211</th>\n",
       "      <td>1489</td>\n",
       "      <td>10</td>\n",
       "      <td>NaN</td>\n",
       "      <td>21.0</td>\n",
       "      <td>20.0</td>\n",
       "      <td>Санкт-Петербург</td>\n",
       "      <td>smart</td>\n",
       "      <td>50</td>\n",
       "      <td>15360</td>\n",
       "      <td>500</td>\n",
       "      <td>550</td>\n",
       "      <td>200</td>\n",
       "      <td>3</td>\n",
       "      <td>3</td>\n",
       "      <td>1550.0</td>\n",
       "    </tr>\n",
       "    <tr>\n",
       "      <th>3212</th>\n",
       "      <td>1489</td>\n",
       "      <td>11</td>\n",
       "      <td>NaN</td>\n",
       "      <td>20.0</td>\n",
       "      <td>18.0</td>\n",
       "      <td>Санкт-Петербург</td>\n",
       "      <td>smart</td>\n",
       "      <td>50</td>\n",
       "      <td>15360</td>\n",
       "      <td>500</td>\n",
       "      <td>550</td>\n",
       "      <td>200</td>\n",
       "      <td>3</td>\n",
       "      <td>3</td>\n",
       "      <td>1150.0</td>\n",
       "    </tr>\n",
       "    <tr>\n",
       "      <th>3213</th>\n",
       "      <td>1489</td>\n",
       "      <td>12</td>\n",
       "      <td>NaN</td>\n",
       "      <td>35.0</td>\n",
       "      <td>17.0</td>\n",
       "      <td>Санкт-Петербург</td>\n",
       "      <td>smart</td>\n",
       "      <td>50</td>\n",
       "      <td>15360</td>\n",
       "      <td>500</td>\n",
       "      <td>550</td>\n",
       "      <td>200</td>\n",
       "      <td>3</td>\n",
       "      <td>3</td>\n",
       "      <td>950.0</td>\n",
       "    </tr>\n",
       "  </tbody>\n",
       "</table>\n",
       "</div>"
      ],
      "text/plain": [
       "      user_id  month  duration  messages_number  gb_used             city  \\\n",
       "3209     1489      8       NaN             17.0     11.0  Санкт-Петербург   \n",
       "3210     1489      9       NaN             32.0     17.0  Санкт-Петербург   \n",
       "3211     1489     10       NaN             21.0     20.0  Санкт-Петербург   \n",
       "3212     1489     11       NaN             20.0     18.0  Санкт-Петербург   \n",
       "3213     1489     12       NaN             35.0     17.0  Санкт-Петербург   \n",
       "\n",
       "     tariff  messages_included  mb_per_month_included  minutes_included  \\\n",
       "3209  smart                 50                  15360               500   \n",
       "3210  smart                 50                  15360               500   \n",
       "3211  smart                 50                  15360               500   \n",
       "3212  smart                 50                  15360               500   \n",
       "3213  smart                 50                  15360               500   \n",
       "\n",
       "      rub_monthly_fee  rub_per_gb  rub_per_message  rub_per_minute  income  \n",
       "3209              550         200                3               3   550.0  \n",
       "3210              550         200                3               3   950.0  \n",
       "3211              550         200                3               3  1550.0  \n",
       "3212              550         200                3               3  1150.0  \n",
       "3213              550         200                3               3   950.0  "
      ]
     },
     "execution_count": 15,
     "metadata": {},
     "output_type": "execute_result"
    }
   ],
   "source": [
    "def revenue(df):\n",
    "    revenue_min = 0\n",
    "    revenue_mes = 0\n",
    "    revenue_internet = 0\n",
    "    if (df['duration'] - df['minutes_included']) > 0:\n",
    "        revenue_min = np.ceil(df['duration'] - df['minutes_included']) * df['rub_per_minute']\n",
    "    if (df['messages_number'] - df['messages_included']) > 0:\n",
    "        revenue_mes = (df['messages_number'] - df['messages_included']) * df['rub_per_message']\n",
    "    if (df['gb_used'] - df['mb_per_month_included'] / 1024) > 0:\n",
    "        revenue_internet = np.ceil(df['gb_used'] - df['mb_per_month_included'] / 1024) * df['rub_per_gb']\n",
    "    if df['tariff'] == 'ultra':\n",
    "        revenue_tariff = 1950\n",
    "    if df['tariff'] == 'smart':\n",
    "        revenue_tariff = 550\n",
    "    return revenue_min + revenue_mes + revenue_internet + revenue_tariff\n",
    "    \n",
    "df['income'] = df.apply(revenue, axis=1)\n",
    "df.tail()"
   ]
  },
  {
   "attachments": {
    "image.png": {
     "image/png": "[encoded data removed]"
    }
   },
   "cell_type": "markdown",
   "metadata": {},
   "source": [
    "<font color='DarkBlue'><b>Комментарий ревьюера</b></font><br>\n",
    "<font color='Red'>🛠 Не понятный расчет. С часами, понятно, надо исправить ранее. А вот зачем Гб переводить в Мб отнимать лимит, а потом опять переводить в Гб? Проще лимит перевести в Гб, там целое число.</font>\n",
    "![image.png](attachment:image.png)"
   ]
  },
  {
   "cell_type": "markdown",
   "metadata": {},
   "source": [
    "<font color='Blue'><b>Комментарий студента</b></font><br>\n",
    "Исправил"
   ]
  },
  {
   "attachments": {
    "image.png": {
     "image/png": "[encoded data removed]"
    }
   },
   "cell_type": "markdown",
   "metadata": {},
   "source": [
    "<font color='DarkBlue'><b>Комментарий ревьюера 2</b></font><br>\n",
    "<font color='DarkMagenta'>👉 И зачем-то теперь выручку до целого округляем. 😢 Хорошо, что она у нас и так целая, а то была бы ошибка.</font>\n",
    "![image.png](attachment:image.png)"
   ]
  },
  {
   "cell_type": "code",
   "execution_count": 16,
   "metadata": {},
   "outputs": [
    {
     "name": "stdout",
     "output_type": "stream",
     "text": [
      "452780.7092866757\n",
      "308452.69035532995\n"
     ]
    }
   ],
   "source": [
    "print(df[df['tariff'] == 'smart']['income'].mean() * users[users['tariff'] == 'smart']['age'].count())\n",
    "print(df[df['tariff'] == 'ultra']['income'].mean() * users[users['tariff'] == 'ultra']['age'].count())"
   ]
  },
  {
   "cell_type": "markdown",
   "metadata": {},
   "source": [
    "В среднем клиенты с тарифом \"смарт\" приносят больше денег, чем клиенты \"ультры\""
   ]
  },
  {
   "cell_type": "markdown",
   "metadata": {},
   "source": [
    "## Анализ данных"
   ]
  },
  {
   "cell_type": "markdown",
   "metadata": {},
   "source": [
    "Опишем поведение клиентов оператора с разными тарифами. Для этого найдем среднее, дисперсию, стандартное отклонение и построим гистограммы использования интернета, звонков и сообщений для каждого тарифа"
   ]
  },
  {
   "cell_type": "code",
   "execution_count": 17,
   "metadata": {},
   "outputs": [
    {
     "name": "stdout",
     "output_type": "stream",
     "text": [
      "CALLS:\n",
      "ultra_calls_mean: 545.4511041009464 smart_calls_mean: 419.0629779577148\n",
      "ultra_calls_var: 94104.36117385984 smart_calls_var: 35828.06530953033\n",
      "ultra_calls_std: 306.76434143143143 smart_calls_std: 189.2830296395594\n",
      "MESSAGES:\n",
      "ultra_messages_mean: 61.161006289308176 smart_messages_mean: 38.71644120707596\n",
      "ultra_messages_var: 2107.0055235156838 smart_messages_var: 717.220843110227\n",
      "ultra_messages_std: 45.90212983637779 smart_messages_std: 26.780979129042816\n",
      "INTERNET:\n",
      "ultra_gb_mean: 19.694358974358973 smart_gb_mean: 16.33617594254937\n",
      "ultra_gb_var: 94.05017330703485 smart_gb_var: 32.908978554322495\n",
      "ultra_gb_std: 9.697946860394465 smart_gb_std: 5.73663477609674\n"
     ]
    }
   ],
   "source": [
    "print('CALLS:')\n",
    "ultra_mean = (df[df['tariff'] == 'ultra']['duration']).mean()\n",
    "smart_mean = (df[df['tariff'] == 'smart']['duration']).mean()\n",
    "print('ultra_calls_mean:',ultra_mean,'smart_calls_mean:', smart_mean)\n",
    "ultra_var =  np.var(df[df['tariff'] == 'ultra']['duration'])\n",
    "smart_var =  np.var(df[df['tariff'] == 'smart']['duration'])\n",
    "print('ultra_calls_var:',ultra_var,'smart_calls_var:', smart_var)\n",
    "ultra_std = np.std(df[df['tariff'] == 'ultra']['duration'])\n",
    "smart_std =  np.std(df[df['tariff'] == 'smart']['duration'])\n",
    "print('ultra_calls_std:',ultra_std,'smart_calls_std:', smart_std)\n",
    "\n",
    "print('MESSAGES:')\n",
    "ultra_mean = (df[df['tariff'] == 'ultra']['messages_number']).mean()\n",
    "smart_mean = (df[df['tariff'] == 'smart']['messages_number']).mean()\n",
    "print('ultra_messages_mean:',ultra_mean,'smart_messages_mean:', smart_mean)\n",
    "ultra_var =  np.var(df[df['tariff'] == 'ultra']['messages_number'])\n",
    "smart_var =  np.var(df[df['tariff'] == 'smart']['messages_number'])\n",
    "print('ultra_messages_var:',ultra_var,'smart_messages_var:', smart_var)\n",
    "ultra_std = np.std(df[df['tariff'] == 'ultra']['messages_number'])\n",
    "smart_std =  np.std(df[df['tariff'] == 'smart']['messages_number'])\n",
    "print('ultra_messages_std:',ultra_std,'smart_messages_std:', smart_std)\n",
    "\n",
    "print('INTERNET:')\n",
    "ultra_mean = (df[df['tariff'] == 'ultra']['gb_used']).mean()\n",
    "smart_mean = (df[df['tariff'] == 'smart']['gb_used']).mean()\n",
    "print('ultra_gb_mean:',ultra_mean,'smart_gb_mean:', smart_mean)\n",
    "ultra_var =  np.var(df[df['tariff'] == 'ultra']['gb_used'])\n",
    "smart_var =  np.var(df[df['tariff'] == 'smart']['gb_used'])\n",
    "print('ultra_gb_var:',ultra_var,'smart_gb_var:', smart_var)\n",
    "ultra_std = np.std(df[df['tariff'] == 'ultra']['gb_used'])\n",
    "smart_std =  np.std(df[df['tariff'] == 'smart']['gb_used'])\n",
    "print('ultra_gb_std:',ultra_std,'smart_gb_std:', smart_std)"
   ]
  },
  {
   "cell_type": "markdown",
   "metadata": {},
   "source": [
    "<font color='DarkBlue'><b>Комментарий ревьюера</b></font><br>\n",
    "<font color='DarkGreen'>👌 Хорошо, посчитали статистику по тарифам. 👍</font>"
   ]
  },
  {
   "cell_type": "markdown",
   "metadata": {},
   "source": [
    "В среднем, пользователи с тарифом ультра больше тратят минуты, сообщения и траффик, что в полне логично, т.к. тариф имеет бóльшие пакеты по каждой из этих опций."
   ]
  },
  {
   "cell_type": "code",
   "execution_count": 18,
   "metadata": {},
   "outputs": [
    {
     "data": {
      "image/png": "[encoded data removed]",
      "text/plain": [
       "<Figure size 432x288 with 1 Axes>"
      ]
     },
     "metadata": {
      "needs_background": "light"
     },
     "output_type": "display_data"
    }
   ],
   "source": [
    "df_ultra = df[df['tariff'] == 'ultra']\n",
    "df_smart = df[df['tariff'] == 'smart']\n",
    "(df_ultra['duration']).plot(kind='hist', bins=15, grid=True, label='Ультра')\n",
    "(df_smart['duration']).plot(kind='hist', bins=15, grid=True, alpha=0.5, label='Смарт')\n",
    "plt.legend()\n",
    "plt.xlabel('Минуты в месяц')\n",
    "plt.ylabel('Частота')\n",
    "plt.title('Количество потраченных минут за месяц')\n",
    "plt.show()"
   ]
  },
  {
   "cell_type": "markdown",
   "metadata": {},
   "source": [
    "По графику заметно, что около половины клиентов с тарифом \"смарт\" не укладываются в 500 минут в месяц. И при этом все клиенты с тарифом \"ультра\" не преодолевают 2000 минут в месяц."
   ]
  },
  {
   "cell_type": "code",
   "execution_count": 19,
   "metadata": {},
   "outputs": [
    {
     "data": {
      "image/png": "[encoded data removed]",
      "text/plain": [
       "<Figure size 432x288 with 1 Axes>"
      ]
     },
     "metadata": {
      "needs_background": "light"
     },
     "output_type": "display_data"
    }
   ],
   "source": [
    "df_ultra['messages_number'].plot(kind='hist', bins=15, grid=True, label='Ультра')\n",
    "df_smart['messages_number'].plot(kind='hist', bins=15, grid=True, alpha=0.5, label='Смарт')\n",
    "plt.legend()\n",
    "plt.xlabel('Сообщения в месяц')\n",
    "plt.ylabel('Частота')\n",
    "plt.title('Количество потраченных сообщений за месяц')\n",
    "plt.show()"
   ]
  },
  {
   "cell_type": "markdown",
   "metadata": {},
   "source": [
    "Здесь ситуация для клиентов \"смарта\" чуть лучше, но все равно достаточно много людей преодолевают порог и переплачивают за сообщения. Лишь несколько человек среди владельцев тарифа \"ультра\" превосходят пятую часть от тарифного плана."
   ]
  },
  {
   "cell_type": "code",
   "execution_count": 20,
   "metadata": {},
   "outputs": [
    {
     "data": {
      "image/png": "[encoded data removed]",
      "text/plain": [
       "<Figure size 432x288 with 1 Axes>"
      ]
     },
     "metadata": {
      "needs_background": "light"
     },
     "output_type": "display_data"
    }
   ],
   "source": [
    "df_ultra['gb_used'].plot(kind='hist', bins=15, grid=True, label='Ультра')\n",
    "df_smart['gb_used'].plot(kind='hist', bins=15, grid=True, alpha=0.5, label='Смарт')\n",
    "plt.legend()\n",
    "plt.xlabel('ГБ в месяц')\n",
    "plt.ylabel('Частота')\n",
    "plt.title('Количество потраченных ГБ за месяц')\n",
    "plt.show()"
   ]
  },
  {
   "cell_type": "markdown",
   "metadata": {},
   "source": [
    "<font color='DarkBlue'><b>Комментарий ревьюера</b></font><br>\n",
    "<font color='DarkGreen'>👌 Хорошо, что графики обоих тарифов построены в одной координатной сетке.</font><br>\n",
    "<font color='DarkMagenta'>👉 А вот назвния графика и меток тарифов нет. 😢 И это относится ко всем графикам проекта.</font>"
   ]
  },
  {
   "cell_type": "markdown",
   "metadata": {},
   "source": [
    "<font color='DarkBlue'><b>Комментарий ревьюера 2</b></font><br>\n",
    "<font color='DarkGreen'>👌 Хорошо, исправили. 😉</font>"
   ]
  },
  {
   "cell_type": "markdown",
   "metadata": {},
   "source": [
    "У тарифа \"смарт\" ситуация такая же, как и со звонками: около половины клиентов преодолевают порог. Но и у большой части клиентов \"ультра\" есть проблема нехватки трафика."
   ]
  },
  {
   "cell_type": "markdown",
   "metadata": {},
   "source": [
    "\"Средний\" клиент \"ультры\" не использует предложенные в тарифе звонки, минуты и гигабайты. При этом клиент \"смарта\" почти полностью использует звонки и смс, а объем данного интернет траффика и вовсе превосходит."
   ]
  },
  {
   "cell_type": "markdown",
   "metadata": {},
   "source": [
    "<font color='DarkBlue'><b>Комментарий ревьюера</b></font><br>\n",
    "<font color='DarkMagenta'>👉 Как инструкция на выполнение проекта, так и технические задания на проведение исследования не всегда содержат всю информацию, что необходимо сделать. Но указывается задача исследования, у нас это: \"коммерческий департамент хочет понять, какой тариф приносит больше денег\". Но мы ограничиваемся в анализе только количеством сообщений, длительностью звонков и интернет-трафиком. При этом у нас уже посчитано сколько пользователи платят за эти услуги, но сам анализ выручки в разрезе тарифа мы не делаем. Тогда, как мы получим ответ на вопрос какой тариф выгоднее?</font><br>\n",
    "<font color='Red'>🛠 Надо сделать расчет статистики и построение гистограмм по выручке в разрезе тарифов. Хорошо?</font>"
   ]
  },
  {
   "cell_type": "markdown",
   "metadata": {},
   "source": [
    "<font color='Blue'><b>Комментарий студента</b></font><br>\n",
    "Посмотрим на графики доходов от каждого тарифа в месяц"
   ]
  },
  {
   "cell_type": "markdown",
   "metadata": {},
   "source": [
    "<font color='DarkBlue'><b>Комментарий ревьюера 2</b></font><br>\n",
    "<font color='DarkMagenta'>👉 А гистограмму построить, а статистику посчитать?</font>"
   ]
  },
  {
   "cell_type": "code",
   "execution_count": 27,
   "metadata": {},
   "outputs": [
    {
     "data": {
      "image/png": "[encoded data removed]",
      "text/plain": [
       "<Figure size 720x432 with 1 Axes>"
      ]
     },
     "metadata": {
      "needs_background": "light"
     },
     "output_type": "display_data"
    },
    {
     "data": {
      "text/html": [
       "<div>\n",
       "<style scoped>\n",
       "    .dataframe tbody tr th:only-of-type {\n",
       "        vertical-align: middle;\n",
       "    }\n",
       "\n",
       "    .dataframe tbody tr th {\n",
       "        vertical-align: top;\n",
       "    }\n",
       "\n",
       "    .dataframe thead tr th {\n",
       "        text-align: left;\n",
       "    }\n",
       "\n",
       "    .dataframe thead tr:last-of-type th {\n",
       "        text-align: right;\n",
       "    }\n",
       "</style>\n",
       "<table border=\"1\" class=\"dataframe\">\n",
       "  <thead>\n",
       "    <tr>\n",
       "      <th></th>\n",
       "      <th>mean</th>\n",
       "      <th>var</th>\n",
       "      <th>std</th>\n",
       "    </tr>\n",
       "    <tr>\n",
       "      <th></th>\n",
       "      <th>income</th>\n",
       "      <th>income</th>\n",
       "      <th>income</th>\n",
       "    </tr>\n",
       "    <tr>\n",
       "      <th>tariff</th>\n",
       "      <th></th>\n",
       "      <th></th>\n",
       "      <th></th>\n",
       "    </tr>\n",
       "  </thead>\n",
       "  <tbody>\n",
       "    <tr>\n",
       "      <th>smart</th>\n",
       "      <td>1289.973531</td>\n",
       "      <td>669785.708006</td>\n",
       "      <td>818.404367</td>\n",
       "    </tr>\n",
       "    <tr>\n",
       "      <th>ultra</th>\n",
       "      <td>2070.152284</td>\n",
       "      <td>141516.745079</td>\n",
       "      <td>376.187114</td>\n",
       "    </tr>\n",
       "  </tbody>\n",
       "</table>\n",
       "</div>"
      ],
      "text/plain": [
       "               mean            var         std\n",
       "             income         income      income\n",
       "tariff                                        \n",
       "smart   1289.973531  669785.708006  818.404367\n",
       "ultra   2070.152284  141516.745079  376.187114"
      ]
     },
     "execution_count": 27,
     "metadata": {},
     "output_type": "execute_result"
    }
   ],
   "source": [
    "# Комментарий ревьюера 2\n",
    "plt.figure(figsize=(10, 6))\n",
    "df['income'][df['tariff'] == 'smart'].plot(kind='hist', alpha=0.5, bins=30)\n",
    "df['income'][df['tariff'] == 'ultra'].plot(kind='hist', alpha=0.5, bins=30)\n",
    "plt.title('Гистограмма распределения выручки по 2-м тарифам'+ \"\\n\")\n",
    "plt.xlabel('Рубли')\n",
    "plt.ylabel('Частотность')\n",
    "plt.legend(['smart', 'ultra'])\n",
    "\n",
    "plt.show()\n",
    "df.pivot_table(index= 'tariff', values= 'income', aggfunc= ['mean', 'var','std'])"
   ]
  },
  {
   "cell_type": "code",
   "execution_count": 21,
   "metadata": {},
   "outputs": [
    {
     "data": {
      "image/png": "[encoded data removed]",
      "text/plain": [
       "<Figure size 432x288 with 1 Axes>"
      ]
     },
     "metadata": {
      "needs_background": "light"
     },
     "output_type": "display_data"
    }
   ],
   "source": [
    "ultra_income = pd.DataFrame(df_ultra.groupby('month')['income'].sum()).reset_index()\n",
    "smart_income = pd.DataFrame(df_smart.groupby('month')['income'].sum()).reset_index()\n",
    "us = ultra_income.merge(smart_income, on='month')\n",
    "us.columns = ['month', 'ultra', 'smart']\n",
    "us.plot(x='month', kind='bar', grid=True)\n",
    "plt.xlabel('Месяц')\n",
    "plt.ylabel('Доход')\n",
    "plt.title('Доход в месяц')\n",
    "plt.legend()\n",
    "plt.show()"
   ]
  },
  {
   "cell_type": "markdown",
   "metadata": {},
   "source": [
    "Видно, что практически на протяжении всего года тариф \"смарт\" обгоняет по выручке. При этом наблюдается рост выручки по обоим тарифам, но темп роста у тарифа \"смарт\" выше."
   ]
  },
  {
   "cell_type": "markdown",
   "metadata": {},
   "source": [
    "<font color='DarkBlue'><b>Комментарий ревьюера 2</b></font><br>\n",
    "<font color='DarkMagenta'>👉 Не совсем корректный график, так как у нас одновременно с каждым месяцем растет количество клиентов. Лучше смотреть среднюю выручку на клиента:</font>"
   ]
  },
  {
   "cell_type": "code",
   "execution_count": 28,
   "metadata": {},
   "outputs": [
    {
     "data": {
      "text/plain": [
       "Text(0, 0.5, 'Рубли')"
      ]
     },
     "execution_count": 28,
     "metadata": {},
     "output_type": "execute_result"
    },
    {
     "data": {
      "image/png": "[encoded data removed]",
      "text/plain": [
       "<Figure size 432x288 with 1 Axes>"
      ]
     },
     "metadata": {
      "needs_background": "light"
     },
     "output_type": "display_data"
    }
   ],
   "source": [
    "# Комментарий ревьюера 2\n",
    "df.pivot_table(index='tariff', columns='month', values='income', aggfunc='mean').T.plot(kind='bar', alpha=0.5)\n",
    "plt.title('Средняя ежемесячная выручка по 2-м тарифам за год'+ \"\\n\")\n",
    "plt.xlabel('Месяц')\n",
    "plt.ylabel('Рубли')"
   ]
  },
  {
   "cell_type": "markdown",
   "metadata": {},
   "source": [
    "<font color='DarkBlue'><b>Комментарий ревьюера 2</b></font><br>\n",
    "<font color='DarkGreen'>👌 Вот такой ожидался график. <br>\n",
    "Что теперь получается. Мы провели исследование в соответствии с заданием, но если бы мы показали динамику выручки. То обнаружили бы, что в течение года выручка по тарифу Смарт растет быстрее Ультра. И это надо было отразить в выводах исследования. <br>Реклама это все-таки вложение в будущее, то есть отдача от нее не будет мгновенной. Тогда может рекламой стимулировать растущий тариф? <br>На основе нашего исследования может быть принято обоснованное решение по рекламе тарифа, это повышает ценность нашей работы и наш авторитет, как профессионала. И это повод и зарплату поднять. 😄</font>"
   ]
  },
  {
   "cell_type": "markdown",
   "metadata": {},
   "source": [
    "## Проверка гипотез"
   ]
  },
  {
   "cell_type": "markdown",
   "metadata": {},
   "source": [
    "1. Средняя выручка пользователей тарифов «Ультра» и «Смарт» различаются\n",
    "\n",
    "Исходя из выражения выше, формируем нулевую и альтернаятивную гипотезы:\n",
    "\n",
    "Н0 - Средняя выручка пользователей тарифов «Ультра» и «Смарт» равны;\n",
    "Н1 - Средняя выручка пользователей тарифов «Ультра» и «Смарт» различаются\n",
    "\n",
    "Проверку нулевой гипотезы проведем с помощью теста ttest_ind с учетом разных дисперсий, т.к. имеем две генеральные независящие друг от друга совокупности."
   ]
  },
  {
   "cell_type": "markdown",
   "metadata": {},
   "source": [
    "<font color='DarkBlue'><b>Комментарий ревьюера</b></font><br>\n",
    "<font color='DarkGreen'>👌 Хорошо, правильно сформулированы гипотезы.</font>"
   ]
  },
  {
   "cell_type": "code",
   "execution_count": 22,
   "metadata": {},
   "outputs": [
    {
     "name": "stdout",
     "output_type": "stream",
     "text": [
      "p-значение: 4.2606313931076085e-250\n",
      "Отвергаем нулевую гипотезу\n"
     ]
    }
   ],
   "source": [
    "alpha = 0.05\n",
    "results = st.ttest_ind(\n",
    "    df[df['tariff'] == 'ultra']['income'], \n",
    "    df[df['tariff'] == 'smart']['income'],\n",
    "    equal_var=False)\n",
    "print('p-значение:', results.pvalue)\n",
    "\n",
    "if results.pvalue < alpha:\n",
    "    print(\"Отвергаем нулевую гипотезу\")\n",
    "else:\n",
    "    print(\"Не получилось отвергнуть нулевую гипотезу\") "
   ]
  },
  {
   "cell_type": "markdown",
   "metadata": {},
   "source": [
    "Значит средняя выручка пользователей тарифов «Ультра» и «Смарт» различаются"
   ]
  },
  {
   "cell_type": "markdown",
   "metadata": {},
   "source": [
    "2. Средняя выручка пользователей из Москвы отличается от выручки пользователей из других регионов\n",
    "Исходя из выражения выше, формируем нулевую и альтернаятивную гипотезы:\n",
    "\n",
    "Н0 - Средняя выручка пользователей из Москвы и выручка пользователей из других регионов равны;\n",
    "Н1 - Средняя выручка пользователей из Москвы отличается от выручки пользователей из других регионов\n",
    "\n",
    "Проверку нулевой гипотезы проведем с помощью теста ttest_ind с учетом разных дисперсий, т.к. имеем две генеральные независящие друг от друга совокупности."
   ]
  },
  {
   "cell_type": "code",
   "execution_count": 23,
   "metadata": {},
   "outputs": [
    {
     "name": "stdout",
     "output_type": "stream",
     "text": [
      "p-значение: 0.5257376663729298\n",
      "Не получилось отвергнуть нулевую гипотезу\n"
     ]
    }
   ],
   "source": [
    "alpha = 0.05\n",
    "results = st.ttest_ind(\n",
    "    df[df['city'] == 'Москва']['income'], \n",
    "    df[df['city'] != 'Москва']['income'],\n",
    "    equal_var=False)\n",
    "print('p-значение:', results.pvalue)\n",
    "\n",
    "if results.pvalue < alpha:\n",
    "    print(\"Отвергаем нулевую гипотезу\")\n",
    "else:\n",
    "    print(\"Не получилось отвергнуть нулевую гипотезу\") "
   ]
  },
  {
   "cell_type": "markdown",
   "metadata": {},
   "source": [
    "Значит средняя выручка пользователей из Москвы и выручка пользователей из других регионов примерно равны"
   ]
  },
  {
   "cell_type": "markdown",
   "metadata": {},
   "source": [
    "<font color='DarkBlue'><b>Комментарий ревьюера</b></font><br>\n",
    "<font color='DarkMagenta'>👉 Было бы правильным показать дополнительно средние выручки и по тарифам, и по регионам, как иллюстрации не противоречивости нашей проверки гипотез.</font>"
   ]
  },
  {
   "cell_type": "markdown",
   "metadata": {},
   "source": [
    "## Общий вывод"
   ]
  },
  {
   "cell_type": "markdown",
   "metadata": {},
   "source": [
    "Среди данных двух вариантов, явным лидером является тариф \"смарт\". Данный тариф проще в реализации (у него ниже цена, следовательно ниже порог вхождения пользователя), клиентов данного тарифа больше в 2 раза. Сам тариф на протяжении всего 2018 года приносил больше денег, чем его соперник (в среднем на 150000р. в месяц). Темп роста выручки тарифа выше."
   ]
  },
  {
   "cell_type": "markdown",
   "metadata": {},
   "source": [
    "<font color='Blue'><b>Комментарий студента</b></font><br>\n",
    "Исправил вывод под результаты"
   ]
  },
  {
   "cell_type": "markdown",
   "metadata": {},
   "source": [
    "<font color='DarkBlue'><b>Комментарий ревьюера</b></font><br>\n",
    "<font color='DarkGreen'>👌 Ну нам надо бло определить более выгоднф тариф, а не менять на третий..</font><br>\n",
    "<font color='DarkMagenta'>👉 Но явно не хватает графика динамики выручки по месяцам в разрезе тарифов. Есть ли там тренды, выручка по какому-то тарифу растет или падает? Сделаем?</font>"
   ]
  },
  {
   "cell_type": "markdown",
   "metadata": {},
   "source": [
    "<font color='DarkBlue'><b>Заключительный комментарий ревьюера</b></font><br><br>\n",
    "<font color='DarkGreen'>👌 Илья, проект очень хорошо и детально проработан. И дальше так держать!<br></font>\n",
    "<font color='Red'>🛠 А что бы еще лучше сделать проект нам надо:</font><br>\n",
    "<font color='Red'>🛠 Необходимо округлить длительность звонков до минут перед группировкой по месяцам. Исправить округление месячной длительности звонков. Проанализировать пропажу пользователей после объединения таблиц. Исправить расчет выручки. Необходимо провести анализ выручки в разрезе тарифов. <br></font>\n",
    "<font color='DarkMagenta'>👉 При исправлении ошибок и недочетов мы приобретем дополнительный опыт и навыки!</font><br>\n",
    "<font color='DarkGreen'>👌 Жду окончательный вариант! Удачи. </font>"
   ]
  },
  {
   "attachments": {
    "image.png": {
     "image/png": "[encoded data removed]"
    }
   },
   "cell_type": "markdown",
   "metadata": {},
   "source": [
    "<font color='DarkBlue'><b>Заключительный комментарий ревьюера 2</b></font><br><br>\n",
    "<font color='DarkGreen'>👌 Илья, нам удалось улучшить проект. <br>Мы научились собирать из отдельных датасетов общую таблицу для дальнейшего анализа. Делать сравнительный анализ, для чего лучше визуализацию размещать на одной координатной сетке.  Разобрались в динамике выручки. Мы молодцы! 👍<br></font>\n",
    "<font color='DarkGreen'>👌 А теперь нас ждут новые знания в новом проекте! Удачи! 😉</font>\n",
    "![image.png](attachment:image.png)"
   ]
  }
 ],
 "metadata": {
  "ExecuteTimeLog": [
   {
    "duration": 869,
    "start_time": "2022-06-28T11:23:08.648Z"
   },
   {
    "duration": 1322,
    "start_time": "2022-06-28T11:25:20.191Z"
   },
   {
    "duration": 641,
    "start_time": "2022-06-28T11:26:07.611Z"
   },
   {
    "duration": 537,
    "start_time": "2022-06-28T11:26:18.662Z"
   },
   {
    "duration": 51,
    "start_time": "2022-06-28T11:26:19.388Z"
   },
   {
    "duration": 122,
    "start_time": "2022-06-28T11:26:21.100Z"
   },
   {
    "duration": 14,
    "start_time": "2022-06-28T11:43:41.842Z"
   },
   {
    "duration": 9,
    "start_time": "2022-06-28T11:44:07.135Z"
   },
   {
    "duration": 12,
    "start_time": "2022-06-28T11:46:49.560Z"
   },
   {
    "duration": 27,
    "start_time": "2022-06-28T11:47:12.383Z"
   },
   {
    "duration": 88,
    "start_time": "2022-06-28T11:48:05.879Z"
   },
   {
    "duration": 113,
    "start_time": "2022-06-28T11:48:10.084Z"
   },
   {
    "duration": 125,
    "start_time": "2022-06-28T11:48:20.639Z"
   },
   {
    "duration": 10,
    "start_time": "2022-06-28T11:48:25.502Z"
   },
   {
    "duration": 10,
    "start_time": "2022-06-28T11:48:27.742Z"
   },
   {
    "duration": 123,
    "start_time": "2022-06-28T11:48:33.110Z"
   },
   {
    "duration": 350,
    "start_time": "2022-06-28T11:48:47.000Z"
   },
   {
    "duration": 239,
    "start_time": "2022-06-28T11:49:04.654Z"
   },
   {
    "duration": 234,
    "start_time": "2022-06-28T11:49:17.086Z"
   },
   {
    "duration": 258,
    "start_time": "2022-06-28T11:49:19.718Z"
   },
   {
    "duration": 234,
    "start_time": "2022-06-28T11:49:21.022Z"
   },
   {
    "duration": 9,
    "start_time": "2022-06-28T11:50:53.469Z"
   },
   {
    "duration": 9,
    "start_time": "2022-06-28T11:51:00.285Z"
   },
   {
    "duration": 5,
    "start_time": "2022-06-28T11:51:03.133Z"
   },
   {
    "duration": 8,
    "start_time": "2022-06-28T11:51:15.197Z"
   },
   {
    "duration": 40,
    "start_time": "2022-06-28T12:02:05.035Z"
   },
   {
    "duration": 9,
    "start_time": "2022-06-28T12:02:30.138Z"
   },
   {
    "duration": 14,
    "start_time": "2022-06-28T12:02:42.219Z"
   },
   {
    "duration": 4,
    "start_time": "2022-06-28T12:02:49.105Z"
   },
   {
    "duration": 402,
    "start_time": "2022-06-28T12:02:49.297Z"
   },
   {
    "duration": 35,
    "start_time": "2022-06-28T12:02:49.701Z"
   },
   {
    "duration": 75,
    "start_time": "2022-06-28T12:02:49.794Z"
   },
   {
    "duration": 21,
    "start_time": "2022-06-28T12:02:50.386Z"
   },
   {
    "duration": 225,
    "start_time": "2022-06-28T12:02:51.226Z"
   },
   {
    "duration": 7,
    "start_time": "2022-06-28T12:02:52.042Z"
   },
   {
    "duration": 13,
    "start_time": "2022-06-28T12:02:54.868Z"
   },
   {
    "duration": 8,
    "start_time": "2022-06-28T12:03:07.963Z"
   },
   {
    "duration": 709,
    "start_time": "2022-07-04T10:47:02.601Z"
   },
   {
    "duration": 1238,
    "start_time": "2022-07-04T10:47:03.312Z"
   },
   {
    "duration": 28,
    "start_time": "2022-07-04T10:47:04.553Z"
   },
   {
    "duration": 61,
    "start_time": "2022-07-04T10:47:12.432Z"
   },
   {
    "duration": 16,
    "start_time": "2022-07-04T10:47:19.519Z"
   },
   {
    "duration": 190,
    "start_time": "2022-07-04T10:47:23.462Z"
   },
   {
    "duration": 6,
    "start_time": "2022-07-04T10:47:27.126Z"
   },
   {
    "duration": 9,
    "start_time": "2022-07-04T10:47:36.214Z"
   },
   {
    "duration": 62,
    "start_time": "2022-07-04T10:54:28.013Z"
   },
   {
    "duration": 7,
    "start_time": "2022-07-04T10:54:49.046Z"
   },
   {
    "duration": 8,
    "start_time": "2022-07-04T10:55:12.038Z"
   },
   {
    "duration": 592,
    "start_time": "2022-07-04T10:55:19.693Z"
   },
   {
    "duration": 28,
    "start_time": "2022-07-04T10:55:29.614Z"
   },
   {
    "duration": 42,
    "start_time": "2022-07-04T10:55:41.166Z"
   },
   {
    "duration": 2,
    "start_time": "2022-07-04T10:56:00.397Z"
   },
   {
    "duration": 339,
    "start_time": "2022-07-04T10:56:00.908Z"
   },
   {
    "duration": 25,
    "start_time": "2022-07-04T10:56:01.248Z"
   },
   {
    "duration": 66,
    "start_time": "2022-07-04T10:56:01.274Z"
   },
   {
    "duration": 13,
    "start_time": "2022-07-04T10:56:01.342Z"
   },
   {
    "duration": 192,
    "start_time": "2022-07-04T10:56:01.356Z"
   },
   {
    "duration": 4,
    "start_time": "2022-07-04T10:56:01.550Z"
   },
   {
    "duration": 21,
    "start_time": "2022-07-04T10:56:01.555Z"
   },
   {
    "duration": 44,
    "start_time": "2022-07-04T10:56:01.577Z"
   },
   {
    "duration": 8,
    "start_time": "2022-07-04T11:09:47.206Z"
   },
   {
    "duration": 7,
    "start_time": "2022-07-04T11:09:54.860Z"
   },
   {
    "duration": 9,
    "start_time": "2022-07-04T11:10:20.806Z"
   },
   {
    "duration": 35,
    "start_time": "2022-07-04T11:10:55.096Z"
   },
   {
    "duration": 37,
    "start_time": "2022-07-04T11:12:24.391Z"
   },
   {
    "duration": 37,
    "start_time": "2022-07-04T11:12:53.204Z"
   },
   {
    "duration": 35,
    "start_time": "2022-07-04T11:13:08.836Z"
   },
   {
    "duration": 42,
    "start_time": "2022-07-04T11:13:24.899Z"
   },
   {
    "duration": 40,
    "start_time": "2022-07-04T11:13:31.412Z"
   },
   {
    "duration": 40,
    "start_time": "2022-07-04T11:13:44.314Z"
   },
   {
    "duration": 35,
    "start_time": "2022-07-04T11:14:01.627Z"
   },
   {
    "duration": 18,
    "start_time": "2022-07-04T11:14:05.895Z"
   },
   {
    "duration": 2,
    "start_time": "2022-07-04T11:14:15.623Z"
   },
   {
    "duration": 336,
    "start_time": "2022-07-04T11:14:16.115Z"
   },
   {
    "duration": 26,
    "start_time": "2022-07-04T11:14:16.453Z"
   },
   {
    "duration": 58,
    "start_time": "2022-07-04T11:14:16.480Z"
   },
   {
    "duration": 13,
    "start_time": "2022-07-04T11:14:16.540Z"
   },
   {
    "duration": 195,
    "start_time": "2022-07-04T11:14:16.554Z"
   },
   {
    "duration": 4,
    "start_time": "2022-07-04T11:14:16.751Z"
   },
   {
    "duration": 10,
    "start_time": "2022-07-04T11:14:16.757Z"
   },
   {
    "duration": 24,
    "start_time": "2022-07-04T11:14:16.768Z"
   },
   {
    "duration": 47,
    "start_time": "2022-07-04T11:14:16.793Z"
   },
   {
    "duration": 23,
    "start_time": "2022-07-04T11:14:53.164Z"
   },
   {
    "duration": 2,
    "start_time": "2022-07-04T11:14:57.723Z"
   },
   {
    "duration": 341,
    "start_time": "2022-07-04T11:14:58.228Z"
   },
   {
    "duration": 25,
    "start_time": "2022-07-04T11:14:58.571Z"
   },
   {
    "duration": 57,
    "start_time": "2022-07-04T11:14:58.598Z"
   },
   {
    "duration": 37,
    "start_time": "2022-07-04T11:14:58.657Z"
   },
   {
    "duration": 196,
    "start_time": "2022-07-04T11:14:58.696Z"
   },
   {
    "duration": 6,
    "start_time": "2022-07-04T11:14:58.894Z"
   },
   {
    "duration": 9,
    "start_time": "2022-07-04T11:14:58.902Z"
   },
   {
    "duration": 7,
    "start_time": "2022-07-04T11:14:58.913Z"
   },
   {
    "duration": 70,
    "start_time": "2022-07-04T11:14:58.922Z"
   },
   {
    "duration": 2,
    "start_time": "2022-07-04T11:16:34.003Z"
   },
   {
    "duration": 333,
    "start_time": "2022-07-04T11:16:34.511Z"
   },
   {
    "duration": 25,
    "start_time": "2022-07-04T11:16:34.846Z"
   },
   {
    "duration": 57,
    "start_time": "2022-07-04T11:16:34.872Z"
   },
   {
    "duration": 13,
    "start_time": "2022-07-04T11:16:34.931Z"
   },
   {
    "duration": 182,
    "start_time": "2022-07-04T11:16:34.945Z"
   },
   {
    "duration": 4,
    "start_time": "2022-07-04T11:16:35.129Z"
   },
   {
    "duration": 8,
    "start_time": "2022-07-04T11:16:36.997Z"
   },
   {
    "duration": 8,
    "start_time": "2022-07-04T11:16:38.338Z"
   },
   {
    "duration": 1329,
    "start_time": "2022-07-04T11:17:35.905Z"
   },
   {
    "duration": 41,
    "start_time": "2022-07-04T11:20:36.355Z"
   },
   {
    "duration": 47,
    "start_time": "2022-07-04T11:20:49.100Z"
   },
   {
    "duration": 47,
    "start_time": "2022-07-04T11:20:59.146Z"
   },
   {
    "duration": 49,
    "start_time": "2022-07-04T11:21:28.611Z"
   },
   {
    "duration": 46,
    "start_time": "2022-07-04T11:23:11.618Z"
   },
   {
    "duration": 52,
    "start_time": "2022-07-04T11:23:44.260Z"
   },
   {
    "duration": 48,
    "start_time": "2022-07-04T11:28:45.205Z"
   },
   {
    "duration": 46,
    "start_time": "2022-07-04T11:29:14.416Z"
   },
   {
    "duration": 49,
    "start_time": "2022-07-04T11:30:57.216Z"
   },
   {
    "duration": 2,
    "start_time": "2022-07-04T11:31:00.657Z"
   },
   {
    "duration": 359,
    "start_time": "2022-07-04T11:31:01.197Z"
   },
   {
    "duration": 26,
    "start_time": "2022-07-04T11:31:01.558Z"
   },
   {
    "duration": 62,
    "start_time": "2022-07-04T11:31:01.585Z"
   },
   {
    "duration": 15,
    "start_time": "2022-07-04T11:31:01.649Z"
   },
   {
    "duration": 209,
    "start_time": "2022-07-04T11:31:01.692Z"
   },
   {
    "duration": 7,
    "start_time": "2022-07-04T11:31:01.902Z"
   },
   {
    "duration": 24,
    "start_time": "2022-07-04T11:31:01.910Z"
   },
   {
    "duration": 35,
    "start_time": "2022-07-04T11:31:01.935Z"
   },
   {
    "duration": 65,
    "start_time": "2022-07-04T11:31:01.971Z"
   },
   {
    "duration": 51,
    "start_time": "2022-07-04T11:32:29.442Z"
   },
   {
    "duration": 63,
    "start_time": "2022-07-04T11:34:52.120Z"
   },
   {
    "duration": 548,
    "start_time": "2022-07-04T11:36:26.864Z"
   },
   {
    "duration": 49,
    "start_time": "2022-07-04T11:37:02.604Z"
   },
   {
    "duration": 60,
    "start_time": "2022-07-04T11:37:05.804Z"
   },
   {
    "duration": 63,
    "start_time": "2022-07-04T11:37:28.208Z"
   },
   {
    "duration": 54,
    "start_time": "2022-07-04T11:37:32.705Z"
   },
   {
    "duration": 48,
    "start_time": "2022-07-04T11:37:41.432Z"
   },
   {
    "duration": 43,
    "start_time": "2022-07-04T11:38:02.102Z"
   },
   {
    "duration": 43,
    "start_time": "2022-07-04T11:38:44.108Z"
   },
   {
    "duration": 41,
    "start_time": "2022-07-04T11:38:56.301Z"
   },
   {
    "duration": 88,
    "start_time": "2022-07-04T11:39:36.959Z"
   },
   {
    "duration": 55,
    "start_time": "2022-07-04T11:39:52.926Z"
   },
   {
    "duration": 2,
    "start_time": "2022-07-04T11:40:50.417Z"
   },
   {
    "duration": 358,
    "start_time": "2022-07-04T11:40:50.916Z"
   },
   {
    "duration": 27,
    "start_time": "2022-07-04T11:40:51.275Z"
   },
   {
    "duration": 61,
    "start_time": "2022-07-04T11:40:51.304Z"
   },
   {
    "duration": 46,
    "start_time": "2022-07-04T11:40:51.366Z"
   },
   {
    "duration": 178,
    "start_time": "2022-07-04T11:40:51.413Z"
   },
   {
    "duration": 6,
    "start_time": "2022-07-04T11:40:51.593Z"
   },
   {
    "duration": 8,
    "start_time": "2022-07-04T11:40:54.632Z"
   },
   {
    "duration": 8,
    "start_time": "2022-07-04T11:40:54.662Z"
   },
   {
    "duration": 61,
    "start_time": "2022-07-04T11:40:54.729Z"
   },
   {
    "duration": 43,
    "start_time": "2022-07-04T11:40:54.813Z"
   },
   {
    "duration": 50,
    "start_time": "2022-07-04T11:40:54.867Z"
   },
   {
    "duration": 1401,
    "start_time": "2022-07-04T11:47:29.165Z"
   },
   {
    "duration": 100,
    "start_time": "2022-07-04T12:10:07.109Z"
   },
   {
    "duration": 1254,
    "start_time": "2022-07-04T12:10:11.961Z"
   },
   {
    "duration": 11,
    "start_time": "2022-07-04T12:10:36.017Z"
   },
   {
    "duration": 12,
    "start_time": "2022-07-04T12:11:21.464Z"
   },
   {
    "duration": 15,
    "start_time": "2022-07-04T12:11:46.457Z"
   },
   {
    "duration": 16,
    "start_time": "2022-07-04T12:12:27.665Z"
   },
   {
    "duration": 1291,
    "start_time": "2022-07-04T12:14:01.345Z"
   },
   {
    "duration": 31,
    "start_time": "2022-07-04T12:14:09.208Z"
   },
   {
    "duration": 18,
    "start_time": "2022-07-04T12:15:34.996Z"
   },
   {
    "duration": 17,
    "start_time": "2022-07-04T12:15:49.032Z"
   },
   {
    "duration": 21,
    "start_time": "2022-07-04T12:16:04.240Z"
   },
   {
    "duration": 29,
    "start_time": "2022-07-04T12:16:16.696Z"
   },
   {
    "duration": 26,
    "start_time": "2022-07-04T12:17:42.096Z"
   },
   {
    "duration": 90,
    "start_time": "2022-07-04T12:24:38.911Z"
   },
   {
    "duration": 5,
    "start_time": "2022-07-04T12:32:07.096Z"
   },
   {
    "duration": 361,
    "start_time": "2022-07-04T12:32:07.605Z"
   },
   {
    "duration": 25,
    "start_time": "2022-07-04T12:32:07.968Z"
   },
   {
    "duration": 59,
    "start_time": "2022-07-04T12:32:07.995Z"
   },
   {
    "duration": 36,
    "start_time": "2022-07-04T12:32:08.056Z"
   },
   {
    "duration": 178,
    "start_time": "2022-07-04T12:32:08.093Z"
   },
   {
    "duration": 19,
    "start_time": "2022-07-04T12:32:08.273Z"
   },
   {
    "duration": 9,
    "start_time": "2022-07-04T12:32:08.294Z"
   },
   {
    "duration": 7,
    "start_time": "2022-07-04T12:32:08.305Z"
   },
   {
    "duration": 63,
    "start_time": "2022-07-04T12:32:08.313Z"
   },
   {
    "duration": 45,
    "start_time": "2022-07-04T12:32:09.656Z"
   },
   {
    "duration": 52,
    "start_time": "2022-07-04T12:32:10.725Z"
   },
   {
    "duration": 27,
    "start_time": "2022-07-04T12:32:11.669Z"
   },
   {
    "duration": 1284,
    "start_time": "2022-07-04T12:32:11.907Z"
   },
   {
    "duration": 3986,
    "start_time": "2022-07-04T12:35:32.520Z"
   },
   {
    "duration": 1616,
    "start_time": "2022-07-04T12:36:24.270Z"
   },
   {
    "duration": 1448,
    "start_time": "2022-07-04T12:36:56.104Z"
   },
   {
    "duration": 85,
    "start_time": "2022-07-04T12:39:02.060Z"
   },
   {
    "duration": 93,
    "start_time": "2022-07-04T12:39:13.415Z"
   },
   {
    "duration": 96,
    "start_time": "2022-07-04T12:39:22.653Z"
   },
   {
    "duration": 99,
    "start_time": "2022-07-04T12:39:33.119Z"
   },
   {
    "duration": 107,
    "start_time": "2022-07-04T12:39:43.268Z"
   },
   {
    "duration": 3730,
    "start_time": "2022-07-04T12:44:30.803Z"
   },
   {
    "duration": 369,
    "start_time": "2022-07-04T12:44:42.135Z"
   },
   {
    "duration": 465,
    "start_time": "2022-07-04T12:44:51.367Z"
   },
   {
    "duration": 187,
    "start_time": "2022-07-04T12:45:02.951Z"
   },
   {
    "duration": 212,
    "start_time": "2022-07-04T12:46:43.913Z"
   },
   {
    "duration": 193,
    "start_time": "2022-07-04T12:46:49.511Z"
   },
   {
    "duration": 200,
    "start_time": "2022-07-04T12:52:47.732Z"
   },
   {
    "duration": 104,
    "start_time": "2022-07-04T12:53:14.698Z"
   },
   {
    "duration": 101,
    "start_time": "2022-07-04T12:53:17.291Z"
   },
   {
    "duration": 119,
    "start_time": "2022-07-04T12:53:30.819Z"
   },
   {
    "duration": 109,
    "start_time": "2022-07-04T12:53:43.161Z"
   },
   {
    "duration": 98,
    "start_time": "2022-07-04T12:53:56.219Z"
   },
   {
    "duration": 3,
    "start_time": "2022-07-04T12:55:30.297Z"
   },
   {
    "duration": 430,
    "start_time": "2022-07-04T12:55:30.329Z"
   },
   {
    "duration": 40,
    "start_time": "2022-07-04T12:55:30.762Z"
   },
   {
    "duration": 106,
    "start_time": "2022-07-04T12:55:30.804Z"
   },
   {
    "duration": 19,
    "start_time": "2022-07-04T12:55:30.912Z"
   },
   {
    "duration": 260,
    "start_time": "2022-07-04T12:55:30.934Z"
   },
   {
    "duration": 8,
    "start_time": "2022-07-04T12:55:31.196Z"
   },
   {
    "duration": 16,
    "start_time": "2022-07-04T12:55:31.206Z"
   },
   {
    "duration": 24,
    "start_time": "2022-07-04T12:55:31.223Z"
   },
   {
    "duration": 117,
    "start_time": "2022-07-04T12:55:31.249Z"
   },
   {
    "duration": 69,
    "start_time": "2022-07-04T12:55:31.370Z"
   },
   {
    "duration": 77,
    "start_time": "2022-07-04T12:55:31.441Z"
   },
   {
    "duration": 38,
    "start_time": "2022-07-04T12:55:31.730Z"
   },
   {
    "duration": 111,
    "start_time": "2022-07-04T12:55:31.913Z"
   },
   {
    "duration": 10,
    "start_time": "2022-07-04T12:57:59.713Z"
   },
   {
    "duration": 8,
    "start_time": "2022-07-04T12:58:00.223Z"
   },
   {
    "duration": 62,
    "start_time": "2022-07-04T12:58:00.291Z"
   },
   {
    "duration": 44,
    "start_time": "2022-07-04T12:58:00.368Z"
   },
   {
    "duration": 49,
    "start_time": "2022-07-04T12:58:00.424Z"
   },
   {
    "duration": 24,
    "start_time": "2022-07-04T12:58:00.491Z"
   },
   {
    "duration": 103,
    "start_time": "2022-07-04T12:58:00.518Z"
   },
   {
    "duration": 2,
    "start_time": "2022-07-04T12:58:03.008Z"
   },
   {
    "duration": 345,
    "start_time": "2022-07-04T12:58:03.039Z"
   },
   {
    "duration": 27,
    "start_time": "2022-07-04T12:58:03.385Z"
   },
   {
    "duration": 85,
    "start_time": "2022-07-04T12:58:03.414Z"
   },
   {
    "duration": 13,
    "start_time": "2022-07-04T12:58:03.501Z"
   },
   {
    "duration": 211,
    "start_time": "2022-07-04T12:58:03.515Z"
   },
   {
    "duration": 4,
    "start_time": "2022-07-04T12:58:03.728Z"
   },
   {
    "duration": 7,
    "start_time": "2022-07-04T12:58:03.734Z"
   },
   {
    "duration": 7,
    "start_time": "2022-07-04T12:58:03.743Z"
   },
   {
    "duration": 89,
    "start_time": "2022-07-04T12:58:03.752Z"
   },
   {
    "duration": 58,
    "start_time": "2022-07-04T12:58:03.843Z"
   },
   {
    "duration": 48,
    "start_time": "2022-07-04T12:58:03.902Z"
   },
   {
    "duration": 44,
    "start_time": "2022-07-04T12:58:03.952Z"
   },
   {
    "duration": 105,
    "start_time": "2022-07-04T12:58:03.997Z"
   },
   {
    "duration": 12,
    "start_time": "2022-07-04T13:40:37.837Z"
   },
   {
    "duration": 83,
    "start_time": "2022-07-04T13:41:23.741Z"
   },
   {
    "duration": 13,
    "start_time": "2022-07-04T13:41:56.149Z"
   },
   {
    "duration": 2867,
    "start_time": "2022-07-04T13:44:58.902Z"
   },
   {
    "duration": 200,
    "start_time": "2022-07-04T13:45:12.014Z"
   },
   {
    "duration": 223,
    "start_time": "2022-07-04T13:45:47.134Z"
   },
   {
    "duration": 208,
    "start_time": "2022-07-04T13:45:57.036Z"
   },
   {
    "duration": 369,
    "start_time": "2022-07-04T13:46:20.206Z"
   },
   {
    "duration": 137,
    "start_time": "2022-07-04T13:46:28.732Z"
   },
   {
    "duration": 1388,
    "start_time": "2022-07-04T13:48:41.501Z"
   },
   {
    "duration": 18,
    "start_time": "2022-07-04T13:49:16.494Z"
   },
   {
    "duration": 31,
    "start_time": "2022-07-04T13:54:17.912Z"
   },
   {
    "duration": 31,
    "start_time": "2022-07-04T13:55:13.536Z"
   },
   {
    "duration": 221,
    "start_time": "2022-07-04T13:56:37.021Z"
   },
   {
    "duration": 182,
    "start_time": "2022-07-04T13:56:45.875Z"
   },
   {
    "duration": 200,
    "start_time": "2022-07-04T13:56:54.600Z"
   },
   {
    "duration": 151,
    "start_time": "2022-07-04T13:57:42.575Z"
   },
   {
    "duration": 139,
    "start_time": "2022-07-04T13:58:00.362Z"
   },
   {
    "duration": 146,
    "start_time": "2022-07-04T13:58:23.774Z"
   },
   {
    "duration": 124,
    "start_time": "2022-07-04T13:58:36.890Z"
   },
   {
    "duration": 221,
    "start_time": "2022-07-04T13:58:41.962Z"
   },
   {
    "duration": 375,
    "start_time": "2022-07-04T14:01:39.284Z"
   },
   {
    "duration": 7,
    "start_time": "2022-07-04T14:02:49.963Z"
   },
   {
    "duration": 6,
    "start_time": "2022-07-04T14:04:32.349Z"
   },
   {
    "duration": 7,
    "start_time": "2022-07-04T14:04:42.080Z"
   },
   {
    "duration": 6,
    "start_time": "2022-07-04T14:04:45.704Z"
   },
   {
    "duration": 7,
    "start_time": "2022-07-04T14:14:09.511Z"
   },
   {
    "duration": 29,
    "start_time": "2022-07-04T14:24:01.030Z"
   },
   {
    "duration": 12,
    "start_time": "2022-07-04T14:24:42.783Z"
   },
   {
    "duration": 80,
    "start_time": "2022-07-04T14:25:19.338Z"
   },
   {
    "duration": 490,
    "start_time": "2022-07-04T14:25:30.959Z"
   },
   {
    "duration": 534,
    "start_time": "2022-07-04T14:25:43.374Z"
   },
   {
    "duration": 13,
    "start_time": "2022-07-04T14:29:01.083Z"
   },
   {
    "duration": 1579,
    "start_time": "2022-07-04T14:29:19.789Z"
   },
   {
    "duration": 11759,
    "start_time": "2022-07-04T14:29:42.395Z"
   },
   {
    "duration": 449,
    "start_time": "2022-07-04T14:37:41.525Z"
   },
   {
    "duration": 143,
    "start_time": "2022-07-04T14:38:13.028Z"
   },
   {
    "duration": 152,
    "start_time": "2022-07-04T14:38:30.382Z"
   },
   {
    "duration": 133,
    "start_time": "2022-07-04T14:40:46.947Z"
   },
   {
    "duration": 135,
    "start_time": "2022-07-04T14:40:48.172Z"
   },
   {
    "duration": 158,
    "start_time": "2022-07-04T14:40:50.202Z"
   },
   {
    "duration": 3,
    "start_time": "2022-07-04T14:40:53.332Z"
   },
   {
    "duration": 349,
    "start_time": "2022-07-04T14:40:53.365Z"
   },
   {
    "duration": 28,
    "start_time": "2022-07-04T14:40:53.716Z"
   },
   {
    "duration": 58,
    "start_time": "2022-07-04T14:40:53.745Z"
   },
   {
    "duration": 14,
    "start_time": "2022-07-04T14:40:53.805Z"
   },
   {
    "duration": 186,
    "start_time": "2022-07-04T14:40:53.820Z"
   },
   {
    "duration": 5,
    "start_time": "2022-07-04T14:40:54.009Z"
   },
   {
    "duration": 7,
    "start_time": "2022-07-04T14:40:54.016Z"
   },
   {
    "duration": 7,
    "start_time": "2022-07-04T14:40:54.024Z"
   },
   {
    "duration": 88,
    "start_time": "2022-07-04T14:40:54.032Z"
   },
   {
    "duration": 46,
    "start_time": "2022-07-04T14:40:54.121Z"
   },
   {
    "duration": 63,
    "start_time": "2022-07-04T14:40:54.168Z"
   },
   {
    "duration": 24,
    "start_time": "2022-07-04T14:40:54.232Z"
   },
   {
    "duration": 106,
    "start_time": "2022-07-04T14:40:54.258Z"
   },
   {
    "duration": 40,
    "start_time": "2022-07-04T14:40:54.366Z"
   },
   {
    "duration": 148,
    "start_time": "2022-07-04T14:40:54.407Z"
   },
   {
    "duration": 140,
    "start_time": "2022-07-04T14:40:54.556Z"
   },
   {
    "duration": 144,
    "start_time": "2022-07-04T14:40:54.698Z"
   },
   {
    "duration": 7,
    "start_time": "2022-07-04T14:40:54.843Z"
   },
   {
    "duration": 8,
    "start_time": "2022-07-04T14:40:54.851Z"
   },
   {
    "duration": 161,
    "start_time": "2022-07-04T14:44:43.872Z"
   },
   {
    "duration": 166,
    "start_time": "2022-07-04T14:44:54.568Z"
   },
   {
    "duration": 882,
    "start_time": "2022-07-04T14:45:11.233Z"
   },
   {
    "duration": 756,
    "start_time": "2022-07-04T14:54:33.570Z"
   },
   {
    "duration": 153,
    "start_time": "2022-07-04T14:54:42.273Z"
   },
   {
    "duration": 8,
    "start_time": "2022-07-04T15:08:29.641Z"
   },
   {
    "duration": 13,
    "start_time": "2022-07-04T15:09:45.682Z"
   },
   {
    "duration": 7,
    "start_time": "2022-07-04T15:09:55.002Z"
   },
   {
    "duration": 12,
    "start_time": "2022-07-04T15:10:43.922Z"
   },
   {
    "duration": 10,
    "start_time": "2022-07-04T15:10:57.266Z"
   },
   {
    "duration": 11,
    "start_time": "2022-07-04T15:11:26.810Z"
   },
   {
    "duration": 9,
    "start_time": "2022-07-04T15:11:33.410Z"
   },
   {
    "duration": 3,
    "start_time": "2022-07-04T15:27:54.844Z"
   },
   {
    "duration": 339,
    "start_time": "2022-07-04T15:27:55.349Z"
   },
   {
    "duration": 25,
    "start_time": "2022-07-04T15:27:55.689Z"
   },
   {
    "duration": 83,
    "start_time": "2022-07-04T15:27:55.715Z"
   },
   {
    "duration": 13,
    "start_time": "2022-07-04T15:27:55.800Z"
   },
   {
    "duration": 188,
    "start_time": "2022-07-04T15:27:55.814Z"
   },
   {
    "duration": 5,
    "start_time": "2022-07-04T15:27:56.003Z"
   },
   {
    "duration": 10,
    "start_time": "2022-07-04T15:27:56.009Z"
   },
   {
    "duration": 7,
    "start_time": "2022-07-04T15:27:56.021Z"
   },
   {
    "duration": 78,
    "start_time": "2022-07-04T15:27:56.029Z"
   },
   {
    "duration": 41,
    "start_time": "2022-07-04T15:27:56.108Z"
   },
   {
    "duration": 69,
    "start_time": "2022-07-04T15:27:56.150Z"
   },
   {
    "duration": 25,
    "start_time": "2022-07-04T15:27:56.221Z"
   },
   {
    "duration": 103,
    "start_time": "2022-07-04T15:27:56.247Z"
   },
   {
    "duration": 6,
    "start_time": "2022-07-04T15:27:56.352Z"
   },
   {
    "duration": 44,
    "start_time": "2022-07-04T15:27:56.359Z"
   },
   {
    "duration": 156,
    "start_time": "2022-07-04T15:27:56.404Z"
   },
   {
    "duration": 212,
    "start_time": "2022-07-04T15:27:56.561Z"
   },
   {
    "duration": 145,
    "start_time": "2022-07-04T15:27:56.775Z"
   },
   {
    "duration": 7,
    "start_time": "2022-07-04T15:27:56.922Z"
   },
   {
    "duration": 9,
    "start_time": "2022-07-04T15:27:56.931Z"
   },
   {
    "duration": 1272,
    "start_time": "2022-07-04T19:03:16.590Z"
   },
   {
    "duration": 676,
    "start_time": "2022-07-04T19:03:17.864Z"
   },
   {
    "duration": 36,
    "start_time": "2022-07-04T19:03:18.541Z"
   },
   {
    "duration": 76,
    "start_time": "2022-07-04T19:03:18.578Z"
   },
   {
    "duration": 17,
    "start_time": "2022-07-04T19:03:18.656Z"
   },
   {
    "duration": 258,
    "start_time": "2022-07-04T19:03:18.674Z"
   },
   {
    "duration": 7,
    "start_time": "2022-07-04T19:03:18.934Z"
   },
   {
    "duration": 23,
    "start_time": "2022-07-04T19:03:18.943Z"
   },
   {
    "duration": 16,
    "start_time": "2022-07-04T19:03:18.967Z"
   },
   {
    "duration": 111,
    "start_time": "2022-07-04T19:03:18.986Z"
   },
   {
    "duration": 73,
    "start_time": "2022-07-04T19:03:19.099Z"
   },
   {
    "duration": 78,
    "start_time": "2022-07-04T19:03:19.174Z"
   },
   {
    "duration": 29,
    "start_time": "2022-07-04T19:03:19.254Z"
   },
   {
    "duration": 133,
    "start_time": "2022-07-04T19:03:19.285Z"
   },
   {
    "duration": 8,
    "start_time": "2022-07-04T19:03:19.420Z"
   },
   {
    "duration": 33,
    "start_time": "2022-07-04T19:03:19.429Z"
   },
   {
    "duration": 219,
    "start_time": "2022-07-04T19:03:19.463Z"
   },
   {
    "duration": 179,
    "start_time": "2022-07-04T19:03:19.684Z"
   },
   {
    "duration": 171,
    "start_time": "2022-07-04T19:03:19.865Z"
   },
   {
    "duration": 8,
    "start_time": "2022-07-04T19:03:20.038Z"
   },
   {
    "duration": 7,
    "start_time": "2022-07-04T19:03:20.048Z"
   },
   {
    "duration": 4,
    "start_time": "2022-07-04T19:10:13.391Z"
   },
   {
    "duration": 1237,
    "start_time": "2022-07-05T09:47:05.109Z"
   },
   {
    "duration": 1344,
    "start_time": "2022-07-05T09:47:06.348Z"
   },
   {
    "duration": 31,
    "start_time": "2022-07-05T09:47:07.694Z"
   },
   {
    "duration": 65,
    "start_time": "2022-07-05T09:47:07.727Z"
   },
   {
    "duration": 15,
    "start_time": "2022-07-05T09:47:07.794Z"
   },
   {
    "duration": 219,
    "start_time": "2022-07-05T09:47:07.810Z"
   },
   {
    "duration": 5,
    "start_time": "2022-07-05T09:47:08.031Z"
   },
   {
    "duration": 9,
    "start_time": "2022-07-05T09:47:10.201Z"
   },
   {
    "duration": 8,
    "start_time": "2022-07-05T09:47:11.202Z"
   },
   {
    "duration": 567,
    "start_time": "2022-07-05T09:47:14.729Z"
   },
   {
    "duration": 70,
    "start_time": "2022-07-05T09:48:22.617Z"
   },
   {
    "duration": 10,
    "start_time": "2022-07-05T09:53:55.226Z"
   },
   {
    "duration": 2,
    "start_time": "2022-07-05T09:54:02.003Z"
   },
   {
    "duration": 400,
    "start_time": "2022-07-05T09:54:02.516Z"
   },
   {
    "duration": 28,
    "start_time": "2022-07-05T09:54:02.918Z"
   },
   {
    "duration": 73,
    "start_time": "2022-07-05T09:54:02.948Z"
   },
   {
    "duration": 38,
    "start_time": "2022-07-05T09:54:03.023Z"
   },
   {
    "duration": 196,
    "start_time": "2022-07-05T09:54:03.062Z"
   },
   {
    "duration": 5,
    "start_time": "2022-07-05T09:54:03.260Z"
   },
   {
    "duration": 9,
    "start_time": "2022-07-05T09:54:03.266Z"
   },
   {
    "duration": 10,
    "start_time": "2022-07-05T09:54:03.277Z"
   },
   {
    "duration": 85,
    "start_time": "2022-07-05T09:54:03.288Z"
   },
   {
    "duration": 45,
    "start_time": "2022-07-05T09:54:03.375Z"
   },
   {
    "duration": 73,
    "start_time": "2022-07-05T09:54:03.422Z"
   },
   {
    "duration": 36,
    "start_time": "2022-07-05T09:54:03.497Z"
   },
   {
    "duration": 21,
    "start_time": "2022-07-05T09:54:03.534Z"
   },
   {
    "duration": 1269,
    "start_time": "2022-07-05T09:54:03.565Z"
   },
   {
    "duration": 0,
    "start_time": "2022-07-05T09:54:04.836Z"
   },
   {
    "duration": 0,
    "start_time": "2022-07-05T09:54:04.838Z"
   },
   {
    "duration": 0,
    "start_time": "2022-07-05T09:54:04.839Z"
   },
   {
    "duration": 0,
    "start_time": "2022-07-05T09:54:04.840Z"
   },
   {
    "duration": 0,
    "start_time": "2022-07-05T09:54:04.841Z"
   },
   {
    "duration": 0,
    "start_time": "2022-07-05T09:54:04.842Z"
   },
   {
    "duration": 0,
    "start_time": "2022-07-05T09:54:04.843Z"
   },
   {
    "duration": 1175,
    "start_time": "2022-07-05T09:56:11.034Z"
   },
   {
    "duration": 31,
    "start_time": "2022-07-05T09:56:27.695Z"
   },
   {
    "duration": 130,
    "start_time": "2022-07-05T09:56:31.113Z"
   },
   {
    "duration": 30,
    "start_time": "2022-07-05T09:58:09.002Z"
   },
   {
    "duration": 2,
    "start_time": "2022-07-05T09:59:11.675Z"
   },
   {
    "duration": 384,
    "start_time": "2022-07-05T09:59:12.186Z"
   },
   {
    "duration": 37,
    "start_time": "2022-07-05T09:59:12.572Z"
   },
   {
    "duration": 83,
    "start_time": "2022-07-05T09:59:12.611Z"
   },
   {
    "duration": 16,
    "start_time": "2022-07-05T09:59:12.696Z"
   },
   {
    "duration": 270,
    "start_time": "2022-07-05T09:59:12.715Z"
   },
   {
    "duration": 7,
    "start_time": "2022-07-05T09:59:12.987Z"
   },
   {
    "duration": 9,
    "start_time": "2022-07-05T09:59:12.996Z"
   },
   {
    "duration": 11,
    "start_time": "2022-07-05T09:59:13.008Z"
   },
   {
    "duration": 109,
    "start_time": "2022-07-05T09:59:13.020Z"
   },
   {
    "duration": 65,
    "start_time": "2022-07-05T09:59:13.131Z"
   },
   {
    "duration": 75,
    "start_time": "2022-07-05T09:59:13.198Z"
   },
   {
    "duration": 30,
    "start_time": "2022-07-05T09:59:13.275Z"
   },
   {
    "duration": 4,
    "start_time": "2022-07-05T09:59:13.307Z"
   },
   {
    "duration": 165,
    "start_time": "2022-07-05T09:59:13.313Z"
   },
   {
    "duration": 8,
    "start_time": "2022-07-05T09:59:13.480Z"
   },
   {
    "duration": 8,
    "start_time": "2022-07-05T10:04:36.993Z"
   },
   {
    "duration": 4,
    "start_time": "2022-07-05T10:07:14.872Z"
   },
   {
    "duration": 9,
    "start_time": "2022-07-05T10:08:12.003Z"
   },
   {
    "duration": 11,
    "start_time": "2022-07-05T10:09:37.671Z"
   },
   {
    "duration": 71,
    "start_time": "2022-07-05T10:09:41.090Z"
   },
   {
    "duration": 7,
    "start_time": "2022-07-05T10:09:42.841Z"
   },
   {
    "duration": 6,
    "start_time": "2022-07-05T10:09:49.298Z"
   },
   {
    "duration": 6,
    "start_time": "2022-07-05T10:13:16.312Z"
   },
   {
    "duration": 8,
    "start_time": "2022-07-05T10:13:36.137Z"
   },
   {
    "duration": 9,
    "start_time": "2022-07-05T10:14:01.682Z"
   },
   {
    "duration": 7,
    "start_time": "2022-07-05T10:14:09.578Z"
   },
   {
    "duration": 35,
    "start_time": "2022-07-05T10:15:21.727Z"
   },
   {
    "duration": 186,
    "start_time": "2022-07-05T10:15:41.031Z"
   },
   {
    "duration": 143,
    "start_time": "2022-07-05T10:15:43.022Z"
   },
   {
    "duration": 157,
    "start_time": "2022-07-05T10:15:44.471Z"
   },
   {
    "duration": 218,
    "start_time": "2022-07-05T10:18:17.903Z"
   },
   {
    "duration": 164,
    "start_time": "2022-07-05T10:19:30.013Z"
   },
   {
    "duration": 201,
    "start_time": "2022-07-05T10:19:48.581Z"
   },
   {
    "duration": 218,
    "start_time": "2022-07-05T10:20:08.669Z"
   },
   {
    "duration": 200,
    "start_time": "2022-07-05T10:20:09.778Z"
   },
   {
    "duration": 179,
    "start_time": "2022-07-05T10:20:10.667Z"
   },
   {
    "duration": 8,
    "start_time": "2022-07-05T10:20:53.279Z"
   },
   {
    "duration": 7,
    "start_time": "2022-07-05T10:20:57.189Z"
   },
   {
    "duration": 15,
    "start_time": "2022-07-05T10:23:47.580Z"
   },
   {
    "duration": 207,
    "start_time": "2022-07-05T10:24:34.686Z"
   },
   {
    "duration": 193,
    "start_time": "2022-07-05T10:24:38.817Z"
   },
   {
    "duration": 13,
    "start_time": "2022-07-05T10:24:41.586Z"
   },
   {
    "duration": 216,
    "start_time": "2022-07-05T10:25:06.186Z"
   },
   {
    "duration": 20,
    "start_time": "2022-07-05T10:26:47.084Z"
   },
   {
    "duration": 229,
    "start_time": "2022-07-05T10:27:07.802Z"
   },
   {
    "duration": 81,
    "start_time": "2022-07-05T10:28:53.019Z"
   },
   {
    "duration": 15,
    "start_time": "2022-07-05T10:28:57.479Z"
   },
   {
    "duration": 1383,
    "start_time": "2022-07-05T10:35:57.583Z"
   },
   {
    "duration": 1337,
    "start_time": "2022-07-05T10:36:26.183Z"
   },
   {
    "duration": 1671,
    "start_time": "2022-07-05T10:36:54.336Z"
   },
   {
    "duration": 159,
    "start_time": "2022-07-05T10:38:12.836Z"
   },
   {
    "duration": 4,
    "start_time": "2022-07-05T10:38:17.767Z"
   },
   {
    "duration": 6,
    "start_time": "2022-07-05T10:38:33.068Z"
   },
   {
    "duration": 228,
    "start_time": "2022-07-05T10:40:19.114Z"
   },
   {
    "duration": 154,
    "start_time": "2022-07-05T10:41:07.962Z"
   },
   {
    "duration": 216,
    "start_time": "2022-07-05T10:41:22.185Z"
   },
   {
    "duration": 173,
    "start_time": "2022-07-05T10:41:27.513Z"
   },
   {
    "duration": 139,
    "start_time": "2022-07-05T10:42:14.029Z"
   },
   {
    "duration": 1044,
    "start_time": "2022-07-05T10:43:05.234Z"
   },
   {
    "duration": 1150,
    "start_time": "2022-07-05T10:43:50.366Z"
   },
   {
    "duration": 224,
    "start_time": "2022-07-05T10:44:01.967Z"
   },
   {
    "duration": 147,
    "start_time": "2022-07-05T10:44:14.025Z"
   },
   {
    "duration": 13,
    "start_time": "2022-07-05T10:44:30.232Z"
   },
   {
    "duration": 121,
    "start_time": "2022-07-05T10:44:50.918Z"
   },
   {
    "duration": 142,
    "start_time": "2022-07-05T10:44:54.776Z"
   },
   {
    "duration": 338,
    "start_time": "2022-07-05T10:45:16.480Z"
   },
   {
    "duration": 131,
    "start_time": "2022-07-05T10:45:51.087Z"
   },
   {
    "duration": 147,
    "start_time": "2022-07-05T10:46:04.738Z"
   },
   {
    "duration": 136,
    "start_time": "2022-07-05T10:46:21.576Z"
   },
   {
    "duration": 257,
    "start_time": "2022-07-05T10:46:29.768Z"
   },
   {
    "duration": 25,
    "start_time": "2022-07-05T10:47:12.703Z"
   },
   {
    "duration": 23,
    "start_time": "2022-07-05T10:47:19.366Z"
   },
   {
    "duration": 173,
    "start_time": "2022-07-05T10:50:32.272Z"
   },
   {
    "duration": 194,
    "start_time": "2022-07-05T10:50:41.624Z"
   },
   {
    "duration": 278,
    "start_time": "2022-07-05T10:50:51.767Z"
   },
   {
    "duration": 340,
    "start_time": "2022-07-05T10:51:56.902Z"
   },
   {
    "duration": 347,
    "start_time": "2022-07-05T10:52:18.716Z"
   },
   {
    "duration": 336,
    "start_time": "2022-07-05T10:52:30.380Z"
   },
   {
    "duration": 371,
    "start_time": "2022-07-05T10:52:53.405Z"
   },
   {
    "duration": 344,
    "start_time": "2022-07-05T10:53:00.133Z"
   },
   {
    "duration": 431,
    "start_time": "2022-07-05T10:53:04.473Z"
   },
   {
    "duration": 1311,
    "start_time": "2022-07-05T10:54:40.271Z"
   },
   {
    "duration": 2,
    "start_time": "2022-07-05T10:54:50.579Z"
   },
   {
    "duration": 410,
    "start_time": "2022-07-05T10:54:50.610Z"
   },
   {
    "duration": 26,
    "start_time": "2022-07-05T10:54:51.022Z"
   },
   {
    "duration": 69,
    "start_time": "2022-07-05T10:54:51.050Z"
   },
   {
    "duration": 44,
    "start_time": "2022-07-05T10:54:51.120Z"
   },
   {
    "duration": 211,
    "start_time": "2022-07-05T10:54:51.166Z"
   },
   {
    "duration": 6,
    "start_time": "2022-07-05T10:54:51.378Z"
   },
   {
    "duration": 10,
    "start_time": "2022-07-05T10:54:51.385Z"
   },
   {
    "duration": 8,
    "start_time": "2022-07-05T10:54:51.396Z"
   },
   {
    "duration": 104,
    "start_time": "2022-07-05T10:54:51.405Z"
   },
   {
    "duration": 72,
    "start_time": "2022-07-05T10:54:51.511Z"
   },
   {
    "duration": 61,
    "start_time": "2022-07-05T10:54:51.584Z"
   },
   {
    "duration": 34,
    "start_time": "2022-07-05T10:54:51.654Z"
   },
   {
    "duration": 4,
    "start_time": "2022-07-05T10:54:51.690Z"
   },
   {
    "duration": 168,
    "start_time": "2022-07-05T10:54:51.698Z"
   },
   {
    "duration": 9,
    "start_time": "2022-07-05T10:54:51.868Z"
   },
   {
    "duration": 38,
    "start_time": "2022-07-05T10:54:51.928Z"
   },
   {
    "duration": 229,
    "start_time": "2022-07-05T10:54:52.039Z"
   },
   {
    "duration": 222,
    "start_time": "2022-07-05T10:54:52.270Z"
   },
   {
    "duration": 218,
    "start_time": "2022-07-05T10:54:52.494Z"
   },
   {
    "duration": 1427,
    "start_time": "2022-07-05T10:54:52.714Z"
   },
   {
    "duration": 86,
    "start_time": "2022-07-05T11:02:57.281Z"
   },
   {
    "duration": 81,
    "start_time": "2022-07-05T11:04:04.294Z"
   },
   {
    "duration": 1439,
    "start_time": "2022-07-05T11:07:39.544Z"
   },
   {
    "duration": 125,
    "start_time": "2022-07-05T11:08:00.565Z"
   },
   {
    "duration": 124,
    "start_time": "2022-07-05T11:15:02.839Z"
   },
   {
    "duration": 328,
    "start_time": "2022-07-05T11:15:21.151Z"
   },
   {
    "duration": 412,
    "start_time": "2022-07-05T11:16:15.711Z"
   },
   {
    "duration": 365,
    "start_time": "2022-07-05T11:16:38.711Z"
   },
   {
    "duration": 339,
    "start_time": "2022-07-05T11:17:07.736Z"
   },
   {
    "duration": 360,
    "start_time": "2022-07-05T11:17:18.567Z"
   },
   {
    "duration": 381,
    "start_time": "2022-07-05T11:17:21.441Z"
   },
   {
    "duration": 331,
    "start_time": "2022-07-05T11:19:22.719Z"
   },
   {
    "duration": 438,
    "start_time": "2022-07-05T11:19:30.066Z"
   },
   {
    "duration": 356,
    "start_time": "2022-07-05T11:19:34.728Z"
   },
   {
    "duration": 337,
    "start_time": "2022-07-05T11:19:40.493Z"
   },
   {
    "duration": 337,
    "start_time": "2022-07-05T11:21:09.847Z"
   },
   {
    "duration": 372,
    "start_time": "2022-07-05T11:21:51.698Z"
   },
   {
    "duration": 91,
    "start_time": "2022-07-05T11:22:03.194Z"
   },
   {
    "duration": 435,
    "start_time": "2022-07-05T11:22:07.365Z"
   },
   {
    "duration": 382,
    "start_time": "2022-07-05T11:22:18.568Z"
   },
   {
    "duration": 415,
    "start_time": "2022-07-05T11:22:26.070Z"
   },
   {
    "duration": 404,
    "start_time": "2022-07-05T11:22:36.007Z"
   },
   {
    "duration": 357,
    "start_time": "2022-07-05T11:25:24.610Z"
   },
   {
    "duration": 328,
    "start_time": "2022-07-05T11:26:33.265Z"
   },
   {
    "duration": 456,
    "start_time": "2022-07-05T11:26:40.029Z"
   },
   {
    "duration": 342,
    "start_time": "2022-07-05T11:27:00.766Z"
   },
   {
    "duration": 491,
    "start_time": "2022-07-05T11:28:01.739Z"
   },
   {
    "duration": 216,
    "start_time": "2022-07-05T11:28:10.850Z"
   },
   {
    "duration": 257,
    "start_time": "2022-07-05T11:28:36.531Z"
   },
   {
    "duration": 117,
    "start_time": "2022-07-05T11:28:42.116Z"
   },
   {
    "duration": 200,
    "start_time": "2022-07-05T11:28:46.763Z"
   },
   {
    "duration": 289,
    "start_time": "2022-07-05T11:28:49.592Z"
   },
   {
    "duration": 203,
    "start_time": "2022-07-05T11:29:10.768Z"
   },
   {
    "duration": 198,
    "start_time": "2022-07-05T11:29:50.407Z"
   },
   {
    "duration": 11,
    "start_time": "2022-07-05T11:31:42.439Z"
   },
   {
    "duration": 9,
    "start_time": "2022-07-05T11:32:14.002Z"
   },
   {
    "duration": 209,
    "start_time": "2022-07-05T11:32:21.411Z"
   },
   {
    "duration": 8,
    "start_time": "2022-07-05T11:32:29.302Z"
   },
   {
    "duration": 11,
    "start_time": "2022-07-05T11:32:34.423Z"
   },
   {
    "duration": 87,
    "start_time": "2022-07-05T11:32:56.698Z"
   },
   {
    "duration": 10,
    "start_time": "2022-07-05T11:33:06.398Z"
   },
   {
    "duration": 18,
    "start_time": "2022-07-05T11:34:06.679Z"
   },
   {
    "duration": 234,
    "start_time": "2022-07-05T11:34:12.439Z"
   },
   {
    "duration": 7,
    "start_time": "2022-07-05T11:34:35.502Z"
   },
   {
    "duration": 205,
    "start_time": "2022-07-05T11:34:46.764Z"
   },
   {
    "duration": 103,
    "start_time": "2022-07-05T11:41:30.612Z"
   },
   {
    "duration": 213,
    "start_time": "2022-07-05T11:41:49.380Z"
   },
   {
    "duration": 222,
    "start_time": "2022-07-05T11:42:06.539Z"
   },
   {
    "duration": 208,
    "start_time": "2022-07-05T11:42:19.019Z"
   },
   {
    "duration": 212,
    "start_time": "2022-07-05T11:42:29.251Z"
   },
   {
    "duration": 226,
    "start_time": "2022-07-05T11:43:11.582Z"
   },
   {
    "duration": 3,
    "start_time": "2022-07-05T11:45:46.201Z"
   },
   {
    "duration": 450,
    "start_time": "2022-07-05T11:45:46.248Z"
   },
   {
    "duration": 28,
    "start_time": "2022-07-05T11:45:46.702Z"
   },
   {
    "duration": 72,
    "start_time": "2022-07-05T11:45:46.732Z"
   },
   {
    "duration": 123,
    "start_time": "2022-07-05T11:45:46.807Z"
   },
   {
    "duration": 205,
    "start_time": "2022-07-05T11:45:46.932Z"
   },
   {
    "duration": 22,
    "start_time": "2022-07-05T11:45:47.139Z"
   },
   {
    "duration": 17,
    "start_time": "2022-07-05T11:45:47.162Z"
   },
   {
    "duration": 9,
    "start_time": "2022-07-05T11:45:47.181Z"
   },
   {
    "duration": 77,
    "start_time": "2022-07-05T11:45:47.192Z"
   },
   {
    "duration": 59,
    "start_time": "2022-07-05T11:45:47.271Z"
   },
   {
    "duration": 62,
    "start_time": "2022-07-05T11:45:47.331Z"
   },
   {
    "duration": 28,
    "start_time": "2022-07-05T11:45:47.395Z"
   },
   {
    "duration": 29,
    "start_time": "2022-07-05T11:45:47.425Z"
   },
   {
    "duration": 146,
    "start_time": "2022-07-05T11:45:47.455Z"
   },
   {
    "duration": 8,
    "start_time": "2022-07-05T11:45:47.603Z"
   },
   {
    "duration": 52,
    "start_time": "2022-07-05T11:45:47.612Z"
   },
   {
    "duration": 217,
    "start_time": "2022-07-05T11:45:47.684Z"
   },
   {
    "duration": 210,
    "start_time": "2022-07-05T11:45:47.903Z"
   },
   {
    "duration": 217,
    "start_time": "2022-07-05T11:45:48.115Z"
   },
   {
    "duration": 214,
    "start_time": "2022-07-05T11:45:48.334Z"
   },
   {
    "duration": 12,
    "start_time": "2022-07-05T11:45:48.552Z"
   },
   {
    "duration": 11,
    "start_time": "2022-07-05T11:45:48.569Z"
   },
   {
    "duration": 202,
    "start_time": "2022-07-05T11:46:15.360Z"
   },
   {
    "duration": 1202,
    "start_time": "2022-07-06T00:21:21.876Z"
   },
   {
    "duration": 1560,
    "start_time": "2022-07-06T00:21:23.080Z"
   },
   {
    "duration": 37,
    "start_time": "2022-07-06T00:21:24.642Z"
   },
   {
    "duration": 90,
    "start_time": "2022-07-06T00:21:24.680Z"
   },
   {
    "duration": 52,
    "start_time": "2022-07-06T00:21:24.772Z"
   },
   {
    "duration": 305,
    "start_time": "2022-07-06T00:21:24.827Z"
   },
   {
    "duration": 6,
    "start_time": "2022-07-06T00:21:25.134Z"
   },
   {
    "duration": 11,
    "start_time": "2022-07-06T00:21:25.142Z"
   },
   {
    "duration": 19,
    "start_time": "2022-07-06T00:21:25.155Z"
   },
   {
    "duration": 124,
    "start_time": "2022-07-06T00:21:25.177Z"
   },
   {
    "duration": 64,
    "start_time": "2022-07-06T00:21:25.307Z"
   },
   {
    "duration": 86,
    "start_time": "2022-07-06T00:21:25.373Z"
   },
   {
    "duration": 52,
    "start_time": "2022-07-06T00:21:25.461Z"
   },
   {
    "duration": 5,
    "start_time": "2022-07-06T00:21:25.516Z"
   },
   {
    "duration": 173,
    "start_time": "2022-07-06T00:21:25.523Z"
   },
   {
    "duration": 14,
    "start_time": "2022-07-06T00:21:25.698Z"
   },
   {
    "duration": 41,
    "start_time": "2022-07-06T00:21:25.714Z"
   },
   {
    "duration": 284,
    "start_time": "2022-07-06T00:21:25.757Z"
   },
   {
    "duration": 232,
    "start_time": "2022-07-06T00:21:26.043Z"
   },
   {
    "duration": 211,
    "start_time": "2022-07-06T00:21:26.277Z"
   },
   {
    "duration": 266,
    "start_time": "2022-07-06T00:21:26.498Z"
   },
   {
    "duration": 10,
    "start_time": "2022-07-06T00:21:26.766Z"
   },
   {
    "duration": 25,
    "start_time": "2022-07-06T00:21:26.779Z"
   },
   {
    "duration": 233,
    "start_time": "2022-07-06T00:24:07.240Z"
   },
   {
    "duration": 1962,
    "start_time": "2022-07-06T00:31:08.437Z"
   },
   {
    "duration": 319,
    "start_time": "2022-07-06T00:32:00.691Z"
   },
   {
    "duration": 439,
    "start_time": "2022-07-06T00:33:31.888Z"
   },
   {
    "duration": 280,
    "start_time": "2022-07-06T00:35:28.650Z"
   }
  ],
  "kernelspec": {
   "display_name": "Python 3 (ipykernel)",
   "language": "python",
   "name": "python3"
  },
  "language_info": {
   "codemirror_mode": {
    "name": "ipython",
    "version": 3
   },
   "file_extension": ".py",
   "mimetype": "text/x-python",
   "name": "python",
   "nbconvert_exporter": "python",
   "pygments_lexer": "ipython3",
   "version": "3.9.5"
  },
  "toc": {
   "base_numbering": 1,
   "nav_menu": {},
   "number_sections": true,
   "sideBar": true,
   "skip_h1_title": true,
   "title_cell": "Table of Contents",
   "title_sidebar": "Contents",
   "toc_cell": false,
   "toc_position": {
    "height": "calc(100% - 180px)",
    "left": "10px",
    "top": "150px",
    "width": "178.682px"
   },
   "toc_section_display": true,
   "toc_window_display": true
  }
 },
 "nbformat": 4,
 "nbformat_minor": 2
}
